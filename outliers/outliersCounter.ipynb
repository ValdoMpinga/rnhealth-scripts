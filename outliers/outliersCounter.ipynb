{
 "cells": [
  {
   "cell_type": "code",
   "execution_count": 5,
   "id": "adb0bdcd",
   "metadata": {},
   "outputs": [],
   "source": [
    "import pandas as pd\n",
    "import numpy as np"
   ]
  },
  {
   "cell_type": "code",
   "execution_count": 10,
   "id": "44836d0d",
   "metadata": {},
   "outputs": [],
   "source": [
    "imputedMeasurementsDf = pd.read_csv('../../../../Data/ProcessedData/KnnImputed/measurementsImputedByKnn.csv')"
   ]
  },
  {
   "cell_type": "code",
   "execution_count": 15,
   "id": "7bed53f2",
   "metadata": {},
   "outputs": [],
   "source": [
    "df = (imputedMeasurementsDf.drop(['day','month','hour','sensor_id'],axis = 1))"
   ]
  },
  {
   "cell_type": "code",
   "execution_count": 33,
   "id": "95459237",
   "metadata": {},
   "outputs": [
    {
     "data": {
      "text/html": [
       "<div>\n",
       "<style scoped>\n",
       "    .dataframe tbody tr th:only-of-type {\n",
       "        vertical-align: middle;\n",
       "    }\n",
       "\n",
       "    .dataframe tbody tr th {\n",
       "        vertical-align: top;\n",
       "    }\n",
       "\n",
       "    .dataframe thead th {\n",
       "        text-align: right;\n",
       "    }\n",
       "</style>\n",
       "<table border=\"1\" class=\"dataframe\">\n",
       "  <thead>\n",
       "    <tr style=\"text-align: right;\">\n",
       "      <th></th>\n",
       "      <th>T</th>\n",
       "      <th>Rn</th>\n",
       "      <th>H</th>\n",
       "      <th>P</th>\n",
       "      <th>CO2</th>\n",
       "    </tr>\n",
       "  </thead>\n",
       "  <tbody>\n",
       "    <tr>\n",
       "      <th>0</th>\n",
       "      <td>31.300000</td>\n",
       "      <td>1001.448424</td>\n",
       "      <td>44.475000</td>\n",
       "      <td>101.565847</td>\n",
       "      <td>567.750000</td>\n",
       "    </tr>\n",
       "    <tr>\n",
       "      <th>1</th>\n",
       "      <td>31.333333</td>\n",
       "      <td>588.154974</td>\n",
       "      <td>45.505556</td>\n",
       "      <td>101.632854</td>\n",
       "      <td>636.361111</td>\n",
       "    </tr>\n",
       "    <tr>\n",
       "      <th>2</th>\n",
       "      <td>31.451429</td>\n",
       "      <td>0.100000</td>\n",
       "      <td>47.145714</td>\n",
       "      <td>101.539128</td>\n",
       "      <td>734.000000</td>\n",
       "    </tr>\n",
       "    <tr>\n",
       "      <th>3</th>\n",
       "      <td>31.161765</td>\n",
       "      <td>1042.843803</td>\n",
       "      <td>36.000000</td>\n",
       "      <td>101.501998</td>\n",
       "      <td>461.529412</td>\n",
       "    </tr>\n",
       "    <tr>\n",
       "      <th>4</th>\n",
       "      <td>31.008333</td>\n",
       "      <td>1585.713833</td>\n",
       "      <td>28.436111</td>\n",
       "      <td>101.567130</td>\n",
       "      <td>400.000000</td>\n",
       "    </tr>\n",
       "    <tr>\n",
       "      <th>...</th>\n",
       "      <td>...</td>\n",
       "      <td>...</td>\n",
       "      <td>...</td>\n",
       "      <td>...</td>\n",
       "      <td>...</td>\n",
       "    </tr>\n",
       "    <tr>\n",
       "      <th>115629</th>\n",
       "      <td>29.792673</td>\n",
       "      <td>616.640000</td>\n",
       "      <td>50.156364</td>\n",
       "      <td>102.653100</td>\n",
       "      <td>97.200000</td>\n",
       "    </tr>\n",
       "    <tr>\n",
       "      <th>115630</th>\n",
       "      <td>29.951673</td>\n",
       "      <td>541.380000</td>\n",
       "      <td>48.047273</td>\n",
       "      <td>102.273400</td>\n",
       "      <td>97.800000</td>\n",
       "    </tr>\n",
       "    <tr>\n",
       "      <th>115631</th>\n",
       "      <td>30.329218</td>\n",
       "      <td>544.167273</td>\n",
       "      <td>53.847273</td>\n",
       "      <td>102.199727</td>\n",
       "      <td>97.181818</td>\n",
       "    </tr>\n",
       "    <tr>\n",
       "      <th>115632</th>\n",
       "      <td>29.511200</td>\n",
       "      <td>590.666000</td>\n",
       "      <td>44.097576</td>\n",
       "      <td>102.140000</td>\n",
       "      <td>98.100000</td>\n",
       "    </tr>\n",
       "    <tr>\n",
       "      <th>115633</th>\n",
       "      <td>30.079564</td>\n",
       "      <td>594.030000</td>\n",
       "      <td>41.082424</td>\n",
       "      <td>102.145091</td>\n",
       "      <td>98.090909</td>\n",
       "    </tr>\n",
       "  </tbody>\n",
       "</table>\n",
       "<p>115634 rows × 5 columns</p>\n",
       "</div>"
      ],
      "text/plain": [
       "                T           Rn          H           P         CO2\n",
       "0       31.300000  1001.448424  44.475000  101.565847  567.750000\n",
       "1       31.333333   588.154974  45.505556  101.632854  636.361111\n",
       "2       31.451429     0.100000  47.145714  101.539128  734.000000\n",
       "3       31.161765  1042.843803  36.000000  101.501998  461.529412\n",
       "4       31.008333  1585.713833  28.436111  101.567130  400.000000\n",
       "...           ...          ...        ...         ...         ...\n",
       "115629  29.792673   616.640000  50.156364  102.653100   97.200000\n",
       "115630  29.951673   541.380000  48.047273  102.273400   97.800000\n",
       "115631  30.329218   544.167273  53.847273  102.199727   97.181818\n",
       "115632  29.511200   590.666000  44.097576  102.140000   98.100000\n",
       "115633  30.079564   594.030000  41.082424  102.145091   98.090909\n",
       "\n",
       "[115634 rows x 5 columns]"
      ]
     },
     "execution_count": 33,
     "metadata": {},
     "output_type": "execute_result"
    }
   ],
   "source": [
    "df"
   ]
  },
  {
   "cell_type": "markdown",
   "id": "fdcd3d27",
   "metadata": {},
   "source": [
    "## Temperature"
   ]
  },
  {
   "cell_type": "code",
   "execution_count": 81,
   "id": "4a2b1359",
   "metadata": {},
   "outputs": [
    {
     "name": "stdout",
     "output_type": "stream",
     "text": [
      "Rows with valeues bellow 10ºC:  583\n",
      "Rows with valeues above 36ºC:  1451\n"
     ]
    }
   ],
   "source": [
    "bellow10 = df[df['T']<= 10].count()\n",
    "above35 = df[df['T']>= 36].count()\n",
    "print(\"Rows with valeues bellow 10ºC: \",bellow10['T'])\n",
    "print(\"Rows with valeues above 36ºC: \",above35['T'])"
   ]
  },
  {
   "cell_type": "markdown",
   "id": "af1d835e",
   "metadata": {},
   "source": [
    "## Radon"
   ]
  },
  {
   "cell_type": "code",
   "execution_count": 82,
   "id": "364e11ed",
   "metadata": {},
   "outputs": [
    {
     "name": "stdout",
     "output_type": "stream",
     "text": [
      "Values between 1600 and 3200 Bq/m3:  1485\n",
      "Values above 3200 Bq/m3:  10135\n"
     ]
    }
   ],
   "source": [
    "between1600And3200 = df[(df['Rn']>= 1600) & (df['Rn']<= 3200)].count()\n",
    "above3200 = df[df['Rn']>= 3200].count()\n",
    "print(\"Values between 1600 and 3200 Bq/m3: \",between1600And3200['Rn'])\n",
    "print(\"Values above 3200 Bq/m3: \",above3200['Rn'])"
   ]
  },
  {
   "cell_type": "markdown",
   "id": "df106848",
   "metadata": {},
   "source": [
    "## Humidity"
   ]
  },
  {
   "cell_type": "code",
   "execution_count": 83,
   "id": "22d7b979",
   "metadata": {},
   "outputs": [
    {
     "name": "stdout",
     "output_type": "stream",
     "text": [
      "Bellow 20%:  1268\n"
     ]
    }
   ],
   "source": [
    "bellow20 = df[df['H']<= 20].count()\n",
    "print(\"Bellow 20%: \",bellow20['H'])"
   ]
  },
  {
   "cell_type": "markdown",
   "id": "f4b6d4c7",
   "metadata": {},
   "source": [
    "## Pressure"
   ]
  },
  {
   "cell_type": "code",
   "execution_count": 84,
   "id": "e6385eba",
   "metadata": {},
   "outputs": [
    {
     "name": "stdout",
     "output_type": "stream",
     "text": [
      "Bellow 100kPa:  1268\n"
     ]
    }
   ],
   "source": [
    "bellow100 = df[df['P']<= 100].count()\n",
    "print(\"Bellow 100kPa: \",bellow20['P'])"
   ]
  },
  {
   "cell_type": "markdown",
   "id": "7d4a4381",
   "metadata": {},
   "source": [
    "## Carbon Dioxide"
   ]
  },
  {
   "cell_type": "code",
   "execution_count": 85,
   "id": "99bebaa7",
   "metadata": {},
   "outputs": [
    {
     "name": "stdout",
     "output_type": "stream",
     "text": [
      "Bellow 1500 ppm:  368\n"
     ]
    }
   ],
   "source": [
    "above1500 = df[df['CO2']>= 1500].count()\n",
    "print(\"Bellow 1500 ppm: \",above1500['CO2'])"
   ]
  }
 ],
 "metadata": {
  "kernelspec": {
   "display_name": "Python 3 (ipykernel)",
   "language": "python",
   "name": "python3"
  },
  "language_info": {
   "codemirror_mode": {
    "name": "ipython",
    "version": 3
   },
   "file_extension": ".py",
   "mimetype": "text/x-python",
   "name": "python",
   "nbconvert_exporter": "python",
   "pygments_lexer": "ipython3",
   "version": "3.9.12"
  }
 },
 "nbformat": 4,
 "nbformat_minor": 5
}
