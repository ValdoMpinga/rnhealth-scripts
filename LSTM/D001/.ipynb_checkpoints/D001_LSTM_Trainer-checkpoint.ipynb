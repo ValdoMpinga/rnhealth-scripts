{
 "cells": [
  {
   "cell_type": "code",
   "execution_count": 39,
   "id": "02b30f4a",
   "metadata": {},
   "outputs": [],
   "source": [
    "from tensorflow.keras.models import Sequential\n",
    "from tensorflow.keras.layers import *\n",
    "from tensorflow.keras.callbacks import ModelCheckpoint\n",
    "from tensorflow.keras.losses import MeanSquaredError\n",
    "from tensorflow.keras.metrics import RootMeanSquaredError, MeanAbsoluteError\n",
    "from tensorflow.keras.optimizers import Adam\n",
    "from tensorflow.keras.models import load_model\n",
    "from matplotlib import pyplot as plt\n",
    "from sklearn.model_selection import train_test_split\n",
    "\n",
    "import pandas as pd\n",
    "import numpy as np\n",
    "\n",
    "import absl.logging\n",
    "absl.logging.set_verbosity(absl.logging.ERROR)\n",
    "\n",
    "import sys  \n",
    "sys.path.insert(0, '../../')\n",
    "import RadonDF_Handler\n",
    "\n",
    "import os\n",
    "os.environ['KMP_DUPLICATE_LIB_OK']='True'"
   ]
  },
  {
   "cell_type": "code",
   "execution_count": 40,
   "id": "41183b43",
   "metadata": {},
   "outputs": [],
   "source": [
    "D001_df = pd.read_csv('./../../../../../Data/SensorsData/interpolated_D001_data.csv')\n",
    "D001_df = D001_df.iloc[913:]\n",
    "D001_df = pd.DataFrame(D001_df)\n",
    "D001_df['time'] =  pd.to_datetime(D001_df['time'], format='%Y-%m-%d %H:%M:%S')\n",
    "D001_df.index = D001_df['time']\n",
    "D001_df = D001_df.drop(['time'],axis = 1)"
   ]
  },
  {
   "cell_type": "code",
   "execution_count": 41,
   "id": "e5c3898b",
   "metadata": {},
   "outputs": [],
   "source": [
    "def df_to_X_y(df,hoursToPredict, windowSize):\n",
    "        hoursToPredict = hoursToPredict - 1\n",
    "        df_as_np = df.to_numpy() # converts the dataframe to a numpy array\n",
    "        #Initialized  arrays to append X and Y values \n",
    "        X = []\n",
    "        y = []\n",
    "        for i in range(len(df_as_np)):\n",
    "            if((i + hoursToPredict + windowSize)< len(df_as_np)):\n",
    "                #Takes values from i to i + win size\n",
    "                row =  [r for r in df_as_np[i:i+windowSize]]\n",
    "                X.append(row)\n",
    "                label = df_as_np[i + hoursToPredict + windowSize ][0]\n",
    "                y.append(label)\n",
    "        return np.array(X), np.array(y)"
   ]
  },
  {
   "cell_type": "code",
   "execution_count": 42,
   "id": "09a0a92d",
   "metadata": {},
   "outputs": [],
   "source": [
    "def DataHandler(hoursToPredict,windowSize):\n",
    "    X1, y1 = df_to_X_y(D001_df,hoursToPredict,windowSize)\n",
    "\n",
    "    return X1, y1"
   ]
  },
  {
   "cell_type": "code",
   "execution_count": 43,
   "id": "140fbc36",
   "metadata": {},
   "outputs": [],
   "source": [
    "plt.style.use('seaborn')"
   ]
  },
  {
   "cell_type": "code",
   "execution_count": 44,
   "id": "a2289cbe",
   "metadata": {},
   "outputs": [],
   "source": [
    "def Trainer(time,windowSize,finalWindowSize):\n",
    "    while(windowSize <= finalWindowSize):\n",
    "        model = Sequential()\n",
    "        model.add(InputLayer((windowSize, 5)))\n",
    "        model.add(LSTM(64))\n",
    "        model.add(Dense(8, 'relu'))\n",
    "        model.add(Dense(1, 'linear'))\n",
    "\n",
    "        model.summary()\n",
    "        X, y = DataHandler(time,windowSize)\n",
    "        \n",
    "        X_train, X_test, y_train, y_test = train_test_split(X, y, test_size=0.2,shuffle = False)\n",
    "        X_train, X_val, y_train, y_val = train_test_split(X_train, y_train, test_size=0.25,shuffle= False) \n",
    "\n",
    "        X_train.shape, y_train.shape, X_val.shape, y_val.shape, X_test.shape, y_test.shape\n",
    "        \n",
    "        cp1= ModelCheckpoint(str(time)+\"H_Forecast/\"+str(time)+\"H_ForecastModel_\"+str(windowSize)+\"_SizeWindow/\", save_best_only=True)\n",
    "        model.compile(loss=MeanSquaredError(), \n",
    "                   optimizer=Adam(learning_rate=0.0001), \n",
    "                   metrics=[MeanAbsoluteError()])\n",
    "    \n",
    "        model.fit(X_train, y_train, validation_data=(X_val, y_val), epochs=25, callbacks=[cp1])\n",
    "        windowSize += 1\n",
    "        print()\n",
    "        print(\"-----------------------------------------------------------------------------------------------------------\")\n",
    "        print()"
   ]
  },
  {
   "cell_type": "code",
   "execution_count": 46,
   "id": "48a92af5",
   "metadata": {},
   "outputs": [
    {
     "name": "stdout",
     "output_type": "stream",
     "text": [
      "Model: \"sequential_1\"\n",
      "_________________________________________________________________\n",
      "Layer (type)                 Output Shape              Param #   \n",
      "=================================================================\n",
      "lstm (LSTM)                  (None, 64)                17920     \n",
      "_________________________________________________________________\n",
      "dense (Dense)                (None, 8)                 520       \n",
      "_________________________________________________________________\n",
      "dense_1 (Dense)              (None, 1)                 9         \n",
      "=================================================================\n",
      "Total params: 18,449\n",
      "Trainable params: 18,449\n",
      "Non-trainable params: 0\n",
      "_________________________________________________________________\n",
      "Epoch 1/25\n",
      "161/161 [==============================] - 5s 12ms/step - loss: 437.2867 - mean_absolute_error: 20.3856 - val_loss: 210.9870 - val_mean_absolute_error: 14.4063\n",
      "INFO:tensorflow:Assets written to: 1H_Forecast/1H_ForecastModel_6_SizeWindow\\assets\n"
     ]
    },
    {
     "name": "stderr",
     "output_type": "stream",
     "text": [
      "INFO:tensorflow:Assets written to: 1H_Forecast/1H_ForecastModel_6_SizeWindow\\assets\n"
     ]
    },
    {
     "name": "stdout",
     "output_type": "stream",
     "text": [
      "Epoch 2/25\n",
      "161/161 [==============================] - 1s 6ms/step - loss: 296.1601 - mean_absolute_error: 16.6174 - val_loss: 104.4531 - val_mean_absolute_error: 9.9722\n",
      "INFO:tensorflow:Assets written to: 1H_Forecast/1H_ForecastModel_6_SizeWindow\\assets\n"
     ]
    },
    {
     "name": "stderr",
     "output_type": "stream",
     "text": [
      "INFO:tensorflow:Assets written to: 1H_Forecast/1H_ForecastModel_6_SizeWindow\\assets\n"
     ]
    },
    {
     "name": "stdout",
     "output_type": "stream",
     "text": [
      "Epoch 3/25\n",
      "161/161 [==============================] - 1s 7ms/step - loss: 147.3714 - mean_absolute_error: 11.3527 - val_loss: 32.4391 - val_mean_absolute_error: 5.0821\n",
      "INFO:tensorflow:Assets written to: 1H_Forecast/1H_ForecastModel_6_SizeWindow\\assets\n"
     ]
    },
    {
     "name": "stderr",
     "output_type": "stream",
     "text": [
      "INFO:tensorflow:Assets written to: 1H_Forecast/1H_ForecastModel_6_SizeWindow\\assets\n"
     ]
    },
    {
     "name": "stdout",
     "output_type": "stream",
     "text": [
      "Epoch 4/25\n",
      "161/161 [==============================] - 1s 6ms/step - loss: 64.3100 - mean_absolute_error: 6.8020 - val_loss: 8.1144 - val_mean_absolute_error: 2.2424\n",
      "INFO:tensorflow:Assets written to: 1H_Forecast/1H_ForecastModel_6_SizeWindow\\assets\n"
     ]
    },
    {
     "name": "stderr",
     "output_type": "stream",
     "text": [
      "INFO:tensorflow:Assets written to: 1H_Forecast/1H_ForecastModel_6_SizeWindow\\assets\n"
     ]
    },
    {
     "name": "stdout",
     "output_type": "stream",
     "text": [
      "Epoch 5/25\n",
      "161/161 [==============================] - 1s 6ms/step - loss: 30.8843 - mean_absolute_error: 3.9625 - val_loss: 8.0279 - val_mean_absolute_error: 2.4518\n",
      "INFO:tensorflow:Assets written to: 1H_Forecast/1H_ForecastModel_6_SizeWindow\\assets\n"
     ]
    },
    {
     "name": "stderr",
     "output_type": "stream",
     "text": [
      "INFO:tensorflow:Assets written to: 1H_Forecast/1H_ForecastModel_6_SizeWindow\\assets\n"
     ]
    },
    {
     "name": "stdout",
     "output_type": "stream",
     "text": [
      "Epoch 6/25\n",
      "161/161 [==============================] - 1s 6ms/step - loss: 19.4127 - mean_absolute_error: 2.8008 - val_loss: 12.2695 - val_mean_absolute_error: 3.0380\n",
      "Epoch 7/25\n",
      "161/161 [==============================] - 1s 6ms/step - loss: 16.1124 - mean_absolute_error: 2.6153 - val_loss: 14.1450 - val_mean_absolute_error: 3.2788\n",
      "Epoch 8/25\n",
      "161/161 [==============================] - 1s 6ms/step - loss: 14.6679 - mean_absolute_error: 2.5548 - val_loss: 14.8471 - val_mean_absolute_error: 3.3804\n",
      "Epoch 9/25\n",
      "161/161 [==============================] - 1s 7ms/step - loss: 13.3567 - mean_absolute_error: 2.4680 - val_loss: 13.6842 - val_mean_absolute_error: 3.2764\n",
      "Epoch 10/25\n",
      "161/161 [==============================] - 1s 7ms/step - loss: 12.0623 - mean_absolute_error: 2.3608 - val_loss: 13.8858 - val_mean_absolute_error: 3.2826\n",
      "Epoch 11/25\n",
      "161/161 [==============================] - 1s 7ms/step - loss: 11.2403 - mean_absolute_error: 2.3066 - val_loss: 14.5021 - val_mean_absolute_error: 3.3620\n",
      "Epoch 12/25\n",
      "161/161 [==============================] - 1s 7ms/step - loss: 10.2976 - mean_absolute_error: 2.2510 - val_loss: 14.4315 - val_mean_absolute_error: 3.3431\n",
      "Epoch 13/25\n",
      "161/161 [==============================] - 1s 7ms/step - loss: 9.1979 - mean_absolute_error: 2.1610 - val_loss: 13.7790 - val_mean_absolute_error: 3.2740\n",
      "Epoch 14/25\n",
      "161/161 [==============================] - 1s 6ms/step - loss: 8.4570 - mean_absolute_error: 2.0848 - val_loss: 12.5991 - val_mean_absolute_error: 3.1081\n",
      "Epoch 15/25\n",
      "161/161 [==============================] - 1s 6ms/step - loss: 7.7674 - mean_absolute_error: 2.0234 - val_loss: 12.5079 - val_mean_absolute_error: 3.1081\n",
      "Epoch 16/25\n",
      "161/161 [==============================] - 1s 6ms/step - loss: 7.1902 - mean_absolute_error: 1.9689 - val_loss: 12.4175 - val_mean_absolute_error: 3.1231\n",
      "Epoch 17/25\n",
      "161/161 [==============================] - 1s 6ms/step - loss: 6.8576 - mean_absolute_error: 1.9347 - val_loss: 11.5766 - val_mean_absolute_error: 2.9975\n",
      "Epoch 18/25\n",
      "161/161 [==============================] - 1s 7ms/step - loss: 6.3810 - mean_absolute_error: 1.8686 - val_loss: 10.5859 - val_mean_absolute_error: 2.8804\n",
      "Epoch 19/25\n",
      "161/161 [==============================] - 1s 7ms/step - loss: 5.9630 - mean_absolute_error: 1.8153 - val_loss: 10.3767 - val_mean_absolute_error: 2.8376\n",
      "Epoch 20/25\n",
      "161/161 [==============================] - 1s 7ms/step - loss: 5.7124 - mean_absolute_error: 1.7774 - val_loss: 10.6166 - val_mean_absolute_error: 2.8694\n",
      "Epoch 21/25\n",
      "161/161 [==============================] - 1s 8ms/step - loss: 5.4463 - mean_absolute_error: 1.7408 - val_loss: 10.4026 - val_mean_absolute_error: 2.8327\n",
      "Epoch 22/25\n",
      "161/161 [==============================] - 1s 8ms/step - loss: 5.2547 - mean_absolute_error: 1.7145 - val_loss: 10.3047 - val_mean_absolute_error: 2.8217\n",
      "Epoch 23/25\n",
      "161/161 [==============================] - 1s 7ms/step - loss: 5.0540 - mean_absolute_error: 1.6834 - val_loss: 10.6531 - val_mean_absolute_error: 2.8870\n",
      "Epoch 24/25\n",
      "161/161 [==============================] - 1s 7ms/step - loss: 4.8504 - mean_absolute_error: 1.6511 - val_loss: 10.3298 - val_mean_absolute_error: 2.8487\n",
      "Epoch 25/25\n",
      "161/161 [==============================] - 1s 7ms/step - loss: 4.5966 - mean_absolute_error: 1.6089 - val_loss: 10.8936 - val_mean_absolute_error: 2.9404\n",
      "\n",
      "-----------------------------------------------------------------------------------------------------------\n",
      "\n",
      "Model: \"sequential_2\"\n",
      "_________________________________________________________________\n",
      "Layer (type)                 Output Shape              Param #   \n",
      "=================================================================\n",
      "lstm_1 (LSTM)                (None, 64)                17920     \n",
      "_________________________________________________________________\n",
      "dense_2 (Dense)              (None, 8)                 520       \n",
      "_________________________________________________________________\n",
      "dense_3 (Dense)              (None, 1)                 9         \n",
      "=================================================================\n",
      "Total params: 18,449\n",
      "Trainable params: 18,449\n",
      "Non-trainable params: 0\n",
      "_________________________________________________________________\n",
      "Epoch 1/25\n",
      "161/161 [==============================] - 4s 10ms/step - loss: 524.5334 - mean_absolute_error: 22.4292 - val_loss: 313.4373 - val_mean_absolute_error: 17.6676\n",
      "INFO:tensorflow:Assets written to: 1H_Forecast/1H_ForecastModel_7_SizeWindow\\assets\n"
     ]
    },
    {
     "name": "stderr",
     "output_type": "stream",
     "text": [
      "INFO:tensorflow:Assets written to: 1H_Forecast/1H_ForecastModel_7_SizeWindow\\assets\n"
     ]
    },
    {
     "name": "stdout",
     "output_type": "stream",
     "text": [
      "Epoch 2/25\n",
      "161/161 [==============================] - 1s 7ms/step - loss: 514.1086 - mean_absolute_error: 22.2160 - val_loss: 310.5338 - val_mean_absolute_error: 17.5844\n",
      "INFO:tensorflow:Assets written to: 1H_Forecast/1H_ForecastModel_7_SizeWindow\\assets\n"
     ]
    },
    {
     "name": "stderr",
     "output_type": "stream",
     "text": [
      "INFO:tensorflow:Assets written to: 1H_Forecast/1H_ForecastModel_7_SizeWindow\\assets\n"
     ]
    },
    {
     "name": "stdout",
     "output_type": "stream",
     "text": [
      "Epoch 3/25\n",
      "161/161 [==============================] - 1s 7ms/step - loss: 499.2108 - mean_absolute_error: 21.8953 - val_loss: 283.9538 - val_mean_absolute_error: 16.7693\n",
      "INFO:tensorflow:Assets written to: 1H_Forecast/1H_ForecastModel_7_SizeWindow\\assets\n"
     ]
    },
    {
     "name": "stderr",
     "output_type": "stream",
     "text": [
      "INFO:tensorflow:Assets written to: 1H_Forecast/1H_ForecastModel_7_SizeWindow\\assets\n"
     ]
    },
    {
     "name": "stdout",
     "output_type": "stream",
     "text": [
      "Epoch 4/25\n",
      "161/161 [==============================] - 1s 6ms/step - loss: 412.8747 - mean_absolute_error: 19.8290 - val_loss: 196.4530 - val_mean_absolute_error: 13.9120\n",
      "INFO:tensorflow:Assets written to: 1H_Forecast/1H_ForecastModel_7_SizeWindow\\assets\n"
     ]
    },
    {
     "name": "stderr",
     "output_type": "stream",
     "text": [
      "INFO:tensorflow:Assets written to: 1H_Forecast/1H_ForecastModel_7_SizeWindow\\assets\n"
     ]
    },
    {
     "name": "stdout",
     "output_type": "stream",
     "text": [
      "Epoch 5/25\n",
      "161/161 [==============================] - 1s 9ms/step - loss: 292.0417 - mean_absolute_error: 16.4603 - val_loss: 110.6981 - val_mean_absolute_error: 10.3837\n",
      "INFO:tensorflow:Assets written to: 1H_Forecast/1H_ForecastModel_7_SizeWindow\\assets\n"
     ]
    },
    {
     "name": "stderr",
     "output_type": "stream",
     "text": [
      "INFO:tensorflow:Assets written to: 1H_Forecast/1H_ForecastModel_7_SizeWindow\\assets\n"
     ]
    },
    {
     "name": "stdout",
     "output_type": "stream",
     "text": [
      "Epoch 6/25\n",
      "161/161 [==============================] - 1s 7ms/step - loss: 208.8953 - mean_absolute_error: 13.6955 - val_loss: 67.7567 - val_mean_absolute_error: 8.1386\n",
      "INFO:tensorflow:Assets written to: 1H_Forecast/1H_ForecastModel_7_SizeWindow\\assets\n"
     ]
    },
    {
     "name": "stderr",
     "output_type": "stream",
     "text": [
      "INFO:tensorflow:Assets written to: 1H_Forecast/1H_ForecastModel_7_SizeWindow\\assets\n"
     ]
    },
    {
     "name": "stdout",
     "output_type": "stream",
     "text": [
      "Epoch 7/25\n",
      "161/161 [==============================] - 1s 8ms/step - loss: 156.7085 - mean_absolute_error: 11.6137 - val_loss: 36.2116 - val_mean_absolute_error: 5.8880\n",
      "INFO:tensorflow:Assets written to: 1H_Forecast/1H_ForecastModel_7_SizeWindow\\assets\n"
     ]
    },
    {
     "name": "stderr",
     "output_type": "stream",
     "text": [
      "INFO:tensorflow:Assets written to: 1H_Forecast/1H_ForecastModel_7_SizeWindow\\assets\n"
     ]
    },
    {
     "name": "stdout",
     "output_type": "stream",
     "text": [
      "Epoch 8/25\n",
      "161/161 [==============================] - 2s 12ms/step - loss: 114.6767 - mean_absolute_error: 9.6339 - val_loss: 18.9589 - val_mean_absolute_error: 4.1831\n",
      "INFO:tensorflow:Assets written to: 1H_Forecast/1H_ForecastModel_7_SizeWindow\\assets\n"
     ]
    },
    {
     "name": "stderr",
     "output_type": "stream",
     "text": [
      "INFO:tensorflow:Assets written to: 1H_Forecast/1H_ForecastModel_7_SizeWindow\\assets\n"
     ]
    },
    {
     "name": "stdout",
     "output_type": "stream",
     "text": [
      "Epoch 9/25\n",
      "161/161 [==============================] - 1s 9ms/step - loss: 84.5919 - mean_absolute_error: 7.9586 - val_loss: 7.7814 - val_mean_absolute_error: 2.5507\n",
      "INFO:tensorflow:Assets written to: 1H_Forecast/1H_ForecastModel_7_SizeWindow\\assets\n"
     ]
    },
    {
     "name": "stderr",
     "output_type": "stream",
     "text": [
      "INFO:tensorflow:Assets written to: 1H_Forecast/1H_ForecastModel_7_SizeWindow\\assets\n"
     ]
    },
    {
     "name": "stdout",
     "output_type": "stream",
     "text": [
      "Epoch 10/25\n",
      "161/161 [==============================] - 1s 7ms/step - loss: 62.1910 - mean_absolute_error: 6.3963 - val_loss: 2.5147 - val_mean_absolute_error: 1.3386\n",
      "INFO:tensorflow:Assets written to: 1H_Forecast/1H_ForecastModel_7_SizeWindow\\assets\n"
     ]
    },
    {
     "name": "stderr",
     "output_type": "stream",
     "text": [
      "INFO:tensorflow:Assets written to: 1H_Forecast/1H_ForecastModel_7_SizeWindow\\assets\n"
     ]
    },
    {
     "name": "stdout",
     "output_type": "stream",
     "text": [
      "Epoch 11/25\n",
      "161/161 [==============================] - 1s 6ms/step - loss: 47.7069 - mean_absolute_error: 5.1641 - val_loss: 1.3097 - val_mean_absolute_error: 0.8685\n",
      "INFO:tensorflow:Assets written to: 1H_Forecast/1H_ForecastModel_7_SizeWindow\\assets\n"
     ]
    },
    {
     "name": "stderr",
     "output_type": "stream",
     "text": [
      "INFO:tensorflow:Assets written to: 1H_Forecast/1H_ForecastModel_7_SizeWindow\\assets\n"
     ]
    },
    {
     "name": "stdout",
     "output_type": "stream",
     "text": [
      "Epoch 12/25\n",
      "161/161 [==============================] - 1s 6ms/step - loss: 38.0092 - mean_absolute_error: 4.1889 - val_loss: 2.3004 - val_mean_absolute_error: 1.2206\n",
      "Epoch 13/25\n",
      "161/161 [==============================] - 1s 8ms/step - loss: 31.3624 - mean_absolute_error: 3.5001 - val_loss: 4.6952 - val_mean_absolute_error: 1.9008\n",
      "Epoch 14/25\n",
      "161/161 [==============================] - 1s 7ms/step - loss: 26.9760 - mean_absolute_error: 3.0862 - val_loss: 7.8154 - val_mean_absolute_error: 2.5670\n",
      "Epoch 15/25\n",
      "161/161 [==============================] - 1s 7ms/step - loss: 24.2586 - mean_absolute_error: 2.8795 - val_loss: 11.1191 - val_mean_absolute_error: 3.1350\n",
      "Epoch 16/25\n",
      "161/161 [==============================] - 1s 8ms/step - loss: 22.6913 - mean_absolute_error: 2.8586 - val_loss: 14.1010 - val_mean_absolute_error: 3.5770\n",
      "Epoch 17/25\n",
      "161/161 [==============================] - 1s 7ms/step - loss: 21.8722 - mean_absolute_error: 2.9310 - val_loss: 16.6816 - val_mean_absolute_error: 3.9205\n",
      "Epoch 18/25\n",
      "161/161 [==============================] - 1s 7ms/step - loss: 21.4483 - mean_absolute_error: 3.0151 - val_loss: 18.6148 - val_mean_absolute_error: 4.1592\n",
      "Epoch 19/25\n",
      "161/161 [==============================] - 1s 7ms/step - loss: 21.2260 - mean_absolute_error: 3.0863 - val_loss: 19.8797 - val_mean_absolute_error: 4.3054\n",
      "Epoch 20/25\n",
      "161/161 [==============================] - 1s 6ms/step - loss: 20.9914 - mean_absolute_error: 3.1104 - val_loss: 20.4179 - val_mean_absolute_error: 4.3721\n",
      "Epoch 21/25\n",
      "161/161 [==============================] - 1s 6ms/step - loss: 20.8588 - mean_absolute_error: 3.1377 - val_loss: 21.0161 - val_mean_absolute_error: 4.4396\n",
      "Epoch 22/25\n",
      "161/161 [==============================] - 1s 7ms/step - loss: 20.7871 - mean_absolute_error: 3.1567 - val_loss: 21.4801 - val_mean_absolute_error: 4.4906\n",
      "Epoch 23/25\n",
      "161/161 [==============================] - 1s 6ms/step - loss: 20.7552 - mean_absolute_error: 3.1745 - val_loss: 20.9263 - val_mean_absolute_error: 4.4078\n",
      "Epoch 24/25\n",
      "161/161 [==============================] - 1s 6ms/step - loss: 19.9995 - mean_absolute_error: 2.9968 - val_loss: 17.8551 - val_mean_absolute_error: 4.0271\n",
      "Epoch 25/25\n",
      "161/161 [==============================] - 1s 6ms/step - loss: 19.0726 - mean_absolute_error: 2.8834 - val_loss: 18.5354 - val_mean_absolute_error: 4.1327\n",
      "\n",
      "-----------------------------------------------------------------------------------------------------------\n",
      "\n",
      "Model: \"sequential_3\"\n",
      "_________________________________________________________________\n",
      "Layer (type)                 Output Shape              Param #   \n",
      "=================================================================\n",
      "lstm_2 (LSTM)                (None, 64)                17920     \n",
      "_________________________________________________________________\n",
      "dense_4 (Dense)              (None, 8)                 520       \n",
      "_________________________________________________________________\n",
      "dense_5 (Dense)              (None, 1)                 9         \n",
      "=================================================================\n",
      "Total params: 18,449\n",
      "Trainable params: 18,449\n",
      "Non-trainable params: 0\n",
      "_________________________________________________________________\n",
      "Epoch 1/25\n",
      "161/161 [==============================] - 4s 9ms/step - loss: 497.3362 - mean_absolute_error: 21.8320 - val_loss: 279.4730 - val_mean_absolute_error: 16.6720\n",
      "INFO:tensorflow:Assets written to: 1H_Forecast/1H_ForecastModel_8_SizeWindow\\assets\n"
     ]
    },
    {
     "name": "stderr",
     "output_type": "stream",
     "text": [
      "INFO:tensorflow:Assets written to: 1H_Forecast/1H_ForecastModel_8_SizeWindow\\assets\n"
     ]
    },
    {
     "name": "stdout",
     "output_type": "stream",
     "text": [
      "Epoch 2/25\n",
      "161/161 [==============================] - 1s 7ms/step - loss: 441.0166 - mean_absolute_error: 20.4966 - val_loss: 233.5715 - val_mean_absolute_error: 15.2086\n",
      "INFO:tensorflow:Assets written to: 1H_Forecast/1H_ForecastModel_8_SizeWindow\\assets\n"
     ]
    },
    {
     "name": "stderr",
     "output_type": "stream",
     "text": [
      "INFO:tensorflow:Assets written to: 1H_Forecast/1H_ForecastModel_8_SizeWindow\\assets\n"
     ]
    },
    {
     "name": "stdout",
     "output_type": "stream",
     "text": [
      "Epoch 3/25\n",
      "161/161 [==============================] - ETA: 0s - loss: 376.9587 - mean_absolute_error: 18.89 - 1s 7ms/step - loss: 376.9587 - mean_absolute_error: 18.8950 - val_loss: 185.7863 - val_mean_absolute_error: 13.5013\n",
      "INFO:tensorflow:Assets written to: 1H_Forecast/1H_ForecastModel_8_SizeWindow\\assets\n"
     ]
    },
    {
     "name": "stderr",
     "output_type": "stream",
     "text": [
      "INFO:tensorflow:Assets written to: 1H_Forecast/1H_ForecastModel_8_SizeWindow\\assets\n"
     ]
    },
    {
     "name": "stdout",
     "output_type": "stream",
     "text": [
      "Epoch 4/25\n",
      "161/161 [==============================] - 1s 8ms/step - loss: 299.2822 - mean_absolute_error: 16.6847 - val_loss: 128.9013 - val_mean_absolute_error: 11.2349\n",
      "INFO:tensorflow:Assets written to: 1H_Forecast/1H_ForecastModel_8_SizeWindow\\assets\n"
     ]
    },
    {
     "name": "stderr",
     "output_type": "stream",
     "text": [
      "INFO:tensorflow:Assets written to: 1H_Forecast/1H_ForecastModel_8_SizeWindow\\assets\n"
     ]
    },
    {
     "name": "stdout",
     "output_type": "stream",
     "text": [
      "Epoch 5/25\n",
      "161/161 [==============================] - 1s 7ms/step - loss: 231.5522 - mean_absolute_error: 14.5132 - val_loss: 80.8570 - val_mean_absolute_error: 8.8732\n",
      "INFO:tensorflow:Assets written to: 1H_Forecast/1H_ForecastModel_8_SizeWindow\\assets\n"
     ]
    },
    {
     "name": "stderr",
     "output_type": "stream",
     "text": [
      "INFO:tensorflow:Assets written to: 1H_Forecast/1H_ForecastModel_8_SizeWindow\\assets\n"
     ]
    },
    {
     "name": "stdout",
     "output_type": "stream",
     "text": [
      "Epoch 6/25\n",
      "161/161 [==============================] - 2s 10ms/step - loss: 173.6920 - mean_absolute_error: 12.3653 - val_loss: 50.4444 - val_mean_absolute_error: 6.9862\n",
      "INFO:tensorflow:Assets written to: 1H_Forecast/1H_ForecastModel_8_SizeWindow\\assets\n"
     ]
    },
    {
     "name": "stderr",
     "output_type": "stream",
     "text": [
      "INFO:tensorflow:Assets written to: 1H_Forecast/1H_ForecastModel_8_SizeWindow\\assets\n"
     ]
    },
    {
     "name": "stdout",
     "output_type": "stream",
     "text": [
      "Epoch 7/25\n",
      "161/161 [==============================] - 1s 7ms/step - loss: 135.8627 - mean_absolute_error: 10.7268 - val_loss: 31.1018 - val_mean_absolute_error: 5.4385\n",
      "INFO:tensorflow:Assets written to: 1H_Forecast/1H_ForecastModel_8_SizeWindow\\assets\n"
     ]
    },
    {
     "name": "stderr",
     "output_type": "stream",
     "text": [
      "INFO:tensorflow:Assets written to: 1H_Forecast/1H_ForecastModel_8_SizeWindow\\assets\n"
     ]
    },
    {
     "name": "stdout",
     "output_type": "stream",
     "text": [
      "Epoch 8/25\n",
      "161/161 [==============================] - 1s 8ms/step - loss: 106.5242 - mean_absolute_error: 9.2638 - val_loss: 17.4439 - val_mean_absolute_error: 4.0029\n",
      "INFO:tensorflow:Assets written to: 1H_Forecast/1H_ForecastModel_8_SizeWindow\\assets\n"
     ]
    },
    {
     "name": "stderr",
     "output_type": "stream",
     "text": [
      "INFO:tensorflow:Assets written to: 1H_Forecast/1H_ForecastModel_8_SizeWindow\\assets\n"
     ]
    },
    {
     "name": "stdout",
     "output_type": "stream",
     "text": [
      "Epoch 9/25\n",
      "161/161 [==============================] - 1s 7ms/step - loss: 82.9380 - mean_absolute_error: 7.8895 - val_loss: 8.5779 - val_mean_absolute_error: 2.6774\n",
      "INFO:tensorflow:Assets written to: 1H_Forecast/1H_ForecastModel_8_SizeWindow\\assets\n"
     ]
    },
    {
     "name": "stderr",
     "output_type": "stream",
     "text": [
      "INFO:tensorflow:Assets written to: 1H_Forecast/1H_ForecastModel_8_SizeWindow\\assets\n"
     ]
    },
    {
     "name": "stdout",
     "output_type": "stream",
     "text": [
      "Epoch 10/25\n",
      "161/161 [==============================] - 1s 8ms/step - loss: 64.4942 - mean_absolute_error: 6.6079 - val_loss: 3.6165 - val_mean_absolute_error: 1.6267\n",
      "INFO:tensorflow:Assets written to: 1H_Forecast/1H_ForecastModel_8_SizeWindow\\assets\n"
     ]
    },
    {
     "name": "stderr",
     "output_type": "stream",
     "text": [
      "INFO:tensorflow:Assets written to: 1H_Forecast/1H_ForecastModel_8_SizeWindow\\assets\n"
     ]
    },
    {
     "name": "stdout",
     "output_type": "stream",
     "text": [
      "Epoch 11/25\n",
      "161/161 [==============================] - 1s 7ms/step - loss: 50.7695 - mean_absolute_error: 5.4771 - val_loss: 1.4989 - val_mean_absolute_error: 0.9614\n",
      "INFO:tensorflow:Assets written to: 1H_Forecast/1H_ForecastModel_8_SizeWindow\\assets\n"
     ]
    },
    {
     "name": "stderr",
     "output_type": "stream",
     "text": [
      "INFO:tensorflow:Assets written to: 1H_Forecast/1H_ForecastModel_8_SizeWindow\\assets\n"
     ]
    },
    {
     "name": "stdout",
     "output_type": "stream",
     "text": [
      "Epoch 12/25\n",
      "161/161 [==============================] - 1s 8ms/step - loss: 40.6168 - mean_absolute_error: 4.4922 - val_loss: 1.7425 - val_mean_absolute_error: 1.0339\n",
      "Epoch 13/25\n",
      "161/161 [==============================] - 2s 10ms/step - loss: 33.3431 - mean_absolute_error: 3.7349 - val_loss: 3.5123 - val_mean_absolute_error: 1.5851\n",
      "Epoch 14/25\n",
      "161/161 [==============================] - 1s 9ms/step - loss: 28.3496 - mean_absolute_error: 3.2286 - val_loss: 6.1916 - val_mean_absolute_error: 2.2274\n",
      "Epoch 15/25\n",
      "161/161 [==============================] - 1s 8ms/step - loss: 25.0876 - mean_absolute_error: 2.9473 - val_loss: 9.2597 - val_mean_absolute_error: 2.8161\n",
      "Epoch 16/25\n",
      "161/161 [==============================] - 1s 9ms/step - loss: 23.0931 - mean_absolute_error: 2.8442 - val_loss: 12.2499 - val_mean_absolute_error: 3.2984\n",
      "Epoch 17/25\n",
      "161/161 [==============================] - 1s 9ms/step - loss: 21.9162 - mean_absolute_error: 2.8709 - val_loss: 15.0500 - val_mean_absolute_error: 3.6976\n",
      "Epoch 18/25\n",
      "161/161 [==============================] - 1s 9ms/step - loss: 21.3079 - mean_absolute_error: 2.9485 - val_loss: 17.2637 - val_mean_absolute_error: 3.9851\n",
      "Epoch 19/25\n",
      "161/161 [==============================] - 1s 8ms/step - loss: 20.9883 - mean_absolute_error: 3.0313 - val_loss: 18.9650 - val_mean_absolute_error: 4.1926\n",
      "Epoch 20/25\n",
      "161/161 [==============================] - 1s 8ms/step - loss: 20.8419 - mean_absolute_error: 3.0912 - val_loss: 20.0637 - val_mean_absolute_error: 4.3200\n",
      "Epoch 21/25\n",
      "161/161 [==============================] - 1s 8ms/step - loss: 20.7388 - mean_absolute_error: 3.1317 - val_loss: 19.3090 - val_mean_absolute_error: 4.1940\n",
      "Epoch 22/25\n",
      "161/161 [==============================] - 1s 7ms/step - loss: 19.9171 - mean_absolute_error: 2.9729 - val_loss: 18.4722 - val_mean_absolute_error: 4.1200\n",
      "Epoch 23/25\n",
      "161/161 [==============================] - 1s 7ms/step - loss: 19.6227 - mean_absolute_error: 2.9965 - val_loss: 19.0194 - val_mean_absolute_error: 4.1716\n",
      "Epoch 24/25\n",
      "161/161 [==============================] - 1s 8ms/step - loss: 19.2986 - mean_absolute_error: 2.9879 - val_loss: 19.2861 - val_mean_absolute_error: 4.1826\n",
      "Epoch 25/25\n",
      "161/161 [==============================] - 1s 8ms/step - loss: 18.8700 - mean_absolute_error: 2.9514 - val_loss: 19.2088 - val_mean_absolute_error: 4.1940\n",
      "\n",
      "-----------------------------------------------------------------------------------------------------------\n",
      "\n",
      "Model: \"sequential_4\"\n",
      "_________________________________________________________________\n",
      "Layer (type)                 Output Shape              Param #   \n",
      "=================================================================\n",
      "lstm_3 (LSTM)                (None, 64)                17920     \n",
      "_________________________________________________________________\n",
      "dense_6 (Dense)              (None, 8)                 520       \n",
      "_________________________________________________________________\n",
      "dense_7 (Dense)              (None, 1)                 9         \n",
      "=================================================================\n",
      "Total params: 18,449\n",
      "Trainable params: 18,449\n",
      "Non-trainable params: 0\n",
      "_________________________________________________________________\n",
      "Epoch 1/25\n",
      "161/161 [==============================] - 4s 11ms/step - loss: 521.9518 - mean_absolute_error: 22.3931 - val_loss: 314.6928 - val_mean_absolute_error: 17.7018\n",
      "INFO:tensorflow:Assets written to: 1H_Forecast/1H_ForecastModel_9_SizeWindow\\assets\n"
     ]
    },
    {
     "name": "stderr",
     "output_type": "stream",
     "text": [
      "INFO:tensorflow:Assets written to: 1H_Forecast/1H_ForecastModel_9_SizeWindow\\assets\n"
     ]
    },
    {
     "name": "stdout",
     "output_type": "stream",
     "text": [
      "Epoch 2/25\n",
      "161/161 [==============================] - 1s 8ms/step - loss: 514.9761 - mean_absolute_error: 22.2395 - val_loss: 311.1569 - val_mean_absolute_error: 17.6018\n",
      "INFO:tensorflow:Assets written to: 1H_Forecast/1H_ForecastModel_9_SizeWindow\\assets\n"
     ]
    },
    {
     "name": "stderr",
     "output_type": "stream",
     "text": [
      "INFO:tensorflow:Assets written to: 1H_Forecast/1H_ForecastModel_9_SizeWindow\\assets\n"
     ]
    },
    {
     "name": "stdout",
     "output_type": "stream",
     "text": [
      "Epoch 3/25\n",
      "161/161 [==============================] - 1s 8ms/step - loss: 509.6502 - mean_absolute_error: 22.1159 - val_loss: 304.1635 - val_mean_absolute_error: 17.4013\n",
      "INFO:tensorflow:Assets written to: 1H_Forecast/1H_ForecastModel_9_SizeWindow\\assets\n"
     ]
    },
    {
     "name": "stderr",
     "output_type": "stream",
     "text": [
      "INFO:tensorflow:Assets written to: 1H_Forecast/1H_ForecastModel_9_SizeWindow\\assets\n"
     ]
    },
    {
     "name": "stdout",
     "output_type": "stream",
     "text": [
      "Epoch 4/25\n",
      "161/161 [==============================] - 1s 8ms/step - loss: 496.0323 - mean_absolute_error: 21.8023 - val_loss: 289.1118 - val_mean_absolute_error: 16.9621\n",
      "INFO:tensorflow:Assets written to: 1H_Forecast/1H_ForecastModel_9_SizeWindow\\assets\n"
     ]
    },
    {
     "name": "stderr",
     "output_type": "stream",
     "text": [
      "INFO:tensorflow:Assets written to: 1H_Forecast/1H_ForecastModel_9_SizeWindow\\assets\n"
     ]
    },
    {
     "name": "stdout",
     "output_type": "stream",
     "text": [
      "Epoch 5/25\n",
      "161/161 [==============================] - 1s 8ms/step - loss: 473.0945 - mean_absolute_error: 21.2664 - val_loss: 266.0591 - val_mean_absolute_error: 16.2661\n",
      "INFO:tensorflow:Assets written to: 1H_Forecast/1H_ForecastModel_9_SizeWindow\\assets\n"
     ]
    },
    {
     "name": "stderr",
     "output_type": "stream",
     "text": [
      "INFO:tensorflow:Assets written to: 1H_Forecast/1H_ForecastModel_9_SizeWindow\\assets\n"
     ]
    },
    {
     "name": "stdout",
     "output_type": "stream",
     "text": [
      "Epoch 6/25\n",
      "161/161 [==============================] - 1s 7ms/step - loss: 442.7709 - mean_absolute_error: 20.5308 - val_loss: 243.9700 - val_mean_absolute_error: 15.5736\n",
      "INFO:tensorflow:Assets written to: 1H_Forecast/1H_ForecastModel_9_SizeWindow\\assets\n"
     ]
    },
    {
     "name": "stderr",
     "output_type": "stream",
     "text": [
      "INFO:tensorflow:Assets written to: 1H_Forecast/1H_ForecastModel_9_SizeWindow\\assets\n"
     ]
    },
    {
     "name": "stdout",
     "output_type": "stream",
     "text": [
      "Epoch 7/25\n",
      "161/161 [==============================] - 1s 8ms/step - loss: 412.3653 - mean_absolute_error: 19.7750 - val_loss: 219.7860 - val_mean_absolute_error: 14.7794\n",
      "INFO:tensorflow:Assets written to: 1H_Forecast/1H_ForecastModel_9_SizeWindow\\assets\n"
     ]
    },
    {
     "name": "stderr",
     "output_type": "stream",
     "text": [
      "INFO:tensorflow:Assets written to: 1H_Forecast/1H_ForecastModel_9_SizeWindow\\assets\n"
     ]
    },
    {
     "name": "stdout",
     "output_type": "stream",
     "text": [
      "Epoch 8/25\n",
      "161/161 [==============================] - 1s 9ms/step - loss: 380.7270 - mean_absolute_error: 18.9737 - val_loss: 197.5552 - val_mean_absolute_error: 14.0069\n",
      "INFO:tensorflow:Assets written to: 1H_Forecast/1H_ForecastModel_9_SizeWindow\\assets\n"
     ]
    },
    {
     "name": "stderr",
     "output_type": "stream",
     "text": [
      "INFO:tensorflow:Assets written to: 1H_Forecast/1H_ForecastModel_9_SizeWindow\\assets\n"
     ]
    },
    {
     "name": "stdout",
     "output_type": "stream",
     "text": [
      "Epoch 9/25\n",
      "161/161 [==============================] - 1s 8ms/step - loss: 352.1154 - mean_absolute_error: 18.2006 - val_loss: 174.6913 - val_mean_absolute_error: 13.1666\n",
      "INFO:tensorflow:Assets written to: 1H_Forecast/1H_ForecastModel_9_SizeWindow\\assets\n"
     ]
    },
    {
     "name": "stderr",
     "output_type": "stream",
     "text": [
      "INFO:tensorflow:Assets written to: 1H_Forecast/1H_ForecastModel_9_SizeWindow\\assets\n"
     ]
    },
    {
     "name": "stdout",
     "output_type": "stream",
     "text": [
      "Epoch 10/25\n",
      "161/161 [==============================] - 1s 8ms/step - loss: 322.6775 - mean_absolute_error: 17.3816 - val_loss: 155.1115 - val_mean_absolute_error: 12.3978\n",
      "INFO:tensorflow:Assets written to: 1H_Forecast/1H_ForecastModel_9_SizeWindow\\assets\n"
     ]
    },
    {
     "name": "stderr",
     "output_type": "stream",
     "text": [
      "INFO:tensorflow:Assets written to: 1H_Forecast/1H_ForecastModel_9_SizeWindow\\assets\n"
     ]
    },
    {
     "name": "stdout",
     "output_type": "stream",
     "text": [
      "Epoch 11/25\n",
      "161/161 [==============================] - 1s 8ms/step - loss: 294.3049 - mean_absolute_error: 16.5440 - val_loss: 134.2015 - val_mean_absolute_error: 11.5249s: 297.8945 - mean_absol\n",
      "INFO:tensorflow:Assets written to: 1H_Forecast/1H_ForecastModel_9_SizeWindow\\assets\n"
     ]
    },
    {
     "name": "stderr",
     "output_type": "stream",
     "text": [
      "INFO:tensorflow:Assets written to: 1H_Forecast/1H_ForecastModel_9_SizeWindow\\assets\n"
     ]
    },
    {
     "name": "stdout",
     "output_type": "stream",
     "text": [
      "Epoch 12/25\n",
      "161/161 [==============================] - 1s 8ms/step - loss: 268.4494 - mean_absolute_error: 15.7381 - val_loss: 116.9730 - val_mean_absolute_error: 10.7534\n",
      "INFO:tensorflow:Assets written to: 1H_Forecast/1H_ForecastModel_9_SizeWindow\\assets\n"
     ]
    },
    {
     "name": "stderr",
     "output_type": "stream",
     "text": [
      "INFO:tensorflow:Assets written to: 1H_Forecast/1H_ForecastModel_9_SizeWindow\\assets\n"
     ]
    },
    {
     "name": "stdout",
     "output_type": "stream",
     "text": [
      "Epoch 13/25\n",
      "161/161 [==============================] - 1s 8ms/step - loss: 243.9883 - mean_absolute_error: 14.9425 - val_loss: 100.1278 - val_mean_absolute_error: 9.9398\n",
      "INFO:tensorflow:Assets written to: 1H_Forecast/1H_ForecastModel_9_SizeWindow\\assets\n"
     ]
    },
    {
     "name": "stderr",
     "output_type": "stream",
     "text": [
      "INFO:tensorflow:Assets written to: 1H_Forecast/1H_ForecastModel_9_SizeWindow\\assets\n"
     ]
    },
    {
     "name": "stdout",
     "output_type": "stream",
     "text": [
      "Epoch 14/25\n",
      "161/161 [==============================] - 1s 7ms/step - loss: 219.2498 - mean_absolute_error: 14.0985 - val_loss: 83.7919 - val_mean_absolute_error: 9.0810\n",
      "INFO:tensorflow:Assets written to: 1H_Forecast/1H_ForecastModel_9_SizeWindow\\assets\n"
     ]
    },
    {
     "name": "stderr",
     "output_type": "stream",
     "text": [
      "INFO:tensorflow:Assets written to: 1H_Forecast/1H_ForecastModel_9_SizeWindow\\assets\n"
     ]
    },
    {
     "name": "stdout",
     "output_type": "stream",
     "text": [
      "Epoch 15/25\n",
      "161/161 [==============================] - 2s 10ms/step - loss: 196.5877 - mean_absolute_error: 13.2692 - val_loss: 69.6616 - val_mean_absolute_error: 8.2656\n",
      "INFO:tensorflow:Assets written to: 1H_Forecast/1H_ForecastModel_9_SizeWindow\\assets\n"
     ]
    },
    {
     "name": "stderr",
     "output_type": "stream",
     "text": [
      "INFO:tensorflow:Assets written to: 1H_Forecast/1H_ForecastModel_9_SizeWindow\\assets\n"
     ]
    },
    {
     "name": "stdout",
     "output_type": "stream",
     "text": [
      "Epoch 16/25\n",
      "161/161 [==============================] - 1s 8ms/step - loss: 175.6217 - mean_absolute_error: 12.4527 - val_loss: 56.7320 - val_mean_absolute_error: 7.4440\n",
      "INFO:tensorflow:Assets written to: 1H_Forecast/1H_ForecastModel_9_SizeWindow\\assets\n"
     ]
    },
    {
     "name": "stderr",
     "output_type": "stream",
     "text": [
      "INFO:tensorflow:Assets written to: 1H_Forecast/1H_ForecastModel_9_SizeWindow\\assets\n"
     ]
    },
    {
     "name": "stdout",
     "output_type": "stream",
     "text": [
      "Epoch 17/25\n",
      "161/161 [==============================] - 1s 8ms/step - loss: 156.1973 - mean_absolute_error: 11.6453 - val_loss: 45.4676 - val_mean_absolute_error: 6.6449\n",
      "INFO:tensorflow:Assets written to: 1H_Forecast/1H_ForecastModel_9_SizeWindow\\assets\n"
     ]
    },
    {
     "name": "stderr",
     "output_type": "stream",
     "text": [
      "INFO:tensorflow:Assets written to: 1H_Forecast/1H_ForecastModel_9_SizeWindow\\assets\n"
     ]
    },
    {
     "name": "stdout",
     "output_type": "stream",
     "text": [
      "Epoch 18/25\n",
      "161/161 [==============================] - 1s 9ms/step - loss: 138.3478 - mean_absolute_error: 10.8522 - val_loss: 35.5745 - val_mean_absolute_error: 5.8536\n",
      "INFO:tensorflow:Assets written to: 1H_Forecast/1H_ForecastModel_9_SizeWindow\\assets\n"
     ]
    },
    {
     "name": "stderr",
     "output_type": "stream",
     "text": [
      "INFO:tensorflow:Assets written to: 1H_Forecast/1H_ForecastModel_9_SizeWindow\\assets\n"
     ]
    },
    {
     "name": "stdout",
     "output_type": "stream",
     "text": [
      "Epoch 19/25\n",
      "161/161 [==============================] - 1s 8ms/step - loss: 121.8799 - mean_absolute_error: 10.0616 - val_loss: 26.9810 - val_mean_absolute_error: 5.0671\n",
      "INFO:tensorflow:Assets written to: 1H_Forecast/1H_ForecastModel_9_SizeWindow\\assets\n"
     ]
    },
    {
     "name": "stderr",
     "output_type": "stream",
     "text": [
      "INFO:tensorflow:Assets written to: 1H_Forecast/1H_ForecastModel_9_SizeWindow\\assets\n"
     ]
    },
    {
     "name": "stdout",
     "output_type": "stream",
     "text": [
      "Epoch 20/25\n",
      "161/161 [==============================] - 1s 8ms/step - loss: 106.2155 - mean_absolute_error: 9.2521 - val_loss: 19.1530 - val_mean_absolute_error: 4.2241\n",
      "INFO:tensorflow:Assets written to: 1H_Forecast/1H_ForecastModel_9_SizeWindow\\assets\n"
     ]
    },
    {
     "name": "stderr",
     "output_type": "stream",
     "text": [
      "INFO:tensorflow:Assets written to: 1H_Forecast/1H_ForecastModel_9_SizeWindow\\assets\n"
     ]
    },
    {
     "name": "stdout",
     "output_type": "stream",
     "text": [
      "Epoch 21/25\n",
      "161/161 [==============================] - 1s 8ms/step - loss: 91.7706 - mean_absolute_error: 8.4353 - val_loss: 13.1835 - val_mean_absolute_error: 3.4457\n",
      "INFO:tensorflow:Assets written to: 1H_Forecast/1H_ForecastModel_9_SizeWindow\\assets\n"
     ]
    },
    {
     "name": "stderr",
     "output_type": "stream",
     "text": [
      "INFO:tensorflow:Assets written to: 1H_Forecast/1H_ForecastModel_9_SizeWindow\\assets\n"
     ]
    },
    {
     "name": "stdout",
     "output_type": "stream",
     "text": [
      "Epoch 22/25\n",
      "161/161 [==============================] - 1s 8ms/step - loss: 79.4287 - mean_absolute_error: 7.6725 - val_loss: 8.5562 - val_mean_absolute_error: 2.6974\n",
      "INFO:tensorflow:Assets written to: 1H_Forecast/1H_ForecastModel_9_SizeWindow\\assets\n"
     ]
    },
    {
     "name": "stderr",
     "output_type": "stream",
     "text": [
      "INFO:tensorflow:Assets written to: 1H_Forecast/1H_ForecastModel_9_SizeWindow\\assets\n"
     ]
    },
    {
     "name": "stdout",
     "output_type": "stream",
     "text": [
      "Epoch 23/25\n",
      "161/161 [==============================] - 1s 8ms/step - loss: 68.5531 - mean_absolute_error: 6.9252 - val_loss: 5.1405 - val_mean_absolute_error: 2.0150\n",
      "INFO:tensorflow:Assets written to: 1H_Forecast/1H_ForecastModel_9_SizeWindow\\assets\n"
     ]
    },
    {
     "name": "stderr",
     "output_type": "stream",
     "text": [
      "INFO:tensorflow:Assets written to: 1H_Forecast/1H_ForecastModel_9_SizeWindow\\assets\n"
     ]
    },
    {
     "name": "stdout",
     "output_type": "stream",
     "text": [
      "Epoch 24/25\n",
      "161/161 [==============================] - 1s 8ms/step - loss: 59.0323 - mean_absolute_error: 6.1979 - val_loss: 2.8571 - val_mean_absolute_error: 1.4384\n",
      "INFO:tensorflow:Assets written to: 1H_Forecast/1H_ForecastModel_9_SizeWindow\\assets\n"
     ]
    },
    {
     "name": "stderr",
     "output_type": "stream",
     "text": [
      "INFO:tensorflow:Assets written to: 1H_Forecast/1H_ForecastModel_9_SizeWindow\\assets\n"
     ]
    },
    {
     "name": "stdout",
     "output_type": "stream",
     "text": [
      "Epoch 25/25\n",
      "161/161 [==============================] - 1s 8ms/step - loss: 50.8273 - mean_absolute_error: 5.5015 - val_loss: 1.6323 - val_mean_absolute_error: 1.0267\n",
      "INFO:tensorflow:Assets written to: 1H_Forecast/1H_ForecastModel_9_SizeWindow\\assets\n"
     ]
    },
    {
     "name": "stderr",
     "output_type": "stream",
     "text": [
      "INFO:tensorflow:Assets written to: 1H_Forecast/1H_ForecastModel_9_SizeWindow\\assets\n"
     ]
    },
    {
     "name": "stdout",
     "output_type": "stream",
     "text": [
      "\n",
      "-----------------------------------------------------------------------------------------------------------\n",
      "\n",
      "CPU times: total: 20min 19s\n",
      "Wall time: 9min 49s\n"
     ]
    }
   ],
   "source": [
    "%%time\n",
    "\n",
    "Trainer(1,6,9)"
   ]
  },
  {
   "cell_type": "code",
   "execution_count": 53,
   "id": "d72994a8",
   "metadata": {},
   "outputs": [],
   "source": [
    "def modelsEvaluator(time,windowSize,finalWindowSize):\n",
    "    while(windowSize <= finalWindowSize):\n",
    "        X, y = DataHandler(time,windowSize)\n",
    "        X_train, X_test, y_train, y_test = train_test_split(X, y, test_size=0.2)\n",
    "        X_train, X_val, y_train, y_val = train_test_split(X_train, y_train, test_size=0.25) \n",
    "        \n",
    "        print(X_train.shape, y_train.shape, X_val.shape, y_val.shape, X_test.shape, y_test.shape)\n",
    "       \n",
    "        print(\"Loading: \"+ str(time)+\"H_Forecast/\" + str(time)+\"H_ForecastModel_\"+str(windowSize)+\"_SizeWindow/\")\n",
    "        model = load_model(str(time)+\"H_Forecast/\"+str(time)+\"H_ForecastModel_\"+str(windowSize)+\"_SizeWindow/\")\n",
    "        model.evaluate(X_test,y_test)\n",
    "        \n",
    "        test_predictions = model.predict(X_test).flatten()\n",
    "        test_results = pd.DataFrame(data={'Test Predictions '+str(time) + ' hour model':test_predictions, 'Actuals':y_test})\n",
    "        \n",
    "        windowSize += 1"
   ]
  },
  {
   "cell_type": "code",
   "execution_count": null,
   "id": "1c439771",
   "metadata": {},
   "outputs": [
    {
     "name": "stdout",
     "output_type": "stream",
     "text": [
      "(5124, 6, 5) (5124,) (1708, 6, 5) (1708,) (1709, 6, 5) (1709,)\n",
      "Loading: 1H_Forecast/1H_ForecastModel_6_SizeWindow/\n"
     ]
    }
   ],
   "source": [
    "%%time\n",
    "\n",
    "modelsEvaluator(1,6,9)"
   ]
  },
  {
   "cell_type": "code",
   "execution_count": null,
   "id": "d9c25310",
   "metadata": {},
   "outputs": [],
   "source": [
    "%%time\n",
    "\n",
    "Trainer(1)"
   ]
  }
 ],
 "metadata": {
  "kernelspec": {
   "display_name": "Python 3 (ipykernel)",
   "language": "python",
   "name": "python3"
  },
  "language_info": {
   "codemirror_mode": {
    "name": "ipython",
    "version": 3
   },
   "file_extension": ".py",
   "mimetype": "text/x-python",
   "name": "python",
   "nbconvert_exporter": "python",
   "pygments_lexer": "ipython3",
   "version": "3.9.12"
  }
 },
 "nbformat": 4,
 "nbformat_minor": 5
}
