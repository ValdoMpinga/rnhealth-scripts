{
 "cells": [
  {
   "cell_type": "code",
   "execution_count": 1,
   "id": "02b30f4a",
   "metadata": {},
   "outputs": [],
   "source": [
    "from tensorflow.keras.models import Sequential\n",
    "from tensorflow.keras.layers import *\n",
    "from tensorflow.keras.callbacks import ModelCheckpoint\n",
    "from tensorflow.keras.losses import MeanSquaredError\n",
    "from tensorflow.keras.metrics import RootMeanSquaredError, MeanAbsoluteError\n",
    "from tensorflow.keras.optimizers import Adam\n",
    "from tensorflow.keras.models import load_model\n",
    "from matplotlib import pyplot as plt\n",
    "from sklearn.model_selection import train_test_split\n",
    "\n",
    "import pandas as pd\n",
    "import numpy as np\n",
    "\n",
    "import absl.logging\n",
    "absl.logging.set_verbosity(absl.logging.ERROR)\n",
    "\n",
    "import sys  \n",
    "sys.path.insert(0, '../../')\n",
    "import RadonDF_Handler\n",
    "\n",
    "import os\n",
    "os.environ['KMP_DUPLICATE_LIB_OK']='True'"
   ]
  },
  {
   "cell_type": "code",
   "execution_count": 2,
   "id": "41183b43",
   "metadata": {},
   "outputs": [],
   "source": [
    "D001_df = pd.read_csv('./../../../../../Data/SensorsData/interpolated_D001_data.csv')\n",
    "D001_df = D001_df.iloc[913:]\n",
    "D001_df = pd.DataFrame(D001_df)\n",
    "D001_df['time'] =  pd.to_datetime(D001_df['time'], format='%Y-%m-%d %H:%M:%S')\n",
    "D001_df.index = D001_df['time']\n",
    "D001_df = D001_df.drop(['time'],axis = 1)"
   ]
  },
  {
   "cell_type": "code",
   "execution_count": 5,
   "id": "e5c3898b",
   "metadata": {},
   "outputs": [],
   "source": [
    "def df_to_X_y(df,hoursToPredict, windowSize):\n",
    "        hoursToPredict = hoursToPredict - 1\n",
    "        df_as_np = df.to_numpy() # converts the dataframe to a numpy array\n",
    "        #Initialized  arrays to append X and Y values \n",
    "        X = []\n",
    "        y = []\n",
    "        for i in range(len(df_as_np)):\n",
    "            if((i + hoursToPredict + windowSize)< len(df_as_np)):\n",
    "                #Takes values from i to i + win size\n",
    "                row =  [r for r in df_as_np[i:i+windowSize]]\n",
    "                X.append(row)\n",
    "                label = df_as_np[i + hoursToPredict + windowSize ][0]\n",
    "                y.append(label)\n",
    "        return np.array(X), np.array(y)"
   ]
  },
  {
   "cell_type": "code",
   "execution_count": 6,
   "id": "09a0a92d",
   "metadata": {},
   "outputs": [],
   "source": [
    "def DataHandler(hoursToPredict,windowSize):\n",
    "    X1, y1 = df_to_X_y(D001_df,hoursToPredict,windowSize)\n",
    "\n",
    "    return X1, y1"
   ]
  },
  {
   "cell_type": "code",
   "execution_count": 7,
   "id": "140fbc36",
   "metadata": {},
   "outputs": [],
   "source": [
    "plt.style.use('seaborn')"
   ]
  },
  {
   "cell_type": "code",
   "execution_count": 8,
   "id": "a2289cbe",
   "metadata": {},
   "outputs": [],
   "source": [
    "def Trainer(time,windowSize,finalWindowSize):\n",
    "    while(windowSize <= finalWindowSize):\n",
    "        model = Sequential()\n",
    "        model.add(InputLayer((windowSize, 5)))\n",
    "        model.add(LSTM(64))\n",
    "        model.add(Dense(8, 'relu'))\n",
    "        model.add(Dense(1, 'linear'))\n",
    "\n",
    "        model.summary()\n",
    "        X, y = DataHandler(time,windowSize)\n",
    "        \n",
    "        X_train, X_test, y_train, y_test = train_test_split(X, y, test_size=0.2,shuffle = False)\n",
    "        X_train, X_val, y_train, y_val = train_test_split(X_train, y_train, test_size=0.25,shuffle= False) \n",
    "\n",
    "        X_train.shape, y_train.shape, X_val.shape, y_val.shape, X_test.shape, y_test.shape\n",
    "        \n",
    "        cp1= ModelCheckpoint(str(time)+\"H_Forecast/\"+str(time)+\"H_ForecastModel_\"+str(windowSize)+\"_SizeWindow/\", save_best_only=True)\n",
    "        model.compile(loss=MeanSquaredError(), \n",
    "                   optimizer=Adam(learning_rate=0.0001), \n",
    "                   metrics=[MeanAbsoluteError()])\n",
    "    \n",
    "        model.fit(X_train, y_train, validation_data=(X_val, y_val), epochs=25, callbacks=[cp1])\n",
    "        windowSize += 1\n",
    "        print()\n",
    "        print(\"-----------------------------------------------------------------------------------------------------------\")\n",
    "        print()"
   ]
  },
  {
   "cell_type": "code",
   "execution_count": 9,
   "id": "d72994a8",
   "metadata": {},
   "outputs": [],
   "source": [
    "def modelsEvaluator(time,windowSize,finalWindowSize):\n",
    "    while(windowSize <= finalWindowSize):\n",
    "        X, y = DataHandler(time,windowSize)\n",
    "        X_train, X_test, y_train, y_test = train_test_split(X, y, test_size=0.2)\n",
    "        X_train, X_val, y_train, y_val = train_test_split(X_train, y_train, test_size=0.25) \n",
    "        \n",
    "        print(X_train.shape, y_train.shape, X_val.shape, y_val.shape, X_test.shape, y_test.shape)\n",
    "       \n",
    "        print(\"Loading: \"+ str(time)+\"H_Forecast/\" + str(time)+\"H_ForecastModel_\"+str(windowSize)+\"_SizeWindow/\")\n",
    "        model = load_model(str(time)+\"H_Forecast/\"+str(time)+\"H_ForecastModel_\"+str(windowSize)+\"_SizeWindow/\")\n",
    "        model.evaluate(X_test,y_test)\n",
    "        \n",
    "        test_predictions = model.predict(X_test).flatten()\n",
    "        test_results = pd.DataFrame(data={'Test Predictions '+str(time) + ' hour model':test_predictions, 'Actuals':y_test})\n",
    "        \n",
    "        windowSize += 1"
   ]
  },
  {
   "cell_type": "code",
   "execution_count": 46,
   "id": "48a92af5",
   "metadata": {},
   "outputs": [
    {
     "name": "stdout",
     "output_type": "stream",
     "text": [
      "Model: \"sequential_1\"\n",
      "_________________________________________________________________\n",
      "Layer (type)                 Output Shape              Param #   \n",
      "=================================================================\n",
      "lstm (LSTM)                  (None, 64)                17920     \n",
      "_________________________________________________________________\n",
      "dense (Dense)                (None, 8)                 520       \n",
      "_________________________________________________________________\n",
      "dense_1 (Dense)              (None, 1)                 9         \n",
      "=================================================================\n",
      "Total params: 18,449\n",
      "Trainable params: 18,449\n",
      "Non-trainable params: 0\n",
      "_________________________________________________________________\n",
      "Epoch 1/25\n",
      "161/161 [==============================] - 5s 12ms/step - loss: 437.2867 - mean_absolute_error: 20.3856 - val_loss: 210.9870 - val_mean_absolute_error: 14.4063\n",
      "INFO:tensorflow:Assets written to: 1H_Forecast/1H_ForecastModel_6_SizeWindow\\assets\n"
     ]
    },
    {
     "name": "stderr",
     "output_type": "stream",
     "text": [
      "INFO:tensorflow:Assets written to: 1H_Forecast/1H_ForecastModel_6_SizeWindow\\assets\n"
     ]
    },
    {
     "name": "stdout",
     "output_type": "stream",
     "text": [
      "Epoch 2/25\n",
      "161/161 [==============================] - 1s 6ms/step - loss: 296.1601 - mean_absolute_error: 16.6174 - val_loss: 104.4531 - val_mean_absolute_error: 9.9722\n",
      "INFO:tensorflow:Assets written to: 1H_Forecast/1H_ForecastModel_6_SizeWindow\\assets\n"
     ]
    },
    {
     "name": "stderr",
     "output_type": "stream",
     "text": [
      "INFO:tensorflow:Assets written to: 1H_Forecast/1H_ForecastModel_6_SizeWindow\\assets\n"
     ]
    },
    {
     "name": "stdout",
     "output_type": "stream",
     "text": [
      "Epoch 3/25\n",
      "161/161 [==============================] - 1s 7ms/step - loss: 147.3714 - mean_absolute_error: 11.3527 - val_loss: 32.4391 - val_mean_absolute_error: 5.0821\n",
      "INFO:tensorflow:Assets written to: 1H_Forecast/1H_ForecastModel_6_SizeWindow\\assets\n"
     ]
    },
    {
     "name": "stderr",
     "output_type": "stream",
     "text": [
      "INFO:tensorflow:Assets written to: 1H_Forecast/1H_ForecastModel_6_SizeWindow\\assets\n"
     ]
    },
    {
     "name": "stdout",
     "output_type": "stream",
     "text": [
      "Epoch 4/25\n",
      "161/161 [==============================] - 1s 6ms/step - loss: 64.3100 - mean_absolute_error: 6.8020 - val_loss: 8.1144 - val_mean_absolute_error: 2.2424\n",
      "INFO:tensorflow:Assets written to: 1H_Forecast/1H_ForecastModel_6_SizeWindow\\assets\n"
     ]
    },
    {
     "name": "stderr",
     "output_type": "stream",
     "text": [
      "INFO:tensorflow:Assets written to: 1H_Forecast/1H_ForecastModel_6_SizeWindow\\assets\n"
     ]
    },
    {
     "name": "stdout",
     "output_type": "stream",
     "text": [
      "Epoch 5/25\n",
      "161/161 [==============================] - 1s 6ms/step - loss: 30.8843 - mean_absolute_error: 3.9625 - val_loss: 8.0279 - val_mean_absolute_error: 2.4518\n",
      "INFO:tensorflow:Assets written to: 1H_Forecast/1H_ForecastModel_6_SizeWindow\\assets\n"
     ]
    },
    {
     "name": "stderr",
     "output_type": "stream",
     "text": [
      "INFO:tensorflow:Assets written to: 1H_Forecast/1H_ForecastModel_6_SizeWindow\\assets\n"
     ]
    },
    {
     "name": "stdout",
     "output_type": "stream",
     "text": [
      "Epoch 6/25\n",
      "161/161 [==============================] - 1s 6ms/step - loss: 19.4127 - mean_absolute_error: 2.8008 - val_loss: 12.2695 - val_mean_absolute_error: 3.0380\n",
      "Epoch 7/25\n",
      "161/161 [==============================] - 1s 6ms/step - loss: 16.1124 - mean_absolute_error: 2.6153 - val_loss: 14.1450 - val_mean_absolute_error: 3.2788\n",
      "Epoch 8/25\n",
      "161/161 [==============================] - 1s 6ms/step - loss: 14.6679 - mean_absolute_error: 2.5548 - val_loss: 14.8471 - val_mean_absolute_error: 3.3804\n",
      "Epoch 9/25\n",
      "161/161 [==============================] - 1s 7ms/step - loss: 13.3567 - mean_absolute_error: 2.4680 - val_loss: 13.6842 - val_mean_absolute_error: 3.2764\n",
      "Epoch 10/25\n",
      "161/161 [==============================] - 1s 7ms/step - loss: 12.0623 - mean_absolute_error: 2.3608 - val_loss: 13.8858 - val_mean_absolute_error: 3.2826\n",
      "Epoch 11/25\n",
      "161/161 [==============================] - 1s 7ms/step - loss: 11.2403 - mean_absolute_error: 2.3066 - val_loss: 14.5021 - val_mean_absolute_error: 3.3620\n",
      "Epoch 12/25\n",
      "161/161 [==============================] - 1s 7ms/step - loss: 10.2976 - mean_absolute_error: 2.2510 - val_loss: 14.4315 - val_mean_absolute_error: 3.3431\n",
      "Epoch 13/25\n",
      "161/161 [==============================] - 1s 7ms/step - loss: 9.1979 - mean_absolute_error: 2.1610 - val_loss: 13.7790 - val_mean_absolute_error: 3.2740\n",
      "Epoch 14/25\n",
      "161/161 [==============================] - 1s 6ms/step - loss: 8.4570 - mean_absolute_error: 2.0848 - val_loss: 12.5991 - val_mean_absolute_error: 3.1081\n",
      "Epoch 15/25\n",
      "161/161 [==============================] - 1s 6ms/step - loss: 7.7674 - mean_absolute_error: 2.0234 - val_loss: 12.5079 - val_mean_absolute_error: 3.1081\n",
      "Epoch 16/25\n",
      "161/161 [==============================] - 1s 6ms/step - loss: 7.1902 - mean_absolute_error: 1.9689 - val_loss: 12.4175 - val_mean_absolute_error: 3.1231\n",
      "Epoch 17/25\n",
      "161/161 [==============================] - 1s 6ms/step - loss: 6.8576 - mean_absolute_error: 1.9347 - val_loss: 11.5766 - val_mean_absolute_error: 2.9975\n",
      "Epoch 18/25\n",
      "161/161 [==============================] - 1s 7ms/step - loss: 6.3810 - mean_absolute_error: 1.8686 - val_loss: 10.5859 - val_mean_absolute_error: 2.8804\n",
      "Epoch 19/25\n",
      "161/161 [==============================] - 1s 7ms/step - loss: 5.9630 - mean_absolute_error: 1.8153 - val_loss: 10.3767 - val_mean_absolute_error: 2.8376\n",
      "Epoch 20/25\n",
      "161/161 [==============================] - 1s 7ms/step - loss: 5.7124 - mean_absolute_error: 1.7774 - val_loss: 10.6166 - val_mean_absolute_error: 2.8694\n",
      "Epoch 21/25\n",
      "161/161 [==============================] - 1s 8ms/step - loss: 5.4463 - mean_absolute_error: 1.7408 - val_loss: 10.4026 - val_mean_absolute_error: 2.8327\n",
      "Epoch 22/25\n",
      "161/161 [==============================] - 1s 8ms/step - loss: 5.2547 - mean_absolute_error: 1.7145 - val_loss: 10.3047 - val_mean_absolute_error: 2.8217\n",
      "Epoch 23/25\n",
      "161/161 [==============================] - 1s 7ms/step - loss: 5.0540 - mean_absolute_error: 1.6834 - val_loss: 10.6531 - val_mean_absolute_error: 2.8870\n",
      "Epoch 24/25\n",
      "161/161 [==============================] - 1s 7ms/step - loss: 4.8504 - mean_absolute_error: 1.6511 - val_loss: 10.3298 - val_mean_absolute_error: 2.8487\n",
      "Epoch 25/25\n",
      "161/161 [==============================] - 1s 7ms/step - loss: 4.5966 - mean_absolute_error: 1.6089 - val_loss: 10.8936 - val_mean_absolute_error: 2.9404\n",
      "\n",
      "-----------------------------------------------------------------------------------------------------------\n",
      "\n",
      "Model: \"sequential_2\"\n",
      "_________________________________________________________________\n",
      "Layer (type)                 Output Shape              Param #   \n",
      "=================================================================\n",
      "lstm_1 (LSTM)                (None, 64)                17920     \n",
      "_________________________________________________________________\n",
      "dense_2 (Dense)              (None, 8)                 520       \n",
      "_________________________________________________________________\n",
      "dense_3 (Dense)              (None, 1)                 9         \n",
      "=================================================================\n",
      "Total params: 18,449\n",
      "Trainable params: 18,449\n",
      "Non-trainable params: 0\n",
      "_________________________________________________________________\n",
      "Epoch 1/25\n",
      "161/161 [==============================] - 4s 10ms/step - loss: 524.5334 - mean_absolute_error: 22.4292 - val_loss: 313.4373 - val_mean_absolute_error: 17.6676\n",
      "INFO:tensorflow:Assets written to: 1H_Forecast/1H_ForecastModel_7_SizeWindow\\assets\n"
     ]
    },
    {
     "name": "stderr",
     "output_type": "stream",
     "text": [
      "INFO:tensorflow:Assets written to: 1H_Forecast/1H_ForecastModel_7_SizeWindow\\assets\n"
     ]
    },
    {
     "name": "stdout",
     "output_type": "stream",
     "text": [
      "Epoch 2/25\n",
      "161/161 [==============================] - 1s 7ms/step - loss: 514.1086 - mean_absolute_error: 22.2160 - val_loss: 310.5338 - val_mean_absolute_error: 17.5844\n",
      "INFO:tensorflow:Assets written to: 1H_Forecast/1H_ForecastModel_7_SizeWindow\\assets\n"
     ]
    },
    {
     "name": "stderr",
     "output_type": "stream",
     "text": [
      "INFO:tensorflow:Assets written to: 1H_Forecast/1H_ForecastModel_7_SizeWindow\\assets\n"
     ]
    },
    {
     "name": "stdout",
     "output_type": "stream",
     "text": [
      "Epoch 3/25\n",
      "161/161 [==============================] - 1s 7ms/step - loss: 499.2108 - mean_absolute_error: 21.8953 - val_loss: 283.9538 - val_mean_absolute_error: 16.7693\n",
      "INFO:tensorflow:Assets written to: 1H_Forecast/1H_ForecastModel_7_SizeWindow\\assets\n"
     ]
    },
    {
     "name": "stderr",
     "output_type": "stream",
     "text": [
      "INFO:tensorflow:Assets written to: 1H_Forecast/1H_ForecastModel_7_SizeWindow\\assets\n"
     ]
    },
    {
     "name": "stdout",
     "output_type": "stream",
     "text": [
      "Epoch 4/25\n",
      "161/161 [==============================] - 1s 6ms/step - loss: 412.8747 - mean_absolute_error: 19.8290 - val_loss: 196.4530 - val_mean_absolute_error: 13.9120\n",
      "INFO:tensorflow:Assets written to: 1H_Forecast/1H_ForecastModel_7_SizeWindow\\assets\n"
     ]
    },
    {
     "name": "stderr",
     "output_type": "stream",
     "text": [
      "INFO:tensorflow:Assets written to: 1H_Forecast/1H_ForecastModel_7_SizeWindow\\assets\n"
     ]
    },
    {
     "name": "stdout",
     "output_type": "stream",
     "text": [
      "Epoch 5/25\n",
      "161/161 [==============================] - 1s 9ms/step - loss: 292.0417 - mean_absolute_error: 16.4603 - val_loss: 110.6981 - val_mean_absolute_error: 10.3837\n",
      "INFO:tensorflow:Assets written to: 1H_Forecast/1H_ForecastModel_7_SizeWindow\\assets\n"
     ]
    },
    {
     "name": "stderr",
     "output_type": "stream",
     "text": [
      "INFO:tensorflow:Assets written to: 1H_Forecast/1H_ForecastModel_7_SizeWindow\\assets\n"
     ]
    },
    {
     "name": "stdout",
     "output_type": "stream",
     "text": [
      "Epoch 6/25\n",
      "161/161 [==============================] - 1s 7ms/step - loss: 208.8953 - mean_absolute_error: 13.6955 - val_loss: 67.7567 - val_mean_absolute_error: 8.1386\n",
      "INFO:tensorflow:Assets written to: 1H_Forecast/1H_ForecastModel_7_SizeWindow\\assets\n"
     ]
    },
    {
     "name": "stderr",
     "output_type": "stream",
     "text": [
      "INFO:tensorflow:Assets written to: 1H_Forecast/1H_ForecastModel_7_SizeWindow\\assets\n"
     ]
    },
    {
     "name": "stdout",
     "output_type": "stream",
     "text": [
      "Epoch 7/25\n",
      "161/161 [==============================] - 1s 8ms/step - loss: 156.7085 - mean_absolute_error: 11.6137 - val_loss: 36.2116 - val_mean_absolute_error: 5.8880\n",
      "INFO:tensorflow:Assets written to: 1H_Forecast/1H_ForecastModel_7_SizeWindow\\assets\n"
     ]
    },
    {
     "name": "stderr",
     "output_type": "stream",
     "text": [
      "INFO:tensorflow:Assets written to: 1H_Forecast/1H_ForecastModel_7_SizeWindow\\assets\n"
     ]
    },
    {
     "name": "stdout",
     "output_type": "stream",
     "text": [
      "Epoch 8/25\n",
      "161/161 [==============================] - 2s 12ms/step - loss: 114.6767 - mean_absolute_error: 9.6339 - val_loss: 18.9589 - val_mean_absolute_error: 4.1831\n",
      "INFO:tensorflow:Assets written to: 1H_Forecast/1H_ForecastModel_7_SizeWindow\\assets\n"
     ]
    },
    {
     "name": "stderr",
     "output_type": "stream",
     "text": [
      "INFO:tensorflow:Assets written to: 1H_Forecast/1H_ForecastModel_7_SizeWindow\\assets\n"
     ]
    },
    {
     "name": "stdout",
     "output_type": "stream",
     "text": [
      "Epoch 9/25\n",
      "161/161 [==============================] - 1s 9ms/step - loss: 84.5919 - mean_absolute_error: 7.9586 - val_loss: 7.7814 - val_mean_absolute_error: 2.5507\n",
      "INFO:tensorflow:Assets written to: 1H_Forecast/1H_ForecastModel_7_SizeWindow\\assets\n"
     ]
    },
    {
     "name": "stderr",
     "output_type": "stream",
     "text": [
      "INFO:tensorflow:Assets written to: 1H_Forecast/1H_ForecastModel_7_SizeWindow\\assets\n"
     ]
    },
    {
     "name": "stdout",
     "output_type": "stream",
     "text": [
      "Epoch 10/25\n",
      "161/161 [==============================] - 1s 7ms/step - loss: 62.1910 - mean_absolute_error: 6.3963 - val_loss: 2.5147 - val_mean_absolute_error: 1.3386\n",
      "INFO:tensorflow:Assets written to: 1H_Forecast/1H_ForecastModel_7_SizeWindow\\assets\n"
     ]
    },
    {
     "name": "stderr",
     "output_type": "stream",
     "text": [
      "INFO:tensorflow:Assets written to: 1H_Forecast/1H_ForecastModel_7_SizeWindow\\assets\n"
     ]
    },
    {
     "name": "stdout",
     "output_type": "stream",
     "text": [
      "Epoch 11/25\n",
      "161/161 [==============================] - 1s 6ms/step - loss: 47.7069 - mean_absolute_error: 5.1641 - val_loss: 1.3097 - val_mean_absolute_error: 0.8685\n",
      "INFO:tensorflow:Assets written to: 1H_Forecast/1H_ForecastModel_7_SizeWindow\\assets\n"
     ]
    },
    {
     "name": "stderr",
     "output_type": "stream",
     "text": [
      "INFO:tensorflow:Assets written to: 1H_Forecast/1H_ForecastModel_7_SizeWindow\\assets\n"
     ]
    },
    {
     "name": "stdout",
     "output_type": "stream",
     "text": [
      "Epoch 12/25\n",
      "161/161 [==============================] - 1s 6ms/step - loss: 38.0092 - mean_absolute_error: 4.1889 - val_loss: 2.3004 - val_mean_absolute_error: 1.2206\n",
      "Epoch 13/25\n",
      "161/161 [==============================] - 1s 8ms/step - loss: 31.3624 - mean_absolute_error: 3.5001 - val_loss: 4.6952 - val_mean_absolute_error: 1.9008\n",
      "Epoch 14/25\n",
      "161/161 [==============================] - 1s 7ms/step - loss: 26.9760 - mean_absolute_error: 3.0862 - val_loss: 7.8154 - val_mean_absolute_error: 2.5670\n",
      "Epoch 15/25\n",
      "161/161 [==============================] - 1s 7ms/step - loss: 24.2586 - mean_absolute_error: 2.8795 - val_loss: 11.1191 - val_mean_absolute_error: 3.1350\n",
      "Epoch 16/25\n",
      "161/161 [==============================] - 1s 8ms/step - loss: 22.6913 - mean_absolute_error: 2.8586 - val_loss: 14.1010 - val_mean_absolute_error: 3.5770\n",
      "Epoch 17/25\n",
      "161/161 [==============================] - 1s 7ms/step - loss: 21.8722 - mean_absolute_error: 2.9310 - val_loss: 16.6816 - val_mean_absolute_error: 3.9205\n",
      "Epoch 18/25\n",
      "161/161 [==============================] - 1s 7ms/step - loss: 21.4483 - mean_absolute_error: 3.0151 - val_loss: 18.6148 - val_mean_absolute_error: 4.1592\n",
      "Epoch 19/25\n",
      "161/161 [==============================] - 1s 7ms/step - loss: 21.2260 - mean_absolute_error: 3.0863 - val_loss: 19.8797 - val_mean_absolute_error: 4.3054\n",
      "Epoch 20/25\n",
      "161/161 [==============================] - 1s 6ms/step - loss: 20.9914 - mean_absolute_error: 3.1104 - val_loss: 20.4179 - val_mean_absolute_error: 4.3721\n",
      "Epoch 21/25\n",
      "161/161 [==============================] - 1s 6ms/step - loss: 20.8588 - mean_absolute_error: 3.1377 - val_loss: 21.0161 - val_mean_absolute_error: 4.4396\n",
      "Epoch 22/25\n",
      "161/161 [==============================] - 1s 7ms/step - loss: 20.7871 - mean_absolute_error: 3.1567 - val_loss: 21.4801 - val_mean_absolute_error: 4.4906\n",
      "Epoch 23/25\n",
      "161/161 [==============================] - 1s 6ms/step - loss: 20.7552 - mean_absolute_error: 3.1745 - val_loss: 20.9263 - val_mean_absolute_error: 4.4078\n",
      "Epoch 24/25\n",
      "161/161 [==============================] - 1s 6ms/step - loss: 19.9995 - mean_absolute_error: 2.9968 - val_loss: 17.8551 - val_mean_absolute_error: 4.0271\n",
      "Epoch 25/25\n",
      "161/161 [==============================] - 1s 6ms/step - loss: 19.0726 - mean_absolute_error: 2.8834 - val_loss: 18.5354 - val_mean_absolute_error: 4.1327\n",
      "\n",
      "-----------------------------------------------------------------------------------------------------------\n",
      "\n",
      "Model: \"sequential_3\"\n",
      "_________________________________________________________________\n",
      "Layer (type)                 Output Shape              Param #   \n",
      "=================================================================\n",
      "lstm_2 (LSTM)                (None, 64)                17920     \n",
      "_________________________________________________________________\n",
      "dense_4 (Dense)              (None, 8)                 520       \n",
      "_________________________________________________________________\n",
      "dense_5 (Dense)              (None, 1)                 9         \n",
      "=================================================================\n",
      "Total params: 18,449\n",
      "Trainable params: 18,449\n",
      "Non-trainable params: 0\n",
      "_________________________________________________________________\n",
      "Epoch 1/25\n",
      "161/161 [==============================] - 4s 9ms/step - loss: 497.3362 - mean_absolute_error: 21.8320 - val_loss: 279.4730 - val_mean_absolute_error: 16.6720\n",
      "INFO:tensorflow:Assets written to: 1H_Forecast/1H_ForecastModel_8_SizeWindow\\assets\n"
     ]
    },
    {
     "name": "stderr",
     "output_type": "stream",
     "text": [
      "INFO:tensorflow:Assets written to: 1H_Forecast/1H_ForecastModel_8_SizeWindow\\assets\n"
     ]
    },
    {
     "name": "stdout",
     "output_type": "stream",
     "text": [
      "Epoch 2/25\n",
      "161/161 [==============================] - 1s 7ms/step - loss: 441.0166 - mean_absolute_error: 20.4966 - val_loss: 233.5715 - val_mean_absolute_error: 15.2086\n",
      "INFO:tensorflow:Assets written to: 1H_Forecast/1H_ForecastModel_8_SizeWindow\\assets\n"
     ]
    },
    {
     "name": "stderr",
     "output_type": "stream",
     "text": [
      "INFO:tensorflow:Assets written to: 1H_Forecast/1H_ForecastModel_8_SizeWindow\\assets\n"
     ]
    },
    {
     "name": "stdout",
     "output_type": "stream",
     "text": [
      "Epoch 3/25\n",
      "161/161 [==============================] - ETA: 0s - loss: 376.9587 - mean_absolute_error: 18.89 - 1s 7ms/step - loss: 376.9587 - mean_absolute_error: 18.8950 - val_loss: 185.7863 - val_mean_absolute_error: 13.5013\n",
      "INFO:tensorflow:Assets written to: 1H_Forecast/1H_ForecastModel_8_SizeWindow\\assets\n"
     ]
    },
    {
     "name": "stderr",
     "output_type": "stream",
     "text": [
      "INFO:tensorflow:Assets written to: 1H_Forecast/1H_ForecastModel_8_SizeWindow\\assets\n"
     ]
    },
    {
     "name": "stdout",
     "output_type": "stream",
     "text": [
      "Epoch 4/25\n",
      "161/161 [==============================] - 1s 8ms/step - loss: 299.2822 - mean_absolute_error: 16.6847 - val_loss: 128.9013 - val_mean_absolute_error: 11.2349\n",
      "INFO:tensorflow:Assets written to: 1H_Forecast/1H_ForecastModel_8_SizeWindow\\assets\n"
     ]
    },
    {
     "name": "stderr",
     "output_type": "stream",
     "text": [
      "INFO:tensorflow:Assets written to: 1H_Forecast/1H_ForecastModel_8_SizeWindow\\assets\n"
     ]
    },
    {
     "name": "stdout",
     "output_type": "stream",
     "text": [
      "Epoch 5/25\n",
      "161/161 [==============================] - 1s 7ms/step - loss: 231.5522 - mean_absolute_error: 14.5132 - val_loss: 80.8570 - val_mean_absolute_error: 8.8732\n",
      "INFO:tensorflow:Assets written to: 1H_Forecast/1H_ForecastModel_8_SizeWindow\\assets\n"
     ]
    },
    {
     "name": "stderr",
     "output_type": "stream",
     "text": [
      "INFO:tensorflow:Assets written to: 1H_Forecast/1H_ForecastModel_8_SizeWindow\\assets\n"
     ]
    },
    {
     "name": "stdout",
     "output_type": "stream",
     "text": [
      "Epoch 6/25\n",
      "161/161 [==============================] - 2s 10ms/step - loss: 173.6920 - mean_absolute_error: 12.3653 - val_loss: 50.4444 - val_mean_absolute_error: 6.9862\n",
      "INFO:tensorflow:Assets written to: 1H_Forecast/1H_ForecastModel_8_SizeWindow\\assets\n"
     ]
    },
    {
     "name": "stderr",
     "output_type": "stream",
     "text": [
      "INFO:tensorflow:Assets written to: 1H_Forecast/1H_ForecastModel_8_SizeWindow\\assets\n"
     ]
    },
    {
     "name": "stdout",
     "output_type": "stream",
     "text": [
      "Epoch 7/25\n",
      "161/161 [==============================] - 1s 7ms/step - loss: 135.8627 - mean_absolute_error: 10.7268 - val_loss: 31.1018 - val_mean_absolute_error: 5.4385\n",
      "INFO:tensorflow:Assets written to: 1H_Forecast/1H_ForecastModel_8_SizeWindow\\assets\n"
     ]
    },
    {
     "name": "stderr",
     "output_type": "stream",
     "text": [
      "INFO:tensorflow:Assets written to: 1H_Forecast/1H_ForecastModel_8_SizeWindow\\assets\n"
     ]
    },
    {
     "name": "stdout",
     "output_type": "stream",
     "text": [
      "Epoch 8/25\n",
      "161/161 [==============================] - 1s 8ms/step - loss: 106.5242 - mean_absolute_error: 9.2638 - val_loss: 17.4439 - val_mean_absolute_error: 4.0029\n",
      "INFO:tensorflow:Assets written to: 1H_Forecast/1H_ForecastModel_8_SizeWindow\\assets\n"
     ]
    },
    {
     "name": "stderr",
     "output_type": "stream",
     "text": [
      "INFO:tensorflow:Assets written to: 1H_Forecast/1H_ForecastModel_8_SizeWindow\\assets\n"
     ]
    },
    {
     "name": "stdout",
     "output_type": "stream",
     "text": [
      "Epoch 9/25\n",
      "161/161 [==============================] - 1s 7ms/step - loss: 82.9380 - mean_absolute_error: 7.8895 - val_loss: 8.5779 - val_mean_absolute_error: 2.6774\n",
      "INFO:tensorflow:Assets written to: 1H_Forecast/1H_ForecastModel_8_SizeWindow\\assets\n"
     ]
    },
    {
     "name": "stderr",
     "output_type": "stream",
     "text": [
      "INFO:tensorflow:Assets written to: 1H_Forecast/1H_ForecastModel_8_SizeWindow\\assets\n"
     ]
    },
    {
     "name": "stdout",
     "output_type": "stream",
     "text": [
      "Epoch 10/25\n",
      "161/161 [==============================] - 1s 8ms/step - loss: 64.4942 - mean_absolute_error: 6.6079 - val_loss: 3.6165 - val_mean_absolute_error: 1.6267\n",
      "INFO:tensorflow:Assets written to: 1H_Forecast/1H_ForecastModel_8_SizeWindow\\assets\n"
     ]
    },
    {
     "name": "stderr",
     "output_type": "stream",
     "text": [
      "INFO:tensorflow:Assets written to: 1H_Forecast/1H_ForecastModel_8_SizeWindow\\assets\n"
     ]
    },
    {
     "name": "stdout",
     "output_type": "stream",
     "text": [
      "Epoch 11/25\n",
      "161/161 [==============================] - 1s 7ms/step - loss: 50.7695 - mean_absolute_error: 5.4771 - val_loss: 1.4989 - val_mean_absolute_error: 0.9614\n",
      "INFO:tensorflow:Assets written to: 1H_Forecast/1H_ForecastModel_8_SizeWindow\\assets\n"
     ]
    },
    {
     "name": "stderr",
     "output_type": "stream",
     "text": [
      "INFO:tensorflow:Assets written to: 1H_Forecast/1H_ForecastModel_8_SizeWindow\\assets\n"
     ]
    },
    {
     "name": "stdout",
     "output_type": "stream",
     "text": [
      "Epoch 12/25\n",
      "161/161 [==============================] - 1s 8ms/step - loss: 40.6168 - mean_absolute_error: 4.4922 - val_loss: 1.7425 - val_mean_absolute_error: 1.0339\n",
      "Epoch 13/25\n",
      "161/161 [==============================] - 2s 10ms/step - loss: 33.3431 - mean_absolute_error: 3.7349 - val_loss: 3.5123 - val_mean_absolute_error: 1.5851\n",
      "Epoch 14/25\n",
      "161/161 [==============================] - 1s 9ms/step - loss: 28.3496 - mean_absolute_error: 3.2286 - val_loss: 6.1916 - val_mean_absolute_error: 2.2274\n",
      "Epoch 15/25\n",
      "161/161 [==============================] - 1s 8ms/step - loss: 25.0876 - mean_absolute_error: 2.9473 - val_loss: 9.2597 - val_mean_absolute_error: 2.8161\n",
      "Epoch 16/25\n",
      "161/161 [==============================] - 1s 9ms/step - loss: 23.0931 - mean_absolute_error: 2.8442 - val_loss: 12.2499 - val_mean_absolute_error: 3.2984\n",
      "Epoch 17/25\n",
      "161/161 [==============================] - 1s 9ms/step - loss: 21.9162 - mean_absolute_error: 2.8709 - val_loss: 15.0500 - val_mean_absolute_error: 3.6976\n",
      "Epoch 18/25\n",
      "161/161 [==============================] - 1s 9ms/step - loss: 21.3079 - mean_absolute_error: 2.9485 - val_loss: 17.2637 - val_mean_absolute_error: 3.9851\n",
      "Epoch 19/25\n",
      "161/161 [==============================] - 1s 8ms/step - loss: 20.9883 - mean_absolute_error: 3.0313 - val_loss: 18.9650 - val_mean_absolute_error: 4.1926\n",
      "Epoch 20/25\n",
      "161/161 [==============================] - 1s 8ms/step - loss: 20.8419 - mean_absolute_error: 3.0912 - val_loss: 20.0637 - val_mean_absolute_error: 4.3200\n",
      "Epoch 21/25\n",
      "161/161 [==============================] - 1s 8ms/step - loss: 20.7388 - mean_absolute_error: 3.1317 - val_loss: 19.3090 - val_mean_absolute_error: 4.1940\n",
      "Epoch 22/25\n",
      "161/161 [==============================] - 1s 7ms/step - loss: 19.9171 - mean_absolute_error: 2.9729 - val_loss: 18.4722 - val_mean_absolute_error: 4.1200\n",
      "Epoch 23/25\n",
      "161/161 [==============================] - 1s 7ms/step - loss: 19.6227 - mean_absolute_error: 2.9965 - val_loss: 19.0194 - val_mean_absolute_error: 4.1716\n",
      "Epoch 24/25\n",
      "161/161 [==============================] - 1s 8ms/step - loss: 19.2986 - mean_absolute_error: 2.9879 - val_loss: 19.2861 - val_mean_absolute_error: 4.1826\n",
      "Epoch 25/25\n",
      "161/161 [==============================] - 1s 8ms/step - loss: 18.8700 - mean_absolute_error: 2.9514 - val_loss: 19.2088 - val_mean_absolute_error: 4.1940\n",
      "\n",
      "-----------------------------------------------------------------------------------------------------------\n",
      "\n",
      "Model: \"sequential_4\"\n",
      "_________________________________________________________________\n",
      "Layer (type)                 Output Shape              Param #   \n",
      "=================================================================\n",
      "lstm_3 (LSTM)                (None, 64)                17920     \n",
      "_________________________________________________________________\n",
      "dense_6 (Dense)              (None, 8)                 520       \n",
      "_________________________________________________________________\n",
      "dense_7 (Dense)              (None, 1)                 9         \n",
      "=================================================================\n",
      "Total params: 18,449\n",
      "Trainable params: 18,449\n",
      "Non-trainable params: 0\n",
      "_________________________________________________________________\n",
      "Epoch 1/25\n",
      "161/161 [==============================] - 4s 11ms/step - loss: 521.9518 - mean_absolute_error: 22.3931 - val_loss: 314.6928 - val_mean_absolute_error: 17.7018\n",
      "INFO:tensorflow:Assets written to: 1H_Forecast/1H_ForecastModel_9_SizeWindow\\assets\n"
     ]
    },
    {
     "name": "stderr",
     "output_type": "stream",
     "text": [
      "INFO:tensorflow:Assets written to: 1H_Forecast/1H_ForecastModel_9_SizeWindow\\assets\n"
     ]
    },
    {
     "name": "stdout",
     "output_type": "stream",
     "text": [
      "Epoch 2/25\n",
      "161/161 [==============================] - 1s 8ms/step - loss: 514.9761 - mean_absolute_error: 22.2395 - val_loss: 311.1569 - val_mean_absolute_error: 17.6018\n",
      "INFO:tensorflow:Assets written to: 1H_Forecast/1H_ForecastModel_9_SizeWindow\\assets\n"
     ]
    },
    {
     "name": "stderr",
     "output_type": "stream",
     "text": [
      "INFO:tensorflow:Assets written to: 1H_Forecast/1H_ForecastModel_9_SizeWindow\\assets\n"
     ]
    },
    {
     "name": "stdout",
     "output_type": "stream",
     "text": [
      "Epoch 3/25\n",
      "161/161 [==============================] - 1s 8ms/step - loss: 509.6502 - mean_absolute_error: 22.1159 - val_loss: 304.1635 - val_mean_absolute_error: 17.4013\n",
      "INFO:tensorflow:Assets written to: 1H_Forecast/1H_ForecastModel_9_SizeWindow\\assets\n"
     ]
    },
    {
     "name": "stderr",
     "output_type": "stream",
     "text": [
      "INFO:tensorflow:Assets written to: 1H_Forecast/1H_ForecastModel_9_SizeWindow\\assets\n"
     ]
    },
    {
     "name": "stdout",
     "output_type": "stream",
     "text": [
      "Epoch 4/25\n",
      "161/161 [==============================] - 1s 8ms/step - loss: 496.0323 - mean_absolute_error: 21.8023 - val_loss: 289.1118 - val_mean_absolute_error: 16.9621\n",
      "INFO:tensorflow:Assets written to: 1H_Forecast/1H_ForecastModel_9_SizeWindow\\assets\n"
     ]
    },
    {
     "name": "stderr",
     "output_type": "stream",
     "text": [
      "INFO:tensorflow:Assets written to: 1H_Forecast/1H_ForecastModel_9_SizeWindow\\assets\n"
     ]
    },
    {
     "name": "stdout",
     "output_type": "stream",
     "text": [
      "Epoch 5/25\n",
      "161/161 [==============================] - 1s 8ms/step - loss: 473.0945 - mean_absolute_error: 21.2664 - val_loss: 266.0591 - val_mean_absolute_error: 16.2661\n",
      "INFO:tensorflow:Assets written to: 1H_Forecast/1H_ForecastModel_9_SizeWindow\\assets\n"
     ]
    },
    {
     "name": "stderr",
     "output_type": "stream",
     "text": [
      "INFO:tensorflow:Assets written to: 1H_Forecast/1H_ForecastModel_9_SizeWindow\\assets\n"
     ]
    },
    {
     "name": "stdout",
     "output_type": "stream",
     "text": [
      "Epoch 6/25\n",
      "161/161 [==============================] - 1s 7ms/step - loss: 442.7709 - mean_absolute_error: 20.5308 - val_loss: 243.9700 - val_mean_absolute_error: 15.5736\n",
      "INFO:tensorflow:Assets written to: 1H_Forecast/1H_ForecastModel_9_SizeWindow\\assets\n"
     ]
    },
    {
     "name": "stderr",
     "output_type": "stream",
     "text": [
      "INFO:tensorflow:Assets written to: 1H_Forecast/1H_ForecastModel_9_SizeWindow\\assets\n"
     ]
    },
    {
     "name": "stdout",
     "output_type": "stream",
     "text": [
      "Epoch 7/25\n",
      "161/161 [==============================] - 1s 8ms/step - loss: 412.3653 - mean_absolute_error: 19.7750 - val_loss: 219.7860 - val_mean_absolute_error: 14.7794\n",
      "INFO:tensorflow:Assets written to: 1H_Forecast/1H_ForecastModel_9_SizeWindow\\assets\n"
     ]
    },
    {
     "name": "stderr",
     "output_type": "stream",
     "text": [
      "INFO:tensorflow:Assets written to: 1H_Forecast/1H_ForecastModel_9_SizeWindow\\assets\n"
     ]
    },
    {
     "name": "stdout",
     "output_type": "stream",
     "text": [
      "Epoch 8/25\n",
      "161/161 [==============================] - 1s 9ms/step - loss: 380.7270 - mean_absolute_error: 18.9737 - val_loss: 197.5552 - val_mean_absolute_error: 14.0069\n",
      "INFO:tensorflow:Assets written to: 1H_Forecast/1H_ForecastModel_9_SizeWindow\\assets\n"
     ]
    },
    {
     "name": "stderr",
     "output_type": "stream",
     "text": [
      "INFO:tensorflow:Assets written to: 1H_Forecast/1H_ForecastModel_9_SizeWindow\\assets\n"
     ]
    },
    {
     "name": "stdout",
     "output_type": "stream",
     "text": [
      "Epoch 9/25\n",
      "161/161 [==============================] - 1s 8ms/step - loss: 352.1154 - mean_absolute_error: 18.2006 - val_loss: 174.6913 - val_mean_absolute_error: 13.1666\n",
      "INFO:tensorflow:Assets written to: 1H_Forecast/1H_ForecastModel_9_SizeWindow\\assets\n"
     ]
    },
    {
     "name": "stderr",
     "output_type": "stream",
     "text": [
      "INFO:tensorflow:Assets written to: 1H_Forecast/1H_ForecastModel_9_SizeWindow\\assets\n"
     ]
    },
    {
     "name": "stdout",
     "output_type": "stream",
     "text": [
      "Epoch 10/25\n",
      "161/161 [==============================] - 1s 8ms/step - loss: 322.6775 - mean_absolute_error: 17.3816 - val_loss: 155.1115 - val_mean_absolute_error: 12.3978\n",
      "INFO:tensorflow:Assets written to: 1H_Forecast/1H_ForecastModel_9_SizeWindow\\assets\n"
     ]
    },
    {
     "name": "stderr",
     "output_type": "stream",
     "text": [
      "INFO:tensorflow:Assets written to: 1H_Forecast/1H_ForecastModel_9_SizeWindow\\assets\n"
     ]
    },
    {
     "name": "stdout",
     "output_type": "stream",
     "text": [
      "Epoch 11/25\n",
      "161/161 [==============================] - 1s 8ms/step - loss: 294.3049 - mean_absolute_error: 16.5440 - val_loss: 134.2015 - val_mean_absolute_error: 11.5249s: 297.8945 - mean_absol\n",
      "INFO:tensorflow:Assets written to: 1H_Forecast/1H_ForecastModel_9_SizeWindow\\assets\n"
     ]
    },
    {
     "name": "stderr",
     "output_type": "stream",
     "text": [
      "INFO:tensorflow:Assets written to: 1H_Forecast/1H_ForecastModel_9_SizeWindow\\assets\n"
     ]
    },
    {
     "name": "stdout",
     "output_type": "stream",
     "text": [
      "Epoch 12/25\n",
      "161/161 [==============================] - 1s 8ms/step - loss: 268.4494 - mean_absolute_error: 15.7381 - val_loss: 116.9730 - val_mean_absolute_error: 10.7534\n",
      "INFO:tensorflow:Assets written to: 1H_Forecast/1H_ForecastModel_9_SizeWindow\\assets\n"
     ]
    },
    {
     "name": "stderr",
     "output_type": "stream",
     "text": [
      "INFO:tensorflow:Assets written to: 1H_Forecast/1H_ForecastModel_9_SizeWindow\\assets\n"
     ]
    },
    {
     "name": "stdout",
     "output_type": "stream",
     "text": [
      "Epoch 13/25\n",
      "161/161 [==============================] - 1s 8ms/step - loss: 243.9883 - mean_absolute_error: 14.9425 - val_loss: 100.1278 - val_mean_absolute_error: 9.9398\n",
      "INFO:tensorflow:Assets written to: 1H_Forecast/1H_ForecastModel_9_SizeWindow\\assets\n"
     ]
    },
    {
     "name": "stderr",
     "output_type": "stream",
     "text": [
      "INFO:tensorflow:Assets written to: 1H_Forecast/1H_ForecastModel_9_SizeWindow\\assets\n"
     ]
    },
    {
     "name": "stdout",
     "output_type": "stream",
     "text": [
      "Epoch 14/25\n",
      "161/161 [==============================] - 1s 7ms/step - loss: 219.2498 - mean_absolute_error: 14.0985 - val_loss: 83.7919 - val_mean_absolute_error: 9.0810\n",
      "INFO:tensorflow:Assets written to: 1H_Forecast/1H_ForecastModel_9_SizeWindow\\assets\n"
     ]
    },
    {
     "name": "stderr",
     "output_type": "stream",
     "text": [
      "INFO:tensorflow:Assets written to: 1H_Forecast/1H_ForecastModel_9_SizeWindow\\assets\n"
     ]
    },
    {
     "name": "stdout",
     "output_type": "stream",
     "text": [
      "Epoch 15/25\n",
      "161/161 [==============================] - 2s 10ms/step - loss: 196.5877 - mean_absolute_error: 13.2692 - val_loss: 69.6616 - val_mean_absolute_error: 8.2656\n",
      "INFO:tensorflow:Assets written to: 1H_Forecast/1H_ForecastModel_9_SizeWindow\\assets\n"
     ]
    },
    {
     "name": "stderr",
     "output_type": "stream",
     "text": [
      "INFO:tensorflow:Assets written to: 1H_Forecast/1H_ForecastModel_9_SizeWindow\\assets\n"
     ]
    },
    {
     "name": "stdout",
     "output_type": "stream",
     "text": [
      "Epoch 16/25\n",
      "161/161 [==============================] - 1s 8ms/step - loss: 175.6217 - mean_absolute_error: 12.4527 - val_loss: 56.7320 - val_mean_absolute_error: 7.4440\n",
      "INFO:tensorflow:Assets written to: 1H_Forecast/1H_ForecastModel_9_SizeWindow\\assets\n"
     ]
    },
    {
     "name": "stderr",
     "output_type": "stream",
     "text": [
      "INFO:tensorflow:Assets written to: 1H_Forecast/1H_ForecastModel_9_SizeWindow\\assets\n"
     ]
    },
    {
     "name": "stdout",
     "output_type": "stream",
     "text": [
      "Epoch 17/25\n",
      "161/161 [==============================] - 1s 8ms/step - loss: 156.1973 - mean_absolute_error: 11.6453 - val_loss: 45.4676 - val_mean_absolute_error: 6.6449\n",
      "INFO:tensorflow:Assets written to: 1H_Forecast/1H_ForecastModel_9_SizeWindow\\assets\n"
     ]
    },
    {
     "name": "stderr",
     "output_type": "stream",
     "text": [
      "INFO:tensorflow:Assets written to: 1H_Forecast/1H_ForecastModel_9_SizeWindow\\assets\n"
     ]
    },
    {
     "name": "stdout",
     "output_type": "stream",
     "text": [
      "Epoch 18/25\n",
      "161/161 [==============================] - 1s 9ms/step - loss: 138.3478 - mean_absolute_error: 10.8522 - val_loss: 35.5745 - val_mean_absolute_error: 5.8536\n",
      "INFO:tensorflow:Assets written to: 1H_Forecast/1H_ForecastModel_9_SizeWindow\\assets\n"
     ]
    },
    {
     "name": "stderr",
     "output_type": "stream",
     "text": [
      "INFO:tensorflow:Assets written to: 1H_Forecast/1H_ForecastModel_9_SizeWindow\\assets\n"
     ]
    },
    {
     "name": "stdout",
     "output_type": "stream",
     "text": [
      "Epoch 19/25\n",
      "161/161 [==============================] - 1s 8ms/step - loss: 121.8799 - mean_absolute_error: 10.0616 - val_loss: 26.9810 - val_mean_absolute_error: 5.0671\n",
      "INFO:tensorflow:Assets written to: 1H_Forecast/1H_ForecastModel_9_SizeWindow\\assets\n"
     ]
    },
    {
     "name": "stderr",
     "output_type": "stream",
     "text": [
      "INFO:tensorflow:Assets written to: 1H_Forecast/1H_ForecastModel_9_SizeWindow\\assets\n"
     ]
    },
    {
     "name": "stdout",
     "output_type": "stream",
     "text": [
      "Epoch 20/25\n",
      "161/161 [==============================] - 1s 8ms/step - loss: 106.2155 - mean_absolute_error: 9.2521 - val_loss: 19.1530 - val_mean_absolute_error: 4.2241\n",
      "INFO:tensorflow:Assets written to: 1H_Forecast/1H_ForecastModel_9_SizeWindow\\assets\n"
     ]
    },
    {
     "name": "stderr",
     "output_type": "stream",
     "text": [
      "INFO:tensorflow:Assets written to: 1H_Forecast/1H_ForecastModel_9_SizeWindow\\assets\n"
     ]
    },
    {
     "name": "stdout",
     "output_type": "stream",
     "text": [
      "Epoch 21/25\n",
      "161/161 [==============================] - 1s 8ms/step - loss: 91.7706 - mean_absolute_error: 8.4353 - val_loss: 13.1835 - val_mean_absolute_error: 3.4457\n",
      "INFO:tensorflow:Assets written to: 1H_Forecast/1H_ForecastModel_9_SizeWindow\\assets\n"
     ]
    },
    {
     "name": "stderr",
     "output_type": "stream",
     "text": [
      "INFO:tensorflow:Assets written to: 1H_Forecast/1H_ForecastModel_9_SizeWindow\\assets\n"
     ]
    },
    {
     "name": "stdout",
     "output_type": "stream",
     "text": [
      "Epoch 22/25\n",
      "161/161 [==============================] - 1s 8ms/step - loss: 79.4287 - mean_absolute_error: 7.6725 - val_loss: 8.5562 - val_mean_absolute_error: 2.6974\n",
      "INFO:tensorflow:Assets written to: 1H_Forecast/1H_ForecastModel_9_SizeWindow\\assets\n"
     ]
    },
    {
     "name": "stderr",
     "output_type": "stream",
     "text": [
      "INFO:tensorflow:Assets written to: 1H_Forecast/1H_ForecastModel_9_SizeWindow\\assets\n"
     ]
    },
    {
     "name": "stdout",
     "output_type": "stream",
     "text": [
      "Epoch 23/25\n",
      "161/161 [==============================] - 1s 8ms/step - loss: 68.5531 - mean_absolute_error: 6.9252 - val_loss: 5.1405 - val_mean_absolute_error: 2.0150\n",
      "INFO:tensorflow:Assets written to: 1H_Forecast/1H_ForecastModel_9_SizeWindow\\assets\n"
     ]
    },
    {
     "name": "stderr",
     "output_type": "stream",
     "text": [
      "INFO:tensorflow:Assets written to: 1H_Forecast/1H_ForecastModel_9_SizeWindow\\assets\n"
     ]
    },
    {
     "name": "stdout",
     "output_type": "stream",
     "text": [
      "Epoch 24/25\n",
      "161/161 [==============================] - 1s 8ms/step - loss: 59.0323 - mean_absolute_error: 6.1979 - val_loss: 2.8571 - val_mean_absolute_error: 1.4384\n",
      "INFO:tensorflow:Assets written to: 1H_Forecast/1H_ForecastModel_9_SizeWindow\\assets\n"
     ]
    },
    {
     "name": "stderr",
     "output_type": "stream",
     "text": [
      "INFO:tensorflow:Assets written to: 1H_Forecast/1H_ForecastModel_9_SizeWindow\\assets\n"
     ]
    },
    {
     "name": "stdout",
     "output_type": "stream",
     "text": [
      "Epoch 25/25\n",
      "161/161 [==============================] - 1s 8ms/step - loss: 50.8273 - mean_absolute_error: 5.5015 - val_loss: 1.6323 - val_mean_absolute_error: 1.0267\n",
      "INFO:tensorflow:Assets written to: 1H_Forecast/1H_ForecastModel_9_SizeWindow\\assets\n"
     ]
    },
    {
     "name": "stderr",
     "output_type": "stream",
     "text": [
      "INFO:tensorflow:Assets written to: 1H_Forecast/1H_ForecastModel_9_SizeWindow\\assets\n"
     ]
    },
    {
     "name": "stdout",
     "output_type": "stream",
     "text": [
      "\n",
      "-----------------------------------------------------------------------------------------------------------\n",
      "\n",
      "CPU times: total: 20min 19s\n",
      "Wall time: 9min 49s\n"
     ]
    }
   ],
   "source": [
    "%%time\n",
    "\n",
    "Trainer(1,6,9)"
   ]
  },
  {
   "cell_type": "code",
   "execution_count": 19,
   "id": "1c439771",
   "metadata": {},
   "outputs": [
    {
     "name": "stdout",
     "output_type": "stream",
     "text": [
      "(5124, 6, 5) (5124,) (1708, 6, 5) (1708,) (1709, 6, 5) (1709,)\n",
      "Loading: 1H_Forecast/1H_ForecastModel_6_SizeWindow/\n",
      "54/54 [==============================] - 1s 2ms/step - loss: 16.5078 - mean_absolute_error: 2.9167\n",
      "(5124, 7, 5) (5124,) (1708, 7, 5) (1708,) (1708, 7, 5) (1708,)\n",
      "Loading: 1H_Forecast/1H_ForecastModel_7_SizeWindow/\n",
      "54/54 [==============================] - 1s 3ms/step - loss: 34.9960 - mean_absolute_error: 4.2376\n",
      "(5123, 8, 5) (5123,) (1708, 8, 5) (1708,) (1708, 8, 5) (1708,)\n",
      "Loading: 1H_Forecast/1H_ForecastModel_8_SizeWindow/\n",
      "54/54 [==============================] - 1s 3ms/step - loss: 35.4113 - mean_absolute_error: 4.3560\n",
      "(5122, 9, 5) (5122,) (1708, 9, 5) (1708,) (1708, 9, 5) (1708,)\n",
      "Loading: 1H_Forecast/1H_ForecastModel_9_SizeWindow/\n",
      "54/54 [==============================] - 1s 5ms/step - loss: 35.5556 - mean_absolute_error: 4.4965\n",
      "CPU times: total: 50.2 s\n",
      "Wall time: 37.9 s\n"
     ]
    }
   ],
   "source": [
    "%%time\n",
    "\n",
    "modelsEvaluator(1,6,9)"
   ]
  },
  {
   "cell_type": "code",
   "execution_count": 20,
   "id": "d9c25310",
   "metadata": {},
   "outputs": [
    {
     "name": "stdout",
     "output_type": "stream",
     "text": [
      "54/54 [==============================] - 1s 4ms/step - loss: 18.1551 - mean_absolute_error: 2.9650\n"
     ]
    },
    {
     "data": {
      "text/plain": [
       "<matplotlib.legend.Legend at 0x19acd6a7100>"
      ]
     },
     "execution_count": 20,
     "metadata": {},
     "output_type": "execute_result"
    },
    {
     "data": {
      "image/png": "[encoded data removed]",
      "text/plain": [
       "<Figure size 576x396 with 1 Axes>"
      ]
     },
     "metadata": {},
     "output_type": "display_data"
    }
   ],
   "source": [
    "model = load_model('1H_Forecast/1H_ForecastModel_6_SizeWindow/')\n",
    "\n",
    "X, y = DataHandler(1,6)\n",
    "X_train, X_test, y_train, y_test = train_test_split(X, y, test_size=0.2)\n",
    "X_train, X_val, y_train, y_val = train_test_split(X_train, y_train, test_size=0.25) \n",
    "model.evaluate(X_test,y_test)\n",
    "\n",
    "train_predictions = model.predict(X_train).flatten()\n",
    "train_results = pd.DataFrame(data={'Train Predictions':train_predictions, 'Actuals':y_train})\n",
    "plt.style.use('seaborn')\n",
    "\n",
    "pd.concat([train_results['Train Predictions'],train_results['Actuals']],axis=1).plot()\n",
    "plt.legend(['Train Predictions','Actuals'])"
   ]
  },
  {
   "cell_type": "markdown",
   "id": "b750cf69",
   "metadata": {},
   "source": [
    "### 2 hours forecast"
   ]
  },
  {
   "cell_type": "code",
   "execution_count": 21,
   "id": "a988269f",
   "metadata": {},
   "outputs": [
    {
     "name": "stdout",
     "output_type": "stream",
     "text": [
      "Model: \"sequential\"\n",
      "_________________________________________________________________\n",
      "Layer (type)                 Output Shape              Param #   \n",
      "=================================================================\n",
      "lstm (LSTM)                  (None, 64)                17920     \n",
      "_________________________________________________________________\n",
      "dense (Dense)                (None, 8)                 520       \n",
      "_________________________________________________________________\n",
      "dense_1 (Dense)              (None, 1)                 9         \n",
      "=================================================================\n",
      "Total params: 18,449\n",
      "Trainable params: 18,449\n",
      "Non-trainable params: 0\n",
      "_________________________________________________________________\n",
      "Epoch 1/25\n",
      "161/161 [==============================] - 4s 10ms/step - loss: 464.3888 - mean_absolute_error: 21.0997 - val_loss: 250.6724 - val_mean_absolute_error: 15.7573\n",
      "INFO:tensorflow:Assets written to: 2H_Forecast/2H_ForecastModel_6_SizeWindow\\assets\n"
     ]
    },
    {
     "name": "stderr",
     "output_type": "stream",
     "text": [
      "INFO:tensorflow:Assets written to: 2H_Forecast/2H_ForecastModel_6_SizeWindow\\assets\n"
     ]
    },
    {
     "name": "stdout",
     "output_type": "stream",
     "text": [
      "Epoch 2/25\n",
      "161/161 [==============================] - 1s 7ms/step - loss: 382.4748 - mean_absolute_error: 19.0337 - val_loss: 179.3392 - val_mean_absolute_error: 13.2912\n",
      "INFO:tensorflow:Assets written to: 2H_Forecast/2H_ForecastModel_6_SizeWindow\\assets\n"
     ]
    },
    {
     "name": "stderr",
     "output_type": "stream",
     "text": [
      "INFO:tensorflow:Assets written to: 2H_Forecast/2H_ForecastModel_6_SizeWindow\\assets\n"
     ]
    },
    {
     "name": "stdout",
     "output_type": "stream",
     "text": [
      "Epoch 3/25\n",
      "161/161 [==============================] - 1s 7ms/step - loss: 282.8047 - mean_absolute_error: 16.1915 - val_loss: 107.0323 - val_mean_absolute_error: 10.2021\n",
      "INFO:tensorflow:Assets written to: 2H_Forecast/2H_ForecastModel_6_SizeWindow\\assets\n"
     ]
    },
    {
     "name": "stderr",
     "output_type": "stream",
     "text": [
      "INFO:tensorflow:Assets written to: 2H_Forecast/2H_ForecastModel_6_SizeWindow\\assets\n"
     ]
    },
    {
     "name": "stdout",
     "output_type": "stream",
     "text": [
      "Epoch 4/25\n",
      "161/161 [==============================] - 1s 7ms/step - loss: 185.9788 - mean_absolute_error: 12.8129 - val_loss: 47.5227 - val_mean_absolute_error: 6.6256\n",
      "INFO:tensorflow:Assets written to: 2H_Forecast/2H_ForecastModel_6_SizeWindow\\assets\n"
     ]
    },
    {
     "name": "stderr",
     "output_type": "stream",
     "text": [
      "INFO:tensorflow:Assets written to: 2H_Forecast/2H_ForecastModel_6_SizeWindow\\assets\n"
     ]
    },
    {
     "name": "stdout",
     "output_type": "stream",
     "text": [
      "Epoch 5/25\n",
      "161/161 [==============================] - 1s 7ms/step - loss: 109.2516 - mean_absolute_error: 9.3168 - val_loss: 13.2626 - val_mean_absolute_error: 3.2961\n",
      "INFO:tensorflow:Assets written to: 2H_Forecast/2H_ForecastModel_6_SizeWindow\\assets\n"
     ]
    },
    {
     "name": "stderr",
     "output_type": "stream",
     "text": [
      "INFO:tensorflow:Assets written to: 2H_Forecast/2H_ForecastModel_6_SizeWindow\\assets\n"
     ]
    },
    {
     "name": "stdout",
     "output_type": "stream",
     "text": [
      "Epoch 6/25\n",
      "161/161 [==============================] - 1s 7ms/step - loss: 64.6294 - mean_absolute_error: 6.5715 - val_loss: 3.2689 - val_mean_absolute_error: 1.4560\n",
      "INFO:tensorflow:Assets written to: 2H_Forecast/2H_ForecastModel_6_SizeWindow\\assets\n"
     ]
    },
    {
     "name": "stderr",
     "output_type": "stream",
     "text": [
      "INFO:tensorflow:Assets written to: 2H_Forecast/2H_ForecastModel_6_SizeWindow\\assets\n"
     ]
    },
    {
     "name": "stdout",
     "output_type": "stream",
     "text": [
      "Epoch 7/25\n",
      "161/161 [==============================] - 1s 7ms/step - loss: 39.3982 - mean_absolute_error: 4.3270 - val_loss: 3.6155 - val_mean_absolute_error: 1.5322\n",
      "Epoch 8/25\n",
      "161/161 [==============================] - 1s 7ms/step - loss: 28.1269 - mean_absolute_error: 3.2256 - val_loss: 9.3987 - val_mean_absolute_error: 2.7507\n",
      "Epoch 9/25\n",
      "161/161 [==============================] - 1s 7ms/step - loss: 23.5204 - mean_absolute_error: 2.9198 - val_loss: 14.4588 - val_mean_absolute_error: 3.5526\n",
      "Epoch 10/25\n",
      "161/161 [==============================] - ETA: 0s - loss: 22.0154 - mean_absolute_error: 2.96 - 1s 8ms/step - loss: 21.9727 - mean_absolute_error: 2.9594 - val_loss: 17.1043 - val_mean_absolute_error: 3.8765\n",
      "Epoch 11/25\n",
      "161/161 [==============================] - 1s 8ms/step - loss: 20.9150 - mean_absolute_error: 2.9449 - val_loss: 17.1486 - val_mean_absolute_error: 3.8830\n",
      "Epoch 12/25\n",
      "161/161 [==============================] - 1s 8ms/step - loss: 19.8145 - mean_absolute_error: 2.8715 - val_loss: 17.6231 - val_mean_absolute_error: 3.9469\n",
      "Epoch 13/25\n",
      "161/161 [==============================] - 1s 8ms/step - loss: 18.7210 - mean_absolute_error: 2.8070 - val_loss: 16.8994 - val_mean_absolute_error: 3.8911\n",
      "Epoch 14/25\n",
      "161/161 [==============================] - 1s 7ms/step - loss: 17.5037 - mean_absolute_error: 2.7646 - val_loss: 17.6775 - val_mean_absolute_error: 4.0109\n",
      "Epoch 15/25\n",
      "161/161 [==============================] - 1s 7ms/step - loss: 16.7660 - mean_absolute_error: 2.7551 - val_loss: 17.6499 - val_mean_absolute_error: 4.0100\n",
      "Epoch 16/25\n",
      "161/161 [==============================] - 1s 8ms/step - loss: 16.1776 - mean_absolute_error: 2.7313 - val_loss: 17.5416 - val_mean_absolute_error: 3.9944\n",
      "Epoch 17/25\n",
      "161/161 [==============================] - 1s 7ms/step - loss: 15.3179 - mean_absolute_error: 2.6551 - val_loss: 16.8678 - val_mean_absolute_error: 3.8788\n",
      "Epoch 18/25\n",
      "161/161 [==============================] - 1s 7ms/step - loss: 14.5853 - mean_absolute_error: 2.6010 - val_loss: 14.9243 - val_mean_absolute_error: 3.5424\n",
      "Epoch 19/25\n",
      "161/161 [==============================] - 1s 7ms/step - loss: 13.5032 - mean_absolute_error: 2.4519 - val_loss: 14.0546 - val_mean_absolute_error: 3.4701\n",
      "Epoch 20/25\n",
      "161/161 [==============================] - 1s 7ms/step - loss: 12.5251 - mean_absolute_error: 2.4028 - val_loss: 14.1035 - val_mean_absolute_error: 3.5196\n",
      "Epoch 21/25\n",
      "161/161 [==============================] - 1s 8ms/step - loss: 11.7857 - mean_absolute_error: 2.3730 - val_loss: 14.1366 - val_mean_absolute_error: 3.5579\n",
      "Epoch 22/25\n",
      "161/161 [==============================] - 1s 8ms/step - loss: 11.0112 - mean_absolute_error: 2.2816 - val_loss: 12.3844 - val_mean_absolute_error: 3.2916\n",
      "Epoch 23/25\n",
      "161/161 [==============================] - 1s 8ms/step - loss: 10.0105 - mean_absolute_error: 2.1818 - val_loss: 13.7448 - val_mean_absolute_error: 3.4959\n",
      "Epoch 24/25\n",
      "161/161 [==============================] - 1s 8ms/step - loss: 9.5291 - mean_absolute_error: 2.1755 - val_loss: 13.4617 - val_mean_absolute_error: 3.4365\n",
      "Epoch 25/25\n",
      "161/161 [==============================] - 1s 7ms/step - loss: 9.0299 - mean_absolute_error: 2.1098 - val_loss: 12.7366 - val_mean_absolute_error: 3.3193\n",
      "\n",
      "-----------------------------------------------------------------------------------------------------------\n",
      "\n",
      "Model: \"sequential_1\"\n",
      "_________________________________________________________________\n",
      "Layer (type)                 Output Shape              Param #   \n",
      "=================================================================\n",
      "lstm_1 (LSTM)                (None, 64)                17920     \n",
      "_________________________________________________________________\n",
      "dense_2 (Dense)              (None, 8)                 520       \n",
      "_________________________________________________________________\n",
      "dense_3 (Dense)              (None, 1)                 9         \n",
      "=================================================================\n",
      "Total params: 18,449\n",
      "Trainable params: 18,449\n",
      "Non-trainable params: 0\n",
      "_________________________________________________________________\n",
      "Epoch 1/25\n",
      "161/161 [==============================] - 4s 11ms/step - loss: 426.2810 - mean_absolute_error: 20.0746 - val_loss: 187.2236 - val_mean_absolute_error: 13.6152\n",
      "INFO:tensorflow:Assets written to: 2H_Forecast/2H_ForecastModel_7_SizeWindow\\assets\n"
     ]
    },
    {
     "name": "stderr",
     "output_type": "stream",
     "text": [
      "INFO:tensorflow:Assets written to: 2H_Forecast/2H_ForecastModel_7_SizeWindow\\assets\n"
     ]
    },
    {
     "name": "stdout",
     "output_type": "stream",
     "text": [
      "Epoch 2/25\n",
      "161/161 [==============================] - 1s 9ms/step - loss: 295.3618 - mean_absolute_error: 16.3649 - val_loss: 91.3200 - val_mean_absolute_error: 9.3209\n",
      "INFO:tensorflow:Assets written to: 2H_Forecast/2H_ForecastModel_7_SizeWindow\\assets\n"
     ]
    },
    {
     "name": "stderr",
     "output_type": "stream",
     "text": [
      "INFO:tensorflow:Assets written to: 2H_Forecast/2H_ForecastModel_7_SizeWindow\\assets\n"
     ]
    },
    {
     "name": "stdout",
     "output_type": "stream",
     "text": [
      "Epoch 3/25\n",
      "161/161 [==============================] - 1s 8ms/step - loss: 157.9919 - mean_absolute_error: 11.4632 - val_loss: 25.7638 - val_mean_absolute_error: 4.5148\n",
      "INFO:tensorflow:Assets written to: 2H_Forecast/2H_ForecastModel_7_SizeWindow\\assets\n"
     ]
    },
    {
     "name": "stderr",
     "output_type": "stream",
     "text": [
      "INFO:tensorflow:Assets written to: 2H_Forecast/2H_ForecastModel_7_SizeWindow\\assets\n"
     ]
    },
    {
     "name": "stdout",
     "output_type": "stream",
     "text": [
      "Epoch 4/25\n",
      "161/161 [==============================] - 2s 9ms/step - loss: 66.7888 - mean_absolute_error: 6.5753 - val_loss: 5.2739 - val_mean_absolute_error: 1.9350\n",
      "INFO:tensorflow:Assets written to: 2H_Forecast/2H_ForecastModel_7_SizeWindow\\assets\n"
     ]
    },
    {
     "name": "stderr",
     "output_type": "stream",
     "text": [
      "INFO:tensorflow:Assets written to: 2H_Forecast/2H_ForecastModel_7_SizeWindow\\assets\n"
     ]
    },
    {
     "name": "stdout",
     "output_type": "stream",
     "text": [
      "Epoch 5/25\n",
      "161/161 [==============================] - 1s 8ms/step - loss: 32.9290 - mean_absolute_error: 3.8203 - val_loss: 8.5722 - val_mean_absolute_error: 2.4360\n",
      "Epoch 6/25\n",
      "161/161 [==============================] - 1s 8ms/step - loss: 23.3207 - mean_absolute_error: 3.0296 - val_loss: 12.9827 - val_mean_absolute_error: 3.1204\n",
      "Epoch 7/25\n",
      "161/161 [==============================] - 1s 7ms/step - loss: 19.4396 - mean_absolute_error: 2.8180 - val_loss: 14.7337 - val_mean_absolute_error: 3.4649\n",
      "Epoch 8/25\n",
      "161/161 [==============================] - 1s 8ms/step - loss: 17.5589 - mean_absolute_error: 2.7135 - val_loss: 15.1363 - val_mean_absolute_error: 3.5958\n",
      "Epoch 9/25\n",
      "161/161 [==============================] - 1s 8ms/step - loss: 16.0380 - mean_absolute_error: 2.5753 - val_loss: 14.4849 - val_mean_absolute_error: 3.5007\n",
      "Epoch 10/25\n",
      "161/161 [==============================] - 2s 10ms/step - loss: 14.2341 - mean_absolute_error: 2.4464 - val_loss: 12.6007 - val_mean_absolute_error: 3.2793\n",
      "Epoch 11/25\n",
      "161/161 [==============================] - 1s 8ms/step - loss: 12.4220 - mean_absolute_error: 2.3363 - val_loss: 13.1706 - val_mean_absolute_error: 3.3704\n",
      "Epoch 12/25\n",
      "161/161 [==============================] - 1s 9ms/step - loss: 11.4978 - mean_absolute_error: 2.2880 - val_loss: 13.3333 - val_mean_absolute_error: 3.4116\n",
      "Epoch 13/25\n",
      "161/161 [==============================] - 1s 7ms/step - loss: 10.6394 - mean_absolute_error: 2.2290 - val_loss: 12.4874 - val_mean_absolute_error: 3.2877\n",
      "Epoch 14/25\n",
      "161/161 [==============================] - 1s 8ms/step - loss: 9.6869 - mean_absolute_error: 2.1316 - val_loss: 12.4550 - val_mean_absolute_error: 3.2363\n",
      "Epoch 15/25\n",
      "161/161 [==============================] - 1s 9ms/step - loss: 8.9399 - mean_absolute_error: 2.0814 - val_loss: 13.0265 - val_mean_absolute_error: 3.3133\n",
      "Epoch 16/25\n",
      "161/161 [==============================] - 1s 9ms/step - loss: 8.4473 - mean_absolute_error: 2.0555 - val_loss: 13.2754 - val_mean_absolute_error: 3.3521\n",
      "Epoch 17/25\n",
      "161/161 [==============================] - 1s 8ms/step - loss: 7.9810 - mean_absolute_error: 2.0067 - val_loss: 12.9910 - val_mean_absolute_error: 3.3148\n",
      "Epoch 18/25\n",
      "161/161 [==============================] - 1s 8ms/step - loss: 7.5312 - mean_absolute_error: 1.9517 - val_loss: 12.7699 - val_mean_absolute_error: 3.2962\n",
      "Epoch 19/25\n",
      "161/161 [==============================] - 1s 7ms/step - loss: 7.1527 - mean_absolute_error: 1.9170 - val_loss: 12.5198 - val_mean_absolute_error: 3.2638\n",
      "Epoch 20/25\n",
      "161/161 [==============================] - 1s 7ms/step - loss: 6.7753 - mean_absolute_error: 1.8703 - val_loss: 12.4814 - val_mean_absolute_error: 3.2743\n",
      "Epoch 21/25\n",
      "161/161 [==============================] - 1s 8ms/step - loss: 6.3838 - mean_absolute_error: 1.8238 - val_loss: 11.8149 - val_mean_absolute_error: 3.1708\n",
      "Epoch 22/25\n",
      "161/161 [==============================] - 1s 8ms/step - loss: 6.0340 - mean_absolute_error: 1.7838 - val_loss: 11.5079 - val_mean_absolute_error: 3.1363\n",
      "Epoch 23/25\n",
      "161/161 [==============================] - 1s 7ms/step - loss: 5.7208 - mean_absolute_error: 1.7370 - val_loss: 11.2302 - val_mean_absolute_error: 3.0964\n",
      "Epoch 24/25\n",
      "161/161 [==============================] - 1s 8ms/step - loss: 5.3885 - mean_absolute_error: 1.6898 - val_loss: 10.8699 - val_mean_absolute_error: 3.0602\n",
      "Epoch 25/25\n",
      "161/161 [==============================] - 1s 8ms/step - loss: 5.1323 - mean_absolute_error: 1.6564 - val_loss: 10.2163 - val_mean_absolute_error: 2.9538\n",
      "\n",
      "-----------------------------------------------------------------------------------------------------------\n",
      "\n",
      "Model: \"sequential_2\"\n",
      "_________________________________________________________________\n",
      "Layer (type)                 Output Shape              Param #   \n",
      "=================================================================\n",
      "lstm_2 (LSTM)                (None, 64)                17920     \n",
      "_________________________________________________________________\n",
      "dense_4 (Dense)              (None, 8)                 520       \n",
      "_________________________________________________________________\n",
      "dense_5 (Dense)              (None, 1)                 9         \n",
      "=================================================================\n",
      "Total params: 18,449\n",
      "Trainable params: 18,449\n",
      "Non-trainable params: 0\n",
      "_________________________________________________________________\n",
      "Epoch 1/25\n",
      "161/161 [==============================] - 4s 12ms/step - loss: 474.5732 - mean_absolute_error: 21.2943 - val_loss: 249.1068 - val_mean_absolute_error: 15.7328\n",
      "INFO:tensorflow:Assets written to: 2H_Forecast/2H_ForecastModel_8_SizeWindow\\assets\n"
     ]
    },
    {
     "name": "stderr",
     "output_type": "stream",
     "text": [
      "INFO:tensorflow:Assets written to: 2H_Forecast/2H_ForecastModel_8_SizeWindow\\assets\n"
     ]
    },
    {
     "name": "stdout",
     "output_type": "stream",
     "text": [
      "Epoch 2/25\n",
      "161/161 [==============================] - 1s 8ms/step - loss: 393.6646 - mean_absolute_error: 19.2870 - val_loss: 178.0835 - val_mean_absolute_error: 13.2686\n",
      "INFO:tensorflow:Assets written to: 2H_Forecast/2H_ForecastModel_8_SizeWindow\\assets\n"
     ]
    },
    {
     "name": "stderr",
     "output_type": "stream",
     "text": [
      "INFO:tensorflow:Assets written to: 2H_Forecast/2H_ForecastModel_8_SizeWindow\\assets\n"
     ]
    },
    {
     "name": "stdout",
     "output_type": "stream",
     "text": [
      "Epoch 3/25\n",
      "161/161 [==============================] - 2s 14ms/step - loss: 272.1839 - mean_absolute_error: 15.7694 - val_loss: 87.0807 - val_mean_absolute_error: 9.1162\n",
      "INFO:tensorflow:Assets written to: 2H_Forecast/2H_ForecastModel_8_SizeWindow\\assets\n"
     ]
    },
    {
     "name": "stderr",
     "output_type": "stream",
     "text": [
      "INFO:tensorflow:Assets written to: 2H_Forecast/2H_ForecastModel_8_SizeWindow\\assets\n"
     ]
    },
    {
     "name": "stdout",
     "output_type": "stream",
     "text": [
      "Epoch 4/25\n",
      "161/161 [==============================] - 1s 8ms/step - loss: 160.2989 - mean_absolute_error: 11.7008 - val_loss: 33.0949 - val_mean_absolute_error: 5.4073\n",
      "INFO:tensorflow:Assets written to: 2H_Forecast/2H_ForecastModel_8_SizeWindow\\assets\n"
     ]
    },
    {
     "name": "stderr",
     "output_type": "stream",
     "text": [
      "INFO:tensorflow:Assets written to: 2H_Forecast/2H_ForecastModel_8_SizeWindow\\assets\n"
     ]
    },
    {
     "name": "stdout",
     "output_type": "stream",
     "text": [
      "Epoch 5/25\n",
      "161/161 [==============================] - 1s 8ms/step - loss: 90.4000 - mean_absolute_error: 8.2332 - val_loss: 7.0155 - val_mean_absolute_error: 2.2733\n",
      "INFO:tensorflow:Assets written to: 2H_Forecast/2H_ForecastModel_8_SizeWindow\\assets\n"
     ]
    },
    {
     "name": "stderr",
     "output_type": "stream",
     "text": [
      "INFO:tensorflow:Assets written to: 2H_Forecast/2H_ForecastModel_8_SizeWindow\\assets\n"
     ]
    },
    {
     "name": "stdout",
     "output_type": "stream",
     "text": [
      "Epoch 6/25\n",
      "161/161 [==============================] - 2s 10ms/step - loss: 47.6219 - mean_absolute_error: 5.1634 - val_loss: 2.8355 - val_mean_absolute_error: 1.3750\n",
      "INFO:tensorflow:Assets written to: 2H_Forecast/2H_ForecastModel_8_SizeWindow\\assets\n"
     ]
    },
    {
     "name": "stderr",
     "output_type": "stream",
     "text": [
      "INFO:tensorflow:Assets written to: 2H_Forecast/2H_ForecastModel_8_SizeWindow\\assets\n"
     ]
    },
    {
     "name": "stdout",
     "output_type": "stream",
     "text": [
      "Epoch 7/25\n",
      "161/161 [==============================] - 1s 8ms/step - loss: 28.0484 - mean_absolute_error: 3.3378 - val_loss: 8.9509 - val_mean_absolute_error: 2.6014\n",
      "Epoch 8/25\n",
      "161/161 [==============================] - 2s 10ms/step - loss: 20.5600 - mean_absolute_error: 2.7643 - val_loss: 13.3405 - val_mean_absolute_error: 3.3412\n",
      "Epoch 9/25\n",
      "161/161 [==============================] - 2s 14ms/step - loss: 18.0488 - mean_absolute_error: 2.6229 - val_loss: 12.3318 - val_mean_absolute_error: 3.2757\n",
      "Epoch 10/25\n",
      "161/161 [==============================] - 1s 9ms/step - loss: 15.9867 - mean_absolute_error: 2.4947 - val_loss: 13.7920 - val_mean_absolute_error: 3.4636\n",
      "Epoch 11/25\n",
      "161/161 [==============================] - 2s 13ms/step - loss: 14.1473 - mean_absolute_error: 2.3489 - val_loss: 14.4531 - val_mean_absolute_error: 3.5563\n",
      "Epoch 12/25\n",
      "161/161 [==============================] - 2s 12ms/step - loss: 13.0544 - mean_absolute_error: 2.2886 - val_loss: 14.5045 - val_mean_absolute_error: 3.5617\n",
      "Epoch 13/25\n",
      "161/161 [==============================] - 2s 14ms/step - loss: 12.0261 - mean_absolute_error: 2.2163 - val_loss: 13.5084 - val_mean_absolute_error: 3.4269\n",
      "Epoch 14/25\n",
      "161/161 [==============================] - 2s 14ms/step - loss: 10.8735 - mean_absolute_error: 2.1142 - val_loss: 11.6525 - val_mean_absolute_error: 3.1873\n",
      "Epoch 15/25\n",
      "161/161 [==============================] - 2s 14ms/step - loss: 9.8409 - mean_absolute_error: 1.9897 - val_loss: 11.5763 - val_mean_absolute_error: 3.1539\n",
      "Epoch 16/25\n",
      "161/161 [==============================] - 2s 12ms/step - loss: 8.9942 - mean_absolute_error: 1.9181 - val_loss: 9.8048 - val_mean_absolute_error: 2.7935\n",
      "Epoch 17/25\n",
      "161/161 [==============================] - 2s 14ms/step - loss: 7.8131 - mean_absolute_error: 1.7728 - val_loss: 9.8099 - val_mean_absolute_error: 2.8548\n",
      "Epoch 18/25\n",
      "161/161 [==============================] - 2s 10ms/step - loss: 6.7354 - mean_absolute_error: 1.6649 - val_loss: 7.8907 - val_mean_absolute_error: 2.5071\n",
      "Epoch 19/25\n",
      "161/161 [==============================] - 2s 10ms/step - loss: 5.8145 - mean_absolute_error: 1.5585 - val_loss: 8.6917 - val_mean_absolute_error: 2.6947\n",
      "Epoch 20/25\n",
      "161/161 [==============================] - 2s 9ms/step - loss: 5.1407 - mean_absolute_error: 1.4988 - val_loss: 8.0077 - val_mean_absolute_error: 2.5312\n",
      "Epoch 21/25\n",
      "161/161 [==============================] - 2s 10ms/step - loss: 4.5390 - mean_absolute_error: 1.4288 - val_loss: 7.9666 - val_mean_absolute_error: 2.5237\n",
      "Epoch 22/25\n",
      "161/161 [==============================] - 2s 10ms/step - loss: 4.1293 - mean_absolute_error: 1.3777 - val_loss: 7.6348 - val_mean_absolute_error: 2.4573\n",
      "Epoch 23/25\n",
      "161/161 [==============================] - 1s 9ms/step - loss: 3.7969 - mean_absolute_error: 1.3301 - val_loss: 7.4792 - val_mean_absolute_error: 2.4433\n",
      "Epoch 24/25\n",
      "161/161 [==============================] - 2s 9ms/step - loss: 3.4948 - mean_absolute_error: 1.2807 - val_loss: 6.8830 - val_mean_absolute_error: 2.3247\n",
      "Epoch 25/25\n",
      "161/161 [==============================] - 1s 9ms/step - loss: 3.2093 - mean_absolute_error: 1.2341 - val_loss: 6.4608 - val_mean_absolute_error: 2.2304\n",
      "\n",
      "-----------------------------------------------------------------------------------------------------------\n",
      "\n",
      "Model: \"sequential_3\"\n",
      "_________________________________________________________________\n",
      "Layer (type)                 Output Shape              Param #   \n",
      "=================================================================\n",
      "lstm_3 (LSTM)                (None, 64)                17920     \n",
      "_________________________________________________________________\n",
      "dense_6 (Dense)              (None, 8)                 520       \n",
      "_________________________________________________________________\n",
      "dense_7 (Dense)              (None, 1)                 9         \n",
      "=================================================================\n",
      "Total params: 18,449\n",
      "Trainable params: 18,449\n",
      "Non-trainable params: 0\n",
      "_________________________________________________________________\n",
      "Epoch 1/25\n",
      "161/161 [==============================] - 4s 12ms/step - loss: 536.4098 - mean_absolute_error: 22.7138 - val_loss: 312.7634 - val_mean_absolute_error: 17.6443\n",
      "INFO:tensorflow:Assets written to: 2H_Forecast/2H_ForecastModel_9_SizeWindow\\assets\n"
     ]
    },
    {
     "name": "stderr",
     "output_type": "stream",
     "text": [
      "INFO:tensorflow:Assets written to: 2H_Forecast/2H_ForecastModel_9_SizeWindow\\assets\n"
     ]
    },
    {
     "name": "stdout",
     "output_type": "stream",
     "text": [
      "Epoch 2/25\n",
      "161/161 [==============================] - 2s 13ms/step - loss: 506.8086 - mean_absolute_error: 22.0551 - val_loss: 301.9395 - val_mean_absolute_error: 17.3349\n",
      "INFO:tensorflow:Assets written to: 2H_Forecast/2H_ForecastModel_9_SizeWindow\\assets\n"
     ]
    },
    {
     "name": "stderr",
     "output_type": "stream",
     "text": [
      "INFO:tensorflow:Assets written to: 2H_Forecast/2H_ForecastModel_9_SizeWindow\\assets\n"
     ]
    },
    {
     "name": "stdout",
     "output_type": "stream",
     "text": [
      "Epoch 3/25\n",
      "161/161 [==============================] - 2s 10ms/step - loss: 492.1248 - mean_absolute_error: 21.7227 - val_loss: 289.1643 - val_mean_absolute_error: 16.9594\n",
      "INFO:tensorflow:Assets written to: 2H_Forecast/2H_ForecastModel_9_SizeWindow\\assets\n"
     ]
    },
    {
     "name": "stderr",
     "output_type": "stream",
     "text": [
      "INFO:tensorflow:Assets written to: 2H_Forecast/2H_ForecastModel_9_SizeWindow\\assets\n"
     ]
    },
    {
     "name": "stdout",
     "output_type": "stream",
     "text": [
      "Epoch 4/25\n",
      "161/161 [==============================] - 2s 9ms/step - loss: 468.5353 - mean_absolute_error: 21.1684 - val_loss: 264.7228 - val_mean_absolute_error: 16.2245\n",
      "INFO:tensorflow:Assets written to: 2H_Forecast/2H_ForecastModel_9_SizeWindow\\assets\n"
     ]
    },
    {
     "name": "stderr",
     "output_type": "stream",
     "text": [
      "INFO:tensorflow:Assets written to: 2H_Forecast/2H_ForecastModel_9_SizeWindow\\assets\n"
     ]
    },
    {
     "name": "stdout",
     "output_type": "stream",
     "text": [
      "Epoch 5/25\n",
      "161/161 [==============================] - 2s 11ms/step - loss: 437.0177 - mean_absolute_error: 20.4083 - val_loss: 239.0723 - val_mean_absolute_error: 15.4148\n",
      "INFO:tensorflow:Assets written to: 2H_Forecast/2H_ForecastModel_9_SizeWindow\\assets\n"
     ]
    },
    {
     "name": "stderr",
     "output_type": "stream",
     "text": [
      "INFO:tensorflow:Assets written to: 2H_Forecast/2H_ForecastModel_9_SizeWindow\\assets\n"
     ]
    },
    {
     "name": "stdout",
     "output_type": "stream",
     "text": [
      "Epoch 6/25\n",
      "161/161 [==============================] - 2s 9ms/step - loss: 397.4402 - mean_absolute_error: 19.4148 - val_loss: 203.1021 - val_mean_absolute_error: 14.2012\n",
      "INFO:tensorflow:Assets written to: 2H_Forecast/2H_ForecastModel_9_SizeWindow\\assets\n"
     ]
    },
    {
     "name": "stderr",
     "output_type": "stream",
     "text": [
      "INFO:tensorflow:Assets written to: 2H_Forecast/2H_ForecastModel_9_SizeWindow\\assets\n"
     ]
    },
    {
     "name": "stdout",
     "output_type": "stream",
     "text": [
      "Epoch 7/25\n",
      "161/161 [==============================] - 2s 10ms/step - loss: 351.3586 - mean_absolute_error: 18.1790 - val_loss: 170.8035 - val_mean_absolute_error: 13.0151\n",
      "INFO:tensorflow:Assets written to: 2H_Forecast/2H_ForecastModel_9_SizeWindow\\assets\n"
     ]
    },
    {
     "name": "stderr",
     "output_type": "stream",
     "text": [
      "INFO:tensorflow:Assets written to: 2H_Forecast/2H_ForecastModel_9_SizeWindow\\assets\n"
     ]
    },
    {
     "name": "stdout",
     "output_type": "stream",
     "text": [
      "Epoch 8/25\n",
      "161/161 [==============================] - 2s 12ms/step - loss: 306.6785 - mean_absolute_error: 16.9170 - val_loss: 138.7422 - val_mean_absolute_error: 11.7121\n",
      "INFO:tensorflow:Assets written to: 2H_Forecast/2H_ForecastModel_9_SizeWindow\\assets\n"
     ]
    },
    {
     "name": "stderr",
     "output_type": "stream",
     "text": [
      "INFO:tensorflow:Assets written to: 2H_Forecast/2H_ForecastModel_9_SizeWindow\\assets\n"
     ]
    },
    {
     "name": "stdout",
     "output_type": "stream",
     "text": [
      "Epoch 9/25\n",
      "161/161 [==============================] - 2s 12ms/step - loss: 264.1783 - mean_absolute_error: 15.6197 - val_loss: 109.7027 - val_mean_absolute_error: 10.4045\n",
      "INFO:tensorflow:Assets written to: 2H_Forecast/2H_ForecastModel_9_SizeWindow\\assets\n"
     ]
    },
    {
     "name": "stderr",
     "output_type": "stream",
     "text": [
      "INFO:tensorflow:Assets written to: 2H_Forecast/2H_ForecastModel_9_SizeWindow\\assets\n"
     ]
    },
    {
     "name": "stdout",
     "output_type": "stream",
     "text": [
      "Epoch 10/25\n",
      "161/161 [==============================] - 2s 12ms/step - loss: 224.4975 - mean_absolute_error: 14.2793 - val_loss: 83.4778 - val_mean_absolute_error: 9.0603\n",
      "INFO:tensorflow:Assets written to: 2H_Forecast/2H_ForecastModel_9_SizeWindow\\assets\n"
     ]
    },
    {
     "name": "stderr",
     "output_type": "stream",
     "text": [
      "INFO:tensorflow:Assets written to: 2H_Forecast/2H_ForecastModel_9_SizeWindow\\assets\n"
     ]
    },
    {
     "name": "stdout",
     "output_type": "stream",
     "text": [
      "Epoch 11/25\n",
      "161/161 [==============================] - 2s 11ms/step - loss: 190.1964 - mean_absolute_error: 13.0249 - val_loss: 62.4857 - val_mean_absolute_error: 7.8158\n",
      "INFO:tensorflow:Assets written to: 2H_Forecast/2H_ForecastModel_9_SizeWindow\\assets\n"
     ]
    },
    {
     "name": "stderr",
     "output_type": "stream",
     "text": [
      "INFO:tensorflow:Assets written to: 2H_Forecast/2H_ForecastModel_9_SizeWindow\\assets\n"
     ]
    },
    {
     "name": "stdout",
     "output_type": "stream",
     "text": [
      "Epoch 12/25\n",
      "161/161 [==============================] - 2s 11ms/step - loss: 159.8503 - mean_absolute_error: 11.7990 - val_loss: 44.2305 - val_mean_absolute_error: 6.5477\n",
      "INFO:tensorflow:Assets written to: 2H_Forecast/2H_ForecastModel_9_SizeWindow\\assets\n"
     ]
    },
    {
     "name": "stderr",
     "output_type": "stream",
     "text": [
      "INFO:tensorflow:Assets written to: 2H_Forecast/2H_ForecastModel_9_SizeWindow\\assets\n"
     ]
    },
    {
     "name": "stdout",
     "output_type": "stream",
     "text": [
      "Epoch 13/25\n",
      "161/161 [==============================] - 2s 12ms/step - loss: 129.8512 - mean_absolute_error: 10.4441 - val_loss: 28.2405 - val_mean_absolute_error: 5.1807\n",
      "INFO:tensorflow:Assets written to: 2H_Forecast/2H_ForecastModel_9_SizeWindow\\assets\n"
     ]
    },
    {
     "name": "stderr",
     "output_type": "stream",
     "text": [
      "INFO:tensorflow:Assets written to: 2H_Forecast/2H_ForecastModel_9_SizeWindow\\assets\n"
     ]
    },
    {
     "name": "stdout",
     "output_type": "stream",
     "text": [
      "Epoch 14/25\n",
      "161/161 [==============================] - 2s 10ms/step - loss: 104.7522 - mean_absolute_error: 9.1682 - val_loss: 17.2510 - val_mean_absolute_error: 3.9892\n",
      "INFO:tensorflow:Assets written to: 2H_Forecast/2H_ForecastModel_9_SizeWindow\\assets\n"
     ]
    },
    {
     "name": "stderr",
     "output_type": "stream",
     "text": [
      "INFO:tensorflow:Assets written to: 2H_Forecast/2H_ForecastModel_9_SizeWindow\\assets\n"
     ]
    },
    {
     "name": "stdout",
     "output_type": "stream",
     "text": [
      "Epoch 15/25\n",
      "161/161 [==============================] - 2s 10ms/step - loss: 85.2804 - mean_absolute_error: 8.0372 - val_loss: 9.5645 - val_mean_absolute_error: 2.8764\n",
      "INFO:tensorflow:Assets written to: 2H_Forecast/2H_ForecastModel_9_SizeWindow\\assets\n"
     ]
    },
    {
     "name": "stderr",
     "output_type": "stream",
     "text": [
      "INFO:tensorflow:Assets written to: 2H_Forecast/2H_ForecastModel_9_SizeWindow\\assets\n"
     ]
    },
    {
     "name": "stdout",
     "output_type": "stream",
     "text": [
      "Epoch 16/25\n",
      "161/161 [==============================] - 2s 13ms/step - loss: 69.2904 - mean_absolute_error: 6.9663 - val_loss: 4.6059 - val_mean_absolute_error: 1.8960\n",
      "INFO:tensorflow:Assets written to: 2H_Forecast/2H_ForecastModel_9_SizeWindow\\assets\n"
     ]
    },
    {
     "name": "stderr",
     "output_type": "stream",
     "text": [
      "INFO:tensorflow:Assets written to: 2H_Forecast/2H_ForecastModel_9_SizeWindow\\assets\n"
     ]
    },
    {
     "name": "stdout",
     "output_type": "stream",
     "text": [
      "Epoch 17/25\n",
      "161/161 [==============================] - 2s 11ms/step - loss: 56.2200 - mean_absolute_error: 5.9486 - val_loss: 1.9471 - val_mean_absolute_error: 1.1540\n",
      "INFO:tensorflow:Assets written to: 2H_Forecast/2H_ForecastModel_9_SizeWindow\\assets\n"
     ]
    },
    {
     "name": "stderr",
     "output_type": "stream",
     "text": [
      "INFO:tensorflow:Assets written to: 2H_Forecast/2H_ForecastModel_9_SizeWindow\\assets\n"
     ]
    },
    {
     "name": "stdout",
     "output_type": "stream",
     "text": [
      "Epoch 18/25\n",
      "161/161 [==============================] - 2s 11ms/step - loss: 45.9184 - mean_absolute_error: 5.0043 - val_loss: 1.2522 - val_mean_absolute_error: 0.8436\n",
      "INFO:tensorflow:Assets written to: 2H_Forecast/2H_ForecastModel_9_SizeWindow\\assets\n"
     ]
    },
    {
     "name": "stderr",
     "output_type": "stream",
     "text": [
      "INFO:tensorflow:Assets written to: 2H_Forecast/2H_ForecastModel_9_SizeWindow\\assets\n"
     ]
    },
    {
     "name": "stdout",
     "output_type": "stream",
     "text": [
      "Epoch 19/25\n",
      "161/161 [==============================] - 2s 12ms/step - loss: 37.9963 - mean_absolute_error: 4.1918 - val_loss: 2.1219 - val_mean_absolute_error: 1.1679\n",
      "Epoch 20/25\n",
      "161/161 [==============================] - 2s 14ms/step - loss: 32.1789 - mean_absolute_error: 3.5744 - val_loss: 4.0579 - val_mean_absolute_error: 1.7476\n",
      "Epoch 21/25\n",
      "161/161 [==============================] - 2s 13ms/step - loss: 28.1135 - mean_absolute_error: 3.1861 - val_loss: 6.6394 - val_mean_absolute_error: 2.3417\n",
      "Epoch 22/25\n",
      "161/161 [==============================] - 2s 11ms/step - loss: 25.3539 - mean_absolute_error: 2.9453 - val_loss: 9.4915 - val_mean_absolute_error: 2.8724\n",
      "Epoch 23/25\n",
      "161/161 [==============================] - 2s 11ms/step - loss: 23.5577 - mean_absolute_error: 2.8585 - val_loss: 12.3194 - val_mean_absolute_error: 3.3221\n",
      "Epoch 24/25\n",
      "161/161 [==============================] - 2s 14ms/step - loss: 22.5026 - mean_absolute_error: 2.8845 - val_loss: 14.7860 - val_mean_absolute_error: 3.6735\n",
      "Epoch 25/25\n",
      "161/161 [==============================] - 2s 12ms/step - loss: 21.8766 - mean_absolute_error: 2.9501 - val_loss: 16.8220 - val_mean_absolute_error: 3.9408\n",
      "\n",
      "-----------------------------------------------------------------------------------------------------------\n",
      "\n",
      "CPU times: total: 19min 39s\n",
      "Wall time: 8min 33s\n"
     ]
    }
   ],
   "source": [
    "%%time\n",
    "\n",
    "Trainer(2,6,9)"
   ]
  },
  {
   "cell_type": "code",
   "execution_count": 24,
   "id": "0feb328f",
   "metadata": {},
   "outputs": [
    {
     "name": "stdout",
     "output_type": "stream",
     "text": [
      "(5124, 6, 5) (5124,) (1708, 6, 5) (1708,) (1708, 6, 5) (1708,)\n",
      "Loading: 2H_Forecast/2H_ForecastModel_6_SizeWindow/\n",
      "54/54 [==============================] - 1s 3ms/step - loss: 36.1770 - mean_absolute_error: 4.6566\n",
      "(5123, 7, 5) (5123,) (1708, 7, 5) (1708,) (1708, 7, 5) (1708,)\n",
      "Loading: 2H_Forecast/2H_ForecastModel_7_SizeWindow/\n",
      "54/54 [==============================] - 1s 5ms/step - loss: 32.2846 - mean_absolute_error: 4.3210\n",
      "(5122, 8, 5) (5122,) (1708, 8, 5) (1708,) (1708, 8, 5) (1708,)\n",
      "Loading: 2H_Forecast/2H_ForecastModel_8_SizeWindow/\n",
      "54/54 [==============================] - 1s 4ms/step - loss: 23.7999 - mean_absolute_error: 3.4242\n",
      "(5121, 9, 5) (5121,) (1708, 9, 5) (1708,) (1708, 9, 5) (1708,)\n",
      "Loading: 2H_Forecast/2H_ForecastModel_9_SizeWindow/\n",
      "54/54 [==============================] - 1s 4ms/step - loss: 31.5425 - mean_absolute_error: 4.0255\n",
      "CPU times: total: 55 s\n",
      "Wall time: 44.4 s\n"
     ]
    }
   ],
   "source": [
    "%%time\n",
    "\n",
    "modelsEvaluator(2,6,9)"
   ]
  },
  {
   "cell_type": "code",
   "execution_count": 25,
   "id": "7e897b7f",
   "metadata": {},
   "outputs": [
    {
     "name": "stdout",
     "output_type": "stream",
     "text": [
      "54/54 [==============================] - 1s 3ms/step - loss: 27.3637 - mean_absolute_error: 3.7232\n"
     ]
    },
    {
     "data": {
      "text/plain": [
       "<matplotlib.legend.Legend at 0x19acf494250>"
      ]
     },
     "execution_count": 25,
     "metadata": {},
     "output_type": "execute_result"
    },
    {
     "data": {
      "image/png": "[encoded data removed]",
      "text/plain": [
       "<Figure size 576x396 with 1 Axes>"
      ]
     },
     "metadata": {},
     "output_type": "display_data"
    }
   ],
   "source": [
    "model = load_model('2H_Forecast/2H_ForecastModel_8_SizeWindow/')\n",
    "\n",
    "X, y = DataHandler(2,8)\n",
    "X_train, X_test, y_train, y_test = train_test_split(X, y, test_size=0.2)\n",
    "X_train, X_val, y_train, y_val = train_test_split(X_train, y_train, test_size=0.25) \n",
    "model.evaluate(X_test,y_test)\n",
    "\n",
    "train_predictions = model.predict(X_train).flatten()\n",
    "train_results = pd.DataFrame(data={'Train Predictions':train_predictions, 'Actuals':y_train})\n",
    "plt.style.use('seaborn')\n",
    "\n",
    "pd.concat([train_results['Train Predictions'],train_results['Actuals']],axis=1).plot()\n",
    "plt.legend(['Train Predictions','Actuals'])"
   ]
  },
  {
   "cell_type": "markdown",
   "id": "dd06e38c",
   "metadata": {},
   "source": [
    "### 3 hours forecast"
   ]
  },
  {
   "cell_type": "code",
   "execution_count": 26,
   "id": "c655ca05",
   "metadata": {},
   "outputs": [
    {
     "name": "stdout",
     "output_type": "stream",
     "text": [
      "Model: \"sequential_4\"\n",
      "_________________________________________________________________\n",
      "Layer (type)                 Output Shape              Param #   \n",
      "=================================================================\n",
      "lstm_4 (LSTM)                (None, 64)                17920     \n",
      "_________________________________________________________________\n",
      "dense_8 (Dense)              (None, 8)                 520       \n",
      "_________________________________________________________________\n",
      "dense_9 (Dense)              (None, 1)                 9         \n",
      "=================================================================\n",
      "Total params: 18,449\n",
      "Trainable params: 18,449\n",
      "Non-trainable params: 0\n",
      "_________________________________________________________________\n",
      "Epoch 1/25\n",
      "161/161 [==============================] - 4s 11ms/step - loss: 469.9772 - mean_absolute_error: 21.1322 - val_loss: 238.9371 - val_mean_absolute_error: 15.4003\n",
      "INFO:tensorflow:Assets written to: 3H_Forecast/3H_ForecastModel_6_SizeWindow\\assets\n"
     ]
    },
    {
     "name": "stderr",
     "output_type": "stream",
     "text": [
      "INFO:tensorflow:Assets written to: 3H_Forecast/3H_ForecastModel_6_SizeWindow\\assets\n"
     ]
    },
    {
     "name": "stdout",
     "output_type": "stream",
     "text": [
      "Epoch 2/25\n",
      "161/161 [==============================] - 1s 8ms/step - loss: 382.1448 - mean_absolute_error: 18.9495 - val_loss: 174.8304 - val_mean_absolute_error: 13.1426\n",
      "INFO:tensorflow:Assets written to: 3H_Forecast/3H_ForecastModel_6_SizeWindow\\assets\n"
     ]
    },
    {
     "name": "stderr",
     "output_type": "stream",
     "text": [
      "INFO:tensorflow:Assets written to: 3H_Forecast/3H_ForecastModel_6_SizeWindow\\assets\n"
     ]
    },
    {
     "name": "stdout",
     "output_type": "stream",
     "text": [
      "Epoch 3/25\n",
      "161/161 [==============================] - 1s 7ms/step - loss: 287.3120 - mean_absolute_error: 16.2921 - val_loss: 109.0080 - val_mean_absolute_error: 10.2872\n",
      "INFO:tensorflow:Assets written to: 3H_Forecast/3H_ForecastModel_6_SizeWindow\\assets\n"
     ]
    },
    {
     "name": "stderr",
     "output_type": "stream",
     "text": [
      "INFO:tensorflow:Assets written to: 3H_Forecast/3H_ForecastModel_6_SizeWindow\\assets\n"
     ]
    },
    {
     "name": "stdout",
     "output_type": "stream",
     "text": [
      "Epoch 4/25\n",
      "161/161 [==============================] - 1s 7ms/step - loss: 190.6573 - mean_absolute_error: 12.9370 - val_loss: 50.9935 - val_mean_absolute_error: 6.9542\n",
      "INFO:tensorflow:Assets written to: 3H_Forecast/3H_ForecastModel_6_SizeWindow\\assets\n"
     ]
    },
    {
     "name": "stderr",
     "output_type": "stream",
     "text": [
      "INFO:tensorflow:Assets written to: 3H_Forecast/3H_ForecastModel_6_SizeWindow\\assets\n"
     ]
    },
    {
     "name": "stdout",
     "output_type": "stream",
     "text": [
      "Epoch 5/25\n",
      "161/161 [==============================] - 1s 6ms/step - loss: 127.6312 - mean_absolute_error: 10.2511 - val_loss: 21.4297 - val_mean_absolute_error: 4.3486\n",
      "INFO:tensorflow:Assets written to: 3H_Forecast/3H_ForecastModel_6_SizeWindow\\assets\n"
     ]
    },
    {
     "name": "stderr",
     "output_type": "stream",
     "text": [
      "INFO:tensorflow:Assets written to: 3H_Forecast/3H_ForecastModel_6_SizeWindow\\assets\n"
     ]
    },
    {
     "name": "stdout",
     "output_type": "stream",
     "text": [
      "Epoch 6/25\n",
      "161/161 [==============================] - 1s 7ms/step - loss: 83.1082 - mean_absolute_error: 7.6967 - val_loss: 5.7236 - val_mean_absolute_error: 2.0836\n",
      "INFO:tensorflow:Assets written to: 3H_Forecast/3H_ForecastModel_6_SizeWindow\\assets\n"
     ]
    },
    {
     "name": "stderr",
     "output_type": "stream",
     "text": [
      "INFO:tensorflow:Assets written to: 3H_Forecast/3H_ForecastModel_6_SizeWindow\\assets\n"
     ]
    },
    {
     "name": "stdout",
     "output_type": "stream",
     "text": [
      "Epoch 7/25\n",
      "161/161 [==============================] - 1s 7ms/step - loss: 58.6531 - mean_absolute_error: 5.8995 - val_loss: 1.6671 - val_mean_absolute_error: 1.0313\n",
      "INFO:tensorflow:Assets written to: 3H_Forecast/3H_ForecastModel_6_SizeWindow\\assets\n"
     ]
    },
    {
     "name": "stderr",
     "output_type": "stream",
     "text": [
      "INFO:tensorflow:Assets written to: 3H_Forecast/3H_ForecastModel_6_SizeWindow\\assets\n"
     ]
    },
    {
     "name": "stdout",
     "output_type": "stream",
     "text": [
      "Epoch 8/25\n",
      "161/161 [==============================] - 1s 8ms/step - loss: 40.7899 - mean_absolute_error: 4.3912 - val_loss: 3.0521 - val_mean_absolute_error: 1.4099\n",
      "Epoch 9/25\n",
      "161/161 [==============================] - 2s 10ms/step - loss: 29.0105 - mean_absolute_error: 3.2651 - val_loss: 7.2639 - val_mean_absolute_error: 2.4217\n",
      "Epoch 10/25\n",
      "161/161 [==============================] - 2s 10ms/step - loss: 24.1603 - mean_absolute_error: 2.9012 - val_loss: 11.3212 - val_mean_absolute_error: 3.1355\n",
      "Epoch 11/25\n",
      "161/161 [==============================] - 2s 9ms/step - loss: 21.6496 - mean_absolute_error: 2.8438 - val_loss: 14.0610 - val_mean_absolute_error: 3.5461\n",
      "Epoch 12/25\n",
      "161/161 [==============================] - 2s 9ms/step - loss: 20.4426 - mean_absolute_error: 2.8567 - val_loss: 15.4090 - val_mean_absolute_error: 3.7017\n",
      "Epoch 13/25\n",
      "161/161 [==============================] - 2s 9ms/step - loss: 19.4832 - mean_absolute_error: 2.8235 - val_loss: 15.8553 - val_mean_absolute_error: 3.7790\n",
      "Epoch 14/25\n",
      "161/161 [==============================] - 2s 10ms/step - loss: 18.7477 - mean_absolute_error: 2.8381 - val_loss: 17.3237 - val_mean_absolute_error: 3.9820\n",
      "Epoch 15/25\n",
      "161/161 [==============================] - 2s 10ms/step - loss: 18.3255 - mean_absolute_error: 2.8883 - val_loss: 18.3901 - val_mean_absolute_error: 4.1148\n",
      "Epoch 16/25\n",
      "161/161 [==============================] - 2s 10ms/step - loss: 17.5533 - mean_absolute_error: 2.7817 - val_loss: 16.8333 - val_mean_absolute_error: 3.9236\n",
      "Epoch 17/25\n",
      "161/161 [==============================] - 1s 9ms/step - loss: 17.0091 - mean_absolute_error: 2.7905 - val_loss: 17.5560 - val_mean_absolute_error: 4.0031\n",
      "Epoch 18/25\n",
      "161/161 [==============================] - 1s 9ms/step - loss: 16.6061 - mean_absolute_error: 2.7890 - val_loss: 17.6035 - val_mean_absolute_error: 4.0016\n",
      "Epoch 19/25\n",
      "161/161 [==============================] - 1s 7ms/step - loss: 16.2439 - mean_absolute_error: 2.7793 - val_loss: 17.1751 - val_mean_absolute_error: 3.9062\n",
      "Epoch 20/25\n",
      "161/161 [==============================] - 1s 8ms/step - loss: 15.2740 - mean_absolute_error: 2.6265 - val_loss: 16.0065 - val_mean_absolute_error: 3.7755\n",
      "Epoch 21/25\n",
      "161/161 [==============================] - 1s 8ms/step - loss: 14.5162 - mean_absolute_error: 2.5445 - val_loss: 13.8009 - val_mean_absolute_error: 3.4748\n",
      "Epoch 22/25\n",
      "161/161 [==============================] - 1s 7ms/step - loss: 13.4807 - mean_absolute_error: 2.4473 - val_loss: 14.1169 - val_mean_absolute_error: 3.5353\n",
      "Epoch 23/25\n",
      "161/161 [==============================] - 1s 7ms/step - loss: 12.7649 - mean_absolute_error: 2.4381 - val_loss: 15.2665 - val_mean_absolute_error: 3.7048\n",
      "Epoch 24/25\n",
      "161/161 [==============================] - 1s 7ms/step - loss: 12.3417 - mean_absolute_error: 2.4387 - val_loss: 15.7357 - val_mean_absolute_error: 3.7685\n",
      "Epoch 25/25\n",
      "161/161 [==============================] - 1s 8ms/step - loss: 11.5621 - mean_absolute_error: 2.3517 - val_loss: 14.0741 - val_mean_absolute_error: 3.5480\n",
      "\n",
      "-----------------------------------------------------------------------------------------------------------\n",
      "\n",
      "Model: \"sequential_5\"\n",
      "_________________________________________________________________\n",
      "Layer (type)                 Output Shape              Param #   \n",
      "=================================================================\n",
      "lstm_5 (LSTM)                (None, 64)                17920     \n",
      "_________________________________________________________________\n",
      "dense_10 (Dense)             (None, 8)                 520       \n",
      "_________________________________________________________________\n",
      "dense_11 (Dense)             (None, 1)                 9         \n",
      "=================================================================\n",
      "Total params: 18,449\n",
      "Trainable params: 18,449\n",
      "Non-trainable params: 0\n",
      "_________________________________________________________________\n",
      "Epoch 1/25\n",
      "161/161 [==============================] - 4s 12ms/step - loss: 428.2054 - mean_absolute_error: 20.0753 - val_loss: 188.6021 - val_mean_absolute_error: 13.6542\n",
      "INFO:tensorflow:Assets written to: 3H_Forecast/3H_ForecastModel_7_SizeWindow\\assets\n"
     ]
    },
    {
     "name": "stderr",
     "output_type": "stream",
     "text": [
      "INFO:tensorflow:Assets written to: 3H_Forecast/3H_ForecastModel_7_SizeWindow\\assets\n"
     ]
    },
    {
     "name": "stdout",
     "output_type": "stream",
     "text": [
      "Epoch 2/25\n",
      "161/161 [==============================] - 1s 8ms/step - loss: 286.8936 - mean_absolute_error: 16.0595 - val_loss: 84.9381 - val_mean_absolute_error: 8.9310\n",
      "INFO:tensorflow:Assets written to: 3H_Forecast/3H_ForecastModel_7_SizeWindow\\assets\n"
     ]
    },
    {
     "name": "stderr",
     "output_type": "stream",
     "text": [
      "INFO:tensorflow:Assets written to: 3H_Forecast/3H_ForecastModel_7_SizeWindow\\assets\n"
     ]
    },
    {
     "name": "stdout",
     "output_type": "stream",
     "text": [
      "Epoch 3/25\n",
      "161/161 [==============================] - 1s 8ms/step - loss: 150.7575 - mean_absolute_error: 11.0893 - val_loss: 25.8624 - val_mean_absolute_error: 4.3170\n",
      "INFO:tensorflow:Assets written to: 3H_Forecast/3H_ForecastModel_7_SizeWindow\\assets\n"
     ]
    },
    {
     "name": "stderr",
     "output_type": "stream",
     "text": [
      "INFO:tensorflow:Assets written to: 3H_Forecast/3H_ForecastModel_7_SizeWindow\\assets\n"
     ]
    },
    {
     "name": "stdout",
     "output_type": "stream",
     "text": [
      "Epoch 4/25\n",
      "161/161 [==============================] - 2s 10ms/step - loss: 64.3932 - mean_absolute_error: 6.3044 - val_loss: 8.4267 - val_mean_absolute_error: 2.5076\n",
      "INFO:tensorflow:Assets written to: 3H_Forecast/3H_ForecastModel_7_SizeWindow\\assets\n"
     ]
    },
    {
     "name": "stderr",
     "output_type": "stream",
     "text": [
      "INFO:tensorflow:Assets written to: 3H_Forecast/3H_ForecastModel_7_SizeWindow\\assets\n"
     ]
    },
    {
     "name": "stdout",
     "output_type": "stream",
     "text": [
      "Epoch 5/25\n",
      "161/161 [==============================] - 1s 9ms/step - loss: 28.9966 - mean_absolute_error: 3.5500 - val_loss: 12.4429 - val_mean_absolute_error: 2.9018\n",
      "Epoch 6/25\n",
      "161/161 [==============================] - 1s 8ms/step - loss: 20.7797 - mean_absolute_error: 2.9994 - val_loss: 15.9173 - val_mean_absolute_error: 3.3819\n",
      "Epoch 7/25\n",
      "161/161 [==============================] - 1s 8ms/step - loss: 18.4660 - mean_absolute_error: 2.8578 - val_loss: 17.3764 - val_mean_absolute_error: 3.6058\n",
      "Epoch 8/25\n",
      "161/161 [==============================] - 1s 8ms/step - loss: 17.1581 - mean_absolute_error: 2.7861 - val_loss: 18.0091 - val_mean_absolute_error: 3.7253\n",
      "Epoch 9/25\n",
      "161/161 [==============================] - 1s 8ms/step - loss: 15.9456 - mean_absolute_error: 2.6557 - val_loss: 16.2709 - val_mean_absolute_error: 3.5622\n",
      "Epoch 10/25\n",
      "161/161 [==============================] - 1s 8ms/step - loss: 14.8889 - mean_absolute_error: 2.5642 - val_loss: 15.8235 - val_mean_absolute_error: 3.5790\n",
      "Epoch 11/25\n",
      "161/161 [==============================] - 1s 7ms/step - loss: 13.9808 - mean_absolute_error: 2.4984 - val_loss: 15.7698 - val_mean_absolute_error: 3.6257\n",
      "Epoch 12/25\n",
      "161/161 [==============================] - 1s 7ms/step - loss: 13.0059 - mean_absolute_error: 2.4153 - val_loss: 13.8322 - val_mean_absolute_error: 3.4213\n",
      "Epoch 13/25\n",
      "161/161 [==============================] - 1s 7ms/step - loss: 11.9838 - mean_absolute_error: 2.3553 - val_loss: 14.2070 - val_mean_absolute_error: 3.4957\n",
      "Epoch 14/25\n",
      "161/161 [==============================] - 1s 8ms/step - loss: 11.2544 - mean_absolute_error: 2.3172 - val_loss: 14.4240 - val_mean_absolute_error: 3.5358\n",
      "Epoch 15/25\n",
      "161/161 [==============================] - 1s 8ms/step - loss: 10.5408 - mean_absolute_error: 2.2692 - val_loss: 13.9288 - val_mean_absolute_error: 3.4670\n",
      "Epoch 16/25\n",
      "161/161 [==============================] - 1s 8ms/step - loss: 9.8543 - mean_absolute_error: 2.2009 - val_loss: 14.1751 - val_mean_absolute_error: 3.4656\n",
      "Epoch 17/25\n",
      "161/161 [==============================] - 1s 8ms/step - loss: 9.2685 - mean_absolute_error: 2.1570 - val_loss: 13.4073 - val_mean_absolute_error: 3.3115\n",
      "Epoch 18/25\n",
      "161/161 [==============================] - 1s 8ms/step - loss: 8.6621 - mean_absolute_error: 2.0790 - val_loss: 13.0876 - val_mean_absolute_error: 3.2805\n",
      "Epoch 19/25\n",
      "161/161 [==============================] - 1s 7ms/step - loss: 7.9314 - mean_absolute_error: 1.9847 - val_loss: 11.7235 - val_mean_absolute_error: 3.0711\n",
      "Epoch 20/25\n",
      "161/161 [==============================] - 1s 7ms/step - loss: 6.9024 - mean_absolute_error: 1.8492 - val_loss: 9.8786 - val_mean_absolute_error: 2.8208\n",
      "Epoch 21/25\n",
      "161/161 [==============================] - 1s 7ms/step - loss: 5.9839 - mean_absolute_error: 1.7383 - val_loss: 8.8487 - val_mean_absolute_error: 2.6974\n",
      "Epoch 22/25\n",
      "161/161 [==============================] - 1s 7ms/step - loss: 5.2562 - mean_absolute_error: 1.6400 - val_loss: 8.2726 - val_mean_absolute_error: 2.6094\n",
      "INFO:tensorflow:Assets written to: 3H_Forecast/3H_ForecastModel_7_SizeWindow\\assets\n"
     ]
    },
    {
     "name": "stderr",
     "output_type": "stream",
     "text": [
      "INFO:tensorflow:Assets written to: 3H_Forecast/3H_ForecastModel_7_SizeWindow\\assets\n"
     ]
    },
    {
     "name": "stdout",
     "output_type": "stream",
     "text": [
      "Epoch 23/25\n",
      "161/161 [==============================] - 1s 8ms/step - loss: 4.4285 - mean_absolute_error: 1.4758 - val_loss: 6.1344 - val_mean_absolute_error: 2.1779\n",
      "INFO:tensorflow:Assets written to: 3H_Forecast/3H_ForecastModel_7_SizeWindow\\assets\n"
     ]
    },
    {
     "name": "stderr",
     "output_type": "stream",
     "text": [
      "INFO:tensorflow:Assets written to: 3H_Forecast/3H_ForecastModel_7_SizeWindow\\assets\n"
     ]
    },
    {
     "name": "stdout",
     "output_type": "stream",
     "text": [
      "Epoch 24/25\n",
      "161/161 [==============================] - 2s 10ms/step - loss: 3.6483 - mean_absolute_error: 1.2949 - val_loss: 5.7279 - val_mean_absolute_error: 2.1149\n",
      "INFO:tensorflow:Assets written to: 3H_Forecast/3H_ForecastModel_7_SizeWindow\\assets\n"
     ]
    },
    {
     "name": "stderr",
     "output_type": "stream",
     "text": [
      "INFO:tensorflow:Assets written to: 3H_Forecast/3H_ForecastModel_7_SizeWindow\\assets\n"
     ]
    },
    {
     "name": "stdout",
     "output_type": "stream",
     "text": [
      "Epoch 25/25\n",
      "161/161 [==============================] - 1s 8ms/step - loss: 3.1772 - mean_absolute_error: 1.1844 - val_loss: 5.1927 - val_mean_absolute_error: 2.0151\n",
      "INFO:tensorflow:Assets written to: 3H_Forecast/3H_ForecastModel_7_SizeWindow\\assets\n"
     ]
    },
    {
     "name": "stderr",
     "output_type": "stream",
     "text": [
      "INFO:tensorflow:Assets written to: 3H_Forecast/3H_ForecastModel_7_SizeWindow\\assets\n"
     ]
    },
    {
     "name": "stdout",
     "output_type": "stream",
     "text": [
      "\n",
      "-----------------------------------------------------------------------------------------------------------\n",
      "\n",
      "Model: \"sequential_6\"\n",
      "_________________________________________________________________\n",
      "Layer (type)                 Output Shape              Param #   \n",
      "=================================================================\n",
      "lstm_6 (LSTM)                (None, 64)                17920     \n",
      "_________________________________________________________________\n",
      "dense_12 (Dense)             (None, 8)                 520       \n",
      "_________________________________________________________________\n",
      "dense_13 (Dense)             (None, 1)                 9         \n",
      "=================================================================\n",
      "Total params: 18,449\n",
      "Trainable params: 18,449\n",
      "Non-trainable params: 0\n",
      "_________________________________________________________________\n",
      "Epoch 1/25\n",
      "161/161 [==============================] - 5s 12ms/step - loss: 484.4489 - mean_absolute_error: 21.5311 - val_loss: 271.1203 - val_mean_absolute_error: 16.4207\n",
      "INFO:tensorflow:Assets written to: 3H_Forecast/3H_ForecastModel_8_SizeWindow\\assets\n"
     ]
    },
    {
     "name": "stderr",
     "output_type": "stream",
     "text": [
      "INFO:tensorflow:Assets written to: 3H_Forecast/3H_ForecastModel_8_SizeWindow\\assets\n"
     ]
    },
    {
     "name": "stdout",
     "output_type": "stream",
     "text": [
      "Epoch 2/25\n",
      "161/161 [==============================] - 1s 8ms/step - loss: 424.4962 - mean_absolute_error: 20.1553 - val_loss: 221.0067 - val_mean_absolute_error: 14.7664\n",
      "INFO:tensorflow:Assets written to: 3H_Forecast/3H_ForecastModel_8_SizeWindow\\assets\n"
     ]
    },
    {
     "name": "stderr",
     "output_type": "stream",
     "text": [
      "INFO:tensorflow:Assets written to: 3H_Forecast/3H_ForecastModel_8_SizeWindow\\assets\n"
     ]
    },
    {
     "name": "stdout",
     "output_type": "stream",
     "text": [
      "Epoch 3/25\n",
      "161/161 [==============================] - 1s 8ms/step - loss: 316.7781 - mean_absolute_error: 17.2550 - val_loss: 127.9782 - val_mean_absolute_error: 11.0627\n",
      "INFO:tensorflow:Assets written to: 3H_Forecast/3H_ForecastModel_8_SizeWindow\\assets\n"
     ]
    },
    {
     "name": "stderr",
     "output_type": "stream",
     "text": [
      "INFO:tensorflow:Assets written to: 3H_Forecast/3H_ForecastModel_8_SizeWindow\\assets\n"
     ]
    },
    {
     "name": "stdout",
     "output_type": "stream",
     "text": [
      "Epoch 4/25\n",
      "161/161 [==============================] - 2s 11ms/step - loss: 186.9457 - mean_absolute_error: 12.8043 - val_loss: 43.7579 - val_mean_absolute_error: 6.2169\n",
      "INFO:tensorflow:Assets written to: 3H_Forecast/3H_ForecastModel_8_SizeWindow\\assets\n"
     ]
    },
    {
     "name": "stderr",
     "output_type": "stream",
     "text": [
      "INFO:tensorflow:Assets written to: 3H_Forecast/3H_ForecastModel_8_SizeWindow\\assets\n"
     ]
    },
    {
     "name": "stdout",
     "output_type": "stream",
     "text": [
      "Epoch 5/25\n",
      "161/161 [==============================] - 3s 18ms/step - loss: 101.4891 - mean_absolute_error: 8.8067 - val_loss: 10.0814 - val_mean_absolute_error: 2.7480\n",
      "INFO:tensorflow:Assets written to: 3H_Forecast/3H_ForecastModel_8_SizeWindow\\assets\n"
     ]
    },
    {
     "name": "stderr",
     "output_type": "stream",
     "text": [
      "INFO:tensorflow:Assets written to: 3H_Forecast/3H_ForecastModel_8_SizeWindow\\assets\n"
     ]
    },
    {
     "name": "stdout",
     "output_type": "stream",
     "text": [
      "Epoch 6/25\n",
      "161/161 [==============================] - 2s 9ms/step - loss: 60.4312 - mean_absolute_error: 6.0824 - val_loss: 2.3543 - val_mean_absolute_error: 1.2209\n",
      "INFO:tensorflow:Assets written to: 3H_Forecast/3H_ForecastModel_8_SizeWindow\\assets\n"
     ]
    },
    {
     "name": "stderr",
     "output_type": "stream",
     "text": [
      "INFO:tensorflow:Assets written to: 3H_Forecast/3H_ForecastModel_8_SizeWindow\\assets\n"
     ]
    },
    {
     "name": "stdout",
     "output_type": "stream",
     "text": [
      "Epoch 7/25\n",
      "161/161 [==============================] - 1s 9ms/step - loss: 38.4978 - mean_absolute_error: 4.1616 - val_loss: 5.1996 - val_mean_absolute_error: 1.8741\n",
      "Epoch 8/25\n",
      "161/161 [==============================] - 2s 9ms/step - loss: 26.8854 - mean_absolute_error: 3.1122 - val_loss: 11.1941 - val_mean_absolute_error: 3.0244\n",
      "Epoch 9/25\n",
      "161/161 [==============================] - 2s 10ms/step - loss: 23.0896 - mean_absolute_error: 2.9643 - val_loss: 15.7936 - val_mean_absolute_error: 3.7006\n",
      "Epoch 10/25\n",
      "161/161 [==============================] - 1s 9ms/step - loss: 21.4566 - mean_absolute_error: 3.0253 - val_loss: 18.3120 - val_mean_absolute_error: 3.9995\n",
      "Epoch 11/25\n",
      "161/161 [==============================] - 2s 10ms/step - loss: 20.8811 - mean_absolute_error: 3.0495 - val_loss: 18.7445 - val_mean_absolute_error: 4.0366\n",
      "Epoch 12/25\n",
      "161/161 [==============================] - 1s 9ms/step - loss: 20.2267 - mean_absolute_error: 3.0020 - val_loss: 19.1716 - val_mean_absolute_error: 4.0935\n",
      "Epoch 13/25\n",
      "161/161 [==============================] - 1s 9ms/step - loss: 19.5258 - mean_absolute_error: 2.9534 - val_loss: 18.8666 - val_mean_absolute_error: 4.0679\n",
      "Epoch 14/25\n",
      "161/161 [==============================] - 1s 9ms/step - loss: 18.4947 - mean_absolute_error: 2.8630 - val_loss: 18.2332 - val_mean_absolute_error: 4.0334\n",
      "Epoch 15/25\n",
      "161/161 [==============================] - 1s 9ms/step - loss: 17.5147 - mean_absolute_error: 2.8165 - val_loss: 18.6106 - val_mean_absolute_error: 4.0714\n",
      "Epoch 16/25\n",
      "161/161 [==============================] - 1s 9ms/step - loss: 16.1842 - mean_absolute_error: 2.6773 - val_loss: 17.2451 - val_mean_absolute_error: 3.8962\n",
      "Epoch 17/25\n",
      "161/161 [==============================] - 1s 8ms/step - loss: 14.9391 - mean_absolute_error: 2.5960 - val_loss: 17.0240 - val_mean_absolute_error: 3.8827\n",
      "Epoch 18/25\n",
      "161/161 [==============================] - 1s 8ms/step - loss: 13.7914 - mean_absolute_error: 2.5105 - val_loss: 14.8603 - val_mean_absolute_error: 3.6439\n",
      "Epoch 19/25\n",
      "161/161 [==============================] - 1s 8ms/step - loss: 12.7005 - mean_absolute_error: 2.4028 - val_loss: 14.3902 - val_mean_absolute_error: 3.5757\n",
      "Epoch 20/25\n",
      "161/161 [==============================] - 2s 12ms/step - loss: 11.6215 - mean_absolute_error: 2.3171 - val_loss: 12.5995 - val_mean_absolute_error: 3.3003\n",
      "Epoch 21/25\n",
      "161/161 [==============================] - 2s 12ms/step - loss: 10.7165 - mean_absolute_error: 2.2596 - val_loss: 13.2617 - val_mean_absolute_error: 3.4325\n",
      "Epoch 22/25\n",
      "161/161 [==============================] - 2s 11ms/step - loss: 10.0389 - mean_absolute_error: 2.2385 - val_loss: 12.9574 - val_mean_absolute_error: 3.4075\n",
      "Epoch 23/25\n",
      "161/161 [==============================] - 2s 10ms/step - loss: 9.4142 - mean_absolute_error: 2.1779 - val_loss: 12.2546 - val_mean_absolute_error: 3.2909\n",
      "Epoch 24/25\n",
      "161/161 [==============================] - 1s 9ms/step - loss: 8.9471 - mean_absolute_error: 2.1200 - val_loss: 12.9286 - val_mean_absolute_error: 3.3937\n",
      "Epoch 25/25\n",
      "161/161 [==============================] - 2s 14ms/step - loss: 8.5312 - mean_absolute_error: 2.0967 - val_loss: 11.8972 - val_mean_absolute_error: 3.2320\n",
      "\n",
      "-----------------------------------------------------------------------------------------------------------\n",
      "\n",
      "Model: \"sequential_7\"\n",
      "_________________________________________________________________\n",
      "Layer (type)                 Output Shape              Param #   \n",
      "=================================================================\n",
      "lstm_7 (LSTM)                (None, 64)                17920     \n",
      "_________________________________________________________________\n",
      "dense_14 (Dense)             (None, 8)                 520       \n",
      "_________________________________________________________________\n",
      "dense_15 (Dense)             (None, 1)                 9         \n",
      "=================================================================\n",
      "Total params: 18,449\n",
      "Trainable params: 18,449\n",
      "Non-trainable params: 0\n",
      "_________________________________________________________________\n",
      "Epoch 1/25\n",
      "161/161 [==============================] - 6s 16ms/step - loss: 524.7440 - mean_absolute_error: 22.4437 - val_loss: 294.7779 - val_mean_absolute_error: 17.1359\n",
      "INFO:tensorflow:Assets written to: 3H_Forecast/3H_ForecastModel_9_SizeWindow\\assets\n"
     ]
    },
    {
     "name": "stderr",
     "output_type": "stream",
     "text": [
      "INFO:tensorflow:Assets written to: 3H_Forecast/3H_ForecastModel_9_SizeWindow\\assets\n"
     ]
    },
    {
     "name": "stdout",
     "output_type": "stream",
     "text": [
      "Epoch 2/25\n",
      "161/161 [==============================] - 1s 9ms/step - loss: 475.0647 - mean_absolute_error: 21.3129 - val_loss: 266.3465 - val_mean_absolute_error: 16.2764\n",
      "INFO:tensorflow:Assets written to: 3H_Forecast/3H_ForecastModel_9_SizeWindow\\assets\n"
     ]
    },
    {
     "name": "stderr",
     "output_type": "stream",
     "text": [
      "INFO:tensorflow:Assets written to: 3H_Forecast/3H_ForecastModel_9_SizeWindow\\assets\n"
     ]
    },
    {
     "name": "stdout",
     "output_type": "stream",
     "text": [
      "Epoch 3/25\n",
      "161/161 [==============================] - 2s 9ms/step - loss: 430.5993 - mean_absolute_error: 20.2562 - val_loss: 228.8718 - val_mean_absolute_error: 15.0619\n",
      "INFO:tensorflow:Assets written to: 3H_Forecast/3H_ForecastModel_9_SizeWindow\\assets\n"
     ]
    },
    {
     "name": "stderr",
     "output_type": "stream",
     "text": [
      "INFO:tensorflow:Assets written to: 3H_Forecast/3H_ForecastModel_9_SizeWindow\\assets\n"
     ]
    },
    {
     "name": "stdout",
     "output_type": "stream",
     "text": [
      "Epoch 4/25\n",
      "161/161 [==============================] - 2s 10ms/step - loss: 361.9079 - mean_absolute_error: 18.4509 - val_loss: 168.0860 - val_mean_absolute_error: 12.8669\n",
      "INFO:tensorflow:Assets written to: 3H_Forecast/3H_ForecastModel_9_SizeWindow\\assets\n"
     ]
    },
    {
     "name": "stderr",
     "output_type": "stream",
     "text": [
      "INFO:tensorflow:Assets written to: 3H_Forecast/3H_ForecastModel_9_SizeWindow\\assets\n"
     ]
    },
    {
     "name": "stdout",
     "output_type": "stream",
     "text": [
      "Epoch 5/25\n",
      "161/161 [==============================] - 2s 10ms/step - loss: 285.1642 - mean_absolute_error: 16.2410 - val_loss: 118.0483 - val_mean_absolute_error: 10.7564\n",
      "INFO:tensorflow:Assets written to: 3H_Forecast/3H_ForecastModel_9_SizeWindow\\assets\n"
     ]
    },
    {
     "name": "stderr",
     "output_type": "stream",
     "text": [
      "INFO:tensorflow:Assets written to: 3H_Forecast/3H_ForecastModel_9_SizeWindow\\assets\n"
     ]
    },
    {
     "name": "stdout",
     "output_type": "stream",
     "text": [
      "Epoch 6/25\n",
      "161/161 [==============================] - 2s 10ms/step - loss: 220.6286 - mean_absolute_error: 14.1164 - val_loss: 74.6197 - val_mean_absolute_error: 8.5291\n",
      "INFO:tensorflow:Assets written to: 3H_Forecast/3H_ForecastModel_9_SizeWindow\\assets\n"
     ]
    },
    {
     "name": "stderr",
     "output_type": "stream",
     "text": [
      "INFO:tensorflow:Assets written to: 3H_Forecast/3H_ForecastModel_9_SizeWindow\\assets\n"
     ]
    },
    {
     "name": "stdout",
     "output_type": "stream",
     "text": [
      "Epoch 7/25\n",
      "161/161 [==============================] - 1s 9ms/step - loss: 161.3453 - mean_absolute_error: 11.8241 - val_loss: 39.7800 - val_mean_absolute_error: 6.1471\n",
      "INFO:tensorflow:Assets written to: 3H_Forecast/3H_ForecastModel_9_SizeWindow\\assets\n"
     ]
    },
    {
     "name": "stderr",
     "output_type": "stream",
     "text": [
      "INFO:tensorflow:Assets written to: 3H_Forecast/3H_ForecastModel_9_SizeWindow\\assets\n"
     ]
    },
    {
     "name": "stdout",
     "output_type": "stream",
     "text": [
      "Epoch 8/25\n",
      "161/161 [==============================] - 2s 10ms/step - loss: 113.2635 - mean_absolute_error: 9.6027 - val_loss: 18.8422 - val_mean_absolute_error: 4.0910\n",
      "INFO:tensorflow:Assets written to: 3H_Forecast/3H_ForecastModel_9_SizeWindow\\assets\n"
     ]
    },
    {
     "name": "stderr",
     "output_type": "stream",
     "text": [
      "INFO:tensorflow:Assets written to: 3H_Forecast/3H_ForecastModel_9_SizeWindow\\assets\n"
     ]
    },
    {
     "name": "stdout",
     "output_type": "stream",
     "text": [
      "Epoch 9/25\n",
      "161/161 [==============================] - 2s 10ms/step - loss: 77.8609 - mean_absolute_error: 7.5457 - val_loss: 6.1131 - val_mean_absolute_error: 2.1260\n",
      "INFO:tensorflow:Assets written to: 3H_Forecast/3H_ForecastModel_9_SizeWindow\\assets\n"
     ]
    },
    {
     "name": "stderr",
     "output_type": "stream",
     "text": [
      "INFO:tensorflow:Assets written to: 3H_Forecast/3H_ForecastModel_9_SizeWindow\\assets\n"
     ]
    },
    {
     "name": "stdout",
     "output_type": "stream",
     "text": [
      "Epoch 10/25\n",
      "161/161 [==============================] - 1s 9ms/step - loss: 51.3681 - mean_absolute_error: 5.4682 - val_loss: 2.1200 - val_mean_absolute_error: 1.1902\n",
      "INFO:tensorflow:Assets written to: 3H_Forecast/3H_ForecastModel_9_SizeWindow\\assets\n"
     ]
    },
    {
     "name": "stderr",
     "output_type": "stream",
     "text": [
      "INFO:tensorflow:Assets written to: 3H_Forecast/3H_ForecastModel_9_SizeWindow\\assets\n"
     ]
    },
    {
     "name": "stdout",
     "output_type": "stream",
     "text": [
      "Epoch 11/25\n",
      "161/161 [==============================] - 2s 11ms/step - loss: 34.9700 - mean_absolute_error: 3.8813 - val_loss: 4.6067 - val_mean_absolute_error: 1.7590\n",
      "Epoch 12/25\n",
      "161/161 [==============================] - 2s 13ms/step - loss: 27.6253 - mean_absolute_error: 3.1558 - val_loss: 8.9653 - val_mean_absolute_error: 2.6799\n",
      "Epoch 13/25\n",
      "161/161 [==============================] - 2s 13ms/step - loss: 24.1081 - mean_absolute_error: 2.9211 - val_loss: 13.1283 - val_mean_absolute_error: 3.3513\n",
      "Epoch 14/25\n",
      "161/161 [==============================] - 2s 13ms/step - loss: 21.9769 - mean_absolute_error: 2.9176 - val_loss: 16.2572 - val_mean_absolute_error: 3.7747\n",
      "Epoch 15/25\n",
      "161/161 [==============================] - 2s 13ms/step - loss: 21.0310 - mean_absolute_error: 2.9781 - val_loss: 18.0945 - val_mean_absolute_error: 4.0009\n",
      "Epoch 16/25\n",
      "161/161 [==============================] - 2s 13ms/step - loss: 20.0211 - mean_absolute_error: 2.9363 - val_loss: 17.6422 - val_mean_absolute_error: 3.9851\n",
      "Epoch 17/25\n",
      "161/161 [==============================] - 2s 13ms/step - loss: 18.9303 - mean_absolute_error: 2.8608 - val_loss: 17.4791 - val_mean_absolute_error: 3.9697\n",
      "Epoch 18/25\n",
      "161/161 [==============================] - 2s 14ms/step - loss: 18.1506 - mean_absolute_error: 2.8220 - val_loss: 16.2023 - val_mean_absolute_error: 3.7572\n",
      "Epoch 19/25\n",
      "161/161 [==============================] - 2s 15ms/step - loss: 16.6874 - mean_absolute_error: 2.6632 - val_loss: 16.3075 - val_mean_absolute_error: 3.8093\n",
      "Epoch 20/25\n",
      "161/161 [==============================] - 2s 11ms/step - loss: 15.8099 - mean_absolute_error: 2.6456 - val_loss: 16.9153 - val_mean_absolute_error: 3.9006\n",
      "Epoch 21/25\n",
      "161/161 [==============================] - 1s 9ms/step - loss: 15.1575 - mean_absolute_error: 2.6215 - val_loss: 16.8139 - val_mean_absolute_error: 3.8946\n",
      "Epoch 22/25\n",
      "161/161 [==============================] - 1s 9ms/step - loss: 14.4951 - mean_absolute_error: 2.5891 - val_loss: 16.7825 - val_mean_absolute_error: 3.8906\n",
      "Epoch 23/25\n",
      "161/161 [==============================] - 2s 9ms/step - loss: 14.0071 - mean_absolute_error: 2.5678 - val_loss: 16.8178 - val_mean_absolute_error: 3.9000\n",
      "Epoch 24/25\n",
      "161/161 [==============================] - 1s 9ms/step - loss: 13.5727 - mean_absolute_error: 2.5551 - val_loss: 16.6841 - val_mean_absolute_error: 3.8844\n",
      "Epoch 25/25\n",
      "161/161 [==============================] - 3s 16ms/step - loss: 13.1634 - mean_absolute_error: 2.5147 - val_loss: 16.6307 - val_mean_absolute_error: 3.8794\n",
      "\n",
      "-----------------------------------------------------------------------------------------------------------\n",
      "\n",
      "CPU times: total: 19min 44s\n",
      "Wall time: 7min 47s\n"
     ]
    }
   ],
   "source": [
    "%%time\n",
    "\n",
    "Trainer(3,6,9)"
   ]
  },
  {
   "cell_type": "code",
   "execution_count": 27,
   "id": "689cc0da",
   "metadata": {},
   "outputs": [
    {
     "name": "stdout",
     "output_type": "stream",
     "text": [
      "(5123, 6, 5) (5123,) (1708, 6, 5) (1708,) (1708, 6, 5) (1708,)\n",
      "Loading: 3H_Forecast/3H_ForecastModel_6_SizeWindow/\n",
      "54/54 [==============================] - 1s 3ms/step - loss: 37.4940 - mean_absolute_error: 4.4903\n",
      "(5122, 7, 5) (5122,) (1708, 7, 5) (1708,) (1708, 7, 5) (1708,)\n",
      "Loading: 3H_Forecast/3H_ForecastModel_7_SizeWindow/\n",
      "54/54 [==============================] - 1s 2ms/step - loss: 2.9168 - mean_absolute_error: 1.2485\n",
      "(5121, 8, 5) (5121,) (1708, 8, 5) (1708,) (1708, 8, 5) (1708,)\n",
      "Loading: 3H_Forecast/3H_ForecastModel_8_SizeWindow/\n",
      "54/54 [==============================] - 1s 3ms/step - loss: 33.7315 - mean_absolute_error: 4.2990\n",
      "(5121, 9, 5) (5121,) (1707, 9, 5) (1707,) (1708, 9, 5) (1708,)\n",
      "Loading: 3H_Forecast/3H_ForecastModel_9_SizeWindow/\n",
      "54/54 [==============================] - 1s 3ms/step - loss: 31.3845 - mean_absolute_error: 4.0533\n",
      "CPU times: total: 52.9 s\n",
      "Wall time: 40.1 s\n"
     ]
    }
   ],
   "source": [
    "%%time\n",
    "\n",
    "modelsEvaluator(3,6,9)"
   ]
  },
  {
   "cell_type": "code",
   "execution_count": 34,
   "id": "5667b0c6",
   "metadata": {},
   "outputs": [
    {
     "name": "stdout",
     "output_type": "stream",
     "text": [
      "54/54 [==============================] - 1s 3ms/step - loss: 2.9256 - mean_absolute_error: 1.2706\n"
     ]
    },
    {
     "data": {
      "text/plain": [
       "<matplotlib.legend.Legend at 0x19ad2c3bd90>"
      ]
     },
     "execution_count": 34,
     "metadata": {},
     "output_type": "execute_result"
    },
    {
     "data": {
      "image/png": "[encoded data removed]",
      "text/plain": [
       "<Figure size 576x396 with 1 Axes>"
      ]
     },
     "metadata": {},
     "output_type": "display_data"
    }
   ],
   "source": [
    "model = load_model('3H_Forecast/3H_ForecastModel_7_SizeWindow/')\n",
    "\n",
    "X, y = DataHandler(3,7)\n",
    "X_train, X_test, y_train, y_test = train_test_split(X, y, test_size=0.2)\n",
    "X_train, X_val, y_train, y_val = train_test_split(X_train, y_train, test_size=0.25) \n",
    "model.evaluate(X_test,y_test)\n",
    "\n",
    "train_predictions = model.predict(X_train).flatten()\n",
    "train_results = pd.DataFrame(data={'Train Predictions':train_predictions, 'Actuals':y_train})\n",
    "plt.style.use('seaborn')\n",
    "\n",
    "pd.concat([train_results['Train Predictions'],train_results['Actuals']],axis=1).plot()\n",
    "plt.legend(['Train Predictions','Actuals'])"
   ]
  },
  {
   "cell_type": "markdown",
   "id": "aa21e877",
   "metadata": {},
   "source": [
    "### 4 hours forecast"
   ]
  },
  {
   "cell_type": "code",
   "execution_count": 28,
   "id": "179eec3d",
   "metadata": {},
   "outputs": [
    {
     "name": "stdout",
     "output_type": "stream",
     "text": [
      "Model: \"sequential_8\"\n",
      "_________________________________________________________________\n",
      "Layer (type)                 Output Shape              Param #   \n",
      "=================================================================\n",
      "lstm_8 (LSTM)                (None, 64)                17920     \n",
      "_________________________________________________________________\n",
      "dense_16 (Dense)             (None, 8)                 520       \n",
      "_________________________________________________________________\n",
      "dense_17 (Dense)             (None, 1)                 9         \n",
      "=================================================================\n",
      "Total params: 18,449\n",
      "Trainable params: 18,449\n",
      "Non-trainable params: 0\n",
      "_________________________________________________________________\n",
      "Epoch 1/25\n",
      "161/161 [==============================] - 5s 12ms/step - loss: 472.2898 - mean_absolute_error: 21.2103 - val_loss: 250.6585 - val_mean_absolute_error: 15.7819\n",
      "INFO:tensorflow:Assets written to: 4H_Forecast/4H_ForecastModel_6_SizeWindow\\assets\n"
     ]
    },
    {
     "name": "stderr",
     "output_type": "stream",
     "text": [
      "INFO:tensorflow:Assets written to: 4H_Forecast/4H_ForecastModel_6_SizeWindow\\assets\n"
     ]
    },
    {
     "name": "stdout",
     "output_type": "stream",
     "text": [
      "Epoch 2/25\n",
      "161/161 [==============================] - 1s 9ms/step - loss: 412.4733 - mean_absolute_error: 19.7376 - val_loss: 199.8701 - val_mean_absolute_error: 14.0665\n",
      "INFO:tensorflow:Assets written to: 4H_Forecast/4H_ForecastModel_6_SizeWindow\\assets\n"
     ]
    },
    {
     "name": "stderr",
     "output_type": "stream",
     "text": [
      "INFO:tensorflow:Assets written to: 4H_Forecast/4H_ForecastModel_6_SizeWindow\\assets\n"
     ]
    },
    {
     "name": "stdout",
     "output_type": "stream",
     "text": [
      "Epoch 3/25\n",
      "161/161 [==============================] - 1s 7ms/step - loss: 305.0527 - mean_absolute_error: 16.7729 - val_loss: 106.1545 - val_mean_absolute_error: 10.1293\n",
      "INFO:tensorflow:Assets written to: 4H_Forecast/4H_ForecastModel_6_SizeWindow\\assets\n"
     ]
    },
    {
     "name": "stderr",
     "output_type": "stream",
     "text": [
      "INFO:tensorflow:Assets written to: 4H_Forecast/4H_ForecastModel_6_SizeWindow\\assets\n"
     ]
    },
    {
     "name": "stdout",
     "output_type": "stream",
     "text": [
      "Epoch 4/25\n",
      "161/161 [==============================] - 1s 7ms/step - loss: 183.5977 - mean_absolute_error: 12.6357 - val_loss: 38.4272 - val_mean_absolute_error: 5.9148\n",
      "INFO:tensorflow:Assets written to: 4H_Forecast/4H_ForecastModel_6_SizeWindow\\assets\n"
     ]
    },
    {
     "name": "stderr",
     "output_type": "stream",
     "text": [
      "INFO:tensorflow:Assets written to: 4H_Forecast/4H_ForecastModel_6_SizeWindow\\assets\n"
     ]
    },
    {
     "name": "stdout",
     "output_type": "stream",
     "text": [
      "Epoch 5/25\n",
      "161/161 [==============================] - 1s 8ms/step - loss: 100.8364 - mean_absolute_error: 8.8084 - val_loss: 11.8638 - val_mean_absolute_error: 2.9240\n",
      "INFO:tensorflow:Assets written to: 4H_Forecast/4H_ForecastModel_6_SizeWindow\\assets\n"
     ]
    },
    {
     "name": "stderr",
     "output_type": "stream",
     "text": [
      "INFO:tensorflow:Assets written to: 4H_Forecast/4H_ForecastModel_6_SizeWindow\\assets\n"
     ]
    },
    {
     "name": "stdout",
     "output_type": "stream",
     "text": [
      "Epoch 6/25\n",
      "161/161 [==============================] - 2s 10ms/step - loss: 58.5179 - mean_absolute_error: 5.9513 - val_loss: 2.9649 - val_mean_absolute_error: 1.3346\n",
      "INFO:tensorflow:Assets written to: 4H_Forecast/4H_ForecastModel_6_SizeWindow\\assets\n"
     ]
    },
    {
     "name": "stderr",
     "output_type": "stream",
     "text": [
      "INFO:tensorflow:Assets written to: 4H_Forecast/4H_ForecastModel_6_SizeWindow\\assets\n"
     ]
    },
    {
     "name": "stdout",
     "output_type": "stream",
     "text": [
      "Epoch 7/25\n",
      "161/161 [==============================] - 1s 7ms/step - loss: 38.9251 - mean_absolute_error: 4.1707 - val_loss: 3.8726 - val_mean_absolute_error: 1.6985\n",
      "Epoch 8/25\n",
      "161/161 [==============================] - 1s 7ms/step - loss: 29.4474 - mean_absolute_error: 3.2663 - val_loss: 8.9000 - val_mean_absolute_error: 2.6708\n",
      "Epoch 9/25\n",
      "161/161 [==============================] - 1s 7ms/step - loss: 25.2144 - mean_absolute_error: 2.9981 - val_loss: 13.2850 - val_mean_absolute_error: 3.3427\n",
      "Epoch 10/25\n",
      "161/161 [==============================] - 1s 9ms/step - loss: 23.4000 - mean_absolute_error: 3.0210 - val_loss: 16.0515 - val_mean_absolute_error: 3.7322\n",
      "Epoch 11/25\n",
      "161/161 [==============================] - 1s 9ms/step - loss: 22.1887 - mean_absolute_error: 3.0379 - val_loss: 17.2465 - val_mean_absolute_error: 3.9096\n",
      "Epoch 12/25\n",
      "161/161 [==============================] - 1s 9ms/step - loss: 21.1388 - mean_absolute_error: 3.0095 - val_loss: 17.8068 - val_mean_absolute_error: 3.9730\n",
      "Epoch 13/25\n",
      "161/161 [==============================] - 1s 9ms/step - loss: 20.2833 - mean_absolute_error: 2.9811 - val_loss: 18.5566 - val_mean_absolute_error: 4.0382\n",
      "Epoch 14/25\n",
      "161/161 [==============================] - 1s 7ms/step - loss: 19.5506 - mean_absolute_error: 2.9541 - val_loss: 18.3916 - val_mean_absolute_error: 4.0157\n",
      "Epoch 15/25\n",
      "161/161 [==============================] - 1s 7ms/step - loss: 18.6456 - mean_absolute_error: 2.9283 - val_loss: 18.6030 - val_mean_absolute_error: 4.0416\n",
      "Epoch 16/25\n",
      "161/161 [==============================] - 1s 7ms/step - loss: 17.6999 - mean_absolute_error: 2.8711 - val_loss: 18.3339 - val_mean_absolute_error: 4.0171\n",
      "Epoch 17/25\n",
      "161/161 [==============================] - 1s 7ms/step - loss: 16.8591 - mean_absolute_error: 2.7721 - val_loss: 17.0646 - val_mean_absolute_error: 3.8336\n",
      "Epoch 18/25\n",
      "161/161 [==============================] - 1s 8ms/step - loss: 15.6902 - mean_absolute_error: 2.6754 - val_loss: 16.9269 - val_mean_absolute_error: 3.8054\n",
      "Epoch 19/25\n",
      "161/161 [==============================] - 1s 7ms/step - loss: 14.8374 - mean_absolute_error: 2.6234 - val_loss: 16.8447 - val_mean_absolute_error: 3.7969\n",
      "Epoch 20/25\n",
      "161/161 [==============================] - 1s 7ms/step - loss: 13.9196 - mean_absolute_error: 2.5271 - val_loss: 14.7472 - val_mean_absolute_error: 3.5659\n",
      "Epoch 21/25\n",
      "161/161 [==============================] - 1s 6ms/step - loss: 12.8920 - mean_absolute_error: 2.4321 - val_loss: 15.5496 - val_mean_absolute_error: 3.6760\n",
      "Epoch 22/25\n",
      "161/161 [==============================] - 1s 7ms/step - loss: 12.2378 - mean_absolute_error: 2.4269 - val_loss: 16.2350 - val_mean_absolute_error: 3.7804\n",
      "Epoch 23/25\n",
      "161/161 [==============================] - 1s 7ms/step - loss: 11.7347 - mean_absolute_error: 2.4011 - val_loss: 15.9010 - val_mean_absolute_error: 3.7481\n",
      "Epoch 24/25\n",
      "161/161 [==============================] - 1s 7ms/step - loss: 10.9460 - mean_absolute_error: 2.2858 - val_loss: 14.3233 - val_mean_absolute_error: 3.5664\n",
      "Epoch 25/25\n",
      "161/161 [==============================] - 1s 7ms/step - loss: 10.0276 - mean_absolute_error: 2.1890 - val_loss: 14.1635 - val_mean_absolute_error: 3.5346\n",
      "\n",
      "-----------------------------------------------------------------------------------------------------------\n",
      "\n",
      "Model: \"sequential_9\"\n",
      "_________________________________________________________________\n",
      "Layer (type)                 Output Shape              Param #   \n",
      "=================================================================\n",
      "lstm_9 (LSTM)                (None, 64)                17920     \n",
      "_________________________________________________________________\n",
      "dense_18 (Dense)             (None, 8)                 520       \n",
      "_________________________________________________________________\n",
      "dense_19 (Dense)             (None, 1)                 9         \n",
      "=================================================================\n",
      "Total params: 18,449\n",
      "Trainable params: 18,449\n",
      "Non-trainable params: 0\n",
      "_________________________________________________________________\n",
      "Epoch 1/25\n",
      "161/161 [==============================] - 4s 14ms/step - loss: 482.5932 - mean_absolute_error: 21.5239 - val_loss: 253.2585 - val_mean_absolute_error: 15.8404\n",
      "INFO:tensorflow:Assets written to: 4H_Forecast/4H_ForecastModel_7_SizeWindow\\assets\n"
     ]
    },
    {
     "name": "stderr",
     "output_type": "stream",
     "text": [
      "INFO:tensorflow:Assets written to: 4H_Forecast/4H_ForecastModel_7_SizeWindow\\assets\n"
     ]
    },
    {
     "name": "stdout",
     "output_type": "stream",
     "text": [
      "Epoch 2/25\n",
      "161/161 [==============================] - 1s 8ms/step - loss: 375.5769 - mean_absolute_error: 18.8467 - val_loss: 180.4824 - val_mean_absolute_error: 13.3445\n",
      "INFO:tensorflow:Assets written to: 4H_Forecast/4H_ForecastModel_7_SizeWindow\\assets\n"
     ]
    },
    {
     "name": "stderr",
     "output_type": "stream",
     "text": [
      "INFO:tensorflow:Assets written to: 4H_Forecast/4H_ForecastModel_7_SizeWindow\\assets\n"
     ]
    },
    {
     "name": "stdout",
     "output_type": "stream",
     "text": [
      "Epoch 3/25\n",
      "161/161 [==============================] - 1s 8ms/step - loss: 280.9795 - mean_absolute_error: 16.1480 - val_loss: 110.1963 - val_mean_absolute_error: 10.3218\n",
      "INFO:tensorflow:Assets written to: 4H_Forecast/4H_ForecastModel_7_SizeWindow\\assets\n"
     ]
    },
    {
     "name": "stderr",
     "output_type": "stream",
     "text": [
      "INFO:tensorflow:Assets written to: 4H_Forecast/4H_ForecastModel_7_SizeWindow\\assets\n"
     ]
    },
    {
     "name": "stdout",
     "output_type": "stream",
     "text": [
      "Epoch 4/25\n",
      "161/161 [==============================] - 1s 8ms/step - loss: 195.9297 - mean_absolute_error: 13.1938 - val_loss: 58.2607 - val_mean_absolute_error: 7.4034\n",
      "INFO:tensorflow:Assets written to: 4H_Forecast/4H_ForecastModel_7_SizeWindow\\assets\n"
     ]
    },
    {
     "name": "stderr",
     "output_type": "stream",
     "text": [
      "INFO:tensorflow:Assets written to: 4H_Forecast/4H_ForecastModel_7_SizeWindow\\assets\n"
     ]
    },
    {
     "name": "stdout",
     "output_type": "stream",
     "text": [
      "Epoch 5/25\n",
      "161/161 [==============================] - 1s 8ms/step - loss: 133.8109 - mean_absolute_error: 10.5464 - val_loss: 26.7373 - val_mean_absolute_error: 4.8986\n",
      "INFO:tensorflow:Assets written to: 4H_Forecast/4H_ForecastModel_7_SizeWindow\\assets\n"
     ]
    },
    {
     "name": "stderr",
     "output_type": "stream",
     "text": [
      "INFO:tensorflow:Assets written to: 4H_Forecast/4H_ForecastModel_7_SizeWindow\\assets\n"
     ]
    },
    {
     "name": "stdout",
     "output_type": "stream",
     "text": [
      "Epoch 6/25\n",
      "161/161 [==============================] - 1s 8ms/step - loss: 87.7571 - mean_absolute_error: 8.1030 - val_loss: 8.7853 - val_mean_absolute_error: 2.5487\n",
      "INFO:tensorflow:Assets written to: 4H_Forecast/4H_ForecastModel_7_SizeWindow\\assets\n"
     ]
    },
    {
     "name": "stderr",
     "output_type": "stream",
     "text": [
      "INFO:tensorflow:Assets written to: 4H_Forecast/4H_ForecastModel_7_SizeWindow\\assets\n"
     ]
    },
    {
     "name": "stdout",
     "output_type": "stream",
     "text": [
      "Epoch 7/25\n",
      "161/161 [==============================] - 1s 9ms/step - loss: 55.4453 - mean_absolute_error: 5.7751 - val_loss: 2.2820 - val_mean_absolute_error: 1.1822\n",
      "INFO:tensorflow:Assets written to: 4H_Forecast/4H_ForecastModel_7_SizeWindow\\assets\n"
     ]
    },
    {
     "name": "stderr",
     "output_type": "stream",
     "text": [
      "INFO:tensorflow:Assets written to: 4H_Forecast/4H_ForecastModel_7_SizeWindow\\assets\n"
     ]
    },
    {
     "name": "stdout",
     "output_type": "stream",
     "text": [
      "Epoch 8/25\n",
      "161/161 [==============================] - 1s 9ms/step - loss: 38.4238 - mean_absolute_error: 4.2027 - val_loss: 3.1175 - val_mean_absolute_error: 1.4590\n",
      "Epoch 9/25\n",
      "161/161 [==============================] - 1s 9ms/step - loss: 29.5937 - mean_absolute_error: 3.3096 - val_loss: 7.3096 - val_mean_absolute_error: 2.3791\n",
      "Epoch 10/25\n",
      "161/161 [==============================] - 1s 8ms/step - loss: 25.0516 - mean_absolute_error: 2.9549 - val_loss: 11.9174 - val_mean_absolute_error: 3.2007\n",
      "Epoch 11/25\n",
      "161/161 [==============================] - 1s 8ms/step - loss: 22.6277 - mean_absolute_error: 2.9263 - val_loss: 15.8369 - val_mean_absolute_error: 3.7718\n",
      "Epoch 12/25\n",
      "161/161 [==============================] - 1s 9ms/step - loss: 21.6477 - mean_absolute_error: 3.0067 - val_loss: 18.0196 - val_mean_absolute_error: 4.0444\n",
      "Epoch 13/25\n",
      "161/161 [==============================] - 1s 9ms/step - loss: 20.8354 - mean_absolute_error: 3.0321 - val_loss: 18.4710 - val_mean_absolute_error: 4.0892\n",
      "Epoch 14/25\n",
      "161/161 [==============================] - 2s 12ms/step - loss: 19.6105 - mean_absolute_error: 2.9389 - val_loss: 17.9898 - val_mean_absolute_error: 3.9819\n",
      "Epoch 15/25\n",
      "161/161 [==============================] - 2s 12ms/step - loss: 18.8393 - mean_absolute_error: 2.8854 - val_loss: 18.3270 - val_mean_absolute_error: 4.0339\n",
      "Epoch 16/25\n",
      "161/161 [==============================] - 2s 12ms/step - loss: 18.2454 - mean_absolute_error: 2.8633 - val_loss: 18.5517 - val_mean_absolute_error: 4.0730\n",
      "Epoch 17/25\n",
      "161/161 [==============================] - 2s 11ms/step - loss: 17.0636 - mean_absolute_error: 2.7700 - val_loss: 17.4747 - val_mean_absolute_error: 3.9198\n",
      "Epoch 18/25\n",
      "161/161 [==============================] - 2s 10ms/step - loss: 16.1170 - mean_absolute_error: 2.6930 - val_loss: 17.3420 - val_mean_absolute_error: 3.9119\n",
      "Epoch 19/25\n",
      "161/161 [==============================] - 1s 9ms/step - loss: 15.4080 - mean_absolute_error: 2.6454 - val_loss: 17.4297 - val_mean_absolute_error: 3.92265.5819 - mean_absolute_error: \n",
      "Epoch 20/25\n",
      "161/161 [==============================] - 1s 9ms/step - loss: 14.7766 - mean_absolute_error: 2.6350 - val_loss: 17.0477 - val_mean_absolute_error: 3.8894\n",
      "Epoch 21/25\n",
      "161/161 [==============================] - 1s 9ms/step - loss: 14.2677 - mean_absolute_error: 2.5883 - val_loss: 17.0024 - val_mean_absolute_error: 3.8975\n",
      "Epoch 22/25\n",
      "161/161 [==============================] - 2s 10ms/step - loss: 13.8328 - mean_absolute_error: 2.5678 - val_loss: 16.9715 - val_mean_absolute_error: 3.9005\n",
      "Epoch 23/25\n",
      "161/161 [==============================] - 1s 9ms/step - loss: 13.4065 - mean_absolute_error: 2.5446 - val_loss: 16.1370 - val_mean_absolute_error: 3.7858\n",
      "Epoch 24/25\n",
      "161/161 [==============================] - 1s 9ms/step - loss: 12.7462 - mean_absolute_error: 2.4469 - val_loss: 14.7282 - val_mean_absolute_error: 3.5764\n",
      "Epoch 25/25\n",
      "161/161 [==============================] - ETA: 0s - loss: 11.7910 - mean_absolute_error: 2.35 - 2s 10ms/step - loss: 11.7910 - mean_absolute_error: 2.3509 - val_loss: 13.9327 - val_mean_absolute_error: 3.4345\n",
      "\n",
      "-----------------------------------------------------------------------------------------------------------\n",
      "\n",
      "Model: \"sequential_10\"\n",
      "_________________________________________________________________\n",
      "Layer (type)                 Output Shape              Param #   \n",
      "=================================================================\n",
      "lstm_10 (LSTM)               (None, 64)                17920     \n",
      "_________________________________________________________________\n",
      "dense_20 (Dense)             (None, 8)                 520       \n",
      "_________________________________________________________________\n",
      "dense_21 (Dense)             (None, 1)                 9         \n",
      "=================================================================\n",
      "Total params: 18,449\n",
      "Trainable params: 18,449\n",
      "Non-trainable params: 0\n",
      "_________________________________________________________________\n",
      "Epoch 1/25\n",
      "161/161 [==============================] - 5s 12ms/step - loss: 467.7964 - mean_absolute_error: 21.1413 - val_loss: 244.2842 - val_mean_absolute_error: 15.5839\n",
      "INFO:tensorflow:Assets written to: 4H_Forecast/4H_ForecastModel_8_SizeWindow\\assets\n"
     ]
    },
    {
     "name": "stderr",
     "output_type": "stream",
     "text": [
      "INFO:tensorflow:Assets written to: 4H_Forecast/4H_ForecastModel_8_SizeWindow\\assets\n"
     ]
    },
    {
     "name": "stdout",
     "output_type": "stream",
     "text": [
      "Epoch 2/25\n",
      "161/161 [==============================] - 1s 9ms/step - loss: 348.8823 - mean_absolute_error: 18.1380 - val_loss: 131.1046 - val_mean_absolute_error: 11.2691\n",
      "INFO:tensorflow:Assets written to: 4H_Forecast/4H_ForecastModel_8_SizeWindow\\assets\n"
     ]
    },
    {
     "name": "stderr",
     "output_type": "stream",
     "text": [
      "INFO:tensorflow:Assets written to: 4H_Forecast/4H_ForecastModel_8_SizeWindow\\assets\n"
     ]
    },
    {
     "name": "stdout",
     "output_type": "stream",
     "text": [
      "Epoch 3/25\n",
      "161/161 [==============================] - 1s 9ms/step - loss: 160.3623 - mean_absolute_error: 11.6230 - val_loss: 22.0330 - val_mean_absolute_error: 3.8799\n",
      "INFO:tensorflow:Assets written to: 4H_Forecast/4H_ForecastModel_8_SizeWindow\\assets\n"
     ]
    },
    {
     "name": "stderr",
     "output_type": "stream",
     "text": [
      "INFO:tensorflow:Assets written to: 4H_Forecast/4H_ForecastModel_8_SizeWindow\\assets\n"
     ]
    },
    {
     "name": "stdout",
     "output_type": "stream",
     "text": [
      "Epoch 4/25\n",
      "161/161 [==============================] - 1s 9ms/step - loss: 46.1837 - mean_absolute_error: 5.1742 - val_loss: 8.0663 - val_mean_absolute_error: 2.3337\n",
      "INFO:tensorflow:Assets written to: 4H_Forecast/4H_ForecastModel_8_SizeWindow\\assets\n"
     ]
    },
    {
     "name": "stderr",
     "output_type": "stream",
     "text": [
      "INFO:tensorflow:Assets written to: 4H_Forecast/4H_ForecastModel_8_SizeWindow\\assets\n"
     ]
    },
    {
     "name": "stdout",
     "output_type": "stream",
     "text": [
      "Epoch 5/25\n",
      "161/161 [==============================] - 1s 7ms/step - loss: 21.5837 - mean_absolute_error: 3.0918 - val_loss: 12.2444 - val_mean_absolute_error: 2.8671\n",
      "Epoch 6/25\n",
      "161/161 [==============================] - 2s 11ms/step - loss: 16.1664 - mean_absolute_error: 2.6403 - val_loss: 14.0077 - val_mean_absolute_error: 3.2986\n",
      "Epoch 7/25\n",
      "161/161 [==============================] - 2s 11ms/step - loss: 13.9858 - mean_absolute_error: 2.4838 - val_loss: 14.5926 - val_mean_absolute_error: 3.4533\n",
      "Epoch 8/25\n",
      "161/161 [==============================] - 2s 11ms/step - loss: 12.7667 - mean_absolute_error: 2.4077 - val_loss: 14.8080 - val_mean_absolute_error: 3.5237\n",
      "Epoch 9/25\n",
      "161/161 [==============================] - 2s 12ms/step - loss: 11.7726 - mean_absolute_error: 2.3425 - val_loss: 14.7119 - val_mean_absolute_error: 3.5290\n",
      "Epoch 10/25\n",
      "161/161 [==============================] - 2s 11ms/step - loss: 10.8589 - mean_absolute_error: 2.2915 - val_loss: 14.7219 - val_mean_absolute_error: 3.5513\n",
      "Epoch 11/25\n",
      "161/161 [==============================] - 2s 11ms/step - loss: 9.7228 - mean_absolute_error: 2.1998 - val_loss: 14.5041 - val_mean_absolute_error: 3.5288\n",
      "Epoch 12/25\n",
      "161/161 [==============================] - 2s 11ms/step - loss: 8.7930 - mean_absolute_error: 2.1236 - val_loss: 13.7638 - val_mean_absolute_error: 3.4432\n",
      "Epoch 13/25\n",
      "161/161 [==============================] - 2s 10ms/step - loss: 8.1044 - mean_absolute_error: 2.0614 - val_loss: 13.4583 - val_mean_absolute_error: 3.4163\n",
      "Epoch 14/25\n",
      "161/161 [==============================] - 1s 9ms/step - loss: 7.3003 - mean_absolute_error: 1.9862 - val_loss: 13.0708 - val_mean_absolute_error: 3.3637\n",
      "Epoch 15/25\n",
      "161/161 [==============================] - 2s 9ms/step - loss: 6.5818 - mean_absolute_error: 1.8992 - val_loss: 12.1881 - val_mean_absolute_error: 3.2296\n",
      "Epoch 16/25\n",
      "161/161 [==============================] - 1s 9ms/step - loss: 6.0210 - mean_absolute_error: 1.8102 - val_loss: 11.8787 - val_mean_absolute_error: 3.1965\n",
      "Epoch 17/25\n",
      "161/161 [==============================] - 1s 9ms/step - loss: 5.6838 - mean_absolute_error: 1.7577 - val_loss: 11.3160 - val_mean_absolute_error: 3.1138\n",
      "Epoch 18/25\n",
      "161/161 [==============================] - 1s 9ms/step - loss: 5.4005 - mean_absolute_error: 1.7088 - val_loss: 11.8532 - val_mean_absolute_error: 3.2116\n",
      "Epoch 19/25\n",
      "161/161 [==============================] - 1s 9ms/step - loss: 5.1180 - mean_absolute_error: 1.6617 - val_loss: 10.2476 - val_mean_absolute_error: 2.9756\n",
      "Epoch 20/25\n",
      "161/161 [==============================] - 1s 9ms/step - loss: 4.7082 - mean_absolute_error: 1.5986 - val_loss: 9.2241 - val_mean_absolute_error: 2.8066\n",
      "Epoch 21/25\n",
      "161/161 [==============================] - 1s 8ms/step - loss: 4.2614 - mean_absolute_error: 1.5198 - val_loss: 8.6567 - val_mean_absolute_error: 2.7168\n",
      "Epoch 22/25\n",
      "161/161 [==============================] - 1s 7ms/step - loss: 3.7969 - mean_absolute_error: 1.4341 - val_loss: 7.3522 - val_mean_absolute_error: 2.5014\n",
      "INFO:tensorflow:Assets written to: 4H_Forecast/4H_ForecastModel_8_SizeWindow\\assets\n"
     ]
    },
    {
     "name": "stderr",
     "output_type": "stream",
     "text": [
      "INFO:tensorflow:Assets written to: 4H_Forecast/4H_ForecastModel_8_SizeWindow\\assets\n"
     ]
    },
    {
     "name": "stdout",
     "output_type": "stream",
     "text": [
      "Epoch 23/25\n",
      "161/161 [==============================] - 2s 10ms/step - loss: 3.4301 - mean_absolute_error: 1.3580 - val_loss: 7.5772 - val_mean_absolute_error: 2.5615\n",
      "Epoch 24/25\n",
      "161/161 [==============================] - 1s 9ms/step - loss: 3.1291 - mean_absolute_error: 1.2878 - val_loss: 6.6019 - val_mean_absolute_error: 2.3732\n",
      "INFO:tensorflow:Assets written to: 4H_Forecast/4H_ForecastModel_8_SizeWindow\\assets\n"
     ]
    },
    {
     "name": "stderr",
     "output_type": "stream",
     "text": [
      "INFO:tensorflow:Assets written to: 4H_Forecast/4H_ForecastModel_8_SizeWindow\\assets\n"
     ]
    },
    {
     "name": "stdout",
     "output_type": "stream",
     "text": [
      "Epoch 25/25\n",
      "161/161 [==============================] - 1s 9ms/step - loss: 2.8668 - mean_absolute_error: 1.2174 - val_loss: 6.6976 - val_mean_absolute_error: 2.4226\n",
      "\n",
      "-----------------------------------------------------------------------------------------------------------\n",
      "\n",
      "Model: \"sequential_11\"\n",
      "_________________________________________________________________\n",
      "Layer (type)                 Output Shape              Param #   \n",
      "=================================================================\n",
      "lstm_11 (LSTM)               (None, 64)                17920     \n",
      "_________________________________________________________________\n",
      "dense_22 (Dense)             (None, 8)                 520       \n",
      "_________________________________________________________________\n",
      "dense_23 (Dense)             (None, 1)                 9         \n",
      "=================================================================\n",
      "Total params: 18,449\n",
      "Trainable params: 18,449\n",
      "Non-trainable params: 0\n",
      "_________________________________________________________________\n",
      "Epoch 1/25\n",
      "161/161 [==============================] - 5s 13ms/step - loss: 473.0721 - mean_absolute_error: 21.2018 - val_loss: 239.3093 - val_mean_absolute_error: 15.4036\n",
      "INFO:tensorflow:Assets written to: 4H_Forecast/4H_ForecastModel_9_SizeWindow\\assets\n"
     ]
    },
    {
     "name": "stderr",
     "output_type": "stream",
     "text": [
      "INFO:tensorflow:Assets written to: 4H_Forecast/4H_ForecastModel_9_SizeWindow\\assets\n"
     ]
    },
    {
     "name": "stdout",
     "output_type": "stream",
     "text": [
      "Epoch 2/25\n",
      "161/161 [==============================] - 2s 9ms/step - loss: 366.8289 - mean_absolute_error: 18.4614 - val_loss: 146.5284 - val_mean_absolute_error: 11.9466\n",
      "INFO:tensorflow:Assets written to: 4H_Forecast/4H_ForecastModel_9_SizeWindow\\assets\n"
     ]
    },
    {
     "name": "stderr",
     "output_type": "stream",
     "text": [
      "INFO:tensorflow:Assets written to: 4H_Forecast/4H_ForecastModel_9_SizeWindow\\assets\n"
     ]
    },
    {
     "name": "stdout",
     "output_type": "stream",
     "text": [
      "Epoch 3/25\n",
      "161/161 [==============================] - 1s 9ms/step - loss: 219.5998 - mean_absolute_error: 13.9364 - val_loss: 57.0578 - val_mean_absolute_error: 7.2500\n",
      "INFO:tensorflow:Assets written to: 4H_Forecast/4H_ForecastModel_9_SizeWindow\\assets\n"
     ]
    },
    {
     "name": "stderr",
     "output_type": "stream",
     "text": [
      "INFO:tensorflow:Assets written to: 4H_Forecast/4H_ForecastModel_9_SizeWindow\\assets\n"
     ]
    },
    {
     "name": "stdout",
     "output_type": "stream",
     "text": [
      "Epoch 4/25\n",
      "161/161 [==============================] - 2s 9ms/step - loss: 120.8792 - mean_absolute_error: 9.8017 - val_loss: 15.9938 - val_mean_absolute_error: 3.3413\n",
      "INFO:tensorflow:Assets written to: 4H_Forecast/4H_ForecastModel_9_SizeWindow\\assets\n"
     ]
    },
    {
     "name": "stderr",
     "output_type": "stream",
     "text": [
      "INFO:tensorflow:Assets written to: 4H_Forecast/4H_ForecastModel_9_SizeWindow\\assets\n"
     ]
    },
    {
     "name": "stdout",
     "output_type": "stream",
     "text": [
      "Epoch 5/25\n",
      "161/161 [==============================] - 2s 10ms/step - loss: 60.5252 - mean_absolute_error: 5.9905 - val_loss: 3.5207 - val_mean_absolute_error: 1.4514\n",
      "INFO:tensorflow:Assets written to: 4H_Forecast/4H_ForecastModel_9_SizeWindow\\assets\n"
     ]
    },
    {
     "name": "stderr",
     "output_type": "stream",
     "text": [
      "INFO:tensorflow:Assets written to: 4H_Forecast/4H_ForecastModel_9_SizeWindow\\assets\n"
     ]
    },
    {
     "name": "stdout",
     "output_type": "stream",
     "text": [
      "Epoch 6/25\n",
      "161/161 [==============================] - 1s 9ms/step - loss: 35.8839 - mean_absolute_error: 3.8601 - val_loss: 7.3692 - val_mean_absolute_error: 2.3746\n",
      "Epoch 7/25\n",
      "161/161 [==============================] - 2s 10ms/step - loss: 25.7014 - mean_absolute_error: 3.0265 - val_loss: 12.5407 - val_mean_absolute_error: 3.1872\n",
      "Epoch 8/25\n",
      "161/161 [==============================] - 1s 8ms/step - loss: 21.7514 - mean_absolute_error: 2.9027 - val_loss: 15.4420 - val_mean_absolute_error: 3.6108\n",
      "Epoch 9/25\n",
      "161/161 [==============================] - 2s 11ms/step - loss: 19.7157 - mean_absolute_error: 2.8552 - val_loss: 16.2375 - val_mean_absolute_error: 3.7367\n",
      "Epoch 10/25\n",
      "161/161 [==============================] - 2s 13ms/step - loss: 18.2844 - mean_absolute_error: 2.8008 - val_loss: 17.3293 - val_mean_absolute_error: 3.8782\n",
      "Epoch 11/25\n",
      "161/161 [==============================] - 2s 13ms/step - loss: 17.1153 - mean_absolute_error: 2.7489 - val_loss: 17.9104 - val_mean_absolute_error: 3.9591\n",
      "Epoch 12/25\n",
      "161/161 [==============================] - 2s 14ms/step - loss: 16.5408 - mean_absolute_error: 2.7336 - val_loss: 18.2556 - val_mean_absolute_error: 4.0083\n",
      "Epoch 13/25\n",
      "161/161 [==============================] - 2s 13ms/step - loss: 15.1991 - mean_absolute_error: 2.6510 - val_loss: 16.3974 - val_mean_absolute_error: 3.7920\n",
      "Epoch 14/25\n",
      "161/161 [==============================] - 2s 12ms/step - loss: 14.2588 - mean_absolute_error: 2.5487 - val_loss: 16.1805 - val_mean_absolute_error: 3.7834\n",
      "Epoch 15/25\n",
      "161/161 [==============================] - 2s 13ms/step - loss: 13.6308 - mean_absolute_error: 2.5277 - val_loss: 16.5316 - val_mean_absolute_error: 3.8272\n",
      "Epoch 16/25\n",
      "161/161 [==============================] - 2s 13ms/step - loss: 12.9552 - mean_absolute_error: 2.4607 - val_loss: 14.6442 - val_mean_absolute_error: 3.5778\n",
      "Epoch 17/25\n",
      "161/161 [==============================] - 2s 10ms/step - loss: 12.1788 - mean_absolute_error: 2.3753 - val_loss: 15.0269 - val_mean_absolute_error: 3.6046\n",
      "Epoch 18/25\n",
      "161/161 [==============================] - 2s 10ms/step - loss: 11.6005 - mean_absolute_error: 2.3364 - val_loss: 14.7354 - val_mean_absolute_error: 3.5724\n",
      "Epoch 19/25\n",
      "161/161 [==============================] - 1s 9ms/step - loss: 10.6080 - mean_absolute_error: 2.2895 - val_loss: 14.7865 - val_mean_absolute_error: 3.5975\n",
      "Epoch 20/25\n",
      "161/161 [==============================] - 2s 10ms/step - loss: 9.7735 - mean_absolute_error: 2.2229 - val_loss: 15.2132 - val_mean_absolute_error: 3.6498\n",
      "Epoch 21/25\n",
      "161/161 [==============================] - 1s 9ms/step - loss: 9.3588 - mean_absolute_error: 2.2012 - val_loss: 14.9020 - val_mean_absolute_error: 3.5986\n",
      "Epoch 22/25\n",
      "161/161 [==============================] - 2s 10ms/step - loss: 8.9283 - mean_absolute_error: 2.1477 - val_loss: 15.0235 - val_mean_absolute_error: 3.6072\n",
      "Epoch 23/25\n",
      "161/161 [==============================] - 2s 12ms/step - loss: 8.6107 - mean_absolute_error: 2.1210 - val_loss: 14.5645 - val_mean_absolute_error: 3.5342\n",
      "Epoch 24/25\n",
      "161/161 [==============================] - 5s 29ms/step - loss: 8.0768 - mean_absolute_error: 2.0314 - val_loss: 13.3413 - val_mean_absolute_error: 3.3614- mean_abs\n",
      "Epoch 25/25\n",
      "161/161 [==============================] - 3s 19ms/step - loss: 7.6087 - mean_absolute_error: 1.9908 - val_loss: 12.9007 - val_mean_absolute_error: 3.2709\n",
      "\n",
      "-----------------------------------------------------------------------------------------------------------\n",
      "\n",
      "CPU times: total: 18min 50s\n",
      "Wall time: 6min 50s\n"
     ]
    }
   ],
   "source": [
    "%%time\n",
    "\n",
    "Trainer(4,6,9)"
   ]
  },
  {
   "cell_type": "code",
   "execution_count": 29,
   "id": "14142e39",
   "metadata": {},
   "outputs": [
    {
     "name": "stdout",
     "output_type": "stream",
     "text": [
      "(5122, 6, 5) (5122,) (1708, 6, 5) (1708,) (1708, 6, 5) (1708,)\n",
      "Loading: 4H_Forecast/4H_ForecastModel_6_SizeWindow/\n",
      "54/54 [==============================] - 1s 4ms/step - loss: 36.3965 - mean_absolute_error: 4.4325\n",
      "(5121, 7, 5) (5121,) (1708, 7, 5) (1708,) (1708, 7, 5) (1708,)\n",
      "Loading: 4H_Forecast/4H_ForecastModel_7_SizeWindow/\n",
      "54/54 [==============================] - 1s 3ms/step - loss: 37.2642 - mean_absolute_error: 4.3809\n",
      "(5121, 8, 5) (5121,) (1707, 8, 5) (1707,) (1708, 8, 5) (1708,)\n",
      "Loading: 4H_Forecast/4H_ForecastModel_8_SizeWindow/\n",
      "54/54 [==============================] - 1s 3ms/step - loss: 3.8330 - mean_absolute_error: 1.5154\n",
      "(5121, 9, 5) (5121,) (1707, 9, 5) (1707,) (1707, 9, 5) (1707,)\n",
      "Loading: 4H_Forecast/4H_ForecastModel_9_SizeWindow/\n",
      "54/54 [==============================] - 1s 3ms/step - loss: 33.2236 - mean_absolute_error: 4.2060\n",
      "CPU times: total: 56.7 s\n",
      "Wall time: 44.2 s\n"
     ]
    }
   ],
   "source": [
    "%%time\n",
    "\n",
    "modelsEvaluator(4,6,9)"
   ]
  },
  {
   "cell_type": "code",
   "execution_count": 36,
   "id": "8fa40d6b",
   "metadata": {},
   "outputs": [
    {
     "name": "stdout",
     "output_type": "stream",
     "text": [
      "54/54 [==============================] - 1s 3ms/step - loss: 3.8335 - mean_absolute_error: 1.5507\n"
     ]
    },
    {
     "data": {
      "text/plain": [
       "<matplotlib.legend.Legend at 0x19ad2815b20>"
      ]
     },
     "execution_count": 36,
     "metadata": {},
     "output_type": "execute_result"
    },
    {
     "data": {
      "image/png": "[encoded data removed]",
      "text/plain": [
       "<Figure size 576x396 with 1 Axes>"
      ]
     },
     "metadata": {},
     "output_type": "display_data"
    }
   ],
   "source": [
    "model = load_model('4H_Forecast/4H_ForecastModel_8_SizeWindow/')\n",
    "\n",
    "X, y = DataHandler(4,8)\n",
    "X_train, X_test, y_train, y_test = train_test_split(X, y, test_size=0.2)\n",
    "X_train, X_val, y_train, y_val = train_test_split(X_train, y_train, test_size=0.25) \n",
    "model.evaluate(X_test,y_test)\n",
    "\n",
    "train_predictions = model.predict(X_train).flatten()\n",
    "train_results = pd.DataFrame(data={'Train Predictions':train_predictions, 'Actuals':y_train})\n",
    "plt.style.use('seaborn')\n",
    "\n",
    "pd.concat([train_results['Train Predictions'],train_results['Actuals']],axis=1).plot()\n",
    "plt.legend(['Train Predictions','Actuals'])"
   ]
  },
  {
   "cell_type": "markdown",
   "id": "4b53e8af",
   "metadata": {},
   "source": [
    "### 5 hours forecast"
   ]
  },
  {
   "cell_type": "code",
   "execution_count": 30,
   "id": "feb93889",
   "metadata": {},
   "outputs": [
    {
     "name": "stdout",
     "output_type": "stream",
     "text": [
      "Model: \"sequential_12\"\n",
      "_________________________________________________________________\n",
      "Layer (type)                 Output Shape              Param #   \n",
      "=================================================================\n",
      "lstm_12 (LSTM)               (None, 64)                17920     \n",
      "_________________________________________________________________\n",
      "dense_24 (Dense)             (None, 8)                 520       \n",
      "_________________________________________________________________\n",
      "dense_25 (Dense)             (None, 1)                 9         \n",
      "=================================================================\n",
      "Total params: 18,449\n",
      "Trainable params: 18,449\n",
      "Non-trainable params: 0\n",
      "_________________________________________________________________\n",
      "Epoch 1/25\n",
      "161/161 [==============================] - 4s 12ms/step - loss: 476.9778 - mean_absolute_error: 21.3373 - val_loss: 255.2868 - val_mean_absolute_error: 15.9355\n",
      "INFO:tensorflow:Assets written to: 5H_Forecast/5H_ForecastModel_6_SizeWindow\\assets\n"
     ]
    },
    {
     "name": "stderr",
     "output_type": "stream",
     "text": [
      "INFO:tensorflow:Assets written to: 5H_Forecast/5H_ForecastModel_6_SizeWindow\\assets\n"
     ]
    },
    {
     "name": "stdout",
     "output_type": "stream",
     "text": [
      "Epoch 2/25\n",
      "161/161 [==============================] - 1s 7ms/step - loss: 411.0887 - mean_absolute_error: 19.7024 - val_loss: 191.3460 - val_mean_absolute_error: 13.7615\n",
      "INFO:tensorflow:Assets written to: 5H_Forecast/5H_ForecastModel_6_SizeWindow\\assets\n"
     ]
    },
    {
     "name": "stderr",
     "output_type": "stream",
     "text": [
      "INFO:tensorflow:Assets written to: 5H_Forecast/5H_ForecastModel_6_SizeWindow\\assets\n"
     ]
    },
    {
     "name": "stdout",
     "output_type": "stream",
     "text": [
      "Epoch 3/25\n",
      "161/161 [==============================] - 1s 8ms/step - loss: 307.4568 - mean_absolute_error: 16.8338 - val_loss: 114.0628 - val_mean_absolute_error: 10.5527\n",
      "INFO:tensorflow:Assets written to: 5H_Forecast/5H_ForecastModel_6_SizeWindow\\assets\n"
     ]
    },
    {
     "name": "stderr",
     "output_type": "stream",
     "text": [
      "INFO:tensorflow:Assets written to: 5H_Forecast/5H_ForecastModel_6_SizeWindow\\assets\n"
     ]
    },
    {
     "name": "stdout",
     "output_type": "stream",
     "text": [
      "Epoch 4/25\n",
      "161/161 [==============================] - 1s 7ms/step - loss: 206.4135 - mean_absolute_error: 13.5603 - val_loss: 58.6851 - val_mean_absolute_error: 7.4762\n",
      "INFO:tensorflow:Assets written to: 5H_Forecast/5H_ForecastModel_6_SizeWindow\\assets\n"
     ]
    },
    {
     "name": "stderr",
     "output_type": "stream",
     "text": [
      "INFO:tensorflow:Assets written to: 5H_Forecast/5H_ForecastModel_6_SizeWindow\\assets\n"
     ]
    },
    {
     "name": "stdout",
     "output_type": "stream",
     "text": [
      "Epoch 5/25\n",
      "161/161 [==============================] - 1s 7ms/step - loss: 127.9514 - mean_absolute_error: 10.2564 - val_loss: 20.1431 - val_mean_absolute_error: 4.2321\n",
      "INFO:tensorflow:Assets written to: 5H_Forecast/5H_ForecastModel_6_SizeWindow\\assets\n"
     ]
    },
    {
     "name": "stderr",
     "output_type": "stream",
     "text": [
      "INFO:tensorflow:Assets written to: 5H_Forecast/5H_ForecastModel_6_SizeWindow\\assets\n"
     ]
    },
    {
     "name": "stdout",
     "output_type": "stream",
     "text": [
      "Epoch 6/25\n",
      "161/161 [==============================] - 1s 7ms/step - loss: 76.9378 - mean_absolute_error: 7.4313 - val_loss: 5.2308 - val_mean_absolute_error: 1.9572\n",
      "INFO:tensorflow:Assets written to: 5H_Forecast/5H_ForecastModel_6_SizeWindow\\assets\n"
     ]
    },
    {
     "name": "stderr",
     "output_type": "stream",
     "text": [
      "INFO:tensorflow:Assets written to: 5H_Forecast/5H_ForecastModel_6_SizeWindow\\assets\n"
     ]
    },
    {
     "name": "stdout",
     "output_type": "stream",
     "text": [
      "Epoch 7/25\n",
      "161/161 [==============================] - 1s 8ms/step - loss: 49.6186 - mean_absolute_error: 5.3752 - val_loss: 1.5754 - val_mean_absolute_error: 0.9869\n",
      "INFO:tensorflow:Assets written to: 5H_Forecast/5H_ForecastModel_6_SizeWindow\\assets\n"
     ]
    },
    {
     "name": "stderr",
     "output_type": "stream",
     "text": [
      "INFO:tensorflow:Assets written to: 5H_Forecast/5H_ForecastModel_6_SizeWindow\\assets\n"
     ]
    },
    {
     "name": "stdout",
     "output_type": "stream",
     "text": [
      "Epoch 8/25\n",
      "161/161 [==============================] - 1s 7ms/step - loss: 34.1616 - mean_absolute_error: 3.8488 - val_loss: 4.6230 - val_mean_absolute_error: 1.8042\n",
      "Epoch 9/25\n",
      "161/161 [==============================] - 1s 7ms/step - loss: 24.9213 - mean_absolute_error: 2.9922 - val_loss: 10.3215 - val_mean_absolute_error: 2.9395\n",
      "Epoch 10/25\n",
      "161/161 [==============================] - 1s 8ms/step - loss: 21.7973 - mean_absolute_error: 2.8262 - val_loss: 14.0672 - val_mean_absolute_error: 3.5014\n",
      "Epoch 11/25\n",
      "161/161 [==============================] - 1s 8ms/step - loss: 20.4623 - mean_absolute_error: 2.8533 - val_loss: 16.2725 - val_mean_absolute_error: 3.8017\n",
      "Epoch 12/25\n",
      "161/161 [==============================] - 1s 8ms/step - loss: 19.1501 - mean_absolute_error: 2.8675 - val_loss: 17.8449 - val_mean_absolute_error: 3.9873\n",
      "Epoch 13/25\n",
      "161/161 [==============================] - 1s 8ms/step - loss: 18.0079 - mean_absolute_error: 2.8387 - val_loss: 18.3549 - val_mean_absolute_error: 4.0676\n",
      "Epoch 14/25\n",
      "161/161 [==============================] - 1s 8ms/step - loss: 17.1856 - mean_absolute_error: 2.7662 - val_loss: 16.4033 - val_mean_absolute_error: 3.7343\n",
      "Epoch 15/25\n",
      "161/161 [==============================] - 1s 8ms/step - loss: 15.8821 - mean_absolute_error: 2.5956 - val_loss: 15.5522 - val_mean_absolute_error: 3.7040\n",
      "Epoch 16/25\n",
      "161/161 [==============================] - 1s 8ms/step - loss: 14.8316 - mean_absolute_error: 2.5428 - val_loss: 14.4638 - val_mean_absolute_error: 3.5990\n",
      "Epoch 17/25\n",
      "161/161 [==============================] - 1s 7ms/step - loss: 14.1081 - mean_absolute_error: 2.5171 - val_loss: 14.9586 - val_mean_absolute_error: 3.6627\n",
      "Epoch 18/25\n",
      "161/161 [==============================] - 1s 7ms/step - loss: 13.4409 - mean_absolute_error: 2.4992 - val_loss: 15.8742 - val_mean_absolute_error: 3.7812\n",
      "Epoch 19/25\n",
      "161/161 [==============================] - 1s 8ms/step - loss: 12.7934 - mean_absolute_error: 2.4858 - val_loss: 15.9206 - val_mean_absolute_error: 3.7971\n",
      "Epoch 20/25\n",
      "161/161 [==============================] - 1s 7ms/step - loss: 11.9471 - mean_absolute_error: 2.3588 - val_loss: 12.9972 - val_mean_absolute_error: 3.3510\n",
      "Epoch 21/25\n",
      "161/161 [==============================] - 1s 7ms/step - loss: 11.0412 - mean_absolute_error: 2.2767 - val_loss: 14.6799 - val_mean_absolute_error: 3.5953\n",
      "Epoch 22/25\n",
      "161/161 [==============================] - 1s 7ms/step - loss: 10.3856 - mean_absolute_error: 2.2551 - val_loss: 14.7020 - val_mean_absolute_error: 3.6034\n",
      "Epoch 23/25\n",
      "161/161 [==============================] - 1s 7ms/step - loss: 9.9566 - mean_absolute_error: 2.2298 - val_loss: 15.3767 - val_mean_absolute_error: 3.6948\n",
      "Epoch 24/25\n",
      "161/161 [==============================] - 1s 7ms/step - loss: 9.5686 - mean_absolute_error: 2.2042 - val_loss: 14.7838 - val_mean_absolute_error: 3.6024\n",
      "Epoch 25/25\n",
      "161/161 [==============================] - 1s 7ms/step - loss: 9.1661 - mean_absolute_error: 2.1596 - val_loss: 14.4439 - val_mean_absolute_error: 3.5509\n",
      "\n",
      "-----------------------------------------------------------------------------------------------------------\n",
      "\n",
      "Model: \"sequential_13\"\n",
      "_________________________________________________________________\n",
      "Layer (type)                 Output Shape              Param #   \n",
      "=================================================================\n",
      "lstm_13 (LSTM)               (None, 64)                17920     \n",
      "_________________________________________________________________\n",
      "dense_26 (Dense)             (None, 8)                 520       \n",
      "_________________________________________________________________\n",
      "dense_27 (Dense)             (None, 1)                 9         \n",
      "=================================================================\n",
      "Total params: 18,449\n",
      "Trainable params: 18,449\n",
      "Non-trainable params: 0\n",
      "_________________________________________________________________\n",
      "Epoch 1/25\n",
      "161/161 [==============================] - 5s 12ms/step - loss: 497.4658 - mean_absolute_error: 21.8029 - val_loss: 280.2378 - val_mean_absolute_error: 16.6978\n",
      "INFO:tensorflow:Assets written to: 5H_Forecast/5H_ForecastModel_7_SizeWindow\\assets\n"
     ]
    },
    {
     "name": "stderr",
     "output_type": "stream",
     "text": [
      "INFO:tensorflow:Assets written to: 5H_Forecast/5H_ForecastModel_7_SizeWindow\\assets\n"
     ]
    },
    {
     "name": "stdout",
     "output_type": "stream",
     "text": [
      "Epoch 2/25\n",
      "161/161 [==============================] - 1s 8ms/step - loss: 458.4328 - mean_absolute_error: 20.9056 - val_loss: 251.8208 - val_mean_absolute_error: 15.8157\n",
      "INFO:tensorflow:Assets written to: 5H_Forecast/5H_ForecastModel_7_SizeWindow\\assets\n"
     ]
    },
    {
     "name": "stderr",
     "output_type": "stream",
     "text": [
      "INFO:tensorflow:Assets written to: 5H_Forecast/5H_ForecastModel_7_SizeWindow\\assets\n"
     ]
    },
    {
     "name": "stdout",
     "output_type": "stream",
     "text": [
      "Epoch 3/25\n",
      "161/161 [==============================] - 1s 8ms/step - loss: 406.2024 - mean_absolute_error: 19.6112 - val_loss: 201.3241 - val_mean_absolute_error: 14.1130\n",
      "INFO:tensorflow:Assets written to: 5H_Forecast/5H_ForecastModel_7_SizeWindow\\assets\n"
     ]
    },
    {
     "name": "stderr",
     "output_type": "stream",
     "text": [
      "INFO:tensorflow:Assets written to: 5H_Forecast/5H_ForecastModel_7_SizeWindow\\assets\n"
     ]
    },
    {
     "name": "stdout",
     "output_type": "stream",
     "text": [
      "Epoch 4/25\n",
      "161/161 [==============================] - 1s 7ms/step - loss: 344.9466 - mean_absolute_error: 17.9831 - val_loss: 162.5187 - val_mean_absolute_error: 12.6667\n",
      "INFO:tensorflow:Assets written to: 5H_Forecast/5H_ForecastModel_7_SizeWindow\\assets\n"
     ]
    },
    {
     "name": "stderr",
     "output_type": "stream",
     "text": [
      "INFO:tensorflow:Assets written to: 5H_Forecast/5H_ForecastModel_7_SizeWindow\\assets\n"
     ]
    },
    {
     "name": "stdout",
     "output_type": "stream",
     "text": [
      "Epoch 5/25\n",
      "161/161 [==============================] - 1s 8ms/step - loss: 287.4666 - mean_absolute_error: 16.3108 - val_loss: 123.0474 - val_mean_absolute_error: 11.0014\n",
      "INFO:tensorflow:Assets written to: 5H_Forecast/5H_ForecastModel_7_SizeWindow\\assets\n"
     ]
    },
    {
     "name": "stderr",
     "output_type": "stream",
     "text": [
      "INFO:tensorflow:Assets written to: 5H_Forecast/5H_ForecastModel_7_SizeWindow\\assets\n"
     ]
    },
    {
     "name": "stdout",
     "output_type": "stream",
     "text": [
      "Epoch 6/25\n",
      "161/161 [==============================] - 1s 8ms/step - loss: 240.3430 - mean_absolute_error: 14.8086 - val_loss: 91.4058 - val_mean_absolute_error: 9.4782\n",
      "INFO:tensorflow:Assets written to: 5H_Forecast/5H_ForecastModel_7_SizeWindow\\assets\n"
     ]
    },
    {
     "name": "stderr",
     "output_type": "stream",
     "text": [
      "INFO:tensorflow:Assets written to: 5H_Forecast/5H_ForecastModel_7_SizeWindow\\assets\n"
     ]
    },
    {
     "name": "stdout",
     "output_type": "stream",
     "text": [
      "Epoch 7/25\n",
      "161/161 [==============================] - 1s 8ms/step - loss: 198.7808 - mean_absolute_error: 13.3453 - val_loss: 67.0855 - val_mean_absolute_error: 8.0962\n",
      "INFO:tensorflow:Assets written to: 5H_Forecast/5H_ForecastModel_7_SizeWindow\\assets\n"
     ]
    },
    {
     "name": "stderr",
     "output_type": "stream",
     "text": [
      "INFO:tensorflow:Assets written to: 5H_Forecast/5H_ForecastModel_7_SizeWindow\\assets\n"
     ]
    },
    {
     "name": "stdout",
     "output_type": "stream",
     "text": [
      "Epoch 8/25\n",
      "161/161 [==============================] - 1s 8ms/step - loss: 162.3876 - mean_absolute_error: 11.9036 - val_loss: 45.2306 - val_mean_absolute_error: 6.6181\n",
      "INFO:tensorflow:Assets written to: 5H_Forecast/5H_ForecastModel_7_SizeWindow\\assets\n"
     ]
    },
    {
     "name": "stderr",
     "output_type": "stream",
     "text": [
      "INFO:tensorflow:Assets written to: 5H_Forecast/5H_ForecastModel_7_SizeWindow\\assets\n"
     ]
    },
    {
     "name": "stdout",
     "output_type": "stream",
     "text": [
      "Epoch 9/25\n",
      "161/161 [==============================] - 1s 8ms/step - loss: 132.8562 - mean_absolute_error: 10.5901 - val_loss: 30.2932 - val_mean_absolute_error: 5.3815\n",
      "INFO:tensorflow:Assets written to: 5H_Forecast/5H_ForecastModel_7_SizeWindow\\assets\n"
     ]
    },
    {
     "name": "stderr",
     "output_type": "stream",
     "text": [
      "INFO:tensorflow:Assets written to: 5H_Forecast/5H_ForecastModel_7_SizeWindow\\assets\n"
     ]
    },
    {
     "name": "stdout",
     "output_type": "stream",
     "text": [
      "Epoch 10/25\n",
      "161/161 [==============================] - 1s 8ms/step - loss: 108.7184 - mean_absolute_error: 9.3875 - val_loss: 18.8465 - val_mean_absolute_error: 4.1872\n",
      "INFO:tensorflow:Assets written to: 5H_Forecast/5H_ForecastModel_7_SizeWindow\\assets\n"
     ]
    },
    {
     "name": "stderr",
     "output_type": "stream",
     "text": [
      "INFO:tensorflow:Assets written to: 5H_Forecast/5H_ForecastModel_7_SizeWindow\\assets\n"
     ]
    },
    {
     "name": "stdout",
     "output_type": "stream",
     "text": [
      "Epoch 11/25\n",
      "161/161 [==============================] - 1s 8ms/step - loss: 88.5389 - mean_absolute_error: 8.2479 - val_loss: 10.9163 - val_mean_absolute_error: 3.1000\n",
      "INFO:tensorflow:Assets written to: 5H_Forecast/5H_ForecastModel_7_SizeWindow\\assets\n"
     ]
    },
    {
     "name": "stderr",
     "output_type": "stream",
     "text": [
      "INFO:tensorflow:Assets written to: 5H_Forecast/5H_ForecastModel_7_SizeWindow\\assets\n"
     ]
    },
    {
     "name": "stdout",
     "output_type": "stream",
     "text": [
      "Epoch 12/25\n",
      "161/161 [==============================] - 1s 9ms/step - loss: 71.8695 - mean_absolute_error: 7.1554 - val_loss: 5.2808 - val_mean_absolute_error: 2.0474\n",
      "INFO:tensorflow:Assets written to: 5H_Forecast/5H_ForecastModel_7_SizeWindow\\assets\n"
     ]
    },
    {
     "name": "stderr",
     "output_type": "stream",
     "text": [
      "INFO:tensorflow:Assets written to: 5H_Forecast/5H_ForecastModel_7_SizeWindow\\assets\n"
     ]
    },
    {
     "name": "stdout",
     "output_type": "stream",
     "text": [
      "Epoch 13/25\n",
      "161/161 [==============================] - 1s 8ms/step - loss: 57.5589 - mean_absolute_error: 6.0754 - val_loss: 2.2505 - val_mean_absolute_error: 1.2542\n",
      "INFO:tensorflow:Assets written to: 5H_Forecast/5H_ForecastModel_7_SizeWindow\\assets\n"
     ]
    },
    {
     "name": "stderr",
     "output_type": "stream",
     "text": [
      "INFO:tensorflow:Assets written to: 5H_Forecast/5H_ForecastModel_7_SizeWindow\\assets\n"
     ]
    },
    {
     "name": "stdout",
     "output_type": "stream",
     "text": [
      "Epoch 14/25\n",
      "161/161 [==============================] - 2s 9ms/step - loss: 46.5762 - mean_absolute_error: 5.0959 - val_loss: 1.3229 - val_mean_absolute_error: 0.8759\n",
      "INFO:tensorflow:Assets written to: 5H_Forecast/5H_ForecastModel_7_SizeWindow\\assets\n"
     ]
    },
    {
     "name": "stderr",
     "output_type": "stream",
     "text": [
      "INFO:tensorflow:Assets written to: 5H_Forecast/5H_ForecastModel_7_SizeWindow\\assets\n"
     ]
    },
    {
     "name": "stdout",
     "output_type": "stream",
     "text": [
      "Epoch 15/25\n",
      "161/161 [==============================] - 1s 9ms/step - loss: 38.3428 - mean_absolute_error: 4.2645 - val_loss: 1.9793 - val_mean_absolute_error: 1.1098\n",
      "Epoch 16/25\n",
      "161/161 [==============================] - 1s 9ms/step - loss: 32.2951 - mean_absolute_error: 3.6350 - val_loss: 3.7517 - val_mean_absolute_error: 1.6575\n",
      "Epoch 17/25\n",
      "161/161 [==============================] - 1s 8ms/step - loss: 28.0141 - mean_absolute_error: 3.2064 - val_loss: 6.2150 - val_mean_absolute_error: 2.2451\n",
      "Epoch 18/25\n",
      "161/161 [==============================] - 1s 8ms/step - loss: 25.0880 - mean_absolute_error: 2.9565 - val_loss: 8.9754 - val_mean_absolute_error: 2.7768\n",
      "Epoch 19/25\n",
      "161/161 [==============================] - 1s 8ms/step - loss: 23.1623 - mean_absolute_error: 2.8393 - val_loss: 11.8307 - val_mean_absolute_error: 3.2438\n",
      "Epoch 20/25\n",
      "161/161 [==============================] - 1s 8ms/step - loss: 22.0102 - mean_absolute_error: 2.8443 - val_loss: 14.3693 - val_mean_absolute_error: 3.6129\n",
      "Epoch 21/25\n",
      "161/161 [==============================] - 1s 8ms/step - loss: 21.3447 - mean_absolute_error: 2.9144 - val_loss: 16.5664 - val_mean_absolute_error: 3.9049\n",
      "Epoch 22/25\n",
      "161/161 [==============================] - 1s 8ms/step - loss: 20.9505 - mean_absolute_error: 2.9914 - val_loss: 18.4689 - val_mean_absolute_error: 4.1413\n",
      "Epoch 23/25\n",
      "161/161 [==============================] - 1s 9ms/step - loss: 20.7527 - mean_absolute_error: 3.0612 - val_loss: 19.7793 - val_mean_absolute_error: 4.2965\n",
      "Epoch 24/25\n",
      "161/161 [==============================] - 1s 9ms/step - loss: 20.4163 - mean_absolute_error: 3.0328 - val_loss: 18.3132 - val_mean_absolute_error: 4.0996\n",
      "Epoch 25/25\n",
      "161/161 [==============================] - 1s 8ms/step - loss: 19.8230 - mean_absolute_error: 2.9682 - val_loss: 19.0413 - val_mean_absolute_error: 4.2005\n",
      "\n",
      "-----------------------------------------------------------------------------------------------------------\n",
      "\n",
      "Model: \"sequential_14\"\n",
      "_________________________________________________________________\n",
      "Layer (type)                 Output Shape              Param #   \n",
      "=================================================================\n",
      "lstm_14 (LSTM)               (None, 64)                17920     \n",
      "_________________________________________________________________\n",
      "dense_28 (Dense)             (None, 8)                 520       \n",
      "_________________________________________________________________\n",
      "dense_29 (Dense)             (None, 1)                 9         \n",
      "=================================================================\n",
      "Total params: 18,449\n",
      "Trainable params: 18,449\n",
      "Non-trainable params: 0\n",
      "_________________________________________________________________\n",
      "Epoch 1/25\n",
      "161/161 [==============================] - 5s 16ms/step - loss: 493.0308 - mean_absolute_error: 21.6856 - val_loss: 264.6489 - val_mean_absolute_error: 16.2129\n",
      "INFO:tensorflow:Assets written to: 5H_Forecast/5H_ForecastModel_8_SizeWindow\\assets\n"
     ]
    },
    {
     "name": "stderr",
     "output_type": "stream",
     "text": [
      "INFO:tensorflow:Assets written to: 5H_Forecast/5H_ForecastModel_8_SizeWindow\\assets\n"
     ]
    },
    {
     "name": "stdout",
     "output_type": "stream",
     "text": [
      "Epoch 2/25\n",
      "161/161 [==============================] - 1s 8ms/step - loss: 408.2385 - mean_absolute_error: 19.6753 - val_loss: 197.5061 - val_mean_absolute_error: 13.9016\n",
      "INFO:tensorflow:Assets written to: 5H_Forecast/5H_ForecastModel_8_SizeWindow\\assets\n"
     ]
    },
    {
     "name": "stderr",
     "output_type": "stream",
     "text": [
      "INFO:tensorflow:Assets written to: 5H_Forecast/5H_ForecastModel_8_SizeWindow\\assets\n"
     ]
    },
    {
     "name": "stdout",
     "output_type": "stream",
     "text": [
      "Epoch 3/25\n",
      "161/161 [==============================] - 1s 9ms/step - loss: 300.4275 - mean_absolute_error: 16.6796 - val_loss: 120.3469 - val_mean_absolute_error: 10.6579\n",
      "INFO:tensorflow:Assets written to: 5H_Forecast/5H_ForecastModel_8_SizeWindow\\assets\n"
     ]
    },
    {
     "name": "stderr",
     "output_type": "stream",
     "text": [
      "INFO:tensorflow:Assets written to: 5H_Forecast/5H_ForecastModel_8_SizeWindow\\assets\n"
     ]
    },
    {
     "name": "stdout",
     "output_type": "stream",
     "text": [
      "Epoch 4/25\n",
      "161/161 [==============================] - 2s 10ms/step - loss: 195.3770 - mean_absolute_error: 13.0801 - val_loss: 53.5673 - val_mean_absolute_error: 6.8899\n",
      "INFO:tensorflow:Assets written to: 5H_Forecast/5H_ForecastModel_8_SizeWindow\\assets\n"
     ]
    },
    {
     "name": "stderr",
     "output_type": "stream",
     "text": [
      "INFO:tensorflow:Assets written to: 5H_Forecast/5H_ForecastModel_8_SizeWindow\\assets\n"
     ]
    },
    {
     "name": "stdout",
     "output_type": "stream",
     "text": [
      "Epoch 5/25\n",
      "161/161 [==============================] - 1s 9ms/step - loss: 119.4760 - mean_absolute_error: 9.7723 - val_loss: 20.2657 - val_mean_absolute_error: 3.9911\n",
      "INFO:tensorflow:Assets written to: 5H_Forecast/5H_ForecastModel_8_SizeWindow\\assets\n"
     ]
    },
    {
     "name": "stderr",
     "output_type": "stream",
     "text": [
      "INFO:tensorflow:Assets written to: 5H_Forecast/5H_ForecastModel_8_SizeWindow\\assets\n"
     ]
    },
    {
     "name": "stdout",
     "output_type": "stream",
     "text": [
      "Epoch 6/25\n",
      "161/161 [==============================] - 2s 10ms/step - loss: 75.5056 - mean_absolute_error: 7.2133 - val_loss: 5.2941 - val_mean_absolute_error: 1.8959\n",
      "INFO:tensorflow:Assets written to: 5H_Forecast/5H_ForecastModel_8_SizeWindow\\assets\n"
     ]
    },
    {
     "name": "stderr",
     "output_type": "stream",
     "text": [
      "INFO:tensorflow:Assets written to: 5H_Forecast/5H_ForecastModel_8_SizeWindow\\assets\n"
     ]
    },
    {
     "name": "stdout",
     "output_type": "stream",
     "text": [
      "Epoch 7/25\n",
      "161/161 [==============================] - 2s 10ms/step - loss: 47.1560 - mean_absolute_error: 4.9646 - val_loss: 2.5360 - val_mean_absolute_error: 1.2823\n",
      "INFO:tensorflow:Assets written to: 5H_Forecast/5H_ForecastModel_8_SizeWindow\\assets\n"
     ]
    },
    {
     "name": "stderr",
     "output_type": "stream",
     "text": [
      "INFO:tensorflow:Assets written to: 5H_Forecast/5H_ForecastModel_8_SizeWindow\\assets\n"
     ]
    },
    {
     "name": "stdout",
     "output_type": "stream",
     "text": [
      "Epoch 8/25\n",
      "161/161 [==============================] - 1s 9ms/step - loss: 32.1161 - mean_absolute_error: 3.5319 - val_loss: 6.0132 - val_mean_absolute_error: 2.1338\n",
      "Epoch 9/25\n",
      "161/161 [==============================] - 2s 10ms/step - loss: 25.5815 - mean_absolute_error: 2.9853 - val_loss: 10.2400 - val_mean_absolute_error: 2.9351\n",
      "Epoch 10/25\n",
      "161/161 [==============================] - 1s 9ms/step - loss: 22.2166 - mean_absolute_error: 2.8314 - val_loss: 13.7496 - val_mean_absolute_error: 3.4764\n",
      "Epoch 11/25\n",
      "161/161 [==============================] - 1s 9ms/step - loss: 20.4537 - mean_absolute_error: 2.8362 - val_loss: 15.7819 - val_mean_absolute_error: 3.7594\n",
      "Epoch 12/25\n",
      "161/161 [==============================] - 1s 9ms/step - loss: 19.3840 - mean_absolute_error: 2.8037 - val_loss: 15.2927 - val_mean_absolute_error: 3.7036\n",
      "Epoch 13/25\n",
      "161/161 [==============================] - 1s 9ms/step - loss: 18.4159 - mean_absolute_error: 2.7561 - val_loss: 16.7080 - val_mean_absolute_error: 3.8775\n",
      "Epoch 14/25\n",
      "161/161 [==============================] - 1s 8ms/step - loss: 17.7737 - mean_absolute_error: 2.7809 - val_loss: 17.6190 - val_mean_absolute_error: 3.9826\n",
      "Epoch 15/25\n",
      "161/161 [==============================] - 1s 8ms/step - loss: 17.2325 - mean_absolute_error: 2.7889 - val_loss: 17.8965 - val_mean_absolute_error: 4.0069\n",
      "Epoch 16/25\n",
      "161/161 [==============================] - 1s 8ms/step - loss: 16.6251 - mean_absolute_error: 2.7620 - val_loss: 17.9417 - val_mean_absolute_error: 4.0127\n",
      "Epoch 17/25\n",
      "161/161 [==============================] - 1s 8ms/step - loss: 15.4561 - mean_absolute_error: 2.6417 - val_loss: 16.1198 - val_mean_absolute_error: 3.7955\n",
      "Epoch 18/25\n",
      "161/161 [==============================] - 1s 8ms/step - loss: 14.4512 - mean_absolute_error: 2.5791 - val_loss: 16.7624 - val_mean_absolute_error: 3.8835\n",
      "Epoch 19/25\n",
      "161/161 [==============================] - 1s 8ms/step - loss: 13.5739 - mean_absolute_error: 2.5444 - val_loss: 17.0287 - val_mean_absolute_error: 3.9107\n",
      "Epoch 20/25\n",
      "161/161 [==============================] - 1s 9ms/step - loss: 12.5914 - mean_absolute_error: 2.4277 - val_loss: 15.4318 - val_mean_absolute_error: 3.7111\n",
      "Epoch 21/25\n",
      "161/161 [==============================] - 1s 9ms/step - loss: 11.6352 - mean_absolute_error: 2.3507 - val_loss: 14.6493 - val_mean_absolute_error: 3.6059\n",
      "Epoch 22/25\n",
      "161/161 [==============================] - 2s 10ms/step - loss: 10.8205 - mean_absolute_error: 2.2658 - val_loss: 14.5061 - val_mean_absolute_error: 3.5910\n",
      "Epoch 23/25\n",
      "161/161 [==============================] - 1s 9ms/step - loss: 10.1487 - mean_absolute_error: 2.2035 - val_loss: 14.2926 - val_mean_absolute_error: 3.5640\n",
      "Epoch 24/25\n",
      "161/161 [==============================] - 1s 8ms/step - loss: 9.5866 - mean_absolute_error: 2.1577 - val_loss: 14.3889 - val_mean_absolute_error: 3.5869\n",
      "Epoch 25/25\n",
      "161/161 [==============================] - 1s 9ms/step - loss: 9.0574 - mean_absolute_error: 2.1107 - val_loss: 13.5567 - val_mean_absolute_error: 3.4829\n",
      "\n",
      "-----------------------------------------------------------------------------------------------------------\n",
      "\n",
      "Model: \"sequential_15\"\n",
      "_________________________________________________________________\n",
      "Layer (type)                 Output Shape              Param #   \n",
      "=================================================================\n",
      "lstm_15 (LSTM)               (None, 64)                17920     \n",
      "_________________________________________________________________\n",
      "dense_30 (Dense)             (None, 8)                 520       \n",
      "_________________________________________________________________\n",
      "dense_31 (Dense)             (None, 1)                 9         \n",
      "=================================================================\n",
      "Total params: 18,449\n",
      "Trainable params: 18,449\n",
      "Non-trainable params: 0\n",
      "_________________________________________________________________\n",
      "Epoch 1/25\n",
      "160/160 [==============================] - 4s 12ms/step - loss: 475.7249 - mean_absolute_error: 21.3400 - val_loss: 260.2483 - val_mean_absolute_error: 16.0776\n",
      "INFO:tensorflow:Assets written to: 5H_Forecast/5H_ForecastModel_9_SizeWindow\\assets\n"
     ]
    },
    {
     "name": "stderr",
     "output_type": "stream",
     "text": [
      "INFO:tensorflow:Assets written to: 5H_Forecast/5H_ForecastModel_9_SizeWindow\\assets\n"
     ]
    },
    {
     "name": "stdout",
     "output_type": "stream",
     "text": [
      "Epoch 2/25\n",
      "160/160 [==============================] - 1s 8ms/step - loss: 403.6064 - mean_absolute_error: 19.6155 - val_loss: 208.4996 - val_mean_absolute_error: 14.3652\n",
      "INFO:tensorflow:Assets written to: 5H_Forecast/5H_ForecastModel_9_SizeWindow\\assets\n"
     ]
    },
    {
     "name": "stderr",
     "output_type": "stream",
     "text": [
      "INFO:tensorflow:Assets written to: 5H_Forecast/5H_ForecastModel_9_SizeWindow\\assets\n"
     ]
    },
    {
     "name": "stdout",
     "output_type": "stream",
     "text": [
      "Epoch 3/25\n",
      "160/160 [==============================] - 1s 8ms/step - loss: 311.9162 - mean_absolute_error: 17.1513 - val_loss: 135.5020 - val_mean_absolute_error: 11.5133\n",
      "INFO:tensorflow:Assets written to: 5H_Forecast/5H_ForecastModel_9_SizeWindow\\assets\n"
     ]
    },
    {
     "name": "stderr",
     "output_type": "stream",
     "text": [
      "INFO:tensorflow:Assets written to: 5H_Forecast/5H_ForecastModel_9_SizeWindow\\assets\n"
     ]
    },
    {
     "name": "stdout",
     "output_type": "stream",
     "text": [
      "Epoch 4/25\n",
      "160/160 [==============================] - 1s 9ms/step - loss: 213.0496 - mean_absolute_error: 13.9328 - val_loss: 65.8806 - val_mean_absolute_error: 7.9233\n",
      "INFO:tensorflow:Assets written to: 5H_Forecast/5H_ForecastModel_9_SizeWindow\\assets\n"
     ]
    },
    {
     "name": "stderr",
     "output_type": "stream",
     "text": [
      "INFO:tensorflow:Assets written to: 5H_Forecast/5H_ForecastModel_9_SizeWindow\\assets\n"
     ]
    },
    {
     "name": "stdout",
     "output_type": "stream",
     "text": [
      "Epoch 5/25\n",
      "160/160 [==============================] - 1s 8ms/step - loss: 127.3660 - mean_absolute_error: 10.4028 - val_loss: 24.1497 - val_mean_absolute_error: 4.4914\n",
      "INFO:tensorflow:Assets written to: 5H_Forecast/5H_ForecastModel_9_SizeWindow\\assets\n"
     ]
    },
    {
     "name": "stderr",
     "output_type": "stream",
     "text": [
      "INFO:tensorflow:Assets written to: 5H_Forecast/5H_ForecastModel_9_SizeWindow\\assets\n"
     ]
    },
    {
     "name": "stdout",
     "output_type": "stream",
     "text": [
      "Epoch 6/25\n",
      "160/160 [==============================] - 1s 8ms/step - loss: 61.6159 - mean_absolute_error: 6.4511 - val_loss: 3.8934 - val_mean_absolute_error: 1.5242\n",
      "INFO:tensorflow:Assets written to: 5H_Forecast/5H_ForecastModel_9_SizeWindow\\assets\n"
     ]
    },
    {
     "name": "stderr",
     "output_type": "stream",
     "text": [
      "INFO:tensorflow:Assets written to: 5H_Forecast/5H_ForecastModel_9_SizeWindow\\assets\n"
     ]
    },
    {
     "name": "stdout",
     "output_type": "stream",
     "text": [
      "Epoch 7/25\n",
      "160/160 [==============================] - 1s 8ms/step - loss: 35.3080 - mean_absolute_error: 4.1041 - val_loss: 3.7011 - val_mean_absolute_error: 1.5573\n",
      "INFO:tensorflow:Assets written to: 5H_Forecast/5H_ForecastModel_9_SizeWindow\\assets\n"
     ]
    },
    {
     "name": "stderr",
     "output_type": "stream",
     "text": [
      "INFO:tensorflow:Assets written to: 5H_Forecast/5H_ForecastModel_9_SizeWindow\\assets\n"
     ]
    },
    {
     "name": "stdout",
     "output_type": "stream",
     "text": [
      "Epoch 8/25\n",
      "160/160 [==============================] - 1s 8ms/step - loss: 25.3334 - mean_absolute_error: 3.0927 - val_loss: 8.2441 - val_mean_absolute_error: 2.5397\n",
      "Epoch 9/25\n",
      "160/160 [==============================] - 1s 8ms/step - loss: 21.3690 - mean_absolute_error: 2.8084 - val_loss: 12.7184 - val_mean_absolute_error: 3.2957\n",
      "Epoch 10/25\n",
      "160/160 [==============================] - 1s 8ms/step - loss: 19.7627 - mean_absolute_error: 2.8048 - val_loss: 15.7840 - val_mean_absolute_error: 3.7254\n",
      "Epoch 11/25\n",
      "160/160 [==============================] - 1s 8ms/step - loss: 19.0064 - mean_absolute_error: 2.8594 - val_loss: 17.5431 - val_mean_absolute_error: 3.9394\n",
      "Epoch 12/25\n",
      "160/160 [==============================] - 1s 9ms/step - loss: 18.5315 - mean_absolute_error: 2.8741 - val_loss: 18.4458 - val_mean_absolute_error: 4.0397\n",
      "Epoch 13/25\n",
      "160/160 [==============================] - 1s 8ms/step - loss: 18.0665 - mean_absolute_error: 2.8608 - val_loss: 18.8560 - val_mean_absolute_error: 4.0849\n",
      "Epoch 14/25\n",
      "160/160 [==============================] - 2s 10ms/step - loss: 17.5633 - mean_absolute_error: 2.8390 - val_loss: 18.6316 - val_mean_absolute_error: 4.0774\n",
      "Epoch 15/25\n",
      "160/160 [==============================] - 2s 11ms/step - loss: 17.0634 - mean_absolute_error: 2.8106 - val_loss: 18.4878 - val_mean_absolute_error: 4.0606\n",
      "Epoch 16/25\n",
      "160/160 [==============================] - 2s 11ms/step - loss: 16.6068 - mean_absolute_error: 2.7853 - val_loss: 18.3188 - val_mean_absolute_error: 4.0369\n",
      "Epoch 17/25\n",
      "160/160 [==============================] - 2s 11ms/step - loss: 15.9836 - mean_absolute_error: 2.7092 - val_loss: 16.9499 - val_mean_absolute_error: 3.8715\n",
      "Epoch 18/25\n",
      "160/160 [==============================] - 2s 11ms/step - loss: 14.5305 - mean_absolute_error: 2.5596 - val_loss: 16.2529 - val_mean_absolute_error: 3.7823\n",
      "Epoch 19/25\n",
      "160/160 [==============================] - 2s 11ms/step - loss: 13.3643 - mean_absolute_error: 2.4431 - val_loss: 13.4263 - val_mean_absolute_error: 3.4308\n",
      "Epoch 20/25\n",
      "160/160 [==============================] - 2s 11ms/step - loss: 12.0116 - mean_absolute_error: 2.3098 - val_loss: 14.0093 - val_mean_absolute_error: 3.5423\n",
      "Epoch 21/25\n",
      "160/160 [==============================] - 2s 11ms/step - loss: 10.9632 - mean_absolute_error: 2.2452 - val_loss: 11.5362 - val_mean_absolute_error: 3.1965\n",
      "Epoch 22/25\n",
      "160/160 [==============================] - 2s 12ms/step - loss: 10.1104 - mean_absolute_error: 2.2027 - val_loss: 13.1947 - val_mean_absolute_error: 3.4525\n",
      "Epoch 23/25\n",
      "160/160 [==============================] - 2s 10ms/step - loss: 9.5364 - mean_absolute_error: 2.1683 - val_loss: 12.7327 - val_mean_absolute_error: 3.3830\n",
      "Epoch 24/25\n",
      "160/160 [==============================] - 1s 9ms/step - loss: 8.9915 - mean_absolute_error: 2.1040 - val_loss: 12.2976 - val_mean_absolute_error: 3.3213\n",
      "Epoch 25/25\n",
      "160/160 [==============================] - 1s 8ms/step - loss: 8.4597 - mean_absolute_error: 2.0488 - val_loss: 10.5112 - val_mean_absolute_error: 3.0213\n",
      "\n",
      "-----------------------------------------------------------------------------------------------------------\n",
      "\n",
      "CPU times: total: 19min 25s\n",
      "Wall time: 8min 5s\n"
     ]
    }
   ],
   "source": [
    "%%time\n",
    "\n",
    "Trainer(5,6,9)"
   ]
  },
  {
   "cell_type": "code",
   "execution_count": 31,
   "id": "ce6f0813",
   "metadata": {},
   "outputs": [
    {
     "name": "stdout",
     "output_type": "stream",
     "text": [
      "(5121, 6, 5) (5121,) (1708, 6, 5) (1708,) (1708, 6, 5) (1708,)\n",
      "Loading: 5H_Forecast/5H_ForecastModel_6_SizeWindow/\n",
      "54/54 [==============================] - 1s 2ms/step - loss: 29.8598 - mean_absolute_error: 4.0102\n",
      "(5121, 7, 5) (5121,) (1707, 7, 5) (1707,) (1708, 7, 5) (1708,)\n",
      "Loading: 5H_Forecast/5H_ForecastModel_7_SizeWindow/\n",
      "54/54 [==============================] - 1s 4ms/step - loss: 31.2505 - mean_absolute_error: 4.0692\n",
      "(5121, 8, 5) (5121,) (1707, 8, 5) (1707,) (1707, 8, 5) (1707,)\n",
      "Loading: 5H_Forecast/5H_ForecastModel_8_SizeWindow/\n",
      "54/54 [==============================] - 1s 3ms/step - loss: 30.1049 - mean_absolute_error: 3.8258\n",
      "(5120, 9, 5) (5120,) (1707, 9, 5) (1707,) (1707, 9, 5) (1707,)\n",
      "Loading: 5H_Forecast/5H_ForecastModel_9_SizeWindow/\n",
      "54/54 [==============================] - 1s 4ms/step - loss: 23.7907 - mean_absolute_error: 3.2797\n",
      "CPU times: total: 57.5 s\n",
      "Wall time: 43.4 s\n"
     ]
    }
   ],
   "source": [
    "%%time\n",
    "\n",
    "modelsEvaluator(5,6,9)"
   ]
  },
  {
   "cell_type": "code",
   "execution_count": 37,
   "id": "29930ce7",
   "metadata": {},
   "outputs": [
    {
     "name": "stdout",
     "output_type": "stream",
     "text": [
      "54/54 [==============================] - 1s 6ms/step - loss: 21.4706 - mean_absolute_error: 3.1488\n"
     ]
    },
    {
     "data": {
      "text/plain": [
       "<matplotlib.legend.Legend at 0x19ad1456be0>"
      ]
     },
     "execution_count": 37,
     "metadata": {},
     "output_type": "execute_result"
    },
    {
     "data": {
      "image/png": "[encoded data removed]",
      "text/plain": [
       "<Figure size 576x396 with 1 Axes>"
      ]
     },
     "metadata": {},
     "output_type": "display_data"
    }
   ],
   "source": [
    "model = load_model('5H_Forecast/5H_ForecastModel_9_SizeWindow/')\n",
    "\n",
    "X, y = DataHandler(5,9)\n",
    "X_train, X_test, y_train, y_test = train_test_split(X, y, test_size=0.2)\n",
    "X_train, X_val, y_train, y_val = train_test_split(X_train, y_train, test_size=0.25) \n",
    "model.evaluate(X_test,y_test)\n",
    "\n",
    "train_predictions = model.predict(X_train).flatten()\n",
    "train_results = pd.DataFrame(data={'Train Predictions':train_predictions, 'Actuals':y_train})\n",
    "plt.style.use('seaborn')\n",
    "\n",
    "pd.concat([train_results['Train Predictions'],train_results['Actuals']],axis=1).plot()\n",
    "plt.legend(['Train Predictions','Actuals'])"
   ]
  },
  {
   "cell_type": "markdown",
   "id": "bbfafffc",
   "metadata": {},
   "source": [
    "### 6 hours forecast"
   ]
  },
  {
   "cell_type": "code",
   "execution_count": 32,
   "id": "368761ec",
   "metadata": {},
   "outputs": [
    {
     "name": "stdout",
     "output_type": "stream",
     "text": [
      "Model: \"sequential_16\"\n",
      "_________________________________________________________________\n",
      "Layer (type)                 Output Shape              Param #   \n",
      "=================================================================\n",
      "lstm_16 (LSTM)               (None, 64)                17920     \n",
      "_________________________________________________________________\n",
      "dense_32 (Dense)             (None, 8)                 520       \n",
      "_________________________________________________________________\n",
      "dense_33 (Dense)             (None, 1)                 9         \n",
      "=================================================================\n",
      "Total params: 18,449\n",
      "Trainable params: 18,449\n",
      "Non-trainable params: 0\n",
      "_________________________________________________________________\n",
      "Epoch 1/25\n",
      "161/161 [==============================] - 5s 16ms/step - loss: 511.0100 - mean_absolute_error: 22.1505 - val_loss: 284.0171 - val_mean_absolute_error: 16.8024\n",
      "INFO:tensorflow:Assets written to: 6H_Forecast/6H_ForecastModel_6_SizeWindow\\assets\n"
     ]
    },
    {
     "name": "stderr",
     "output_type": "stream",
     "text": [
      "INFO:tensorflow:Assets written to: 6H_Forecast/6H_ForecastModel_6_SizeWindow\\assets\n"
     ]
    },
    {
     "name": "stdout",
     "output_type": "stream",
     "text": [
      "Epoch 2/25\n",
      "161/161 [==============================] - 2s 13ms/step - loss: 446.7068 - mean_absolute_error: 20.6270 - val_loss: 232.4479 - val_mean_absolute_error: 15.1660\n",
      "INFO:tensorflow:Assets written to: 6H_Forecast/6H_ForecastModel_6_SizeWindow\\assets\n"
     ]
    },
    {
     "name": "stderr",
     "output_type": "stream",
     "text": [
      "INFO:tensorflow:Assets written to: 6H_Forecast/6H_ForecastModel_6_SizeWindow\\assets\n"
     ]
    },
    {
     "name": "stdout",
     "output_type": "stream",
     "text": [
      "Epoch 3/25\n",
      "161/161 [==============================] - 1s 8ms/step - loss: 369.5607 - mean_absolute_error: 18.6241 - val_loss: 168.0508 - val_mean_absolute_error: 12.8252\n",
      "INFO:tensorflow:Assets written to: 6H_Forecast/6H_ForecastModel_6_SizeWindow\\assets\n"
     ]
    },
    {
     "name": "stderr",
     "output_type": "stream",
     "text": [
      "INFO:tensorflow:Assets written to: 6H_Forecast/6H_ForecastModel_6_SizeWindow\\assets\n"
     ]
    },
    {
     "name": "stdout",
     "output_type": "stream",
     "text": [
      "Epoch 4/25\n",
      "161/161 [==============================] - 1s 9ms/step - loss: 270.2526 - mean_absolute_error: 15.7258 - val_loss: 97.6498 - val_mean_absolute_error: 9.7000\n",
      "INFO:tensorflow:Assets written to: 6H_Forecast/6H_ForecastModel_6_SizeWindow\\assets\n"
     ]
    },
    {
     "name": "stderr",
     "output_type": "stream",
     "text": [
      "INFO:tensorflow:Assets written to: 6H_Forecast/6H_ForecastModel_6_SizeWindow\\assets\n"
     ]
    },
    {
     "name": "stdout",
     "output_type": "stream",
     "text": [
      "Epoch 5/25\n",
      "161/161 [==============================] - 2s 9ms/step - loss: 187.1217 - mean_absolute_error: 12.8100 - val_loss: 48.7281 - val_mean_absolute_error: 6.7527\n",
      "INFO:tensorflow:Assets written to: 6H_Forecast/6H_ForecastModel_6_SizeWindow\\assets\n"
     ]
    },
    {
     "name": "stderr",
     "output_type": "stream",
     "text": [
      "INFO:tensorflow:Assets written to: 6H_Forecast/6H_ForecastModel_6_SizeWindow\\assets\n"
     ]
    },
    {
     "name": "stdout",
     "output_type": "stream",
     "text": [
      "Epoch 6/25\n",
      "161/161 [==============================] - 1s 7ms/step - loss: 121.2750 - mean_absolute_error: 9.9212 - val_loss: 19.2915 - val_mean_absolute_error: 4.1253\n",
      "INFO:tensorflow:Assets written to: 6H_Forecast/6H_ForecastModel_6_SizeWindow\\assets\n"
     ]
    },
    {
     "name": "stderr",
     "output_type": "stream",
     "text": [
      "INFO:tensorflow:Assets written to: 6H_Forecast/6H_ForecastModel_6_SizeWindow\\assets\n"
     ]
    },
    {
     "name": "stdout",
     "output_type": "stream",
     "text": [
      "Epoch 7/25\n",
      "161/161 [==============================] - 1s 7ms/step - loss: 80.4283 - mean_absolute_error: 7.5993 - val_loss: 5.7169 - val_mean_absolute_error: 2.0548\n",
      "INFO:tensorflow:Assets written to: 6H_Forecast/6H_ForecastModel_6_SizeWindow\\assets\n"
     ]
    },
    {
     "name": "stderr",
     "output_type": "stream",
     "text": [
      "INFO:tensorflow:Assets written to: 6H_Forecast/6H_ForecastModel_6_SizeWindow\\assets\n"
     ]
    },
    {
     "name": "stdout",
     "output_type": "stream",
     "text": [
      "Epoch 8/25\n",
      "161/161 [==============================] - 1s 7ms/step - loss: 54.3480 - mean_absolute_error: 5.6166 - val_loss: 1.8296 - val_mean_absolute_error: 1.0879\n",
      "INFO:tensorflow:Assets written to: 6H_Forecast/6H_ForecastModel_6_SizeWindow\\assets\n"
     ]
    },
    {
     "name": "stderr",
     "output_type": "stream",
     "text": [
      "INFO:tensorflow:Assets written to: 6H_Forecast/6H_ForecastModel_6_SizeWindow\\assets\n"
     ]
    },
    {
     "name": "stdout",
     "output_type": "stream",
     "text": [
      "Epoch 9/25\n",
      "161/161 [==============================] - 1s 7ms/step - loss: 36.8180 - mean_absolute_error: 4.0049 - val_loss: 4.2884 - val_mean_absolute_error: 1.7039\n",
      "Epoch 10/25\n",
      "161/161 [==============================] - 1s 7ms/step - loss: 27.1471 - mean_absolute_error: 3.1356 - val_loss: 8.4008 - val_mean_absolute_error: 2.5758\n",
      "Epoch 11/25\n",
      "161/161 [==============================] - 1s 7ms/step - loss: 23.2739 - mean_absolute_error: 2.8789 - val_loss: 12.2963 - val_mean_absolute_error: 3.2279\n",
      "Epoch 12/25\n",
      "161/161 [==============================] - 1s 7ms/step - loss: 21.5842 - mean_absolute_error: 2.8888 - val_loss: 15.5881 - val_mean_absolute_error: 3.6971\n",
      "Epoch 13/25\n",
      "161/161 [==============================] - 1s 7ms/step - loss: 20.8658 - mean_absolute_error: 2.9782 - val_loss: 18.1636 - val_mean_absolute_error: 4.0273\n",
      "Epoch 14/25\n",
      "161/161 [==============================] - 1s 7ms/step - loss: 20.5989 - mean_absolute_error: 3.0438 - val_loss: 18.6886 - val_mean_absolute_error: 4.0873\n",
      "Epoch 15/25\n",
      "161/161 [==============================] - 1s 8ms/step - loss: 20.0988 - mean_absolute_error: 3.0271 - val_loss: 19.1296 - val_mean_absolute_error: 4.1388\n",
      "Epoch 16/25\n",
      "161/161 [==============================] - 1s 7ms/step - loss: 18.9967 - mean_absolute_error: 2.9215 - val_loss: 18.2601 - val_mean_absolute_error: 4.0373\n",
      "Epoch 17/25\n",
      "161/161 [==============================] - 1s 7ms/step - loss: 18.3736 - mean_absolute_error: 2.8784 - val_loss: 18.5758 - val_mean_absolute_error: 4.0763\n",
      "Epoch 18/25\n",
      "161/161 [==============================] - 1s 7ms/step - loss: 17.8297 - mean_absolute_error: 2.8363 - val_loss: 18.4231 - val_mean_absolute_error: 4.0643\n",
      "Epoch 19/25\n",
      "161/161 [==============================] - 1s 9ms/step - loss: 16.8927 - mean_absolute_error: 2.7021 - val_loss: 16.2940 - val_mean_absolute_error: 3.8090\n",
      "Epoch 20/25\n",
      "161/161 [==============================] - 1s 7ms/step - loss: 16.0174 - mean_absolute_error: 2.6430 - val_loss: 15.7037 - val_mean_absolute_error: 3.7354\n",
      "Epoch 21/25\n",
      "161/161 [==============================] - 1s 7ms/step - loss: 15.1104 - mean_absolute_error: 2.5843 - val_loss: 16.5202 - val_mean_absolute_error: 3.8624\n",
      "Epoch 22/25\n",
      "161/161 [==============================] - 1s 7ms/step - loss: 14.6779 - mean_absolute_error: 2.5946 - val_loss: 17.4100 - val_mean_absolute_error: 3.9760\n",
      "Epoch 23/25\n",
      "161/161 [==============================] - 1s 8ms/step - loss: 14.0718 - mean_absolute_error: 2.5401 - val_loss: 16.1336 - val_mean_absolute_error: 3.8186\n",
      "Epoch 24/25\n",
      "161/161 [==============================] - 1s 8ms/step - loss: 13.4589 - mean_absolute_error: 2.5320 - val_loss: 17.1370 - val_mean_absolute_error: 3.9549\n",
      "Epoch 25/25\n",
      "161/161 [==============================] - 1s 7ms/step - loss: 13.1742 - mean_absolute_error: 2.5416 - val_loss: 17.3680 - val_mean_absolute_error: 3.9845\n",
      "\n",
      "-----------------------------------------------------------------------------------------------------------\n",
      "\n",
      "Model: \"sequential_17\"\n",
      "_________________________________________________________________\n",
      "Layer (type)                 Output Shape              Param #   \n",
      "=================================================================\n",
      "lstm_17 (LSTM)               (None, 64)                17920     \n",
      "_________________________________________________________________\n",
      "dense_34 (Dense)             (None, 8)                 520       \n",
      "_________________________________________________________________\n",
      "dense_35 (Dense)             (None, 1)                 9         \n",
      "=================================================================\n",
      "Total params: 18,449\n",
      "Trainable params: 18,449\n",
      "Non-trainable params: 0\n",
      "_________________________________________________________________\n",
      "Epoch 1/25\n",
      "161/161 [==============================] - 4s 11ms/step - loss: 488.6204 - mean_absolute_error: 21.6355 - val_loss: 270.3227 - val_mean_absolute_error: 16.3869\n",
      "INFO:tensorflow:Assets written to: 6H_Forecast/6H_ForecastModel_7_SizeWindow\\assets\n"
     ]
    },
    {
     "name": "stderr",
     "output_type": "stream",
     "text": [
      "INFO:tensorflow:Assets written to: 6H_Forecast/6H_ForecastModel_7_SizeWindow\\assets\n"
     ]
    },
    {
     "name": "stdout",
     "output_type": "stream",
     "text": [
      "Epoch 2/25\n",
      "161/161 [==============================] - 1s 8ms/step - loss: 423.5286 - mean_absolute_error: 20.0999 - val_loss: 216.2709 - val_mean_absolute_error: 14.6351\n",
      "INFO:tensorflow:Assets written to: 6H_Forecast/6H_ForecastModel_7_SizeWindow\\assets\n"
     ]
    },
    {
     "name": "stderr",
     "output_type": "stream",
     "text": [
      "INFO:tensorflow:Assets written to: 6H_Forecast/6H_ForecastModel_7_SizeWindow\\assets\n"
     ]
    },
    {
     "name": "stdout",
     "output_type": "stream",
     "text": [
      "Epoch 3/25\n",
      "161/161 [==============================] - 1s 9ms/step - loss: 311.4393 - mean_absolute_error: 17.0401 - val_loss: 110.9794 - val_mean_absolute_error: 10.2800\n",
      "INFO:tensorflow:Assets written to: 6H_Forecast/6H_ForecastModel_7_SizeWindow\\assets\n"
     ]
    },
    {
     "name": "stderr",
     "output_type": "stream",
     "text": [
      "INFO:tensorflow:Assets written to: 6H_Forecast/6H_ForecastModel_7_SizeWindow\\assets\n"
     ]
    },
    {
     "name": "stdout",
     "output_type": "stream",
     "text": [
      "Epoch 4/25\n",
      "161/161 [==============================] - 1s 9ms/step - loss: 179.9237 - mean_absolute_error: 12.4186 - val_loss: 39.6999 - val_mean_absolute_error: 5.9499\n",
      "INFO:tensorflow:Assets written to: 6H_Forecast/6H_ForecastModel_7_SizeWindow\\assets\n"
     ]
    },
    {
     "name": "stderr",
     "output_type": "stream",
     "text": [
      "INFO:tensorflow:Assets written to: 6H_Forecast/6H_ForecastModel_7_SizeWindow\\assets\n"
     ]
    },
    {
     "name": "stdout",
     "output_type": "stream",
     "text": [
      "Epoch 5/25\n",
      "161/161 [==============================] - 1s 9ms/step - loss: 99.6339 - mean_absolute_error: 8.5995 - val_loss: 8.3481 - val_mean_absolute_error: 2.3771\n",
      "INFO:tensorflow:Assets written to: 6H_Forecast/6H_ForecastModel_7_SizeWindow\\assets\n"
     ]
    },
    {
     "name": "stderr",
     "output_type": "stream",
     "text": [
      "INFO:tensorflow:Assets written to: 6H_Forecast/6H_ForecastModel_7_SizeWindow\\assets\n"
     ]
    },
    {
     "name": "stdout",
     "output_type": "stream",
     "text": [
      "Epoch 6/25\n",
      "161/161 [==============================] - 1s 8ms/step - loss: 50.9899 - mean_absolute_error: 5.2064 - val_loss: 3.1100 - val_mean_absolute_error: 1.4573\n",
      "INFO:tensorflow:Assets written to: 6H_Forecast/6H_ForecastModel_7_SizeWindow\\assets\n"
     ]
    },
    {
     "name": "stderr",
     "output_type": "stream",
     "text": [
      "INFO:tensorflow:Assets written to: 6H_Forecast/6H_ForecastModel_7_SizeWindow\\assets\n"
     ]
    },
    {
     "name": "stdout",
     "output_type": "stream",
     "text": [
      "Epoch 7/25\n",
      "161/161 [==============================] - 1s 8ms/step - loss: 32.2964 - mean_absolute_error: 3.5188 - val_loss: 8.5754 - val_mean_absolute_error: 2.5193\n",
      "Epoch 8/25\n",
      "161/161 [==============================] - 1s 8ms/step - loss: 25.4165 - mean_absolute_error: 3.0079 - val_loss: 13.1355 - val_mean_absolute_error: 3.3126\n",
      "Epoch 9/25\n",
      "161/161 [==============================] - 1s 8ms/step - loss: 22.7549 - mean_absolute_error: 2.9432 - val_loss: 15.7512 - val_mean_absolute_error: 3.7057\n",
      "Epoch 10/25\n",
      "161/161 [==============================] - 1s 9ms/step - loss: 20.8019 - mean_absolute_error: 2.8953 - val_loss: 14.8944 - val_mean_absolute_error: 3.6253\n",
      "Epoch 11/25\n",
      "161/161 [==============================] - 1s 8ms/step - loss: 19.0245 - mean_absolute_error: 2.7751 - val_loss: 16.1257 - val_mean_absolute_error: 3.7610\n",
      "Epoch 12/25\n",
      "161/161 [==============================] - 1s 8ms/step - loss: 17.9334 - mean_absolute_error: 2.7571 - val_loss: 16.9009 - val_mean_absolute_error: 3.8651\n",
      "Epoch 13/25\n",
      "161/161 [==============================] - 1s 8ms/step - loss: 17.0200 - mean_absolute_error: 2.7103 - val_loss: 16.2225 - val_mean_absolute_error: 3.7849\n",
      "Epoch 14/25\n",
      "161/161 [==============================] - 1s 8ms/step - loss: 16.0554 - mean_absolute_error: 2.6354 - val_loss: 16.0419 - val_mean_absolute_error: 3.7562\n",
      "Epoch 15/25\n",
      "161/161 [==============================] - 2s 10ms/step - loss: 15.1061 - mean_absolute_error: 2.5674 - val_loss: 15.8067 - val_mean_absolute_error: 3.7382\n",
      "Epoch 16/25\n",
      "161/161 [==============================] - 2s 9ms/step - loss: 14.2900 - mean_absolute_error: 2.5327 - val_loss: 15.7730 - val_mean_absolute_error: 3.7318\n",
      "Epoch 17/25\n",
      "161/161 [==============================] - 1s 9ms/step - loss: 13.5364 - mean_absolute_error: 2.4774 - val_loss: 15.1720 - val_mean_absolute_error: 3.6475\n",
      "Epoch 18/25\n",
      "161/161 [==============================] - 1s 9ms/step - loss: 12.6541 - mean_absolute_error: 2.3915 - val_loss: 14.4190 - val_mean_absolute_error: 3.5467\n",
      "Epoch 19/25\n",
      "161/161 [==============================] - 1s 8ms/step - loss: 11.8461 - mean_absolute_error: 2.3360 - val_loss: 14.5487 - val_mean_absolute_error: 3.5754\n",
      "Epoch 20/25\n",
      "161/161 [==============================] - 1s 8ms/step - loss: 11.0789 - mean_absolute_error: 2.2754 - val_loss: 13.4781 - val_mean_absolute_error: 3.4150\n",
      "Epoch 21/25\n",
      "161/161 [==============================] - 1s 8ms/step - loss: 10.1170 - mean_absolute_error: 2.1553 - val_loss: 12.8864 - val_mean_absolute_error: 3.3390\n",
      "Epoch 22/25\n",
      "161/161 [==============================] - 1s 8ms/step - loss: 9.3846 - mean_absolute_error: 2.1292 - val_loss: 13.5623 - val_mean_absolute_error: 3.4554\n",
      "Epoch 23/25\n",
      "161/161 [==============================] - 1s 9ms/step - loss: 8.7849 - mean_absolute_error: 2.0833 - val_loss: 13.0753 - val_mean_absolute_error: 3.3926\n",
      "Epoch 24/25\n",
      "161/161 [==============================] - 1s 9ms/step - loss: 8.1843 - mean_absolute_error: 2.0242 - val_loss: 12.4613 - val_mean_absolute_error: 3.2697\n",
      "Epoch 25/25\n",
      "161/161 [==============================] - 1s 9ms/step - loss: 7.4596 - mean_absolute_error: 1.9472 - val_loss: 11.8570 - val_mean_absolute_error: 3.1846\n",
      "\n",
      "-----------------------------------------------------------------------------------------------------------\n",
      "\n",
      "Model: \"sequential_18\"\n",
      "_________________________________________________________________\n",
      "Layer (type)                 Output Shape              Param #   \n",
      "=================================================================\n",
      "lstm_18 (LSTM)               (None, 64)                17920     \n",
      "_________________________________________________________________\n",
      "dense_36 (Dense)             (None, 8)                 520       \n",
      "_________________________________________________________________\n",
      "dense_37 (Dense)             (None, 1)                 9         \n",
      "=================================================================\n",
      "Total params: 18,449\n",
      "Trainable params: 18,449\n",
      "Non-trainable params: 0\n",
      "_________________________________________________________________\n",
      "Epoch 1/25\n",
      "160/160 [==============================] - 4s 12ms/step - loss: 515.6039 - mean_absolute_error: 22.2692 - val_loss: 308.2151 - val_mean_absolute_error: 17.5048\n",
      "INFO:tensorflow:Assets written to: 6H_Forecast/6H_ForecastModel_8_SizeWindow\\assets\n"
     ]
    },
    {
     "name": "stderr",
     "output_type": "stream",
     "text": [
      "INFO:tensorflow:Assets written to: 6H_Forecast/6H_ForecastModel_8_SizeWindow\\assets\n"
     ]
    },
    {
     "name": "stdout",
     "output_type": "stream",
     "text": [
      "Epoch 2/25\n",
      "160/160 [==============================] - 1s 8ms/step - loss: 478.5885 - mean_absolute_error: 21.4478 - val_loss: 269.6496 - val_mean_absolute_error: 16.3474\n",
      "INFO:tensorflow:Assets written to: 6H_Forecast/6H_ForecastModel_8_SizeWindow\\assets\n"
     ]
    },
    {
     "name": "stderr",
     "output_type": "stream",
     "text": [
      "INFO:tensorflow:Assets written to: 6H_Forecast/6H_ForecastModel_8_SizeWindow\\assets\n"
     ]
    },
    {
     "name": "stdout",
     "output_type": "stream",
     "text": [
      "Epoch 3/25\n",
      "160/160 [==============================] - 1s 8ms/step - loss: 409.9576 - mean_absolute_error: 19.7841 - val_loss: 214.7224 - val_mean_absolute_error: 14.5760\n",
      "INFO:tensorflow:Assets written to: 6H_Forecast/6H_ForecastModel_8_SizeWindow\\assets\n"
     ]
    },
    {
     "name": "stderr",
     "output_type": "stream",
     "text": [
      "INFO:tensorflow:Assets written to: 6H_Forecast/6H_ForecastModel_8_SizeWindow\\assets\n"
     ]
    },
    {
     "name": "stdout",
     "output_type": "stream",
     "text": [
      "Epoch 4/25\n",
      "160/160 [==============================] - 1s 9ms/step - loss: 347.3169 - mean_absolute_error: 18.1174 - val_loss: 167.4034 - val_mean_absolute_error: 12.8468\n",
      "INFO:tensorflow:Assets written to: 6H_Forecast/6H_ForecastModel_8_SizeWindow\\assets\n"
     ]
    },
    {
     "name": "stderr",
     "output_type": "stream",
     "text": [
      "INFO:tensorflow:Assets written to: 6H_Forecast/6H_ForecastModel_8_SizeWindow\\assets\n"
     ]
    },
    {
     "name": "stdout",
     "output_type": "stream",
     "text": [
      "Epoch 5/25\n",
      "160/160 [==============================] - 1s 8ms/step - loss: 282.2964 - mean_absolute_error: 16.2176 - val_loss: 120.6298 - val_mean_absolute_error: 10.8753\n",
      "INFO:tensorflow:Assets written to: 6H_Forecast/6H_ForecastModel_8_SizeWindow\\assets\n"
     ]
    },
    {
     "name": "stderr",
     "output_type": "stream",
     "text": [
      "INFO:tensorflow:Assets written to: 6H_Forecast/6H_ForecastModel_8_SizeWindow\\assets\n"
     ]
    },
    {
     "name": "stdout",
     "output_type": "stream",
     "text": [
      "Epoch 6/25\n",
      "160/160 [==============================] - 1s 8ms/step - loss: 229.8299 - mean_absolute_error: 14.4722 - val_loss: 86.6856 - val_mean_absolute_error: 9.2202\n",
      "INFO:tensorflow:Assets written to: 6H_Forecast/6H_ForecastModel_8_SizeWindow\\assets\n"
     ]
    },
    {
     "name": "stderr",
     "output_type": "stream",
     "text": [
      "INFO:tensorflow:Assets written to: 6H_Forecast/6H_ForecastModel_8_SizeWindow\\assets\n"
     ]
    },
    {
     "name": "stdout",
     "output_type": "stream",
     "text": [
      "Epoch 7/25\n",
      "160/160 [==============================] - 1s 8ms/step - loss: 193.9442 - mean_absolute_error: 13.1470 - val_loss: 65.1777 - val_mean_absolute_error: 7.9807\n",
      "INFO:tensorflow:Assets written to: 6H_Forecast/6H_ForecastModel_8_SizeWindow\\assets\n"
     ]
    },
    {
     "name": "stderr",
     "output_type": "stream",
     "text": [
      "INFO:tensorflow:Assets written to: 6H_Forecast/6H_ForecastModel_8_SizeWindow\\assets\n"
     ]
    },
    {
     "name": "stdout",
     "output_type": "stream",
     "text": [
      "Epoch 8/25\n",
      "160/160 [==============================] - 1s 8ms/step - loss: 166.6299 - mean_absolute_error: 12.0454 - val_loss: 47.9475 - val_mean_absolute_error: 6.8267\n",
      "INFO:tensorflow:Assets written to: 6H_Forecast/6H_ForecastModel_8_SizeWindow\\assets\n"
     ]
    },
    {
     "name": "stderr",
     "output_type": "stream",
     "text": [
      "INFO:tensorflow:Assets written to: 6H_Forecast/6H_ForecastModel_8_SizeWindow\\assets\n"
     ]
    },
    {
     "name": "stdout",
     "output_type": "stream",
     "text": [
      "Epoch 9/25\n",
      "160/160 [==============================] - 1s 8ms/step - loss: 141.4757 - mean_absolute_error: 10.9738 - val_loss: 35.9889 - val_mean_absolute_error: 5.8877\n",
      "INFO:tensorflow:Assets written to: 6H_Forecast/6H_ForecastModel_8_SizeWindow\\assets\n"
     ]
    },
    {
     "name": "stderr",
     "output_type": "stream",
     "text": [
      "INFO:tensorflow:Assets written to: 6H_Forecast/6H_ForecastModel_8_SizeWindow\\assets\n"
     ]
    },
    {
     "name": "stdout",
     "output_type": "stream",
     "text": [
      "Epoch 10/25\n",
      "160/160 [==============================] - 1s 8ms/step - loss: 122.2089 - mean_absolute_error: 10.0679 - val_loss: 26.6403 - val_mean_absolute_error: 5.0317\n",
      "INFO:tensorflow:Assets written to: 6H_Forecast/6H_ForecastModel_8_SizeWindow\\assets\n"
     ]
    },
    {
     "name": "stderr",
     "output_type": "stream",
     "text": [
      "INFO:tensorflow:Assets written to: 6H_Forecast/6H_ForecastModel_8_SizeWindow\\assets\n"
     ]
    },
    {
     "name": "stdout",
     "output_type": "stream",
     "text": [
      "Epoch 11/25\n",
      "160/160 [==============================] - 1s 8ms/step - loss: 106.0024 - mean_absolute_error: 9.2269 - val_loss: 19.0119 - val_mean_absolute_error: 4.2060\n",
      "INFO:tensorflow:Assets written to: 6H_Forecast/6H_ForecastModel_8_SizeWindow\\assets\n"
     ]
    },
    {
     "name": "stderr",
     "output_type": "stream",
     "text": [
      "INFO:tensorflow:Assets written to: 6H_Forecast/6H_ForecastModel_8_SizeWindow\\assets\n"
     ]
    },
    {
     "name": "stdout",
     "output_type": "stream",
     "text": [
      "Epoch 12/25\n",
      "160/160 [==============================] - 1s 8ms/step - loss: 91.3348 - mean_absolute_error: 8.3948 - val_loss: 12.6504 - val_mean_absolute_error: 3.3592\n",
      "INFO:tensorflow:Assets written to: 6H_Forecast/6H_ForecastModel_8_SizeWindow\\assets\n"
     ]
    },
    {
     "name": "stderr",
     "output_type": "stream",
     "text": [
      "INFO:tensorflow:Assets written to: 6H_Forecast/6H_ForecastModel_8_SizeWindow\\assets\n"
     ]
    },
    {
     "name": "stdout",
     "output_type": "stream",
     "text": [
      "Epoch 13/25\n",
      "160/160 [==============================] - 1s 8ms/step - loss: 77.2625 - mean_absolute_error: 7.5165 - val_loss: 7.5760 - val_mean_absolute_error: 2.5148\n",
      "INFO:tensorflow:Assets written to: 6H_Forecast/6H_ForecastModel_8_SizeWindow\\assets\n"
     ]
    },
    {
     "name": "stderr",
     "output_type": "stream",
     "text": [
      "INFO:tensorflow:Assets written to: 6H_Forecast/6H_ForecastModel_8_SizeWindow\\assets\n"
     ]
    },
    {
     "name": "stdout",
     "output_type": "stream",
     "text": [
      "Epoch 14/25\n",
      "160/160 [==============================] - 1s 8ms/step - loss: 64.8122 - mean_absolute_error: 6.6686 - val_loss: 4.1387 - val_mean_absolute_error: 1.7739\n",
      "INFO:tensorflow:Assets written to: 6H_Forecast/6H_ForecastModel_8_SizeWindow\\assets\n"
     ]
    },
    {
     "name": "stderr",
     "output_type": "stream",
     "text": [
      "INFO:tensorflow:Assets written to: 6H_Forecast/6H_ForecastModel_8_SizeWindow\\assets\n"
     ]
    },
    {
     "name": "stdout",
     "output_type": "stream",
     "text": [
      "Epoch 15/25\n",
      "160/160 [==============================] - 1s 8ms/step - loss: 53.5304 - mean_absolute_error: 5.7489 - val_loss: 2.0372 - val_mean_absolute_error: 1.1698\n",
      "INFO:tensorflow:Assets written to: 6H_Forecast/6H_ForecastModel_8_SizeWindow\\assets\n"
     ]
    },
    {
     "name": "stderr",
     "output_type": "stream",
     "text": [
      "INFO:tensorflow:Assets written to: 6H_Forecast/6H_ForecastModel_8_SizeWindow\\assets\n"
     ]
    },
    {
     "name": "stdout",
     "output_type": "stream",
     "text": [
      "Epoch 16/25\n",
      "160/160 [==============================] - 1s 8ms/step - loss: 44.2049 - mean_absolute_error: 4.8633 - val_loss: 1.3458 - val_mean_absolute_error: 0.8782\n",
      "INFO:tensorflow:Assets written to: 6H_Forecast/6H_ForecastModel_8_SizeWindow\\assets\n"
     ]
    },
    {
     "name": "stderr",
     "output_type": "stream",
     "text": [
      "INFO:tensorflow:Assets written to: 6H_Forecast/6H_ForecastModel_8_SizeWindow\\assets\n"
     ]
    },
    {
     "name": "stdout",
     "output_type": "stream",
     "text": [
      "Epoch 17/25\n",
      "160/160 [==============================] - 1s 8ms/step - loss: 37.7963 - mean_absolute_error: 4.2001 - val_loss: 1.9437 - val_mean_absolute_error: 1.0971\n",
      "Epoch 18/25\n",
      "160/160 [==============================] - 1s 8ms/step - loss: 32.9901 - mean_absolute_error: 3.6951 - val_loss: 3.2417 - val_mean_absolute_error: 1.5173\n",
      "Epoch 19/25\n",
      "160/160 [==============================] - 1s 8ms/step - loss: 29.3179 - mean_absolute_error: 3.3178 - val_loss: 5.0381 - val_mean_absolute_error: 1.9812\n",
      "Epoch 20/25\n",
      "160/160 [==============================] - 1s 8ms/step - loss: 26.5516 - mean_absolute_error: 3.0640 - val_loss: 7.1493 - val_mean_absolute_error: 2.4343\n",
      "Epoch 21/25\n",
      "160/160 [==============================] - 1s 8ms/step - loss: 24.5374 - mean_absolute_error: 2.9058 - val_loss: 9.4004 - val_mean_absolute_error: 2.8478\n",
      "Epoch 22/25\n",
      "160/160 [==============================] - 1s 7ms/step - loss: 23.1311 - mean_absolute_error: 2.8321 - val_loss: 11.5880 - val_mean_absolute_error: 3.2020\n",
      "Epoch 23/25\n",
      "160/160 [==============================] - 1s 7ms/step - loss: 22.1783 - mean_absolute_error: 2.8396 - val_loss: 13.6715 - val_mean_absolute_error: 3.5112\n",
      "Epoch 24/25\n",
      "160/160 [==============================] - 1s 8ms/step - loss: 21.5294 - mean_absolute_error: 2.8813 - val_loss: 15.5782 - val_mean_absolute_error: 3.7716\n",
      "Epoch 25/25\n",
      "160/160 [==============================] - 1s 8ms/step - loss: 21.1411 - mean_absolute_error: 2.9495 - val_loss: 17.1109 - val_mean_absolute_error: 3.9662\n",
      "\n",
      "-----------------------------------------------------------------------------------------------------------\n",
      "\n",
      "Model: \"sequential_19\"\n",
      "_________________________________________________________________\n",
      "Layer (type)                 Output Shape              Param #   \n",
      "=================================================================\n",
      "lstm_19 (LSTM)               (None, 64)                17920     \n",
      "_________________________________________________________________\n",
      "dense_38 (Dense)             (None, 8)                 520       \n",
      "_________________________________________________________________\n",
      "dense_39 (Dense)             (None, 1)                 9         \n",
      "=================================================================\n",
      "Total params: 18,449\n",
      "Trainable params: 18,449\n",
      "Non-trainable params: 0\n",
      "_________________________________________________________________\n",
      "Epoch 1/25\n",
      "160/160 [==============================] - 6s 16ms/step - loss: 505.9382 - mean_absolute_error: 22.0091 - val_loss: 273.3805 - val_mean_absolute_error: 16.4794\n",
      "INFO:tensorflow:Assets written to: 6H_Forecast/6H_ForecastModel_9_SizeWindow\\assets\n"
     ]
    },
    {
     "name": "stderr",
     "output_type": "stream",
     "text": [
      "INFO:tensorflow:Assets written to: 6H_Forecast/6H_ForecastModel_9_SizeWindow\\assets\n"
     ]
    },
    {
     "name": "stdout",
     "output_type": "stream",
     "text": [
      "Epoch 2/25\n",
      "160/160 [==============================] - 1s 9ms/step - loss: 438.2145 - mean_absolute_error: 20.4052 - val_loss: 224.7077 - val_mean_absolute_error: 14.9351\n",
      "INFO:tensorflow:Assets written to: 6H_Forecast/6H_ForecastModel_9_SizeWindow\\assets\n"
     ]
    },
    {
     "name": "stderr",
     "output_type": "stream",
     "text": [
      "INFO:tensorflow:Assets written to: 6H_Forecast/6H_ForecastModel_9_SizeWindow\\assets\n"
     ]
    },
    {
     "name": "stdout",
     "output_type": "stream",
     "text": [
      "Epoch 3/25\n",
      "160/160 [==============================] - 1s 9ms/step - loss: 360.3276 - mean_absolute_error: 18.4340 - val_loss: 165.4303 - val_mean_absolute_error: 12.7676\n",
      "INFO:tensorflow:Assets written to: 6H_Forecast/6H_ForecastModel_9_SizeWindow\\assets\n"
     ]
    },
    {
     "name": "stderr",
     "output_type": "stream",
     "text": [
      "INFO:tensorflow:Assets written to: 6H_Forecast/6H_ForecastModel_9_SizeWindow\\assets\n"
     ]
    },
    {
     "name": "stdout",
     "output_type": "stream",
     "text": [
      "Epoch 4/25\n",
      "160/160 [==============================] - 1s 9ms/step - loss: 273.3515 - mean_absolute_error: 15.8886 - val_loss: 107.1524 - val_mean_absolute_error: 10.1745\n",
      "INFO:tensorflow:Assets written to: 6H_Forecast/6H_ForecastModel_9_SizeWindow\\assets\n"
     ]
    },
    {
     "name": "stderr",
     "output_type": "stream",
     "text": [
      "INFO:tensorflow:Assets written to: 6H_Forecast/6H_ForecastModel_9_SizeWindow\\assets\n"
     ]
    },
    {
     "name": "stdout",
     "output_type": "stream",
     "text": [
      "Epoch 5/25\n",
      "160/160 [==============================] - 2s 11ms/step - loss: 198.7802 - mean_absolute_error: 13.3307 - val_loss: 63.6543 - val_mean_absolute_error: 7.8174\n",
      "INFO:tensorflow:Assets written to: 6H_Forecast/6H_ForecastModel_9_SizeWindow\\assets\n"
     ]
    },
    {
     "name": "stderr",
     "output_type": "stream",
     "text": [
      "INFO:tensorflow:Assets written to: 6H_Forecast/6H_ForecastModel_9_SizeWindow\\assets\n"
     ]
    },
    {
     "name": "stdout",
     "output_type": "stream",
     "text": [
      "Epoch 6/25\n",
      "160/160 [==============================] - 1s 9ms/step - loss: 146.8945 - mean_absolute_error: 11.2055 - val_loss: 33.1976 - val_mean_absolute_error: 5.6202\n",
      "INFO:tensorflow:Assets written to: 6H_Forecast/6H_ForecastModel_9_SizeWindow\\assets\n"
     ]
    },
    {
     "name": "stderr",
     "output_type": "stream",
     "text": [
      "INFO:tensorflow:Assets written to: 6H_Forecast/6H_ForecastModel_9_SizeWindow\\assets\n"
     ]
    },
    {
     "name": "stdout",
     "output_type": "stream",
     "text": [
      "Epoch 7/25\n",
      "160/160 [==============================] - 2s 10ms/step - loss: 108.4745 - mean_absolute_error: 9.3178 - val_loss: 16.5785 - val_mean_absolute_error: 3.8713\n",
      "INFO:tensorflow:Assets written to: 6H_Forecast/6H_ForecastModel_9_SizeWindow\\assets\n"
     ]
    },
    {
     "name": "stderr",
     "output_type": "stream",
     "text": [
      "INFO:tensorflow:Assets written to: 6H_Forecast/6H_ForecastModel_9_SizeWindow\\assets\n"
     ]
    },
    {
     "name": "stdout",
     "output_type": "stream",
     "text": [
      "Epoch 8/25\n",
      "160/160 [==============================] - 1s 9ms/step - loss: 81.4476 - mean_absolute_error: 7.7342 - val_loss: 7.4877 - val_mean_absolute_error: 2.4685\n",
      "INFO:tensorflow:Assets written to: 6H_Forecast/6H_ForecastModel_9_SizeWindow\\assets\n"
     ]
    },
    {
     "name": "stderr",
     "output_type": "stream",
     "text": [
      "INFO:tensorflow:Assets written to: 6H_Forecast/6H_ForecastModel_9_SizeWindow\\assets\n"
     ]
    },
    {
     "name": "stdout",
     "output_type": "stream",
     "text": [
      "Epoch 9/25\n",
      "160/160 [==============================] - 2s 10ms/step - loss: 62.9784 - mean_absolute_error: 6.4286 - val_loss: 2.6882 - val_mean_absolute_error: 1.3772\n",
      "INFO:tensorflow:Assets written to: 6H_Forecast/6H_ForecastModel_9_SizeWindow\\assets\n"
     ]
    },
    {
     "name": "stderr",
     "output_type": "stream",
     "text": [
      "INFO:tensorflow:Assets written to: 6H_Forecast/6H_ForecastModel_9_SizeWindow\\assets\n"
     ]
    },
    {
     "name": "stdout",
     "output_type": "stream",
     "text": [
      "Epoch 10/25\n",
      "160/160 [==============================] - 2s 10ms/step - loss: 48.0977 - mean_absolute_error: 5.1376 - val_loss: 1.4497 - val_mean_absolute_error: 0.9342\n",
      "INFO:tensorflow:Assets written to: 6H_Forecast/6H_ForecastModel_9_SizeWindow\\assets\n"
     ]
    },
    {
     "name": "stderr",
     "output_type": "stream",
     "text": [
      "INFO:tensorflow:Assets written to: 6H_Forecast/6H_ForecastModel_9_SizeWindow\\assets\n"
     ]
    },
    {
     "name": "stdout",
     "output_type": "stream",
     "text": [
      "Epoch 11/25\n",
      "160/160 [==============================] - 1s 9ms/step - loss: 38.4381 - mean_absolute_error: 4.1720 - val_loss: 2.5340 - val_mean_absolute_error: 1.2953\n",
      "Epoch 12/25\n",
      "160/160 [==============================] - 2s 9ms/step - loss: 31.5433 - mean_absolute_error: 3.4422 - val_loss: 5.3534 - val_mean_absolute_error: 2.0545\n",
      "Epoch 13/25\n",
      "160/160 [==============================] - 1s 9ms/step - loss: 26.3697 - mean_absolute_error: 3.0104 - val_loss: 9.5896 - val_mean_absolute_error: 2.8795\n",
      "Epoch 14/25\n",
      "160/160 [==============================] - 2s 10ms/step - loss: 22.7956 - mean_absolute_error: 2.8242 - val_loss: 12.2896 - val_mean_absolute_error: 3.3098\n",
      "Epoch 15/25\n",
      "160/160 [==============================] - 1s 9ms/step - loss: 21.5186 - mean_absolute_error: 2.8402 - val_loss: 14.7558 - val_mean_absolute_error: 3.6639\n",
      "Epoch 16/25\n",
      "160/160 [==============================] - 1s 9ms/step - loss: 20.8028 - mean_absolute_error: 2.8917 - val_loss: 16.4587 - val_mean_absolute_error: 3.8941\n",
      "Epoch 17/25\n",
      "160/160 [==============================] - 1s 9ms/step - loss: 20.2741 - mean_absolute_error: 2.9260 - val_loss: 17.9745 - val_mean_absolute_error: 4.0802\n",
      "Epoch 18/25\n",
      "160/160 [==============================] - 2s 9ms/step - loss: 19.9580 - mean_absolute_error: 2.9824 - val_loss: 19.2365 - val_mean_absolute_error: 4.2285\n",
      "Epoch 19/25\n",
      "160/160 [==============================] - 2s 11ms/step - loss: 19.7700 - mean_absolute_error: 3.0249 - val_loss: 20.0229 - val_mean_absolute_error: 4.3184\n",
      "Epoch 20/25\n",
      "160/160 [==============================] - 2s 10ms/step - loss: 19.6021 - mean_absolute_error: 3.0456 - val_loss: 20.0903 - val_mean_absolute_error: 4.3325\n",
      "Epoch 21/25\n",
      "160/160 [==============================] - 2s 9ms/step - loss: 19.3013 - mean_absolute_error: 3.0162 - val_loss: 19.7509 - val_mean_absolute_error: 4.2886\n",
      "Epoch 22/25\n",
      "160/160 [==============================] - 1s 9ms/step - loss: 19.0282 - mean_absolute_error: 2.9957 - val_loss: 19.8601 - val_mean_absolute_error: 4.2930\n",
      "Epoch 23/25\n",
      "160/160 [==============================] - 1s 9ms/step - loss: 18.7204 - mean_absolute_error: 2.9771 - val_loss: 19.8836 - val_mean_absolute_error: 4.2902\n",
      "Epoch 24/25\n",
      "160/160 [==============================] - 1s 9ms/step - loss: 18.4579 - mean_absolute_error: 2.9554 - val_loss: 19.7753 - val_mean_absolute_error: 4.2751\n",
      "Epoch 25/25\n",
      "160/160 [==============================] - 1s 9ms/step - loss: 18.1022 - mean_absolute_error: 2.9210 - val_loss: 19.1298 - val_mean_absolute_error: 4.1851\n",
      "\n",
      "-----------------------------------------------------------------------------------------------------------\n",
      "\n",
      "CPU times: total: 20min\n",
      "Wall time: 9min\n"
     ]
    }
   ],
   "source": [
    "%%time\n",
    "\n",
    "Trainer(6,6,9)"
   ]
  },
  {
   "cell_type": "code",
   "execution_count": 33,
   "id": "e6ad38c8",
   "metadata": {},
   "outputs": [
    {
     "name": "stdout",
     "output_type": "stream",
     "text": [
      "(5121, 6, 5) (5121,) (1707, 6, 5) (1707,) (1708, 6, 5) (1708,)\n",
      "Loading: 6H_Forecast/6H_ForecastModel_6_SizeWindow/\n",
      "54/54 [==============================] - 1s 2ms/step - loss: 35.0863 - mean_absolute_error: 4.2176\n",
      "(5121, 7, 5) (5121,) (1707, 7, 5) (1707,) (1707, 7, 5) (1707,)\n",
      "Loading: 6H_Forecast/6H_ForecastModel_7_SizeWindow/\n",
      "54/54 [==============================] - 1s 3ms/step - loss: 30.1240 - mean_absolute_error: 3.7998\n",
      "(5120, 8, 5) (5120,) (1707, 8, 5) (1707,) (1707, 8, 5) (1707,)\n",
      "Loading: 6H_Forecast/6H_ForecastModel_8_SizeWindow/\n",
      "54/54 [==============================] - 1s 3ms/step - loss: 30.2994 - mean_absolute_error: 3.9242\n",
      "(5119, 9, 5) (5119,) (1707, 9, 5) (1707,) (1707, 9, 5) (1707,)\n",
      "Loading: 6H_Forecast/6H_ForecastModel_9_SizeWindow/\n",
      "54/54 [==============================] - 1s 3ms/step - loss: 34.7516 - mean_absolute_error: 4.1656\n",
      "CPU times: total: 50.3 s\n",
      "Wall time: 37.2 s\n"
     ]
    }
   ],
   "source": [
    "%%time\n",
    "\n",
    "modelsEvaluator(6,6,9)"
   ]
  },
  {
   "cell_type": "code",
   "execution_count": 38,
   "id": "9847bee1",
   "metadata": {},
   "outputs": [
    {
     "name": "stdout",
     "output_type": "stream",
     "text": [
      "54/54 [==============================] - 1s 3ms/step - loss: 28.3605 - mean_absolute_error: 3.6598\n"
     ]
    },
    {
     "data": {
      "text/plain": [
       "<matplotlib.legend.Legend at 0x19adc0fcdc0>"
      ]
     },
     "execution_count": 38,
     "metadata": {},
     "output_type": "execute_result"
    },
    {
     "data": {
      "image/png": "[encoded data removed]",
      "text/plain": [
       "<Figure size 576x396 with 1 Axes>"
      ]
     },
     "metadata": {},
     "output_type": "display_data"
    }
   ],
   "source": [
    "model = load_model('6H_Forecast/6H_ForecastModel_7_SizeWindow/')\n",
    "\n",
    "X, y = DataHandler(6,7)\n",
    "X_train, X_test, y_train, y_test = train_test_split(X, y, test_size=0.2)\n",
    "X_train, X_val, y_train, y_val = train_test_split(X_train, y_train, test_size=0.25) \n",
    "model.evaluate(X_test,y_test)\n",
    "\n",
    "train_predictions = model.predict(X_train).flatten()\n",
    "train_results = pd.DataFrame(data={'Train Predictions':train_predictions, 'Actuals':y_train})\n",
    "plt.style.use('seaborn')\n",
    "\n",
    "pd.concat([train_results['Train Predictions'],train_results['Actuals']],axis=1).plot()\n",
    "plt.legend(['Train Predictions','Actuals'])"
   ]
  },
  {
   "cell_type": "code",
   "execution_count": null,
   "id": "ba931149",
   "metadata": {},
   "outputs": [],
   "source": []
  }
 ],
 "metadata": {
  "kernelspec": {
   "display_name": "Python 3 (ipykernel)",
   "language": "python",
   "name": "python3"
  },
  "language_info": {
   "codemirror_mode": {
    "name": "ipython",
    "version": 3
   },
   "file_extension": ".py",
   "mimetype": "text/x-python",
   "name": "python",
   "nbconvert_exporter": "python",
   "pygments_lexer": "ipython3",
   "version": "3.9.12"
  }
 },
 "nbformat": 4,
 "nbformat_minor": 5
}
