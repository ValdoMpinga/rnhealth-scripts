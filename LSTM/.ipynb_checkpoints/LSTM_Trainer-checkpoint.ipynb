{
 "cells": [
  {
   "cell_type": "code",
   "execution_count": 1,
   "id": "424b0b7f",
   "metadata": {},
   "outputs": [],
   "source": [
    "from tensorflow.keras.models import Sequential\n",
    "from tensorflow.keras.layers import *\n",
    "from tensorflow.keras.callbacks import ModelCheckpoint\n",
    "from tensorflow.keras.losses import MeanSquaredError\n",
    "from tensorflow.keras.metrics import RootMeanSquaredError, MeanAbsoluteError\n",
    "from tensorflow.keras.optimizers import Adam\n",
    "from tensorflow.keras.models import load_model\n",
    "from matplotlib import pyplot as plt\n",
    "import pandas as pd\n",
    "\n",
    "import absl.logging\n",
    "absl.logging.set_verbosity(absl.logging.ERROR)\n",
    "\n",
    "import sys  \n",
    "sys.path.insert(0, '../')\n",
    "import RadonDF_Handler\n",
    "\n",
    "import os\n",
    "os.environ['KMP_DUPLICATE_LIB_OK']='True'"
   ]
  },
  {
   "cell_type": "code",
   "execution_count": 3,
   "id": "ae32a5c0",
   "metadata": {},
   "outputs": [],
   "source": [
    "plt.style.use('seaborn')"
   ]
  },
  {
   "cell_type": "code",
   "execution_count": 3,
   "id": "f9bdd36e",
   "metadata": {},
   "outputs": [],
   "source": [
    "def Trainer(time):\n",
    "    window_size =  6\n",
    "    while(window_size <= 12):\n",
    "        model = Sequential()\n",
    "        model.add(InputLayer((window_size, 5)))\n",
    "        model.add(LSTM(64))\n",
    "        model.add(Dense(8, 'relu'))\n",
    "        model.add(Dense(1, 'linear'))\n",
    "\n",
    "        model.summary()\n",
    "        X, y = RadonDF_Handler.Handler(time,window_size)\n",
    "        \n",
    "        X_train, y_train = X[:92508], y[:92508] # training data\n",
    "        X_val, y_val = X[92508:95508], y[92508:95508] #validation\n",
    "        X_test, y_test = X[95508:], y[95508:] #test\n",
    "        X_train.shape, y_train.shape, X_val.shape, y_val.shape, X_test.shape, y_test.shape\n",
    "        \n",
    "        cp1= ModelCheckpoint(str(time)+\"H_ForecastModel_\"+str(window_size)+\"_SizeWindow/\", save_best_only=True)\n",
    "        model.compile(loss=MeanSquaredError(), \n",
    "                   optimizer=Adam(learning_rate=0.0001), \n",
    "                   metrics=[MeanAbsoluteError()])\n",
    "    \n",
    "        model.fit(X_train, y_train, validation_data=(X_val, y_val), epochs=25, callbacks=[cp1])\n",
    "        window_size += 2\n",
    "        print()\n",
    "        print(\"-----------------------------------------------------------------------------------------------------------\")\n",
    "        print()\n",
    "\n",
    "    window_size = 6"
   ]
  },
  {
   "cell_type": "code",
   "execution_count": 12,
   "id": "e2a91ddf",
   "metadata": {},
   "outputs": [],
   "source": [
    "def modelsEvaluator(time,startWindow,endWindow,jumpOneWindow):\n",
    "    while(startWindow <= endWindow):\n",
    "        X, y = RadonDF_Handler.Handler(time,startWindow)\n",
    "        \n",
    "        X_train, y_train = X[:92508], y[:92508] # training data\n",
    "        X_val, y_val = X[92508:95508], y[92508:95508] #validation\n",
    "        X_test, y_test = X[95508:], y[95508:] #test\n",
    "        X_train.shape, y_train.shape, X_val.shape, y_val.shape, X_test.shape, y_test.shape\n",
    "       \n",
    "        print(\"Loading: \"+ str(time)+\"H_ForecastModel_\"+str(startWindow)+\"_SizeWindow/\")\n",
    "        model = load_model(str(time)+\"H_ForecastModel_\"+str(startWindow)+\"_SizeWindow/\")\n",
    "        model.evaluate(X_test,y_test)\n",
    "        \n",
    "        test_predictions = model.predict(X_test).flatten()\n",
    "        test_results = pd.DataFrame(data={'Test Predictions '+str(time) + ' hour model':test_predictions, 'Actuals':y_test})\n",
    "        \n",
    "        print('\\n')\n",
    "        if(jumpOneWindow):\n",
    "            startWindow += 2\n",
    "        else:\n",
    "            startWindow += 1"
   ]
  },
  {
   "cell_type": "markdown",
   "id": "75486c90",
   "metadata": {},
   "source": [
    " <h3> <font color='orange'> 1 hour forecasting model training </font> <h3/> "
   ]
  },
  {
   "cell_type": "code",
   "execution_count": 15,
   "id": "22ea0e44",
   "metadata": {},
   "outputs": [
    {
     "name": "stdout",
     "output_type": "stream",
     "text": [
      "Model: \"sequential_1\"\n",
      "_________________________________________________________________\n",
      "Layer (type)                 Output Shape              Param #   \n",
      "=================================================================\n",
      "lstm_1 (LSTM)                (None, 64)                17920     \n",
      "_________________________________________________________________\n",
      "dense_2 (Dense)              (None, 8)                 520       \n",
      "_________________________________________________________________\n",
      "dense_3 (Dense)              (None, 1)                 9         \n",
      "=================================================================\n",
      "Total params: 18,449\n",
      "Trainable params: 18,449\n",
      "Non-trainable params: 0\n",
      "_________________________________________________________________\n",
      "Epoch 1/25\n",
      "2891/2891 [==============================] - 22s 6ms/step - loss: 1610047.3750 - mean_absolute_error: 663.7175 - val_loss: 275964.3750 - val_mean_absolute_error: 449.3289\n",
      "INFO:tensorflow:Assets written to: 1H_ForecastModel_6_SizeWindow\\assets\n"
     ]
    },
    {
     "name": "stderr",
     "output_type": "stream",
     "text": [
      "INFO:tensorflow:Assets written to: 1H_ForecastModel_6_SizeWindow\\assets\n"
     ]
    },
    {
     "name": "stdout",
     "output_type": "stream",
     "text": [
      "Epoch 2/25\n",
      "2891/2891 [==============================] - 31s 11ms/step - loss: 1498715.7500 - mean_absolute_error: 597.9316 - val_loss: 189028.9531 - val_mean_absolute_error: 348.9844\n",
      "INFO:tensorflow:Assets written to: 1H_ForecastModel_6_SizeWindow\\assets\n"
     ]
    },
    {
     "name": "stderr",
     "output_type": "stream",
     "text": [
      "INFO:tensorflow:Assets written to: 1H_ForecastModel_6_SizeWindow\\assets\n"
     ]
    },
    {
     "name": "stdout",
     "output_type": "stream",
     "text": [
      "Epoch 3/25\n",
      "2891/2891 [==============================] - 24s 8ms/step - loss: 1360558.2500 - mean_absolute_error: 526.5399 - val_loss: 108136.6406 - val_mean_absolute_error: 239.8466\n",
      "INFO:tensorflow:Assets written to: 1H_ForecastModel_6_SizeWindow\\assets\n"
     ]
    },
    {
     "name": "stderr",
     "output_type": "stream",
     "text": [
      "INFO:tensorflow:Assets written to: 1H_ForecastModel_6_SizeWindow\\assets\n"
     ]
    },
    {
     "name": "stdout",
     "output_type": "stream",
     "text": [
      "Epoch 4/25\n",
      "2891/2891 [==============================] - 25s 8ms/step - loss: 1210412.2500 - mean_absolute_error: 462.1216 - val_loss: 49238.1484 - val_mean_absolute_error: 140.6015\n",
      "INFO:tensorflow:Assets written to: 1H_ForecastModel_6_SizeWindow\\assets\n"
     ]
    },
    {
     "name": "stderr",
     "output_type": "stream",
     "text": [
      "INFO:tensorflow:Assets written to: 1H_ForecastModel_6_SizeWindow\\assets\n"
     ]
    },
    {
     "name": "stdout",
     "output_type": "stream",
     "text": [
      "Epoch 5/25\n",
      "2891/2891 [==============================] - 23s 8ms/step - loss: 1054672.2500 - mean_absolute_error: 411.4483 - val_loss: 20086.0586 - val_mean_absolute_error: 76.6546\n",
      "INFO:tensorflow:Assets written to: 1H_ForecastModel_6_SizeWindow\\assets\n"
     ]
    },
    {
     "name": "stderr",
     "output_type": "stream",
     "text": [
      "INFO:tensorflow:Assets written to: 1H_ForecastModel_6_SizeWindow\\assets\n"
     ]
    },
    {
     "name": "stdout",
     "output_type": "stream",
     "text": [
      "Epoch 6/25\n",
      "2891/2891 [==============================] - 23s 8ms/step - loss: 896341.3125 - mean_absolute_error: 371.9786 - val_loss: 11992.5322 - val_mean_absolute_error: 57.9644\n",
      "INFO:tensorflow:Assets written to: 1H_ForecastModel_6_SizeWindow\\assets\n"
     ]
    },
    {
     "name": "stderr",
     "output_type": "stream",
     "text": [
      "INFO:tensorflow:Assets written to: 1H_ForecastModel_6_SizeWindow\\assets\n"
     ]
    },
    {
     "name": "stdout",
     "output_type": "stream",
     "text": [
      "Epoch 7/25\n",
      "2891/2891 [==============================] - 23s 8ms/step - loss: 736830.8750 - mean_absolute_error: 336.8551 - val_loss: 9935.0596 - val_mean_absolute_error: 56.6815\n",
      "INFO:tensorflow:Assets written to: 1H_ForecastModel_6_SizeWindow\\assets\n"
     ]
    },
    {
     "name": "stderr",
     "output_type": "stream",
     "text": [
      "INFO:tensorflow:Assets written to: 1H_ForecastModel_6_SizeWindow\\assets\n"
     ]
    },
    {
     "name": "stdout",
     "output_type": "stream",
     "text": [
      "Epoch 8/25\n",
      "2891/2891 [==============================] - 23s 8ms/step - loss: 582355.8750 - mean_absolute_error: 302.5138 - val_loss: 9181.0283 - val_mean_absolute_error: 53.2658\n",
      "INFO:tensorflow:Assets written to: 1H_ForecastModel_6_SizeWindow\\assets\n"
     ]
    },
    {
     "name": "stderr",
     "output_type": "stream",
     "text": [
      "INFO:tensorflow:Assets written to: 1H_ForecastModel_6_SizeWindow\\assets\n"
     ]
    },
    {
     "name": "stdout",
     "output_type": "stream",
     "text": [
      "Epoch 9/25\n",
      "2891/2891 [==============================] - 24s 8ms/step - loss: 435075.6250 - mean_absolute_error: 266.9823 - val_loss: 9276.1348 - val_mean_absolute_error: 55.2635\n",
      "Epoch 10/25\n",
      "2891/2891 [==============================] - 23s 8ms/step - loss: 297205.0000 - mean_absolute_error: 228.3327 - val_loss: 9111.8047 - val_mean_absolute_error: 53.9928\n",
      "INFO:tensorflow:Assets written to: 1H_ForecastModel_6_SizeWindow\\assets\n"
     ]
    },
    {
     "name": "stderr",
     "output_type": "stream",
     "text": [
      "INFO:tensorflow:Assets written to: 1H_ForecastModel_6_SizeWindow\\assets\n"
     ]
    },
    {
     "name": "stdout",
     "output_type": "stream",
     "text": [
      "Epoch 11/25\n",
      "2891/2891 [==============================] - 24s 8ms/step - loss: 187588.1250 - mean_absolute_error: 189.8677 - val_loss: 9900.5518 - val_mean_absolute_error: 58.5242\n",
      "Epoch 12/25\n",
      "2891/2891 [==============================] - 25s 9ms/step - loss: 105865.9531 - mean_absolute_error: 150.5948 - val_loss: 9417.1484 - val_mean_absolute_error: 55.0777\n",
      "Epoch 13/25\n",
      "2891/2891 [==============================] - 18s 6ms/step - loss: 56992.7656 - mean_absolute_error: 112.9791 - val_loss: 9321.1279 - val_mean_absolute_error: 55.2357\n",
      "Epoch 14/25\n",
      "2891/2891 [==============================] - 19s 7ms/step - loss: 37966.1133 - mean_absolute_error: 83.8205 - val_loss: 9250.5752 - val_mean_absolute_error: 55.6445\n",
      "Epoch 15/25\n",
      "2891/2891 [==============================] - 19s 7ms/step - loss: 34656.3594 - mean_absolute_error: 71.9713 - val_loss: 9463.2871 - val_mean_absolute_error: 56.7158\n",
      "Epoch 16/25\n",
      "2891/2891 [==============================] - 24s 8ms/step - loss: 34478.4258 - mean_absolute_error: 71.0450 - val_loss: 9785.8877 - val_mean_absolute_error: 58.0416\n",
      "Epoch 17/25\n",
      "2891/2891 [==============================] - 24s 8ms/step - loss: 34434.4297 - mean_absolute_error: 70.9946 - val_loss: 9775.1533 - val_mean_absolute_error: 58.5265\n",
      "Epoch 18/25\n",
      "2891/2891 [==============================] - 28s 10ms/step - loss: 33922.3945 - mean_absolute_error: 68.9227 - val_loss: 10500.1689 - val_mean_absolute_error: 60.8643\n",
      "Epoch 19/25\n",
      "2891/2891 [==============================] - 26s 9ms/step - loss: 33851.5898 - mean_absolute_error: 71.1388 - val_loss: 9422.3086 - val_mean_absolute_error: 55.5577\n",
      "Epoch 20/25\n",
      "2891/2891 [==============================] - 27s 9ms/step - loss: 33793.8672 - mean_absolute_error: 69.1104 - val_loss: 9216.4844 - val_mean_absolute_error: 55.5204\n",
      "Epoch 21/25\n",
      "2891/2891 [==============================] - 23s 8ms/step - loss: 33964.2930 - mean_absolute_error: 71.2687 - val_loss: 9569.5225 - val_mean_absolute_error: 57.6395\n",
      "Epoch 22/25\n",
      "2891/2891 [==============================] - 23s 8ms/step - loss: 33732.5039 - mean_absolute_error: 69.0252 - val_loss: 9886.8877 - val_mean_absolute_error: 58.9823\n",
      "Epoch 23/25\n",
      "2891/2891 [==============================] - 24s 8ms/step - loss: 33313.0117 - mean_absolute_error: 67.4589 - val_loss: 9524.1846 - val_mean_absolute_error: 55.7825\n",
      "Epoch 24/25\n",
      "2891/2891 [==============================] - 25s 9ms/step - loss: 33236.5352 - mean_absolute_error: 67.1000 - val_loss: 9442.9414 - val_mean_absolute_error: 57.2089\n",
      "Epoch 25/25\n",
      "2891/2891 [==============================] - 24s 8ms/step - loss: 33266.4336 - mean_absolute_error: 67.9835 - val_loss: 9475.0098 - val_mean_absolute_error: 56.7103\n",
      "\n",
      "-----------------------------------------------------------------------------------------------------------\n",
      "\n",
      "Model: \"sequential_2\"\n",
      "_________________________________________________________________\n",
      "Layer (type)                 Output Shape              Param #   \n",
      "=================================================================\n",
      "lstm_2 (LSTM)                (None, 64)                17920     \n",
      "_________________________________________________________________\n",
      "dense_4 (Dense)              (None, 8)                 520       \n",
      "_________________________________________________________________\n",
      "dense_5 (Dense)              (None, 1)                 9         \n",
      "=================================================================\n",
      "Total params: 18,449\n",
      "Trainable params: 18,449\n",
      "Non-trainable params: 0\n",
      "_________________________________________________________________\n",
      "Epoch 1/25\n",
      "2891/2891 [==============================] - 32s 10ms/step - loss: 1617993.3750 - mean_absolute_error: 668.7081 - val_loss: 280770.0625 - val_mean_absolute_error: 454.4960\n",
      "INFO:tensorflow:Assets written to: 1H_ForecastModel_7_SizeWindow\\assets\n"
     ]
    },
    {
     "name": "stderr",
     "output_type": "stream",
     "text": [
      "INFO:tensorflow:Assets written to: 1H_ForecastModel_7_SizeWindow\\assets\n"
     ]
    },
    {
     "name": "stdout",
     "output_type": "stream",
     "text": [
      "Epoch 2/25\n",
      "2891/2891 [==============================] - 24s 8ms/step - loss: 1499560.3750 - mean_absolute_error: 599.1710 - val_loss: 186289.6875 - val_mean_absolute_error: 346.0531\n",
      "INFO:tensorflow:Assets written to: 1H_ForecastModel_7_SizeWindow\\assets\n"
     ]
    },
    {
     "name": "stderr",
     "output_type": "stream",
     "text": [
      "INFO:tensorflow:Assets written to: 1H_ForecastModel_7_SizeWindow\\assets\n"
     ]
    },
    {
     "name": "stdout",
     "output_type": "stream",
     "text": [
      "Epoch 3/25\n",
      "2891/2891 [==============================] - 25s 9ms/step - loss: 1348605.0000 - mean_absolute_error: 521.4617 - val_loss: 99312.2734 - val_mean_absolute_error: 226.0988\n",
      "INFO:tensorflow:Assets written to: 1H_ForecastModel_7_SizeWindow\\assets\n"
     ]
    },
    {
     "name": "stderr",
     "output_type": "stream",
     "text": [
      "INFO:tensorflow:Assets written to: 1H_ForecastModel_7_SizeWindow\\assets\n"
     ]
    },
    {
     "name": "stdout",
     "output_type": "stream",
     "text": [
      "Epoch 4/25\n",
      "2891/2891 [==============================] - 28s 10ms/step - loss: 1184097.6250 - mean_absolute_error: 452.9375 - val_loss: 40774.0703 - val_mean_absolute_error: 124.3446\n",
      "INFO:tensorflow:Assets written to: 1H_ForecastModel_7_SizeWindow\\assets\n"
     ]
    },
    {
     "name": "stderr",
     "output_type": "stream",
     "text": [
      "INFO:tensorflow:Assets written to: 1H_ForecastModel_7_SizeWindow\\assets\n"
     ]
    },
    {
     "name": "stdout",
     "output_type": "stream",
     "text": [
      "Epoch 5/25\n",
      "2891/2891 [==============================] - 26s 9ms/step - loss: 1015274.8125 - mean_absolute_error: 401.7942 - val_loss: 16435.1211 - val_mean_absolute_error: 67.2372\n",
      "INFO:tensorflow:Assets written to: 1H_ForecastModel_7_SizeWindow\\assets\n"
     ]
    },
    {
     "name": "stderr",
     "output_type": "stream",
     "text": [
      "INFO:tensorflow:Assets written to: 1H_ForecastModel_7_SizeWindow\\assets\n"
     ]
    },
    {
     "name": "stdout",
     "output_type": "stream",
     "text": [
      "Epoch 6/25\n",
      "2891/2891 [==============================] - 27s 9ms/step - loss: 840675.8750 - mean_absolute_error: 360.2961 - val_loss: 10827.4297 - val_mean_absolute_error: 55.5023\n",
      "INFO:tensorflow:Assets written to: 1H_ForecastModel_7_SizeWindow\\assets\n"
     ]
    },
    {
     "name": "stderr",
     "output_type": "stream",
     "text": [
      "INFO:tensorflow:Assets written to: 1H_ForecastModel_7_SizeWindow\\assets\n"
     ]
    },
    {
     "name": "stdout",
     "output_type": "stream",
     "text": [
      "Epoch 7/25\n",
      "2891/2891 [==============================] - 26s 9ms/step - loss: 665104.6875 - mean_absolute_error: 321.9537 - val_loss: 9675.8477 - val_mean_absolute_error: 55.3528\n",
      "INFO:tensorflow:Assets written to: 1H_ForecastModel_7_SizeWindow\\assets\n"
     ]
    },
    {
     "name": "stderr",
     "output_type": "stream",
     "text": [
      "INFO:tensorflow:Assets written to: 1H_ForecastModel_7_SizeWindow\\assets\n"
     ]
    },
    {
     "name": "stdout",
     "output_type": "stream",
     "text": [
      "Epoch 8/25\n",
      "2891/2891 [==============================] - 26s 9ms/step - loss: 500438.5312 - mean_absolute_error: 284.8510 - val_loss: 9361.0010 - val_mean_absolute_error: 53.9162\n",
      "INFO:tensorflow:Assets written to: 1H_ForecastModel_7_SizeWindow\\assets\n"
     ]
    },
    {
     "name": "stderr",
     "output_type": "stream",
     "text": [
      "INFO:tensorflow:Assets written to: 1H_ForecastModel_7_SizeWindow\\assets\n"
     ]
    },
    {
     "name": "stdout",
     "output_type": "stream",
     "text": [
      "Epoch 9/25\n",
      "2891/2891 [==============================] - 25s 9ms/step - loss: 350125.0938 - mean_absolute_error: 245.1136 - val_loss: 9780.2344 - val_mean_absolute_error: 57.1610\n",
      "Epoch 10/25\n",
      "2891/2891 [==============================] - 30s 10ms/step - loss: 221868.2188 - mean_absolute_error: 203.2732 - val_loss: 9501.0596 - val_mean_absolute_error: 54.0333s\n",
      "Epoch 11/25\n",
      "2891/2891 [==============================] - 27s 9ms/step - loss: 124005.0703 - mean_absolute_error: 160.1369 - val_loss: 10431.0303 - val_mean_absolute_error: 60.4038\n",
      "Epoch 12/25\n",
      "2891/2891 [==============================] - 25s 9ms/step - loss: 63879.8477 - mean_absolute_error: 119.0369 - val_loss: 9900.5156 - val_mean_absolute_error: 56.6210\n",
      "Epoch 13/25\n",
      "2891/2891 [==============================] - 28s 10ms/step - loss: 39672.0977 - mean_absolute_error: 86.2740 - val_loss: 9468.4844 - val_mean_absolute_error: 54.9819\n",
      "Epoch 14/25\n",
      "2891/2891 [==============================] - 27s 9ms/step - loss: 35758.9102 - mean_absolute_error: 73.7476 - val_loss: 9368.2422 - val_mean_absolute_error: 53.2833\n",
      "Epoch 15/25\n",
      "2891/2891 [==============================] - 28s 10ms/step - loss: 35066.4062 - mean_absolute_error: 70.8118 - val_loss: 9670.8623 - val_mean_absolute_error: 56.4067\n",
      "Epoch 16/25\n",
      "2891/2891 [==============================] - 28s 10ms/step - loss: 35223.3672 - mean_absolute_error: 71.1449 - val_loss: 9420.6943 - val_mean_absolute_error: 54.9717\n",
      "Epoch 17/25\n",
      "2891/2891 [==============================] - 29s 10ms/step - loss: 34780.5352 - mean_absolute_error: 70.1645 - val_loss: 9456.4004 - val_mean_absolute_error: 53.5427\n",
      "Epoch 18/25\n",
      "2891/2891 [==============================] - 28s 10ms/step - loss: 34569.1172 - mean_absolute_error: 69.6867 - val_loss: 9794.8604 - val_mean_absolute_error: 56.3925\n",
      "Epoch 19/25\n",
      "2891/2891 [==============================] - 25s 9ms/step - loss: 34466.8125 - mean_absolute_error: 68.1722 - val_loss: 9123.5400 - val_mean_absolute_error: 53.3653\n",
      "INFO:tensorflow:Assets written to: 1H_ForecastModel_7_SizeWindow\\assets\n"
     ]
    },
    {
     "name": "stderr",
     "output_type": "stream",
     "text": [
      "INFO:tensorflow:Assets written to: 1H_ForecastModel_7_SizeWindow\\assets\n"
     ]
    },
    {
     "name": "stdout",
     "output_type": "stream",
     "text": [
      "Epoch 20/25\n",
      "2891/2891 [==============================] - 22s 8ms/step - loss: 34179.6406 - mean_absolute_error: 67.9376 - val_loss: 9450.7002 - val_mean_absolute_error: 53.7577\n",
      "Epoch 21/25\n",
      "2891/2891 [==============================] - 21s 7ms/step - loss: 33933.5000 - mean_absolute_error: 67.7287 - val_loss: 9440.2051 - val_mean_absolute_error: 53.9210\n",
      "Epoch 22/25\n",
      "2891/2891 [==============================] - 18s 6ms/step - loss: 34425.5898 - mean_absolute_error: 70.3737 - val_loss: 9788.2227 - val_mean_absolute_error: 55.8214\n",
      "Epoch 23/25\n",
      "2891/2891 [==============================] - 19s 7ms/step - loss: 34131.1445 - mean_absolute_error: 69.0594 - val_loss: 9908.4746 - val_mean_absolute_error: 55.4457\n",
      "Epoch 24/25\n",
      "2891/2891 [==============================] - 27s 9ms/step - loss: 33970.1445 - mean_absolute_error: 67.4267 - val_loss: 9657.3086 - val_mean_absolute_error: 55.0804\n",
      "Epoch 25/25\n",
      "2891/2891 [==============================] - 24s 8ms/step - loss: 33800.3789 - mean_absolute_error: 67.7998 - val_loss: 9671.6846 - val_mean_absolute_error: 54.4768\n",
      "\n",
      "-----------------------------------------------------------------------------------------------------------\n",
      "\n",
      "Model: \"sequential_3\"\n",
      "_________________________________________________________________\n",
      "Layer (type)                 Output Shape              Param #   \n",
      "=================================================================\n",
      "lstm_3 (LSTM)                (None, 64)                17920     \n",
      "_________________________________________________________________\n",
      "dense_6 (Dense)              (None, 8)                 520       \n",
      "_________________________________________________________________\n",
      "dense_7 (Dense)              (None, 1)                 9         \n",
      "=================================================================\n",
      "Total params: 18,449\n",
      "Trainable params: 18,449\n",
      "Non-trainable params: 0\n",
      "_________________________________________________________________\n",
      "Epoch 1/25\n",
      "2891/2891 [==============================] - 24s 8ms/step - loss: 1625187.5000 - mean_absolute_error: 672.9455 - val_loss: 305500.5625 - val_mean_absolute_error: 480.6388\n",
      "INFO:tensorflow:Assets written to: 1H_ForecastModel_8_SizeWindow\\assets\n"
     ]
    },
    {
     "name": "stderr",
     "output_type": "stream",
     "text": [
      "INFO:tensorflow:Assets written to: 1H_ForecastModel_8_SizeWindow\\assets\n"
     ]
    },
    {
     "name": "stdout",
     "output_type": "stream",
     "text": [
      "Epoch 2/25\n",
      "2891/2891 [==============================] - 18s 6ms/step - loss: 1572794.2500 - mean_absolute_error: 640.8668 - val_loss: 262407.5312 - val_mean_absolute_error: 434.4558\n",
      "INFO:tensorflow:Assets written to: 1H_ForecastModel_8_SizeWindow\\assets\n"
     ]
    },
    {
     "name": "stderr",
     "output_type": "stream",
     "text": [
      "INFO:tensorflow:Assets written to: 1H_ForecastModel_8_SizeWindow\\assets\n"
     ]
    },
    {
     "name": "stdout",
     "output_type": "stream",
     "text": [
      "Epoch 3/25\n",
      "2891/2891 [==============================] - 18s 6ms/step - loss: 1502774.5000 - mean_absolute_error: 600.0507 - val_loss: 209451.3281 - val_mean_absolute_error: 373.9732\n",
      "INFO:tensorflow:Assets written to: 1H_ForecastModel_8_SizeWindow\\assets\n"
     ]
    },
    {
     "name": "stderr",
     "output_type": "stream",
     "text": [
      "INFO:tensorflow:Assets written to: 1H_ForecastModel_8_SizeWindow\\assets\n"
     ]
    },
    {
     "name": "stdout",
     "output_type": "stream",
     "text": [
      "Epoch 4/25\n",
      "2891/2891 [==============================] - 19s 7ms/step - loss: 1421114.3750 - mean_absolute_error: 555.7171 - val_loss: 156199.2500 - val_mean_absolute_error: 307.3219\n",
      "INFO:tensorflow:Assets written to: 1H_ForecastModel_8_SizeWindow\\assets\n"
     ]
    },
    {
     "name": "stderr",
     "output_type": "stream",
     "text": [
      "INFO:tensorflow:Assets written to: 1H_ForecastModel_8_SizeWindow\\assets\n"
     ]
    },
    {
     "name": "stdout",
     "output_type": "stream",
     "text": [
      "Epoch 5/25\n",
      "2891/2891 [==============================] - 19s 7ms/step - loss: 1331075.3750 - mean_absolute_error: 511.9990 - val_loss: 107260.8672 - val_mean_absolute_error: 238.6657\n",
      "INFO:tensorflow:Assets written to: 1H_ForecastModel_8_SizeWindow\\assets\n"
     ]
    },
    {
     "name": "stderr",
     "output_type": "stream",
     "text": [
      "INFO:tensorflow:Assets written to: 1H_ForecastModel_8_SizeWindow\\assets\n"
     ]
    },
    {
     "name": "stdout",
     "output_type": "stream",
     "text": [
      "Epoch 6/25\n",
      "2891/2891 [==============================] - 18s 6ms/step - loss: 1236938.7500 - mean_absolute_error: 471.4348 - val_loss: 67296.8750 - val_mean_absolute_error: 173.5267\n",
      "INFO:tensorflow:Assets written to: 1H_ForecastModel_8_SizeWindow\\assets\n"
     ]
    },
    {
     "name": "stderr",
     "output_type": "stream",
     "text": [
      "INFO:tensorflow:Assets written to: 1H_ForecastModel_8_SizeWindow\\assets\n"
     ]
    },
    {
     "name": "stdout",
     "output_type": "stream",
     "text": [
      "Epoch 7/25\n",
      "2891/2891 [==============================] - 18s 6ms/step - loss: 1141048.8750 - mean_absolute_error: 436.5115 - val_loss: 38858.5625 - val_mean_absolute_error: 119.6713\n",
      "INFO:tensorflow:Assets written to: 1H_ForecastModel_8_SizeWindow\\assets\n"
     ]
    },
    {
     "name": "stderr",
     "output_type": "stream",
     "text": [
      "INFO:tensorflow:Assets written to: 1H_ForecastModel_8_SizeWindow\\assets\n"
     ]
    },
    {
     "name": "stdout",
     "output_type": "stream",
     "text": [
      "Epoch 8/25\n",
      "2891/2891 [==============================] - 18s 6ms/step - loss: 1043511.9375 - mean_absolute_error: 407.1400 - val_loss: 21998.9414 - val_mean_absolute_error: 80.2389\n",
      "INFO:tensorflow:Assets written to: 1H_ForecastModel_8_SizeWindow\\assets\n"
     ]
    },
    {
     "name": "stderr",
     "output_type": "stream",
     "text": [
      "INFO:tensorflow:Assets written to: 1H_ForecastModel_8_SizeWindow\\assets\n"
     ]
    },
    {
     "name": "stdout",
     "output_type": "stream",
     "text": [
      "Epoch 9/25\n",
      "2891/2891 [==============================] - 18s 6ms/step - loss: 945005.1250 - mean_absolute_error: 381.8189 - val_loss: 14363.6943 - val_mean_absolute_error: 61.1158\n",
      "INFO:tensorflow:Assets written to: 1H_ForecastModel_8_SizeWindow\\assets\n"
     ]
    },
    {
     "name": "stderr",
     "output_type": "stream",
     "text": [
      "INFO:tensorflow:Assets written to: 1H_ForecastModel_8_SizeWindow\\assets\n"
     ]
    },
    {
     "name": "stdout",
     "output_type": "stream",
     "text": [
      "Epoch 10/25\n",
      "2891/2891 [==============================] - 18s 6ms/step - loss: 844040.9375 - mean_absolute_error: 358.8266 - val_loss: 11623.0469 - val_mean_absolute_error: 57.6120\n",
      "INFO:tensorflow:Assets written to: 1H_ForecastModel_8_SizeWindow\\assets\n"
     ]
    },
    {
     "name": "stderr",
     "output_type": "stream",
     "text": [
      "INFO:tensorflow:Assets written to: 1H_ForecastModel_8_SizeWindow\\assets\n"
     ]
    },
    {
     "name": "stdout",
     "output_type": "stream",
     "text": [
      "Epoch 11/25\n",
      "2891/2891 [==============================] - 18s 6ms/step - loss: 743225.7500 - mean_absolute_error: 336.9042 - val_loss: 10000.1787 - val_mean_absolute_error: 54.4202\n",
      "INFO:tensorflow:Assets written to: 1H_ForecastModel_8_SizeWindow\\assets\n"
     ]
    },
    {
     "name": "stderr",
     "output_type": "stream",
     "text": [
      "INFO:tensorflow:Assets written to: 1H_ForecastModel_8_SizeWindow\\assets\n"
     ]
    },
    {
     "name": "stdout",
     "output_type": "stream",
     "text": [
      "Epoch 12/25\n",
      "2891/2891 [==============================] - 18s 6ms/step - loss: 645563.3750 - mean_absolute_error: 315.7620 - val_loss: 9595.5596 - val_mean_absolute_error: 55.9615\n",
      "INFO:tensorflow:Assets written to: 1H_ForecastModel_8_SizeWindow\\assets\n"
     ]
    },
    {
     "name": "stderr",
     "output_type": "stream",
     "text": [
      "INFO:tensorflow:Assets written to: 1H_ForecastModel_8_SizeWindow\\assets\n"
     ]
    },
    {
     "name": "stdout",
     "output_type": "stream",
     "text": [
      "Epoch 13/25\n",
      "2891/2891 [==============================] - 18s 6ms/step - loss: 550486.5000 - mean_absolute_error: 294.6868 - val_loss: 9121.0576 - val_mean_absolute_error: 53.2745\n",
      "INFO:tensorflow:Assets written to: 1H_ForecastModel_8_SizeWindow\\assets\n"
     ]
    },
    {
     "name": "stderr",
     "output_type": "stream",
     "text": [
      "INFO:tensorflow:Assets written to: 1H_ForecastModel_8_SizeWindow\\assets\n"
     ]
    },
    {
     "name": "stdout",
     "output_type": "stream",
     "text": [
      "Epoch 14/25\n",
      "2891/2891 [==============================] - 18s 6ms/step - loss: 458807.8750 - mean_absolute_error: 272.6821 - val_loss: 9205.3789 - val_mean_absolute_error: 54.7323\n",
      "Epoch 15/25\n",
      "2891/2891 [==============================] - 18s 6ms/step - loss: 371656.0625 - mean_absolute_error: 249.8929 - val_loss: 9356.8018 - val_mean_absolute_error: 54.2149\n",
      "Epoch 16/25\n",
      "2891/2891 [==============================] - 18s 6ms/step - loss: 291260.0938 - mean_absolute_error: 226.6382 - val_loss: 9566.7588 - val_mean_absolute_error: 54.9337\n",
      "Epoch 17/25\n",
      "2891/2891 [==============================] - 18s 6ms/step - loss: 219613.0938 - mean_absolute_error: 202.6750 - val_loss: 9355.6191 - val_mean_absolute_error: 56.0807\n",
      "Epoch 18/25\n",
      "2891/2891 [==============================] - 18s 6ms/step - loss: 158132.4062 - mean_absolute_error: 177.7241 - val_loss: 9376.0928 - val_mean_absolute_error: 55.8947\n",
      "Epoch 19/25\n",
      "2891/2891 [==============================] - 18s 6ms/step - loss: 108030.0547 - mean_absolute_error: 152.6501 - val_loss: 9590.6270 - val_mean_absolute_error: 56.7696\n",
      "Epoch 20/25\n",
      "2891/2891 [==============================] - 18s 6ms/step - loss: 70346.3672 - mean_absolute_error: 127.0408 - val_loss: 9181.1123 - val_mean_absolute_error: 54.7725loss: 71626.3750 - mean_abso - ETA: 1s - loss: 71650.2109\n",
      "Epoch 21/25\n",
      "2891/2891 [==============================] - 18s 6ms/step - loss: 47605.0977 - mean_absolute_error: 103.2625 - val_loss: 9931.8203 - val_mean_absolute_error: 59.0780\n",
      "Epoch 22/25\n",
      "2891/2891 [==============================] - 18s 6ms/step - loss: 38295.9922 - mean_absolute_error: 87.3826 - val_loss: 10304.8750 - val_mean_absolute_error: 60.9023\n",
      "Epoch 23/25\n",
      "2891/2891 [==============================] - 18s 6ms/step - loss: 37588.0391 - mean_absolute_error: 85.6307 - val_loss: 10386.1602 - val_mean_absolute_error: 62.1172\n",
      "Epoch 24/25\n",
      "2891/2891 [==============================] - 18s 6ms/step - loss: 35221.6250 - mean_absolute_error: 75.2638 - val_loss: 9723.8701 - val_mean_absolute_error: 58.0754\n",
      "Epoch 25/25\n",
      "2891/2891 [==============================] - 18s 6ms/step - loss: 34482.5898 - mean_absolute_error: 73.9787 - val_loss: 9904.6660 - val_mean_absolute_error: 59.6650\n",
      "\n",
      "-----------------------------------------------------------------------------------------------------------\n",
      "\n",
      "Model: \"sequential_4\"\n",
      "_________________________________________________________________\n",
      "Layer (type)                 Output Shape              Param #   \n",
      "=================================================================\n",
      "lstm_4 (LSTM)                (None, 64)                17920     \n",
      "_________________________________________________________________\n",
      "dense_8 (Dense)              (None, 8)                 520       \n",
      "_________________________________________________________________\n",
      "dense_9 (Dense)              (None, 1)                 9         \n",
      "=================================================================\n",
      "Total params: 18,449\n",
      "Trainable params: 18,449\n",
      "Non-trainable params: 0\n",
      "_________________________________________________________________\n",
      "Epoch 1/25\n",
      "2891/2891 [==============================] - 22s 7ms/step - loss: 1611118.5000 - mean_absolute_error: 663.7181 - val_loss: 282719.6250 - val_mean_absolute_error: 456.5286\n",
      "INFO:tensorflow:Assets written to: 1H_ForecastModel_9_SizeWindow\\assets\n"
     ]
    },
    {
     "name": "stderr",
     "output_type": "stream",
     "text": [
      "INFO:tensorflow:Assets written to: 1H_ForecastModel_9_SizeWindow\\assets\n"
     ]
    },
    {
     "name": "stdout",
     "output_type": "stream",
     "text": [
      "Epoch 2/25\n",
      "2891/2891 [==============================] - 19s 7ms/step - loss: 1524233.3750 - mean_absolute_error: 612.4052 - val_loss: 218131.9688 - val_mean_absolute_error: 384.4968\n",
      "INFO:tensorflow:Assets written to: 1H_ForecastModel_9_SizeWindow\\assets\n"
     ]
    },
    {
     "name": "stderr",
     "output_type": "stream",
     "text": [
      "INFO:tensorflow:Assets written to: 1H_ForecastModel_9_SizeWindow\\assets\n"
     ]
    },
    {
     "name": "stdout",
     "output_type": "stream",
     "text": [
      "Epoch 3/25\n",
      "2891/2891 [==============================] - 20s 7ms/step - loss: 1423760.3750 - mean_absolute_error: 557.6915 - val_loss: 152179.4062 - val_mean_absolute_error: 302.2177\n",
      "INFO:tensorflow:Assets written to: 1H_ForecastModel_9_SizeWindow\\assets\n"
     ]
    },
    {
     "name": "stderr",
     "output_type": "stream",
     "text": [
      "INFO:tensorflow:Assets written to: 1H_ForecastModel_9_SizeWindow\\assets\n"
     ]
    },
    {
     "name": "stdout",
     "output_type": "stream",
     "text": [
      "Epoch 4/25\n",
      "2891/2891 [==============================] - 20s 7ms/step - loss: 1313580.1250 - mean_absolute_error: 504.4339 - val_loss: 94103.4453 - val_mean_absolute_error: 218.6102\n",
      "INFO:tensorflow:Assets written to: 1H_ForecastModel_9_SizeWindow\\assets\n"
     ]
    },
    {
     "name": "stderr",
     "output_type": "stream",
     "text": [
      "INFO:tensorflow:Assets written to: 1H_ForecastModel_9_SizeWindow\\assets\n"
     ]
    },
    {
     "name": "stdout",
     "output_type": "stream",
     "text": [
      "Epoch 5/25\n",
      "2891/2891 [==============================] - 20s 7ms/step - loss: 1194949.0000 - mean_absolute_error: 456.6830 - val_loss: 49873.4883 - val_mean_absolute_error: 142.9107\n",
      "INFO:tensorflow:Assets written to: 1H_ForecastModel_9_SizeWindow\\assets\n"
     ]
    },
    {
     "name": "stderr",
     "output_type": "stream",
     "text": [
      "INFO:tensorflow:Assets written to: 1H_ForecastModel_9_SizeWindow\\assets\n"
     ]
    },
    {
     "name": "stdout",
     "output_type": "stream",
     "text": [
      "Epoch 6/25\n",
      "2891/2891 [==============================] - 20s 7ms/step - loss: 1073944.1250 - mean_absolute_error: 417.0646 - val_loss: 24624.1777 - val_mean_absolute_error: 88.7192\n",
      "INFO:tensorflow:Assets written to: 1H_ForecastModel_9_SizeWindow\\assets\n"
     ]
    },
    {
     "name": "stderr",
     "output_type": "stream",
     "text": [
      "INFO:tensorflow:Assets written to: 1H_ForecastModel_9_SizeWindow\\assets\n"
     ]
    },
    {
     "name": "stdout",
     "output_type": "stream",
     "text": [
      "Epoch 7/25\n",
      "2891/2891 [==============================] - 20s 7ms/step - loss: 952079.3750 - mean_absolute_error: 385.2504 - val_loss: 14625.3203 - val_mean_absolute_error: 64.1784\n",
      "INFO:tensorflow:Assets written to: 1H_ForecastModel_9_SizeWindow\\assets\n"
     ]
    },
    {
     "name": "stderr",
     "output_type": "stream",
     "text": [
      "INFO:tensorflow:Assets written to: 1H_ForecastModel_9_SizeWindow\\assets\n"
     ]
    },
    {
     "name": "stdout",
     "output_type": "stream",
     "text": [
      "Epoch 8/25\n",
      "2891/2891 [==============================] - 20s 7ms/step - loss: 829248.0000 - mean_absolute_error: 357.0821 - val_loss: 11225.4551 - val_mean_absolute_error: 57.9824\n",
      "INFO:tensorflow:Assets written to: 1H_ForecastModel_9_SizeWindow\\assets\n"
     ]
    },
    {
     "name": "stderr",
     "output_type": "stream",
     "text": [
      "INFO:tensorflow:Assets written to: 1H_ForecastModel_9_SizeWindow\\assets\n"
     ]
    },
    {
     "name": "stdout",
     "output_type": "stream",
     "text": [
      "Epoch 9/25\n",
      "2891/2891 [==============================] - 20s 7ms/step - loss: 707121.3750 - mean_absolute_error: 330.7292 - val_loss: 10225.6943 - val_mean_absolute_error: 58.6308\n",
      "INFO:tensorflow:Assets written to: 1H_ForecastModel_9_SizeWindow\\assets\n"
     ]
    },
    {
     "name": "stderr",
     "output_type": "stream",
     "text": [
      "INFO:tensorflow:Assets written to: 1H_ForecastModel_9_SizeWindow\\assets\n"
     ]
    },
    {
     "name": "stdout",
     "output_type": "stream",
     "text": [
      "Epoch 10/25\n",
      "2891/2891 [==============================] - 20s 7ms/step - loss: 588091.0000 - mean_absolute_error: 304.4013 - val_loss: 9478.2236 - val_mean_absolute_error: 55.1561\n",
      "INFO:tensorflow:Assets written to: 1H_ForecastModel_9_SizeWindow\\assets\n"
     ]
    },
    {
     "name": "stderr",
     "output_type": "stream",
     "text": [
      "INFO:tensorflow:Assets written to: 1H_ForecastModel_9_SizeWindow\\assets\n"
     ]
    },
    {
     "name": "stdout",
     "output_type": "stream",
     "text": [
      "Epoch 11/25\n",
      "2891/2891 [==============================] - 21s 7ms/step - loss: 474890.6250 - mean_absolute_error: 277.6818 - val_loss: 9598.1357 - val_mean_absolute_error: 57.9418\n",
      "Epoch 12/25\n",
      "2891/2891 [==============================] - 21s 7ms/step - loss: 368930.1562 - mean_absolute_error: 250.4699 - val_loss: 9532.1855 - val_mean_absolute_error: 56.0957\n",
      "Epoch 13/25\n",
      "2891/2891 [==============================] - 21s 7ms/step - loss: 273573.1875 - mean_absolute_error: 222.0129 - val_loss: 10092.4180 - val_mean_absolute_error: 59.2949\n",
      "Epoch 14/25\n",
      "2891/2891 [==============================] - 21s 7ms/step - loss: 190982.7344 - mean_absolute_error: 192.6521 - val_loss: 10157.6621 - val_mean_absolute_error: 60.3734\n",
      "Epoch 15/25\n",
      "2891/2891 [==============================] - 21s 7ms/step - loss: 124643.7969 - mean_absolute_error: 162.5838 - val_loss: 11702.9209 - val_mean_absolute_error: 69.2466\n",
      "Epoch 16/25\n",
      "2891/2891 [==============================] - 21s 7ms/step - loss: 76872.0312 - mean_absolute_error: 132.8046 - val_loss: 10302.8604 - val_mean_absolute_error: 59.5517\n",
      "Epoch 17/25\n",
      "2891/2891 [==============================] - 21s 7ms/step - loss: 50767.7305 - mean_absolute_error: 108.0605 - val_loss: 10131.5420 - val_mean_absolute_error: 59.2989\n",
      "Epoch 18/25\n",
      "2891/2891 [==============================] - 21s 7ms/step - loss: 40493.3516 - mean_absolute_error: 91.1054 - val_loss: 9724.8750 - val_mean_absolute_error: 57.8919\n",
      "Epoch 19/25\n",
      "2891/2891 [==============================] - 21s 7ms/step - loss: 36075.3086 - mean_absolute_error: 78.7587 - val_loss: 10000.7861 - val_mean_absolute_error: 60.2015\n",
      "Epoch 20/25\n",
      "2891/2891 [==============================] - 21s 7ms/step - loss: 35202.1133 - mean_absolute_error: 74.7465 - val_loss: 9636.4053 - val_mean_absolute_error: 56.8013\n",
      "Epoch 21/25\n",
      "2891/2891 [==============================] - 21s 7ms/step - loss: 34372.1992 - mean_absolute_error: 70.9347 - val_loss: 9557.7158 - val_mean_absolute_error: 55.7256\n",
      "Epoch 22/25\n",
      "2891/2891 [==============================] - 22s 8ms/step - loss: 34054.1836 - mean_absolute_error: 69.9034 - val_loss: 9544.6553 - val_mean_absolute_error: 56.2054\n",
      "Epoch 23/25\n",
      "2891/2891 [==============================] - 21s 7ms/step - loss: 34313.9688 - mean_absolute_error: 72.0535 - val_loss: 10124.1064 - val_mean_absolute_error: 60.2947\n",
      "Epoch 24/25\n",
      "2891/2891 [==============================] - 21s 7ms/step - loss: 33906.8203 - mean_absolute_error: 70.8058 - val_loss: 10150.9570 - val_mean_absolute_error: 60.1440\n",
      "Epoch 25/25\n",
      "2891/2891 [==============================] - 21s 7ms/step - loss: 33549.2227 - mean_absolute_error: 68.1790 - val_loss: 9914.9844 - val_mean_absolute_error: 58.2746\n",
      "\n",
      "-----------------------------------------------------------------------------------------------------------\n",
      "\n",
      "Model: \"sequential_5\"\n",
      "_________________________________________________________________\n",
      "Layer (type)                 Output Shape              Param #   \n",
      "=================================================================\n",
      "lstm_5 (LSTM)                (None, 64)                17920     \n",
      "_________________________________________________________________\n",
      "dense_10 (Dense)             (None, 8)                 520       \n",
      "_________________________________________________________________\n",
      "dense_11 (Dense)             (None, 1)                 9         \n",
      "=================================================================\n",
      "Total params: 18,449\n",
      "Trainable params: 18,449\n",
      "Non-trainable params: 0\n",
      "_________________________________________________________________\n",
      "Epoch 1/25\n",
      "2891/2891 [==============================] - 25s 8ms/step - loss: 1596851.2500 - mean_absolute_error: 654.9516 - val_loss: 262329.8438 - val_mean_absolute_error: 434.3035\n",
      "INFO:tensorflow:Assets written to: 1H_ForecastModel_10_SizeWindow\\assets\n"
     ]
    },
    {
     "name": "stderr",
     "output_type": "stream",
     "text": [
      "INFO:tensorflow:Assets written to: 1H_ForecastModel_10_SizeWindow\\assets\n"
     ]
    },
    {
     "name": "stdout",
     "output_type": "stream",
     "text": [
      "Epoch 2/25\n",
      "2891/2891 [==============================] - 21s 7ms/step - loss: 1480777.0000 - mean_absolute_error: 588.4512 - val_loss: 179959.5156 - val_mean_absolute_error: 337.9164\n",
      "INFO:tensorflow:Assets written to: 1H_ForecastModel_10_SizeWindow\\assets\n"
     ]
    },
    {
     "name": "stderr",
     "output_type": "stream",
     "text": [
      "INFO:tensorflow:Assets written to: 1H_ForecastModel_10_SizeWindow\\assets\n"
     ]
    },
    {
     "name": "stdout",
     "output_type": "stream",
     "text": [
      "Epoch 3/25\n",
      "2891/2891 [==============================] - 21s 7ms/step - loss: 1346371.7500 - mean_absolute_error: 520.4252 - val_loss: 102879.9922 - val_mean_absolute_error: 232.3051\n",
      "INFO:tensorflow:Assets written to: 1H_ForecastModel_10_SizeWindow\\assets\n"
     ]
    },
    {
     "name": "stderr",
     "output_type": "stream",
     "text": [
      "INFO:tensorflow:Assets written to: 1H_ForecastModel_10_SizeWindow\\assets\n"
     ]
    },
    {
     "name": "stdout",
     "output_type": "stream",
     "text": [
      "Epoch 4/25\n",
      "2891/2891 [==============================] - 21s 7ms/step - loss: 1202169.0000 - mean_absolute_error: 459.5034 - val_loss: 48348.0430 - val_mean_absolute_error: 140.6938\n",
      "INFO:tensorflow:Assets written to: 1H_ForecastModel_10_SizeWindow\\assets\n"
     ]
    },
    {
     "name": "stderr",
     "output_type": "stream",
     "text": [
      "INFO:tensorflow:Assets written to: 1H_ForecastModel_10_SizeWindow\\assets\n"
     ]
    },
    {
     "name": "stdout",
     "output_type": "stream",
     "text": [
      "Epoch 5/25\n",
      "2891/2891 [==============================] - 21s 7ms/step - loss: 1054709.6250 - mean_absolute_error: 411.8225 - val_loss: 20731.9844 - val_mean_absolute_error: 78.7167\n",
      "INFO:tensorflow:Assets written to: 1H_ForecastModel_10_SizeWindow\\assets\n"
     ]
    },
    {
     "name": "stderr",
     "output_type": "stream",
     "text": [
      "INFO:tensorflow:Assets written to: 1H_ForecastModel_10_SizeWindow\\assets\n"
     ]
    },
    {
     "name": "stdout",
     "output_type": "stream",
     "text": [
      "Epoch 6/25\n",
      "2891/2891 [==============================] - 22s 7ms/step - loss: 906326.1250 - mean_absolute_error: 374.2618 - val_loss: 12467.0869 - val_mean_absolute_error: 58.8911\n",
      "INFO:tensorflow:Assets written to: 1H_ForecastModel_10_SizeWindow\\assets\n"
     ]
    },
    {
     "name": "stderr",
     "output_type": "stream",
     "text": [
      "INFO:tensorflow:Assets written to: 1H_ForecastModel_10_SizeWindow\\assets\n"
     ]
    },
    {
     "name": "stdout",
     "output_type": "stream",
     "text": [
      "Epoch 7/25\n",
      "2891/2891 [==============================] - 22s 8ms/step - loss: 758055.8750 - mean_absolute_error: 341.4877 - val_loss: 10176.4824 - val_mean_absolute_error: 56.7711\n",
      "INFO:tensorflow:Assets written to: 1H_ForecastModel_10_SizeWindow\\assets\n"
     ]
    },
    {
     "name": "stderr",
     "output_type": "stream",
     "text": [
      "INFO:tensorflow:Assets written to: 1H_ForecastModel_10_SizeWindow\\assets\n"
     ]
    },
    {
     "name": "stdout",
     "output_type": "stream",
     "text": [
      "Epoch 8/25\n",
      "2891/2891 [==============================] - 21s 7ms/step - loss: 613744.8125 - mean_absolute_error: 309.9108 - val_loss: 9359.4814 - val_mean_absolute_error: 54.7657\n",
      "INFO:tensorflow:Assets written to: 1H_ForecastModel_10_SizeWindow\\assets\n"
     ]
    },
    {
     "name": "stderr",
     "output_type": "stream",
     "text": [
      "INFO:tensorflow:Assets written to: 1H_ForecastModel_10_SizeWindow\\assets\n"
     ]
    },
    {
     "name": "stdout",
     "output_type": "stream",
     "text": [
      "Epoch 9/25\n",
      "2891/2891 [==============================] - 21s 7ms/step - loss: 475208.6562 - mean_absolute_error: 277.5001 - val_loss: 9396.6484 - val_mean_absolute_error: 55.8220\n",
      "Epoch 10/25\n",
      "2891/2891 [==============================] - 21s 7ms/step - loss: 349199.4375 - mean_absolute_error: 244.6820 - val_loss: 9733.6641 - val_mean_absolute_error: 56.0422\n",
      "Epoch 11/25\n",
      "2891/2891 [==============================] - 21s 7ms/step - loss: 238980.2656 - mean_absolute_error: 210.0507 - val_loss: 9618.9805 - val_mean_absolute_error: 58.3258\n",
      "Epoch 12/25\n",
      "2891/2891 [==============================] - 21s 7ms/step - loss: 149171.8906 - mean_absolute_error: 173.7636 - val_loss: 9970.7764 - val_mean_absolute_error: 57.3119\n",
      "Epoch 13/25\n",
      "2891/2891 [==============================] - 22s 8ms/step - loss: 85311.0234 - mean_absolute_error: 138.2629 - val_loss: 10377.4268 - val_mean_absolute_error: 61.8680\n",
      "Epoch 14/25\n",
      "2891/2891 [==============================] - 21s 7ms/step - loss: 49125.7695 - mean_absolute_error: 105.0670 - val_loss: 9946.5098 - val_mean_absolute_error: 57.7791\n",
      "Epoch 15/25\n",
      "2891/2891 [==============================] - 21s 7ms/step - loss: 37851.1484 - mean_absolute_error: 85.2590 - val_loss: 10584.0869 - val_mean_absolute_error: 64.1345\n",
      "Epoch 16/25\n",
      "2891/2891 [==============================] - 21s 7ms/step - loss: 35063.7539 - mean_absolute_error: 74.4702 - val_loss: 12790.7910 - val_mean_absolute_error: 75.2425\n",
      "Epoch 17/25\n",
      "2891/2891 [==============================] - 21s 7ms/step - loss: 35517.7930 - mean_absolute_error: 77.3471 - val_loss: 10591.3350 - val_mean_absolute_error: 63.1751\n",
      "Epoch 18/25\n",
      "2891/2891 [==============================] - 21s 7ms/step - loss: 35161.7188 - mean_absolute_error: 74.9900 - val_loss: 11116.5791 - val_mean_absolute_error: 66.5936\n",
      "Epoch 19/25\n",
      "2891/2891 [==============================] - 21s 7ms/step - loss: 34670.1367 - mean_absolute_error: 72.0362 - val_loss: 9726.5332 - val_mean_absolute_error: 57.6124\n",
      "Epoch 20/25\n",
      "2891/2891 [==============================] - 21s 7ms/step - loss: 34970.4141 - mean_absolute_error: 75.5295 - val_loss: 10689.9375 - val_mean_absolute_error: 64.1652\n",
      "Epoch 21/25\n",
      "2891/2891 [==============================] - 22s 7ms/step - loss: 34040.0508 - mean_absolute_error: 69.3394 - val_loss: 9731.9941 - val_mean_absolute_error: 58.6885\n",
      "Epoch 22/25\n",
      "2891/2891 [==============================] - 21s 7ms/step - loss: 33809.5820 - mean_absolute_error: 69.4226 - val_loss: 9725.1396 - val_mean_absolute_error: 56.4492\n",
      "Epoch 23/25\n",
      "2891/2891 [==============================] - 21s 7ms/step - loss: 33698.8281 - mean_absolute_error: 69.4507 - val_loss: 10569.1670 - val_mean_absolute_error: 64.5666\n",
      "Epoch 24/25\n",
      "2891/2891 [==============================] - 21s 7ms/step - loss: 33735.1328 - mean_absolute_error: 70.5884 - val_loss: 10090.9482 - val_mean_absolute_error: 59.7433\n",
      "Epoch 25/25\n",
      "2891/2891 [==============================] - 21s 7ms/step - loss: 33983.4375 - mean_absolute_error: 70.5474 - val_loss: 10639.1709 - val_mean_absolute_error: 63.3764\n",
      "\n",
      "-----------------------------------------------------------------------------------------------------------\n",
      "\n",
      "Model: \"sequential_6\"\n",
      "_________________________________________________________________\n",
      "Layer (type)                 Output Shape              Param #   \n",
      "=================================================================\n",
      "lstm_6 (LSTM)                (None, 64)                17920     \n",
      "_________________________________________________________________\n",
      "dense_12 (Dense)             (None, 8)                 520       \n",
      "_________________________________________________________________\n",
      "dense_13 (Dense)             (None, 1)                 9         \n",
      "=================================================================\n",
      "Total params: 18,449\n",
      "Trainable params: 18,449\n",
      "Non-trainable params: 0\n",
      "_________________________________________________________________\n",
      "Epoch 1/25\n",
      "2891/2891 [==============================] - 25s 8ms/step - loss: 1583032.5000 - mean_absolute_error: 645.3110 - val_loss: 236016.8594 - val_mean_absolute_error: 404.9613\n",
      "INFO:tensorflow:Assets written to: 1H_ForecastModel_11_SizeWindow\\assets\n"
     ]
    },
    {
     "name": "stderr",
     "output_type": "stream",
     "text": [
      "INFO:tensorflow:Assets written to: 1H_ForecastModel_11_SizeWindow\\assets\n"
     ]
    },
    {
     "name": "stdout",
     "output_type": "stream",
     "text": [
      "Epoch 2/25\n",
      "2891/2891 [==============================] - 23s 8ms/step - loss: 1417568.1250 - mean_absolute_error: 555.1193 - val_loss: 130521.9531 - val_mean_absolute_error: 272.6776\n",
      "INFO:tensorflow:Assets written to: 1H_ForecastModel_11_SizeWindow\\assets\n"
     ]
    },
    {
     "name": "stderr",
     "output_type": "stream",
     "text": [
      "INFO:tensorflow:Assets written to: 1H_ForecastModel_11_SizeWindow\\assets\n"
     ]
    },
    {
     "name": "stdout",
     "output_type": "stream",
     "text": [
      "Epoch 3/25\n",
      "2891/2891 [==============================] - 46s 16ms/step - loss: 1239560.7500 - mean_absolute_error: 474.5408 - val_loss: 53555.3906 - val_mean_absolute_error: 149.5716\n",
      "INFO:tensorflow:Assets written to: 1H_ForecastModel_11_SizeWindow\\assets\n"
     ]
    },
    {
     "name": "stderr",
     "output_type": "stream",
     "text": [
      "INFO:tensorflow:Assets written to: 1H_ForecastModel_11_SizeWindow\\assets\n"
     ]
    },
    {
     "name": "stdout",
     "output_type": "stream",
     "text": [
      "Epoch 4/25\n",
      "2891/2891 [==============================] - 33s 12ms/step - loss: 1052327.3750 - mean_absolute_error: 412.2595 - val_loss: 18652.3809 - val_mean_absolute_error: 74.1042\n",
      "INFO:tensorflow:Assets written to: 1H_ForecastModel_11_SizeWindow\\assets\n"
     ]
    },
    {
     "name": "stderr",
     "output_type": "stream",
     "text": [
      "INFO:tensorflow:Assets written to: 1H_ForecastModel_11_SizeWindow\\assets\n"
     ]
    },
    {
     "name": "stdout",
     "output_type": "stream",
     "text": [
      "Epoch 5/25\n",
      "2891/2891 [==============================] - 36s 12ms/step - loss: 864574.8750 - mean_absolute_error: 365.9839 - val_loss: 11556.7041 - val_mean_absolute_error: 58.5713\n",
      "INFO:tensorflow:Assets written to: 1H_ForecastModel_11_SizeWindow\\assets\n"
     ]
    },
    {
     "name": "stderr",
     "output_type": "stream",
     "text": [
      "INFO:tensorflow:Assets written to: 1H_ForecastModel_11_SizeWindow\\assets\n"
     ]
    },
    {
     "name": "stdout",
     "output_type": "stream",
     "text": [
      "Epoch 6/25\n",
      "2891/2891 [==============================] - 35s 12ms/step - loss: 679204.0000 - mean_absolute_error: 325.0820 - val_loss: 9821.4775 - val_mean_absolute_error: 56.0045\n",
      "INFO:tensorflow:Assets written to: 1H_ForecastModel_11_SizeWindow\\assets\n"
     ]
    },
    {
     "name": "stderr",
     "output_type": "stream",
     "text": [
      "INFO:tensorflow:Assets written to: 1H_ForecastModel_11_SizeWindow\\assets\n"
     ]
    },
    {
     "name": "stdout",
     "output_type": "stream",
     "text": [
      "Epoch 7/25\n",
      "2891/2891 [==============================] - 33s 11ms/step - loss: 503708.5000 - mean_absolute_error: 285.9651 - val_loss: 9461.4121 - val_mean_absolute_error: 55.7568\n",
      "INFO:tensorflow:Assets written to: 1H_ForecastModel_11_SizeWindow\\assets\n"
     ]
    },
    {
     "name": "stderr",
     "output_type": "stream",
     "text": [
      "INFO:tensorflow:Assets written to: 1H_ForecastModel_11_SizeWindow\\assets\n"
     ]
    },
    {
     "name": "stdout",
     "output_type": "stream",
     "text": [
      "Epoch 8/25\n",
      "2891/2891 [==============================] - 39s 14ms/step - loss: 345115.5625 - mean_absolute_error: 244.4538 - val_loss: 9669.6084 - val_mean_absolute_error: 58.4129\n",
      "Epoch 9/25\n",
      "2891/2891 [==============================] - 36s 12ms/step - loss: 212712.8281 - mean_absolute_error: 201.6428 - val_loss: 10186.7578 - val_mean_absolute_error: 59.8233\n",
      "Epoch 10/25\n",
      "2891/2891 [==============================] - 35s 12ms/step - loss: 114211.0781 - mean_absolute_error: 156.4800 - val_loss: 10000.5244 - val_mean_absolute_error: 58.3538\n",
      "Epoch 11/25\n",
      "2891/2891 [==============================] - 38s 13ms/step - loss: 56481.0703 - mean_absolute_error: 112.6307 - val_loss: 9525.1074 - val_mean_absolute_error: 56.6982\n",
      "Epoch 12/25\n",
      "2891/2891 [==============================] - 40s 14ms/step - loss: 37123.6406 - mean_absolute_error: 81.4014 - val_loss: 9519.4512 - val_mean_absolute_error: 56.6126\n",
      "Epoch 13/25\n",
      "2891/2891 [==============================] - 39s 14ms/step - loss: 34948.6680 - mean_absolute_error: 72.9042 - val_loss: 10621.1172 - val_mean_absolute_error: 61.3512\n",
      "Epoch 14/25\n",
      "2891/2891 [==============================] - 37s 13ms/step - loss: 35452.9375 - mean_absolute_error: 73.9538 - val_loss: 9864.5312 - val_mean_absolute_error: 57.6061\n",
      "Epoch 15/25\n",
      "2891/2891 [==============================] - 37s 13ms/step - loss: 34728.2578 - mean_absolute_error: 72.0134 - val_loss: 9952.9678 - val_mean_absolute_error: 57.6376\n",
      "Epoch 16/25\n",
      "2891/2891 [==============================] - 38s 13ms/step - loss: 34146.4727 - mean_absolute_error: 68.1273 - val_loss: 10006.8584 - val_mean_absolute_error: 57.7124\n",
      "Epoch 17/25\n",
      "2891/2891 [==============================] - 36s 13ms/step - loss: 33906.6797 - mean_absolute_error: 67.6651 - val_loss: 10120.5908 - val_mean_absolute_error: 60.8542\n",
      "Epoch 18/25\n",
      "2891/2891 [==============================] - 37s 13ms/step - loss: 33627.2422 - mean_absolute_error: 67.3279 - val_loss: 9594.0596 - val_mean_absolute_error: 56.0370\n",
      "Epoch 19/25\n",
      "2891/2891 [==============================] - 36s 12ms/step - loss: 33592.6602 - mean_absolute_error: 67.1641 - val_loss: 10079.1260 - val_mean_absolute_error: 59.0222\n",
      "Epoch 20/25\n",
      "2891/2891 [==============================] - 37s 13ms/step - loss: 33472.3477 - mean_absolute_error: 67.8997 - val_loss: 10471.8330 - val_mean_absolute_error: 59.6872\n",
      "Epoch 21/25\n",
      "2891/2891 [==============================] - 36s 12ms/step - loss: 33390.1523 - mean_absolute_error: 66.9593 - val_loss: 10170.0986 - val_mean_absolute_error: 59.9951\n",
      "Epoch 22/25\n",
      "2891/2891 [==============================] - 36s 12ms/step - loss: 33119.4883 - mean_absolute_error: 66.1994 - val_loss: 10470.2109 - val_mean_absolute_error: 61.8957\n",
      "Epoch 23/25\n",
      "2891/2891 [==============================] - 37s 13ms/step - loss: 33062.7031 - mean_absolute_error: 66.4470 - val_loss: 9269.0117 - val_mean_absolute_error: 55.9602\n",
      "INFO:tensorflow:Assets written to: 1H_ForecastModel_11_SizeWindow\\assets\n"
     ]
    },
    {
     "name": "stderr",
     "output_type": "stream",
     "text": [
      "INFO:tensorflow:Assets written to: 1H_ForecastModel_11_SizeWindow\\assets\n"
     ]
    },
    {
     "name": "stdout",
     "output_type": "stream",
     "text": [
      "Epoch 24/25\n",
      "2891/2891 [==============================] - 33s 11ms/step - loss: 32812.5391 - mean_absolute_error: 66.3333 - val_loss: 9747.1602 - val_mean_absolute_error: 57.2754\n",
      "Epoch 25/25\n",
      "2891/2891 [==============================] - 32s 11ms/step - loss: 32626.1777 - mean_absolute_error: 66.2548 - val_loss: 9930.5723 - val_mean_absolute_error: 58.2472\n",
      "\n",
      "-----------------------------------------------------------------------------------------------------------\n",
      "\n",
      "Model: \"sequential_7\"\n",
      "_________________________________________________________________\n",
      "Layer (type)                 Output Shape              Param #   \n",
      "=================================================================\n",
      "lstm_7 (LSTM)                (None, 64)                17920     \n",
      "_________________________________________________________________\n",
      "dense_14 (Dense)             (None, 8)                 520       \n",
      "_________________________________________________________________\n",
      "dense_15 (Dense)             (None, 1)                 9         \n",
      "=================================================================\n",
      "Total params: 18,449\n",
      "Trainable params: 18,449\n",
      "Non-trainable params: 0\n",
      "_________________________________________________________________\n",
      "Epoch 1/25\n",
      "2891/2891 [==============================] - 40s 12ms/step - loss: 1615991.5000 - mean_absolute_error: 666.6830 - val_loss: 286756.2188 - val_mean_absolute_error: 460.7466\n",
      "INFO:tensorflow:Assets written to: 1H_ForecastModel_12_SizeWindow\\assets\n"
     ]
    },
    {
     "name": "stderr",
     "output_type": "stream",
     "text": [
      "INFO:tensorflow:Assets written to: 1H_ForecastModel_12_SizeWindow\\assets\n"
     ]
    },
    {
     "name": "stdout",
     "output_type": "stream",
     "text": [
      "Epoch 2/25\n",
      "2891/2891 [==============================] - 33s 12ms/step - loss: 1521961.1250 - mean_absolute_error: 610.8134 - val_loss: 210674.4688 - val_mean_absolute_error: 375.5247\n",
      "INFO:tensorflow:Assets written to: 1H_ForecastModel_12_SizeWindow\\assets\n"
     ]
    },
    {
     "name": "stderr",
     "output_type": "stream",
     "text": [
      "INFO:tensorflow:Assets written to: 1H_ForecastModel_12_SizeWindow\\assets\n"
     ]
    },
    {
     "name": "stdout",
     "output_type": "stream",
     "text": [
      "Epoch 3/25\n",
      "2891/2891 [==============================] - 34s 12ms/step - loss: 1402022.5000 - mean_absolute_error: 546.7828 - val_loss: 134620.6562 - val_mean_absolute_error: 278.7640\n",
      "INFO:tensorflow:Assets written to: 1H_ForecastModel_12_SizeWindow\\assets\n"
     ]
    },
    {
     "name": "stderr",
     "output_type": "stream",
     "text": [
      "INFO:tensorflow:Assets written to: 1H_ForecastModel_12_SizeWindow\\assets\n"
     ]
    },
    {
     "name": "stdout",
     "output_type": "stream",
     "text": [
      "Epoch 4/25\n",
      "2891/2891 [==============================] - 37s 13ms/step - loss: 1267778.3750 - mean_absolute_error: 484.6226 - val_loss: 70428.6562 - val_mean_absolute_error: 180.1113\n",
      "INFO:tensorflow:Assets written to: 1H_ForecastModel_12_SizeWindow\\assets\n"
     ]
    },
    {
     "name": "stderr",
     "output_type": "stream",
     "text": [
      "INFO:tensorflow:Assets written to: 1H_ForecastModel_12_SizeWindow\\assets\n"
     ]
    },
    {
     "name": "stdout",
     "output_type": "stream",
     "text": [
      "Epoch 5/25\n",
      "2891/2891 [==============================] - 41s 14ms/step - loss: 1126218.6250 - mean_absolute_error: 432.7592 - val_loss: 31385.0820 - val_mean_absolute_error: 105.3829\n",
      "INFO:tensorflow:Assets written to: 1H_ForecastModel_12_SizeWindow\\assets\n"
     ]
    },
    {
     "name": "stderr",
     "output_type": "stream",
     "text": [
      "INFO:tensorflow:Assets written to: 1H_ForecastModel_12_SizeWindow\\assets\n"
     ]
    },
    {
     "name": "stdout",
     "output_type": "stream",
     "text": [
      "Epoch 6/25\n",
      "2891/2891 [==============================] - 34s 12ms/step - loss: 983901.4375 - mean_absolute_error: 392.7432 - val_loss: 15493.4629 - val_mean_absolute_error: 65.6564\n",
      "INFO:tensorflow:Assets written to: 1H_ForecastModel_12_SizeWindow\\assets\n"
     ]
    },
    {
     "name": "stderr",
     "output_type": "stream",
     "text": [
      "INFO:tensorflow:Assets written to: 1H_ForecastModel_12_SizeWindow\\assets\n"
     ]
    },
    {
     "name": "stdout",
     "output_type": "stream",
     "text": [
      "Epoch 7/25\n",
      "2891/2891 [==============================] - 32s 11ms/step - loss: 839391.0625 - mean_absolute_error: 359.1821 - val_loss: 11197.4590 - val_mean_absolute_error: 57.2857\n",
      "INFO:tensorflow:Assets written to: 1H_ForecastModel_12_SizeWindow\\assets\n"
     ]
    },
    {
     "name": "stderr",
     "output_type": "stream",
     "text": [
      "INFO:tensorflow:Assets written to: 1H_ForecastModel_12_SizeWindow\\assets\n"
     ]
    },
    {
     "name": "stdout",
     "output_type": "stream",
     "text": [
      "Epoch 8/25\n",
      "2891/2891 [==============================] - 33s 11ms/step - loss: 695834.3750 - mean_absolute_error: 327.9836 - val_loss: 9568.5947 - val_mean_absolute_error: 54.1016\n",
      "INFO:tensorflow:Assets written to: 1H_ForecastModel_12_SizeWindow\\assets\n"
     ]
    },
    {
     "name": "stderr",
     "output_type": "stream",
     "text": [
      "INFO:tensorflow:Assets written to: 1H_ForecastModel_12_SizeWindow\\assets\n"
     ]
    },
    {
     "name": "stdout",
     "output_type": "stream",
     "text": [
      "Epoch 9/25\n",
      "2891/2891 [==============================] - 32s 11ms/step - loss: 558257.6875 - mean_absolute_error: 297.2937 - val_loss: 9201.3057 - val_mean_absolute_error: 52.8505\n",
      "INFO:tensorflow:Assets written to: 1H_ForecastModel_12_SizeWindow\\assets\n"
     ]
    },
    {
     "name": "stderr",
     "output_type": "stream",
     "text": [
      "INFO:tensorflow:Assets written to: 1H_ForecastModel_12_SizeWindow\\assets\n"
     ]
    },
    {
     "name": "stdout",
     "output_type": "stream",
     "text": [
      "Epoch 10/25\n",
      "2891/2891 [==============================] - 32s 11ms/step - loss: 429257.2812 - mean_absolute_error: 266.0765 - val_loss: 9694.0264 - val_mean_absolute_error: 57.3450\n",
      "Epoch 11/25\n",
      "2891/2891 [==============================] - 32s 11ms/step - loss: 310083.7188 - mean_absolute_error: 233.3801 - val_loss: 9370.4570 - val_mean_absolute_error: 54.5797\n",
      "Epoch 12/25\n",
      "2891/2891 [==============================] - 33s 11ms/step - loss: 208271.3125 - mean_absolute_error: 199.0394 - val_loss: 9597.1230 - val_mean_absolute_error: 55.9990\n",
      "Epoch 13/25\n",
      "2891/2891 [==============================] - 33s 12ms/step - loss: 127547.3750 - mean_absolute_error: 163.4388 - val_loss: 9685.8809 - val_mean_absolute_error: 57.0105\n",
      "Epoch 14/25\n",
      "2891/2891 [==============================] - 34s 12ms/step - loss: 71392.4609 - mean_absolute_error: 127.9477 - val_loss: 9710.6816 - val_mean_absolute_error: 55.9600\n",
      "Epoch 15/25\n",
      "2891/2891 [==============================] - 34s 12ms/step - loss: 43694.0234 - mean_absolute_error: 97.3140 - val_loss: 9692.3857 - val_mean_absolute_error: 56.7839\n",
      "Epoch 16/25\n",
      "2891/2891 [==============================] - 34s 12ms/step - loss: 36555.6016 - mean_absolute_error: 81.7595 - val_loss: 9977.9980 - val_mean_absolute_error: 59.9472\n",
      "Epoch 17/25\n",
      "2891/2891 [==============================] - 34s 12ms/step - loss: 35363.5586 - mean_absolute_error: 78.0797 - val_loss: 9764.3535 - val_mean_absolute_error: 57.4370\n",
      "Epoch 18/25\n",
      "2891/2891 [==============================] - 34s 12ms/step - loss: 35061.2031 - mean_absolute_error: 76.5122 - val_loss: 9740.2021 - val_mean_absolute_error: 58.8415\n",
      "Epoch 19/25\n",
      "2891/2891 [==============================] - 35s 12ms/step - loss: 34731.6523 - mean_absolute_error: 75.0127 - val_loss: 10029.8398 - val_mean_absolute_error: 58.4090\n",
      "Epoch 20/25\n",
      "2891/2891 [==============================] - 35s 12ms/step - loss: 34496.3477 - mean_absolute_error: 75.1095 - val_loss: 9846.6367 - val_mean_absolute_error: 58.8735\n",
      "Epoch 21/25\n",
      "2891/2891 [==============================] - 35s 12ms/step - loss: 34190.0781 - mean_absolute_error: 72.2892 - val_loss: 9533.4248 - val_mean_absolute_error: 58.0778\n",
      "Epoch 22/25\n",
      "2891/2891 [==============================] - 34s 12ms/step - loss: 34057.6992 - mean_absolute_error: 70.8015 - val_loss: 9900.7607 - val_mean_absolute_error: 58.8651\n",
      "Epoch 23/25\n",
      "2891/2891 [==============================] - 35s 12ms/step - loss: 33988.3984 - mean_absolute_error: 70.8739 - val_loss: 9886.4463 - val_mean_absolute_error: 59.1516\n",
      "Epoch 24/25\n",
      "2891/2891 [==============================] - 34s 12ms/step - loss: 34208.2656 - mean_absolute_error: 71.9040 - val_loss: 10623.9482 - val_mean_absolute_error: 63.4568\n",
      "Epoch 25/25\n",
      "2891/2891 [==============================] - 37s 13ms/step - loss: 34004.5430 - mean_absolute_error: 71.4428 - val_loss: 10254.0732 - val_mean_absolute_error: 60.3690\n",
      "\n",
      "-----------------------------------------------------------------------------------------------------------\n",
      "\n",
      "CPU times: total: 7h 42min 27s\n",
      "Wall time: 2h 42min 57s\n"
     ]
    }
   ],
   "source": [
    "%%time\n",
    "\n",
    "Trainer(1)"
   ]
  },
  {
   "cell_type": "code",
   "execution_count": 14,
   "id": "c0ea463c",
   "metadata": {},
   "outputs": [
    {
     "name": "stdout",
     "output_type": "stream",
     "text": [
      "Loading: 1H_ForecastModel_6_SizeWindow/\n",
      "629/629 [==============================] - 3s 4ms/step - loss: 77601.9375 - mean_absolute_error: 94.4594: 1s - loss: 102443.398\n",
      "\n",
      "\n",
      "Loading: 1H_ForecastModel_7_SizeWindow/\n",
      "629/629 [==============================] - 3s 3ms/step - loss: 29791.5723 - mean_absolute_error: 60.1653\n",
      "\n",
      "\n",
      "Loading: 1H_ForecastModel_8_SizeWindow/\n",
      "629/629 [==============================] - 3s 4ms/step - loss: 144224.2969 - mean_absolute_error: 112.1978\n",
      "\n",
      "\n",
      "Loading: 1H_ForecastModel_9_SizeWindow/\n",
      "629/629 [==============================] - 4s 5ms/step - loss: 150777.8594 - mean_absolute_error: 116.7944\n",
      "\n",
      "\n",
      "Loading: 1H_ForecastModel_10_SizeWindow/\n",
      "629/629 [==============================] - 5s 6ms/step - loss: 153577.8750 - mean_absolute_error: 113.87691s - loss: 73756.0625 - mean\n",
      "\n",
      "\n",
      "Loading: 1H_ForecastModel_11_SizeWindow/\n",
      "629/629 [==============================] - 4s 5ms/step - loss: 29988.4473 - mean_absolute_error: 65.1821\n",
      "\n",
      "\n",
      "Loading: 1H_ForecastModel_12_SizeWindow/\n",
      "629/629 [==============================] - 4s 5ms/step - loss: 140883.2812 - mean_absolute_error: 109.6976\n",
      "\n",
      "\n",
      "CPU times: total: 5min 46s\n",
      "Wall time: 3min 33s\n"
     ]
    }
   ],
   "source": [
    "%%time\n",
    "\n",
    "modelsEvaluator(1,6,12,False)"
   ]
  },
  {
   "cell_type": "markdown",
   "id": "0c0a2abd",
   "metadata": {},
   "source": [
    " <h3> <font color='orange'> 2 hour forecasting model training </font> <h3/> "
   ]
  },
  {
   "cell_type": "code",
   "execution_count": 4,
   "id": "ee945a5b",
   "metadata": {},
   "outputs": [
    {
     "name": "stdout",
     "output_type": "stream",
     "text": [
      "Model: \"sequential\"\n",
      "_________________________________________________________________\n",
      "Layer (type)                 Output Shape              Param #   \n",
      "=================================================================\n",
      "lstm (LSTM)                  (None, 64)                17920     \n",
      "_________________________________________________________________\n",
      "dense (Dense)                (None, 8)                 520       \n",
      "_________________________________________________________________\n",
      "dense_1 (Dense)              (None, 1)                 9         \n",
      "=================================================================\n",
      "Total params: 18,449\n",
      "Trainable params: 18,449\n",
      "Non-trainable params: 0\n",
      "_________________________________________________________________\n",
      "Epoch 1/25\n",
      "2891/2891 [==============================] - 25s 8ms/step - loss: 1614759.1250 - mean_absolute_error: 666.7573 - val_loss: 289879.4375 - val_mean_absolute_error: 464.2599\n",
      "INFO:tensorflow:Assets written to: 2H_ForecastModel_6_SizeWindow\\assets\n"
     ]
    },
    {
     "name": "stderr",
     "output_type": "stream",
     "text": [
      "INFO:tensorflow:Assets written to: 2H_ForecastModel_6_SizeWindow\\assets\n"
     ]
    },
    {
     "name": "stdout",
     "output_type": "stream",
     "text": [
      "Epoch 2/25\n",
      "2891/2891 [==============================] - 21s 7ms/step - loss: 1537036.5000 - mean_absolute_error: 621.5223 - val_loss: 228113.6562 - val_mean_absolute_error: 396.4884\n",
      "INFO:tensorflow:Assets written to: 2H_ForecastModel_6_SizeWindow\\assets\n"
     ]
    },
    {
     "name": "stderr",
     "output_type": "stream",
     "text": [
      "INFO:tensorflow:Assets written to: 2H_ForecastModel_6_SizeWindow\\assets\n"
     ]
    },
    {
     "name": "stdout",
     "output_type": "stream",
     "text": [
      "Epoch 3/25\n",
      "2891/2891 [==============================] - 17s 6ms/step - loss: 1441971.3750 - mean_absolute_error: 571.2273 - val_loss: 163543.9531 - val_mean_absolute_error: 318.8539\n",
      "INFO:tensorflow:Assets written to: 2H_ForecastModel_6_SizeWindow\\assets\n"
     ]
    },
    {
     "name": "stderr",
     "output_type": "stream",
     "text": [
      "INFO:tensorflow:Assets written to: 2H_ForecastModel_6_SizeWindow\\assets\n"
     ]
    },
    {
     "name": "stdout",
     "output_type": "stream",
     "text": [
      "Epoch 4/25\n",
      "2891/2891 [==============================] - 19s 7ms/step - loss: 1336230.1250 - mean_absolute_error: 521.8998 - val_loss: 105343.7969 - val_mean_absolute_error: 239.7804\n",
      "INFO:tensorflow:Assets written to: 2H_ForecastModel_6_SizeWindow\\assets\n"
     ]
    },
    {
     "name": "stderr",
     "output_type": "stream",
     "text": [
      "INFO:tensorflow:Assets written to: 2H_ForecastModel_6_SizeWindow\\assets\n"
     ]
    },
    {
     "name": "stdout",
     "output_type": "stream",
     "text": [
      "Epoch 5/25\n",
      "2891/2891 [==============================] - 18s 6ms/step - loss: 1224256.7500 - mean_absolute_error: 478.1803 - val_loss: 60842.8203 - val_mean_absolute_error: 168.0081\n",
      "INFO:tensorflow:Assets written to: 2H_ForecastModel_6_SizeWindow\\assets\n"
     ]
    },
    {
     "name": "stderr",
     "output_type": "stream",
     "text": [
      "INFO:tensorflow:Assets written to: 2H_ForecastModel_6_SizeWindow\\assets\n"
     ]
    },
    {
     "name": "stdout",
     "output_type": "stream",
     "text": [
      "Epoch 6/25\n",
      "2891/2891 [==============================] - 23s 8ms/step - loss: 1109785.1250 - mean_absolute_error: 441.9043 - val_loss: 33976.4844 - val_mean_absolute_error: 116.5372\n",
      "INFO:tensorflow:Assets written to: 2H_ForecastModel_6_SizeWindow\\assets\n"
     ]
    },
    {
     "name": "stderr",
     "output_type": "stream",
     "text": [
      "INFO:tensorflow:Assets written to: 2H_ForecastModel_6_SizeWindow\\assets\n"
     ]
    },
    {
     "name": "stdout",
     "output_type": "stream",
     "text": [
      "Epoch 7/25\n",
      "2891/2891 [==============================] - 16s 6ms/step - loss: 992729.6250 - mean_absolute_error: 412.3720 - val_loss: 22632.9844 - val_mean_absolute_error: 89.5348\n",
      "INFO:tensorflow:Assets written to: 2H_ForecastModel_6_SizeWindow\\assets\n"
     ]
    },
    {
     "name": "stderr",
     "output_type": "stream",
     "text": [
      "INFO:tensorflow:Assets written to: 2H_ForecastModel_6_SizeWindow\\assets\n"
     ]
    },
    {
     "name": "stdout",
     "output_type": "stream",
     "text": [
      "Epoch 8/25\n",
      "2891/2891 [==============================] - 18s 6ms/step - loss: 875007.9375 - mean_absolute_error: 386.3388 - val_loss: 19472.1641 - val_mean_absolute_error: 83.5725\n",
      "INFO:tensorflow:Assets written to: 2H_ForecastModel_6_SizeWindow\\assets\n"
     ]
    },
    {
     "name": "stderr",
     "output_type": "stream",
     "text": [
      "INFO:tensorflow:Assets written to: 2H_ForecastModel_6_SizeWindow\\assets\n"
     ]
    },
    {
     "name": "stdout",
     "output_type": "stream",
     "text": [
      "Epoch 9/25\n",
      "2891/2891 [==============================] - 15s 5ms/step - loss: 757479.3125 - mean_absolute_error: 362.6536 - val_loss: 18511.5020 - val_mean_absolute_error: 84.0595loss: 7\n",
      "INFO:tensorflow:Assets written to: 2H_ForecastModel_6_SizeWindow\\assets\n"
     ]
    },
    {
     "name": "stderr",
     "output_type": "stream",
     "text": [
      "INFO:tensorflow:Assets written to: 2H_ForecastModel_6_SizeWindow\\assets\n"
     ]
    },
    {
     "name": "stdout",
     "output_type": "stream",
     "text": [
      "Epoch 10/25\n",
      "2891/2891 [==============================] - 15s 5ms/step - loss: 641685.2500 - mean_absolute_error: 338.5860 - val_loss: 19715.4355 - val_mean_absolute_error: 90.8028\n",
      "Epoch 11/25\n",
      "2891/2891 [==============================] - 20s 7ms/step - loss: 530637.5625 - mean_absolute_error: 314.3402 - val_loss: 19083.1309 - val_mean_absolute_error: 86.8730\n",
      "Epoch 12/25\n",
      "2891/2891 [==============================] - 15s 5ms/step - loss: 426078.9688 - mean_absolute_error: 288.9360 - val_loss: 19452.9746 - val_mean_absolute_error: 86.7288\n",
      "Epoch 13/25\n",
      "2891/2891 [==============================] - 16s 5ms/step - loss: 330110.5625 - mean_absolute_error: 262.3799 - val_loss: 19060.7773 - val_mean_absolute_error: 86.1397\n",
      "Epoch 14/25\n",
      "2891/2891 [==============================] - 18s 6ms/step - loss: 245272.6875 - mean_absolute_error: 234.7582 - val_loss: 19446.6348 - val_mean_absolute_error: 86.4280\n",
      "Epoch 15/25\n",
      "2891/2891 [==============================] - 18s 6ms/step - loss: 174574.3906 - mean_absolute_error: 206.2889 - val_loss: 19444.9883 - val_mean_absolute_error: 86.7955\n",
      "Epoch 16/25\n",
      "2891/2891 [==============================] - 20s 7ms/step - loss: 120662.3516 - mean_absolute_error: 177.5297 - val_loss: 19444.4355 - val_mean_absolute_error: 86.9022\n",
      "Epoch 17/25\n",
      "2891/2891 [==============================] - 19s 7ms/step - loss: 84611.5000 - mean_absolute_error: 150.1841 - val_loss: 21025.3828 - val_mean_absolute_error: 93.6291\n",
      "Epoch 18/25\n",
      "2891/2891 [==============================] - 20s 7ms/step - loss: 66474.0078 - mean_absolute_error: 126.4564 - val_loss: 20688.4609 - val_mean_absolute_error: 93.4317\n",
      "Epoch 19/25\n",
      "2891/2891 [==============================] - 19s 7ms/step - loss: 63601.2266 - mean_absolute_error: 119.8465 - val_loss: 20806.6914 - val_mean_absolute_error: 93.6148\n",
      "Epoch 20/25\n",
      "2891/2891 [==============================] - 18s 6ms/step - loss: 60740.6914 - mean_absolute_error: 110.6327 - val_loss: 20824.1523 - val_mean_absolute_error: 93.3981\n",
      "Epoch 21/25\n",
      "2891/2891 [==============================] - 22s 8ms/step - loss: 60317.5547 - mean_absolute_error: 109.6030 - val_loss: 20359.3086 - val_mean_absolute_error: 91.9323loss: 60340.5273 - mean_absolute_error: 109.61\n",
      "Epoch 22/25\n",
      "2891/2891 [==============================] - 32s 11ms/step - loss: 59916.0703 - mean_absolute_error: 109.3830 - val_loss: 20446.6738 - val_mean_absolute_error: 93.3431\n",
      "Epoch 23/25\n",
      "2891/2891 [==============================] - 18s 6ms/step - loss: 61518.6758 - mean_absolute_error: 114.5908 - val_loss: 21414.7969 - val_mean_absolute_error: 98.1337absolute_error: 11 - \n",
      "Epoch 24/25\n",
      "2891/2891 [==============================] - 18s 6ms/step - loss: 59555.4766 - mean_absolute_error: 107.6432 - val_loss: 20252.5605 - val_mean_absolute_error: 90.9262\n",
      "Epoch 25/25\n",
      "2891/2891 [==============================] - 17s 6ms/step - loss: 58950.8594 - mean_absolute_error: 104.7065 - val_loss: 22050.1367 - val_mean_absolute_error: 97.8264 mean_abs\n",
      "\n",
      "-----------------------------------------------------------------------------------------------------------\n",
      "\n",
      "Model: \"sequential_1\"\n",
      "_________________________________________________________________\n",
      "Layer (type)                 Output Shape              Param #   \n",
      "=================================================================\n",
      "lstm_1 (LSTM)                (None, 64)                17920     \n",
      "_________________________________________________________________\n",
      "dense_2 (Dense)              (None, 8)                 520       \n",
      "_________________________________________________________________\n",
      "dense_3 (Dense)              (None, 1)                 9         \n",
      "=================================================================\n",
      "Total params: 18,449\n",
      "Trainable params: 18,449\n",
      "Non-trainable params: 0\n",
      "_________________________________________________________________\n",
      "Epoch 1/25\n",
      "2891/2891 [==============================] - 25s 8ms/step - loss: 1599048.3750 - mean_absolute_error: 657.4471 - val_loss: 261639.5312 - val_mean_absolute_error: 433.6290\n",
      "INFO:tensorflow:Assets written to: 2H_ForecastModel_8_SizeWindow\\assets\n"
     ]
    },
    {
     "name": "stderr",
     "output_type": "stream",
     "text": [
      "INFO:tensorflow:Assets written to: 2H_ForecastModel_8_SizeWindow\\assets\n"
     ]
    },
    {
     "name": "stdout",
     "output_type": "stream",
     "text": [
      "Epoch 2/25\n",
      "2891/2891 [==============================] - 25s 9ms/step - loss: 1473440.1250 - mean_absolute_error: 587.6243 - val_loss: 171373.6250 - val_mean_absolute_error: 329.0586\n",
      "INFO:tensorflow:Assets written to: 2H_ForecastModel_8_SizeWindow\\assets\n"
     ]
    },
    {
     "name": "stderr",
     "output_type": "stream",
     "text": [
      "INFO:tensorflow:Assets written to: 2H_ForecastModel_8_SizeWindow\\assets\n"
     ]
    },
    {
     "name": "stdout",
     "output_type": "stream",
     "text": [
      "Epoch 3/25\n",
      "2891/2891 [==============================] - 21s 7ms/step - loss: 1328335.1250 - mean_absolute_error: 519.8150 - val_loss: 92847.9453 - val_mean_absolute_error: 221.6968\n",
      "INFO:tensorflow:Assets written to: 2H_ForecastModel_8_SizeWindow\\assets\n"
     ]
    },
    {
     "name": "stderr",
     "output_type": "stream",
     "text": [
      "INFO:tensorflow:Assets written to: 2H_ForecastModel_8_SizeWindow\\assets\n"
     ]
    },
    {
     "name": "stdout",
     "output_type": "stream",
     "text": [
      "Epoch 4/25\n",
      "2891/2891 [==============================] - 26s 9ms/step - loss: 1173698.5000 - mean_absolute_error: 462.6079 - val_loss: 42127.5820 - val_mean_absolute_error: 135.5322\n",
      "INFO:tensorflow:Assets written to: 2H_ForecastModel_8_SizeWindow\\assets\n"
     ]
    },
    {
     "name": "stderr",
     "output_type": "stream",
     "text": [
      "INFO:tensorflow:Assets written to: 2H_ForecastModel_8_SizeWindow\\assets\n"
     ]
    },
    {
     "name": "stdout",
     "output_type": "stream",
     "text": [
      "Epoch 5/25\n",
      "2891/2891 [==============================] - 23s 8ms/step - loss: 1016643.0625 - mean_absolute_error: 419.6761 - val_loss: 23344.1836 - val_mean_absolute_error: 92.8871\n",
      "INFO:tensorflow:Assets written to: 2H_ForecastModel_8_SizeWindow\\assets\n"
     ]
    },
    {
     "name": "stderr",
     "output_type": "stream",
     "text": [
      "INFO:tensorflow:Assets written to: 2H_ForecastModel_8_SizeWindow\\assets\n"
     ]
    },
    {
     "name": "stdout",
     "output_type": "stream",
     "text": [
      "Epoch 6/25\n",
      "2891/2891 [==============================] - 23s 8ms/step - loss: 857279.2500 - mean_absolute_error: 384.7317 - val_loss: 19702.6953 - val_mean_absolute_error: 86.2097\n",
      "INFO:tensorflow:Assets written to: 2H_ForecastModel_8_SizeWindow\\assets\n"
     ]
    },
    {
     "name": "stderr",
     "output_type": "stream",
     "text": [
      "INFO:tensorflow:Assets written to: 2H_ForecastModel_8_SizeWindow\\assets\n"
     ]
    },
    {
     "name": "stdout",
     "output_type": "stream",
     "text": [
      "Epoch 7/25\n",
      "2891/2891 [==============================] - 31s 11ms/step - loss: 700263.5625 - mean_absolute_error: 352.1752 - val_loss: 19023.6699 - val_mean_absolute_error: 83.9109\n",
      "INFO:tensorflow:Assets written to: 2H_ForecastModel_8_SizeWindow\\assets\n"
     ]
    },
    {
     "name": "stderr",
     "output_type": "stream",
     "text": [
      "INFO:tensorflow:Assets written to: 2H_ForecastModel_8_SizeWindow\\assets\n"
     ]
    },
    {
     "name": "stdout",
     "output_type": "stream",
     "text": [
      "Epoch 8/25\n",
      "2891/2891 [==============================] - 26s 9ms/step - loss: 549899.9375 - mean_absolute_error: 319.4894 - val_loss: 19583.9512 - val_mean_absolute_error: 87.0495\n",
      "Epoch 9/25\n",
      "2891/2891 [==============================] - 24s 8ms/step - loss: 410718.1250 - mean_absolute_error: 285.3645 - val_loss: 19206.9980 - val_mean_absolute_error: 84.0099\n",
      "Epoch 10/25\n",
      "2891/2891 [==============================] - 26s 9ms/step - loss: 282249.3125 - mean_absolute_error: 246.8065 - val_loss: 19473.0996 - val_mean_absolute_error: 83.4873\n",
      "Epoch 11/25\n",
      "2891/2891 [==============================] - 25s 9ms/step - loss: 181542.0938 - mean_absolute_error: 208.0924 - val_loss: 20169.5664 - val_mean_absolute_error: 86.1457\n",
      "Epoch 12/25\n",
      "2891/2891 [==============================] - 23s 8ms/step - loss: 111647.0391 - mean_absolute_error: 169.4274 - val_loss: 20143.8379 - val_mean_absolute_error: 86.5349\n",
      "Epoch 13/25\n",
      "2891/2891 [==============================] - 23s 8ms/step - loss: 74999.5234 - mean_absolute_error: 136.1094 - val_loss: 19726.4219 - val_mean_absolute_error: 88.5452\n",
      "Epoch 14/25\n",
      "2891/2891 [==============================] - 23s 8ms/step - loss: 61636.2656 - mean_absolute_error: 110.5893 - val_loss: 19788.2363 - val_mean_absolute_error: 89.1451\n",
      "Epoch 15/25\n",
      "2891/2891 [==============================] - 24s 8ms/step - loss: 60960.0078 - mean_absolute_error: 108.7557 - val_loss: 19750.7480 - val_mean_absolute_error: 88.9529\n",
      "Epoch 16/25\n",
      "2891/2891 [==============================] - 22s 8ms/step - loss: 61263.2656 - mean_absolute_error: 107.4374 - val_loss: 20331.7168 - val_mean_absolute_error: 90.9236\n",
      "Epoch 17/25\n",
      "2891/2891 [==============================] - 23s 8ms/step - loss: 60391.0938 - mean_absolute_error: 105.7197 - val_loss: 19004.7305 - val_mean_absolute_error: 88.8744\n",
      "INFO:tensorflow:Assets written to: 2H_ForecastModel_8_SizeWindow\\assets\n"
     ]
    },
    {
     "name": "stderr",
     "output_type": "stream",
     "text": [
      "INFO:tensorflow:Assets written to: 2H_ForecastModel_8_SizeWindow\\assets\n"
     ]
    },
    {
     "name": "stdout",
     "output_type": "stream",
     "text": [
      "Epoch 18/25\n",
      "2891/2891 [==============================] - 24s 8ms/step - loss: 59471.6367 - mean_absolute_error: 103.0606 - val_loss: 19467.8770 - val_mean_absolute_error: 88.8283\n",
      "Epoch 19/25\n",
      "2891/2891 [==============================] - 24s 8ms/step - loss: 59595.3320 - mean_absolute_error: 106.6118 - val_loss: 20344.6133 - val_mean_absolute_error: 92.8418\n",
      "Epoch 20/25\n",
      "2891/2891 [==============================] - 23s 8ms/step - loss: 60092.6562 - mean_absolute_error: 108.7387 - val_loss: 21462.2871 - val_mean_absolute_error: 97.4726\n",
      "Epoch 21/25\n",
      "2891/2891 [==============================] - 22s 8ms/step - loss: 59323.1367 - mean_absolute_error: 102.9517 - val_loss: 20516.9355 - val_mean_absolute_error: 91.3017\n",
      "Epoch 22/25\n",
      "2891/2891 [==============================] - 21s 7ms/step - loss: 58918.8047 - mean_absolute_error: 104.8016 - val_loss: 21306.3047 - val_mean_absolute_error: 96.8082\n",
      "Epoch 23/25\n",
      "2891/2891 [==============================] - 22s 8ms/step - loss: 58420.5000 - mean_absolute_error: 102.1681 - val_loss: 21473.6035 - val_mean_absolute_error: 97.2696\n",
      "Epoch 24/25\n",
      "2891/2891 [==============================] - 21s 7ms/step - loss: 58003.8086 - mean_absolute_error: 102.6664 - val_loss: 22087.6328 - val_mean_absolute_error: 96.3518\n",
      "Epoch 25/25\n",
      "2891/2891 [==============================] - 22s 8ms/step - loss: 57972.4883 - mean_absolute_error: 104.3700 - val_loss: 21086.0332 - val_mean_absolute_error: 95.1520\n",
      "\n",
      "-----------------------------------------------------------------------------------------------------------\n",
      "\n",
      "Model: \"sequential_2\"\n",
      "_________________________________________________________________\n",
      "Layer (type)                 Output Shape              Param #   \n",
      "=================================================================\n",
      "lstm_2 (LSTM)                (None, 64)                17920     \n",
      "_________________________________________________________________\n",
      "dense_4 (Dense)              (None, 8)                 520       \n",
      "_________________________________________________________________\n",
      "dense_5 (Dense)              (None, 1)                 9         \n",
      "=================================================================\n",
      "Total params: 18,449\n",
      "Trainable params: 18,449\n",
      "Non-trainable params: 0\n",
      "_________________________________________________________________\n",
      "Epoch 1/25\n",
      "2891/2891 [==============================] - 27s 8ms/step - loss: 1618665.5000 - mean_absolute_error: 668.9727 - val_loss: 295270.9062 - val_mean_absolute_error: 469.7929loss: 1626247.8750 - mean_abso - ETA: 2s - loss: 1624715.3750 - mean_absolute_error: 6 - ETA: 1s - loss: 1624531.375\n",
      "INFO:tensorflow:Assets written to: 2H_ForecastModel_10_SizeWindow\\assets\n"
     ]
    },
    {
     "name": "stderr",
     "output_type": "stream",
     "text": [
      "INFO:tensorflow:Assets written to: 2H_ForecastModel_10_SizeWindow\\assets\n"
     ]
    },
    {
     "name": "stdout",
     "output_type": "stream",
     "text": [
      "Epoch 2/25\n",
      "2891/2891 [==============================] - 24s 8ms/step - loss: 1546775.0000 - mean_absolute_error: 626.9493 - val_loss: 235973.5000 - val_mean_absolute_error: 405.2179\n",
      "INFO:tensorflow:Assets written to: 2H_ForecastModel_10_SizeWindow\\assets\n"
     ]
    },
    {
     "name": "stderr",
     "output_type": "stream",
     "text": [
      "INFO:tensorflow:Assets written to: 2H_ForecastModel_10_SizeWindow\\assets\n"
     ]
    },
    {
     "name": "stdout",
     "output_type": "stream",
     "text": [
      "Epoch 3/25\n",
      "2891/2891 [==============================] - 24s 8ms/step - loss: 1453497.0000 - mean_absolute_error: 577.6198 - val_loss: 171592.2031 - val_mean_absolute_error: 329.0777.7500 - mean_absolute_error: \n",
      "INFO:tensorflow:Assets written to: 2H_ForecastModel_10_SizeWindow\\assets\n"
     ]
    },
    {
     "name": "stderr",
     "output_type": "stream",
     "text": [
      "INFO:tensorflow:Assets written to: 2H_ForecastModel_10_SizeWindow\\assets\n"
     ]
    },
    {
     "name": "stdout",
     "output_type": "stream",
     "text": [
      "Epoch 4/25\n",
      "2891/2891 [==============================] - 25s 9ms/step - loss: 1346675.3750 - mean_absolute_error: 527.0914 - val_loss: 110832.3438 - val_mean_absolute_error: 249.0054\n",
      "INFO:tensorflow:Assets written to: 2H_ForecastModel_10_SizeWindow\\assets\n"
     ]
    },
    {
     "name": "stderr",
     "output_type": "stream",
     "text": [
      "INFO:tensorflow:Assets written to: 2H_ForecastModel_10_SizeWindow\\assets\n"
     ]
    },
    {
     "name": "stdout",
     "output_type": "stream",
     "text": [
      "Epoch 5/25\n",
      "2891/2891 [==============================] - 26s 9ms/step - loss: 1233225.7500 - mean_absolute_error: 481.8295 - val_loss: 64221.3008 - val_mean_absolute_error: 176.4253\n",
      "INFO:tensorflow:Assets written to: 2H_ForecastModel_10_SizeWindow\\assets\n"
     ]
    },
    {
     "name": "stderr",
     "output_type": "stream",
     "text": [
      "INFO:tensorflow:Assets written to: 2H_ForecastModel_10_SizeWindow\\assets\n"
     ]
    },
    {
     "name": "stdout",
     "output_type": "stream",
     "text": [
      "Epoch 6/25\n",
      "2891/2891 [==============================] - 23s 8ms/step - loss: 1117175.7500 - mean_absolute_error: 444.1849 - val_loss: 35833.0586 - val_mean_absolute_error: 122.8105\n",
      "INFO:tensorflow:Assets written to: 2H_ForecastModel_10_SizeWindow\\assets\n"
     ]
    },
    {
     "name": "stderr",
     "output_type": "stream",
     "text": [
      "INFO:tensorflow:Assets written to: 2H_ForecastModel_10_SizeWindow\\assets\n"
     ]
    },
    {
     "name": "stdout",
     "output_type": "stream",
     "text": [
      "Epoch 7/25\n",
      "2891/2891 [==============================] - 26s 9ms/step - loss: 1000245.9375 - mean_absolute_error: 414.8907 - val_loss: 24107.8047 - val_mean_absolute_error: 95.8747\n",
      "INFO:tensorflow:Assets written to: 2H_ForecastModel_10_SizeWindow\\assets\n"
     ]
    },
    {
     "name": "stderr",
     "output_type": "stream",
     "text": [
      "INFO:tensorflow:Assets written to: 2H_ForecastModel_10_SizeWindow\\assets\n"
     ]
    },
    {
     "name": "stdout",
     "output_type": "stream",
     "text": [
      "Epoch 8/25\n",
      "2891/2891 [==============================] - 23s 8ms/step - loss: 882614.1250 - mean_absolute_error: 389.0336 - val_loss: 20425.2129 - val_mean_absolute_error: 88.8693\n",
      "INFO:tensorflow:Assets written to: 2H_ForecastModel_10_SizeWindow\\assets\n"
     ]
    },
    {
     "name": "stderr",
     "output_type": "stream",
     "text": [
      "INFO:tensorflow:Assets written to: 2H_ForecastModel_10_SizeWindow\\assets\n"
     ]
    },
    {
     "name": "stdout",
     "output_type": "stream",
     "text": [
      "Epoch 9/25\n",
      "2891/2891 [==============================] - 24s 8ms/step - loss: 766029.7500 - mean_absolute_error: 365.0667 - val_loss: 19106.1699 - val_mean_absolute_error: 86.0402bsolute_e\n",
      "INFO:tensorflow:Assets written to: 2H_ForecastModel_10_SizeWindow\\assets\n"
     ]
    },
    {
     "name": "stderr",
     "output_type": "stream",
     "text": [
      "INFO:tensorflow:Assets written to: 2H_ForecastModel_10_SizeWindow\\assets\n"
     ]
    },
    {
     "name": "stdout",
     "output_type": "stream",
     "text": [
      "Epoch 10/25\n",
      "2891/2891 [==============================] - 24s 8ms/step - loss: 650281.1875 - mean_absolute_error: 340.7320 - val_loss: 19346.2617 - val_mean_absolute_error: 88.8463\n",
      "Epoch 11/25\n",
      "2891/2891 [==============================] - 24s 8ms/step - loss: 537087.8750 - mean_absolute_error: 315.8812 - val_loss: 18880.7578 - val_mean_absolute_error: 87.0767\n",
      "INFO:tensorflow:Assets written to: 2H_ForecastModel_10_SizeWindow\\assets\n"
     ]
    },
    {
     "name": "stderr",
     "output_type": "stream",
     "text": [
      "INFO:tensorflow:Assets written to: 2H_ForecastModel_10_SizeWindow\\assets\n"
     ]
    },
    {
     "name": "stdout",
     "output_type": "stream",
     "text": [
      "Epoch 12/25\n",
      "2891/2891 [==============================] - 25s 8ms/step - loss: 428778.9688 - mean_absolute_error: 289.2966 - val_loss: 19870.4922 - val_mean_absolute_error: 90.0542\n",
      "Epoch 13/25\n",
      "2891/2891 [==============================] - 25s 9ms/step - loss: 331141.8750 - mean_absolute_error: 262.3117 - val_loss: 19600.0527 - val_mean_absolute_error: 89.0433\n",
      "Epoch 14/25\n",
      "2891/2891 [==============================] - 28s 10ms/step - loss: 244368.9375 - mean_absolute_error: 233.8981 - val_loss: 20984.4941 - val_mean_absolute_error: 95.5817\n",
      "Epoch 15/25\n",
      "2891/2891 [==============================] - 30s 10ms/step - loss: 172932.4688 - mean_absolute_error: 205.0671 - val_loss: 20131.7871 - val_mean_absolute_error: 91.9459\n",
      "Epoch 16/25\n",
      "2891/2891 [==============================] - 28s 10ms/step - loss: 118346.4844 - mean_absolute_error: 176.0293 - val_loss: 20864.7246 - val_mean_absolute_error: 92.9785\n",
      "Epoch 17/25\n",
      "2891/2891 [==============================] - 32s 11ms/step - loss: 82877.0547 - mean_absolute_error: 148.2993 - val_loss: 20773.8301 - val_mean_absolute_error: 92.9143\n",
      "Epoch 18/25\n",
      "2891/2891 [==============================] - 30s 10ms/step - loss: 65419.1758 - mean_absolute_error: 125.2886 - val_loss: 21597.5859 - val_mean_absolute_error: 98.4431\n",
      "Epoch 19/25\n",
      "2891/2891 [==============================] - 23s 8ms/step - loss: 60012.3867 - mean_absolute_error: 112.1712 - val_loss: 21209.6328 - val_mean_absolute_error: 96.8455\n",
      "Epoch 20/25\n",
      "2891/2891 [==============================] - 22s 8ms/step - loss: 59442.5742 - mean_absolute_error: 111.7957 - val_loss: 21143.8086 - val_mean_absolute_error: 95.9495\n",
      "Epoch 21/25\n",
      "2891/2891 [==============================] - 22s 8ms/step - loss: 59391.6289 - mean_absolute_error: 111.0175 - val_loss: 22779.3965 - val_mean_absolute_error: 103.2990\n",
      "Epoch 22/25\n",
      "2891/2891 [==============================] - 22s 8ms/step - loss: 58041.2852 - mean_absolute_error: 106.6258 - val_loss: 20819.4512 - val_mean_absolute_error: 93.6879\n",
      "Epoch 23/25\n",
      "2891/2891 [==============================] - 23s 8ms/step - loss: 57382.9570 - mean_absolute_error: 104.3755 - val_loss: 21720.8984 - val_mean_absolute_error: 99.5616\n",
      "Epoch 24/25\n",
      "2891/2891 [==============================] - 25s 9ms/step - loss: 57626.7539 - mean_absolute_error: 106.5360 - val_loss: 23766.6660 - val_mean_absolute_error: 104.2602\n",
      "Epoch 25/25\n",
      "2891/2891 [==============================] - 24s 8ms/step - loss: 56782.5625 - mean_absolute_error: 103.5417 - val_loss: 21987.1348 - val_mean_absolute_error: 99.9039\n",
      "\n",
      "-----------------------------------------------------------------------------------------------------------\n",
      "\n",
      "Model: \"sequential_3\"\n",
      "_________________________________________________________________\n",
      "Layer (type)                 Output Shape              Param #   \n",
      "=================================================================\n",
      "lstm_3 (LSTM)                (None, 64)                17920     \n",
      "_________________________________________________________________\n",
      "dense_6 (Dense)              (None, 8)                 520       \n",
      "_________________________________________________________________\n",
      "dense_7 (Dense)              (None, 1)                 9         \n",
      "=================================================================\n",
      "Total params: 18,449\n",
      "Trainable params: 18,449\n",
      "Non-trainable params: 0\n",
      "_________________________________________________________________\n",
      "Epoch 1/25\n",
      "2891/2891 [==============================] - 29s 9ms/step - loss: 1596467.3750 - mean_absolute_error: 655.1561 - val_loss: 259825.7344 - val_mean_absolute_error: 431.5138\n",
      "INFO:tensorflow:Assets written to: 2H_ForecastModel_12_SizeWindow\\assets\n"
     ]
    },
    {
     "name": "stderr",
     "output_type": "stream",
     "text": [
      "INFO:tensorflow:Assets written to: 2H_ForecastModel_12_SizeWindow\\assets\n"
     ]
    },
    {
     "name": "stdout",
     "output_type": "stream",
     "text": [
      "Epoch 2/25\n",
      "2891/2891 [==============================] - 28s 10ms/step - loss: 1468362.6250 - mean_absolute_error: 584.7789 - val_loss: 168132.1875 - val_mean_absolute_error: 324.8083\n",
      "INFO:tensorflow:Assets written to: 2H_ForecastModel_12_SizeWindow\\assets\n"
     ]
    },
    {
     "name": "stderr",
     "output_type": "stream",
     "text": [
      "INFO:tensorflow:Assets written to: 2H_ForecastModel_12_SizeWindow\\assets\n"
     ]
    },
    {
     "name": "stdout",
     "output_type": "stream",
     "text": [
      "Epoch 3/25\n",
      "2891/2891 [==============================] - 31s 11ms/step - loss: 1322726.7500 - mean_absolute_error: 517.8377 - val_loss: 90633.5078 - val_mean_absolute_error: 219.0517\n",
      "INFO:tensorflow:Assets written to: 2H_ForecastModel_12_SizeWindow\\assets\n"
     ]
    },
    {
     "name": "stderr",
     "output_type": "stream",
     "text": [
      "INFO:tensorflow:Assets written to: 2H_ForecastModel_12_SizeWindow\\assets\n"
     ]
    },
    {
     "name": "stdout",
     "output_type": "stream",
     "text": [
      "Epoch 4/25\n",
      "2891/2891 [==============================] - 26s 9ms/step - loss: 1167762.2500 - mean_absolute_error: 460.5444 - val_loss: 41360.4141 - val_mean_absolute_error: 134.9535\n",
      "INFO:tensorflow:Assets written to: 2H_ForecastModel_12_SizeWindow\\assets\n"
     ]
    },
    {
     "name": "stderr",
     "output_type": "stream",
     "text": [
      "INFO:tensorflow:Assets written to: 2H_ForecastModel_12_SizeWindow\\assets\n"
     ]
    },
    {
     "name": "stdout",
     "output_type": "stream",
     "text": [
      "Epoch 5/25\n",
      "2891/2891 [==============================] - 25s 9ms/step - loss: 1011604.9375 - mean_absolute_error: 418.9237 - val_loss: 24200.4590 - val_mean_absolute_error: 97.34332\n",
      "INFO:tensorflow:Assets written to: 2H_ForecastModel_12_SizeWindow\\assets\n"
     ]
    },
    {
     "name": "stderr",
     "output_type": "stream",
     "text": [
      "INFO:tensorflow:Assets written to: 2H_ForecastModel_12_SizeWindow\\assets\n"
     ]
    },
    {
     "name": "stdout",
     "output_type": "stream",
     "text": [
      "Epoch 6/25\n",
      "2891/2891 [==============================] - 26s 9ms/step - loss: 854188.0625 - mean_absolute_error: 384.9294 - val_loss: 20027.2188 - val_mean_absolute_error: 90.3825\n",
      "INFO:tensorflow:Assets written to: 2H_ForecastModel_12_SizeWindow\\assets\n"
     ]
    },
    {
     "name": "stderr",
     "output_type": "stream",
     "text": [
      "INFO:tensorflow:Assets written to: 2H_ForecastModel_12_SizeWindow\\assets\n"
     ]
    },
    {
     "name": "stdout",
     "output_type": "stream",
     "text": [
      "Epoch 7/25\n",
      "2891/2891 [==============================] - 25s 9ms/step - loss: 699097.3750 - mean_absolute_error: 352.2881 - val_loss: 19550.0566 - val_mean_absolute_error: 87.6843\n",
      "INFO:tensorflow:Assets written to: 2H_ForecastModel_12_SizeWindow\\assets\n"
     ]
    },
    {
     "name": "stderr",
     "output_type": "stream",
     "text": [
      "INFO:tensorflow:Assets written to: 2H_ForecastModel_12_SizeWindow\\assets\n"
     ]
    },
    {
     "name": "stdout",
     "output_type": "stream",
     "text": [
      "Epoch 8/25\n",
      "2891/2891 [==============================] - 25s 9ms/step - loss: 550907.1875 - mean_absolute_error: 320.1913 - val_loss: 19854.2793 - val_mean_absolute_error: 88.6660ror: 321. - ETA - ETA: 0s - loss: 551793.9375 - mean_absolute_error\n",
      "Epoch 9/25\n",
      "2891/2891 [==============================] - 25s 9ms/step - loss: 412644.5625 - mean_absolute_error: 286.2987 - val_loss: 20281.2734 - val_mean_absolute_error: 88.6413\n",
      "Epoch 10/25\n",
      "2891/2891 [==============================] - 25s 9ms/step - loss: 290238.1875 - mean_absolute_error: 250.2491 - val_loss: 19848.5723 - val_mean_absolute_error: 88.2688\n",
      "Epoch 11/25\n",
      "2891/2891 [==============================] - 25s 9ms/step - loss: 189859.5781 - mean_absolute_error: 212.6752 - val_loss: 20782.1484 - val_mean_absolute_error: 93.1030\n",
      "Epoch 12/25\n",
      "2891/2891 [==============================] - 25s 9ms/step - loss: 121378.0391 - mean_absolute_error: 176.9077 - val_loss: 19519.7031 - val_mean_absolute_error: 89.0030\n",
      "INFO:tensorflow:Assets written to: 2H_ForecastModel_12_SizeWindow\\assets\n"
     ]
    },
    {
     "name": "stderr",
     "output_type": "stream",
     "text": [
      "INFO:tensorflow:Assets written to: 2H_ForecastModel_12_SizeWindow\\assets\n"
     ]
    },
    {
     "name": "stdout",
     "output_type": "stream",
     "text": [
      "Epoch 13/25\n",
      "2891/2891 [==============================] - 25s 9ms/step - loss: 78326.7266 - mean_absolute_error: 140.3261 - val_loss: 19921.7207 - val_mean_absolute_error: 88.2999\n",
      "Epoch 14/25\n",
      "2891/2891 [==============================] - 31s 11ms/step - loss: 64047.4258 - mean_absolute_error: 117.5319 - val_loss: 19284.9180 - val_mean_absolute_error: 86.8173\n",
      "INFO:tensorflow:Assets written to: 2H_ForecastModel_12_SizeWindow\\assets\n"
     ]
    },
    {
     "name": "stderr",
     "output_type": "stream",
     "text": [
      "INFO:tensorflow:Assets written to: 2H_ForecastModel_12_SizeWindow\\assets\n"
     ]
    },
    {
     "name": "stdout",
     "output_type": "stream",
     "text": [
      "Epoch 15/25\n",
      "2891/2891 [==============================] - 31s 11ms/step - loss: 61464.0547 - mean_absolute_error: 110.6427 - val_loss: 19669.3848 - val_mean_absolute_error: 86.8890733.0859 - mean_absolute_error:\n",
      "Epoch 16/25\n",
      "2891/2891 [==============================] - 36s 12ms/step - loss: 60548.1406 - mean_absolute_error: 107.9930 - val_loss: 20045.1230 - val_mean_absolute_error: 91.8267\n",
      "Epoch 17/25\n",
      "2891/2891 [==============================] - 32s 11ms/step - loss: 60989.1289 - mean_absolute_error: 109.4680 - val_loss: 19647.4414 - val_mean_absolute_error: 89.7223s\n",
      "Epoch 18/25\n",
      "2891/2891 [==============================] - 28s 10ms/step - loss: 60343.9062 - mean_absolute_error: 105.6075 - val_loss: 22154.2754 - val_mean_absolute_error: 101.4899\n",
      "Epoch 19/25\n",
      "2891/2891 [==============================] - 31s 11ms/step - loss: 60223.4648 - mean_absolute_error: 106.4397 - val_loss: 21654.3887 - val_mean_absolute_error: 99.0216\n",
      "Epoch 20/25\n",
      "2891/2891 [==============================] - 31s 11ms/step - loss: 59400.0859 - mean_absolute_error: 103.1985 - val_loss: 20426.3008 - val_mean_absolute_error: 92.8650\n",
      "Epoch 21/25\n",
      "2891/2891 [==============================] - 36s 12ms/step - loss: 58920.0664 - mean_absolute_error: 101.6617 - val_loss: 21852.9434 - val_mean_absolute_error: 95.2129\n",
      "Epoch 22/25\n",
      "2891/2891 [==============================] - 29s 10ms/step - loss: 58784.6328 - mean_absolute_error: 102.3503 - val_loss: 20003.2402 - val_mean_absolute_error: 92.0560\n",
      "Epoch 23/25\n",
      "2891/2891 [==============================] - 29s 10ms/step - loss: 58485.2891 - mean_absolute_error: 101.2284 - val_loss: 20787.2656 - val_mean_absolute_error: 94.9513s: 58845.3\n",
      "Epoch 24/25\n",
      "2891/2891 [==============================] - 31s 11ms/step - loss: 58176.4023 - mean_absolute_error: 101.8516 - val_loss: 20828.1191 - val_mean_absolute_error: 94.6850\n",
      "Epoch 25/25\n",
      "2891/2891 [==============================] - 38s 13ms/step - loss: 57861.5273 - mean_absolute_error: 101.3518 - val_loss: 20102.5273 - val_mean_absolute_error: 92.1373\n",
      "\n",
      "-----------------------------------------------------------------------------------------------------------\n",
      "\n",
      "CPU times: total: 3h 48min 5s\n",
      "Wall time: 47min 7s\n"
     ]
    }
   ],
   "source": [
    "%%time\n",
    "\n",
    "Trainer(2)"
   ]
  },
  {
   "cell_type": "code",
   "execution_count": 13,
   "id": "7415d80e",
   "metadata": {},
   "outputs": [
    {
     "name": "stdout",
     "output_type": "stream",
     "text": [
      "Loading: 2H_ForecastModel_6_SizeWindow/\n",
      "629/629 [==============================] - 3s 3ms/step - loss: 199852.1875 - mean_absolute_error: 151.7400\n",
      "\n",
      "\n",
      "Loading: 2H_ForecastModel_8_SizeWindow/\n",
      "629/629 [==============================] - 4s 5ms/step - loss: 56506.0586 - mean_absolute_error: 107.2712\n",
      "\n",
      "\n",
      "Loading: 2H_ForecastModel_10_SizeWindow/\n",
      "629/629 [==============================] - 3s 4ms/step - loss: 146394.3438 - mean_absolute_error: 136.2628: 1s - loss: 241\n",
      "\n",
      "\n",
      "Loading: 2H_ForecastModel_12_SizeWindow/\n",
      "629/629 [==============================] - 3s 4ms/step - loss: 54943.1836 - mean_absolute_error: 96.5121TA: 1s - loss: 430\n",
      "\n",
      "\n",
      "CPU times: total: 3min 9s\n",
      "Wall time: 2min\n"
     ]
    }
   ],
   "source": [
    "%%time\n",
    "\n",
    "modelsEvaluator(2,6,12,True)"
   ]
  },
  {
   "cell_type": "markdown",
   "id": "a0e8ea10",
   "metadata": {},
   "source": [
    " <h3> <font color='orange'> 3 hour forecasting model training </font> <h3/> "
   ]
  },
  {
   "cell_type": "code",
   "execution_count": 5,
   "id": "0e07ab8f",
   "metadata": {},
   "outputs": [
    {
     "name": "stdout",
     "output_type": "stream",
     "text": [
      "Model: \"sequential_4\"\n",
      "_________________________________________________________________\n",
      "Layer (type)                 Output Shape              Param #   \n",
      "=================================================================\n",
      "lstm_4 (LSTM)                (None, 64)                17920     \n",
      "_________________________________________________________________\n",
      "dense_8 (Dense)              (None, 8)                 520       \n",
      "_________________________________________________________________\n",
      "dense_9 (Dense)              (None, 1)                 9         \n",
      "=================================================================\n",
      "Total params: 18,449\n",
      "Trainable params: 18,449\n",
      "Non-trainable params: 0\n",
      "_________________________________________________________________\n",
      "Epoch 1/25\n",
      "2891/2891 [==============================] - 31s 10ms/step - loss: 1605293.0000 - mean_absolute_error: 660.8758 - val_loss: 272114.0938 - val_mean_absolute_error: 445.0815\n",
      "INFO:tensorflow:Assets written to: 3H_ForecastModel_6_SizeWindow\\assets\n"
     ]
    },
    {
     "name": "stderr",
     "output_type": "stream",
     "text": [
      "INFO:tensorflow:Assets written to: 3H_ForecastModel_6_SizeWindow\\assets\n"
     ]
    },
    {
     "name": "stdout",
     "output_type": "stream",
     "text": [
      "Epoch 2/25\n",
      "2891/2891 [==============================] - 19s 6ms/step - loss: 1498745.2500 - mean_absolute_error: 603.8860 - val_loss: 193710.1875 - val_mean_absolute_error: 356.8222\n",
      "INFO:tensorflow:Assets written to: 3H_ForecastModel_6_SizeWindow\\assets\n"
     ]
    },
    {
     "name": "stderr",
     "output_type": "stream",
     "text": [
      "INFO:tensorflow:Assets written to: 3H_ForecastModel_6_SizeWindow\\assets\n"
     ]
    },
    {
     "name": "stdout",
     "output_type": "stream",
     "text": [
      "Epoch 3/25\n",
      "2891/2891 [==============================] - 19s 7ms/step - loss: 1375837.0000 - mean_absolute_error: 546.2384 - val_loss: 118838.7969 - val_mean_absolute_error: 262.030178972.6250 - mean_absolute_error:  - ETA: 1s - loss: 1378669.500\n",
      "INFO:tensorflow:Assets written to: 3H_ForecastModel_6_SizeWindow\\assets\n"
     ]
    },
    {
     "name": "stderr",
     "output_type": "stream",
     "text": [
      "INFO:tensorflow:Assets written to: 3H_ForecastModel_6_SizeWindow\\assets\n"
     ]
    },
    {
     "name": "stdout",
     "output_type": "stream",
     "text": [
      "Epoch 4/25\n",
      "2891/2891 [==============================] - 18s 6ms/step - loss: 1241396.1250 - mean_absolute_error: 494.6300 - val_loss: 64848.3633 - val_mean_absolute_error: 181.5609\n",
      "INFO:tensorflow:Assets written to: 3H_ForecastModel_6_SizeWindow\\assets\n"
     ]
    },
    {
     "name": "stderr",
     "output_type": "stream",
     "text": [
      "INFO:tensorflow:Assets written to: 3H_ForecastModel_6_SizeWindow\\assets\n"
     ]
    },
    {
     "name": "stdout",
     "output_type": "stream",
     "text": [
      "Epoch 5/25\n",
      "2891/2891 [==============================] - 19s 6ms/step - loss: 1107195.3750 - mean_absolute_error: 455.4671 - val_loss: 36548.1719 - val_mean_absolute_error: 127.5837\n",
      "INFO:tensorflow:Assets written to: 3H_ForecastModel_6_SizeWindow\\assets\n"
     ]
    },
    {
     "name": "stderr",
     "output_type": "stream",
     "text": [
      "INFO:tensorflow:Assets written to: 3H_ForecastModel_6_SizeWindow\\assets\n"
     ]
    },
    {
     "name": "stdout",
     "output_type": "stream",
     "text": [
      "Epoch 6/25\n",
      "2891/2891 [==============================] - 17s 6ms/step - loss: 968639.2500 - mean_absolute_error: 422.9948 - val_loss: 29203.9980 - val_mean_absolute_error: 110.7149\n",
      "INFO:tensorflow:Assets written to: 3H_ForecastModel_6_SizeWindow\\assets\n"
     ]
    },
    {
     "name": "stderr",
     "output_type": "stream",
     "text": [
      "INFO:tensorflow:Assets written to: 3H_ForecastModel_6_SizeWindow\\assets\n"
     ]
    },
    {
     "name": "stdout",
     "output_type": "stream",
     "text": [
      "Epoch 7/25\n",
      "2891/2891 [==============================] - 17s 6ms/step - loss: 830543.6250 - mean_absolute_error: 395.2537 - val_loss: 28547.3145 - val_mean_absolute_error: 109.8623\n",
      "INFO:tensorflow:Assets written to: 3H_ForecastModel_6_SizeWindow\\assets\n"
     ]
    },
    {
     "name": "stderr",
     "output_type": "stream",
     "text": [
      "INFO:tensorflow:Assets written to: 3H_ForecastModel_6_SizeWindow\\assets\n"
     ]
    },
    {
     "name": "stdout",
     "output_type": "stream",
     "text": [
      "Epoch 8/25\n",
      "2891/2891 [==============================] - 18s 6ms/step - loss: 694014.5000 - mean_absolute_error: 368.2652 - val_loss: 28558.5625 - val_mean_absolute_error: 110.6142\n",
      "Epoch 9/25\n",
      "2891/2891 [==============================] - 18s 6ms/step - loss: 561879.2500 - mean_absolute_error: 340.6267 - val_loss: 29037.4160 - val_mean_absolute_error: 113.3344\n",
      "Epoch 10/25\n",
      "2891/2891 [==============================] - 18s 6ms/step - loss: 434850.0000 - mean_absolute_error: 309.4478 - val_loss: 29692.5918 - val_mean_absolute_error: 118.6557\n",
      "Epoch 11/25\n",
      "2891/2891 [==============================] - 18s 6ms/step - loss: 320825.9375 - mean_absolute_error: 277.0190 - val_loss: 28974.0137 - val_mean_absolute_error: 113.9271\n",
      "Epoch 12/25\n",
      "2891/2891 [==============================] - 18s 6ms/step - loss: 225456.0625 - mean_absolute_error: 243.0535 - val_loss: 29852.4844 - val_mean_absolute_error: 115.9957\n",
      "Epoch 13/25\n",
      "2891/2891 [==============================] - 18s 6ms/step - loss: 152669.3281 - mean_absolute_error: 207.9346 - val_loss: 29584.7422 - val_mean_absolute_error: 115.2792\n",
      "Epoch 14/25\n",
      "2891/2891 [==============================] - 17s 6ms/step - loss: 107427.0547 - mean_absolute_error: 175.2743 - val_loss: 32169.7539 - val_mean_absolute_error: 126.5156\n",
      "Epoch 15/25\n",
      "2891/2891 [==============================] - 17s 6ms/step - loss: 87620.0625 - mean_absolute_error: 151.5972 - val_loss: 29394.0723 - val_mean_absolute_error: 117.2814\n",
      "Epoch 16/25\n",
      "2891/2891 [==============================] - 17s 6ms/step - loss: 83237.4766 - mean_absolute_error: 141.2905 - val_loss: 31494.7129 - val_mean_absolute_error: 122.0096\n",
      "Epoch 17/25\n",
      "2891/2891 [==============================] - 17s 6ms/step - loss: 81026.4062 - mean_absolute_error: 136.2210 - val_loss: 30350.6953 - val_mean_absolute_error: 119.7289\n",
      "Epoch 18/25\n",
      "2891/2891 [==============================] - 18s 6ms/step - loss: 80227.3828 - mean_absolute_error: 131.8120 - val_loss: 30065.6543 - val_mean_absolute_error: 117.5354\n",
      "Epoch 19/25\n",
      "2891/2891 [==============================] - 18s 6ms/step - loss: 79475.2031 - mean_absolute_error: 127.4092 - val_loss: 31519.9844 - val_mean_absolute_error: 124.2261\n",
      "Epoch 20/25\n",
      "2891/2891 [==============================] - 18s 6ms/step - loss: 81946.9453 - mean_absolute_error: 138.0762 - val_loss: 30604.5605 - val_mean_absolute_error: 116.9489\n",
      "Epoch 21/25\n",
      "2891/2891 [==============================] - 18s 6ms/step - loss: 79466.4609 - mean_absolute_error: 128.9088 - val_loss: 29349.8594 - val_mean_absolute_error: 115.1521\n",
      "Epoch 22/25\n",
      "2891/2891 [==============================] - 18s 6ms/step - loss: 78587.8984 - mean_absolute_error: 127.2598 - val_loss: 33985.4141 - val_mean_absolute_error: 128.7736\n",
      "Epoch 23/25\n",
      "2891/2891 [==============================] - 18s 6ms/step - loss: 78197.0000 - mean_absolute_error: 126.8079 - val_loss: 31145.6699 - val_mean_absolute_error: 121.0457.4766 - mean_absolu - ETA: 1s - loss: 78164.07\n",
      "Epoch 24/25\n",
      "2891/2891 [==============================] - 17s 6ms/step - loss: 77813.9141 - mean_absolute_error: 124.5690 - val_loss: 30217.8164 - val_mean_absolute_error: 118.0436\n",
      "Epoch 25/25\n",
      "2891/2891 [==============================] - 17s 6ms/step - loss: 77541.5703 - mean_absolute_error: 125.5733 - val_loss: 33193.5195 - val_mean_absolute_error: 125.7246a\n",
      "\n",
      "-----------------------------------------------------------------------------------------------------------\n",
      "\n",
      "Model: \"sequential_5\"\n",
      "_________________________________________________________________\n",
      "Layer (type)                 Output Shape              Param #   \n",
      "=================================================================\n",
      "lstm_5 (LSTM)                (None, 64)                17920     \n",
      "_________________________________________________________________\n",
      "dense_10 (Dense)             (None, 8)                 520       \n",
      "_________________________________________________________________\n",
      "dense_11 (Dense)             (None, 1)                 9         \n",
      "=================================================================\n",
      "Total params: 18,449\n",
      "Trainable params: 18,449\n",
      "Non-trainable params: 0\n",
      "_________________________________________________________________\n",
      "Epoch 1/25\n",
      "2891/2891 [==============================] - 25s 8ms/step - loss: 1604099.2500 - mean_absolute_error: 659.9028 - val_loss: 268493.4375 - val_mean_absolute_error: 441.0870\n",
      "INFO:tensorflow:Assets written to: 3H_ForecastModel_8_SizeWindow\\assets\n"
     ]
    },
    {
     "name": "stderr",
     "output_type": "stream",
     "text": [
      "INFO:tensorflow:Assets written to: 3H_ForecastModel_8_SizeWindow\\assets\n"
     ]
    },
    {
     "name": "stdout",
     "output_type": "stream",
     "text": [
      "Epoch 2/25\n",
      "2891/2891 [==============================] - 21s 7ms/step - loss: 1488358.7500 - mean_absolute_error: 597.0765 - val_loss: 183023.5781 - val_mean_absolute_error: 344.3236\n",
      "INFO:tensorflow:Assets written to: 3H_ForecastModel_8_SizeWindow\\assets\n"
     ]
    },
    {
     "name": "stderr",
     "output_type": "stream",
     "text": [
      "INFO:tensorflow:Assets written to: 3H_ForecastModel_8_SizeWindow\\assets\n"
     ]
    },
    {
     "name": "stdout",
     "output_type": "stream",
     "text": [
      "Epoch 3/25\n",
      "2891/2891 [==============================] - 21s 7ms/step - loss: 1352554.3750 - mean_absolute_error: 534.7612 - val_loss: 106716.3594 - val_mean_absolute_error: 245.9174solute_error:  - ETA: 2s - los\n",
      "INFO:tensorflow:Assets written to: 3H_ForecastModel_8_SizeWindow\\assets\n"
     ]
    },
    {
     "name": "stderr",
     "output_type": "stream",
     "text": [
      "INFO:tensorflow:Assets written to: 3H_ForecastModel_8_SizeWindow\\assets\n"
     ]
    },
    {
     "name": "stdout",
     "output_type": "stream",
     "text": [
      "Epoch 4/25\n",
      "2891/2891 [==============================] - 22s 8ms/step - loss: 1212380.8750 - mean_absolute_error: 484.5818 - val_loss: 56018.6836 - val_mean_absolute_error: 166.7331\n",
      "INFO:tensorflow:Assets written to: 3H_ForecastModel_8_SizeWindow\\assets\n"
     ]
    },
    {
     "name": "stderr",
     "output_type": "stream",
     "text": [
      "INFO:tensorflow:Assets written to: 3H_ForecastModel_8_SizeWindow\\assets\n"
     ]
    },
    {
     "name": "stdout",
     "output_type": "stream",
     "text": [
      "Epoch 5/25\n",
      "2891/2891 [==============================] - 25s 9ms/step - loss: 1069239.6250 - mean_absolute_error: 445.7228 - val_loss: 33668.3086 - val_mean_absolute_error: 121.4323- mean_absolute_error: 451.75 - ETA  - ETA: 1s - loss: 1073489.8750\n",
      "INFO:tensorflow:Assets written to: 3H_ForecastModel_8_SizeWindow\\assets\n"
     ]
    },
    {
     "name": "stderr",
     "output_type": "stream",
     "text": [
      "INFO:tensorflow:Assets written to: 3H_ForecastModel_8_SizeWindow\\assets\n"
     ]
    },
    {
     "name": "stdout",
     "output_type": "stream",
     "text": [
      "Epoch 6/25\n",
      "2891/2891 [==============================] - 23s 8ms/step - loss: 924584.3750 - mean_absolute_error: 413.8841 - val_loss: 29850.6113 - val_mean_absolute_error: 111.6618\n",
      "INFO:tensorflow:Assets written to: 3H_ForecastModel_8_SizeWindow\\assets\n"
     ]
    },
    {
     "name": "stderr",
     "output_type": "stream",
     "text": [
      "INFO:tensorflow:Assets written to: 3H_ForecastModel_8_SizeWindow\\assets\n"
     ]
    },
    {
     "name": "stdout",
     "output_type": "stream",
     "text": [
      "Epoch 7/25\n",
      "2891/2891 [==============================] - 20s 7ms/step - loss: 780659.5000 - mean_absolute_error: 385.2255 - val_loss: 29479.6719 - val_mean_absolute_error: 112.6213\n",
      "INFO:tensorflow:Assets written to: 3H_ForecastModel_8_SizeWindow\\assets\n"
     ]
    },
    {
     "name": "stderr",
     "output_type": "stream",
     "text": [
      "INFO:tensorflow:Assets written to: 3H_ForecastModel_8_SizeWindow\\assets\n"
     ]
    },
    {
     "name": "stdout",
     "output_type": "stream",
     "text": [
      "Epoch 8/25\n",
      "2891/2891 [==============================] - 21s 7ms/step - loss: 639365.1875 - mean_absolute_error: 357.6395 - val_loss: 30771.0527 - val_mean_absolute_error: 113.7829\n",
      "Epoch 9/25\n",
      "2891/2891 [==============================] - 21s 7ms/step - loss: 504934.8438 - mean_absolute_error: 326.8611 - val_loss: 28819.7383 - val_mean_absolute_error: 111.0268\n",
      "INFO:tensorflow:Assets written to: 3H_ForecastModel_8_SizeWindow\\assets\n"
     ]
    },
    {
     "name": "stderr",
     "output_type": "stream",
     "text": [
      "INFO:tensorflow:Assets written to: 3H_ForecastModel_8_SizeWindow\\assets\n"
     ]
    },
    {
     "name": "stdout",
     "output_type": "stream",
     "text": [
      "Epoch 10/25\n",
      "2891/2891 [==============================] - 21s 7ms/step - loss: 380967.4062 - mean_absolute_error: 294.6279 - val_loss: 28664.6504 - val_mean_absolute_error: 109.7642\n",
      "INFO:tensorflow:Assets written to: 3H_ForecastModel_8_SizeWindow\\assets\n"
     ]
    },
    {
     "name": "stderr",
     "output_type": "stream",
     "text": [
      "INFO:tensorflow:Assets written to: 3H_ForecastModel_8_SizeWindow\\assets\n"
     ]
    },
    {
     "name": "stdout",
     "output_type": "stream",
     "text": [
      "Epoch 11/25\n",
      "2891/2891 [==============================] - 20s 7ms/step - loss: 273189.1562 - mean_absolute_error: 261.0268 - val_loss: 30061.2266 - val_mean_absolute_error: 114.1960\n",
      "Epoch 12/25\n",
      "2891/2891 [==============================] - 20s 7ms/step - loss: 188449.8750 - mean_absolute_error: 226.9265 - val_loss: 29897.2793 - val_mean_absolute_error: 113.9055\n",
      "Epoch 13/25\n",
      "2891/2891 [==============================] - 20s 7ms/step - loss: 127195.6406 - mean_absolute_error: 191.7670 - val_loss: 30274.1621 - val_mean_absolute_error: 116.1444\n",
      "Epoch 14/25\n",
      "2891/2891 [==============================] - 21s 7ms/step - loss: 96750.7891 - mean_absolute_error: 164.4380 - val_loss: 31555.0820 - val_mean_absolute_error: 118.9780loss: 96187.5781 -\n",
      "Epoch 15/25\n",
      "2891/2891 [==============================] - 21s 7ms/step - loss: 83342.5312 - mean_absolute_error: 141.0044 - val_loss: 31325.7812 - val_mean_absolute_error: 118.2095\n",
      "Epoch 16/25\n",
      "2891/2891 [==============================] - 21s 7ms/step - loss: 80674.9766 - mean_absolute_error: 132.7393 - val_loss: 29059.2246 - val_mean_absolute_error: 111.5822s: 80602.02 - ETA: 0s - loss: 80676.2266 - mean_absolute_error: 132. - ETA: 0s - loss: 80782.3828 - mean_absolute_error: 1\n",
      "Epoch 17/25\n",
      "2891/2891 [==============================] - 20s 7ms/step - loss: 80387.4453 - mean_absolute_error: 134.8780 - val_loss: 30308.6348 - val_mean_absolute_error: 117.3032\n",
      "Epoch 18/25\n",
      "2891/2891 [==============================] - 21s 7ms/step - loss: 79598.1016 - mean_absolute_error: 130.6753 - val_loss: 31820.8711 - val_mean_absolute_error: 121.16023 - mean_absolute_error: - ETA: 1s - loss: 78 - ETA: 0s - loss: 79647.0391 - mean_absolute_error: 130.686\n",
      "Epoch 19/25\n",
      "2891/2891 [==============================] - 21s 7ms/step - loss: 80268.5000 - mean_absolute_error: 134.0057 - val_loss: 31176.5820 - val_mean_absolute_error: 117.0782_absolut - ETA: 7s - loss: 77716.6875 - mean_ - ETA: 5s - l\n",
      "Epoch 20/25\n",
      "2891/2891 [==============================] - 20s 7ms/step - loss: 79092.7109 - mean_absolute_error: 130.0856 - val_loss: 32516.6074 - val_mean_absolute_error: 123.0958\n",
      "Epoch 21/25\n",
      "2891/2891 [==============================] - 19s 7ms/step - loss: 79191.7500 - mean_absolute_error: 130.6336 - val_loss: 31750.4902 - val_mean_absolute_error: 120.3379s - loss: 79539.4922 - \n",
      "Epoch 22/25\n",
      "2891/2891 [==============================] - 19s 7ms/step - loss: 77770.9531 - mean_absolute_error: 125.1859 - val_loss: 30122.3418 - val_mean_absolute_error: 114.5297\n",
      "Epoch 23/25\n",
      "2891/2891 [==============================] - 21s 7ms/step - loss: 77935.2891 - mean_absolute_error: 125.9364 - val_loss: 34091.8125 - val_mean_absolute_error: 127.2410\n",
      "Epoch 24/25\n",
      "2891/2891 [==============================] - 23s 8ms/step - loss: 77458.9922 - mean_absolute_error: 126.2933 - val_loss: 32110.7949 - val_mean_absolute_error: 121.1516ss: 77196.9297 - mean_abs\n",
      "Epoch 25/25\n",
      "2891/2891 [==============================] - 22s 8ms/step - loss: 76832.3750 - mean_absolute_error: 123.5411 - val_loss: 32174.2578 - val_mean_absolute_error: 117.5141\n",
      "\n",
      "-----------------------------------------------------------------------------------------------------------\n",
      "\n",
      "Model: \"sequential_6\"\n",
      "_________________________________________________________________\n",
      "Layer (type)                 Output Shape              Param #   \n",
      "=================================================================\n",
      "lstm_6 (LSTM)                (None, 64)                17920     \n",
      "_________________________________________________________________\n",
      "dense_12 (Dense)             (None, 8)                 520       \n",
      "_________________________________________________________________\n",
      "dense_13 (Dense)             (None, 1)                 9         \n",
      "=================================================================\n",
      "Total params: 18,449\n",
      "Trainable params: 18,449\n",
      "Non-trainable params: 0\n",
      "_________________________________________________________________\n",
      "Epoch 1/25\n",
      "2891/2891 [==============================] - 28s 9ms/step - loss: 1598648.0000 - mean_absolute_error: 656.0951 - val_loss: 263173.1562 - val_mean_absolute_error: 435.1868s: 1596759.0000 - mean_absolute_error: 655.65\n",
      "INFO:tensorflow:Assets written to: 3H_ForecastModel_10_SizeWindow\\assets\n"
     ]
    },
    {
     "name": "stderr",
     "output_type": "stream",
     "text": [
      "INFO:tensorflow:Assets written to: 3H_ForecastModel_10_SizeWindow\\assets\n"
     ]
    },
    {
     "name": "stdout",
     "output_type": "stream",
     "text": [
      "Epoch 2/25\n",
      "2891/2891 [==============================] - 25s 9ms/step - loss: 1478811.1250 - mean_absolute_error: 592.3412 - val_loss: 179493.5625 - val_mean_absolute_error: 339.6522\n",
      "INFO:tensorflow:Assets written to: 3H_ForecastModel_10_SizeWindow\\assets\n"
     ]
    },
    {
     "name": "stderr",
     "output_type": "stream",
     "text": [
      "INFO:tensorflow:Assets written to: 3H_ForecastModel_10_SizeWindow\\assets\n"
     ]
    },
    {
     "name": "stdout",
     "output_type": "stream",
     "text": [
      "Epoch 3/25\n",
      "2891/2891 [==============================] - 23s 8ms/step - loss: 1351153.6250 - mean_absolute_error: 533.6480 - val_loss: 108727.0469 - val_mean_absolute_error: 249.0023\n",
      "INFO:tensorflow:Assets written to: 3H_ForecastModel_10_SizeWindow\\assets\n"
     ]
    },
    {
     "name": "stderr",
     "output_type": "stream",
     "text": [
      "INFO:tensorflow:Assets written to: 3H_ForecastModel_10_SizeWindow\\assets\n"
     ]
    },
    {
     "name": "stdout",
     "output_type": "stream",
     "text": [
      "Epoch 4/25\n",
      "2891/2891 [==============================] - 22s 8ms/step - loss: 1217502.2500 - mean_absolute_error: 486.1811 - val_loss: 59564.0977 - val_mean_absolute_error: 174.5712\n",
      "INFO:tensorflow:Assets written to: 3H_ForecastModel_10_SizeWindow\\assets\n"
     ]
    },
    {
     "name": "stderr",
     "output_type": "stream",
     "text": [
      "INFO:tensorflow:Assets written to: 3H_ForecastModel_10_SizeWindow\\assets\n"
     ]
    },
    {
     "name": "stdout",
     "output_type": "stream",
     "text": [
      "Epoch 5/25\n",
      "2891/2891 [==============================] - 23s 8ms/step - loss: 1083434.1250 - mean_absolute_error: 450.2035 - val_loss: 37135.1406 - val_mean_absolute_error: 130.5757\n",
      "INFO:tensorflow:Assets written to: 3H_ForecastModel_10_SizeWindow\\assets\n"
     ]
    },
    {
     "name": "stderr",
     "output_type": "stream",
     "text": [
      "INFO:tensorflow:Assets written to: 3H_ForecastModel_10_SizeWindow\\assets\n"
     ]
    },
    {
     "name": "stdout",
     "output_type": "stream",
     "text": [
      "Epoch 6/25\n",
      "2891/2891 [==============================] - 28s 10ms/step - loss: 941848.6250 - mean_absolute_error: 419.5259 - val_loss: 31994.2676 - val_mean_absolute_error: 117.9526\n",
      "INFO:tensorflow:Assets written to: 3H_ForecastModel_10_SizeWindow\\assets\n"
     ]
    },
    {
     "name": "stderr",
     "output_type": "stream",
     "text": [
      "INFO:tensorflow:Assets written to: 3H_ForecastModel_10_SizeWindow\\assets\n"
     ]
    },
    {
     "name": "stdout",
     "output_type": "stream",
     "text": [
      "Epoch 7/25\n",
      "2891/2891 [==============================] - 27s 9ms/step - loss: 803166.5000 - mean_absolute_error: 392.8548 - val_loss: 31354.2969 - val_mean_absolute_error: 116.4424\n",
      "INFO:tensorflow:Assets written to: 3H_ForecastModel_10_SizeWindow\\assets\n"
     ]
    },
    {
     "name": "stderr",
     "output_type": "stream",
     "text": [
      "INFO:tensorflow:Assets written to: 3H_ForecastModel_10_SizeWindow\\assets\n"
     ]
    },
    {
     "name": "stdout",
     "output_type": "stream",
     "text": [
      "Epoch 8/25\n",
      "2891/2891 [==============================] - 27s 9ms/step - loss: 666960.6875 - mean_absolute_error: 365.1265 - val_loss: 30476.0059 - val_mean_absolute_error: 114.3744\n",
      "INFO:tensorflow:Assets written to: 3H_ForecastModel_10_SizeWindow\\assets\n"
     ]
    },
    {
     "name": "stderr",
     "output_type": "stream",
     "text": [
      "INFO:tensorflow:Assets written to: 3H_ForecastModel_10_SizeWindow\\assets\n"
     ]
    },
    {
     "name": "stdout",
     "output_type": "stream",
     "text": [
      "Epoch 9/25\n",
      "2891/2891 [==============================] - 26s 9ms/step - loss: 535272.5000 - mean_absolute_error: 335.7585 - val_loss: 30568.0820 - val_mean_absolute_error: 113.5952\n",
      "Epoch 10/25\n",
      "2891/2891 [==============================] - 24s 8ms/step - loss: 412390.4375 - mean_absolute_error: 305.0252 - val_loss: 30450.5195 - val_mean_absolute_error: 115.2329\n",
      "INFO:tensorflow:Assets written to: 3H_ForecastModel_10_SizeWindow\\assets\n"
     ]
    },
    {
     "name": "stderr",
     "output_type": "stream",
     "text": [
      "INFO:tensorflow:Assets written to: 3H_ForecastModel_10_SizeWindow\\assets\n"
     ]
    },
    {
     "name": "stdout",
     "output_type": "stream",
     "text": [
      "Epoch 11/25\n",
      "2891/2891 [==============================] - 25s 9ms/step - loss: 302808.9062 - mean_absolute_error: 272.7644 - val_loss: 33231.3203 - val_mean_absolute_error: 120.0344\n",
      "Epoch 12/25\n",
      "2891/2891 [==============================] - 31s 11ms/step - loss: 211535.8594 - mean_absolute_error: 238.3197 - val_loss: 29323.6367 - val_mean_absolute_error: 111.3820\n",
      "INFO:tensorflow:Assets written to: 3H_ForecastModel_10_SizeWindow\\assets\n"
     ]
    },
    {
     "name": "stderr",
     "output_type": "stream",
     "text": [
      "INFO:tensorflow:Assets written to: 3H_ForecastModel_10_SizeWindow\\assets\n"
     ]
    },
    {
     "name": "stdout",
     "output_type": "stream",
     "text": [
      "Epoch 13/25\n",
      "2891/2891 [==============================] - 25s 9ms/step - loss: 144353.6406 - mean_absolute_error: 204.0182 - val_loss: 30644.6855 - val_mean_absolute_error: 114.6436\n",
      "Epoch 14/25\n",
      "2891/2891 [==============================] - 29s 10ms/step - loss: 103108.8359 - mean_absolute_error: 172.8026 - val_loss: 31682.5273 - val_mean_absolute_error: 119.4940\n",
      "Epoch 15/25\n",
      "2891/2891 [==============================] - 29s 10ms/step - loss: 96264.6016 - mean_absolute_error: 165.5857 - val_loss: 31716.2930 - val_mean_absolute_error: 117.9606\n",
      "Epoch 16/25\n",
      "2891/2891 [==============================] - 24s 8ms/step - loss: 87410.5312 - mean_absolute_error: 151.6709 - val_loss: 29393.9902 - val_mean_absolute_error: 111.9451\n",
      "Epoch 17/25\n",
      "2891/2891 [==============================] - 31s 11ms/step - loss: 80933.5391 - mean_absolute_error: 138.7798 - val_loss: 30120.9727 - val_mean_absolute_error: 116.2088\n",
      "Epoch 18/25\n",
      "2891/2891 [==============================] - 27s 9ms/step - loss: 78272.7109 - mean_absolute_error: 129.4002 - val_loss: 32403.8105 - val_mean_absolute_error: 125.7580\n",
      "Epoch 19/25\n",
      "2891/2891 [==============================] - 25s 9ms/step - loss: 77663.8906 - mean_absolute_error: 131.2250 - val_loss: 33878.0508 - val_mean_absolute_error: 123.0001\n",
      "Epoch 20/25\n",
      "2891/2891 [==============================] - 27s 9ms/step - loss: 77209.2656 - mean_absolute_error: 129.4469 - val_loss: 29971.4512 - val_mean_absolute_error: 112.6807\n",
      "Epoch 21/25\n",
      "2891/2891 [==============================] - 32s 11ms/step - loss: 76410.7109 - mean_absolute_error: 129.0929 - val_loss: 31865.5762 - val_mean_absolute_error: 122.6118\n",
      "Epoch 22/25\n",
      "2891/2891 [==============================] - 28s 10ms/step - loss: 76761.4297 - mean_absolute_error: 128.5741 - val_loss: 32168.2031 - val_mean_absolute_error: 121.1192\n",
      "Epoch 23/25\n",
      "2891/2891 [==============================] - 31s 11ms/step - loss: 74921.8203 - mean_absolute_error: 125.9524 - val_loss: 31707.8223 - val_mean_absolute_error: 116.5175\n",
      "Epoch 24/25\n",
      "2891/2891 [==============================] - 23s 8ms/step - loss: 76655.9766 - mean_absolute_error: 134.0079 - val_loss: 33547.4648 - val_mean_absolute_error: 126.0337\n",
      "Epoch 25/25\n",
      "2891/2891 [==============================] - 26s 9ms/step - loss: 73850.3125 - mean_absolute_error: 123.5892 - val_loss: 31806.2930 - val_mean_absolute_error: 120.3003\n",
      "\n",
      "-----------------------------------------------------------------------------------------------------------\n",
      "\n",
      "Model: \"sequential_7\"\n",
      "_________________________________________________________________\n",
      "Layer (type)                 Output Shape              Param #   \n",
      "=================================================================\n",
      "lstm_7 (LSTM)                (None, 64)                17920     \n",
      "_________________________________________________________________\n",
      "dense_14 (Dense)             (None, 8)                 520       \n",
      "_________________________________________________________________\n",
      "dense_15 (Dense)             (None, 1)                 9         \n",
      "=================================================================\n",
      "Total params: 18,449\n",
      "Trainable params: 18,449\n",
      "Non-trainable params: 0\n",
      "_________________________________________________________________\n",
      "Epoch 1/25\n",
      "2891/2891 [==============================] - 34s 11ms/step - loss: 1629611.8750 - mean_absolute_error: 676.0351 - val_loss: 315570.5312 - val_mean_absolute_error: 490.8247\n",
      "INFO:tensorflow:Assets written to: 3H_ForecastModel_12_SizeWindow\\assets\n"
     ]
    },
    {
     "name": "stderr",
     "output_type": "stream",
     "text": [
      "INFO:tensorflow:Assets written to: 3H_ForecastModel_12_SizeWindow\\assets\n"
     ]
    },
    {
     "name": "stdout",
     "output_type": "stream",
     "text": [
      "Epoch 2/25\n",
      "2891/2891 [==============================] - 29s 10ms/step - loss: 1593874.1250 - mean_absolute_error: 653.8860 - val_loss: 286571.8750 - val_mean_absolute_error: 460.5585\n",
      "INFO:tensorflow:Assets written to: 3H_ForecastModel_12_SizeWindow\\assets\n"
     ]
    },
    {
     "name": "stderr",
     "output_type": "stream",
     "text": [
      "INFO:tensorflow:Assets written to: 3H_ForecastModel_12_SizeWindow\\assets\n"
     ]
    },
    {
     "name": "stdout",
     "output_type": "stream",
     "text": [
      "Epoch 3/25\n",
      "2891/2891 [==============================] - 27s 9ms/step - loss: 1549860.5000 - mean_absolute_error: 628.7765 - val_loss: 252028.2500 - val_mean_absolute_error: 423.0048\n",
      "INFO:tensorflow:Assets written to: 3H_ForecastModel_12_SizeWindow\\assets\n"
     ]
    },
    {
     "name": "stderr",
     "output_type": "stream",
     "text": [
      "INFO:tensorflow:Assets written to: 3H_ForecastModel_12_SizeWindow\\assets\n"
     ]
    },
    {
     "name": "stdout",
     "output_type": "stream",
     "text": [
      "Epoch 4/25\n",
      "2891/2891 [==============================] - 36s 13ms/step - loss: 1497437.3750 - mean_absolute_error: 600.4499 - val_loss: 213658.6406 - val_mean_absolute_error: 379.9690\n",
      "INFO:tensorflow:Assets written to: 3H_ForecastModel_12_SizeWindow\\assets\n"
     ]
    },
    {
     "name": "stderr",
     "output_type": "stream",
     "text": [
      "INFO:tensorflow:Assets written to: 3H_ForecastModel_12_SizeWindow\\assets\n"
     ]
    },
    {
     "name": "stdout",
     "output_type": "stream",
     "text": [
      "Epoch 5/25\n",
      "2891/2891 [==============================] - 31s 11ms/step - loss: 1438374.1250 - mean_absolute_error: 570.9827 - val_loss: 174616.8594 - val_mean_absolute_error: 333.8728\n",
      "INFO:tensorflow:Assets written to: 3H_ForecastModel_12_SizeWindow\\assets\n"
     ]
    },
    {
     "name": "stderr",
     "output_type": "stream",
     "text": [
      "INFO:tensorflow:Assets written to: 3H_ForecastModel_12_SizeWindow\\assets\n"
     ]
    },
    {
     "name": "stdout",
     "output_type": "stream",
     "text": [
      "Epoch 6/25\n",
      "2891/2891 [==============================] - 26s 9ms/step - loss: 1375192.3750 - mean_absolute_error: 542.1978 - val_loss: 137613.4688 - val_mean_absolute_error: 288.2580\n",
      "INFO:tensorflow:Assets written to: 3H_ForecastModel_12_SizeWindow\\assets\n"
     ]
    },
    {
     "name": "stderr",
     "output_type": "stream",
     "text": [
      "INFO:tensorflow:Assets written to: 3H_ForecastModel_12_SizeWindow\\assets\n"
     ]
    },
    {
     "name": "stdout",
     "output_type": "stream",
     "text": [
      "Epoch 7/25\n",
      "2891/2891 [==============================] - 29s 10ms/step - loss: 1309195.7500 - mean_absolute_error: 515.8181 - val_loss: 104937.4062 - val_mean_absolute_error: 244.7520\n",
      "INFO:tensorflow:Assets written to: 3H_ForecastModel_12_SizeWindow\\assets\n"
     ]
    },
    {
     "name": "stderr",
     "output_type": "stream",
     "text": [
      "INFO:tensorflow:Assets written to: 3H_ForecastModel_12_SizeWindow\\assets\n"
     ]
    },
    {
     "name": "stdout",
     "output_type": "stream",
     "text": [
      "Epoch 8/25\n",
      "2891/2891 [==============================] - 32s 11ms/step - loss: 1241523.6250 - mean_absolute_error: 491.8784 - val_loss: 77522.9766 - val_mean_absolute_error: 204.3262\n",
      "INFO:tensorflow:Assets written to: 3H_ForecastModel_12_SizeWindow\\assets\n"
     ]
    },
    {
     "name": "stderr",
     "output_type": "stream",
     "text": [
      "INFO:tensorflow:Assets written to: 3H_ForecastModel_12_SizeWindow\\assets\n"
     ]
    },
    {
     "name": "stdout",
     "output_type": "stream",
     "text": [
      "Epoch 9/25\n",
      "2891/2891 [==============================] - 34s 12ms/step - loss: 1172921.8750 - mean_absolute_error: 470.8342 - val_loss: 56932.6914 - val_mean_absolute_error: 170.8956 loss: 1172722.7500 - mean_absolute_err\n",
      "INFO:tensorflow:Assets written to: 3H_ForecastModel_12_SizeWindow\\assets\n"
     ]
    },
    {
     "name": "stderr",
     "output_type": "stream",
     "text": [
      "INFO:tensorflow:Assets written to: 3H_ForecastModel_12_SizeWindow\\assets\n"
     ]
    },
    {
     "name": "stdout",
     "output_type": "stream",
     "text": [
      "Epoch 10/25\n",
      "2891/2891 [==============================] - 36s 12ms/step - loss: 1103595.7500 - mean_absolute_error: 452.6510 - val_loss: 43256.2773 - val_mean_absolute_error: 144.800405953.6250 - mean_a\n",
      "INFO:tensorflow:Assets written to: 3H_ForecastModel_12_SizeWindow\\assets\n"
     ]
    },
    {
     "name": "stderr",
     "output_type": "stream",
     "text": [
      "INFO:tensorflow:Assets written to: 3H_ForecastModel_12_SizeWindow\\assets\n"
     ]
    },
    {
     "name": "stdout",
     "output_type": "stream",
     "text": [
      "Epoch 11/25\n",
      "2891/2891 [==============================] - 35s 12ms/step - loss: 1034220.0000 - mean_absolute_error: 436.5581 - val_loss: 35500.7227 - val_mean_absolute_error: 127.0199\n",
      "INFO:tensorflow:Assets written to: 3H_ForecastModel_12_SizeWindow\\assets\n"
     ]
    },
    {
     "name": "stderr",
     "output_type": "stream",
     "text": [
      "INFO:tensorflow:Assets written to: 3H_ForecastModel_12_SizeWindow\\assets\n"
     ]
    },
    {
     "name": "stdout",
     "output_type": "stream",
     "text": [
      "Epoch 12/25\n",
      "2891/2891 [==============================] - 33s 11ms/step - loss: 963870.0000 - mean_absolute_error: 421.5001 - val_loss: 32439.3672 - val_mean_absolute_error: 118.2858\n",
      "INFO:tensorflow:Assets written to: 3H_ForecastModel_12_SizeWindow\\assets\n"
     ]
    },
    {
     "name": "stderr",
     "output_type": "stream",
     "text": [
      "INFO:tensorflow:Assets written to: 3H_ForecastModel_12_SizeWindow\\assets\n"
     ]
    },
    {
     "name": "stdout",
     "output_type": "stream",
     "text": [
      "Epoch 13/25\n",
      "2891/2891 [==============================] - 26s 9ms/step - loss: 893500.2500 - mean_absolute_error: 407.7388 - val_loss: 31277.1035 - val_mean_absolute_error: 117.2151\n",
      "INFO:tensorflow:Assets written to: 3H_ForecastModel_12_SizeWindow\\assets\n"
     ]
    },
    {
     "name": "stderr",
     "output_type": "stream",
     "text": [
      "INFO:tensorflow:Assets written to: 3H_ForecastModel_12_SizeWindow\\assets\n"
     ]
    },
    {
     "name": "stdout",
     "output_type": "stream",
     "text": [
      "Epoch 14/25\n",
      "2891/2891 [==============================] - 24s 8ms/step - loss: 823156.0625 - mean_absolute_error: 394.5612 - val_loss: 30601.3652 - val_mean_absolute_error: 115.7903\n",
      "INFO:tensorflow:Assets written to: 3H_ForecastModel_12_SizeWindow\\assets\n"
     ]
    },
    {
     "name": "stderr",
     "output_type": "stream",
     "text": [
      "INFO:tensorflow:Assets written to: 3H_ForecastModel_12_SizeWindow\\assets\n"
     ]
    },
    {
     "name": "stdout",
     "output_type": "stream",
     "text": [
      "Epoch 15/25\n",
      "2891/2891 [==============================] - 26s 9ms/step - loss: 752884.7500 - mean_absolute_error: 380.7129 - val_loss: 29317.5059 - val_mean_absolute_error: 111.7708\n",
      "INFO:tensorflow:Assets written to: 3H_ForecastModel_12_SizeWindow\\assets\n"
     ]
    },
    {
     "name": "stderr",
     "output_type": "stream",
     "text": [
      "INFO:tensorflow:Assets written to: 3H_ForecastModel_12_SizeWindow\\assets\n"
     ]
    },
    {
     "name": "stdout",
     "output_type": "stream",
     "text": [
      "Epoch 16/25\n",
      "2891/2891 [==============================] - 31s 11ms/step - loss: 682602.8750 - mean_absolute_error: 365.9582 - val_loss: 29781.6270 - val_mean_absolute_error: 115.7931\n",
      "Epoch 17/25\n",
      "2891/2891 [==============================] - 27s 9ms/step - loss: 613278.0625 - mean_absolute_error: 351.8551 - val_loss: 30406.0996 - val_mean_absolute_error: 117.6459\n",
      "Epoch 18/25\n",
      "2891/2891 [==============================] - 25s 9ms/step - loss: 545664.6250 - mean_absolute_error: 337.7771 - val_loss: 30324.8691 - val_mean_absolute_error: 116.8434\n",
      "Epoch 19/25\n",
      "2891/2891 [==============================] - 23s 8ms/step - loss: 480837.6250 - mean_absolute_error: 321.9756 - val_loss: 30267.9121 - val_mean_absolute_error: 116.8893\n",
      "Epoch 20/25\n",
      "2891/2891 [==============================] - 25s 9ms/step - loss: 418094.1875 - mean_absolute_error: 305.7039 - val_loss: 30410.2246 - val_mean_absolute_error: 117.1944\n",
      "Epoch 21/25\n",
      "2891/2891 [==============================] - 21s 7ms/step - loss: 358924.1250 - mean_absolute_error: 289.0553 - val_loss: 32766.3164 - val_mean_absolute_error: 123.5902\n",
      "Epoch 22/25\n",
      "2891/2891 [==============================] - 22s 8ms/step - loss: 303524.8125 - mean_absolute_error: 272.1412 - val_loss: 31042.6211 - val_mean_absolute_error: 119.6702\n",
      "Epoch 23/25\n",
      "2891/2891 [==============================] - 21s 7ms/step - loss: 253144.2656 - mean_absolute_error: 254.7908 - val_loss: 32164.3867 - val_mean_absolute_error: 120.1992\n",
      "Epoch 24/25\n",
      "2891/2891 [==============================] - 21s 7ms/step - loss: 207875.4531 - mean_absolute_error: 236.4648 - val_loss: 32965.4805 - val_mean_absolute_error: 124.4575\n",
      "Epoch 25/25\n",
      "2891/2891 [==============================] - 22s 7ms/step - loss: 169384.7656 - mean_absolute_error: 218.8001 - val_loss: 35401.9727 - val_mean_absolute_error: 126.8471\n",
      "\n",
      "-----------------------------------------------------------------------------------------------------------\n",
      "\n",
      "CPU times: total: 3h 52min 43s\n",
      "Wall time: 46min 49s\n"
     ]
    }
   ],
   "source": [
    "%%time\n",
    "\n",
    "Trainer(3)"
   ]
  },
  {
   "cell_type": "code",
   "execution_count": 15,
   "id": "b0e58d7f",
   "metadata": {},
   "outputs": [
    {
     "name": "stdout",
     "output_type": "stream",
     "text": [
      "Loading: 3H_ForecastModel_6_SizeWindow/\n",
      "629/629 [==============================] - 3s 3ms/step - loss: 218091.0625 - mean_absolute_error: 162.9360: 0s - loss: 226262.0781 - mean_absolute_error: 166.\n",
      "\n",
      "\n",
      "Loading: 3H_ForecastModel_8_SizeWindow/\n",
      "629/629 [==============================] - 3s 4ms/step - loss: 118284.5859 - mean_absolute_error: 154.6538\n",
      "\n",
      "\n",
      "Loading: 3H_ForecastModel_10_SizeWindow/\n",
      "629/629 [==============================] - 3s 4ms/step - loss: 84388.6562 - mean_absolute_error: 133.7740A: 0s - loss: 94127.2266 - mean_absolute_error: 1\n",
      "\n",
      "\n",
      "Loading: 3H_ForecastModel_12_SizeWindow/\n",
      "629/629 [==============================] - 3s 4ms/step - loss: 209401.4375 - mean_absolute_error: 170.9045: 1s - loss: 31577\n",
      "\n",
      "\n",
      "CPU times: total: 3min 17s\n",
      "Wall time: 2min 5s\n"
     ]
    }
   ],
   "source": [
    "%%time\n",
    "\n",
    "modelsEvaluator(3,6,12,True)"
   ]
  },
  {
   "cell_type": "markdown",
   "id": "3fdb2bf2",
   "metadata": {},
   "source": [
    " <h3> <font color='orange'> 4 hour forecasting model training </font> <h3/> "
   ]
  },
  {
   "cell_type": "code",
   "execution_count": 7,
   "id": "f55b9b1b",
   "metadata": {},
   "outputs": [
    {
     "name": "stdout",
     "output_type": "stream",
     "text": [
      "Model: \"sequential_12\"\n",
      "_________________________________________________________________\n",
      "Layer (type)                 Output Shape              Param #   \n",
      "=================================================================\n",
      "lstm_12 (LSTM)               (None, 64)                17920     \n",
      "_________________________________________________________________\n",
      "dense_24 (Dense)             (None, 8)                 520       \n",
      "_________________________________________________________________\n",
      "dense_25 (Dense)             (None, 1)                 9         \n",
      "=================================================================\n",
      "Total params: 18,449\n",
      "Trainable params: 18,449\n",
      "Non-trainable params: 0\n",
      "_________________________________________________________________\n",
      "Epoch 1/25\n",
      "2891/2891 [==============================] - 18s 5ms/step - loss: 1608928.8750 - mean_absolute_error: 663.3605 - val_loss: 277280.7812 - val_mean_absolute_error: 450.6596\n",
      "INFO:tensorflow:Assets written to: 4H_ForecastModel_6_SizeWindow\\assets\n"
     ]
    },
    {
     "name": "stderr",
     "output_type": "stream",
     "text": [
      "INFO:tensorflow:Assets written to: 4H_ForecastModel_6_SizeWindow\\assets\n"
     ]
    },
    {
     "name": "stdout",
     "output_type": "stream",
     "text": [
      "Epoch 2/25\n",
      "2891/2891 [==============================] - 16s 6ms/step - loss: 1505212.3750 - mean_absolute_error: 607.7448 - val_loss: 196914.9219 - val_mean_absolute_error: 360.8551 4s - loss: 1512327.8750 - mean_a - ETA: 3s - loss: 1511196.0000 - mean_absolute\n",
      "INFO:tensorflow:Assets written to: 4H_ForecastModel_6_SizeWindow\\assets\n"
     ]
    },
    {
     "name": "stderr",
     "output_type": "stream",
     "text": [
      "INFO:tensorflow:Assets written to: 4H_ForecastModel_6_SizeWindow\\assets\n"
     ]
    },
    {
     "name": "stdout",
     "output_type": "stream",
     "text": [
      "Epoch 3/25\n",
      "2891/2891 [==============================] - 15s 5ms/step - loss: 1379807.6250 - mean_absolute_error: 551.2326 - val_loss: 121097.5156 - val_mean_absolute_error: 266.874240551 - ETA: 7s - loss: 1403220.6250 - m - ETA: 2s - los\n",
      "INFO:tensorflow:Assets written to: 4H_ForecastModel_6_SizeWindow\\assets\n"
     ]
    },
    {
     "name": "stderr",
     "output_type": "stream",
     "text": [
      "INFO:tensorflow:Assets written to: 4H_ForecastModel_6_SizeWindow\\assets\n"
     ]
    },
    {
     "name": "stdout",
     "output_type": "stream",
     "text": [
      "Epoch 4/25\n",
      "2891/2891 [==============================] - 17s 6ms/step - loss: 1246079.6250 - mean_absolute_error: 503.5970 - val_loss: 68126.7031 - val_mean_absolute_error: 191.1877\n",
      "INFO:tensorflow:Assets written to: 4H_ForecastModel_6_SizeWindow\\assets\n"
     ]
    },
    {
     "name": "stderr",
     "output_type": "stream",
     "text": [
      "INFO:tensorflow:Assets written to: 4H_ForecastModel_6_SizeWindow\\assets\n"
     ]
    },
    {
     "name": "stdout",
     "output_type": "stream",
     "text": [
      "Epoch 5/25\n",
      "2891/2891 [==============================] - 17s 6ms/step - loss: 1111284.7500 - mean_absolute_error: 468.2807 - val_loss: 42922.1797 - val_mean_absolute_error: 145.6711\n",
      "INFO:tensorflow:Assets written to: 4H_ForecastModel_6_SizeWindow\\assets\n"
     ]
    },
    {
     "name": "stderr",
     "output_type": "stream",
     "text": [
      "INFO:tensorflow:Assets written to: 4H_ForecastModel_6_SizeWindow\\assets\n"
     ]
    },
    {
     "name": "stdout",
     "output_type": "stream",
     "text": [
      "Epoch 6/25\n",
      "2891/2891 [==============================] - 16s 5ms/step - loss: 974199.1875 - mean_absolute_error: 438.9298 - val_loss: 38771.9023 - val_mean_absolute_error: 132.8311\n",
      "INFO:tensorflow:Assets written to: 4H_ForecastModel_6_SizeWindow\\assets\n"
     ]
    },
    {
     "name": "stderr",
     "output_type": "stream",
     "text": [
      "INFO:tensorflow:Assets written to: 4H_ForecastModel_6_SizeWindow\\assets\n"
     ]
    },
    {
     "name": "stdout",
     "output_type": "stream",
     "text": [
      "Epoch 7/25\n",
      "2891/2891 [==============================] - 17s 6ms/step - loss: 834794.1250 - mean_absolute_error: 412.5186 - val_loss: 41007.0898 - val_mean_absolute_error: 139.5834\n",
      "Epoch 8/25\n",
      "2891/2891 [==============================] - 17s 6ms/step - loss: 696226.9375 - mean_absolute_error: 384.5713 - val_loss: 38091.3672 - val_mean_absolute_error: 133.6158\n",
      "INFO:tensorflow:Assets written to: 4H_ForecastModel_6_SizeWindow\\assets\n"
     ]
    },
    {
     "name": "stderr",
     "output_type": "stream",
     "text": [
      "INFO:tensorflow:Assets written to: 4H_ForecastModel_6_SizeWindow\\assets\n"
     ]
    },
    {
     "name": "stdout",
     "output_type": "stream",
     "text": [
      "Epoch 9/25\n",
      "2891/2891 [==============================] - 14s 5ms/step - loss: 562665.0625 - mean_absolute_error: 356.0258 - val_loss: 39549.2148 - val_mean_absolute_error: 138.3651\n",
      "Epoch 10/25\n",
      "2891/2891 [==============================] - 14s 5ms/step - loss: 436915.0312 - mean_absolute_error: 324.6117 - val_loss: 40532.7148 - val_mean_absolute_error: 139.0678n_absolute_error\n",
      "Epoch 11/25\n",
      "2891/2891 [==============================] - 14s 5ms/step - loss: 324688.7188 - mean_absolute_error: 291.4143 - val_loss: 40957.2070 - val_mean_absolute_error: 137.6997\n",
      "Epoch 12/25\n",
      "2891/2891 [==============================] - 14s 5ms/step - loss: 232155.1250 - mean_absolute_error: 257.4959 - val_loss: 38413.1133 - val_mean_absolute_error: 132.1715\n",
      "Epoch 13/25\n",
      "2891/2891 [==============================] - 14s 5ms/step - loss: 162735.5312 - mean_absolute_error: 222.6802 - val_loss: 40474.8438 - val_mean_absolute_error: 137.8775\n",
      "Epoch 14/25\n",
      "2891/2891 [==============================] - 14s 5ms/step - loss: 119110.8516 - mean_absolute_error: 189.7392 - val_loss: 40499.2656 - val_mean_absolute_error: 139.5746\n",
      "Epoch 15/25\n",
      "2891/2891 [==============================] - 14s 5ms/step - loss: 102694.5000 - mean_absolute_error: 169.5542 - val_loss: 41036.7109 - val_mean_absolute_error: 139.1962\n",
      "Epoch 16/25\n",
      "2891/2891 [==============================] - 14s 5ms/step - loss: 94922.1016 - mean_absolute_error: 152.6125 - val_loss: 40918.1406 - val_mean_absolute_error: 141.9053\n",
      "Epoch 17/25\n",
      "2891/2891 [==============================] - 14s 5ms/step - loss: 94268.2031 - mean_absolute_error: 151.0014 - val_loss: 40524.6094 - val_mean_absolute_error: 141.9088\n",
      "Epoch 18/25\n",
      "2891/2891 [==============================] - 14s 5ms/step - loss: 93680.4688 - mean_absolute_error: 149.8562 - val_loss: 43042.0977 - val_mean_absolute_error: 145.1273ss: 96722.421 - ETA: 3s - loss: 95917.7812 - mean_absolute_ - ETA: 2s \n",
      "Epoch 19/25\n",
      "2891/2891 [==============================] - 14s 5ms/step - loss: 92585.8438 - mean_absolute_error: 146.2709 - val_loss: 41190.5039 - val_mean_absolute_error: 142.8561\n",
      "Epoch 20/25\n",
      "2891/2891 [==============================] - 14s 5ms/step - loss: 91636.0234 - mean_absolute_error: 143.0108 - val_loss: 42429.0977 - val_mean_absolute_error: 146.6754\n",
      "Epoch 21/25\n",
      "2891/2891 [==============================] - 15s 5ms/step - loss: 90849.2031 - mean_absolute_error: 141.9370 - val_loss: 42734.3945 - val_mean_absolute_error: 147.4880\n",
      "Epoch 22/25\n",
      "2891/2891 [==============================] - 14s 5ms/step - loss: 91486.1797 - mean_absolute_error: 145.6105 - val_loss: 41505.0508 - val_mean_absolute_error: 144.19581.0078 - mean_absolute_error: 146. - ETA: 3s - lo - ETA: 1s - loss: 90715.6016 - mean_\n",
      "Epoch 23/25\n",
      "2891/2891 [==============================] - 14s 5ms/step - loss: 90332.5703 - mean_absolute_error: 141.3149 - val_loss: 43393.9453 - val_mean_absolute_error: 146.4699\n",
      "Epoch 24/25\n",
      "2891/2891 [==============================] - 14s 5ms/step - loss: 89768.1719 - mean_absolute_error: 139.9129 - val_loss: 43731.1406 - val_mean_absolute_error: 147.7949\n",
      "Epoch 25/25\n",
      "2891/2891 [==============================] - 14s 5ms/step - loss: 90461.3125 - mean_absolute_error: 143.9447 - val_loss: 42774.5742 - val_mean_absolute_error: 148.5555\n",
      "\n",
      "-----------------------------------------------------------------------------------------------------------\n",
      "\n",
      "Model: \"sequential_13\"\n",
      "_________________________________________________________________\n",
      "Layer (type)                 Output Shape              Param #   \n",
      "=================================================================\n",
      "lstm_13 (LSTM)               (None, 64)                17920     \n",
      "_________________________________________________________________\n",
      "dense_26 (Dense)             (None, 8)                 520       \n",
      "_________________________________________________________________\n",
      "dense_27 (Dense)             (None, 1)                 9         \n",
      "=================================================================\n",
      "Total params: 18,449\n",
      "Trainable params: 18,449\n",
      "Non-trainable params: 0\n",
      "_________________________________________________________________\n",
      "Epoch 1/25\n",
      "2891/2891 [==============================] - 20s 6ms/step - loss: 1627974.5000 - mean_absolute_error: 675.0099 - val_loss: 312502.1250 - val_mean_absolute_error: 487.7024\n",
      "INFO:tensorflow:Assets written to: 4H_ForecastModel_8_SizeWindow\\assets\n"
     ]
    },
    {
     "name": "stderr",
     "output_type": "stream",
     "text": [
      "INFO:tensorflow:Assets written to: 4H_ForecastModel_8_SizeWindow\\assets\n"
     ]
    },
    {
     "name": "stdout",
     "output_type": "stream",
     "text": [
      "Epoch 2/25\n",
      "2891/2891 [==============================] - 20s 7ms/step - loss: 1590800.8750 - mean_absolute_error: 652.3990 - val_loss: 284220.6562 - val_mean_absolute_error: 458.0579\n",
      "INFO:tensorflow:Assets written to: 4H_ForecastModel_8_SizeWindow\\assets\n"
     ]
    },
    {
     "name": "stderr",
     "output_type": "stream",
     "text": [
      "INFO:tensorflow:Assets written to: 4H_ForecastModel_8_SizeWindow\\assets\n"
     ]
    },
    {
     "name": "stdout",
     "output_type": "stream",
     "text": [
      "Epoch 3/25\n",
      "2891/2891 [==============================] - 19s 7ms/step - loss: 1547736.8750 - mean_absolute_error: 628.2153 - val_loss: 249571.5625 - val_mean_absolute_error: 420.3162\n",
      "INFO:tensorflow:Assets written to: 4H_ForecastModel_8_SizeWindow\\assets\n"
     ]
    },
    {
     "name": "stderr",
     "output_type": "stream",
     "text": [
      "INFO:tensorflow:Assets written to: 4H_ForecastModel_8_SizeWindow\\assets\n"
     ]
    },
    {
     "name": "stdout",
     "output_type": "stream",
     "text": [
      "Epoch 4/25\n",
      "2891/2891 [==============================] - 18s 6ms/step - loss: 1495042.5000 - mean_absolute_error: 601.1419 - val_loss: 211932.9844 - val_mean_absolute_error: 378.1787\n",
      "INFO:tensorflow:Assets written to: 4H_ForecastModel_8_SizeWindow\\assets\n"
     ]
    },
    {
     "name": "stderr",
     "output_type": "stream",
     "text": [
      "INFO:tensorflow:Assets written to: 4H_ForecastModel_8_SizeWindow\\assets\n"
     ]
    },
    {
     "name": "stdout",
     "output_type": "stream",
     "text": [
      "Epoch 5/25\n",
      "2891/2891 [==============================] - 18s 6ms/step - loss: 1437188.8750 - mean_absolute_error: 573.2979 - val_loss: 173712.5000 - val_mean_absolute_error: 333.2430\n",
      "INFO:tensorflow:Assets written to: 4H_ForecastModel_8_SizeWindow\\assets\n"
     ]
    },
    {
     "name": "stderr",
     "output_type": "stream",
     "text": [
      "INFO:tensorflow:Assets written to: 4H_ForecastModel_8_SizeWindow\\assets\n"
     ]
    },
    {
     "name": "stdout",
     "output_type": "stream",
     "text": [
      "Epoch 6/25\n",
      "2891/2891 [==============================] - 19s 7ms/step - loss: 1375274.0000 - mean_absolute_error: 546.7114 - val_loss: 137599.6406 - val_mean_absolute_error: 288.8885lut\n",
      "INFO:tensorflow:Assets written to: 4H_ForecastModel_8_SizeWindow\\assets\n"
     ]
    },
    {
     "name": "stderr",
     "output_type": "stream",
     "text": [
      "INFO:tensorflow:Assets written to: 4H_ForecastModel_8_SizeWindow\\assets\n"
     ]
    },
    {
     "name": "stdout",
     "output_type": "stream",
     "text": [
      "Epoch 7/25\n",
      "2891/2891 [==============================] - 22s 8ms/step - loss: 1311602.1250 - mean_absolute_error: 522.5349 - val_loss: 106403.4062 - val_mean_absolute_error: 248.5874\n",
      "INFO:tensorflow:Assets written to: 4H_ForecastModel_8_SizeWindow\\assets\n"
     ]
    },
    {
     "name": "stderr",
     "output_type": "stream",
     "text": [
      "INFO:tensorflow:Assets written to: 4H_ForecastModel_8_SizeWindow\\assets\n"
     ]
    },
    {
     "name": "stdout",
     "output_type": "stream",
     "text": [
      "Epoch 8/25\n",
      "2891/2891 [==============================] - 20s 7ms/step - loss: 1246320.8750 - mean_absolute_error: 501.2693 - val_loss: 80585.6641 - val_mean_absolute_error: 211.2363s - loss: 1\n",
      "INFO:tensorflow:Assets written to: 4H_ForecastModel_8_SizeWindow\\assets\n"
     ]
    },
    {
     "name": "stderr",
     "output_type": "stream",
     "text": [
      "INFO:tensorflow:Assets written to: 4H_ForecastModel_8_SizeWindow\\assets\n"
     ]
    },
    {
     "name": "stdout",
     "output_type": "stream",
     "text": [
      "Epoch 9/25\n",
      "2891/2891 [==============================] - 18s 6ms/step - loss: 1179405.5000 - mean_absolute_error: 482.5657 - val_loss: 61759.3320 - val_mean_absolute_error: 182.5436\n",
      "INFO:tensorflow:Assets written to: 4H_ForecastModel_8_SizeWindow\\assets\n"
     ]
    },
    {
     "name": "stderr",
     "output_type": "stream",
     "text": [
      "INFO:tensorflow:Assets written to: 4H_ForecastModel_8_SizeWindow\\assets\n"
     ]
    },
    {
     "name": "stdout",
     "output_type": "stream",
     "text": [
      "Epoch 10/25\n",
      "2891/2891 [==============================] - 19s 7ms/step - loss: 1112071.3750 - mean_absolute_error: 466.2245 - val_loss: 49845.5078 - val_mean_absolute_error: 160.6926\n",
      "INFO:tensorflow:Assets written to: 4H_ForecastModel_8_SizeWindow\\assets\n"
     ]
    },
    {
     "name": "stderr",
     "output_type": "stream",
     "text": [
      "INFO:tensorflow:Assets written to: 4H_ForecastModel_8_SizeWindow\\assets\n"
     ]
    },
    {
     "name": "stdout",
     "output_type": "stream",
     "text": [
      "Epoch 11/25\n",
      "2891/2891 [==============================] - 21s 7ms/step - loss: 1044876.1875 - mean_absolute_error: 451.7379 - val_loss: 44280.5430 - val_mean_absolute_error: 147.8188\n",
      "INFO:tensorflow:Assets written to: 4H_ForecastModel_8_SizeWindow\\assets\n"
     ]
    },
    {
     "name": "stderr",
     "output_type": "stream",
     "text": [
      "INFO:tensorflow:Assets written to: 4H_ForecastModel_8_SizeWindow\\assets\n"
     ]
    },
    {
     "name": "stdout",
     "output_type": "stream",
     "text": [
      "Epoch 12/25\n",
      "2891/2891 [==============================] - 19s 7ms/step - loss: 975654.1250 - mean_absolute_error: 437.6391 - val_loss: 40337.9531 - val_mean_absolute_error: 137.7418\n",
      "INFO:tensorflow:Assets written to: 4H_ForecastModel_8_SizeWindow\\assets\n"
     ]
    },
    {
     "name": "stderr",
     "output_type": "stream",
     "text": [
      "INFO:tensorflow:Assets written to: 4H_ForecastModel_8_SizeWindow\\assets\n"
     ]
    },
    {
     "name": "stdout",
     "output_type": "stream",
     "text": [
      "Epoch 13/25\n",
      "2891/2891 [==============================] - 18s 6ms/step - loss: 905529.9375 - mean_absolute_error: 423.3924 - val_loss: 39779.0195 - val_mean_absolute_error: 137.4875\n",
      "INFO:tensorflow:Assets written to: 4H_ForecastModel_8_SizeWindow\\assets\n"
     ]
    },
    {
     "name": "stderr",
     "output_type": "stream",
     "text": [
      "INFO:tensorflow:Assets written to: 4H_ForecastModel_8_SizeWindow\\assets\n"
     ]
    },
    {
     "name": "stdout",
     "output_type": "stream",
     "text": [
      "Epoch 14/25\n",
      "2891/2891 [==============================] - 21s 7ms/step - loss: 835058.6875 - mean_absolute_error: 410.0333 - val_loss: 39327.2812 - val_mean_absolute_error: 135.9922\n",
      "INFO:tensorflow:Assets written to: 4H_ForecastModel_8_SizeWindow\\assets\n"
     ]
    },
    {
     "name": "stderr",
     "output_type": "stream",
     "text": [
      "INFO:tensorflow:Assets written to: 4H_ForecastModel_8_SizeWindow\\assets\n"
     ]
    },
    {
     "name": "stdout",
     "output_type": "stream",
     "text": [
      "Epoch 15/25\n",
      "2891/2891 [==============================] - 18s 6ms/step - loss: 764566.0625 - mean_absolute_error: 396.0574 - val_loss: 38983.1367 - val_mean_absolute_error: 136.2733\n",
      "INFO:tensorflow:Assets written to: 4H_ForecastModel_8_SizeWindow\\assets\n"
     ]
    },
    {
     "name": "stderr",
     "output_type": "stream",
     "text": [
      "INFO:tensorflow:Assets written to: 4H_ForecastModel_8_SizeWindow\\assets\n"
     ]
    },
    {
     "name": "stdout",
     "output_type": "stream",
     "text": [
      "Epoch 16/25\n",
      "2891/2891 [==============================] - 21s 7ms/step - loss: 694701.0625 - mean_absolute_error: 381.8941 - val_loss: 39200.4141 - val_mean_absolute_error: 136.2301\n",
      "Epoch 17/25\n",
      "2891/2891 [==============================] - 18s 6ms/step - loss: 625574.5000 - mean_absolute_error: 366.9217 - val_loss: 39823.4258 - val_mean_absolute_error: 138.1482\n",
      "Epoch 18/25\n",
      "2891/2891 [==============================] - 16s 6ms/step - loss: 557660.5000 - mean_absolute_error: 351.5983 - val_loss: 41883.6680 - val_mean_absolute_error: 142.5721\n",
      "Epoch 19/25\n",
      "2891/2891 [==============================] - 17s 6ms/step - loss: 491707.7500 - mean_absolute_error: 335.7883 - val_loss: 46142.7852 - val_mean_absolute_error: 153.1021\n",
      "Epoch 20/25\n",
      "2891/2891 [==============================] - 16s 6ms/step - loss: 428274.7812 - mean_absolute_error: 319.1594 - val_loss: 45505.1484 - val_mean_absolute_error: 150.6559\n",
      "Epoch 21/25\n",
      "2891/2891 [==============================] - 16s 6ms/step - loss: 368045.5000 - mean_absolute_error: 302.0206 - val_loss: 42845.7578 - val_mean_absolute_error: 146.0264\n",
      "Epoch 22/25\n",
      "2891/2891 [==============================] - 16s 6ms/step - loss: 311947.7500 - mean_absolute_error: 283.9550 - val_loss: 41089.5977 - val_mean_absolute_error: 141.4020\n",
      "Epoch 23/25\n",
      "2891/2891 [==============================] - 17s 6ms/step - loss: 260567.5312 - mean_absolute_error: 265.7490 - val_loss: 44494.1289 - val_mean_absolute_error: 150.3442\n",
      "Epoch 24/25\n",
      "2891/2891 [==============================] - 16s 6ms/step - loss: 215556.1406 - mean_absolute_error: 247.4792 - val_loss: 49708.9805 - val_mean_absolute_error: 155.3483 - ETA: 0s - loss: 215354.3125 - mean_absolute_error: 247.33 - ETA: 0s - loss: 215214.8750 - mean_absolute_e\n",
      "Epoch 25/25\n",
      "2891/2891 [==============================] - 16s 6ms/step - loss: 176992.1250 - mean_absolute_error: 229.2651 - val_loss: 42567.6445 - val_mean_absolute_error: 143.3387\n",
      "\n",
      "-----------------------------------------------------------------------------------------------------------\n",
      "\n",
      "Model: \"sequential_14\"\n",
      "_________________________________________________________________\n",
      "Layer (type)                 Output Shape              Param #   \n",
      "=================================================================\n",
      "lstm_14 (LSTM)               (None, 64)                17920     \n",
      "_________________________________________________________________\n",
      "dense_28 (Dense)             (None, 8)                 520       \n",
      "_________________________________________________________________\n",
      "dense_29 (Dense)             (None, 1)                 9         \n",
      "=================================================================\n",
      "Total params: 18,449\n",
      "Trainable params: 18,449\n",
      "Non-trainable params: 0\n",
      "_________________________________________________________________\n",
      "Epoch 1/25\n",
      "2891/2891 [==============================] - 27s 9ms/step - loss: 1609675.3750 - mean_absolute_error: 663.3336 - val_loss: 273509.0938 - val_mean_absolute_error: 446.4915\n",
      "INFO:tensorflow:Assets written to: 4H_ForecastModel_10_SizeWindow\\assets\n"
     ]
    },
    {
     "name": "stderr",
     "output_type": "stream",
     "text": [
      "INFO:tensorflow:Assets written to: 4H_ForecastModel_10_SizeWindow\\assets\n"
     ]
    },
    {
     "name": "stdout",
     "output_type": "stream",
     "text": [
      "Epoch 2/25\n",
      "2891/2891 [==============================] - 26s 9ms/step - loss: 1492318.0000 - mean_absolute_error: 600.2323 - val_loss: 184454.5938 - val_mean_absolute_error: 346.3038\n",
      "INFO:tensorflow:Assets written to: 4H_ForecastModel_10_SizeWindow\\assets\n"
     ]
    },
    {
     "name": "stderr",
     "output_type": "stream",
     "text": [
      "INFO:tensorflow:Assets written to: 4H_ForecastModel_10_SizeWindow\\assets\n"
     ]
    },
    {
     "name": "stdout",
     "output_type": "stream",
     "text": [
      "Epoch 3/25\n",
      "2891/2891 [==============================] - 24s 8ms/step - loss: 1349900.1250 - mean_absolute_error: 537.1956 - val_loss: 105005.3203 - val_mean_absolute_error: 245.7737\n",
      "INFO:tensorflow:Assets written to: 4H_ForecastModel_10_SizeWindow\\assets\n"
     ]
    },
    {
     "name": "stderr",
     "output_type": "stream",
     "text": [
      "INFO:tensorflow:Assets written to: 4H_ForecastModel_10_SizeWindow\\assets\n"
     ]
    },
    {
     "name": "stdout",
     "output_type": "stream",
     "text": [
      "Epoch 4/25\n",
      "2891/2891 [==============================] - 22s 8ms/step - loss: 1201958.0000 - mean_absolute_error: 489.7968 - val_loss: 57618.9805 - val_mean_absolute_error: 174.3487\n",
      "INFO:tensorflow:Assets written to: 4H_ForecastModel_10_SizeWindow\\assets\n"
     ]
    },
    {
     "name": "stderr",
     "output_type": "stream",
     "text": [
      "INFO:tensorflow:Assets written to: 4H_ForecastModel_10_SizeWindow\\assets\n"
     ]
    },
    {
     "name": "stdout",
     "output_type": "stream",
     "text": [
      "Epoch 5/25\n",
      "2891/2891 [==============================] - 21s 7ms/step - loss: 1054253.6250 - mean_absolute_error: 455.8903 - val_loss: 42915.0195 - val_mean_absolute_error: 143.9461 - mean_absolute_\n",
      "INFO:tensorflow:Assets written to: 4H_ForecastModel_10_SizeWindow\\assets\n"
     ]
    },
    {
     "name": "stderr",
     "output_type": "stream",
     "text": [
      "INFO:tensorflow:Assets written to: 4H_ForecastModel_10_SizeWindow\\assets\n"
     ]
    },
    {
     "name": "stdout",
     "output_type": "stream",
     "text": [
      "Epoch 6/25\n",
      "2891/2891 [==============================] - 23s 8ms/step - loss: 904439.3125 - mean_absolute_error: 425.8506 - val_loss: 40303.6602 - val_mean_absolute_error: 137.2816\n",
      "INFO:tensorflow:Assets written to: 4H_ForecastModel_10_SizeWindow\\assets\n"
     ]
    },
    {
     "name": "stderr",
     "output_type": "stream",
     "text": [
      "INFO:tensorflow:Assets written to: 4H_ForecastModel_10_SizeWindow\\assets\n"
     ]
    },
    {
     "name": "stdout",
     "output_type": "stream",
     "text": [
      "Epoch 7/25\n",
      "2891/2891 [==============================] - 24s 8ms/step - loss: 751170.3125 - mean_absolute_error: 395.8308 - val_loss: 39381.1875 - val_mean_absolute_error: 136.3442\n",
      "INFO:tensorflow:Assets written to: 4H_ForecastModel_10_SizeWindow\\assets\n"
     ]
    },
    {
     "name": "stderr",
     "output_type": "stream",
     "text": [
      "INFO:tensorflow:Assets written to: 4H_ForecastModel_10_SizeWindow\\assets\n"
     ]
    },
    {
     "name": "stdout",
     "output_type": "stream",
     "text": [
      "Epoch 8/25\n",
      "2891/2891 [==============================] - 24s 8ms/step - loss: 600999.5625 - mean_absolute_error: 364.6143 - val_loss: 41258.1484 - val_mean_absolute_error: 140.6648\n",
      "Epoch 9/25\n",
      "2891/2891 [==============================] - 20s 7ms/step - loss: 457100.5625 - mean_absolute_error: 329.9146 - val_loss: 41473.4844 - val_mean_absolute_error: 144.9545\n",
      "Epoch 10/25\n",
      "2891/2891 [==============================] - 20s 7ms/step - loss: 330756.5312 - mean_absolute_error: 293.5664 - val_loss: 42505.9727 - val_mean_absolute_error: 141.3815\n",
      "Epoch 11/25\n",
      "2891/2891 [==============================] - 20s 7ms/step - loss: 230407.6406 - mean_absolute_error: 258.1966 - val_loss: 41410.6328 - val_mean_absolute_error: 141.7623\n",
      "Epoch 12/25\n",
      "2891/2891 [==============================] - 20s 7ms/step - loss: 152504.0000 - mean_absolute_error: 218.5440 - val_loss: 43191.2695 - val_mean_absolute_error: 150.3764\n",
      "Epoch 13/25\n",
      "2891/2891 [==============================] - 20s 7ms/step - loss: 108754.9688 - mean_absolute_error: 184.1048 - val_loss: 43334.4766 - val_mean_absolute_error: 145.0201\n",
      "Epoch 14/25\n",
      "2891/2891 [==============================] - 20s 7ms/step - loss: 94333.6172 - mean_absolute_error: 162.7372 - val_loss: 42289.9258 - val_mean_absolute_error: 145.9540\n",
      "Epoch 15/25\n",
      "2891/2891 [==============================] - 20s 7ms/step - loss: 90676.5547 - mean_absolute_error: 155.9407 - val_loss: 46721.0820 - val_mean_absolute_error: 155.5135\n",
      "Epoch 16/25\n",
      "2891/2891 [==============================] - 20s 7ms/step - loss: 89060.0781 - mean_absolute_error: 149.8176 - val_loss: 48035.6836 - val_mean_absolute_error: 160.8775\n",
      "Epoch 17/25\n",
      "2891/2891 [==============================] - 20s 7ms/step - loss: 90352.9531 - mean_absolute_error: 152.8762 - val_loss: 47276.7695 - val_mean_absolute_error: 154.9458688 - mean_absol - ETA: 8s - loss: 92 - ETA: \n",
      "Epoch 18/25\n",
      "2891/2891 [==============================] - 20s 7ms/step - loss: 88584.5391 - mean_absolute_error: 146.7097 - val_loss: 52789.3711 - val_mean_absolute_error: 166.3367\n",
      "Epoch 19/25\n",
      "2891/2891 [==============================] - 20s 7ms/step - loss: 88776.1406 - mean_absolute_error: 146.0982 - val_loss: 43854.1328 - val_mean_absolute_error: 147.0946\n",
      "Epoch 20/25\n",
      "2891/2891 [==============================] - 20s 7ms/step - loss: 88131.1094 - mean_absolute_error: 145.9416 - val_loss: 44013.6328 - val_mean_absolute_error: 149.7521\n",
      "Epoch 21/25\n",
      "2891/2891 [==============================] - 20s 7ms/step - loss: 87594.0625 - mean_absolute_error: 144.0479 - val_loss: 44059.8789 - val_mean_absolute_error: 147.4611\n",
      "Epoch 22/25\n",
      "2891/2891 [==============================] - 20s 7ms/step - loss: 86393.1562 - mean_absolute_error: 140.5396 - val_loss: 45639.9844 - val_mean_absolute_error: 154.4843loss: 87248.0078 - mean_absolu\n",
      "Epoch 23/25\n",
      "2891/2891 [==============================] - 20s 7ms/step - loss: 85153.1328 - mean_absolute_error: 138.1404 - val_loss: 50759.0703 - val_mean_absolute_error: 162.9351\n",
      "Epoch 24/25\n",
      "2891/2891 [==============================] - 20s 7ms/step - loss: 84922.6094 - mean_absolute_error: 137.2905 - val_loss: 44792.6445 - val_mean_absolute_error: 150.1909\n",
      "Epoch 25/25\n",
      "2891/2891 [==============================] - 20s 7ms/step - loss: 84815.6641 - mean_absolute_error: 139.7746 - val_loss: 45540.7461 - val_mean_absolute_error: 150.7593\n",
      "\n",
      "-----------------------------------------------------------------------------------------------------------\n",
      "\n",
      "Model: \"sequential_15\"\n",
      "_________________________________________________________________\n",
      "Layer (type)                 Output Shape              Param #   \n",
      "=================================================================\n",
      "lstm_15 (LSTM)               (None, 64)                17920     \n",
      "_________________________________________________________________\n",
      "dense_30 (Dense)             (None, 8)                 520       \n",
      "_________________________________________________________________\n",
      "dense_31 (Dense)             (None, 1)                 9         \n",
      "=================================================================\n",
      "Total params: 18,449\n",
      "Trainable params: 18,449\n",
      "Non-trainable params: 0\n",
      "_________________________________________________________________\n",
      "Epoch 1/25\n",
      "2891/2891 [==============================] - 28s 9ms/step - loss: 1608775.1250 - mean_absolute_error: 662.8824 - val_loss: 273294.1562 - val_mean_absolute_error: 446.2133\n",
      "INFO:tensorflow:Assets written to: 4H_ForecastModel_12_SizeWindow\\assets\n"
     ]
    },
    {
     "name": "stderr",
     "output_type": "stream",
     "text": [
      "INFO:tensorflow:Assets written to: 4H_ForecastModel_12_SizeWindow\\assets\n"
     ]
    },
    {
     "name": "stdout",
     "output_type": "stream",
     "text": [
      "Epoch 2/25\n",
      "2891/2891 [==============================] - 26s 9ms/step - loss: 1490926.1250 - mean_absolute_error: 599.6274 - val_loss: 184112.8750 - val_mean_absolute_error: 345.7076\n",
      "INFO:tensorflow:Assets written to: 4H_ForecastModel_12_SizeWindow\\assets\n"
     ]
    },
    {
     "name": "stderr",
     "output_type": "stream",
     "text": [
      "INFO:tensorflow:Assets written to: 4H_ForecastModel_12_SizeWindow\\assets\n"
     ]
    },
    {
     "name": "stdout",
     "output_type": "stream",
     "text": [
      "Epoch 3/25\n",
      "2891/2891 [==============================] - 26s 9ms/step - loss: 1352297.2500 - mean_absolute_error: 537.9680 - val_loss: 107163.0625 - val_mean_absolute_error: 249.5195\n",
      "INFO:tensorflow:Assets written to: 4H_ForecastModel_12_SizeWindow\\assets\n"
     ]
    },
    {
     "name": "stderr",
     "output_type": "stream",
     "text": [
      "INFO:tensorflow:Assets written to: 4H_ForecastModel_12_SizeWindow\\assets\n"
     ]
    },
    {
     "name": "stdout",
     "output_type": "stream",
     "text": [
      "Epoch 4/25\n",
      "2891/2891 [==============================] - 24s 8ms/step - loss: 1209647.2500 - mean_absolute_error: 490.9694 - val_loss: 60573.1523 - val_mean_absolute_error: 181.1817\n",
      "INFO:tensorflow:Assets written to: 4H_ForecastModel_12_SizeWindow\\assets\n"
     ]
    },
    {
     "name": "stderr",
     "output_type": "stream",
     "text": [
      "INFO:tensorflow:Assets written to: 4H_ForecastModel_12_SizeWindow\\assets\n"
     ]
    },
    {
     "name": "stdout",
     "output_type": "stream",
     "text": [
      "Epoch 5/25\n",
      "2891/2891 [==============================] - 28s 10ms/step - loss: 1067070.7500 - mean_absolute_error: 458.1111 - val_loss: 43895.8555 - val_mean_absolute_error: 147.2531\n",
      "INFO:tensorflow:Assets written to: 4H_ForecastModel_12_SizeWindow\\assets\n"
     ]
    },
    {
     "name": "stderr",
     "output_type": "stream",
     "text": [
      "INFO:tensorflow:Assets written to: 4H_ForecastModel_12_SizeWindow\\assets\n"
     ]
    },
    {
     "name": "stdout",
     "output_type": "stream",
     "text": [
      "Epoch 6/25\n",
      "2891/2891 [==============================] - 28s 10ms/step - loss: 923092.6875 - mean_absolute_error: 431.3961 - val_loss: 42630.3281 - val_mean_absolute_error: 144.5176\n",
      "INFO:tensorflow:Assets written to: 4H_ForecastModel_12_SizeWindow\\assets\n"
     ]
    },
    {
     "name": "stderr",
     "output_type": "stream",
     "text": [
      "INFO:tensorflow:Assets written to: 4H_ForecastModel_12_SizeWindow\\assets\n"
     ]
    },
    {
     "name": "stdout",
     "output_type": "stream",
     "text": [
      "Epoch 7/25\n",
      "2891/2891 [==============================] - 25s 9ms/step - loss: 778519.0625 - mean_absolute_error: 404.6283 - val_loss: 40963.4648 - val_mean_absolute_error: 140.0593\n",
      "INFO:tensorflow:Assets written to: 4H_ForecastModel_12_SizeWindow\\assets\n"
     ]
    },
    {
     "name": "stderr",
     "output_type": "stream",
     "text": [
      "INFO:tensorflow:Assets written to: 4H_ForecastModel_12_SizeWindow\\assets\n"
     ]
    },
    {
     "name": "stdout",
     "output_type": "stream",
     "text": [
      "Epoch 8/25\n",
      "2891/2891 [==============================] - 26s 9ms/step - loss: 634320.3125 - mean_absolute_error: 373.7484 - val_loss: 41590.5703 - val_mean_absolute_error: 143.8584\n",
      "Epoch 9/25\n",
      "2891/2891 [==============================] - 22s 8ms/step - loss: 496189.3750 - mean_absolute_error: 342.3632 - val_loss: 41311.8008 - val_mean_absolute_error: 143.3783\n",
      "Epoch 10/25\n",
      "2891/2891 [==============================] - 22s 8ms/step - loss: 370196.0000 - mean_absolute_error: 307.2722 - val_loss: 41264.3320 - val_mean_absolute_error: 138.9539\n",
      "Epoch 11/25\n",
      "2891/2891 [==============================] - 22s 8ms/step - loss: 263922.7188 - mean_absolute_error: 271.9051 - val_loss: 41020.9609 - val_mean_absolute_error: 140.5758\n",
      "Epoch 12/25\n",
      "2891/2891 [==============================] - 22s 8ms/step - loss: 180516.7188 - mean_absolute_error: 234.2889 - val_loss: 39665.8711 - val_mean_absolute_error: 138.8015\n",
      "INFO:tensorflow:Assets written to: 4H_ForecastModel_12_SizeWindow\\assets\n"
     ]
    },
    {
     "name": "stderr",
     "output_type": "stream",
     "text": [
      "INFO:tensorflow:Assets written to: 4H_ForecastModel_12_SizeWindow\\assets\n"
     ]
    },
    {
     "name": "stdout",
     "output_type": "stream",
     "text": [
      "Epoch 13/25\n",
      "2891/2891 [==============================] - 24s 8ms/step - loss: 127533.2969 - mean_absolute_error: 200.0733 - val_loss: 39745.1094 - val_mean_absolute_error: 139.2266\n",
      "Epoch 14/25\n",
      "2891/2891 [==============================] - 25s 9ms/step - loss: 99838.0938 - mean_absolute_error: 169.1471 - val_loss: 40938.3477 - val_mean_absolute_error: 143.1065\n",
      "Epoch 15/25\n",
      "2891/2891 [==============================] - 22s 7ms/step - loss: 93446.9062 - mean_absolute_error: 155.6511 - val_loss: 41379.2734 - val_mean_absolute_error: 143.9896\n",
      "Epoch 16/25\n",
      "2891/2891 [==============================] - 22s 7ms/step - loss: 92337.3906 - mean_absolute_error: 153.3495 - val_loss: 42519.6250 - val_mean_absolute_error: 145.4386\n",
      "Epoch 17/25\n",
      "2891/2891 [==============================] - 22s 8ms/step - loss: 91390.8359 - mean_absolute_error: 150.2059 - val_loss: 42300.4766 - val_mean_absolute_error: 145.3610\n",
      "Epoch 18/25\n",
      "2891/2891 [==============================] - 22s 7ms/step - loss: 90176.7188 - mean_absolute_error: 146.5370 - val_loss: 41213.1172 - val_mean_absolute_error: 144.0586\n",
      "Epoch 19/25\n",
      "2891/2891 [==============================] - 22s 7ms/step - loss: 88940.3906 - mean_absolute_error: 143.9185 - val_loss: 43071.4766 - val_mean_absolute_error: 150.0962\n",
      "Epoch 20/25\n",
      "2891/2891 [==============================] - 22s 8ms/step - loss: 88303.8594 - mean_absolute_error: 143.5641 - val_loss: 41352.9492 - val_mean_absolute_error: 142.0172\n",
      "Epoch 21/25\n",
      "2891/2891 [==============================] - 22s 7ms/step - loss: 88237.4062 - mean_absolute_error: 145.5694 - val_loss: 42186.3438 - val_mean_absolute_error: 147.8660\n",
      "Epoch 22/25\n",
      "2891/2891 [==============================] - 22s 7ms/step - loss: 87832.1250 - mean_absolute_error: 146.3219 - val_loss: 44338.2891 - val_mean_absolute_error: 155.0126\n",
      "Epoch 23/25\n",
      "2891/2891 [==============================] - 22s 8ms/step - loss: 86506.4844 - mean_absolute_error: 141.7106 - val_loss: 43187.2500 - val_mean_absolute_error: 148.5696\n",
      "Epoch 24/25\n",
      "2891/2891 [==============================] - 22s 7ms/step - loss: 86118.1484 - mean_absolute_error: 141.5045 - val_loss: 44072.6250 - val_mean_absolute_error: 147.4117s: 85610.0625 - mean_absolute_\n",
      "Epoch 25/25\n",
      "2891/2891 [==============================] - 22s 7ms/step - loss: 85564.6016 - mean_absolute_error: 140.4134 - val_loss: 43168.6484 - val_mean_absolute_error: 143.1718\n",
      "\n",
      "-----------------------------------------------------------------------------------------------------------\n",
      "\n",
      "CPU times: total: 3h 45min 47s\n",
      "Wall time: 37min 45s\n"
     ]
    }
   ],
   "source": [
    "%%time\n",
    "\n",
    "Trainer(4)"
   ]
  },
  {
   "cell_type": "code",
   "execution_count": 16,
   "id": "f7c60b12",
   "metadata": {},
   "outputs": [
    {
     "name": "stdout",
     "output_type": "stream",
     "text": [
      "Loading: 4H_ForecastModel_6_SizeWindow/\n",
      "629/629 [==============================] - 3s 4ms/step - loss: 192294.1562 - mean_absolute_error: 177.3426: 0s - loss: 296069.7812 - mean_absolu - ETA: 0s - loss: 232243.3281 - mean_absolute\n",
      "\n",
      "\n",
      "Loading: 4H_ForecastModel_8_SizeWindow/\n",
      "629/629 [==============================] - 4s 5ms/step - loss: 220491.6406 - mean_absolute_error: 193.2210\n",
      "\n",
      "\n",
      "Loading: 4H_ForecastModel_10_SizeWindow/\n",
      "629/629 [==============================] - 3s 4ms/step - loss: 204886.7500 - mean_absolute_error: 184.3049: 1s - loss: 111970.34 - ETA: 0s - loss: 234736.2188 - mean_absolute\n",
      "\n",
      "\n",
      "Loading: 4H_ForecastModel_12_SizeWindow/\n",
      "629/629 [==============================] - 3s 4ms/step - loss: 92028.3125 - mean_absolute_error: 152.2222\n",
      "\n",
      "\n",
      "CPU times: total: 3min 11s\n",
      "Wall time: 1min 54s\n"
     ]
    }
   ],
   "source": [
    "%%time\n",
    "\n",
    "modelsEvaluator(4,6,12,True)"
   ]
  },
  {
   "cell_type": "markdown",
   "id": "d509a93c",
   "metadata": {},
   "source": [
    " <h3> <font color='orange'> 5 hour forecasting model training </font> <h3/> "
   ]
  },
  {
   "cell_type": "code",
   "execution_count": 8,
   "id": "31b41757",
   "metadata": {},
   "outputs": [
    {
     "name": "stdout",
     "output_type": "stream",
     "text": [
      "Model: \"sequential_16\"\n",
      "_________________________________________________________________\n",
      "Layer (type)                 Output Shape              Param #   \n",
      "=================================================================\n",
      "lstm_16 (LSTM)               (None, 64)                17920     \n",
      "_________________________________________________________________\n",
      "dense_32 (Dense)             (None, 8)                 520       \n",
      "_________________________________________________________________\n",
      "dense_33 (Dense)             (None, 1)                 9         \n",
      "=================================================================\n",
      "Total params: 18,449\n",
      "Trainable params: 18,449\n",
      "Non-trainable params: 0\n",
      "_________________________________________________________________\n",
      "Epoch 1/25\n",
      "2891/2891 [==============================] - 21s 6ms/step - loss: 1630577.7500 - mean_absolute_error: 676.8676 - val_loss: 312572.4375 - val_mean_absolute_error: 487.8247loss: 16 - ETA: 2s - loss: 1633118.1\n",
      "INFO:tensorflow:Assets written to: 5H_ForecastModel_6_SizeWindow\\assets\n"
     ]
    },
    {
     "name": "stderr",
     "output_type": "stream",
     "text": [
      "INFO:tensorflow:Assets written to: 5H_ForecastModel_6_SizeWindow\\assets\n"
     ]
    },
    {
     "name": "stdout",
     "output_type": "stream",
     "text": [
      "Epoch 2/25\n",
      "2891/2891 [==============================] - 17s 6ms/step - loss: 1580864.2500 - mean_absolute_error: 647.0312 - val_loss: 267606.3750 - val_mean_absolute_error: 440.12119s - loss -\n",
      "INFO:tensorflow:Assets written to: 5H_ForecastModel_6_SizeWindow\\assets\n"
     ]
    },
    {
     "name": "stderr",
     "output_type": "stream",
     "text": [
      "INFO:tensorflow:Assets written to: 5H_ForecastModel_6_SizeWindow\\assets\n"
     ]
    },
    {
     "name": "stdout",
     "output_type": "stream",
     "text": [
      "Epoch 3/25\n",
      "2891/2891 [==============================] - 15s 5ms/step - loss: 1511145.3750 - mean_absolute_error: 610.7239 - val_loss: 214119.4844 - val_mean_absolute_error: 380.8032\n",
      "INFO:tensorflow:Assets written to: 5H_ForecastModel_6_SizeWindow\\assets\n"
     ]
    },
    {
     "name": "stderr",
     "output_type": "stream",
     "text": [
      "INFO:tensorflow:Assets written to: 5H_ForecastModel_6_SizeWindow\\assets\n"
     ]
    },
    {
     "name": "stdout",
     "output_type": "stream",
     "text": [
      "Epoch 4/25\n",
      "2891/2891 [==============================] - 15s 5ms/step - loss: 1426531.6250 - mean_absolute_error: 571.9284 - val_loss: 158448.7812 - val_mean_absolute_error: 315.2724\n",
      "INFO:tensorflow:Assets written to: 5H_ForecastModel_6_SizeWindow\\assets\n"
     ]
    },
    {
     "name": "stderr",
     "output_type": "stream",
     "text": [
      "INFO:tensorflow:Assets written to: 5H_ForecastModel_6_SizeWindow\\assets\n"
     ]
    },
    {
     "name": "stdout",
     "output_type": "stream",
     "text": [
      "Epoch 5/25\n",
      "2891/2891 [==============================] - 16s 5ms/step - loss: 1336283.0000 - mean_absolute_error: 536.5781 - val_loss: 110477.0469 - val_mean_absolute_error: 254.4220\n",
      "INFO:tensorflow:Assets written to: 5H_ForecastModel_6_SizeWindow\\assets\n"
     ]
    },
    {
     "name": "stderr",
     "output_type": "stream",
     "text": [
      "INFO:tensorflow:Assets written to: 5H_ForecastModel_6_SizeWindow\\assets\n"
     ]
    },
    {
     "name": "stdout",
     "output_type": "stream",
     "text": [
      "Epoch 6/25\n",
      "2891/2891 [==============================] - 17s 6ms/step - loss: 1243925.6250 - mean_absolute_error: 508.6293 - val_loss: 75450.5938 - val_mean_absolute_error: 205.6586.0000 -\n",
      "INFO:tensorflow:Assets written to: 5H_ForecastModel_6_SizeWindow\\assets\n"
     ]
    },
    {
     "name": "stderr",
     "output_type": "stream",
     "text": [
      "INFO:tensorflow:Assets written to: 5H_ForecastModel_6_SizeWindow\\assets\n"
     ]
    },
    {
     "name": "stdout",
     "output_type": "stream",
     "text": [
      "Epoch 7/25\n",
      "2891/2891 [==============================] - 15s 5ms/step - loss: 1150950.2500 - mean_absolute_error: 486.7787 - val_loss: 54695.8516 - val_mean_absolute_error: 171.8125\n",
      "INFO:tensorflow:Assets written to: 5H_ForecastModel_6_SizeWindow\\assets\n"
     ]
    },
    {
     "name": "stderr",
     "output_type": "stream",
     "text": [
      "INFO:tensorflow:Assets written to: 5H_ForecastModel_6_SizeWindow\\assets\n"
     ]
    },
    {
     "name": "stdout",
     "output_type": "stream",
     "text": [
      "Epoch 8/25\n",
      "2891/2891 [==============================] - 16s 6ms/step - loss: 1056248.1250 - mean_absolute_error: 466.6649 - val_loss: 46943.5430 - val_mean_absolute_error: 155.2927\n",
      "INFO:tensorflow:Assets written to: 5H_ForecastModel_6_SizeWindow\\assets\n"
     ]
    },
    {
     "name": "stderr",
     "output_type": "stream",
     "text": [
      "INFO:tensorflow:Assets written to: 5H_ForecastModel_6_SizeWindow\\assets\n"
     ]
    },
    {
     "name": "stdout",
     "output_type": "stream",
     "text": [
      "Epoch 9/25\n",
      "2891/2891 [==============================] - 15s 5ms/step - loss: 960382.6250 - mean_absolute_error: 448.5021 - val_loss: 46270.1445 - val_mean_absolute_error: 154.1445\n",
      "INFO:tensorflow:Assets written to: 5H_ForecastModel_6_SizeWindow\\assets\n"
     ]
    },
    {
     "name": "stderr",
     "output_type": "stream",
     "text": [
      "INFO:tensorflow:Assets written to: 5H_ForecastModel_6_SizeWindow\\assets\n"
     ]
    },
    {
     "name": "stdout",
     "output_type": "stream",
     "text": [
      "Epoch 10/25\n",
      "2891/2891 [==============================] - 16s 5ms/step - loss: 863074.2500 - mean_absolute_error: 429.8180 - val_loss: 46360.0117 - val_mean_absolute_error: 152.6158\n",
      "Epoch 11/25\n",
      "2891/2891 [==============================] - 15s 5ms/step - loss: 764543.8750 - mean_absolute_error: 410.1390 - val_loss: 44930.1719 - val_mean_absolute_error: 153.1290\n",
      "INFO:tensorflow:Assets written to: 5H_ForecastModel_6_SizeWindow\\assets\n"
     ]
    },
    {
     "name": "stderr",
     "output_type": "stream",
     "text": [
      "INFO:tensorflow:Assets written to: 5H_ForecastModel_6_SizeWindow\\assets\n"
     ]
    },
    {
     "name": "stdout",
     "output_type": "stream",
     "text": [
      "Epoch 12/25\n",
      "2891/2891 [==============================] - 23s 8ms/step - loss: 665833.1250 - mean_absolute_error: 389.5726 - val_loss: 46206.8711 - val_mean_absolute_error: 157.1317\n",
      "Epoch 13/25\n",
      "2891/2891 [==============================] - 19s 7ms/step - loss: 570430.3125 - mean_absolute_error: 368.6060 - val_loss: 47762.2930 - val_mean_absolute_error: 159.9314TA: 0s - loss: 570645.5000 - mean_absolute_error: 36\n",
      "Epoch 14/25\n",
      "2891/2891 [==============================] - 19s 7ms/step - loss: 479684.5938 - mean_absolute_error: 346.9231 - val_loss: 45419.7422 - val_mean_absolute_error: 155.2039\n",
      "Epoch 15/25\n",
      "2891/2891 [==============================] - 18s 6ms/step - loss: 394028.9688 - mean_absolute_error: 322.7907 - val_loss: 47778.0195 - val_mean_absolute_error: 160.8825\n",
      "Epoch 16/25\n",
      "2891/2891 [==============================] - 19s 6ms/step - loss: 316767.5000 - mean_absolute_error: 298.7103 - val_loss: 49118.0742 - val_mean_absolute_error: 166.6207\n",
      "Epoch 17/25\n",
      "2891/2891 [==============================] - 18s 6ms/step - loss: 249108.9375 - mean_absolute_error: 273.9281 - val_loss: 49173.7773 - val_mean_absolute_error: 165.0652\n",
      "Epoch 18/25\n",
      "2891/2891 [==============================] - 18s 6ms/step - loss: 193324.9062 - mean_absolute_error: 248.4929 - val_loss: 47989.7109 - val_mean_absolute_error: 161.8620\n",
      "Epoch 19/25\n",
      "2891/2891 [==============================] - 18s 6ms/step - loss: 151450.4531 - mean_absolute_error: 224.1796 - val_loss: 48099.1992 - val_mean_absolute_error: 162.0039\n",
      "Epoch 20/25\n",
      "2891/2891 [==============================] - 18s 6ms/step - loss: 124475.6406 - mean_absolute_error: 201.5130 - val_loss: 49874.6289 - val_mean_absolute_error: 165.1669\n",
      "Epoch 21/25\n",
      "2891/2891 [==============================] - 18s 6ms/step - loss: 111735.4688 - mean_absolute_error: 185.7922 - val_loss: 53946.1289 - val_mean_absolute_error: 174.8266\n",
      "Epoch 22/25\n",
      "2891/2891 [==============================] - 17s 6ms/step - loss: 104154.9062 - mean_absolute_error: 171.2507 - val_loss: 53135.4023 - val_mean_absolute_error: 172.0407\n",
      "Epoch 23/25\n",
      "2891/2891 [==============================] - 18s 6ms/step - loss: 103101.2422 - mean_absolute_error: 168.4993 - val_loss: 53609.3984 - val_mean_absolute_error: 172.9496\n",
      "Epoch 24/25\n",
      "2891/2891 [==============================] - 17s 6ms/step - loss: 101841.1562 - mean_absolute_error: 163.7862 - val_loss: 49991.2383 - val_mean_absolute_error: 164.1159\n",
      "Epoch 25/25\n",
      "2891/2891 [==============================] - 16s 6ms/step - loss: 101255.6953 - mean_absolute_error: 163.0714 - val_loss: 59749.7070 - val_mean_absolute_error: 182.4818\n",
      "\n",
      "-----------------------------------------------------------------------------------------------------------\n",
      "\n",
      "Model: \"sequential_17\"\n",
      "_________________________________________________________________\n",
      "Layer (type)                 Output Shape              Param #   \n",
      "=================================================================\n",
      "lstm_17 (LSTM)               (None, 64)                17920     \n",
      "_________________________________________________________________\n",
      "dense_34 (Dense)             (None, 8)                 520       \n",
      "_________________________________________________________________\n",
      "dense_35 (Dense)             (None, 1)                 9         \n",
      "=================================================================\n",
      "Total params: 18,449\n",
      "Trainable params: 18,449\n",
      "Non-trainable params: 0\n",
      "_________________________________________________________________\n",
      "Epoch 1/25\n",
      "2891/2891 [==============================] - 25s 8ms/step - loss: 1594600.2500 - mean_absolute_error: 654.6644 - val_loss: 253921.5156 - val_mean_absolute_error: 425.05761605704.5\n",
      "INFO:tensorflow:Assets written to: 5H_ForecastModel_8_SizeWindow\\assets\n"
     ]
    },
    {
     "name": "stderr",
     "output_type": "stream",
     "text": [
      "INFO:tensorflow:Assets written to: 5H_ForecastModel_8_SizeWindow\\assets\n"
     ]
    },
    {
     "name": "stdout",
     "output_type": "stream",
     "text": [
      "Epoch 2/25\n",
      "2891/2891 [==============================] - 21s 7ms/step - loss: 1456431.6250 - mean_absolute_error: 585.5988 - val_loss: 157336.5781 - val_mean_absolute_error: 314.0426\n",
      "INFO:tensorflow:Assets written to: 5H_ForecastModel_8_SizeWindow\\assets\n"
     ]
    },
    {
     "name": "stderr",
     "output_type": "stream",
     "text": [
      "INFO:tensorflow:Assets written to: 5H_ForecastModel_8_SizeWindow\\assets\n"
     ]
    },
    {
     "name": "stdout",
     "output_type": "stream",
     "text": [
      "Epoch 3/25\n",
      "2891/2891 [==============================] - 24s 8ms/step - loss: 1299256.6250 - mean_absolute_error: 524.6282 - val_loss: 83299.0312 - val_mean_absolute_error: 218.0801\n",
      "INFO:tensorflow:Assets written to: 5H_ForecastModel_8_SizeWindow\\assets\n"
     ]
    },
    {
     "name": "stderr",
     "output_type": "stream",
     "text": [
      "INFO:tensorflow:Assets written to: 5H_ForecastModel_8_SizeWindow\\assets\n"
     ]
    },
    {
     "name": "stdout",
     "output_type": "stream",
     "text": [
      "Epoch 4/25\n",
      "2891/2891 [==============================] - 21s 7ms/step - loss: 1141605.3750 - mean_absolute_error: 483.7726 - val_loss: 53166.6523 - val_mean_absolute_error: 169.6696\n",
      "INFO:tensorflow:Assets written to: 5H_ForecastModel_8_SizeWindow\\assets\n"
     ]
    },
    {
     "name": "stderr",
     "output_type": "stream",
     "text": [
      "INFO:tensorflow:Assets written to: 5H_ForecastModel_8_SizeWindow\\assets\n"
     ]
    },
    {
     "name": "stdout",
     "output_type": "stream",
     "text": [
      "Epoch 5/25\n",
      "2891/2891 [==============================] - 23s 8ms/step - loss: 984095.7500 - mean_absolute_error: 453.9997 - val_loss: 49861.5195 - val_mean_absolute_error: 158.1925\n",
      "INFO:tensorflow:Assets written to: 5H_ForecastModel_8_SizeWindow\\assets\n"
     ]
    },
    {
     "name": "stderr",
     "output_type": "stream",
     "text": [
      "INFO:tensorflow:Assets written to: 5H_ForecastModel_8_SizeWindow\\assets\n"
     ]
    },
    {
     "name": "stdout",
     "output_type": "stream",
     "text": [
      "Epoch 6/25\n",
      "2891/2891 [==============================] - 22s 8ms/step - loss: 821139.1875 - mean_absolute_error: 423.1324 - val_loss: 49006.2461 - val_mean_absolute_error: 160.7802\n",
      "INFO:tensorflow:Assets written to: 5H_ForecastModel_8_SizeWindow\\assets\n"
     ]
    },
    {
     "name": "stderr",
     "output_type": "stream",
     "text": [
      "INFO:tensorflow:Assets written to: 5H_ForecastModel_8_SizeWindow\\assets\n"
     ]
    },
    {
     "name": "stdout",
     "output_type": "stream",
     "text": [
      "Epoch 7/25\n",
      "2891/2891 [==============================] - 24s 8ms/step - loss: 657985.4375 - mean_absolute_error: 387.9736 - val_loss: 48769.9883 - val_mean_absolute_error: 160.2754\n",
      "INFO:tensorflow:Assets written to: 5H_ForecastModel_8_SizeWindow\\assets\n"
     ]
    },
    {
     "name": "stderr",
     "output_type": "stream",
     "text": [
      "INFO:tensorflow:Assets written to: 5H_ForecastModel_8_SizeWindow\\assets\n"
     ]
    },
    {
     "name": "stdout",
     "output_type": "stream",
     "text": [
      "Epoch 8/25\n",
      "2891/2891 [==============================] - 21s 7ms/step - loss: 503286.0625 - mean_absolute_error: 352.3996 - val_loss: 47805.4062 - val_mean_absolute_error: 157.4406\n",
      "INFO:tensorflow:Assets written to: 5H_ForecastModel_8_SizeWindow\\assets\n"
     ]
    },
    {
     "name": "stderr",
     "output_type": "stream",
     "text": [
      "INFO:tensorflow:Assets written to: 5H_ForecastModel_8_SizeWindow\\assets\n"
     ]
    },
    {
     "name": "stdout",
     "output_type": "stream",
     "text": [
      "Epoch 9/25\n",
      "2891/2891 [==============================] - 21s 7ms/step - loss: 363321.1875 - mean_absolute_error: 312.2549 - val_loss: 49627.5039 - val_mean_absolute_error: 159.0263\n",
      "Epoch 10/25\n",
      "2891/2891 [==============================] - 21s 7ms/step - loss: 248648.3594 - mean_absolute_error: 271.9496 - val_loss: 49461.4570 - val_mean_absolute_error: 160.8061\n",
      "Epoch 11/25\n",
      "2891/2891 [==============================] - 20s 7ms/step - loss: 166273.1406 - mean_absolute_error: 231.5767 - val_loss: 53931.3711 - val_mean_absolute_error: 173.8261\n",
      "Epoch 12/25\n",
      "2891/2891 [==============================] - 19s 7ms/step - loss: 122088.9844 - mean_absolute_error: 197.2978 - val_loss: 51540.1211 - val_mean_absolute_error: 167.7273\n",
      "Epoch 13/25\n",
      "2891/2891 [==============================] - 19s 7ms/step - loss: 106916.0391 - mean_absolute_error: 176.9671 - val_loss: 55458.9336 - val_mean_absolute_error: 170.4409\n",
      "Epoch 14/25\n",
      "2891/2891 [==============================] - 18s 6ms/step - loss: 102919.8516 - mean_absolute_error: 169.6958 - val_loss: 56608.8594 - val_mean_absolute_error: 169.4345\n",
      "Epoch 15/25\n",
      "2891/2891 [==============================] - 19s 7ms/step - loss: 99278.1953 - mean_absolute_error: 160.4384 - val_loss: 50258.8320 - val_mean_absolute_error: 161.0149\n",
      "Epoch 16/25\n",
      "2891/2891 [==============================] - 18s 6ms/step - loss: 97655.9219 - mean_absolute_error: 157.0467 - val_loss: 60083.3125 - val_mean_absolute_error: 175.5483\n",
      "Epoch 17/25\n",
      "2891/2891 [==============================] - 19s 6ms/step - loss: 96659.8281 - mean_absolute_error: 157.2324 - val_loss: 54252.1797 - val_mean_absolute_error: 171.9689\n",
      "Epoch 18/25\n",
      "2891/2891 [==============================] - 18s 6ms/step - loss: 96767.9141 - mean_absolute_error: 157.3295 - val_loss: 55067.2461 - val_mean_absolute_error: 171.7757\n",
      "Epoch 19/25\n",
      "2891/2891 [==============================] - 19s 7ms/step - loss: 96219.0625 - mean_absolute_error: 154.3138 - val_loss: 57177.3125 - val_mean_absolute_error: 177.6711\n",
      "Epoch 20/25\n",
      "2891/2891 [==============================] - 20s 7ms/step - loss: 95413.7891 - mean_absolute_error: 151.8934 - val_loss: 57828.3828 - val_mean_absolute_error: 178.8094\n",
      "Epoch 21/25\n",
      "2891/2891 [==============================] - 24s 8ms/step - loss: 95556.3281 - mean_absolute_error: 151.0853 - val_loss: 57168.7305 - val_mean_absolute_error: 170.8379\n",
      "Epoch 22/25\n",
      "2891/2891 [==============================] - 23s 8ms/step - loss: 95396.4453 - mean_absolute_error: 153.1770 - val_loss: 53888.9336 - val_mean_absolute_error: 168.2408\n",
      "Epoch 23/25\n",
      "2891/2891 [==============================] - 21s 7ms/step - loss: 93851.3594 - mean_absolute_error: 151.2367 - val_loss: 65654.6406 - val_mean_absolute_error: 188.0365\n",
      "Epoch 24/25\n",
      "2891/2891 [==============================] - 21s 7ms/step - loss: 93931.8203 - mean_absolute_error: 150.0081 - val_loss: 56805.8633 - val_mean_absolute_error: 172.0385\n",
      "Epoch 25/25\n",
      "2891/2891 [==============================] - 20s 7ms/step - loss: 93546.5547 - mean_absolute_error: 149.4130 - val_loss: 54251.6055 - val_mean_absolute_error: 171.9610s: 97397.8750 - ETA: 0s - loss: 93917.2656 - mean_absolute_er\n",
      "\n",
      "-----------------------------------------------------------------------------------------------------------\n",
      "\n",
      "Model: \"sequential_18\"\n",
      "_________________________________________________________________\n",
      "Layer (type)                 Output Shape              Param #   \n",
      "=================================================================\n",
      "lstm_18 (LSTM)               (None, 64)                17920     \n",
      "_________________________________________________________________\n",
      "dense_36 (Dense)             (None, 8)                 520       \n",
      "_________________________________________________________________\n",
      "dense_37 (Dense)             (None, 1)                 9         \n",
      "=================================================================\n",
      "Total params: 18,449\n",
      "Trainable params: 18,449\n",
      "Non-trainable params: 0\n",
      "_________________________________________________________________\n",
      "Epoch 1/25\n",
      "2891/2891 [==============================] - 26s 8ms/step - loss: 1602147.5000 - mean_absolute_error: 658.6061 - val_loss: 270628.2812 - val_mean_absolute_error: 443.3498\n",
      "INFO:tensorflow:Assets written to: 5H_ForecastModel_10_SizeWindow\\assets\n"
     ]
    },
    {
     "name": "stderr",
     "output_type": "stream",
     "text": [
      "INFO:tensorflow:Assets written to: 5H_ForecastModel_10_SizeWindow\\assets\n"
     ]
    },
    {
     "name": "stdout",
     "output_type": "stream",
     "text": [
      "Epoch 2/25\n",
      "2891/2891 [==============================] - 23s 8ms/step - loss: 1497340.5000 - mean_absolute_error: 603.4741 - val_loss: 192411.7188 - val_mean_absolute_error: 355.7593\n",
      "INFO:tensorflow:Assets written to: 5H_ForecastModel_10_SizeWindow\\assets\n"
     ]
    },
    {
     "name": "stderr",
     "output_type": "stream",
     "text": [
      "INFO:tensorflow:Assets written to: 5H_ForecastModel_10_SizeWindow\\assets\n"
     ]
    },
    {
     "name": "stdout",
     "output_type": "stream",
     "text": [
      "Epoch 3/25\n",
      "2891/2891 [==============================] - 27s 9ms/step - loss: 1371594.3750 - mean_absolute_error: 547.4560 - val_loss: 118856.9297 - val_mean_absolute_error: 265.9550\n",
      "INFO:tensorflow:Assets written to: 5H_ForecastModel_10_SizeWindow\\assets\n"
     ]
    },
    {
     "name": "stderr",
     "output_type": "stream",
     "text": [
      "INFO:tensorflow:Assets written to: 5H_ForecastModel_10_SizeWindow\\assets\n"
     ]
    },
    {
     "name": "stdout",
     "output_type": "stream",
     "text": [
      "Epoch 4/25\n",
      "2891/2891 [==============================] - 24s 8ms/step - loss: 1242032.8750 - mean_absolute_error: 504.5564 - val_loss: 71667.9375 - val_mean_absolute_error: 200.5802\n",
      "INFO:tensorflow:Assets written to: 5H_ForecastModel_10_SizeWindow\\assets\n"
     ]
    },
    {
     "name": "stderr",
     "output_type": "stream",
     "text": [
      "INFO:tensorflow:Assets written to: 5H_ForecastModel_10_SizeWindow\\assets\n"
     ]
    },
    {
     "name": "stdout",
     "output_type": "stream",
     "text": [
      "Epoch 5/25\n",
      "2891/2891 [==============================] - 27s 9ms/step - loss: 1114208.2500 - mean_absolute_error: 475.1139 - val_loss: 54026.0273 - val_mean_absolute_error: 169.9652\n",
      "INFO:tensorflow:Assets written to: 5H_ForecastModel_10_SizeWindow\\assets\n"
     ]
    },
    {
     "name": "stderr",
     "output_type": "stream",
     "text": [
      "INFO:tensorflow:Assets written to: 5H_ForecastModel_10_SizeWindow\\assets\n"
     ]
    },
    {
     "name": "stdout",
     "output_type": "stream",
     "text": [
      "Epoch 6/25\n",
      "2891/2891 [==============================] - 28s 10ms/step - loss: 987523.5000 - mean_absolute_error: 452.7417 - val_loss: 51900.2070 - val_mean_absolute_error: 162.5999\n",
      "INFO:tensorflow:Assets written to: 5H_ForecastModel_10_SizeWindow\\assets\n"
     ]
    },
    {
     "name": "stderr",
     "output_type": "stream",
     "text": [
      "INFO:tensorflow:Assets written to: 5H_ForecastModel_10_SizeWindow\\assets\n"
     ]
    },
    {
     "name": "stdout",
     "output_type": "stream",
     "text": [
      "Epoch 7/25\n",
      "2891/2891 [==============================] - 25s 9ms/step - loss: 856095.5000 - mean_absolute_error: 427.2868 - val_loss: 50091.7773 - val_mean_absolute_error: 158.9529\n",
      "INFO:tensorflow:Assets written to: 5H_ForecastModel_10_SizeWindow\\assets\n"
     ]
    },
    {
     "name": "stderr",
     "output_type": "stream",
     "text": [
      "INFO:tensorflow:Assets written to: 5H_ForecastModel_10_SizeWindow\\assets\n"
     ]
    },
    {
     "name": "stdout",
     "output_type": "stream",
     "text": [
      "Epoch 8/25\n",
      "2891/2891 [==============================] - 30s 10ms/step - loss: 723186.6250 - mean_absolute_error: 400.2278 - val_loss: 48071.7969 - val_mean_absolute_error: 159.7835\n",
      "INFO:tensorflow:Assets written to: 5H_ForecastModel_10_SizeWindow\\assets\n"
     ]
    },
    {
     "name": "stderr",
     "output_type": "stream",
     "text": [
      "INFO:tensorflow:Assets written to: 5H_ForecastModel_10_SizeWindow\\assets\n"
     ]
    },
    {
     "name": "stdout",
     "output_type": "stream",
     "text": [
      "Epoch 9/25\n",
      "2891/2891 [==============================] - 25s 9ms/step - loss: 593392.6875 - mean_absolute_error: 372.5284 - val_loss: 50146.8203 - val_mean_absolute_error: 163.5362\n",
      "Epoch 10/25\n",
      "2891/2891 [==============================] - 28s 10ms/step - loss: 470043.5938 - mean_absolute_error: 342.0146 - val_loss: 49062.7930 - val_mean_absolute_error: 162.4153\n",
      "Epoch 11/25\n",
      "2891/2891 [==============================] - 25s 9ms/step - loss: 359063.4688 - mean_absolute_error: 310.7516 - val_loss: 50879.5586 - val_mean_absolute_error: 165.7045\n",
      "Epoch 12/25\n",
      "2891/2891 [==============================] - 25s 9ms/step - loss: 263345.0938 - mean_absolute_error: 277.4117 - val_loss: 50421.2891 - val_mean_absolute_error: 166.6608\n",
      "Epoch 13/25\n",
      "2891/2891 [==============================] - 26s 9ms/step - loss: 187914.7812 - mean_absolute_error: 243.7461 - val_loss: 52999.2422 - val_mean_absolute_error: 168.4146\n",
      "Epoch 14/25\n",
      "2891/2891 [==============================] - 25s 9ms/step - loss: 136170.5000 - mean_absolute_error: 211.4347 - val_loss: 51585.0977 - val_mean_absolute_error: 170.8068\n",
      "Epoch 15/25\n",
      "2891/2891 [==============================] - 23s 8ms/step - loss: 111566.3281 - mean_absolute_error: 188.3971 - val_loss: 55666.7305 - val_mean_absolute_error: 168.2925\n",
      "Epoch 16/25\n",
      "2891/2891 [==============================] - 25s 9ms/step - loss: 100412.4062 - mean_absolute_error: 170.3250 - val_loss: 53458.0469 - val_mean_absolute_error: 171.3287\n",
      "Epoch 17/25\n",
      "2891/2891 [==============================] - 27s 9ms/step - loss: 96698.2656 - mean_absolute_error: 160.5800 - val_loss: 59797.3320 - val_mean_absolute_error: 184.6264\n",
      "Epoch 18/25\n",
      "2891/2891 [==============================] - 27s 9ms/step - loss: 95395.4141 - mean_absolute_error: 155.4003 - val_loss: 53742.8281 - val_mean_absolute_error: 168.9816: 7s - loss: 95453.5234 - mean_absolute_error: 153.277 - ETA: 7s - loss: 95450.5000 - mean_ - ETA: 6s - loss: 94935.1641 - mean_absolute_error: 15 - ETA: 5s - loss - ETA: 2s - loss: 9 - ETA: 0s - loss: 94925.5078 - mean_absolute_err\n",
      "Epoch 19/25\n",
      "2891/2891 [==============================] - 27s 9ms/step - loss: 94156.1953 - mean_absolute_error: 153.9848 - val_loss: 51798.0391 - val_mean_absolute_error: 165.9867\n",
      "Epoch 20/25\n",
      "2891/2891 [==============================] - 23s 8ms/step - loss: 93984.9453 - mean_absolute_error: 155.1467 - val_loss: 59519.5938 - val_mean_absolute_error: 184.70646s - loss: 93570.4531 - mean_absolute_e - ETA: 5s  - ETA: 2s - lo\n",
      "Epoch 21/25\n",
      "2891/2891 [==============================] - 24s 8ms/step - loss: 94255.3672 - mean_absolute_error: 152.9834 - val_loss: 55681.4492 - val_mean_absolute_error: 172.61032 \n",
      "Epoch 22/25\n",
      "2891/2891 [==============================] - 23s 8ms/step - loss: 92225.2969 - mean_absolute_error: 150.5164 - val_loss: 56807.5156 - val_mean_absolute_error: 173.8833\n",
      "Epoch 23/25\n",
      "2891/2891 [==============================] - 21s 7ms/step - loss: 91125.0156 - mean_absolute_error: 149.8295 - val_loss: 59466.2461 - val_mean_absolute_error: 176.2206\n",
      "Epoch 24/25\n",
      "2891/2891 [==============================] - 21s 7ms/step - loss: 90610.0547 - mean_absolute_error: 147.1008 - val_loss: 63959.0547 - val_mean_absolute_error: 183.1376\n",
      "Epoch 25/25\n",
      "2891/2891 [==============================] - 22s 8ms/step - loss: 90519.6641 - mean_absolute_error: 148.7461 - val_loss: 59988.4766 - val_mean_absolute_error: 181.6772\n",
      "\n",
      "-----------------------------------------------------------------------------------------------------------\n",
      "\n",
      "Model: \"sequential_19\"\n",
      "_________________________________________________________________\n",
      "Layer (type)                 Output Shape              Param #   \n",
      "=================================================================\n",
      "lstm_19 (LSTM)               (None, 64)                17920     \n",
      "_________________________________________________________________\n",
      "dense_38 (Dense)             (None, 8)                 520       \n",
      "_________________________________________________________________\n",
      "dense_39 (Dense)             (None, 1)                 9         \n",
      "=================================================================\n",
      "Total params: 18,449\n",
      "Trainable params: 18,449\n",
      "Non-trainable params: 0\n",
      "_________________________________________________________________\n",
      "Epoch 1/25\n",
      "2891/2891 [==============================] - 30s 10ms/step - loss: 1612783.2500 - mean_absolute_error: 664.5529 - val_loss: 280301.5625 - val_mean_absolute_error: 453.7686\n",
      "INFO:tensorflow:Assets written to: 5H_ForecastModel_12_SizeWindow\\assets\n"
     ]
    },
    {
     "name": "stderr",
     "output_type": "stream",
     "text": [
      "INFO:tensorflow:Assets written to: 5H_ForecastModel_12_SizeWindow\\assets\n"
     ]
    },
    {
     "name": "stdout",
     "output_type": "stream",
     "text": [
      "Epoch 2/25\n",
      "2891/2891 [==============================] - 30s 10ms/step - loss: 1510638.1250 - mean_absolute_error: 609.8495 - val_loss: 201733.1562 - val_mean_absolute_error: 366.4682\n",
      "INFO:tensorflow:Assets written to: 5H_ForecastModel_12_SizeWindow\\assets\n"
     ]
    },
    {
     "name": "stderr",
     "output_type": "stream",
     "text": [
      "INFO:tensorflow:Assets written to: 5H_ForecastModel_12_SizeWindow\\assets\n"
     ]
    },
    {
     "name": "stdout",
     "output_type": "stream",
     "text": [
      "Epoch 3/25\n",
      "2891/2891 [==============================] - 31s 11ms/step - loss: 1387730.8750 - mean_absolute_error: 553.7449 - val_loss: 127317.8438 - val_mean_absolute_error: 277.0822.5000 - mean_\n",
      "INFO:tensorflow:Assets written to: 5H_ForecastModel_12_SizeWindow\\assets\n"
     ]
    },
    {
     "name": "stderr",
     "output_type": "stream",
     "text": [
      "INFO:tensorflow:Assets written to: 5H_ForecastModel_12_SizeWindow\\assets\n"
     ]
    },
    {
     "name": "stdout",
     "output_type": "stream",
     "text": [
      "Epoch 4/25\n",
      "2891/2891 [==============================] - 27s 9ms/step - loss: 1257865.8750 - mean_absolute_error: 508.5010 - val_loss: 75004.3984 - val_mean_absolute_error: 206.6994\n",
      "INFO:tensorflow:Assets written to: 5H_ForecastModel_12_SizeWindow\\assets\n"
     ]
    },
    {
     "name": "stderr",
     "output_type": "stream",
     "text": [
      "INFO:tensorflow:Assets written to: 5H_ForecastModel_12_SizeWindow\\assets\n"
     ]
    },
    {
     "name": "stdout",
     "output_type": "stream",
     "text": [
      "Epoch 5/25\n",
      "2891/2891 [==============================] - 26s 9ms/step - loss: 1127180.0000 - mean_absolute_error: 477.0539 - val_loss: 52937.0547 - val_mean_absolute_error: 168.0464\n",
      "INFO:tensorflow:Assets written to: 5H_ForecastModel_12_SizeWindow\\assets\n"
     ]
    },
    {
     "name": "stderr",
     "output_type": "stream",
     "text": [
      "INFO:tensorflow:Assets written to: 5H_ForecastModel_12_SizeWindow\\assets\n"
     ]
    },
    {
     "name": "stdout",
     "output_type": "stream",
     "text": [
      "Epoch 6/25\n",
      "2891/2891 [==============================] - 31s 11ms/step - loss: 997395.8125 - mean_absolute_error: 453.6981 - val_loss: 51110.8125 - val_mean_absolute_error: 162.1736\n",
      "INFO:tensorflow:Assets written to: 5H_ForecastModel_12_SizeWindow\\assets\n"
     ]
    },
    {
     "name": "stderr",
     "output_type": "stream",
     "text": [
      "INFO:tensorflow:Assets written to: 5H_ForecastModel_12_SizeWindow\\assets\n"
     ]
    },
    {
     "name": "stdout",
     "output_type": "stream",
     "text": [
      "Epoch 7/25\n",
      "2891/2891 [==============================] - 30s 10ms/step - loss: 865759.8125 - mean_absolute_error: 430.5774 - val_loss: 51386.9102 - val_mean_absolute_error: 164.8462\n",
      "Epoch 8/25\n",
      "2891/2891 [==============================] - 31s 11ms/step - loss: 731991.1875 - mean_absolute_error: 404.0415 - val_loss: 50814.9180 - val_mean_absolute_error: 162.3805\n",
      "INFO:tensorflow:Assets written to: 5H_ForecastModel_12_SizeWindow\\assets\n"
     ]
    },
    {
     "name": "stderr",
     "output_type": "stream",
     "text": [
      "INFO:tensorflow:Assets written to: 5H_ForecastModel_12_SizeWindow\\assets\n"
     ]
    },
    {
     "name": "stdout",
     "output_type": "stream",
     "text": [
      "Epoch 9/25\n",
      "2891/2891 [==============================] - 29s 10ms/step - loss: 602211.1250 - mean_absolute_error: 377.1241 - val_loss: 53047.3125 - val_mean_absolute_error: 165.0758\n",
      "Epoch 10/25\n",
      "2891/2891 [==============================] - 27s 9ms/step - loss: 478164.6875 - mean_absolute_error: 348.2304 - val_loss: 51937.1562 - val_mean_absolute_error: 165.5272\n",
      "Epoch 11/25\n",
      "2891/2891 [==============================] - 28s 10ms/step - loss: 364707.4688 - mean_absolute_error: 316.2980 - val_loss: 50508.3789 - val_mean_absolute_error: 160.9342\n",
      "INFO:tensorflow:Assets written to: 5H_ForecastModel_12_SizeWindow\\assets\n"
     ]
    },
    {
     "name": "stderr",
     "output_type": "stream",
     "text": [
      "INFO:tensorflow:Assets written to: 5H_ForecastModel_12_SizeWindow\\assets\n"
     ]
    },
    {
     "name": "stdout",
     "output_type": "stream",
     "text": [
      "Epoch 12/25\n",
      "2891/2891 [==============================] - 25s 9ms/step - loss: 265464.3125 - mean_absolute_error: 280.7254 - val_loss: 50214.0469 - val_mean_absolute_error: 162.2430\n",
      "INFO:tensorflow:Assets written to: 5H_ForecastModel_12_SizeWindow\\assets\n"
     ]
    },
    {
     "name": "stderr",
     "output_type": "stream",
     "text": [
      "INFO:tensorflow:Assets written to: 5H_ForecastModel_12_SizeWindow\\assets\n"
     ]
    },
    {
     "name": "stdout",
     "output_type": "stream",
     "text": [
      "Epoch 13/25\n",
      "2891/2891 [==============================] - 29s 10ms/step - loss: 192355.2812 - mean_absolute_error: 248.3685 - val_loss: 51759.5625 - val_mean_absolute_error: 164.5476\n",
      "Epoch 14/25\n",
      "2891/2891 [==============================] - 26s 9ms/step - loss: 150313.1719 - mean_absolute_error: 221.9853 - val_loss: 51013.7383 - val_mean_absolute_error: 161.1951\n",
      "Epoch 15/25\n",
      "2891/2891 [==============================] - 27s 9ms/step - loss: 122409.7656 - mean_absolute_error: 198.2290 - val_loss: 49374.0195 - val_mean_absolute_error: 162.8556\n",
      "INFO:tensorflow:Assets written to: 5H_ForecastModel_12_SizeWindow\\assets\n"
     ]
    },
    {
     "name": "stderr",
     "output_type": "stream",
     "text": [
      "INFO:tensorflow:Assets written to: 5H_ForecastModel_12_SizeWindow\\assets\n"
     ]
    },
    {
     "name": "stdout",
     "output_type": "stream",
     "text": [
      "Epoch 16/25\n",
      "2891/2891 [==============================] - 27s 9ms/step - loss: 108033.9141 - mean_absolute_error: 181.3160 - val_loss: 52414.9805 - val_mean_absolute_error: 170.0181\n",
      "Epoch 17/25\n",
      "2891/2891 [==============================] - 26s 9ms/step - loss: 100642.2500 - mean_absolute_error: 167.7832 - val_loss: 50046.1445 - val_mean_absolute_error: 166.5162\n",
      "Epoch 18/25\n",
      "2891/2891 [==============================] - 26s 9ms/step - loss: 97615.5781 - mean_absolute_error: 162.4185 - val_loss: 51726.8789 - val_mean_absolute_error: 168.4975- ETA: 10s - l - ETA: 8s - lo - ETA: 5s - loss:\n",
      "Epoch 19/25\n",
      "2891/2891 [==============================] - 23s 8ms/step - loss: 95026.1328 - mean_absolute_error: 156.7456 - val_loss: 52195.9844 - val_mean_absolute_error: 170.8480\n",
      "Epoch 20/25\n",
      "2891/2891 [==============================] - 26s 9ms/step - loss: 94395.2734 - mean_absolute_error: 156.8535 - val_loss: 51755.0312 - val_mean_absolute_error: 167.3176\n",
      "Epoch 21/25\n",
      "2891/2891 [==============================] - 23s 8ms/step - loss: 93083.9922 - mean_absolute_error: 150.2672 - val_loss: 50237.5000 - val_mean_absolute_error: 164.4173 - loss: 95616.95 - ET - ETA: 2s - loss - ETA: 0s - loss: 93003.2578 - mean_absolute_error: 150.27\n",
      "Epoch 22/25\n",
      "2891/2891 [==============================] - 22s 8ms/step - loss: 91895.1562 - mean_absolute_error: 147.2931 - val_loss: 56558.0977 - val_mean_absolute_error: 179.2730\n",
      "Epoch 23/25\n",
      "2891/2891 [==============================] - 22s 8ms/step - loss: 91364.3906 - mean_absolute_error: 147.0790 - val_loss: 53168.1445 - val_mean_absolute_error: 167.6113\n",
      "Epoch 24/25\n",
      "2891/2891 [==============================] - 22s 8ms/step - loss: 90530.2891 - mean_absolute_error: 148.8936 - val_loss: 55834.4688 - val_mean_absolute_error: 176.7828\n",
      "Epoch 25/25\n",
      "2891/2891 [==============================] - 22s 8ms/step - loss: 90572.3203 - mean_absolute_error: 148.2044 - val_loss: 52763.4297 - val_mean_absolute_error: 170.1519\n",
      "\n",
      "-----------------------------------------------------------------------------------------------------------\n",
      "\n",
      "CPU times: total: 3h 58min 12s\n",
      "Wall time: 43min 6s\n"
     ]
    }
   ],
   "source": [
    "%%time\n",
    "\n",
    "Trainer(5)"
   ]
  },
  {
   "cell_type": "code",
   "execution_count": 17,
   "id": "27f0b376",
   "metadata": {},
   "outputs": [
    {
     "name": "stdout",
     "output_type": "stream",
     "text": [
      "Loading: 5H_ForecastModel_6_SizeWindow/\n",
      "629/629 [==============================] - 2s 3ms/step - loss: 220938.4375 - mean_absolute_error: 205.0320: 0s - loss: 282341.1250 - mean_abso\n",
      "\n",
      "\n",
      "Loading: 5H_ForecastModel_8_SizeWindow/\n",
      "629/629 [==============================] - 3s 3ms/step - loss: 156796.4688 - mean_absolute_error: 184.7960: 1s - l\n",
      "\n",
      "\n",
      "Loading: 5H_ForecastModel_10_SizeWindow/\n",
      "629/629 [==============================] - 3s 4ms/step - loss: 207805.5000 - mean_absolute_error: 201.7105\n",
      "\n",
      "\n",
      "Loading: 5H_ForecastModel_12_SizeWindow/\n",
      "629/629 [==============================] - 3s 4ms/step - loss: 102894.2969 - mean_absolute_error: 164.4225: 0s - loss: 141208.48 - ETA: 0s - loss: 103548.4844 - mean_absolute_error: 165.04\n",
      "\n",
      "\n"
     ]
    }
   ],
   "source": [
    "modelsEvaluator(5,6,12,True)"
   ]
  },
  {
   "cell_type": "markdown",
   "id": "f5f8982c",
   "metadata": {},
   "source": [
    " <h3> <font color='orange'> 6 hour forecasting model training </font> <h3/> "
   ]
  },
  {
   "cell_type": "code",
   "execution_count": 9,
   "id": "c7b99727",
   "metadata": {},
   "outputs": [
    {
     "name": "stdout",
     "output_type": "stream",
     "text": [
      "Model: \"sequential_20\"\n",
      "_________________________________________________________________\n",
      "Layer (type)                 Output Shape              Param #   \n",
      "=================================================================\n",
      "lstm_20 (LSTM)               (None, 64)                17920     \n",
      "_________________________________________________________________\n",
      "dense_40 (Dense)             (None, 8)                 520       \n",
      "_________________________________________________________________\n",
      "dense_41 (Dense)             (None, 1)                 9         \n",
      "=================================================================\n",
      "Total params: 18,449\n",
      "Trainable params: 18,449\n",
      "Non-trainable params: 0\n",
      "_________________________________________________________________\n",
      "Epoch 1/25\n",
      "2891/2891 [==============================] - 17s 5ms/step - loss: 1599602.0000 - mean_absolute_error: 657.7785 - val_loss: 268297.2500 - val_mean_absolute_error: 440.8245\n",
      "INFO:tensorflow:Assets written to: 6H_ForecastModel_6_SizeWindow\\assets\n"
     ]
    },
    {
     "name": "stderr",
     "output_type": "stream",
     "text": [
      "INFO:tensorflow:Assets written to: 6H_ForecastModel_6_SizeWindow\\assets\n"
     ]
    },
    {
     "name": "stdout",
     "output_type": "stream",
     "text": [
      "Epoch 2/25\n",
      "2891/2891 [==============================] - 15s 5ms/step - loss: 1490951.5000 - mean_absolute_error: 601.8550 - val_loss: 185950.3125 - val_mean_absolute_error: 348.3419- loss: 1492725.6250 - mean_absol - ETA: 0s - loss: 1490497.8750 - mean_absolute_error:\n",
      "INFO:tensorflow:Assets written to: 6H_ForecastModel_6_SizeWindow\\assets\n"
     ]
    },
    {
     "name": "stderr",
     "output_type": "stream",
     "text": [
      "INFO:tensorflow:Assets written to: 6H_ForecastModel_6_SizeWindow\\assets\n"
     ]
    },
    {
     "name": "stdout",
     "output_type": "stream",
     "text": [
      "Epoch 3/25\n",
      "2891/2891 [==============================] - 16s 5ms/step - loss: 1361918.3750 - mean_absolute_error: 548.0846 - val_loss: 113760.9922 - val_mean_absolute_error: 259.6648\n",
      "INFO:tensorflow:Assets written to: 6H_ForecastModel_6_SizeWindow\\assets\n"
     ]
    },
    {
     "name": "stderr",
     "output_type": "stream",
     "text": [
      "INFO:tensorflow:Assets written to: 6H_ForecastModel_6_SizeWindow\\assets\n"
     ]
    },
    {
     "name": "stdout",
     "output_type": "stream",
     "text": [
      "Epoch 4/25\n",
      "2891/2891 [==============================] - 17s 6ms/step - loss: 1232861.0000 - mean_absolute_error: 510.6877 - val_loss: 69949.4688 - val_mean_absolute_error: 199.4974: 1s - loss: 1235377.8750 - mean_absolute_error: 511.35 - ETA: 1s - loss: 1234321.7500 - mea\n",
      "INFO:tensorflow:Assets written to: 6H_ForecastModel_6_SizeWindow\\assets\n"
     ]
    },
    {
     "name": "stderr",
     "output_type": "stream",
     "text": [
      "INFO:tensorflow:Assets written to: 6H_ForecastModel_6_SizeWindow\\assets\n"
     ]
    },
    {
     "name": "stdout",
     "output_type": "stream",
     "text": [
      "Epoch 5/25\n",
      "2891/2891 [==============================] - 15s 5ms/step - loss: 1103200.8750 - mean_absolute_error: 483.7262 - val_loss: 56142.2617 - val_mean_absolute_error: 175.8398\n",
      "INFO:tensorflow:Assets written to: 6H_ForecastModel_6_SizeWindow\\assets\n"
     ]
    },
    {
     "name": "stderr",
     "output_type": "stream",
     "text": [
      "INFO:tensorflow:Assets written to: 6H_ForecastModel_6_SizeWindow\\assets\n"
     ]
    },
    {
     "name": "stdout",
     "output_type": "stream",
     "text": [
      "Epoch 6/25\n",
      "2891/2891 [==============================] - 18s 6ms/step - loss: 972114.1250 - mean_absolute_error: 460.3910 - val_loss: 54434.5000 - val_mean_absolute_error: 171.1975\n",
      "INFO:tensorflow:Assets written to: 6H_ForecastModel_6_SizeWindow\\assets\n"
     ]
    },
    {
     "name": "stderr",
     "output_type": "stream",
     "text": [
      "INFO:tensorflow:Assets written to: 6H_ForecastModel_6_SizeWindow\\assets\n"
     ]
    },
    {
     "name": "stdout",
     "output_type": "stream",
     "text": [
      "Epoch 7/25\n",
      "2891/2891 [==============================] - 16s 5ms/step - loss: 838283.7500 - mean_absolute_error: 435.1100 - val_loss: 57020.3164 - val_mean_absolute_error: 176.0606\n",
      "Epoch 8/25\n",
      "2891/2891 [==============================] - 16s 5ms/step - loss: 703701.6250 - mean_absolute_error: 408.6972 - val_loss: 56689.4180 - val_mean_absolute_error: 179.6602\n",
      "Epoch 9/25\n",
      "2891/2891 [==============================] - 14s 5ms/step - loss: 573769.3750 - mean_absolute_error: 381.0135 - val_loss: 56141.6172 - val_mean_absolute_error: 174.8714\n",
      "Epoch 10/25\n",
      "2891/2891 [==============================] - 14s 5ms/step - loss: 451733.1562 - mean_absolute_error: 349.9161 - val_loss: 59599.2969 - val_mean_absolute_error: 185.7271\n",
      "Epoch 11/25\n",
      "2891/2891 [==============================] - 14s 5ms/step - loss: 341204.3438 - mean_absolute_error: 316.4416 - val_loss: 66500.0938 - val_mean_absolute_error: 197.315556706.3438 - mean_abso - ETA: 2s - - ETA: 1s\n",
      "Epoch 12/25\n",
      "2891/2891 [==============================] - 14s 5ms/step - loss: 249408.4844 - mean_absolute_error: 281.8143 - val_loss: 63202.7578 - val_mean_absolute_error: 191.5773\n",
      "Epoch 13/25\n",
      "2891/2891 [==============================] - 14s 5ms/step - loss: 179925.7969 - mean_absolute_error: 247.4657 - val_loss: 62801.0391 - val_mean_absolute_error: 188.851575 - mean_absolute_error: 24\n",
      "Epoch 14/25\n",
      "2891/2891 [==============================] - 14s 5ms/step - loss: 136070.3750 - mean_absolute_error: 215.8925 - val_loss: 67531.4688 - val_mean_absolute_error: 200.4147\n",
      "Epoch 15/25\n",
      "2891/2891 [==============================] - 14s 5ms/step - loss: 116457.9062 - mean_absolute_error: 192.5530 - val_loss: 65945.3359 - val_mean_absolute_error: 195.2581\n",
      "Epoch 16/25\n",
      "2891/2891 [==============================] - 14s 5ms/step - loss: 112129.9062 - mean_absolute_error: 183.1902 - val_loss: 73478.7656 - val_mean_absolute_error: 203.7278\n",
      "Epoch 17/25\n",
      "2891/2891 [==============================] - 14s 5ms/step - loss: 108928.5156 - mean_absolute_error: 174.2498 - val_loss: 67679.4609 - val_mean_absolute_error: 196.9665\n",
      "Epoch 18/25\n",
      "2891/2891 [==============================] - 14s 5ms/step - loss: 106583.7891 - mean_absolute_error: 166.9621 - val_loss: 78547.3750 - val_mean_absolute_error: 214.0088\n",
      "Epoch 19/25\n",
      "2891/2891 [==============================] - 14s 5ms/step - loss: 106443.3438 - mean_absolute_error: 166.9200 - val_loss: 74333.2266 - val_mean_absolute_error: 210.5843\n",
      "Epoch 20/25\n",
      "2891/2891 [==============================] - 14s 5ms/step - loss: 107068.1484 - mean_absolute_error: 169.7566 - val_loss: 79098.9453 - val_mean_absolute_error: 214.1850\n",
      "Epoch 21/25\n",
      "2891/2891 [==============================] - 14s 5ms/step - loss: 106224.8438 - mean_absolute_error: 169.1506 - val_loss: 81729.0469 - val_mean_absolute_error: 217.4930\n",
      "Epoch 22/25\n",
      "2891/2891 [==============================] - 14s 5ms/step - loss: 105501.2969 - mean_absolute_error: 164.9795 - val_loss: 74118.5312 - val_mean_absolute_error: 208.3927\n",
      "Epoch 23/25\n",
      "2891/2891 [==============================] - 14s 5ms/step - loss: 105703.1797 - mean_absolute_error: 166.1000 - val_loss: 68778.5938 - val_mean_absolute_error: 200.2137\n",
      "Epoch 24/25\n",
      "2891/2891 [==============================] - 14s 5ms/step - loss: 105174.6484 - mean_absolute_error: 164.8655 - val_loss: 68200.5703 - val_mean_absolute_error: 198.2162\n",
      "Epoch 25/25\n",
      "2891/2891 [==============================] - 14s 5ms/step - loss: 105162.1719 - mean_absolute_error: 167.2534 - val_loss: 71272.7734 - val_mean_absolute_error: 203.5230 mean_abso - ETA:  - ETA: 0s - loss: 105054.5312 - mean_absolute\n",
      "\n",
      "-----------------------------------------------------------------------------------------------------------\n",
      "\n",
      "Model: \"sequential_21\"\n",
      "_________________________________________________________________\n",
      "Layer (type)                 Output Shape              Param #   \n",
      "=================================================================\n",
      "lstm_21 (LSTM)               (None, 64)                17920     \n",
      "_________________________________________________________________\n",
      "dense_42 (Dense)             (None, 8)                 520       \n",
      "_________________________________________________________________\n",
      "dense_43 (Dense)             (None, 1)                 9         \n",
      "=================================================================\n",
      "Total params: 18,449\n",
      "Trainable params: 18,449\n",
      "Non-trainable params: 0\n",
      "_________________________________________________________________\n",
      "Epoch 1/25\n",
      "2891/2891 [==============================] - 20s 6ms/step - loss: 1599408.3750 - mean_absolute_error: 657.5241 - val_loss: 261982.4375 - val_mean_absolute_error: 433.9343\n",
      "INFO:tensorflow:Assets written to: 6H_ForecastModel_8_SizeWindow\\assets\n"
     ]
    },
    {
     "name": "stderr",
     "output_type": "stream",
     "text": [
      "INFO:tensorflow:Assets written to: 6H_ForecastModel_8_SizeWindow\\assets\n"
     ]
    },
    {
     "name": "stdout",
     "output_type": "stream",
     "text": [
      "Epoch 2/25\n",
      "2891/2891 [==============================] - 18s 6ms/step - loss: 1473666.0000 - mean_absolute_error: 594.1441 - val_loss: 172956.7188 - val_mean_absolute_error: 333.0531\n",
      "INFO:tensorflow:Assets written to: 6H_ForecastModel_8_SizeWindow\\assets\n"
     ]
    },
    {
     "name": "stderr",
     "output_type": "stream",
     "text": [
      "INFO:tensorflow:Assets written to: 6H_ForecastModel_8_SizeWindow\\assets\n"
     ]
    },
    {
     "name": "stdout",
     "output_type": "stream",
     "text": [
      "Epoch 3/25\n",
      "2891/2891 [==============================] - 18s 6ms/step - loss: 1333457.2500 - mean_absolute_error: 537.5821 - val_loss: 96989.8359 - val_mean_absolute_error: 237.8037\n",
      "INFO:tensorflow:Assets written to: 6H_ForecastModel_8_SizeWindow\\assets\n"
     ]
    },
    {
     "name": "stderr",
     "output_type": "stream",
     "text": [
      "INFO:tensorflow:Assets written to: 6H_ForecastModel_8_SizeWindow\\assets\n"
     ]
    },
    {
     "name": "stdout",
     "output_type": "stream",
     "text": [
      "Epoch 4/25\n",
      "2891/2891 [==============================] - 18s 6ms/step - loss: 1180949.2500 - mean_absolute_error: 496.9255 - val_loss: 60475.9609 - val_mean_absolute_error: 183.3406\n",
      "INFO:tensorflow:Assets written to: 6H_ForecastModel_8_SizeWindow\\assets\n"
     ]
    },
    {
     "name": "stderr",
     "output_type": "stream",
     "text": [
      "INFO:tensorflow:Assets written to: 6H_ForecastModel_8_SizeWindow\\assets\n"
     ]
    },
    {
     "name": "stdout",
     "output_type": "stream",
     "text": [
      "Epoch 5/25\n",
      "2891/2891 [==============================] - 17s 6ms/step - loss: 1030442.4375 - mean_absolute_error: 468.6632 - val_loss: 56567.3672 - val_mean_absolute_error: 172.4735\n",
      "INFO:tensorflow:Assets written to: 6H_ForecastModel_8_SizeWindow\\assets\n"
     ]
    },
    {
     "name": "stderr",
     "output_type": "stream",
     "text": [
      "INFO:tensorflow:Assets written to: 6H_ForecastModel_8_SizeWindow\\assets\n"
     ]
    },
    {
     "name": "stdout",
     "output_type": "stream",
     "text": [
      "Epoch 6/25\n",
      "2891/2891 [==============================] - 18s 6ms/step - loss: 875312.0000 - mean_absolute_error: 439.5821 - val_loss: 57915.3750 - val_mean_absolute_error: 177.3598\n",
      "Epoch 7/25\n",
      "2891/2891 [==============================] - 16s 6ms/step - loss: 713778.4375 - mean_absolute_error: 406.7817 - val_loss: 59868.4258 - val_mean_absolute_error: 184.6330\n",
      "Epoch 8/25\n",
      "2891/2891 [==============================] - 16s 6ms/step - loss: 559181.8125 - mean_absolute_error: 373.4294 - val_loss: 63420.1875 - val_mean_absolute_error: 189.9091\n",
      "Epoch 9/25\n",
      "2891/2891 [==============================] - 16s 6ms/step - loss: 416623.3750 - mean_absolute_error: 336.9327 - val_loss: 64001.7656 - val_mean_absolute_error: 188.7368\n",
      "Epoch 10/25\n",
      "2891/2891 [==============================] - 16s 6ms/step - loss: 294464.7812 - mean_absolute_error: 298.6225 - val_loss: 60634.0703 - val_mean_absolute_error: 183.4980\n",
      "Epoch 11/25\n",
      "2891/2891 [==============================] - 16s 6ms/step - loss: 203215.4062 - mean_absolute_error: 260.8914 - val_loss: 60300.8906 - val_mean_absolute_error: 183.0647\n",
      "Epoch 12/25\n",
      "2891/2891 [==============================] - 16s 6ms/step - loss: 150575.1406 - mean_absolute_error: 229.6560 - val_loss: 65390.8164 - val_mean_absolute_error: 195.5885\n",
      "Epoch 13/25\n",
      "2891/2891 [==============================] - 16s 6ms/step - loss: 121545.0703 - mean_absolute_error: 200.2872 - val_loss: 65454.4219 - val_mean_absolute_error: 193.9661\n",
      "Epoch 14/25\n",
      "2891/2891 [==============================] - 16s 6ms/step - loss: 114218.6250 - mean_absolute_error: 186.9906 - val_loss: 61596.7695 - val_mean_absolute_error: 184.7384\n",
      "Epoch 15/25\n",
      "2891/2891 [==============================] - 16s 6ms/step - loss: 109987.0078 - mean_absolute_error: 177.4496 - val_loss: 71040.4688 - val_mean_absolute_error: 202.3962\n",
      "Epoch 16/25\n",
      "2891/2891 [==============================] - 16s 6ms/step - loss: 107077.6797 - mean_absolute_error: 170.1597 - val_loss: 71546.0938 - val_mean_absolute_error: 203.5574\n",
      "Epoch 17/25\n",
      "2891/2891 [==============================] - 16s 6ms/step - loss: 106254.3047 - mean_absolute_error: 167.8840 - val_loss: 67133.6875 - val_mean_absolute_error: 195.3311\n",
      "Epoch 18/25\n",
      "2891/2891 [==============================] - 16s 6ms/step - loss: 106547.3516 - mean_absolute_error: 166.7512 - val_loss: 63526.7734 - val_mean_absolute_error: 189.8215\n",
      "Epoch 19/25\n",
      "2891/2891 [==============================] - 16s 6ms/step - loss: 104959.3438 - mean_absolute_error: 163.9448 - val_loss: 65943.8750 - val_mean_absolute_error: 190.7362\n",
      "Epoch 20/25\n",
      "2891/2891 [==============================] - 16s 6ms/step - loss: 103688.1172 - mean_absolute_error: 164.2328 - val_loss: 63879.4258 - val_mean_absolute_error: 190.5755\n",
      "Epoch 21/25\n",
      "2891/2891 [==============================] - 16s 6ms/step - loss: 103340.5703 - mean_absolute_error: 160.8056 - val_loss: 69336.1328 - val_mean_absolute_error: 196.2396\n",
      "Epoch 22/25\n",
      "2891/2891 [==============================] - 16s 6ms/step - loss: 102698.0391 - mean_absolute_error: 161.1006 - val_loss: 64821.2578 - val_mean_absolute_error: 192.8484\n",
      "Epoch 23/25\n",
      "2891/2891 [==============================] - 16s 6ms/step - loss: 103217.8984 - mean_absolute_error: 160.0652 - val_loss: 67635.6641 - val_mean_absolute_error: 194.5916\n",
      "Epoch 24/25\n",
      "2891/2891 [==============================] - 16s 6ms/step - loss: 102204.7891 - mean_absolute_error: 161.8974 - val_loss: 66880.0156 - val_mean_absolute_error: 191.4825425.\n",
      "Epoch 25/25\n",
      "2891/2891 [==============================] - 16s 6ms/step - loss: 100973.4766 - mean_absolute_error: 159.2475 - val_loss: 75793.9453 - val_mean_absolute_error: 203.7618\n",
      "\n",
      "-----------------------------------------------------------------------------------------------------------\n",
      "\n",
      "Model: \"sequential_22\"\n",
      "_________________________________________________________________\n",
      "Layer (type)                 Output Shape              Param #   \n",
      "=================================================================\n",
      "lstm_22 (LSTM)               (None, 64)                17920     \n",
      "_________________________________________________________________\n",
      "dense_44 (Dense)             (None, 8)                 520       \n",
      "_________________________________________________________________\n",
      "dense_45 (Dense)             (None, 1)                 9         \n",
      "=================================================================\n",
      "Total params: 18,449\n",
      "Trainable params: 18,449\n",
      "Non-trainable params: 0\n",
      "_________________________________________________________________\n",
      "Epoch 1/25\n",
      "2891/2891 [==============================] - 27s 9ms/step - loss: 1617160.5000 - mean_absolute_error: 667.9158 - val_loss: 290004.4062 - val_mean_absolute_error: 464.1958\n",
      "INFO:tensorflow:Assets written to: 6H_ForecastModel_10_SizeWindow\\assets\n"
     ]
    },
    {
     "name": "stderr",
     "output_type": "stream",
     "text": [
      "INFO:tensorflow:Assets written to: 6H_ForecastModel_10_SizeWindow\\assets\n"
     ]
    },
    {
     "name": "stdout",
     "output_type": "stream",
     "text": [
      "Epoch 2/25\n",
      "2891/2891 [==============================] - 20s 7ms/step - loss: 1532160.1250 - mean_absolute_error: 621.0744 - val_loss: 222902.7344 - val_mean_absolute_error: 390.7458\n",
      "INFO:tensorflow:Assets written to: 6H_ForecastModel_10_SizeWindow\\assets\n"
     ]
    },
    {
     "name": "stderr",
     "output_type": "stream",
     "text": [
      "INFO:tensorflow:Assets written to: 6H_ForecastModel_10_SizeWindow\\assets\n"
     ]
    },
    {
     "name": "stdout",
     "output_type": "stream",
     "text": [
      "Epoch 3/25\n",
      "2891/2891 [==============================] - 21s 7ms/step - loss: 1429279.0000 - mean_absolute_error: 572.4841 - val_loss: 154774.8125 - val_mean_absolute_error: 310.8674\n",
      "INFO:tensorflow:Assets written to: 6H_ForecastModel_10_SizeWindow\\assets\n"
     ]
    },
    {
     "name": "stderr",
     "output_type": "stream",
     "text": [
      "INFO:tensorflow:Assets written to: 6H_ForecastModel_10_SizeWindow\\assets\n"
     ]
    },
    {
     "name": "stdout",
     "output_type": "stream",
     "text": [
      "Epoch 4/25\n",
      "2891/2891 [==============================] - 23s 8ms/step - loss: 1317568.0000 - mean_absolute_error: 529.4718 - val_loss: 99083.7109 - val_mean_absolute_error: 241.0914\n",
      "INFO:tensorflow:Assets written to: 6H_ForecastModel_10_SizeWindow\\assets\n"
     ]
    },
    {
     "name": "stderr",
     "output_type": "stream",
     "text": [
      "INFO:tensorflow:Assets written to: 6H_ForecastModel_10_SizeWindow\\assets\n"
     ]
    },
    {
     "name": "stdout",
     "output_type": "stream",
     "text": [
      "Epoch 5/25\n",
      "2891/2891 [==============================] - 24s 8ms/step - loss: 1202966.2500 - mean_absolute_error: 497.3613 - val_loss: 65746.0703 - val_mean_absolute_error: 192.5148\n",
      "INFO:tensorflow:Assets written to: 6H_ForecastModel_10_SizeWindow\\assets\n"
     ]
    },
    {
     "name": "stderr",
     "output_type": "stream",
     "text": [
      "INFO:tensorflow:Assets written to: 6H_ForecastModel_10_SizeWindow\\assets\n"
     ]
    },
    {
     "name": "stdout",
     "output_type": "stream",
     "text": [
      "Epoch 6/25\n",
      "2891/2891 [==============================] - 23s 8ms/step - loss: 1087303.1250 - mean_absolute_error: 474.2780 - val_loss: 56371.5938 - val_mean_absolute_error: 173.9013\n",
      "INFO:tensorflow:Assets written to: 6H_ForecastModel_10_SizeWindow\\assets\n"
     ]
    },
    {
     "name": "stderr",
     "output_type": "stream",
     "text": [
      "INFO:tensorflow:Assets written to: 6H_ForecastModel_10_SizeWindow\\assets\n"
     ]
    },
    {
     "name": "stdout",
     "output_type": "stream",
     "text": [
      "Epoch 7/25\n",
      "2891/2891 [==============================] - 21s 7ms/step - loss: 972939.8125 - mean_absolute_error: 455.4592 - val_loss: 57153.3125 - val_mean_absolute_error: 174.7906\n",
      "Epoch 8/25\n",
      "2891/2891 [==============================] - 19s 7ms/step - loss: 855504.5000 - mean_absolute_error: 434.3078 - val_loss: 56169.8867 - val_mean_absolute_error: 176.1239\n",
      "INFO:tensorflow:Assets written to: 6H_ForecastModel_10_SizeWindow\\assets\n"
     ]
    },
    {
     "name": "stderr",
     "output_type": "stream",
     "text": [
      "INFO:tensorflow:Assets written to: 6H_ForecastModel_10_SizeWindow\\assets\n"
     ]
    },
    {
     "name": "stdout",
     "output_type": "stream",
     "text": [
      "Epoch 9/25\n",
      "2891/2891 [==============================] - 22s 8ms/step - loss: 740632.8750 - mean_absolute_error: 412.7109 - val_loss: 59507.8672 - val_mean_absolute_error: 184.2667\n",
      "Epoch 10/25\n",
      "2891/2891 [==============================] - 21s 7ms/step - loss: 628998.7500 - mean_absolute_error: 388.3580 - val_loss: 58552.8164 - val_mean_absolute_error: 178.8904\n",
      "Epoch 11/25\n",
      "2891/2891 [==============================] - 19s 7ms/step - loss: 508893.9062 - mean_absolute_error: 359.1505 - val_loss: 60433.5664 - val_mean_absolute_error: 181.3286\n",
      "Epoch 12/25\n",
      "2891/2891 [==============================] - 19s 6ms/step - loss: 404593.7812 - mean_absolute_error: 331.6337 - val_loss: 62575.9219 - val_mean_absolute_error: 183.9508\n",
      "Epoch 13/25\n",
      "2891/2891 [==============================] - 19s 7ms/step - loss: 332350.5000 - mean_absolute_error: 309.0410 - val_loss: 60030.4062 - val_mean_absolute_error: 181.6739\n",
      "Epoch 14/25\n",
      "2891/2891 [==============================] - 19s 6ms/step - loss: 244934.9219 - mean_absolute_error: 276.9583 - val_loss: 70987.1641 - val_mean_absolute_error: 195.7240\n",
      "Epoch 15/25\n",
      "2891/2891 [==============================] - 19s 7ms/step - loss: 173538.0000 - mean_absolute_error: 239.8404 - val_loss: 68566.6797 - val_mean_absolute_error: 194.1628\n",
      "Epoch 16/25\n",
      "2891/2891 [==============================] - 19s 6ms/step - loss: 134270.2656 - mean_absolute_error: 212.3683 - val_loss: 62829.5195 - val_mean_absolute_error: 185.4434\n",
      "Epoch 17/25\n",
      "2891/2891 [==============================] - 19s 6ms/step - loss: 117589.0703 - mean_absolute_error: 195.0356 - val_loss: 68090.5703 - val_mean_absolute_error: 193.7462\n",
      "Epoch 18/25\n",
      "2891/2891 [==============================] - 19s 7ms/step - loss: 107003.8359 - mean_absolute_error: 177.3306 - val_loss: 69541.3438 - val_mean_absolute_error: 192.5567\n",
      "Epoch 19/25\n",
      "2891/2891 [==============================] - 19s 6ms/step - loss: 106889.8594 - mean_absolute_error: 177.1949 - val_loss: 60685.2539 - val_mean_absolute_error: 180.7519\n",
      "Epoch 20/25\n",
      "2891/2891 [==============================] - 19s 6ms/step - loss: 104268.1484 - mean_absolute_error: 170.4499 - val_loss: 84580.4922 - val_mean_absolute_error: 213.1195\n",
      "Epoch 21/25\n",
      "2891/2891 [==============================] - 19s 6ms/step - loss: 101942.0312 - mean_absolute_error: 164.3506 - val_loss: 72120.7109 - val_mean_absolute_error: 197.8866\n",
      "Epoch 22/25\n",
      "2891/2891 [==============================] - 19s 7ms/step - loss: 101530.5859 - mean_absolute_error: 163.9792 - val_loss: 95408.4609 - val_mean_absolute_error: 216.9798\n",
      "Epoch 23/25\n",
      "2891/2891 [==============================] - 19s 6ms/step - loss: 100898.6250 - mean_absolute_error: 164.4474 - val_loss: 63363.8984 - val_mean_absolute_error: 189.0759\n",
      "Epoch 24/25\n",
      "2891/2891 [==============================] - 19s 6ms/step - loss: 99998.4922 - mean_absolute_error: 161.4733 - val_loss: 69758.7891 - val_mean_absolute_error: 193.0480\n",
      "Epoch 25/25\n",
      "2891/2891 [==============================] - 19s 7ms/step - loss: 99601.5547 - mean_absolute_error: 158.5105 - val_loss: 72276.1953 - val_mean_absolute_error: 203.6226312.6406 - mean_absolute\n",
      "\n",
      "-----------------------------------------------------------------------------------------------------------\n",
      "\n",
      "Model: \"sequential_23\"\n",
      "_________________________________________________________________\n",
      "Layer (type)                 Output Shape              Param #   \n",
      "=================================================================\n",
      "lstm_23 (LSTM)               (None, 64)                17920     \n",
      "_________________________________________________________________\n",
      "dense_46 (Dense)             (None, 8)                 520       \n",
      "_________________________________________________________________\n",
      "dense_47 (Dense)             (None, 1)                 9         \n",
      "=================================================================\n",
      "Total params: 18,449\n",
      "Trainable params: 18,449\n",
      "Non-trainable params: 0\n",
      "_________________________________________________________________\n",
      "Epoch 1/25\n",
      "2891/2891 [==============================] - 27s 9ms/step - loss: 1599530.3750 - mean_absolute_error: 657.7881 - val_loss: 257171.7344 - val_mean_absolute_error: 428.4811\n",
      "INFO:tensorflow:Assets written to: 6H_ForecastModel_12_SizeWindow\\assets\n"
     ]
    },
    {
     "name": "stderr",
     "output_type": "stream",
     "text": [
      "INFO:tensorflow:Assets written to: 6H_ForecastModel_12_SizeWindow\\assets\n"
     ]
    },
    {
     "name": "stdout",
     "output_type": "stream",
     "text": [
      "Epoch 2/25\n",
      "2891/2891 [==============================] - 23s 8ms/step - loss: 1452058.6250 - mean_absolute_error: 582.0473 - val_loss: 148615.1875 - val_mean_absolute_error: 303.4077\n",
      "INFO:tensorflow:Assets written to: 6H_ForecastModel_12_SizeWindow\\assets\n"
     ]
    },
    {
     "name": "stderr",
     "output_type": "stream",
     "text": [
      "INFO:tensorflow:Assets written to: 6H_ForecastModel_12_SizeWindow\\assets\n"
     ]
    },
    {
     "name": "stdout",
     "output_type": "stream",
     "text": [
      "Epoch 3/25\n",
      "2891/2891 [==============================] - 24s 8ms/step - loss: 1282000.3750 - mean_absolute_error: 518.5921 - val_loss: 77035.0234 - val_mean_absolute_error: 211.1081\n",
      "INFO:tensorflow:Assets written to: 6H_ForecastModel_12_SizeWindow\\assets\n"
     ]
    },
    {
     "name": "stderr",
     "output_type": "stream",
     "text": [
      "INFO:tensorflow:Assets written to: 6H_ForecastModel_12_SizeWindow\\assets\n"
     ]
    },
    {
     "name": "stdout",
     "output_type": "stream",
     "text": [
      "Epoch 4/25\n",
      "2891/2891 [==============================] - 23s 8ms/step - loss: 1116020.5000 - mean_absolute_error: 480.1214 - val_loss: 55343.0391 - val_mean_absolute_error: 173.4267\n",
      "INFO:tensorflow:Assets written to: 6H_ForecastModel_12_SizeWindow\\assets\n"
     ]
    },
    {
     "name": "stderr",
     "output_type": "stream",
     "text": [
      "INFO:tensorflow:Assets written to: 6H_ForecastModel_12_SizeWindow\\assets\n"
     ]
    },
    {
     "name": "stdout",
     "output_type": "stream",
     "text": [
      "Epoch 5/25\n",
      "2891/2891 [==============================] - 23s 8ms/step - loss: 955825.0000 - mean_absolute_error: 453.2197 - val_loss: 55323.1523 - val_mean_absolute_error: 172.3665\n",
      "INFO:tensorflow:Assets written to: 6H_ForecastModel_12_SizeWindow\\assets\n"
     ]
    },
    {
     "name": "stderr",
     "output_type": "stream",
     "text": [
      "INFO:tensorflow:Assets written to: 6H_ForecastModel_12_SizeWindow\\assets\n"
     ]
    },
    {
     "name": "stdout",
     "output_type": "stream",
     "text": [
      "Epoch 6/25\n",
      "2891/2891 [==============================] - 25s 9ms/step - loss: 791804.4375 - mean_absolute_error: 423.0933 - val_loss: 55559.9609 - val_mean_absolute_error: 175.5413\n",
      "Epoch 7/25\n",
      "2891/2891 [==============================] - 21s 7ms/step - loss: 626550.3125 - mean_absolute_error: 388.6504 - val_loss: 55085.1367 - val_mean_absolute_error: 172.2113\n",
      "INFO:tensorflow:Assets written to: 6H_ForecastModel_12_SizeWindow\\assets\n"
     ]
    },
    {
     "name": "stderr",
     "output_type": "stream",
     "text": [
      "INFO:tensorflow:Assets written to: 6H_ForecastModel_12_SizeWindow\\assets\n"
     ]
    },
    {
     "name": "stdout",
     "output_type": "stream",
     "text": [
      "Epoch 8/25\n",
      "2891/2891 [==============================] - 26s 9ms/step - loss: 470847.7188 - mean_absolute_error: 351.7990 - val_loss: 57308.9766 - val_mean_absolute_error: 180.9203\n",
      "Epoch 9/25\n",
      "2891/2891 [==============================] - 22s 7ms/step - loss: 333480.7812 - mean_absolute_error: 311.5650 - val_loss: 58738.8750 - val_mean_absolute_error: 183.8460\n",
      "Epoch 10/25\n",
      "2891/2891 [==============================] - 21s 7ms/step - loss: 224884.8438 - mean_absolute_error: 268.8766 - val_loss: 56945.8945 - val_mean_absolute_error: 179.4681\n",
      "Epoch 11/25\n",
      "2891/2891 [==============================] - 21s 7ms/step - loss: 162121.9062 - mean_absolute_error: 234.2558 - val_loss: 55419.6172 - val_mean_absolute_error: 175.7007\n",
      "Epoch 12/25\n",
      "2891/2891 [==============================] - 22s 7ms/step - loss: 119209.7891 - mean_absolute_error: 197.8756 - val_loss: 62435.3086 - val_mean_absolute_error: 189.3022\n",
      "Epoch 13/25\n",
      "2891/2891 [==============================] - 21s 7ms/step - loss: 105352.8359 - mean_absolute_error: 174.2475 - val_loss: 61191.5781 - val_mean_absolute_error: 189.8567\n",
      "Epoch 14/25\n",
      "2891/2891 [==============================] - 21s 7ms/step - loss: 100637.6641 - mean_absolute_error: 164.2031 - val_loss: 64301.9023 - val_mean_absolute_error: 195.9715\n",
      "Epoch 15/25\n",
      "2891/2891 [==============================] - 22s 8ms/step - loss: 98844.2500 - mean_absolute_error: 159.5831 - val_loss: 64378.8516 - val_mean_absolute_error: 190.6939\n",
      "Epoch 16/25\n",
      "2891/2891 [==============================] - 21s 7ms/step - loss: 98182.2344 - mean_absolute_error: 157.8982 - val_loss: 63144.2891 - val_mean_absolute_error: 191.6237\n",
      "Epoch 17/25\n",
      "2891/2891 [==============================] - 21s 7ms/step - loss: 97492.7500 - mean_absolute_error: 158.0699 - val_loss: 67702.1953 - val_mean_absolute_error: 199.2117\n",
      "Epoch 18/25\n",
      "2891/2891 [==============================] - 22s 7ms/step - loss: 96467.0391 - mean_absolute_error: 154.7971 - val_loss: 62210.3398 - val_mean_absolute_error: 189.0547\n",
      "Epoch 19/25\n",
      "2891/2891 [==============================] - 21s 7ms/step - loss: 96041.4844 - mean_absolute_error: 152.7412 - val_loss: 64739.1250 - val_mean_absolute_error: 194.4507\n",
      "Epoch 20/25\n",
      "2891/2891 [==============================] - 21s 7ms/step - loss: 95721.3047 - mean_absolute_error: 155.8521 - val_loss: 77257.0703 - val_mean_absolute_error: 206.6918\n",
      "Epoch 21/25\n",
      "2891/2891 [==============================] - 22s 7ms/step - loss: 94463.4453 - mean_absolute_error: 151.6765 - val_loss: 70296.2109 - val_mean_absolute_error: 202.6484\n",
      "Epoch 22/25\n",
      "2891/2891 [==============================] - 30s 10ms/step - loss: 93961.6875 - mean_absolute_error: 151.2274 - val_loss: 73888.0781 - val_mean_absolute_error: 205.4876ean_absolute\n",
      "Epoch 23/25\n",
      "2891/2891 [==============================] - 28s 10ms/step - loss: 94045.1406 - mean_absolute_error: 152.7081 - val_loss: 74300.4922 - val_mean_absolute_error: 206.0557\n",
      "Epoch 24/25\n",
      "2891/2891 [==============================] - 30s 10ms/step - loss: 93288.8906 - mean_absolute_error: 150.5482 - val_loss: 65040.9336 - val_mean_absolute_error: 194.6687\n",
      "Epoch 25/25\n",
      "2891/2891 [==============================] - 29s 10ms/step - loss: 93539.8125 - mean_absolute_error: 149.8506 - val_loss: 64931.2148 - val_mean_absolute_error: 191.6056\n",
      "\n",
      "-----------------------------------------------------------------------------------------------------------\n",
      "\n",
      "CPU times: total: 3h 31min 47s\n",
      "Wall time: 34min 48s\n"
     ]
    }
   ],
   "source": [
    "%%time\n",
    "\n",
    "Trainer(6)"
   ]
  },
  {
   "cell_type": "code",
   "execution_count": 18,
   "id": "68e9cf8a",
   "metadata": {},
   "outputs": [
    {
     "name": "stdout",
     "output_type": "stream",
     "text": [
      "Loading: 6H_ForecastModel_6_SizeWindow/\n",
      "629/629 [==============================] - 3s 3ms/step - loss: 272325.7812 - mean_absolute_error: 234.4911\n",
      "\n",
      "\n",
      "Loading: 6H_ForecastModel_8_SizeWindow/\n",
      "629/629 [==============================] - 3s 3ms/step - loss: 283049.6250 - mean_absolute_error: 232.6124\n",
      "\n",
      "\n",
      "Loading: 6H_ForecastModel_10_SizeWindow/\n",
      "629/629 [==============================] - 3s 4ms/step - loss: 247804.1875 - mean_absolute_error: 220.0823\n",
      "\n",
      "\n",
      "Loading: 6H_ForecastModel_12_SizeWindow/\n",
      "629/629 [==============================] - 3s 4ms/step - loss: 191252.2656 - mean_absolute_error: 207.9549\n",
      "\n",
      "\n"
     ]
    }
   ],
   "source": [
    "modelsEvaluator(6,6,12,True)"
   ]
  },
  {
   "cell_type": "code",
   "execution_count": null,
   "id": "4065bfb6",
   "metadata": {},
   "outputs": [],
   "source": []
  }
 ],
 "metadata": {
  "kernelspec": {
   "display_name": "Python 3 (ipykernel)",
   "language": "python",
   "name": "python3"
  },
  "language_info": {
   "codemirror_mode": {
    "name": "ipython",
    "version": 3
   },
   "file_extension": ".py",
   "mimetype": "text/x-python",
   "name": "python",
   "nbconvert_exporter": "python",
   "pygments_lexer": "ipython3",
   "version": "3.9.12"
  }
 },
 "nbformat": 4,
 "nbformat_minor": 5
}
