{
 "cells": [
  {
   "cell_type": "code",
   "execution_count": 72,
   "id": "8c117370",
   "metadata": {},
   "outputs": [],
   "source": [
    "from statsmodels.graphics.tsaplots import plot_acf, plot_pacf\n",
    "from statsmodels.tsa.statespace.varmax import VARMAX\n",
    "from statsmodels.tsa.api import VAR\n",
    "from statsmodels.tsa.stattools import grangercausalitytests, adfuller\n",
    "from tqdm import tqdm_notebook\n",
    "from itertools import product\n",
    "\n",
    "import matplotlib.pyplot as plt\n",
    "import statsmodels.api as sm\n",
    "import pandas as pd\n",
    "import numpy as np\n",
    "\n",
    "import warnings\n",
    "from datetime import timezone, datetime"
   ]
  },
  {
   "cell_type": "markdown",
   "id": "012888c3",
   "metadata": {},
   "source": [
    "# 1. Data Loading"
   ]
  },
  {
   "cell_type": "code",
   "execution_count": 73,
   "id": "28c5a9ff",
   "metadata": {},
   "outputs": [],
   "source": [
    "imputedMeasurementsDf = pd.read_csv('../../../../Data/ProcessedData/KnnImputed/measurementsImputedByKnn.csv')\n",
    "measurementsDf = pd.read_csv('../../../../Data/RawData/rawMeasurementsFilteredBySensors.csv')"
   ]
  },
  {
   "cell_type": "code",
   "execution_count": 74,
   "id": "c808a918",
   "metadata": {},
   "outputs": [
    {
     "data": {
      "text/html": [
       "<div>\n",
       "<style scoped>\n",
       "    .dataframe tbody tr th:only-of-type {\n",
       "        vertical-align: middle;\n",
       "    }\n",
       "\n",
       "    .dataframe tbody tr th {\n",
       "        vertical-align: top;\n",
       "    }\n",
       "\n",
       "    .dataframe thead th {\n",
       "        text-align: right;\n",
       "    }\n",
       "</style>\n",
       "<table border=\"1\" class=\"dataframe\">\n",
       "  <thead>\n",
       "    <tr style=\"text-align: right;\">\n",
       "      <th></th>\n",
       "      <th>time</th>\n",
       "      <th>T</th>\n",
       "      <th>Rn</th>\n",
       "      <th>H</th>\n",
       "      <th>P</th>\n",
       "      <th>CO2</th>\n",
       "      <th>sensor_id</th>\n",
       "    </tr>\n",
       "  </thead>\n",
       "  <tbody>\n",
       "    <tr>\n",
       "      <th>0</th>\n",
       "      <td>2020-07-14T14:00:00.000Z</td>\n",
       "      <td>31.300000</td>\n",
       "      <td>NaN</td>\n",
       "      <td>44.475000</td>\n",
       "      <td>NaN</td>\n",
       "      <td>567.750000</td>\n",
       "      <td>D0001</td>\n",
       "    </tr>\n",
       "    <tr>\n",
       "      <th>1</th>\n",
       "      <td>2020-07-14T15:00:00.000Z</td>\n",
       "      <td>31.333333</td>\n",
       "      <td>NaN</td>\n",
       "      <td>45.505556</td>\n",
       "      <td>NaN</td>\n",
       "      <td>636.361111</td>\n",
       "      <td>D0001</td>\n",
       "    </tr>\n",
       "    <tr>\n",
       "      <th>2</th>\n",
       "      <td>2020-07-14T16:00:00.000Z</td>\n",
       "      <td>31.451429</td>\n",
       "      <td>NaN</td>\n",
       "      <td>47.145714</td>\n",
       "      <td>NaN</td>\n",
       "      <td>734.000000</td>\n",
       "      <td>D0001</td>\n",
       "    </tr>\n",
       "    <tr>\n",
       "      <th>3</th>\n",
       "      <td>2020-07-14T17:00:00.000Z</td>\n",
       "      <td>31.161765</td>\n",
       "      <td>NaN</td>\n",
       "      <td>36.000000</td>\n",
       "      <td>NaN</td>\n",
       "      <td>461.529412</td>\n",
       "      <td>D0001</td>\n",
       "    </tr>\n",
       "    <tr>\n",
       "      <th>4</th>\n",
       "      <td>2020-07-14T18:00:00.000Z</td>\n",
       "      <td>31.008333</td>\n",
       "      <td>NaN</td>\n",
       "      <td>28.436111</td>\n",
       "      <td>NaN</td>\n",
       "      <td>400.000000</td>\n",
       "      <td>D0001</td>\n",
       "    </tr>\n",
       "  </tbody>\n",
       "</table>\n",
       "</div>"
      ],
      "text/plain": [
       "                       time          T  Rn          H   P         CO2  \\\n",
       "0  2020-07-14T14:00:00.000Z  31.300000 NaN  44.475000 NaN  567.750000   \n",
       "1  2020-07-14T15:00:00.000Z  31.333333 NaN  45.505556 NaN  636.361111   \n",
       "2  2020-07-14T16:00:00.000Z  31.451429 NaN  47.145714 NaN  734.000000   \n",
       "3  2020-07-14T17:00:00.000Z  31.161765 NaN  36.000000 NaN  461.529412   \n",
       "4  2020-07-14T18:00:00.000Z  31.008333 NaN  28.436111 NaN  400.000000   \n",
       "\n",
       "  sensor_id  \n",
       "0     D0001  \n",
       "1     D0001  \n",
       "2     D0001  \n",
       "3     D0001  \n",
       "4     D0001  "
      ]
     },
     "execution_count": 74,
     "metadata": {},
     "output_type": "execute_result"
    }
   ],
   "source": [
    "measurementsDf.head()"
   ]
  },
  {
   "cell_type": "code",
   "execution_count": 75,
   "id": "0283c9ed",
   "metadata": {},
   "outputs": [],
   "source": [
    "dateTimeDf = pd.DataFrame(measurementsDf['time'])"
   ]
  },
  {
   "cell_type": "code",
   "execution_count": 76,
   "id": "121d7ec0",
   "metadata": {},
   "outputs": [],
   "source": [
    "def iso8601ToDatetime():\n",
    "    for i in range(len(dateTimeDf['time'])):\n",
    "        timeContainer  = dateTimeDf['time'][i].replace('.000','')\n",
    "        timeContainer = datetime.strptime(timeContainer, \"%Y-%m-%dT%H:%M:%SZ\")\n",
    "        timeContainer = int(round(timeContainer.timestamp()))\n",
    "        timeContainer = datetime.fromtimestamp(timeContainer)\n",
    "        dateTimeDf['time'][i] = timeContainer"
   ]
  },
  {
   "cell_type": "code",
   "execution_count": 77,
   "id": "519eb515",
   "metadata": {},
   "outputs": [
    {
     "name": "stdout",
     "output_type": "stream",
     "text": [
      "CPU times: total: 8.22 s\n",
      "Wall time: 8.28 s\n"
     ]
    }
   ],
   "source": [
    "%%time\n",
    "\n",
    "iso8601ToDatetime()"
   ]
  },
  {
   "cell_type": "code",
   "execution_count": 78,
   "id": "c625350b",
   "metadata": {},
   "outputs": [],
   "source": [
    "measurementsDf = dateTimeDf.join(imputedMeasurementsDf.drop(['day','month','hour'],axis = 1))\n"
   ]
  },
  {
   "cell_type": "code",
   "execution_count": 108,
   "id": "65f49cd3",
   "metadata": {},
   "outputs": [],
   "source": [
    "plotDf =  measurementsDf.drop(['sensor_id'],axis = 1)"
   ]
  },
  {
   "cell_type": "code",
   "execution_count": 109,
   "id": "9338ec52",
   "metadata": {},
   "outputs": [
    {
     "data": {
      "text/html": [
       "<div>\n",
       "<style scoped>\n",
       "    .dataframe tbody tr th:only-of-type {\n",
       "        vertical-align: middle;\n",
       "    }\n",
       "\n",
       "    .dataframe tbody tr th {\n",
       "        vertical-align: top;\n",
       "    }\n",
       "\n",
       "    .dataframe thead th {\n",
       "        text-align: right;\n",
       "    }\n",
       "</style>\n",
       "<table border=\"1\" class=\"dataframe\">\n",
       "  <thead>\n",
       "    <tr style=\"text-align: right;\">\n",
       "      <th></th>\n",
       "      <th>time</th>\n",
       "      <th>T</th>\n",
       "      <th>Rn</th>\n",
       "      <th>H</th>\n",
       "      <th>P</th>\n",
       "      <th>CO2</th>\n",
       "    </tr>\n",
       "  </thead>\n",
       "  <tbody>\n",
       "    <tr>\n",
       "      <th>0</th>\n",
       "      <td>2020-07-14 14:00:00</td>\n",
       "      <td>31.300000</td>\n",
       "      <td>1001.448424</td>\n",
       "      <td>44.475000</td>\n",
       "      <td>101.565847</td>\n",
       "      <td>567.750000</td>\n",
       "    </tr>\n",
       "    <tr>\n",
       "      <th>1</th>\n",
       "      <td>2020-07-14 15:00:00</td>\n",
       "      <td>31.333333</td>\n",
       "      <td>588.154974</td>\n",
       "      <td>45.505556</td>\n",
       "      <td>101.632854</td>\n",
       "      <td>636.361111</td>\n",
       "    </tr>\n",
       "    <tr>\n",
       "      <th>2</th>\n",
       "      <td>2020-07-14 16:00:00</td>\n",
       "      <td>31.451429</td>\n",
       "      <td>0.100000</td>\n",
       "      <td>47.145714</td>\n",
       "      <td>101.539128</td>\n",
       "      <td>734.000000</td>\n",
       "    </tr>\n",
       "    <tr>\n",
       "      <th>3</th>\n",
       "      <td>2020-07-14 17:00:00</td>\n",
       "      <td>31.161765</td>\n",
       "      <td>1042.843803</td>\n",
       "      <td>36.000000</td>\n",
       "      <td>101.501998</td>\n",
       "      <td>461.529412</td>\n",
       "    </tr>\n",
       "    <tr>\n",
       "      <th>4</th>\n",
       "      <td>2020-07-14 18:00:00</td>\n",
       "      <td>31.008333</td>\n",
       "      <td>1585.713833</td>\n",
       "      <td>28.436111</td>\n",
       "      <td>101.567130</td>\n",
       "      <td>400.000000</td>\n",
       "    </tr>\n",
       "    <tr>\n",
       "      <th>...</th>\n",
       "      <td>...</td>\n",
       "      <td>...</td>\n",
       "      <td>...</td>\n",
       "      <td>...</td>\n",
       "      <td>...</td>\n",
       "      <td>...</td>\n",
       "    </tr>\n",
       "    <tr>\n",
       "      <th>115629</th>\n",
       "      <td>2021-12-31 19:00:00</td>\n",
       "      <td>29.792673</td>\n",
       "      <td>616.640000</td>\n",
       "      <td>50.156364</td>\n",
       "      <td>102.653100</td>\n",
       "      <td>97.200000</td>\n",
       "    </tr>\n",
       "    <tr>\n",
       "      <th>115630</th>\n",
       "      <td>2021-12-31 20:00:00</td>\n",
       "      <td>29.951673</td>\n",
       "      <td>541.380000</td>\n",
       "      <td>48.047273</td>\n",
       "      <td>102.273400</td>\n",
       "      <td>97.800000</td>\n",
       "    </tr>\n",
       "    <tr>\n",
       "      <th>115631</th>\n",
       "      <td>2021-12-31 21:00:00</td>\n",
       "      <td>30.329218</td>\n",
       "      <td>544.167273</td>\n",
       "      <td>53.847273</td>\n",
       "      <td>102.199727</td>\n",
       "      <td>97.181818</td>\n",
       "    </tr>\n",
       "    <tr>\n",
       "      <th>115632</th>\n",
       "      <td>2021-12-31 22:00:00</td>\n",
       "      <td>29.511200</td>\n",
       "      <td>590.666000</td>\n",
       "      <td>44.097576</td>\n",
       "      <td>102.140000</td>\n",
       "      <td>98.100000</td>\n",
       "    </tr>\n",
       "    <tr>\n",
       "      <th>115633</th>\n",
       "      <td>2021-12-31 23:00:00</td>\n",
       "      <td>30.079564</td>\n",
       "      <td>594.030000</td>\n",
       "      <td>41.082424</td>\n",
       "      <td>102.145091</td>\n",
       "      <td>98.090909</td>\n",
       "    </tr>\n",
       "  </tbody>\n",
       "</table>\n",
       "<p>115634 rows × 6 columns</p>\n",
       "</div>"
      ],
      "text/plain": [
       "                       time          T           Rn          H           P  \\\n",
       "0       2020-07-14 14:00:00  31.300000  1001.448424  44.475000  101.565847   \n",
       "1       2020-07-14 15:00:00  31.333333   588.154974  45.505556  101.632854   \n",
       "2       2020-07-14 16:00:00  31.451429     0.100000  47.145714  101.539128   \n",
       "3       2020-07-14 17:00:00  31.161765  1042.843803  36.000000  101.501998   \n",
       "4       2020-07-14 18:00:00  31.008333  1585.713833  28.436111  101.567130   \n",
       "...                     ...        ...          ...        ...         ...   \n",
       "115629  2021-12-31 19:00:00  29.792673   616.640000  50.156364  102.653100   \n",
       "115630  2021-12-31 20:00:00  29.951673   541.380000  48.047273  102.273400   \n",
       "115631  2021-12-31 21:00:00  30.329218   544.167273  53.847273  102.199727   \n",
       "115632  2021-12-31 22:00:00  29.511200   590.666000  44.097576  102.140000   \n",
       "115633  2021-12-31 23:00:00  30.079564   594.030000  41.082424  102.145091   \n",
       "\n",
       "               CO2  \n",
       "0       567.750000  \n",
       "1       636.361111  \n",
       "2       734.000000  \n",
       "3       461.529412  \n",
       "4       400.000000  \n",
       "...            ...  \n",
       "115629   97.200000  \n",
       "115630   97.800000  \n",
       "115631   97.181818  \n",
       "115632   98.100000  \n",
       "115633   98.090909  \n",
       "\n",
       "[115634 rows x 6 columns]"
      ]
     },
     "execution_count": 109,
     "metadata": {},
     "output_type": "execute_result"
    }
   ],
   "source": [
    "plotDf"
   ]
  },
  {
   "cell_type": "code",
   "execution_count": 112,
   "id": "e137eb25",
   "metadata": {},
   "outputs": [
    {
     "data": {
      "text/plain": [
       "<AxesSubplot:>"
      ]
     },
     "execution_count": 112,
     "metadata": {},
     "output_type": "execute_result"
    },
    {
     "data": {
      "image/png": "[encoded data removed]",
      "text/plain": [
       "<Figure size 432x288 with 1 Axes>"
      ]
     },
     "metadata": {
      "needs_background": "light"
     },
     "output_type": "display_data"
    }
   ],
   "source": [
    "plotDf['Rn'].plot()"
   ]
  },
  {
   "cell_type": "markdown",
   "id": "4215629f",
   "metadata": {},
   "source": [
    "# 2. Data Plot"
   ]
  },
  {
   "cell_type": "code",
   "execution_count": 111,
   "id": "43fba68b",
   "metadata": {},
   "outputs": [
    {
     "data": {
      "image/png": "[encoded data removed]",
      "text/plain": [
       "<Figure size 1200x480 with 6 Axes>"
      ]
     },
     "metadata": {
      "needs_background": "light"
     },
     "output_type": "display_data"
    }
   ],
   "source": [
    "fig, axes = plt.subplots(nrows=3, ncols=2 ,dpi=120, figsize=(10,6))\n",
    "for i, ax in enumerate((axes.flatten())):\n",
    "    data = plotDf[plotDf.columns[i]]\n",
    "    ax.plot(data, color='red', linewidth=1)\n",
    "    # Decorations\n",
    "    ax.set_title(plotDf.columns[i])\n",
    "    ax.xaxis.set_ticks_position('none')\n",
    "    ax.yaxis.set_ticks_position('none')\n",
    "    ax.spines[\"top\"].set_alpha(0)\n",
    "    ax.tick_params(labelsize=4)\n",
    "    \n",
    "plt.tight_layout();\n"
   ]
  },
  {
   "cell_type": "code",
   "execution_count": 69,
   "id": "54c6f520",
   "metadata": {},
   "outputs": [
    {
     "data": {
      "text/plain": [
       "array([<AxesSubplot:title={'center':'T'}>,\n",
       "       <AxesSubplot:title={'center':'Rn'}>,\n",
       "       <AxesSubplot:title={'center':'H'}>,\n",
       "       <AxesSubplot:title={'center':'P'}>,\n",
       "       <AxesSubplot:title={'center':'CO2'}>, <AxesSubplot:>], dtype=object)"
      ]
     },
     "execution_count": 69,
     "metadata": {},
     "output_type": "execute_result"
    }
   ],
   "source": [
    "axes.flatten()"
   ]
  },
  {
   "cell_type": "code",
   "execution_count": 115,
   "id": "84786540",
   "metadata": {},
   "outputs": [
    {
     "name": "stdout",
     "output_type": "stream",
     "text": [
      "Temperature\n",
      "ADF Statistic: -48.17445740431627\n",
      "p-value: 0.0\n",
      "\n",
      "---------------------\n",
      "\n",
      "Radon\n",
      "ADF Statistic: -58.31529307473351\n",
      "p-value: 0.0\n",
      "Humidity\n",
      "ADF Statistic: -53.57172303826772\n",
      "p-value: 0.0\n",
      "Pressure\n",
      "ADF Statistic: -50.76910299858513\n",
      "p-value: 0.0\n",
      "CO2\n",
      "ADF Statistic: -57.59552754365333\n",
      "p-value: 0.0\n"
     ]
    }
   ],
   "source": [
    "ad_fuller_result_1 = adfuller(plotDf['T'].diff()[1:])\n",
    "\n",
    "print('Temperature')\n",
    "print(f'ADF Statistic: {ad_fuller_result_1[0]}')\n",
    "print(f'p-value: {ad_fuller_result_1[1]}')\n",
    "\n",
    "print('\\n---------------------\\n')\n",
    "\n",
    "ad_fuller_result_2 = adfuller(plotDf['Rn'].diff()[1:])\n",
    "\n",
    "print('Radon')\n",
    "print(f'ADF Statistic: {ad_fuller_result_2[0]}')\n",
    "print(f'p-value: {ad_fuller_result_2[1]}')\n",
    "\n",
    "ad_fuller_result_3 = adfuller(plotDf['H'].diff()[1:])\n",
    "\n",
    "print('Humidity')\n",
    "print(f'ADF Statistic: {ad_fuller_result_3[0]}')\n",
    "print(f'p-value: {ad_fuller_result_3[1]}')\n",
    "\n",
    "ad_fuller_result_4 = adfuller(plotDf['P'].diff()[1:])\n",
    "\n",
    "print('Pressure')\n",
    "print(f'ADF Statistic: {ad_fuller_result_4[0]}')\n",
    "print(f'p-value: {ad_fuller_result_4[1]}')\n",
    "\n",
    "ad_fuller_result_5= adfuller(plotDf['CO2'].diff()[1:])\n",
    "\n",
    "print('CO2')\n",
    "print(f'ADF Statistic: {ad_fuller_result_5[0]}')\n",
    "print(f'p-value: {ad_fuller_result_5[1]}')"
   ]
  },
  {
   "cell_type": "code",
   "execution_count": null,
   "id": "54d74a6f",
   "metadata": {},
   "outputs": [],
   "source": []
  }
 ],
 "metadata": {
  "kernelspec": {
   "display_name": "Python 3 (ipykernel)",
   "language": "python",
   "name": "python3"
  },
  "language_info": {
   "codemirror_mode": {
    "name": "ipython",
    "version": 3
   },
   "file_extension": ".py",
   "mimetype": "text/x-python",
   "name": "python",
   "nbconvert_exporter": "python",
   "pygments_lexer": "ipython3",
   "version": "3.9.12"
  }
 },
 "nbformat": 4,
 "nbformat_minor": 5
}
