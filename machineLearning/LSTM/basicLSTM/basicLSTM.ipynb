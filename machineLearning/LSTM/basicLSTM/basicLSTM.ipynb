{
 "cells": [
  {
   "cell_type": "code",
   "execution_count": null,
   "id": "017576e7",
   "metadata": {},
   "outputs": [],
   "source": [
    "# T"
   ]
  },
  {
   "cell_type": "code",
   "execution_count": 1,
   "id": "d332c331",
   "metadata": {},
   "outputs": [],
   "source": [
    "import tensorflow as tf\n",
    "import os\n",
    "import pandas as pd\n",
    "import numpy as np\n",
    "import pandas as pd\n",
    "import numpy as np\n",
    "from datetime import timezone, datetime\n",
    "import seaborn as sns\n",
    "from matplotlib import pyplot as plt"
   ]
  },
  {
   "cell_type": "code",
   "execution_count": 2,
   "id": "2d34db67",
   "metadata": {},
   "outputs": [],
   "source": [
    "imputedMeasurementsDf = pd.read_csv('../../../../../../Data/ProcessedData/KnnImputed/measurementsImputedByKnn.csv')\n",
    "measurementsDf = pd.read_csv('../../../../../../Data/RawData/rawMeasurementsFilteredBySensors.csv')"
   ]
  },
  {
   "cell_type": "code",
   "execution_count": 3,
   "id": "097510ff",
   "metadata": {},
   "outputs": [],
   "source": [
    "dateTimeDf = pd.DataFrame(measurementsDf['time'])"
   ]
  },
  {
   "cell_type": "code",
   "execution_count": 4,
   "id": "014d24d1",
   "metadata": {},
   "outputs": [],
   "source": [
    "def iso8601ToDatetime():\n",
    "    for i in range(len(dateTimeDf['time'])):\n",
    "        timeContainer  = dateTimeDf['time'][i].replace('.000','')\n",
    "        timeContainer = datetime.strptime(timeContainer, \"%Y-%m-%dT%H:%M:%SZ\")\n",
    "        timeContainer = int(round(timeContainer.timestamp()))\n",
    "        timeContainer = datetime.fromtimestamp(timeContainer)\n",
    "        dateTimeDf['time'][i] = timeContainer"
   ]
  },
  {
   "cell_type": "code",
   "execution_count": 5,
   "id": "ac59d9d6",
   "metadata": {},
   "outputs": [
    {
     "name": "stdout",
     "output_type": "stream",
     "text": [
      "CPU times: total: 14.2 s\n",
      "Wall time: 14.7 s\n"
     ]
    }
   ],
   "source": [
    "%%time\n",
    "\n",
    "iso8601ToDatetime()"
   ]
  },
  {
   "cell_type": "code",
   "execution_count": 6,
   "id": "c4687dbe",
   "metadata": {},
   "outputs": [],
   "source": [
    "measurementsDf = dateTimeDf.join(imputedMeasurementsDf.drop(['day','month','hour'],axis = 1))"
   ]
  },
  {
   "cell_type": "code",
   "execution_count": 7,
   "id": "bd011b2a",
   "metadata": {},
   "outputs": [
    {
     "data": {
      "text/html": [
       "<div>\n",
       "<style scoped>\n",
       "    .dataframe tbody tr th:only-of-type {\n",
       "        vertical-align: middle;\n",
       "    }\n",
       "\n",
       "    .dataframe tbody tr th {\n",
       "        vertical-align: top;\n",
       "    }\n",
       "\n",
       "    .dataframe thead th {\n",
       "        text-align: right;\n",
       "    }\n",
       "</style>\n",
       "<table border=\"1\" class=\"dataframe\">\n",
       "  <thead>\n",
       "    <tr style=\"text-align: right;\">\n",
       "      <th></th>\n",
       "      <th>time</th>\n",
       "      <th>T</th>\n",
       "      <th>Rn</th>\n",
       "      <th>H</th>\n",
       "      <th>P</th>\n",
       "      <th>CO2</th>\n",
       "      <th>sensor_id</th>\n",
       "    </tr>\n",
       "  </thead>\n",
       "  <tbody>\n",
       "    <tr>\n",
       "      <th>0</th>\n",
       "      <td>2020-07-14 14:00:00</td>\n",
       "      <td>31.300000</td>\n",
       "      <td>1001.448424</td>\n",
       "      <td>44.475000</td>\n",
       "      <td>101.565847</td>\n",
       "      <td>567.750000</td>\n",
       "      <td>D0001</td>\n",
       "    </tr>\n",
       "    <tr>\n",
       "      <th>1</th>\n",
       "      <td>2020-07-14 15:00:00</td>\n",
       "      <td>31.333333</td>\n",
       "      <td>588.154974</td>\n",
       "      <td>45.505556</td>\n",
       "      <td>101.632854</td>\n",
       "      <td>636.361111</td>\n",
       "      <td>D0001</td>\n",
       "    </tr>\n",
       "    <tr>\n",
       "      <th>2</th>\n",
       "      <td>2020-07-14 16:00:00</td>\n",
       "      <td>31.451429</td>\n",
       "      <td>0.100000</td>\n",
       "      <td>47.145714</td>\n",
       "      <td>101.539128</td>\n",
       "      <td>734.000000</td>\n",
       "      <td>D0001</td>\n",
       "    </tr>\n",
       "    <tr>\n",
       "      <th>3</th>\n",
       "      <td>2020-07-14 17:00:00</td>\n",
       "      <td>31.161765</td>\n",
       "      <td>1042.843803</td>\n",
       "      <td>36.000000</td>\n",
       "      <td>101.501998</td>\n",
       "      <td>461.529412</td>\n",
       "      <td>D0001</td>\n",
       "    </tr>\n",
       "    <tr>\n",
       "      <th>4</th>\n",
       "      <td>2020-07-14 18:00:00</td>\n",
       "      <td>31.008333</td>\n",
       "      <td>1585.713833</td>\n",
       "      <td>28.436111</td>\n",
       "      <td>101.567130</td>\n",
       "      <td>400.000000</td>\n",
       "      <td>D0001</td>\n",
       "    </tr>\n",
       "    <tr>\n",
       "      <th>...</th>\n",
       "      <td>...</td>\n",
       "      <td>...</td>\n",
       "      <td>...</td>\n",
       "      <td>...</td>\n",
       "      <td>...</td>\n",
       "      <td>...</td>\n",
       "      <td>...</td>\n",
       "    </tr>\n",
       "    <tr>\n",
       "      <th>115629</th>\n",
       "      <td>2021-12-31 19:00:00</td>\n",
       "      <td>29.792673</td>\n",
       "      <td>616.640000</td>\n",
       "      <td>50.156364</td>\n",
       "      <td>102.653100</td>\n",
       "      <td>97.200000</td>\n",
       "      <td>D009</td>\n",
       "    </tr>\n",
       "    <tr>\n",
       "      <th>115630</th>\n",
       "      <td>2021-12-31 20:00:00</td>\n",
       "      <td>29.951673</td>\n",
       "      <td>541.380000</td>\n",
       "      <td>48.047273</td>\n",
       "      <td>102.273400</td>\n",
       "      <td>97.800000</td>\n",
       "      <td>D009</td>\n",
       "    </tr>\n",
       "    <tr>\n",
       "      <th>115631</th>\n",
       "      <td>2021-12-31 21:00:00</td>\n",
       "      <td>30.329218</td>\n",
       "      <td>544.167273</td>\n",
       "      <td>53.847273</td>\n",
       "      <td>102.199727</td>\n",
       "      <td>97.181818</td>\n",
       "      <td>D009</td>\n",
       "    </tr>\n",
       "    <tr>\n",
       "      <th>115632</th>\n",
       "      <td>2021-12-31 22:00:00</td>\n",
       "      <td>29.511200</td>\n",
       "      <td>590.666000</td>\n",
       "      <td>44.097576</td>\n",
       "      <td>102.140000</td>\n",
       "      <td>98.100000</td>\n",
       "      <td>D009</td>\n",
       "    </tr>\n",
       "    <tr>\n",
       "      <th>115633</th>\n",
       "      <td>2021-12-31 23:00:00</td>\n",
       "      <td>30.079564</td>\n",
       "      <td>594.030000</td>\n",
       "      <td>41.082424</td>\n",
       "      <td>102.145091</td>\n",
       "      <td>98.090909</td>\n",
       "      <td>D009</td>\n",
       "    </tr>\n",
       "  </tbody>\n",
       "</table>\n",
       "<p>115634 rows × 7 columns</p>\n",
       "</div>"
      ],
      "text/plain": [
       "                       time          T           Rn          H           P  \\\n",
       "0       2020-07-14 14:00:00  31.300000  1001.448424  44.475000  101.565847   \n",
       "1       2020-07-14 15:00:00  31.333333   588.154974  45.505556  101.632854   \n",
       "2       2020-07-14 16:00:00  31.451429     0.100000  47.145714  101.539128   \n",
       "3       2020-07-14 17:00:00  31.161765  1042.843803  36.000000  101.501998   \n",
       "4       2020-07-14 18:00:00  31.008333  1585.713833  28.436111  101.567130   \n",
       "...                     ...        ...          ...        ...         ...   \n",
       "115629  2021-12-31 19:00:00  29.792673   616.640000  50.156364  102.653100   \n",
       "115630  2021-12-31 20:00:00  29.951673   541.380000  48.047273  102.273400   \n",
       "115631  2021-12-31 21:00:00  30.329218   544.167273  53.847273  102.199727   \n",
       "115632  2021-12-31 22:00:00  29.511200   590.666000  44.097576  102.140000   \n",
       "115633  2021-12-31 23:00:00  30.079564   594.030000  41.082424  102.145091   \n",
       "\n",
       "               CO2 sensor_id  \n",
       "0       567.750000     D0001  \n",
       "1       636.361111     D0001  \n",
       "2       734.000000     D0001  \n",
       "3       461.529412     D0001  \n",
       "4       400.000000     D0001  \n",
       "...            ...       ...  \n",
       "115629   97.200000      D009  \n",
       "115630   97.800000      D009  \n",
       "115631   97.181818      D009  \n",
       "115632   98.100000      D009  \n",
       "115633   98.090909      D009  \n",
       "\n",
       "[115634 rows x 7 columns]"
      ]
     },
     "execution_count": 7,
     "metadata": {},
     "output_type": "execute_result"
    }
   ],
   "source": [
    "measurementsDf"
   ]
  },
  {
   "cell_type": "code",
   "execution_count": 8,
   "id": "9c7df86f",
   "metadata": {},
   "outputs": [],
   "source": [
    "measurementsDf.index =measurementsDf['time']"
   ]
  },
  {
   "cell_type": "code",
   "execution_count": 9,
   "id": "fa434824",
   "metadata": {},
   "outputs": [],
   "source": [
    "temperatureDf = measurementsDf['T']"
   ]
  },
  {
   "cell_type": "code",
   "execution_count": 10,
   "id": "1e614b01",
   "metadata": {},
   "outputs": [
    {
     "data": {
      "text/plain": [
       "time\n",
       "2020-07-14 14:00:00    31.300000\n",
       "2020-07-14 15:00:00    31.333333\n",
       "2020-07-14 16:00:00    31.451429\n",
       "2020-07-14 17:00:00    31.161765\n",
       "2020-07-14 18:00:00    31.008333\n",
       "                         ...    \n",
       "2021-12-31 19:00:00    29.792673\n",
       "2021-12-31 20:00:00    29.951673\n",
       "2021-12-31 21:00:00    30.329218\n",
       "2021-12-31 22:00:00    29.511200\n",
       "2021-12-31 23:00:00    30.079564\n",
       "Name: T, Length: 115634, dtype: float64"
      ]
     },
     "execution_count": 10,
     "metadata": {},
     "output_type": "execute_result"
    }
   ],
   "source": [
    "temperatureDf"
   ]
  },
  {
   "cell_type": "code",
   "execution_count": 11,
   "id": "ccac2286",
   "metadata": {},
   "outputs": [],
   "source": [
    "#temperatureDf.plot()"
   ]
  },
  {
   "cell_type": "code",
   "execution_count": 12,
   "id": "0a5809d5",
   "metadata": {},
   "outputs": [],
   "source": [
    "def df_to_X_y(df, window_size=5):\n",
    "    df_as_np = df.to_numpy()\n",
    "    \n",
    "    X = []\n",
    "    y = []\n",
    "    for i in range(len(df_as_np)-window_size):\n",
    "        row = [[a] for a in df_as_np[i:i+window_size]]\n",
    "        X.append(row)\n",
    "        label = df_as_np[i+window_size]\n",
    "        y.append(label)\n",
    "        \n",
    "    return np.array(X), np.array(y)"
   ]
  },
  {
   "cell_type": "code",
   "execution_count": 13,
   "id": "57aeac3d",
   "metadata": {},
   "outputs": [
    {
     "data": {
      "text/plain": [
       "((115629, 5, 1), (115629,))"
      ]
     },
     "execution_count": 13,
     "metadata": {},
     "output_type": "execute_result"
    }
   ],
   "source": [
    "WINDOW_SIZE = 5\n",
    "X1, y1 = df_to_X_y(temperatureDf, WINDOW_SIZE)\n",
    "X1.shape, y1.shape"
   ]
  },
  {
   "cell_type": "code",
   "execution_count": 14,
   "id": "8e7cb5de",
   "metadata": {},
   "outputs": [
    {
     "data": {
      "text/plain": [
       "((80000, 5, 1), (80000,), (5000, 5, 1), (5000,), (30629, 5, 1), (30629,))"
      ]
     },
     "execution_count": 14,
     "metadata": {},
     "output_type": "execute_result"
    }
   ],
   "source": [
    "X_train1, y_train1 = X1[:80000], y1[:80000]\n",
    "X_val1, y_val1 = X1[80000:85000], y1[80000:85000]\n",
    "X_test1, y_test1 = X1[85000:], y1[85000:]\n",
    "X_train1.shape, y_train1.shape, X_val1.shape, y_val1.shape, X_test1.shape, y_test1.shape"
   ]
  },
  {
   "cell_type": "code",
   "execution_count": 18,
   "id": "540e06f4",
   "metadata": {},
   "outputs": [
    {
     "name": "stdout",
     "output_type": "stream",
     "text": [
      "Model: \"sequential\"\n",
      "_________________________________________________________________\n",
      "Layer (type)                 Output Shape              Param #   \n",
      "=================================================================\n",
      "lstm (LSTM)                  (None, 64)                16896     \n",
      "_________________________________________________________________\n",
      "dense (Dense)                (None, 8)                 520       \n",
      "_________________________________________________________________\n",
      "dense_1 (Dense)              (None, 1)                 9         \n",
      "=================================================================\n",
      "Total params: 17,425\n",
      "Trainable params: 17,425\n",
      "Non-trainable params: 0\n",
      "_________________________________________________________________\n"
     ]
    }
   ],
   "source": [
    "from tensorflow.keras.models import Sequential\n",
    "from tensorflow.keras.layers import *\n",
    "from tensorflow.keras.callbacks import ModelCheckpoint\n",
    "from tensorflow.keras.losses import MeanSquaredError\n",
    "from tensorflow.keras.metrics import RootMeanSquaredError\n",
    "from tensorflow.keras.optimizers import Adam\n",
    "\n",
    "model1 = Sequential()\n",
    "\n",
    "model1.add(InputLayer((5, 1)))\n",
    "model1.add(LSTM(64))\n",
    "model1.add(Dense(8, 'relu'))\n",
    "model1.add(Dense(1, 'linear'))\n",
    "\n",
    "model1.summary()"
   ]
  },
  {
   "cell_type": "code",
   "execution_count": 19,
   "id": "49bd3fa4",
   "metadata": {},
   "outputs": [],
   "source": [
    "cp1 = ModelCheckpoint('model1/', save_best_only=True)\n",
    "model1.compile(loss=MeanSquaredError(), optimizer=Adam(learning_rate=0.0001), metrics=[RootMeanSquaredError()])"
   ]
  },
  {
   "cell_type": "code",
   "execution_count": 20,
   "id": "ce19fb5a",
   "metadata": {},
   "outputs": [
    {
     "name": "stdout",
     "output_type": "stream",
     "text": [
      "Epoch 1/10\n",
      "2500/2500 [==============================] - 22s 8ms/step - loss: 148.4951 - root_mean_squared_error: 12.1859 - val_loss: 0.5921 - val_root_mean_squared_error: 0.7695\n"
     ]
    },
    {
     "name": "stderr",
     "output_type": "stream",
     "text": [
      "WARNING:absl:Found untraced functions such as lstm_cell_layer_call_and_return_conditional_losses, lstm_cell_layer_call_fn, lstm_cell_layer_call_fn, lstm_cell_layer_call_and_return_conditional_losses, lstm_cell_layer_call_and_return_conditional_losses while saving (showing 5 of 5). These functions will not be directly callable after loading.\n"
     ]
    },
    {
     "name": "stdout",
     "output_type": "stream",
     "text": [
      "INFO:tensorflow:Assets written to: model1\\assets\n"
     ]
    },
    {
     "name": "stderr",
     "output_type": "stream",
     "text": [
      "INFO:tensorflow:Assets written to: model1\\assets\n"
     ]
    },
    {
     "name": "stdout",
     "output_type": "stream",
     "text": [
      "Epoch 2/10\n",
      "2500/2500 [==============================] - 17s 7ms/step - loss: 1.4499 - root_mean_squared_error: 1.2041 - val_loss: 0.4543 - val_root_mean_squared_error: 0.6740\n"
     ]
    },
    {
     "name": "stderr",
     "output_type": "stream",
     "text": [
      "WARNING:absl:Found untraced functions such as lstm_cell_layer_call_and_return_conditional_losses, lstm_cell_layer_call_fn, lstm_cell_layer_call_fn, lstm_cell_layer_call_and_return_conditional_losses, lstm_cell_layer_call_and_return_conditional_losses while saving (showing 5 of 5). These functions will not be directly callable after loading.\n"
     ]
    },
    {
     "name": "stdout",
     "output_type": "stream",
     "text": [
      "INFO:tensorflow:Assets written to: model1\\assets\n"
     ]
    },
    {
     "name": "stderr",
     "output_type": "stream",
     "text": [
      "INFO:tensorflow:Assets written to: model1\\assets\n"
     ]
    },
    {
     "name": "stdout",
     "output_type": "stream",
     "text": [
      "Epoch 3/10\n",
      "2500/2500 [==============================] - 17s 7ms/step - loss: 1.1104 - root_mean_squared_error: 1.0538 - val_loss: 0.4161 - val_root_mean_squared_error: 0.6451- loss: 1.1135 - root_mean_squared_error:\n"
     ]
    },
    {
     "name": "stderr",
     "output_type": "stream",
     "text": [
      "WARNING:absl:Found untraced functions such as lstm_cell_layer_call_and_return_conditional_losses, lstm_cell_layer_call_fn, lstm_cell_layer_call_fn, lstm_cell_layer_call_and_return_conditional_losses, lstm_cell_layer_call_and_return_conditional_losses while saving (showing 5 of 5). These functions will not be directly callable after loading.\n"
     ]
    },
    {
     "name": "stdout",
     "output_type": "stream",
     "text": [
      "INFO:tensorflow:Assets written to: model1\\assets\n"
     ]
    },
    {
     "name": "stderr",
     "output_type": "stream",
     "text": [
      "INFO:tensorflow:Assets written to: model1\\assets\n"
     ]
    },
    {
     "name": "stdout",
     "output_type": "stream",
     "text": [
      "Epoch 4/10\n",
      "2500/2500 [==============================] - 19s 8ms/step - loss: 1.0717 - root_mean_squared_error: 1.0352 - val_loss: 0.4334 - val_root_mean_squared_error: 0.6584\n",
      "Epoch 5/10\n",
      "2500/2500 [==============================] - 16s 7ms/step - loss: 1.0609 - root_mean_squared_error: 1.0300 - val_loss: 0.3927 - val_root_mean_squared_error: 0.6267.0176 - root_mean_squared_error: 1.008 - ETA: 5s - loss: - ETA: 2s - loss: 1.0393 - root_mean_squared - ETA: 1s - loss: 1.04\n"
     ]
    },
    {
     "name": "stderr",
     "output_type": "stream",
     "text": [
      "WARNING:absl:Found untraced functions such as lstm_cell_layer_call_and_return_conditional_losses, lstm_cell_layer_call_fn, lstm_cell_layer_call_fn, lstm_cell_layer_call_and_return_conditional_losses, lstm_cell_layer_call_and_return_conditional_losses while saving (showing 5 of 5). These functions will not be directly callable after loading.\n"
     ]
    },
    {
     "name": "stdout",
     "output_type": "stream",
     "text": [
      "INFO:tensorflow:Assets written to: model1\\assets\n"
     ]
    },
    {
     "name": "stderr",
     "output_type": "stream",
     "text": [
      "INFO:tensorflow:Assets written to: model1\\assets\n"
     ]
    },
    {
     "name": "stdout",
     "output_type": "stream",
     "text": [
      "Epoch 6/10\n",
      "2500/2500 [==============================] - 17s 7ms/step - loss: 1.0571 - root_mean_squared_error: 1.0282 - val_loss: 0.4034 - val_root_mean_squared_error: 0.63511.06\n",
      "Epoch 7/10\n",
      "2500/2500 [==============================] - 19s 7ms/step - loss: 1.0536 - root_mean_squared_error: 1.0265 - val_loss: 0.4023 - val_root_mean_squared_error: 0.6343\n",
      "Epoch 8/10\n",
      "2500/2500 [==============================] - 17s 7ms/step - loss: 1.0499 - root_mean_squared_error: 1.0247 - val_loss: 0.4004 - val_root_mean_squared_error: 0.6327: 1s - loss: 1.0417 - root_mean_squared_erro - ETA: 1s - loss: 1.0449 - root_mean_sq - ETA: 0s - loss: 1.0373 - root_mean_squared_error: \n",
      "Epoch 9/10\n",
      "2500/2500 [==============================] - 17s 7ms/step - loss: 1.0471 - root_mean_squared_error: 1.0233 - val_loss: 0.3993 - val_root_mean_squared_error: 0.6319oot_mean_squared_ - ETA: 2s - loss: 1.0383 - root_mean_squared_error:  - ETA: 2s - loss: 1.0427 - root_mean_squared_error: - ETA: 2s - loss: 1.0392 - root_mean_square - ETA: 1s - loss: 1.0335 - root_mean_s - ETA: 0s - loss: 1.0486 - root_mean_squared_error: 1.0\n",
      "Epoch 10/10\n",
      "2500/2500 [==============================] - 18s 7ms/step - loss: 1.0457 - root_mean_squared_error: 1.0226 - val_loss: 0.3849 - val_root_mean_squared_error: 0.6204\n"
     ]
    },
    {
     "name": "stderr",
     "output_type": "stream",
     "text": [
      "WARNING:absl:Found untraced functions such as lstm_cell_layer_call_and_return_conditional_losses, lstm_cell_layer_call_fn, lstm_cell_layer_call_fn, lstm_cell_layer_call_and_return_conditional_losses, lstm_cell_layer_call_and_return_conditional_losses while saving (showing 5 of 5). These functions will not be directly callable after loading.\n"
     ]
    },
    {
     "name": "stdout",
     "output_type": "stream",
     "text": [
      "INFO:tensorflow:Assets written to: model1\\assets\n"
     ]
    },
    {
     "name": "stderr",
     "output_type": "stream",
     "text": [
      "INFO:tensorflow:Assets written to: model1\\assets\n"
     ]
    },
    {
     "data": {
      "text/plain": [
       "<keras.callbacks.History at 0x2f2c62f7730>"
      ]
     },
     "execution_count": 20,
     "metadata": {},
     "output_type": "execute_result"
    }
   ],
   "source": [
    "model1.fit(X_train1, y_train1, validation_data=(X_val1, y_val1), epochs=10, callbacks=[cp1])"
   ]
  },
  {
   "cell_type": "code",
   "execution_count": 15,
   "id": "e75610e1",
   "metadata": {},
   "outputs": [],
   "source": [
    "from tensorflow.keras.models import load_model\n",
    "model = load_model('LSTM_model/')"
   ]
  },
  {
   "cell_type": "code",
   "execution_count": 16,
   "id": "183f5690",
   "metadata": {},
   "outputs": [
    {
     "data": {
      "text/html": [
       "<div>\n",
       "<style scoped>\n",
       "    .dataframe tbody tr th:only-of-type {\n",
       "        vertical-align: middle;\n",
       "    }\n",
       "\n",
       "    .dataframe tbody tr th {\n",
       "        vertical-align: top;\n",
       "    }\n",
       "\n",
       "    .dataframe thead th {\n",
       "        text-align: right;\n",
       "    }\n",
       "</style>\n",
       "<table border=\"1\" class=\"dataframe\">\n",
       "  <thead>\n",
       "    <tr style=\"text-align: right;\">\n",
       "      <th></th>\n",
       "      <th>Train Predictions</th>\n",
       "      <th>Actuals</th>\n",
       "    </tr>\n",
       "  </thead>\n",
       "  <tbody>\n",
       "    <tr>\n",
       "      <th>0</th>\n",
       "      <td>31.120104</td>\n",
       "      <td>30.647222</td>\n",
       "    </tr>\n",
       "    <tr>\n",
       "      <th>1</th>\n",
       "      <td>30.878284</td>\n",
       "      <td>29.891429</td>\n",
       "    </tr>\n",
       "    <tr>\n",
       "      <th>2</th>\n",
       "      <td>30.390657</td>\n",
       "      <td>29.118919</td>\n",
       "    </tr>\n",
       "    <tr>\n",
       "      <th>3</th>\n",
       "      <td>29.762238</td>\n",
       "      <td>28.200000</td>\n",
       "    </tr>\n",
       "    <tr>\n",
       "      <th>4</th>\n",
       "      <td>28.935419</td>\n",
       "      <td>28.280556</td>\n",
       "    </tr>\n",
       "    <tr>\n",
       "      <th>...</th>\n",
       "      <td>...</td>\n",
       "      <td>...</td>\n",
       "    </tr>\n",
       "    <tr>\n",
       "      <th>79995</th>\n",
       "      <td>26.000505</td>\n",
       "      <td>26.082500</td>\n",
       "    </tr>\n",
       "    <tr>\n",
       "      <th>79996</th>\n",
       "      <td>26.033413</td>\n",
       "      <td>25.911667</td>\n",
       "    </tr>\n",
       "    <tr>\n",
       "      <th>79997</th>\n",
       "      <td>25.904177</td>\n",
       "      <td>26.011818</td>\n",
       "    </tr>\n",
       "    <tr>\n",
       "      <th>79998</th>\n",
       "      <td>25.956099</td>\n",
       "      <td>25.944167</td>\n",
       "    </tr>\n",
       "    <tr>\n",
       "      <th>79999</th>\n",
       "      <td>25.908644</td>\n",
       "      <td>25.802500</td>\n",
       "    </tr>\n",
       "  </tbody>\n",
       "</table>\n",
       "<p>80000 rows × 2 columns</p>\n",
       "</div>"
      ],
      "text/plain": [
       "       Train Predictions    Actuals\n",
       "0              31.120104  30.647222\n",
       "1              30.878284  29.891429\n",
       "2              30.390657  29.118919\n",
       "3              29.762238  28.200000\n",
       "4              28.935419  28.280556\n",
       "...                  ...        ...\n",
       "79995          26.000505  26.082500\n",
       "79996          26.033413  25.911667\n",
       "79997          25.904177  26.011818\n",
       "79998          25.956099  25.944167\n",
       "79999          25.908644  25.802500\n",
       "\n",
       "[80000 rows x 2 columns]"
      ]
     },
     "execution_count": 16,
     "metadata": {},
     "output_type": "execute_result"
    }
   ],
   "source": [
    "train_predictions = model.predict(X_train1).flatten()\n",
    "train_results = pd.DataFrame(data={'Train Predictions':train_predictions, 'Actuals':y_train1})\n",
    "train_results"
   ]
  },
  {
   "cell_type": "code",
   "execution_count": 17,
   "id": "9b71a560",
   "metadata": {},
   "outputs": [],
   "source": [
    "#import matplotlib.pyplot as plt\n",
    "#plt.plot(train_results['Train Predictions'][50:100])\n",
    "#plt.plot(train_results['Actuals'][50:100])"
   ]
  },
  {
   "cell_type": "code",
   "execution_count": 19,
   "id": "e344732e",
   "metadata": {},
   "outputs": [
    {
     "data": {
      "text/html": [
       "<div>\n",
       "<style scoped>\n",
       "    .dataframe tbody tr th:only-of-type {\n",
       "        vertical-align: middle;\n",
       "    }\n",
       "\n",
       "    .dataframe tbody tr th {\n",
       "        vertical-align: top;\n",
       "    }\n",
       "\n",
       "    .dataframe thead th {\n",
       "        text-align: right;\n",
       "    }\n",
       "</style>\n",
       "<table border=\"1\" class=\"dataframe\">\n",
       "  <thead>\n",
       "    <tr style=\"text-align: right;\">\n",
       "      <th></th>\n",
       "      <th>Val Predictions</th>\n",
       "      <th>Actuals</th>\n",
       "    </tr>\n",
       "  </thead>\n",
       "  <tbody>\n",
       "    <tr>\n",
       "      <th>0</th>\n",
       "      <td>25.797438</td>\n",
       "      <td>25.822000</td>\n",
       "    </tr>\n",
       "    <tr>\n",
       "      <th>1</th>\n",
       "      <td>25.790070</td>\n",
       "      <td>25.745000</td>\n",
       "    </tr>\n",
       "    <tr>\n",
       "      <th>2</th>\n",
       "      <td>25.722664</td>\n",
       "      <td>25.707500</td>\n",
       "    </tr>\n",
       "    <tr>\n",
       "      <th>3</th>\n",
       "      <td>25.678833</td>\n",
       "      <td>25.654545</td>\n",
       "    </tr>\n",
       "    <tr>\n",
       "      <th>4</th>\n",
       "      <td>25.627695</td>\n",
       "      <td>25.607500</td>\n",
       "    </tr>\n",
       "    <tr>\n",
       "      <th>...</th>\n",
       "      <td>...</td>\n",
       "      <td>...</td>\n",
       "    </tr>\n",
       "    <tr>\n",
       "      <th>4995</th>\n",
       "      <td>25.632406</td>\n",
       "      <td>25.659167</td>\n",
       "    </tr>\n",
       "    <tr>\n",
       "      <th>4996</th>\n",
       "      <td>25.662062</td>\n",
       "      <td>25.821667</td>\n",
       "    </tr>\n",
       "    <tr>\n",
       "      <th>4997</th>\n",
       "      <td>25.753841</td>\n",
       "      <td>26.438889</td>\n",
       "    </tr>\n",
       "    <tr>\n",
       "      <th>4998</th>\n",
       "      <td>26.214628</td>\n",
       "      <td>26.259091</td>\n",
       "    </tr>\n",
       "    <tr>\n",
       "      <th>4999</th>\n",
       "      <td>26.159792</td>\n",
       "      <td>26.544167</td>\n",
       "    </tr>\n",
       "  </tbody>\n",
       "</table>\n",
       "<p>5000 rows × 2 columns</p>\n",
       "</div>"
      ],
      "text/plain": [
       "      Val Predictions    Actuals\n",
       "0           25.797438  25.822000\n",
       "1           25.790070  25.745000\n",
       "2           25.722664  25.707500\n",
       "3           25.678833  25.654545\n",
       "4           25.627695  25.607500\n",
       "...               ...        ...\n",
       "4995        25.632406  25.659167\n",
       "4996        25.662062  25.821667\n",
       "4997        25.753841  26.438889\n",
       "4998        26.214628  26.259091\n",
       "4999        26.159792  26.544167\n",
       "\n",
       "[5000 rows x 2 columns]"
      ]
     },
     "execution_count": 19,
     "metadata": {},
     "output_type": "execute_result"
    }
   ],
   "source": [
    "val_predictions = model.predict(X_val1).flatten()\n",
    "val_results = pd.DataFrame(data={'Val Predictions':val_predictions, 'Actuals':y_val1})"
   ]
  },
  {
   "cell_type": "code",
   "execution_count": 21,
   "id": "242092d1",
   "metadata": {},
   "outputs": [
    {
     "data": {
      "text/html": [
       "<div>\n",
       "<style scoped>\n",
       "    .dataframe tbody tr th:only-of-type {\n",
       "        vertical-align: middle;\n",
       "    }\n",
       "\n",
       "    .dataframe tbody tr th {\n",
       "        vertical-align: top;\n",
       "    }\n",
       "\n",
       "    .dataframe thead th {\n",
       "        text-align: right;\n",
       "    }\n",
       "</style>\n",
       "<table border=\"1\" class=\"dataframe\">\n",
       "  <thead>\n",
       "    <tr style=\"text-align: right;\">\n",
       "      <th></th>\n",
       "      <th>Val Predictions</th>\n",
       "      <th>Actuals</th>\n",
       "    </tr>\n",
       "  </thead>\n",
       "  <tbody>\n",
       "    <tr>\n",
       "      <th>0</th>\n",
       "      <td>25.797438</td>\n",
       "      <td>25.822000</td>\n",
       "    </tr>\n",
       "    <tr>\n",
       "      <th>1</th>\n",
       "      <td>25.790070</td>\n",
       "      <td>25.745000</td>\n",
       "    </tr>\n",
       "    <tr>\n",
       "      <th>2</th>\n",
       "      <td>25.722664</td>\n",
       "      <td>25.707500</td>\n",
       "    </tr>\n",
       "    <tr>\n",
       "      <th>3</th>\n",
       "      <td>25.678833</td>\n",
       "      <td>25.654545</td>\n",
       "    </tr>\n",
       "    <tr>\n",
       "      <th>4</th>\n",
       "      <td>25.627695</td>\n",
       "      <td>25.607500</td>\n",
       "    </tr>\n",
       "    <tr>\n",
       "      <th>5</th>\n",
       "      <td>25.579926</td>\n",
       "      <td>25.837500</td>\n",
       "    </tr>\n",
       "    <tr>\n",
       "      <th>6</th>\n",
       "      <td>25.738695</td>\n",
       "      <td>26.072500</td>\n",
       "    </tr>\n",
       "    <tr>\n",
       "      <th>7</th>\n",
       "      <td>25.935349</td>\n",
       "      <td>26.224545</td>\n",
       "    </tr>\n",
       "    <tr>\n",
       "      <th>8</th>\n",
       "      <td>26.089977</td>\n",
       "      <td>26.718333</td>\n",
       "    </tr>\n",
       "    <tr>\n",
       "      <th>9</th>\n",
       "      <td>26.500008</td>\n",
       "      <td>27.246667</td>\n",
       "    </tr>\n",
       "    <tr>\n",
       "      <th>10</th>\n",
       "      <td>26.970871</td>\n",
       "      <td>27.550000</td>\n",
       "    </tr>\n",
       "    <tr>\n",
       "      <th>11</th>\n",
       "      <td>27.305264</td>\n",
       "      <td>27.572500</td>\n",
       "    </tr>\n",
       "    <tr>\n",
       "      <th>12</th>\n",
       "      <td>27.441402</td>\n",
       "      <td>27.490000</td>\n",
       "    </tr>\n",
       "    <tr>\n",
       "      <th>13</th>\n",
       "      <td>27.462355</td>\n",
       "      <td>27.396667</td>\n",
       "    </tr>\n",
       "    <tr>\n",
       "      <th>14</th>\n",
       "      <td>27.418875</td>\n",
       "      <td>27.437273</td>\n",
       "    </tr>\n",
       "    <tr>\n",
       "      <th>15</th>\n",
       "      <td>27.428362</td>\n",
       "      <td>27.230000</td>\n",
       "    </tr>\n",
       "    <tr>\n",
       "      <th>16</th>\n",
       "      <td>27.280081</td>\n",
       "      <td>27.099167</td>\n",
       "    </tr>\n",
       "    <tr>\n",
       "      <th>17</th>\n",
       "      <td>27.155632</td>\n",
       "      <td>27.036364</td>\n",
       "    </tr>\n",
       "    <tr>\n",
       "      <th>18</th>\n",
       "      <td>27.068422</td>\n",
       "      <td>26.868182</td>\n",
       "    </tr>\n",
       "    <tr>\n",
       "      <th>19</th>\n",
       "      <td>26.916466</td>\n",
       "      <td>26.697500</td>\n",
       "    </tr>\n",
       "  </tbody>\n",
       "</table>\n",
       "</div>"
      ],
      "text/plain": [
       "    Val Predictions    Actuals\n",
       "0         25.797438  25.822000\n",
       "1         25.790070  25.745000\n",
       "2         25.722664  25.707500\n",
       "3         25.678833  25.654545\n",
       "4         25.627695  25.607500\n",
       "5         25.579926  25.837500\n",
       "6         25.738695  26.072500\n",
       "7         25.935349  26.224545\n",
       "8         26.089977  26.718333\n",
       "9         26.500008  27.246667\n",
       "10        26.970871  27.550000\n",
       "11        27.305264  27.572500\n",
       "12        27.441402  27.490000\n",
       "13        27.462355  27.396667\n",
       "14        27.418875  27.437273\n",
       "15        27.428362  27.230000\n",
       "16        27.280081  27.099167\n",
       "17        27.155632  27.036364\n",
       "18        27.068422  26.868182\n",
       "19        26.916466  26.697500"
      ]
     },
     "execution_count": 21,
     "metadata": {},
     "output_type": "execute_result"
    }
   ],
   "source": [
    "val_results.head(20)"
   ]
  }
 ],
 "metadata": {
  "kernelspec": {
   "display_name": "Python 3 (ipykernel)",
   "language": "python",
   "name": "python3"
  },
  "language_info": {
   "codemirror_mode": {
    "name": "ipython",
    "version": 3
   },
   "file_extension": ".py",
   "mimetype": "text/x-python",
   "name": "python",
   "nbconvert_exporter": "python",
   "pygments_lexer": "ipython3",
   "version": "3.9.12"
  }
 },
 "nbformat": 4,
 "nbformat_minor": 5
}
