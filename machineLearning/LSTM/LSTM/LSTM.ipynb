{
 "cells": [
  {
   "cell_type": "code",
   "execution_count": 60,
   "id": "d332c331",
   "metadata": {},
   "outputs": [],
   "source": [
    "import tensorflow as tf\n",
    "import os\n",
    "import pandas as pd\n",
    "import numpy as np\n",
    "import pandas as pd\n",
    "import numpy as np\n",
    "from datetime import timezone, datetime\n",
    "import seaborn as sns\n",
    "from matplotlib import pyplot as plt\n",
    "import os\n",
    "from tensorflow.keras.models import Sequential\n",
    "from tensorflow.keras.layers import *\n",
    "from tensorflow.keras.callbacks import ModelCheckpoint\n",
    "from tensorflow.keras.losses import MeanSquaredError\n",
    "from tensorflow.keras.metrics import RootMeanSquaredError\n",
    "from tensorflow.keras.metrics import Accuracy\n",
    "from tensorflow.keras.optimizers import Adam\n",
    "from tensorflow.keras.models import load_model\n",
    "\n",
    "os.environ['KMP_DUPLICATE_LIB_OK']='True'"
   ]
  },
  {
   "cell_type": "code",
   "execution_count": 61,
   "id": "2d34db67",
   "metadata": {},
   "outputs": [],
   "source": [
    "imputedMeasurementsDf = pd.read_csv('../../../../../../Data/ProcessedData/KnnImputed/measurementsImputedByKnn.csv')\n",
    "measurementsDf = pd.read_csv('../../../../../../Data/RawData/rawMeasurementsFilteredBySensors.csv')"
   ]
  },
  {
   "cell_type": "code",
   "execution_count": 62,
   "id": "097510ff",
   "metadata": {},
   "outputs": [],
   "source": [
    "dateTimeDf = pd.DataFrame(measurementsDf['time'])"
   ]
  },
  {
   "cell_type": "code",
   "execution_count": 63,
   "id": "014d24d1",
   "metadata": {},
   "outputs": [],
   "source": [
    "def iso8601ToDatetime():\n",
    "    for i in range(len(dateTimeDf['time'])):\n",
    "        timeContainer  = dateTimeDf['time'][i].replace('.000','')\n",
    "        timeContainer = datetime.strptime(timeContainer, \"%Y-%m-%dT%H:%M:%SZ\")\n",
    "        timeContainer = int(round(timeContainer.timestamp()))\n",
    "        timeContainer = datetime.fromtimestamp(timeContainer)\n",
    "        dateTimeDf['time'][i] = timeContainer"
   ]
  },
  {
   "cell_type": "code",
   "execution_count": 64,
   "id": "ac59d9d6",
   "metadata": {},
   "outputs": [
    {
     "name": "stdout",
     "output_type": "stream",
     "text": [
      "CPU times: total: 13.2 s\n",
      "Wall time: 13.6 s\n"
     ]
    }
   ],
   "source": [
    "%%time\n",
    "\n",
    "iso8601ToDatetime()"
   ]
  },
  {
   "cell_type": "code",
   "execution_count": 65,
   "id": "c4687dbe",
   "metadata": {},
   "outputs": [],
   "source": [
    "measurementsDf = dateTimeDf.join(imputedMeasurementsDf.drop(['day','month','hour'],axis = 1))"
   ]
  },
  {
   "cell_type": "code",
   "execution_count": 66,
   "id": "bd011b2a",
   "metadata": {},
   "outputs": [
    {
     "data": {
      "text/html": [
       "<div>\n",
       "<style scoped>\n",
       "    .dataframe tbody tr th:only-of-type {\n",
       "        vertical-align: middle;\n",
       "    }\n",
       "\n",
       "    .dataframe tbody tr th {\n",
       "        vertical-align: top;\n",
       "    }\n",
       "\n",
       "    .dataframe thead th {\n",
       "        text-align: right;\n",
       "    }\n",
       "</style>\n",
       "<table border=\"1\" class=\"dataframe\">\n",
       "  <thead>\n",
       "    <tr style=\"text-align: right;\">\n",
       "      <th></th>\n",
       "      <th>time</th>\n",
       "      <th>T</th>\n",
       "      <th>Rn</th>\n",
       "      <th>H</th>\n",
       "      <th>P</th>\n",
       "      <th>CO2</th>\n",
       "      <th>sensor_id</th>\n",
       "    </tr>\n",
       "  </thead>\n",
       "  <tbody>\n",
       "    <tr>\n",
       "      <th>0</th>\n",
       "      <td>2020-07-14 14:00:00</td>\n",
       "      <td>31.300000</td>\n",
       "      <td>1001.448424</td>\n",
       "      <td>44.475000</td>\n",
       "      <td>101.565847</td>\n",
       "      <td>567.750000</td>\n",
       "      <td>D0001</td>\n",
       "    </tr>\n",
       "    <tr>\n",
       "      <th>1</th>\n",
       "      <td>2020-07-14 15:00:00</td>\n",
       "      <td>31.333333</td>\n",
       "      <td>588.154974</td>\n",
       "      <td>45.505556</td>\n",
       "      <td>101.632854</td>\n",
       "      <td>636.361111</td>\n",
       "      <td>D0001</td>\n",
       "    </tr>\n",
       "    <tr>\n",
       "      <th>2</th>\n",
       "      <td>2020-07-14 16:00:00</td>\n",
       "      <td>31.451429</td>\n",
       "      <td>0.100000</td>\n",
       "      <td>47.145714</td>\n",
       "      <td>101.539128</td>\n",
       "      <td>734.000000</td>\n",
       "      <td>D0001</td>\n",
       "    </tr>\n",
       "    <tr>\n",
       "      <th>3</th>\n",
       "      <td>2020-07-14 17:00:00</td>\n",
       "      <td>31.161765</td>\n",
       "      <td>1042.843803</td>\n",
       "      <td>36.000000</td>\n",
       "      <td>101.501998</td>\n",
       "      <td>461.529412</td>\n",
       "      <td>D0001</td>\n",
       "    </tr>\n",
       "    <tr>\n",
       "      <th>4</th>\n",
       "      <td>2020-07-14 18:00:00</td>\n",
       "      <td>31.008333</td>\n",
       "      <td>1585.713833</td>\n",
       "      <td>28.436111</td>\n",
       "      <td>101.567130</td>\n",
       "      <td>400.000000</td>\n",
       "      <td>D0001</td>\n",
       "    </tr>\n",
       "    <tr>\n",
       "      <th>5</th>\n",
       "      <td>2020-07-14 19:00:00</td>\n",
       "      <td>30.647222</td>\n",
       "      <td>1585.713833</td>\n",
       "      <td>29.133333</td>\n",
       "      <td>101.567130</td>\n",
       "      <td>400.000000</td>\n",
       "      <td>D0001</td>\n",
       "    </tr>\n",
       "    <tr>\n",
       "      <th>6</th>\n",
       "      <td>2020-07-14 20:00:00</td>\n",
       "      <td>29.891429</td>\n",
       "      <td>1585.713833</td>\n",
       "      <td>28.597143</td>\n",
       "      <td>101.567130</td>\n",
       "      <td>400.000000</td>\n",
       "      <td>D0001</td>\n",
       "    </tr>\n",
       "    <tr>\n",
       "      <th>7</th>\n",
       "      <td>2020-07-14 21:00:00</td>\n",
       "      <td>29.118919</td>\n",
       "      <td>1585.713833</td>\n",
       "      <td>29.162162</td>\n",
       "      <td>101.567130</td>\n",
       "      <td>400.000000</td>\n",
       "      <td>D0001</td>\n",
       "    </tr>\n",
       "    <tr>\n",
       "      <th>8</th>\n",
       "      <td>2020-07-14 22:00:00</td>\n",
       "      <td>28.200000</td>\n",
       "      <td>1585.713833</td>\n",
       "      <td>31.611111</td>\n",
       "      <td>101.567130</td>\n",
       "      <td>400.000000</td>\n",
       "      <td>D0001</td>\n",
       "    </tr>\n",
       "    <tr>\n",
       "      <th>9</th>\n",
       "      <td>2020-07-14 23:00:00</td>\n",
       "      <td>28.280556</td>\n",
       "      <td>1389.856833</td>\n",
       "      <td>32.111111</td>\n",
       "      <td>101.296439</td>\n",
       "      <td>441.916667</td>\n",
       "      <td>D0001</td>\n",
       "    </tr>\n",
       "    <tr>\n",
       "      <th>10</th>\n",
       "      <td>2020-07-15 00:00:00</td>\n",
       "      <td>28.375000</td>\n",
       "      <td>1037.712333</td>\n",
       "      <td>32.702778</td>\n",
       "      <td>101.591533</td>\n",
       "      <td>412.583333</td>\n",
       "      <td>D0001</td>\n",
       "    </tr>\n",
       "    <tr>\n",
       "      <th>11</th>\n",
       "      <td>2020-07-15 01:00:00</td>\n",
       "      <td>28.811111</td>\n",
       "      <td>423.906944</td>\n",
       "      <td>35.611111</td>\n",
       "      <td>101.889817</td>\n",
       "      <td>687.194444</td>\n",
       "      <td>D0001</td>\n",
       "    </tr>\n",
       "    <tr>\n",
       "      <th>12</th>\n",
       "      <td>2020-07-15 02:00:00</td>\n",
       "      <td>29.172222</td>\n",
       "      <td>578.023500</td>\n",
       "      <td>35.391667</td>\n",
       "      <td>101.619870</td>\n",
       "      <td>658.527778</td>\n",
       "      <td>D0001</td>\n",
       "    </tr>\n",
       "    <tr>\n",
       "      <th>13</th>\n",
       "      <td>2020-07-15 03:00:00</td>\n",
       "      <td>29.122222</td>\n",
       "      <td>706.933161</td>\n",
       "      <td>34.991667</td>\n",
       "      <td>101.525648</td>\n",
       "      <td>566.527778</td>\n",
       "      <td>D0001</td>\n",
       "    </tr>\n",
       "    <tr>\n",
       "      <th>14</th>\n",
       "      <td>2020-07-15 04:00:00</td>\n",
       "      <td>28.994444</td>\n",
       "      <td>706.933161</td>\n",
       "      <td>35.027778</td>\n",
       "      <td>101.525648</td>\n",
       "      <td>568.111111</td>\n",
       "      <td>D0001</td>\n",
       "    </tr>\n",
       "    <tr>\n",
       "      <th>15</th>\n",
       "      <td>2020-07-15 05:00:00</td>\n",
       "      <td>29.227778</td>\n",
       "      <td>423.906944</td>\n",
       "      <td>36.011111</td>\n",
       "      <td>101.681070</td>\n",
       "      <td>690.777778</td>\n",
       "      <td>D0001</td>\n",
       "    </tr>\n",
       "    <tr>\n",
       "      <th>16</th>\n",
       "      <td>2020-07-15 06:00:00</td>\n",
       "      <td>29.377778</td>\n",
       "      <td>578.657079</td>\n",
       "      <td>34.880556</td>\n",
       "      <td>101.560068</td>\n",
       "      <td>647.305556</td>\n",
       "      <td>D0001</td>\n",
       "    </tr>\n",
       "    <tr>\n",
       "      <th>17</th>\n",
       "      <td>2020-07-15 07:00:00</td>\n",
       "      <td>29.697143</td>\n",
       "      <td>429.695167</td>\n",
       "      <td>34.208571</td>\n",
       "      <td>101.723820</td>\n",
       "      <td>678.000000</td>\n",
       "      <td>D0001</td>\n",
       "    </tr>\n",
       "    <tr>\n",
       "      <th>18</th>\n",
       "      <td>2020-07-15 08:00:00</td>\n",
       "      <td>30.075000</td>\n",
       "      <td>201.446045</td>\n",
       "      <td>33.075000</td>\n",
       "      <td>101.655867</td>\n",
       "      <td>793.305556</td>\n",
       "      <td>D0001</td>\n",
       "    </tr>\n",
       "    <tr>\n",
       "      <th>19</th>\n",
       "      <td>2020-07-15 09:00:00</td>\n",
       "      <td>30.551351</td>\n",
       "      <td>124.072324</td>\n",
       "      <td>34.002703</td>\n",
       "      <td>101.586731</td>\n",
       "      <td>1020.594595</td>\n",
       "      <td>D0001</td>\n",
       "    </tr>\n",
       "  </tbody>\n",
       "</table>\n",
       "</div>"
      ],
      "text/plain": [
       "                   time          T           Rn          H           P  \\\n",
       "0   2020-07-14 14:00:00  31.300000  1001.448424  44.475000  101.565847   \n",
       "1   2020-07-14 15:00:00  31.333333   588.154974  45.505556  101.632854   \n",
       "2   2020-07-14 16:00:00  31.451429     0.100000  47.145714  101.539128   \n",
       "3   2020-07-14 17:00:00  31.161765  1042.843803  36.000000  101.501998   \n",
       "4   2020-07-14 18:00:00  31.008333  1585.713833  28.436111  101.567130   \n",
       "5   2020-07-14 19:00:00  30.647222  1585.713833  29.133333  101.567130   \n",
       "6   2020-07-14 20:00:00  29.891429  1585.713833  28.597143  101.567130   \n",
       "7   2020-07-14 21:00:00  29.118919  1585.713833  29.162162  101.567130   \n",
       "8   2020-07-14 22:00:00  28.200000  1585.713833  31.611111  101.567130   \n",
       "9   2020-07-14 23:00:00  28.280556  1389.856833  32.111111  101.296439   \n",
       "10  2020-07-15 00:00:00  28.375000  1037.712333  32.702778  101.591533   \n",
       "11  2020-07-15 01:00:00  28.811111   423.906944  35.611111  101.889817   \n",
       "12  2020-07-15 02:00:00  29.172222   578.023500  35.391667  101.619870   \n",
       "13  2020-07-15 03:00:00  29.122222   706.933161  34.991667  101.525648   \n",
       "14  2020-07-15 04:00:00  28.994444   706.933161  35.027778  101.525648   \n",
       "15  2020-07-15 05:00:00  29.227778   423.906944  36.011111  101.681070   \n",
       "16  2020-07-15 06:00:00  29.377778   578.657079  34.880556  101.560068   \n",
       "17  2020-07-15 07:00:00  29.697143   429.695167  34.208571  101.723820   \n",
       "18  2020-07-15 08:00:00  30.075000   201.446045  33.075000  101.655867   \n",
       "19  2020-07-15 09:00:00  30.551351   124.072324  34.002703  101.586731   \n",
       "\n",
       "            CO2 sensor_id  \n",
       "0    567.750000     D0001  \n",
       "1    636.361111     D0001  \n",
       "2    734.000000     D0001  \n",
       "3    461.529412     D0001  \n",
       "4    400.000000     D0001  \n",
       "5    400.000000     D0001  \n",
       "6    400.000000     D0001  \n",
       "7    400.000000     D0001  \n",
       "8    400.000000     D0001  \n",
       "9    441.916667     D0001  \n",
       "10   412.583333     D0001  \n",
       "11   687.194444     D0001  \n",
       "12   658.527778     D0001  \n",
       "13   566.527778     D0001  \n",
       "14   568.111111     D0001  \n",
       "15   690.777778     D0001  \n",
       "16   647.305556     D0001  \n",
       "17   678.000000     D0001  \n",
       "18   793.305556     D0001  \n",
       "19  1020.594595     D0001  "
      ]
     },
     "execution_count": 66,
     "metadata": {},
     "output_type": "execute_result"
    }
   ],
   "source": [
    "measurementsDf.head(20)"
   ]
  },
  {
   "cell_type": "code",
   "execution_count": 67,
   "id": "9c7df86f",
   "metadata": {},
   "outputs": [],
   "source": [
    "measurementsDf.index =measurementsDf['time']"
   ]
  },
  {
   "cell_type": "code",
   "execution_count": 68,
   "id": "b7da635b",
   "metadata": {},
   "outputs": [
    {
     "data": {
      "text/plain": [
       "<AxesSubplot:xlabel='time'>"
      ]
     },
     "execution_count": 68,
     "metadata": {},
     "output_type": "execute_result"
    },
    {
     "data": {
      "image/png": "[encoded data removed]",
      "text/plain": [
       "<Figure size 432x288 with 1 Axes>"
      ]
     },
     "metadata": {
      "needs_background": "light"
     },
     "output_type": "display_data"
    }
   ],
   "source": [
    "measurementsDf['Rn'].plot()"
   ]
  },
  {
   "cell_type": "code",
   "execution_count": 69,
   "id": "fa434824",
   "metadata": {},
   "outputs": [
    {
     "data": {
      "text/html": [
       "<div>\n",
       "<style scoped>\n",
       "    .dataframe tbody tr th:only-of-type {\n",
       "        vertical-align: middle;\n",
       "    }\n",
       "\n",
       "    .dataframe tbody tr th {\n",
       "        vertical-align: top;\n",
       "    }\n",
       "\n",
       "    .dataframe thead th {\n",
       "        text-align: right;\n",
       "    }\n",
       "</style>\n",
       "<table border=\"1\" class=\"dataframe\">\n",
       "  <thead>\n",
       "    <tr style=\"text-align: right;\">\n",
       "      <th></th>\n",
       "      <th>Rn</th>\n",
       "    </tr>\n",
       "    <tr>\n",
       "      <th>time</th>\n",
       "      <th></th>\n",
       "    </tr>\n",
       "  </thead>\n",
       "  <tbody>\n",
       "    <tr>\n",
       "      <th>2020-07-14 14:00:00</th>\n",
       "      <td>1001.448424</td>\n",
       "    </tr>\n",
       "    <tr>\n",
       "      <th>2020-07-14 15:00:00</th>\n",
       "      <td>588.154974</td>\n",
       "    </tr>\n",
       "    <tr>\n",
       "      <th>2020-07-14 16:00:00</th>\n",
       "      <td>0.100000</td>\n",
       "    </tr>\n",
       "    <tr>\n",
       "      <th>2020-07-14 17:00:00</th>\n",
       "      <td>1042.843803</td>\n",
       "    </tr>\n",
       "    <tr>\n",
       "      <th>2020-07-14 18:00:00</th>\n",
       "      <td>1585.713833</td>\n",
       "    </tr>\n",
       "    <tr>\n",
       "      <th>...</th>\n",
       "      <td>...</td>\n",
       "    </tr>\n",
       "    <tr>\n",
       "      <th>2021-12-31 19:00:00</th>\n",
       "      <td>616.640000</td>\n",
       "    </tr>\n",
       "    <tr>\n",
       "      <th>2021-12-31 20:00:00</th>\n",
       "      <td>541.380000</td>\n",
       "    </tr>\n",
       "    <tr>\n",
       "      <th>2021-12-31 21:00:00</th>\n",
       "      <td>544.167273</td>\n",
       "    </tr>\n",
       "    <tr>\n",
       "      <th>2021-12-31 22:00:00</th>\n",
       "      <td>590.666000</td>\n",
       "    </tr>\n",
       "    <tr>\n",
       "      <th>2021-12-31 23:00:00</th>\n",
       "      <td>594.030000</td>\n",
       "    </tr>\n",
       "  </tbody>\n",
       "</table>\n",
       "<p>115634 rows × 1 columns</p>\n",
       "</div>"
      ],
      "text/plain": [
       "                              Rn\n",
       "time                            \n",
       "2020-07-14 14:00:00  1001.448424\n",
       "2020-07-14 15:00:00   588.154974\n",
       "2020-07-14 16:00:00     0.100000\n",
       "2020-07-14 17:00:00  1042.843803\n",
       "2020-07-14 18:00:00  1585.713833\n",
       "...                          ...\n",
       "2021-12-31 19:00:00   616.640000\n",
       "2021-12-31 20:00:00   541.380000\n",
       "2021-12-31 21:00:00   544.167273\n",
       "2021-12-31 22:00:00   590.666000\n",
       "2021-12-31 23:00:00   594.030000\n",
       "\n",
       "[115634 rows x 1 columns]"
      ]
     },
     "execution_count": 69,
     "metadata": {},
     "output_type": "execute_result"
    }
   ],
   "source": [
    "RadonDf =pd.DataFrame( measurementsDf['Rn'])\n",
    "RadonDf "
   ]
  },
  {
   "cell_type": "code",
   "execution_count": 70,
   "id": "85065852",
   "metadata": {},
   "outputs": [
    {
     "data": {
      "text/html": [
       "<div>\n",
       "<style scoped>\n",
       "    .dataframe tbody tr th:only-of-type {\n",
       "        vertical-align: middle;\n",
       "    }\n",
       "\n",
       "    .dataframe tbody tr th {\n",
       "        vertical-align: top;\n",
       "    }\n",
       "\n",
       "    .dataframe thead th {\n",
       "        text-align: right;\n",
       "    }\n",
       "</style>\n",
       "<table border=\"1\" class=\"dataframe\">\n",
       "  <thead>\n",
       "    <tr style=\"text-align: right;\">\n",
       "      <th></th>\n",
       "      <th>Rn</th>\n",
       "      <th>H</th>\n",
       "      <th>CO2</th>\n",
       "      <th>P</th>\n",
       "      <th>T</th>\n",
       "    </tr>\n",
       "    <tr>\n",
       "      <th>time</th>\n",
       "      <th></th>\n",
       "      <th></th>\n",
       "      <th></th>\n",
       "      <th></th>\n",
       "      <th></th>\n",
       "    </tr>\n",
       "  </thead>\n",
       "  <tbody>\n",
       "    <tr>\n",
       "      <th>2020-07-14 14:00:00</th>\n",
       "      <td>1001.448424</td>\n",
       "      <td>44.475000</td>\n",
       "      <td>567.750000</td>\n",
       "      <td>101.565847</td>\n",
       "      <td>31.300000</td>\n",
       "    </tr>\n",
       "    <tr>\n",
       "      <th>2020-07-14 15:00:00</th>\n",
       "      <td>588.154974</td>\n",
       "      <td>45.505556</td>\n",
       "      <td>636.361111</td>\n",
       "      <td>101.632854</td>\n",
       "      <td>31.333333</td>\n",
       "    </tr>\n",
       "    <tr>\n",
       "      <th>2020-07-14 16:00:00</th>\n",
       "      <td>0.100000</td>\n",
       "      <td>47.145714</td>\n",
       "      <td>734.000000</td>\n",
       "      <td>101.539128</td>\n",
       "      <td>31.451429</td>\n",
       "    </tr>\n",
       "    <tr>\n",
       "      <th>2020-07-14 17:00:00</th>\n",
       "      <td>1042.843803</td>\n",
       "      <td>36.000000</td>\n",
       "      <td>461.529412</td>\n",
       "      <td>101.501998</td>\n",
       "      <td>31.161765</td>\n",
       "    </tr>\n",
       "    <tr>\n",
       "      <th>2020-07-14 18:00:00</th>\n",
       "      <td>1585.713833</td>\n",
       "      <td>28.436111</td>\n",
       "      <td>400.000000</td>\n",
       "      <td>101.567130</td>\n",
       "      <td>31.008333</td>\n",
       "    </tr>\n",
       "    <tr>\n",
       "      <th>...</th>\n",
       "      <td>...</td>\n",
       "      <td>...</td>\n",
       "      <td>...</td>\n",
       "      <td>...</td>\n",
       "      <td>...</td>\n",
       "    </tr>\n",
       "    <tr>\n",
       "      <th>2021-12-31 19:00:00</th>\n",
       "      <td>616.640000</td>\n",
       "      <td>50.156364</td>\n",
       "      <td>97.200000</td>\n",
       "      <td>102.653100</td>\n",
       "      <td>29.792673</td>\n",
       "    </tr>\n",
       "    <tr>\n",
       "      <th>2021-12-31 20:00:00</th>\n",
       "      <td>541.380000</td>\n",
       "      <td>48.047273</td>\n",
       "      <td>97.800000</td>\n",
       "      <td>102.273400</td>\n",
       "      <td>29.951673</td>\n",
       "    </tr>\n",
       "    <tr>\n",
       "      <th>2021-12-31 21:00:00</th>\n",
       "      <td>544.167273</td>\n",
       "      <td>53.847273</td>\n",
       "      <td>97.181818</td>\n",
       "      <td>102.199727</td>\n",
       "      <td>30.329218</td>\n",
       "    </tr>\n",
       "    <tr>\n",
       "      <th>2021-12-31 22:00:00</th>\n",
       "      <td>590.666000</td>\n",
       "      <td>44.097576</td>\n",
       "      <td>98.100000</td>\n",
       "      <td>102.140000</td>\n",
       "      <td>29.511200</td>\n",
       "    </tr>\n",
       "    <tr>\n",
       "      <th>2021-12-31 23:00:00</th>\n",
       "      <td>594.030000</td>\n",
       "      <td>41.082424</td>\n",
       "      <td>98.090909</td>\n",
       "      <td>102.145091</td>\n",
       "      <td>30.079564</td>\n",
       "    </tr>\n",
       "  </tbody>\n",
       "</table>\n",
       "<p>115634 rows × 5 columns</p>\n",
       "</div>"
      ],
      "text/plain": [
       "                              Rn          H         CO2           P          T\n",
       "time                                                                          \n",
       "2020-07-14 14:00:00  1001.448424  44.475000  567.750000  101.565847  31.300000\n",
       "2020-07-14 15:00:00   588.154974  45.505556  636.361111  101.632854  31.333333\n",
       "2020-07-14 16:00:00     0.100000  47.145714  734.000000  101.539128  31.451429\n",
       "2020-07-14 17:00:00  1042.843803  36.000000  461.529412  101.501998  31.161765\n",
       "2020-07-14 18:00:00  1585.713833  28.436111  400.000000  101.567130  31.008333\n",
       "...                          ...        ...         ...         ...        ...\n",
       "2021-12-31 19:00:00   616.640000  50.156364   97.200000  102.653100  29.792673\n",
       "2021-12-31 20:00:00   541.380000  48.047273   97.800000  102.273400  29.951673\n",
       "2021-12-31 21:00:00   544.167273  53.847273   97.181818  102.199727  30.329218\n",
       "2021-12-31 22:00:00   590.666000  44.097576   98.100000  102.140000  29.511200\n",
       "2021-12-31 23:00:00   594.030000  41.082424   98.090909  102.145091  30.079564\n",
       "\n",
       "[115634 rows x 5 columns]"
      ]
     },
     "execution_count": 70,
     "metadata": {},
     "output_type": "execute_result"
    }
   ],
   "source": [
    "RadonDf['H'] = measurementsDf['H']\n",
    "RadonDf['CO2'] = measurementsDf['CO2']\n",
    "RadonDf['P'] = measurementsDf['P']\n",
    "RadonDf['T'] = measurementsDf['T']\n",
    "RadonDf"
   ]
  },
  {
   "cell_type": "code",
   "execution_count": 71,
   "id": "c63fee4e",
   "metadata": {},
   "outputs": [],
   "source": [
    "from sklearn.metrics import mean_squared_error as mse\n",
    "\n",
    "def predictions_plotter(model, X, y, start=0, end=100):\n",
    "    predictions = model.predict(X).flatten()\n",
    "    df = pd.DataFrame(data={'Predictions':predictions, 'Actuals':y})\n",
    "    plt.plot(df['Predictions'][start:end])\n",
    "    plt.plot(df['Actuals'][start:end])\n",
    "    return df, mse(y, predictions)"
   ]
  },
  {
   "cell_type": "code",
   "execution_count": 93,
   "id": "aa4d2cd3",
   "metadata": {},
   "outputs": [],
   "source": [
    "#Converts the Df to a numpy array and then extracts the X and y value\n",
    "#on the required format to train the model\n",
    "def df_to_X_y(df, window_size=6):\n",
    "    df_as_np = df.to_numpy() # converts the dataframe to a numpy array\n",
    "    #Initialized  arrays to append X and Y values \n",
    "    X = []\n",
    "    y = []\n",
    "    for i in range(len(df_as_np)-window_size):\n",
    "        #Takes values from i to i + win size\n",
    "        row =  [r for r in df_as_np[i:i+window_size]]\n",
    "        X.append(row)\n",
    "        #The final output\n",
    "        label = df_as_np[i+window_size][0]\n",
    "        y.append(label)\n",
    "    return np.array(X), np.array(y)"
   ]
  },
  {
   "cell_type": "code",
   "execution_count": 79,
   "id": "576cc8ed",
   "metadata": {},
   "outputs": [
    {
     "data": {
      "text/plain": [
       "((115628, 6, 5), (115628,))"
      ]
     },
     "execution_count": 79,
     "metadata": {},
     "output_type": "execute_result"
    }
   ],
   "source": [
    "X1, y1 = df_to_X_y(RadonDf)\n",
    "X1.shape, y1.shape"
   ]
  },
  {
   "cell_type": "code",
   "execution_count": 80,
   "id": "db6896ca",
   "metadata": {},
   "outputs": [
    {
     "data": {
      "text/plain": [
       "((92508, 6, 5), (92508,), (3000, 6, 5), (3000,), (20120, 6, 5), (20120,))"
      ]
     },
     "execution_count": 80,
     "metadata": {},
     "output_type": "execute_result"
    }
   ],
   "source": [
    "X_train, y_train = X1[:92508], y1[:92508] # training data\n",
    "X_val, y_val = X1[92508:95508], y1[92508:95508] #validation\n",
    "X_test, y_test = X1[95508:], y1[95508:] #test\n",
    "X_train.shape, y_train.shape, X_val.shape, y_val.shape, X_test.shape, y_test.shape"
   ]
  },
  {
   "cell_type": "markdown",
   "id": "85053351",
   "metadata": {},
   "source": [
    " <h2> <font color='red'> LSTM implementation </font> <h2/> "
   ]
  },
  {
   "cell_type": "code",
   "execution_count": 81,
   "id": "6917081c",
   "metadata": {
    "scrolled": true
   },
   "outputs": [
    {
     "name": "stdout",
     "output_type": "stream",
     "text": [
      "Model: \"sequential_7\"\n",
      "_________________________________________________________________\n",
      "Layer (type)                 Output Shape              Param #   \n",
      "=================================================================\n",
      "lstm_7 (LSTM)                (None, 64)                17920     \n",
      "_________________________________________________________________\n",
      "dense_14 (Dense)             (None, 8)                 520       \n",
      "_________________________________________________________________\n",
      "dense_15 (Dense)             (None, 1)                 9         \n",
      "=================================================================\n",
      "Total params: 18,449\n",
      "Trainable params: 18,449\n",
      "Non-trainable params: 0\n",
      "_________________________________________________________________\n"
     ]
    }
   ],
   "source": [
    "from tensorflow.keras.models import Sequential\n",
    "from tensorflow.keras.layers import *\n",
    "from tensorflow.keras.callbacks import ModelCheckpoint\n",
    "from tensorflow.keras.losses import MeanSquaredError\n",
    "from tensorflow.keras.metrics import RootMeanSquaredError\n",
    "from tensorflow.keras.optimizers import Adam\n",
    "\n",
    "model = Sequential()\n",
    "model.add(InputLayer((6, 5)))\n",
    "model.add(LSTM(64))\n",
    "model.add(Dense(8, 'relu'))\n",
    "model.add(Dense(1, 'linear'))\n",
    "\n",
    "model.summary()"
   ]
  },
  {
   "cell_type": "code",
   "execution_count": 82,
   "id": "928e9677",
   "metadata": {},
   "outputs": [],
   "source": [
    "cp = ModelCheckpoint('LSTM_model/', save_best_only=True)\n",
    "model.compile(loss=MeanSquaredError(), \n",
    "               optimizer=Adam(learning_rate=0.0001), \n",
    "               metrics=[RootMeanSquaredError()])"
   ]
  },
  {
   "cell_type": "code",
   "execution_count": 83,
   "id": "77901473",
   "metadata": {},
   "outputs": [
    {
     "name": "stdout",
     "output_type": "stream",
     "text": [
      "Epoch 1/10\n",
      "2891/2891 [==============================] - 28s 8ms/step - loss: 1583617.1250 - root_mean_squared_error: 1258.4185 - val_loss: 239347.5469 - val_root_mean_squared_error: 489.2316\n"
     ]
    },
    {
     "name": "stderr",
     "output_type": "stream",
     "text": [
      "WARNING:absl:Found untraced functions such as lstm_cell_7_layer_call_and_return_conditional_losses, lstm_cell_7_layer_call_fn, lstm_cell_7_layer_call_fn, lstm_cell_7_layer_call_and_return_conditional_losses, lstm_cell_7_layer_call_and_return_conditional_losses while saving (showing 5 of 5). These functions will not be directly callable after loading.\n"
     ]
    },
    {
     "name": "stdout",
     "output_type": "stream",
     "text": [
      "INFO:tensorflow:Assets written to: LSTM_model\\assets\n"
     ]
    },
    {
     "name": "stderr",
     "output_type": "stream",
     "text": [
      "INFO:tensorflow:Assets written to: LSTM_model\\assets\n"
     ]
    },
    {
     "name": "stdout",
     "output_type": "stream",
     "text": [
      "Epoch 2/10\n",
      "2891/2891 [==============================] - 22s 7ms/step - loss: 1425891.5000 - root_mean_squared_error: 1194.1069 - val_loss: 135680.8125 - val_root_mean_squared_error: 368.3488\n"
     ]
    },
    {
     "name": "stderr",
     "output_type": "stream",
     "text": [
      "WARNING:absl:Found untraced functions such as lstm_cell_7_layer_call_and_return_conditional_losses, lstm_cell_7_layer_call_fn, lstm_cell_7_layer_call_fn, lstm_cell_7_layer_call_and_return_conditional_losses, lstm_cell_7_layer_call_and_return_conditional_losses while saving (showing 5 of 5). These functions will not be directly callable after loading.\n"
     ]
    },
    {
     "name": "stdout",
     "output_type": "stream",
     "text": [
      "INFO:tensorflow:Assets written to: LSTM_model\\assets\n"
     ]
    },
    {
     "name": "stderr",
     "output_type": "stream",
     "text": [
      "INFO:tensorflow:Assets written to: LSTM_model\\assets\n"
     ]
    },
    {
     "name": "stdout",
     "output_type": "stream",
     "text": [
      "Epoch 3/10\n",
      "2891/2891 [==============================] - 21s 7ms/step - loss: 1253503.5000 - root_mean_squared_error: 1119.5997 - val_loss: 58923.5469 - val_root_mean_squared_error: 242.7417\n"
     ]
    },
    {
     "name": "stderr",
     "output_type": "stream",
     "text": [
      "WARNING:absl:Found untraced functions such as lstm_cell_7_layer_call_and_return_conditional_losses, lstm_cell_7_layer_call_fn, lstm_cell_7_layer_call_fn, lstm_cell_7_layer_call_and_return_conditional_losses, lstm_cell_7_layer_call_and_return_conditional_losses while saving (showing 5 of 5). These functions will not be directly callable after loading.\n"
     ]
    },
    {
     "name": "stdout",
     "output_type": "stream",
     "text": [
      "INFO:tensorflow:Assets written to: LSTM_model\\assets\n"
     ]
    },
    {
     "name": "stderr",
     "output_type": "stream",
     "text": [
      "INFO:tensorflow:Assets written to: LSTM_model\\assets\n"
     ]
    },
    {
     "name": "stdout",
     "output_type": "stream",
     "text": [
      "Epoch 4/10\n",
      "2891/2891 [==============================] - 23s 8ms/step - loss: 1075588.8750 - root_mean_squared_error: 1037.1060 - val_loss: 21282.8574 - val_root_mean_squared_error: 145.8865TA: 9s - l - ETA: 8s - loss: 1099018.5 - ETA: 1s - loss:\n"
     ]
    },
    {
     "name": "stderr",
     "output_type": "stream",
     "text": [
      "WARNING:absl:Found untraced functions such as lstm_cell_7_layer_call_and_return_conditional_losses, lstm_cell_7_layer_call_fn, lstm_cell_7_layer_call_fn, lstm_cell_7_layer_call_and_return_conditional_losses, lstm_cell_7_layer_call_and_return_conditional_losses while saving (showing 5 of 5). These functions will not be directly callable after loading.\n"
     ]
    },
    {
     "name": "stdout",
     "output_type": "stream",
     "text": [
      "INFO:tensorflow:Assets written to: LSTM_model\\assets\n"
     ]
    },
    {
     "name": "stderr",
     "output_type": "stream",
     "text": [
      "INFO:tensorflow:Assets written to: LSTM_model\\assets\n"
     ]
    },
    {
     "name": "stdout",
     "output_type": "stream",
     "text": [
      "Epoch 5/10\n",
      "2891/2891 [==============================] - 22s 8ms/step - loss: 890740.2500 - root_mean_squared_error: 943.7903 - val_loss: 12113.6885 - val_root_mean_squared_error: 110.0622\n"
     ]
    },
    {
     "name": "stderr",
     "output_type": "stream",
     "text": [
      "WARNING:absl:Found untraced functions such as lstm_cell_7_layer_call_and_return_conditional_losses, lstm_cell_7_layer_call_fn, lstm_cell_7_layer_call_fn, lstm_cell_7_layer_call_and_return_conditional_losses, lstm_cell_7_layer_call_and_return_conditional_losses while saving (showing 5 of 5). These functions will not be directly callable after loading.\n"
     ]
    },
    {
     "name": "stdout",
     "output_type": "stream",
     "text": [
      "INFO:tensorflow:Assets written to: LSTM_model\\assets\n"
     ]
    },
    {
     "name": "stderr",
     "output_type": "stream",
     "text": [
      "INFO:tensorflow:Assets written to: LSTM_model\\assets\n"
     ]
    },
    {
     "name": "stdout",
     "output_type": "stream",
     "text": [
      "Epoch 6/10\n",
      "2891/2891 [==============================] - 22s 8ms/step - loss: 706410.3125 - root_mean_squared_error: 840.4822 - val_loss: 9798.6025 - val_root_mean_squared_error: 98.9879\n"
     ]
    },
    {
     "name": "stderr",
     "output_type": "stream",
     "text": [
      "WARNING:absl:Found untraced functions such as lstm_cell_7_layer_call_and_return_conditional_losses, lstm_cell_7_layer_call_fn, lstm_cell_7_layer_call_fn, lstm_cell_7_layer_call_and_return_conditional_losses, lstm_cell_7_layer_call_and_return_conditional_losses while saving (showing 5 of 5). These functions will not be directly callable after loading.\n"
     ]
    },
    {
     "name": "stdout",
     "output_type": "stream",
     "text": [
      "INFO:tensorflow:Assets written to: LSTM_model\\assets\n"
     ]
    },
    {
     "name": "stderr",
     "output_type": "stream",
     "text": [
      "INFO:tensorflow:Assets written to: LSTM_model\\assets\n"
     ]
    },
    {
     "name": "stdout",
     "output_type": "stream",
     "text": [
      "Epoch 7/10\n",
      "2891/2891 [==============================] - 22s 8ms/step - loss: 531045.8750 - root_mean_squared_error: 728.7289 - val_loss: 9260.5625 - val_root_mean_squared_error: 96.2318\n"
     ]
    },
    {
     "name": "stderr",
     "output_type": "stream",
     "text": [
      "WARNING:absl:Found untraced functions such as lstm_cell_7_layer_call_and_return_conditional_losses, lstm_cell_7_layer_call_fn, lstm_cell_7_layer_call_fn, lstm_cell_7_layer_call_and_return_conditional_losses, lstm_cell_7_layer_call_and_return_conditional_losses while saving (showing 5 of 5). These functions will not be directly callable after loading.\n"
     ]
    },
    {
     "name": "stdout",
     "output_type": "stream",
     "text": [
      "INFO:tensorflow:Assets written to: LSTM_model\\assets\n"
     ]
    },
    {
     "name": "stderr",
     "output_type": "stream",
     "text": [
      "INFO:tensorflow:Assets written to: LSTM_model\\assets\n"
     ]
    },
    {
     "name": "stdout",
     "output_type": "stream",
     "text": [
      "Epoch 8/10\n",
      "2891/2891 [==============================] - 23s 8ms/step - loss: 371657.4375 - root_mean_squared_error: 609.6371 - val_loss: 9477.2285 - val_root_mean_squared_error: 97.3511\n",
      "Epoch 9/10\n",
      "2891/2891 [==============================] - 22s 8ms/step - loss: 236116.9531 - root_mean_squared_error: 485.9187 - val_loss: 9225.0322 - val_root_mean_squared_error: 96.0470\n"
     ]
    },
    {
     "name": "stderr",
     "output_type": "stream",
     "text": [
      "WARNING:absl:Found untraced functions such as lstm_cell_7_layer_call_and_return_conditional_losses, lstm_cell_7_layer_call_fn, lstm_cell_7_layer_call_fn, lstm_cell_7_layer_call_and_return_conditional_losses, lstm_cell_7_layer_call_and_return_conditional_losses while saving (showing 5 of 5). These functions will not be directly callable after loading.\n"
     ]
    },
    {
     "name": "stdout",
     "output_type": "stream",
     "text": [
      "INFO:tensorflow:Assets written to: LSTM_model\\assets\n"
     ]
    },
    {
     "name": "stderr",
     "output_type": "stream",
     "text": [
      "INFO:tensorflow:Assets written to: LSTM_model\\assets\n"
     ]
    },
    {
     "name": "stdout",
     "output_type": "stream",
     "text": [
      "Epoch 10/10\n",
      "2891/2891 [==============================] - 22s 8ms/step - loss: 132391.3125 - root_mean_squared_error: 363.8562 - val_loss: 9448.3809 - val_root_mean_squared_error: 97.2028\n"
     ]
    },
    {
     "data": {
      "text/plain": [
       "<keras.callbacks.History at 0x2b8a219e430>"
      ]
     },
     "execution_count": 83,
     "metadata": {},
     "output_type": "execute_result"
    }
   ],
   "source": [
    "model.fit(X_train, y_train, validation_data=(X_val, y_val), epochs=10, callbacks=[cp])"
   ]
  },
  {
   "cell_type": "code",
   "execution_count": 84,
   "id": "2e8abbbe",
   "metadata": {},
   "outputs": [],
   "source": [
    "model = load_model('LSTM_model/')"
   ]
  },
  {
   "cell_type": "code",
   "execution_count": 95,
   "id": "3b27b686",
   "metadata": {},
   "outputs": [
    {
     "name": "stdout",
     "output_type": "stream",
     "text": [
      "92508\n",
      "92508\n"
     ]
    },
    {
     "data": {
      "text/html": [
       "<div>\n",
       "<style scoped>\n",
       "    .dataframe tbody tr th:only-of-type {\n",
       "        vertical-align: middle;\n",
       "    }\n",
       "\n",
       "    .dataframe tbody tr th {\n",
       "        vertical-align: top;\n",
       "    }\n",
       "\n",
       "    .dataframe thead th {\n",
       "        text-align: right;\n",
       "    }\n",
       "</style>\n",
       "<table border=\"1\" class=\"dataframe\">\n",
       "  <thead>\n",
       "    <tr style=\"text-align: right;\">\n",
       "      <th></th>\n",
       "      <th>Train Predictions</th>\n",
       "      <th>Actuals</th>\n",
       "    </tr>\n",
       "  </thead>\n",
       "  <tbody>\n",
       "    <tr>\n",
       "      <th>0</th>\n",
       "      <td>1423.994385</td>\n",
       "      <td>1585.713833</td>\n",
       "    </tr>\n",
       "    <tr>\n",
       "      <th>1</th>\n",
       "      <td>1432.639404</td>\n",
       "      <td>1585.713833</td>\n",
       "    </tr>\n",
       "    <tr>\n",
       "      <th>2</th>\n",
       "      <td>1431.035767</td>\n",
       "      <td>1585.713833</td>\n",
       "    </tr>\n",
       "    <tr>\n",
       "      <th>3</th>\n",
       "      <td>1434.064575</td>\n",
       "      <td>1389.856833</td>\n",
       "    </tr>\n",
       "    <tr>\n",
       "      <th>4</th>\n",
       "      <td>1289.819824</td>\n",
       "      <td>1037.712333</td>\n",
       "    </tr>\n",
       "    <tr>\n",
       "      <th>...</th>\n",
       "      <td>...</td>\n",
       "      <td>...</td>\n",
       "    </tr>\n",
       "    <tr>\n",
       "      <th>92503</th>\n",
       "      <td>504.842041</td>\n",
       "      <td>513.676667</td>\n",
       "    </tr>\n",
       "    <tr>\n",
       "      <th>92504</th>\n",
       "      <td>481.758789</td>\n",
       "      <td>446.956667</td>\n",
       "    </tr>\n",
       "    <tr>\n",
       "      <th>92505</th>\n",
       "      <td>384.546478</td>\n",
       "      <td>496.132727</td>\n",
       "    </tr>\n",
       "    <tr>\n",
       "      <th>92506</th>\n",
       "      <td>472.317749</td>\n",
       "      <td>433.941667</td>\n",
       "    </tr>\n",
       "    <tr>\n",
       "      <th>92507</th>\n",
       "      <td>369.572754</td>\n",
       "      <td>443.391667</td>\n",
       "    </tr>\n",
       "  </tbody>\n",
       "</table>\n",
       "<p>92508 rows × 2 columns</p>\n",
       "</div>"
      ],
      "text/plain": [
       "       Train Predictions      Actuals\n",
       "0            1423.994385  1585.713833\n",
       "1            1432.639404  1585.713833\n",
       "2            1431.035767  1585.713833\n",
       "3            1434.064575  1389.856833\n",
       "4            1289.819824  1037.712333\n",
       "...                  ...          ...\n",
       "92503         504.842041   513.676667\n",
       "92504         481.758789   446.956667\n",
       "92505         384.546478   496.132727\n",
       "92506         472.317749   433.941667\n",
       "92507         369.572754   443.391667\n",
       "\n",
       "[92508 rows x 2 columns]"
      ]
     },
     "execution_count": 95,
     "metadata": {},
     "output_type": "execute_result"
    }
   ],
   "source": [
    "train_predictions = model.predict(X_train).flatten()\n",
    "print(len(train_predictions))\n",
    "print(len(y_train))\n",
    "train_results = pd.DataFrame(data={'Train Predictions':train_predictions, 'Actuals':y_train})\n",
    "train_results"
   ]
  },
  {
   "cell_type": "code",
   "execution_count": 86,
   "id": "95893fa5",
   "metadata": {},
   "outputs": [
    {
     "data": {
      "text/plain": [
       "[<matplotlib.lines.Line2D at 0x2b8a7dfa0d0>]"
      ]
     },
     "execution_count": 86,
     "metadata": {},
     "output_type": "execute_result"
    },
    {
     "data": {
      "image/png": "[encoded data removed]",
      "text/plain": [
       "<Figure size 432x288 with 1 Axes>"
      ]
     },
     "metadata": {
      "needs_background": "light"
     },
     "output_type": "display_data"
    }
   ],
   "source": [
    "plt.plot(train_results['Train Predictions'][50:100])\n",
    "plt.plot(train_results['Actuals'][50:100])"
   ]
  },
  {
   "cell_type": "code",
   "execution_count": 88,
   "id": "b4bd1980",
   "metadata": {},
   "outputs": [
    {
     "data": {
      "text/html": [
       "<div>\n",
       "<style scoped>\n",
       "    .dataframe tbody tr th:only-of-type {\n",
       "        vertical-align: middle;\n",
       "    }\n",
       "\n",
       "    .dataframe tbody tr th {\n",
       "        vertical-align: top;\n",
       "    }\n",
       "\n",
       "    .dataframe thead th {\n",
       "        text-align: right;\n",
       "    }\n",
       "</style>\n",
       "<table border=\"1\" class=\"dataframe\">\n",
       "  <thead>\n",
       "    <tr style=\"text-align: right;\">\n",
       "      <th></th>\n",
       "      <th>Val Predictions</th>\n",
       "      <th>Actuals</th>\n",
       "    </tr>\n",
       "  </thead>\n",
       "  <tbody>\n",
       "    <tr>\n",
       "      <th>0</th>\n",
       "      <td>390.227478</td>\n",
       "      <td>469.725455</td>\n",
       "    </tr>\n",
       "    <tr>\n",
       "      <th>1</th>\n",
       "      <td>428.580078</td>\n",
       "      <td>438.566667</td>\n",
       "    </tr>\n",
       "    <tr>\n",
       "      <th>2</th>\n",
       "      <td>379.971191</td>\n",
       "      <td>419.945000</td>\n",
       "    </tr>\n",
       "    <tr>\n",
       "      <th>3</th>\n",
       "      <td>361.573212</td>\n",
       "      <td>434.873333</td>\n",
       "    </tr>\n",
       "    <tr>\n",
       "      <th>4</th>\n",
       "      <td>389.780029</td>\n",
       "      <td>421.390909</td>\n",
       "    </tr>\n",
       "    <tr>\n",
       "      <th>...</th>\n",
       "      <td>...</td>\n",
       "      <td>...</td>\n",
       "    </tr>\n",
       "    <tr>\n",
       "      <th>2995</th>\n",
       "      <td>634.066345</td>\n",
       "      <td>725.873333</td>\n",
       "    </tr>\n",
       "    <tr>\n",
       "      <th>2996</th>\n",
       "      <td>751.936707</td>\n",
       "      <td>740.021818</td>\n",
       "    </tr>\n",
       "    <tr>\n",
       "      <th>2997</th>\n",
       "      <td>712.858093</td>\n",
       "      <td>817.345833</td>\n",
       "    </tr>\n",
       "    <tr>\n",
       "      <th>2998</th>\n",
       "      <td>843.881226</td>\n",
       "      <td>953.915000</td>\n",
       "    </tr>\n",
       "    <tr>\n",
       "      <th>2999</th>\n",
       "      <td>972.007507</td>\n",
       "      <td>980.766364</td>\n",
       "    </tr>\n",
       "  </tbody>\n",
       "</table>\n",
       "<p>3000 rows × 2 columns</p>\n",
       "</div>"
      ],
      "text/plain": [
       "      Val Predictions     Actuals\n",
       "0          390.227478  469.725455\n",
       "1          428.580078  438.566667\n",
       "2          379.971191  419.945000\n",
       "3          361.573212  434.873333\n",
       "4          389.780029  421.390909\n",
       "...               ...         ...\n",
       "2995       634.066345  725.873333\n",
       "2996       751.936707  740.021818\n",
       "2997       712.858093  817.345833\n",
       "2998       843.881226  953.915000\n",
       "2999       972.007507  980.766364\n",
       "\n",
       "[3000 rows x 2 columns]"
      ]
     },
     "execution_count": 88,
     "metadata": {},
     "output_type": "execute_result"
    }
   ],
   "source": [
    "val_predictions = model.predict(X_val).flatten()\n",
    "val_results = pd.DataFrame(data={'Val Predictions':val_predictions, 'Actuals':y_val})\n",
    "val_results"
   ]
  },
  {
   "cell_type": "code",
   "execution_count": 89,
   "id": "dfd72a47",
   "metadata": {},
   "outputs": [
    {
     "data": {
      "text/plain": [
       "[<matplotlib.lines.Line2D at 0x2b8a19208b0>]"
      ]
     },
     "execution_count": 89,
     "metadata": {},
     "output_type": "execute_result"
    },
    {
     "data": {
      "image/png": "[encoded data removed]",
      "text/plain": [
       "<Figure size 432x288 with 1 Axes>"
      ]
     },
     "metadata": {
      "needs_background": "light"
     },
     "output_type": "display_data"
    }
   ],
   "source": [
    "plt.plot(val_results['Val Predictions'][:100])\n",
    "plt.plot(val_results['Actuals'][:100])"
   ]
  },
  {
   "cell_type": "code",
   "execution_count": 90,
   "id": "6427746e",
   "metadata": {},
   "outputs": [
    {
     "data": {
      "text/html": [
       "<div>\n",
       "<style scoped>\n",
       "    .dataframe tbody tr th:only-of-type {\n",
       "        vertical-align: middle;\n",
       "    }\n",
       "\n",
       "    .dataframe tbody tr th {\n",
       "        vertical-align: top;\n",
       "    }\n",
       "\n",
       "    .dataframe thead th {\n",
       "        text-align: right;\n",
       "    }\n",
       "</style>\n",
       "<table border=\"1\" class=\"dataframe\">\n",
       "  <thead>\n",
       "    <tr style=\"text-align: right;\">\n",
       "      <th></th>\n",
       "      <th>Test Predictions</th>\n",
       "      <th>Actuals</th>\n",
       "    </tr>\n",
       "  </thead>\n",
       "  <tbody>\n",
       "    <tr>\n",
       "      <th>0</th>\n",
       "      <td>938.472229</td>\n",
       "      <td>862.405000</td>\n",
       "    </tr>\n",
       "    <tr>\n",
       "      <th>1</th>\n",
       "      <td>821.455078</td>\n",
       "      <td>841.680000</td>\n",
       "    </tr>\n",
       "    <tr>\n",
       "      <th>2</th>\n",
       "      <td>821.451355</td>\n",
       "      <td>854.633333</td>\n",
       "    </tr>\n",
       "    <tr>\n",
       "      <th>3</th>\n",
       "      <td>828.664429</td>\n",
       "      <td>853.469000</td>\n",
       "    </tr>\n",
       "    <tr>\n",
       "      <th>4</th>\n",
       "      <td>819.257629</td>\n",
       "      <td>890.230000</td>\n",
       "    </tr>\n",
       "    <tr>\n",
       "      <th>...</th>\n",
       "      <td>...</td>\n",
       "      <td>...</td>\n",
       "    </tr>\n",
       "    <tr>\n",
       "      <th>20115</th>\n",
       "      <td>620.518799</td>\n",
       "      <td>616.640000</td>\n",
       "    </tr>\n",
       "    <tr>\n",
       "      <th>20116</th>\n",
       "      <td>583.991638</td>\n",
       "      <td>541.380000</td>\n",
       "    </tr>\n",
       "    <tr>\n",
       "      <th>20117</th>\n",
       "      <td>507.776459</td>\n",
       "      <td>544.167273</td>\n",
       "    </tr>\n",
       "    <tr>\n",
       "      <th>20118</th>\n",
       "      <td>517.717712</td>\n",
       "      <td>590.666000</td>\n",
       "    </tr>\n",
       "    <tr>\n",
       "      <th>20119</th>\n",
       "      <td>551.346375</td>\n",
       "      <td>594.030000</td>\n",
       "    </tr>\n",
       "  </tbody>\n",
       "</table>\n",
       "<p>20120 rows × 2 columns</p>\n",
       "</div>"
      ],
      "text/plain": [
       "       Test Predictions     Actuals\n",
       "0            938.472229  862.405000\n",
       "1            821.455078  841.680000\n",
       "2            821.451355  854.633333\n",
       "3            828.664429  853.469000\n",
       "4            819.257629  890.230000\n",
       "...                 ...         ...\n",
       "20115        620.518799  616.640000\n",
       "20116        583.991638  541.380000\n",
       "20117        507.776459  544.167273\n",
       "20118        517.717712  590.666000\n",
       "20119        551.346375  594.030000\n",
       "\n",
       "[20120 rows x 2 columns]"
      ]
     },
     "execution_count": 90,
     "metadata": {},
     "output_type": "execute_result"
    }
   ],
   "source": [
    "test_predictions = model.predict(X_test).flatten()\n",
    "test_results = pd.DataFrame(data={'Test Predictions':test_predictions, 'Actuals':y_test})\n",
    "test_results"
   ]
  },
  {
   "cell_type": "code",
   "execution_count": 91,
   "id": "604933e7",
   "metadata": {},
   "outputs": [
    {
     "data": {
      "text/plain": [
       "[<matplotlib.lines.Line2D at 0x2b8a29ca040>]"
      ]
     },
     "execution_count": 91,
     "metadata": {},
     "output_type": "execute_result"
    },
    {
     "data": {
      "image/png": "[encoded data removed]",
      "text/plain": [
       "<Figure size 432x288 with 1 Axes>"
      ]
     },
     "metadata": {
      "needs_background": "light"
     },
     "output_type": "display_data"
    }
   ],
   "source": [
    "plt.plot(test_results['Test Predictions'][:100])\n",
    "plt.plot(test_results['Actuals'][:100])"
   ]
  },
  {
   "cell_type": "code",
   "execution_count": 92,
   "id": "df8d4b9b",
   "metadata": {},
   "outputs": [
    {
     "data": {
      "text/plain": [
       "[<matplotlib.lines.Line2D at 0x2b8b07e6970>]"
      ]
     },
     "execution_count": 92,
     "metadata": {},
     "output_type": "execute_result"
    },
    {
     "data": {
      "image/png": "[encoded data removed]",
      "text/plain": [
       "<Figure size 432x288 with 1 Axes>"
      ]
     },
     "metadata": {
      "needs_background": "light"
     },
     "output_type": "display_data"
    }
   ],
   "source": [
    "plt.plot(test_results['Test Predictions'][:100])\n",
    "plt.plot(test_results['Actuals'][:100])"
   ]
  },
  {
   "cell_type": "code",
   "execution_count": null,
   "id": "1cdfcbfe",
   "metadata": {},
   "outputs": [],
   "source": []
  }
 ],
 "metadata": {
  "kernelspec": {
   "display_name": "Python 3 (ipykernel)",
   "language": "python",
   "name": "python3"
  },
  "language_info": {
   "codemirror_mode": {
    "name": "ipython",
    "version": 3
   },
   "file_extension": ".py",
   "mimetype": "text/x-python",
   "name": "python",
   "nbconvert_exporter": "python",
   "pygments_lexer": "ipython3",
   "version": "3.9.12"
  }
 },
 "nbformat": 4,
 "nbformat_minor": 5
}
