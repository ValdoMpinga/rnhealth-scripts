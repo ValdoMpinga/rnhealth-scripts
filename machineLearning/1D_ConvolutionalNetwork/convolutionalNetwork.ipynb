{
 "cells": [
  {
   "cell_type": "code",
   "execution_count": 90,
   "id": "d332c331",
   "metadata": {},
   "outputs": [],
   "source": [
    "import tensorflow as tf\n",
    "import os\n",
    "import pandas as pd\n",
    "import numpy as np\n",
    "import pandas as pd\n",
    "import numpy as np\n",
    "from datetime import timezone, datetime\n",
    "import seaborn as sns\n",
    "from matplotlib import pyplot as plt\n",
    "import os\n",
    "from tensorflow.keras.models import Sequential\n",
    "from tensorflow.keras.layers import *\n",
    "from tensorflow.keras.callbacks import ModelCheckpoint\n",
    "from tensorflow.keras.losses import MeanSquaredError\n",
    "from tensorflow.keras.metrics import RootMeanSquaredError\n",
    "from tensorflow.keras.metrics import Accuracy\n",
    "from tensorflow.keras.optimizers import Adam\n",
    "from tensorflow.keras.models import load_model\n",
    "\n",
    "os.environ['KMP_DUPLICATE_LIB_OK']='True'"
   ]
  },
  {
   "cell_type": "code",
   "execution_count": 91,
   "id": "2d34db67",
   "metadata": {},
   "outputs": [],
   "source": [
    "imputedMeasurementsDf = pd.read_csv('../../../../../Data/ProcessedData/KnnImputed/measurementsImputedByKnn.csv')\n",
    "measurementsDf = pd.read_csv('../../../../../Data/RawData/rawMeasurementsFilteredBySensors.csv')"
   ]
  },
  {
   "cell_type": "code",
   "execution_count": 92,
   "id": "097510ff",
   "metadata": {},
   "outputs": [],
   "source": [
    "dateTimeDf = pd.DataFrame(measurementsDf['time'])"
   ]
  },
  {
   "cell_type": "code",
   "execution_count": 93,
   "id": "014d24d1",
   "metadata": {},
   "outputs": [],
   "source": [
    "def iso8601ToDatetime():\n",
    "    for i in range(len(dateTimeDf['time'])):\n",
    "        timeContainer  = dateTimeDf['time'][i].replace('.000','')\n",
    "        timeContainer = datetime.strptime(timeContainer, \"%Y-%m-%dT%H:%M:%SZ\")\n",
    "        timeContainer = int(round(timeContainer.timestamp()))\n",
    "        timeContainer = datetime.fromtimestamp(timeContainer)\n",
    "        dateTimeDf['time'][i] = timeContainer"
   ]
  },
  {
   "cell_type": "code",
   "execution_count": 94,
   "id": "ac59d9d6",
   "metadata": {},
   "outputs": [
    {
     "name": "stdout",
     "output_type": "stream",
     "text": [
      "CPU times: total: 12 s\n",
      "Wall time: 12.6 s\n"
     ]
    }
   ],
   "source": [
    "%%time\n",
    "\n",
    "iso8601ToDatetime()"
   ]
  },
  {
   "cell_type": "code",
   "execution_count": 95,
   "id": "c4687dbe",
   "metadata": {},
   "outputs": [],
   "source": [
    "measurementsDf = dateTimeDf.join(imputedMeasurementsDf.drop(['day','month','hour'],axis = 1))"
   ]
  },
  {
   "cell_type": "code",
   "execution_count": 96,
   "id": "bd011b2a",
   "metadata": {},
   "outputs": [
    {
     "data": {
      "text/html": [
       "<div>\n",
       "<style scoped>\n",
       "    .dataframe tbody tr th:only-of-type {\n",
       "        vertical-align: middle;\n",
       "    }\n",
       "\n",
       "    .dataframe tbody tr th {\n",
       "        vertical-align: top;\n",
       "    }\n",
       "\n",
       "    .dataframe thead th {\n",
       "        text-align: right;\n",
       "    }\n",
       "</style>\n",
       "<table border=\"1\" class=\"dataframe\">\n",
       "  <thead>\n",
       "    <tr style=\"text-align: right;\">\n",
       "      <th></th>\n",
       "      <th>time</th>\n",
       "      <th>T</th>\n",
       "      <th>Rn</th>\n",
       "      <th>H</th>\n",
       "      <th>P</th>\n",
       "      <th>CO2</th>\n",
       "      <th>sensor_id</th>\n",
       "    </tr>\n",
       "  </thead>\n",
       "  <tbody>\n",
       "    <tr>\n",
       "      <th>0</th>\n",
       "      <td>2020-07-14 14:00:00</td>\n",
       "      <td>31.300000</td>\n",
       "      <td>1001.448424</td>\n",
       "      <td>44.475000</td>\n",
       "      <td>101.565847</td>\n",
       "      <td>567.750000</td>\n",
       "      <td>D0001</td>\n",
       "    </tr>\n",
       "    <tr>\n",
       "      <th>1</th>\n",
       "      <td>2020-07-14 15:00:00</td>\n",
       "      <td>31.333333</td>\n",
       "      <td>588.154974</td>\n",
       "      <td>45.505556</td>\n",
       "      <td>101.632854</td>\n",
       "      <td>636.361111</td>\n",
       "      <td>D0001</td>\n",
       "    </tr>\n",
       "    <tr>\n",
       "      <th>2</th>\n",
       "      <td>2020-07-14 16:00:00</td>\n",
       "      <td>31.451429</td>\n",
       "      <td>0.100000</td>\n",
       "      <td>47.145714</td>\n",
       "      <td>101.539128</td>\n",
       "      <td>734.000000</td>\n",
       "      <td>D0001</td>\n",
       "    </tr>\n",
       "    <tr>\n",
       "      <th>3</th>\n",
       "      <td>2020-07-14 17:00:00</td>\n",
       "      <td>31.161765</td>\n",
       "      <td>1042.843803</td>\n",
       "      <td>36.000000</td>\n",
       "      <td>101.501998</td>\n",
       "      <td>461.529412</td>\n",
       "      <td>D0001</td>\n",
       "    </tr>\n",
       "    <tr>\n",
       "      <th>4</th>\n",
       "      <td>2020-07-14 18:00:00</td>\n",
       "      <td>31.008333</td>\n",
       "      <td>1585.713833</td>\n",
       "      <td>28.436111</td>\n",
       "      <td>101.567130</td>\n",
       "      <td>400.000000</td>\n",
       "      <td>D0001</td>\n",
       "    </tr>\n",
       "    <tr>\n",
       "      <th>5</th>\n",
       "      <td>2020-07-14 19:00:00</td>\n",
       "      <td>30.647222</td>\n",
       "      <td>1585.713833</td>\n",
       "      <td>29.133333</td>\n",
       "      <td>101.567130</td>\n",
       "      <td>400.000000</td>\n",
       "      <td>D0001</td>\n",
       "    </tr>\n",
       "    <tr>\n",
       "      <th>6</th>\n",
       "      <td>2020-07-14 20:00:00</td>\n",
       "      <td>29.891429</td>\n",
       "      <td>1585.713833</td>\n",
       "      <td>28.597143</td>\n",
       "      <td>101.567130</td>\n",
       "      <td>400.000000</td>\n",
       "      <td>D0001</td>\n",
       "    </tr>\n",
       "    <tr>\n",
       "      <th>7</th>\n",
       "      <td>2020-07-14 21:00:00</td>\n",
       "      <td>29.118919</td>\n",
       "      <td>1585.713833</td>\n",
       "      <td>29.162162</td>\n",
       "      <td>101.567130</td>\n",
       "      <td>400.000000</td>\n",
       "      <td>D0001</td>\n",
       "    </tr>\n",
       "    <tr>\n",
       "      <th>8</th>\n",
       "      <td>2020-07-14 22:00:00</td>\n",
       "      <td>28.200000</td>\n",
       "      <td>1585.713833</td>\n",
       "      <td>31.611111</td>\n",
       "      <td>101.567130</td>\n",
       "      <td>400.000000</td>\n",
       "      <td>D0001</td>\n",
       "    </tr>\n",
       "    <tr>\n",
       "      <th>9</th>\n",
       "      <td>2020-07-14 23:00:00</td>\n",
       "      <td>28.280556</td>\n",
       "      <td>1389.856833</td>\n",
       "      <td>32.111111</td>\n",
       "      <td>101.296439</td>\n",
       "      <td>441.916667</td>\n",
       "      <td>D0001</td>\n",
       "    </tr>\n",
       "    <tr>\n",
       "      <th>10</th>\n",
       "      <td>2020-07-15 00:00:00</td>\n",
       "      <td>28.375000</td>\n",
       "      <td>1037.712333</td>\n",
       "      <td>32.702778</td>\n",
       "      <td>101.591533</td>\n",
       "      <td>412.583333</td>\n",
       "      <td>D0001</td>\n",
       "    </tr>\n",
       "    <tr>\n",
       "      <th>11</th>\n",
       "      <td>2020-07-15 01:00:00</td>\n",
       "      <td>28.811111</td>\n",
       "      <td>423.906944</td>\n",
       "      <td>35.611111</td>\n",
       "      <td>101.889817</td>\n",
       "      <td>687.194444</td>\n",
       "      <td>D0001</td>\n",
       "    </tr>\n",
       "    <tr>\n",
       "      <th>12</th>\n",
       "      <td>2020-07-15 02:00:00</td>\n",
       "      <td>29.172222</td>\n",
       "      <td>578.023500</td>\n",
       "      <td>35.391667</td>\n",
       "      <td>101.619870</td>\n",
       "      <td>658.527778</td>\n",
       "      <td>D0001</td>\n",
       "    </tr>\n",
       "    <tr>\n",
       "      <th>13</th>\n",
       "      <td>2020-07-15 03:00:00</td>\n",
       "      <td>29.122222</td>\n",
       "      <td>706.933161</td>\n",
       "      <td>34.991667</td>\n",
       "      <td>101.525648</td>\n",
       "      <td>566.527778</td>\n",
       "      <td>D0001</td>\n",
       "    </tr>\n",
       "    <tr>\n",
       "      <th>14</th>\n",
       "      <td>2020-07-15 04:00:00</td>\n",
       "      <td>28.994444</td>\n",
       "      <td>706.933161</td>\n",
       "      <td>35.027778</td>\n",
       "      <td>101.525648</td>\n",
       "      <td>568.111111</td>\n",
       "      <td>D0001</td>\n",
       "    </tr>\n",
       "    <tr>\n",
       "      <th>15</th>\n",
       "      <td>2020-07-15 05:00:00</td>\n",
       "      <td>29.227778</td>\n",
       "      <td>423.906944</td>\n",
       "      <td>36.011111</td>\n",
       "      <td>101.681070</td>\n",
       "      <td>690.777778</td>\n",
       "      <td>D0001</td>\n",
       "    </tr>\n",
       "    <tr>\n",
       "      <th>16</th>\n",
       "      <td>2020-07-15 06:00:00</td>\n",
       "      <td>29.377778</td>\n",
       "      <td>578.657079</td>\n",
       "      <td>34.880556</td>\n",
       "      <td>101.560068</td>\n",
       "      <td>647.305556</td>\n",
       "      <td>D0001</td>\n",
       "    </tr>\n",
       "    <tr>\n",
       "      <th>17</th>\n",
       "      <td>2020-07-15 07:00:00</td>\n",
       "      <td>29.697143</td>\n",
       "      <td>429.695167</td>\n",
       "      <td>34.208571</td>\n",
       "      <td>101.723820</td>\n",
       "      <td>678.000000</td>\n",
       "      <td>D0001</td>\n",
       "    </tr>\n",
       "    <tr>\n",
       "      <th>18</th>\n",
       "      <td>2020-07-15 08:00:00</td>\n",
       "      <td>30.075000</td>\n",
       "      <td>201.446045</td>\n",
       "      <td>33.075000</td>\n",
       "      <td>101.655867</td>\n",
       "      <td>793.305556</td>\n",
       "      <td>D0001</td>\n",
       "    </tr>\n",
       "    <tr>\n",
       "      <th>19</th>\n",
       "      <td>2020-07-15 09:00:00</td>\n",
       "      <td>30.551351</td>\n",
       "      <td>124.072324</td>\n",
       "      <td>34.002703</td>\n",
       "      <td>101.586731</td>\n",
       "      <td>1020.594595</td>\n",
       "      <td>D0001</td>\n",
       "    </tr>\n",
       "  </tbody>\n",
       "</table>\n",
       "</div>"
      ],
      "text/plain": [
       "                   time          T           Rn          H           P  \\\n",
       "0   2020-07-14 14:00:00  31.300000  1001.448424  44.475000  101.565847   \n",
       "1   2020-07-14 15:00:00  31.333333   588.154974  45.505556  101.632854   \n",
       "2   2020-07-14 16:00:00  31.451429     0.100000  47.145714  101.539128   \n",
       "3   2020-07-14 17:00:00  31.161765  1042.843803  36.000000  101.501998   \n",
       "4   2020-07-14 18:00:00  31.008333  1585.713833  28.436111  101.567130   \n",
       "5   2020-07-14 19:00:00  30.647222  1585.713833  29.133333  101.567130   \n",
       "6   2020-07-14 20:00:00  29.891429  1585.713833  28.597143  101.567130   \n",
       "7   2020-07-14 21:00:00  29.118919  1585.713833  29.162162  101.567130   \n",
       "8   2020-07-14 22:00:00  28.200000  1585.713833  31.611111  101.567130   \n",
       "9   2020-07-14 23:00:00  28.280556  1389.856833  32.111111  101.296439   \n",
       "10  2020-07-15 00:00:00  28.375000  1037.712333  32.702778  101.591533   \n",
       "11  2020-07-15 01:00:00  28.811111   423.906944  35.611111  101.889817   \n",
       "12  2020-07-15 02:00:00  29.172222   578.023500  35.391667  101.619870   \n",
       "13  2020-07-15 03:00:00  29.122222   706.933161  34.991667  101.525648   \n",
       "14  2020-07-15 04:00:00  28.994444   706.933161  35.027778  101.525648   \n",
       "15  2020-07-15 05:00:00  29.227778   423.906944  36.011111  101.681070   \n",
       "16  2020-07-15 06:00:00  29.377778   578.657079  34.880556  101.560068   \n",
       "17  2020-07-15 07:00:00  29.697143   429.695167  34.208571  101.723820   \n",
       "18  2020-07-15 08:00:00  30.075000   201.446045  33.075000  101.655867   \n",
       "19  2020-07-15 09:00:00  30.551351   124.072324  34.002703  101.586731   \n",
       "\n",
       "            CO2 sensor_id  \n",
       "0    567.750000     D0001  \n",
       "1    636.361111     D0001  \n",
       "2    734.000000     D0001  \n",
       "3    461.529412     D0001  \n",
       "4    400.000000     D0001  \n",
       "5    400.000000     D0001  \n",
       "6    400.000000     D0001  \n",
       "7    400.000000     D0001  \n",
       "8    400.000000     D0001  \n",
       "9    441.916667     D0001  \n",
       "10   412.583333     D0001  \n",
       "11   687.194444     D0001  \n",
       "12   658.527778     D0001  \n",
       "13   566.527778     D0001  \n",
       "14   568.111111     D0001  \n",
       "15   690.777778     D0001  \n",
       "16   647.305556     D0001  \n",
       "17   678.000000     D0001  \n",
       "18   793.305556     D0001  \n",
       "19  1020.594595     D0001  "
      ]
     },
     "execution_count": 96,
     "metadata": {},
     "output_type": "execute_result"
    }
   ],
   "source": [
    "measurementsDf.head(20)"
   ]
  },
  {
   "cell_type": "code",
   "execution_count": 97,
   "id": "9c7df86f",
   "metadata": {},
   "outputs": [],
   "source": [
    "measurementsDf.index =measurementsDf['time']"
   ]
  },
  {
   "cell_type": "code",
   "execution_count": 98,
   "id": "e30c7f95",
   "metadata": {},
   "outputs": [
    {
     "data": {
      "text/plain": [
       "<AxesSubplot:xlabel='time'>"
      ]
     },
     "execution_count": 98,
     "metadata": {},
     "output_type": "execute_result"
    },
    {
     "data": {
      "image/png": "[encoded data removed]",
      "text/plain": [
       "<Figure size 432x288 with 1 Axes>"
      ]
     },
     "metadata": {
      "needs_background": "light"
     },
     "output_type": "display_data"
    }
   ],
   "source": [
    "measurementsDf['Rn'].plot()"
   ]
  },
  {
   "cell_type": "code",
   "execution_count": 99,
   "id": "fa434824",
   "metadata": {},
   "outputs": [
    {
     "data": {
      "text/html": [
       "<div>\n",
       "<style scoped>\n",
       "    .dataframe tbody tr th:only-of-type {\n",
       "        vertical-align: middle;\n",
       "    }\n",
       "\n",
       "    .dataframe tbody tr th {\n",
       "        vertical-align: top;\n",
       "    }\n",
       "\n",
       "    .dataframe thead th {\n",
       "        text-align: right;\n",
       "    }\n",
       "</style>\n",
       "<table border=\"1\" class=\"dataframe\">\n",
       "  <thead>\n",
       "    <tr style=\"text-align: right;\">\n",
       "      <th></th>\n",
       "      <th>Rn</th>\n",
       "    </tr>\n",
       "    <tr>\n",
       "      <th>time</th>\n",
       "      <th></th>\n",
       "    </tr>\n",
       "  </thead>\n",
       "  <tbody>\n",
       "    <tr>\n",
       "      <th>2020-07-14 14:00:00</th>\n",
       "      <td>1001.448424</td>\n",
       "    </tr>\n",
       "    <tr>\n",
       "      <th>2020-07-14 15:00:00</th>\n",
       "      <td>588.154974</td>\n",
       "    </tr>\n",
       "    <tr>\n",
       "      <th>2020-07-14 16:00:00</th>\n",
       "      <td>0.100000</td>\n",
       "    </tr>\n",
       "    <tr>\n",
       "      <th>2020-07-14 17:00:00</th>\n",
       "      <td>1042.843803</td>\n",
       "    </tr>\n",
       "    <tr>\n",
       "      <th>2020-07-14 18:00:00</th>\n",
       "      <td>1585.713833</td>\n",
       "    </tr>\n",
       "    <tr>\n",
       "      <th>...</th>\n",
       "      <td>...</td>\n",
       "    </tr>\n",
       "    <tr>\n",
       "      <th>2021-12-31 19:00:00</th>\n",
       "      <td>616.640000</td>\n",
       "    </tr>\n",
       "    <tr>\n",
       "      <th>2021-12-31 20:00:00</th>\n",
       "      <td>541.380000</td>\n",
       "    </tr>\n",
       "    <tr>\n",
       "      <th>2021-12-31 21:00:00</th>\n",
       "      <td>544.167273</td>\n",
       "    </tr>\n",
       "    <tr>\n",
       "      <th>2021-12-31 22:00:00</th>\n",
       "      <td>590.666000</td>\n",
       "    </tr>\n",
       "    <tr>\n",
       "      <th>2021-12-31 23:00:00</th>\n",
       "      <td>594.030000</td>\n",
       "    </tr>\n",
       "  </tbody>\n",
       "</table>\n",
       "<p>115634 rows × 1 columns</p>\n",
       "</div>"
      ],
      "text/plain": [
       "                              Rn\n",
       "time                            \n",
       "2020-07-14 14:00:00  1001.448424\n",
       "2020-07-14 15:00:00   588.154974\n",
       "2020-07-14 16:00:00     0.100000\n",
       "2020-07-14 17:00:00  1042.843803\n",
       "2020-07-14 18:00:00  1585.713833\n",
       "...                          ...\n",
       "2021-12-31 19:00:00   616.640000\n",
       "2021-12-31 20:00:00   541.380000\n",
       "2021-12-31 21:00:00   544.167273\n",
       "2021-12-31 22:00:00   590.666000\n",
       "2021-12-31 23:00:00   594.030000\n",
       "\n",
       "[115634 rows x 1 columns]"
      ]
     },
     "execution_count": 99,
     "metadata": {},
     "output_type": "execute_result"
    }
   ],
   "source": [
    "RadonDf =pd.DataFrame( measurementsDf['Rn'])\n",
    "RadonDf "
   ]
  },
  {
   "cell_type": "code",
   "execution_count": 100,
   "id": "85065852",
   "metadata": {},
   "outputs": [
    {
     "data": {
      "text/html": [
       "<div>\n",
       "<style scoped>\n",
       "    .dataframe tbody tr th:only-of-type {\n",
       "        vertical-align: middle;\n",
       "    }\n",
       "\n",
       "    .dataframe tbody tr th {\n",
       "        vertical-align: top;\n",
       "    }\n",
       "\n",
       "    .dataframe thead th {\n",
       "        text-align: right;\n",
       "    }\n",
       "</style>\n",
       "<table border=\"1\" class=\"dataframe\">\n",
       "  <thead>\n",
       "    <tr style=\"text-align: right;\">\n",
       "      <th></th>\n",
       "      <th>Rn</th>\n",
       "      <th>H</th>\n",
       "      <th>CO2</th>\n",
       "      <th>P</th>\n",
       "      <th>T</th>\n",
       "    </tr>\n",
       "    <tr>\n",
       "      <th>time</th>\n",
       "      <th></th>\n",
       "      <th></th>\n",
       "      <th></th>\n",
       "      <th></th>\n",
       "      <th></th>\n",
       "    </tr>\n",
       "  </thead>\n",
       "  <tbody>\n",
       "    <tr>\n",
       "      <th>2020-07-14 14:00:00</th>\n",
       "      <td>1001.448424</td>\n",
       "      <td>44.475000</td>\n",
       "      <td>567.750000</td>\n",
       "      <td>101.565847</td>\n",
       "      <td>31.300000</td>\n",
       "    </tr>\n",
       "    <tr>\n",
       "      <th>2020-07-14 15:00:00</th>\n",
       "      <td>588.154974</td>\n",
       "      <td>45.505556</td>\n",
       "      <td>636.361111</td>\n",
       "      <td>101.632854</td>\n",
       "      <td>31.333333</td>\n",
       "    </tr>\n",
       "    <tr>\n",
       "      <th>2020-07-14 16:00:00</th>\n",
       "      <td>0.100000</td>\n",
       "      <td>47.145714</td>\n",
       "      <td>734.000000</td>\n",
       "      <td>101.539128</td>\n",
       "      <td>31.451429</td>\n",
       "    </tr>\n",
       "    <tr>\n",
       "      <th>2020-07-14 17:00:00</th>\n",
       "      <td>1042.843803</td>\n",
       "      <td>36.000000</td>\n",
       "      <td>461.529412</td>\n",
       "      <td>101.501998</td>\n",
       "      <td>31.161765</td>\n",
       "    </tr>\n",
       "    <tr>\n",
       "      <th>2020-07-14 18:00:00</th>\n",
       "      <td>1585.713833</td>\n",
       "      <td>28.436111</td>\n",
       "      <td>400.000000</td>\n",
       "      <td>101.567130</td>\n",
       "      <td>31.008333</td>\n",
       "    </tr>\n",
       "    <tr>\n",
       "      <th>...</th>\n",
       "      <td>...</td>\n",
       "      <td>...</td>\n",
       "      <td>...</td>\n",
       "      <td>...</td>\n",
       "      <td>...</td>\n",
       "    </tr>\n",
       "    <tr>\n",
       "      <th>2021-12-31 19:00:00</th>\n",
       "      <td>616.640000</td>\n",
       "      <td>50.156364</td>\n",
       "      <td>97.200000</td>\n",
       "      <td>102.653100</td>\n",
       "      <td>29.792673</td>\n",
       "    </tr>\n",
       "    <tr>\n",
       "      <th>2021-12-31 20:00:00</th>\n",
       "      <td>541.380000</td>\n",
       "      <td>48.047273</td>\n",
       "      <td>97.800000</td>\n",
       "      <td>102.273400</td>\n",
       "      <td>29.951673</td>\n",
       "    </tr>\n",
       "    <tr>\n",
       "      <th>2021-12-31 21:00:00</th>\n",
       "      <td>544.167273</td>\n",
       "      <td>53.847273</td>\n",
       "      <td>97.181818</td>\n",
       "      <td>102.199727</td>\n",
       "      <td>30.329218</td>\n",
       "    </tr>\n",
       "    <tr>\n",
       "      <th>2021-12-31 22:00:00</th>\n",
       "      <td>590.666000</td>\n",
       "      <td>44.097576</td>\n",
       "      <td>98.100000</td>\n",
       "      <td>102.140000</td>\n",
       "      <td>29.511200</td>\n",
       "    </tr>\n",
       "    <tr>\n",
       "      <th>2021-12-31 23:00:00</th>\n",
       "      <td>594.030000</td>\n",
       "      <td>41.082424</td>\n",
       "      <td>98.090909</td>\n",
       "      <td>102.145091</td>\n",
       "      <td>30.079564</td>\n",
       "    </tr>\n",
       "  </tbody>\n",
       "</table>\n",
       "<p>115634 rows × 5 columns</p>\n",
       "</div>"
      ],
      "text/plain": [
       "                              Rn          H         CO2           P          T\n",
       "time                                                                          \n",
       "2020-07-14 14:00:00  1001.448424  44.475000  567.750000  101.565847  31.300000\n",
       "2020-07-14 15:00:00   588.154974  45.505556  636.361111  101.632854  31.333333\n",
       "2020-07-14 16:00:00     0.100000  47.145714  734.000000  101.539128  31.451429\n",
       "2020-07-14 17:00:00  1042.843803  36.000000  461.529412  101.501998  31.161765\n",
       "2020-07-14 18:00:00  1585.713833  28.436111  400.000000  101.567130  31.008333\n",
       "...                          ...        ...         ...         ...        ...\n",
       "2021-12-31 19:00:00   616.640000  50.156364   97.200000  102.653100  29.792673\n",
       "2021-12-31 20:00:00   541.380000  48.047273   97.800000  102.273400  29.951673\n",
       "2021-12-31 21:00:00   544.167273  53.847273   97.181818  102.199727  30.329218\n",
       "2021-12-31 22:00:00   590.666000  44.097576   98.100000  102.140000  29.511200\n",
       "2021-12-31 23:00:00   594.030000  41.082424   98.090909  102.145091  30.079564\n",
       "\n",
       "[115634 rows x 5 columns]"
      ]
     },
     "execution_count": 100,
     "metadata": {},
     "output_type": "execute_result"
    }
   ],
   "source": [
    "RadonDf['H'] = measurementsDf['H']\n",
    "RadonDf['CO2'] = measurementsDf['CO2']\n",
    "RadonDf['P'] = measurementsDf['P']\n",
    "RadonDf['T'] = measurementsDf['T']\n",
    "RadonDf"
   ]
  },
  {
   "cell_type": "code",
   "execution_count": 101,
   "id": "7a4cf275",
   "metadata": {},
   "outputs": [],
   "source": [
    "from sklearn.metrics import mean_squared_error as mse\n",
    "\n",
    "def predictions_plotter(model, X, y, start=0, end=100):\n",
    "    predictions = model.predict(X).flatten()\n",
    "    df = pd.DataFrame(data={'Predictions':predictions, 'Actuals':y})\n",
    "    plt.plot(df['Predictions'][start:end])\n",
    "    plt.plot(df['Actuals'][start:end])\n",
    "    return df, mse(y, predictions)"
   ]
  },
  {
   "cell_type": "code",
   "execution_count": 102,
   "id": "aa4d2cd3",
   "metadata": {},
   "outputs": [],
   "source": [
    "#Converts the Df to a numpy array and then extracts the X and y value\n",
    "#on the required format to train the model\n",
    "def df_to_X_y(df, window_size=6):\n",
    "    df_as_np = df.to_numpy() # converts the dataframe to a numpy array\n",
    "    #Initialized  arrays to append X and Y values \n",
    "    X = []\n",
    "    y = []\n",
    "    for i in range(len(df_as_np)-window_size):\n",
    "        #window row\n",
    "        row =  [r for r in df_as_np[i:i+window_size]]\n",
    "        X.append(row)\n",
    "        #The final output/value\n",
    "        label = df_as_np[i+window_size][0]\n",
    "        y.append(label)\n",
    "    return np.array(X), np.array(y)"
   ]
  },
  {
   "cell_type": "code",
   "execution_count": 103,
   "id": "576cc8ed",
   "metadata": {},
   "outputs": [
    {
     "data": {
      "text/plain": [
       "((115628, 6, 5), (115628,))"
      ]
     },
     "execution_count": 103,
     "metadata": {},
     "output_type": "execute_result"
    }
   ],
   "source": [
    "X1, y1 = df_to_X_y(RadonDf)\n",
    "X1.shape, y1.shape"
   ]
  },
  {
   "cell_type": "code",
   "execution_count": 104,
   "id": "db6896ca",
   "metadata": {},
   "outputs": [
    {
     "data": {
      "text/plain": [
       "((92508, 6, 5), (92508,), (3000, 6, 5), (3000,), (20120, 6, 5), (20120,))"
      ]
     },
     "execution_count": 104,
     "metadata": {},
     "output_type": "execute_result"
    }
   ],
   "source": [
    "X_train, y_train = X1[:92508], y1[:92508] # training data\n",
    "X_val, y_val = X1[92508:95508], y1[92508:95508] #validation\n",
    "X_test, y_test = X1[95508:], y1[95508:] #test\n",
    "X_train.shape, y_train.shape, X_val.shape, y_val.shape, X_test.shape, y_test.shape"
   ]
  },
  {
   "cell_type": "markdown",
   "id": "2e95af6f",
   "metadata": {},
   "source": [
    "<h2> <font color='red'>Convolutional neural network implementation </font> <h2/>  "
   ]
  },
  {
   "cell_type": "code",
   "execution_count": 105,
   "id": "fa8f348d",
   "metadata": {
    "scrolled": true
   },
   "outputs": [
    {
     "name": "stdout",
     "output_type": "stream",
     "text": [
      "Model: \"sequential_5\"\n",
      "_________________________________________________________________\n",
      "Layer (type)                 Output Shape              Param #   \n",
      "=================================================================\n",
      "conv1d_4 (Conv1D)            (None, 5, 64)             704       \n",
      "_________________________________________________________________\n",
      "flatten_4 (Flatten)          (None, 320)               0         \n",
      "_________________________________________________________________\n",
      "dense_8 (Dense)              (None, 8)                 2568      \n",
      "_________________________________________________________________\n",
      "dense_9 (Dense)              (None, 2)                 18        \n",
      "=================================================================\n",
      "Total params: 3,290\n",
      "Trainable params: 3,290\n",
      "Non-trainable params: 0\n",
      "_________________________________________________________________\n",
      "Model: \"sequential_5\"\n",
      "_________________________________________________________________\n",
      "Layer (type)                 Output Shape              Param #   \n",
      "=================================================================\n",
      "conv1d_4 (Conv1D)            (None, 5, 64)             704       \n",
      "_________________________________________________________________\n",
      "flatten_4 (Flatten)          (None, 320)               0         \n",
      "_________________________________________________________________\n",
      "dense_8 (Dense)              (None, 8)                 2568      \n",
      "_________________________________________________________________\n",
      "dense_9 (Dense)              (None, 2)                 18        \n",
      "=================================================================\n",
      "Total params: 3,290\n",
      "Trainable params: 3,290\n",
      "Non-trainable params: 0\n",
      "_________________________________________________________________\n"
     ]
    }
   ],
   "source": [
    "model = Sequential()\n",
    "model.add(InputLayer((6, 5)))\n",
    "model.add(Conv1D(64, kernel_size=2, activation='relu'))\n",
    "model.add(Flatten())\n",
    "model.add(Dense(8, 'relu'))\n",
    "model.add(Dense(2, 'linear'))\n",
    "model.summary()\n",
    "\n",
    "\n",
    "model.summary()"
   ]
  },
  {
   "cell_type": "code",
   "execution_count": 106,
   "id": "95ae2666",
   "metadata": {},
   "outputs": [
    {
     "name": "stdout",
     "output_type": "stream",
     "text": [
      "92508\n",
      "92508\n"
     ]
    }
   ],
   "source": [
    "cp = ModelCheckpoint('convolutionalNN_model/', save_best_only=True)\n",
    "model.compile(loss=MeanSquaredError(),\n",
    "              optimizer=Adam(learning_rate=0.0001), \n",
    "              metrics=[RootMeanSquaredError()])\n",
    "print(len(X_train))\n",
    "print(len(y_train))"
   ]
  },
  {
   "cell_type": "code",
   "execution_count": 107,
   "id": "23897e4c",
   "metadata": {},
   "outputs": [
    {
     "name": "stdout",
     "output_type": "stream",
     "text": [
      "Epoch 1/10\n",
      "2891/2891 [==============================] - 9s 3ms/step - loss: 100678.2656 - root_mean_squared_error: 317.2984 - val_loss: 11399.7090 - val_root_mean_squared_error: 106.7694\n",
      "INFO:tensorflow:Assets written to: convolutionalNN_model\\assets\n",
      "Epoch 2/10\n",
      "2891/2891 [==============================] - 8s 3ms/step - loss: 38037.4297 - root_mean_squared_error: 195.0319 - val_loss: 9696.5967 - val_root_mean_squared_error: 98.4713\n",
      "INFO:tensorflow:Assets written to: convolutionalNN_model\\assets\n",
      "Epoch 3/10\n",
      "2891/2891 [==============================] - 8s 3ms/step - loss: 36786.5547 - root_mean_squared_error: 191.7982 - val_loss: 9742.8174 - val_root_mean_squared_error: 98.7057\n",
      "Epoch 4/10\n",
      "2891/2891 [==============================] - 8s 3ms/step - loss: 36247.8203 - root_mean_squared_error: 190.3886 - val_loss: 9271.8857 - val_root_mean_squared_error: 96.2906\n",
      "INFO:tensorflow:Assets written to: convolutionalNN_model\\assets\n",
      "Epoch 5/10\n",
      "2891/2891 [==============================] - 8s 3ms/step - loss: 35834.7266 - root_mean_squared_error: 189.3006 - val_loss: 9509.6865 - val_root_mean_squared_error: 97.5176s\n",
      "Epoch 6/10\n",
      "2891/2891 [==============================] - 8s 3ms/step - loss: 35457.2852 - root_mean_squared_error: 188.3011 - val_loss: 9270.3281 - val_root_mean_squared_error: 96.2825\n",
      "INFO:tensorflow:Assets written to: convolutionalNN_model\\assets\n",
      "Epoch 7/10\n",
      "2891/2891 [==============================] - 9s 3ms/step - loss: 35115.7344 - root_mean_squared_error: 187.3919 - val_loss: 9492.7129 - val_root_mean_squared_error: 97.4306: 2s - \n",
      "Epoch 8/10\n",
      "2891/2891 [==============================] - 8s 3ms/step - loss: 34868.0742 - root_mean_squared_error: 186.7299 - val_loss: 8930.4648 - val_root_mean_squared_error: 94.5011\n",
      "INFO:tensorflow:Assets written to: convolutionalNN_model\\assets\n",
      "Epoch 9/10\n",
      "2891/2891 [==============================] - 9s 3ms/step - loss: 34592.0000 - root_mean_squared_error: 185.9892 - val_loss: 8865.7500 - val_root_mean_squared_error: 94.1581s - loss: 32753.5 - ETA: 4s -  - ETA: 1s - loss: 34707.9727 - roo\n",
      "INFO:tensorflow:Assets written to: convolutionalNN_model\\assets\n",
      "Epoch 10/10\n",
      "2891/2891 [==============================] - 8s 3ms/step - loss: 34306.1641 - root_mean_squared_error: 185.2192 - val_loss: 8905.5918 - val_root_mean_squared_error: 94.3694s - loss: 33771.0742 - root_mean_s\n"
     ]
    },
    {
     "data": {
      "text/plain": [
       "<keras.callbacks.History at 0x1c57c37a130>"
      ]
     },
     "execution_count": 107,
     "metadata": {},
     "output_type": "execute_result"
    }
   ],
   "source": [
    "model.fit(X_train, y_train, validation_data=(X_val, y_val), epochs=10, callbacks=[cp])"
   ]
  },
  {
   "cell_type": "code",
   "execution_count": 108,
   "id": "b880aefa",
   "metadata": {},
   "outputs": [],
   "source": [
    "model = load_model('convolutionalNN_model/')"
   ]
  },
  {
   "cell_type": "code",
   "execution_count": 112,
   "id": "2f3ffe0a",
   "metadata": {},
   "outputs": [
    {
     "data": {
      "text/plain": [
       "<keras.engine.sequential.Sequential at 0x1c50e8bafd0>"
      ]
     },
     "execution_count": 112,
     "metadata": {},
     "output_type": "execute_result"
    }
   ],
   "source": [
    "model"
   ]
  },
  {
   "cell_type": "code",
   "execution_count": 114,
   "id": "67d0f69d",
   "metadata": {},
   "outputs": [
    {
     "name": "stdout",
     "output_type": "stream",
     "text": [
      "92508\n",
      "92508\n",
      "92508\n",
      "[[1477.1595  1377.2998 ]\n",
      " [1494.5056  1447.2468 ]\n",
      " [1505.2402  1462.7341 ]\n",
      " ...\n",
      " [ 428.5497   421.7069 ]\n",
      " [ 503.62628  495.9919 ]\n",
      " [ 423.49722  414.48965]]\n"
     ]
    },
    {
     "ename": "ValueError",
     "evalue": "Per-column arrays must each be 1-dimensional",
     "output_type": "error",
     "traceback": [
      "\u001b[1;31m---------------------------------------------------------------------------\u001b[0m",
      "\u001b[1;31mValueError\u001b[0m                                Traceback (most recent call last)",
      "Input \u001b[1;32mIn [114]\u001b[0m, in \u001b[0;36m<cell line: 6>\u001b[1;34m()\u001b[0m\n\u001b[0;32m      4\u001b[0m \u001b[38;5;28mprint\u001b[39m(\u001b[38;5;28mlen\u001b[39m(train_predictions))\n\u001b[0;32m      5\u001b[0m \u001b[38;5;28mprint\u001b[39m(train_predictions)\n\u001b[1;32m----> 6\u001b[0m train_results \u001b[38;5;241m=\u001b[39m \u001b[43mpd\u001b[49m\u001b[38;5;241;43m.\u001b[39;49m\u001b[43mDataFrame\u001b[49m\u001b[43m(\u001b[49m\u001b[43mdata\u001b[49m\u001b[38;5;241;43m=\u001b[39;49m\u001b[43m{\u001b[49m\u001b[38;5;124;43m'\u001b[39;49m\u001b[38;5;124;43mTrain Predictions\u001b[39;49m\u001b[38;5;124;43m'\u001b[39;49m\u001b[43m:\u001b[49m\u001b[43mtrain_predictions\u001b[49m\u001b[43m,\u001b[49m\u001b[43m \u001b[49m\u001b[38;5;124;43m'\u001b[39;49m\u001b[38;5;124;43mActuals\u001b[39;49m\u001b[38;5;124;43m'\u001b[39;49m\u001b[43m:\u001b[49m\u001b[43my_train\u001b[49m\u001b[43m}\u001b[49m\u001b[43m)\u001b[49m\n\u001b[0;32m      7\u001b[0m train_results\n",
      "File \u001b[1;32m~\\anaconda3\\envs\\RnHealth\\lib\\site-packages\\pandas\\core\\frame.py:636\u001b[0m, in \u001b[0;36mDataFrame.__init__\u001b[1;34m(self, data, index, columns, dtype, copy)\u001b[0m\n\u001b[0;32m    630\u001b[0m     mgr \u001b[38;5;241m=\u001b[39m \u001b[38;5;28mself\u001b[39m\u001b[38;5;241m.\u001b[39m_init_mgr(\n\u001b[0;32m    631\u001b[0m         data, axes\u001b[38;5;241m=\u001b[39m{\u001b[38;5;124m\"\u001b[39m\u001b[38;5;124mindex\u001b[39m\u001b[38;5;124m\"\u001b[39m: index, \u001b[38;5;124m\"\u001b[39m\u001b[38;5;124mcolumns\u001b[39m\u001b[38;5;124m\"\u001b[39m: columns}, dtype\u001b[38;5;241m=\u001b[39mdtype, copy\u001b[38;5;241m=\u001b[39mcopy\n\u001b[0;32m    632\u001b[0m     )\n\u001b[0;32m    634\u001b[0m \u001b[38;5;28;01melif\u001b[39;00m \u001b[38;5;28misinstance\u001b[39m(data, \u001b[38;5;28mdict\u001b[39m):\n\u001b[0;32m    635\u001b[0m     \u001b[38;5;66;03m# GH#38939 de facto copy defaults to False only in non-dict cases\u001b[39;00m\n\u001b[1;32m--> 636\u001b[0m     mgr \u001b[38;5;241m=\u001b[39m \u001b[43mdict_to_mgr\u001b[49m\u001b[43m(\u001b[49m\u001b[43mdata\u001b[49m\u001b[43m,\u001b[49m\u001b[43m \u001b[49m\u001b[43mindex\u001b[49m\u001b[43m,\u001b[49m\u001b[43m \u001b[49m\u001b[43mcolumns\u001b[49m\u001b[43m,\u001b[49m\u001b[43m \u001b[49m\u001b[43mdtype\u001b[49m\u001b[38;5;241;43m=\u001b[39;49m\u001b[43mdtype\u001b[49m\u001b[43m,\u001b[49m\u001b[43m \u001b[49m\u001b[43mcopy\u001b[49m\u001b[38;5;241;43m=\u001b[39;49m\u001b[43mcopy\u001b[49m\u001b[43m,\u001b[49m\u001b[43m \u001b[49m\u001b[43mtyp\u001b[49m\u001b[38;5;241;43m=\u001b[39;49m\u001b[43mmanager\u001b[49m\u001b[43m)\u001b[49m\n\u001b[0;32m    637\u001b[0m \u001b[38;5;28;01melif\u001b[39;00m \u001b[38;5;28misinstance\u001b[39m(data, ma\u001b[38;5;241m.\u001b[39mMaskedArray):\n\u001b[0;32m    638\u001b[0m     \u001b[38;5;28;01mimport\u001b[39;00m \u001b[38;5;21;01mnumpy\u001b[39;00m\u001b[38;5;21;01m.\u001b[39;00m\u001b[38;5;21;01mma\u001b[39;00m\u001b[38;5;21;01m.\u001b[39;00m\u001b[38;5;21;01mmrecords\u001b[39;00m \u001b[38;5;28;01mas\u001b[39;00m \u001b[38;5;21;01mmrecords\u001b[39;00m\n",
      "File \u001b[1;32m~\\anaconda3\\envs\\RnHealth\\lib\\site-packages\\pandas\\core\\internals\\construction.py:502\u001b[0m, in \u001b[0;36mdict_to_mgr\u001b[1;34m(data, index, columns, dtype, typ, copy)\u001b[0m\n\u001b[0;32m    494\u001b[0m     arrays \u001b[38;5;241m=\u001b[39m [\n\u001b[0;32m    495\u001b[0m         x\n\u001b[0;32m    496\u001b[0m         \u001b[38;5;28;01mif\u001b[39;00m \u001b[38;5;129;01mnot\u001b[39;00m \u001b[38;5;28mhasattr\u001b[39m(x, \u001b[38;5;124m\"\u001b[39m\u001b[38;5;124mdtype\u001b[39m\u001b[38;5;124m\"\u001b[39m) \u001b[38;5;129;01mor\u001b[39;00m \u001b[38;5;129;01mnot\u001b[39;00m \u001b[38;5;28misinstance\u001b[39m(x\u001b[38;5;241m.\u001b[39mdtype, ExtensionDtype)\n\u001b[0;32m    497\u001b[0m         \u001b[38;5;28;01melse\u001b[39;00m x\u001b[38;5;241m.\u001b[39mcopy()\n\u001b[0;32m    498\u001b[0m         \u001b[38;5;28;01mfor\u001b[39;00m x \u001b[38;5;129;01min\u001b[39;00m arrays\n\u001b[0;32m    499\u001b[0m     ]\n\u001b[0;32m    500\u001b[0m     \u001b[38;5;66;03m# TODO: can we get rid of the dt64tz special case above?\u001b[39;00m\n\u001b[1;32m--> 502\u001b[0m \u001b[38;5;28;01mreturn\u001b[39;00m \u001b[43marrays_to_mgr\u001b[49m\u001b[43m(\u001b[49m\u001b[43marrays\u001b[49m\u001b[43m,\u001b[49m\u001b[43m \u001b[49m\u001b[43mcolumns\u001b[49m\u001b[43m,\u001b[49m\u001b[43m \u001b[49m\u001b[43mindex\u001b[49m\u001b[43m,\u001b[49m\u001b[43m \u001b[49m\u001b[43mdtype\u001b[49m\u001b[38;5;241;43m=\u001b[39;49m\u001b[43mdtype\u001b[49m\u001b[43m,\u001b[49m\u001b[43m \u001b[49m\u001b[43mtyp\u001b[49m\u001b[38;5;241;43m=\u001b[39;49m\u001b[43mtyp\u001b[49m\u001b[43m,\u001b[49m\u001b[43m \u001b[49m\u001b[43mconsolidate\u001b[49m\u001b[38;5;241;43m=\u001b[39;49m\u001b[43mcopy\u001b[49m\u001b[43m)\u001b[49m\n",
      "File \u001b[1;32m~\\anaconda3\\envs\\RnHealth\\lib\\site-packages\\pandas\\core\\internals\\construction.py:120\u001b[0m, in \u001b[0;36marrays_to_mgr\u001b[1;34m(arrays, columns, index, dtype, verify_integrity, typ, consolidate)\u001b[0m\n\u001b[0;32m    117\u001b[0m \u001b[38;5;28;01mif\u001b[39;00m verify_integrity:\n\u001b[0;32m    118\u001b[0m     \u001b[38;5;66;03m# figure out the index, if necessary\u001b[39;00m\n\u001b[0;32m    119\u001b[0m     \u001b[38;5;28;01mif\u001b[39;00m index \u001b[38;5;129;01mis\u001b[39;00m \u001b[38;5;28;01mNone\u001b[39;00m:\n\u001b[1;32m--> 120\u001b[0m         index \u001b[38;5;241m=\u001b[39m \u001b[43m_extract_index\u001b[49m\u001b[43m(\u001b[49m\u001b[43marrays\u001b[49m\u001b[43m)\u001b[49m\n\u001b[0;32m    121\u001b[0m     \u001b[38;5;28;01melse\u001b[39;00m:\n\u001b[0;32m    122\u001b[0m         index \u001b[38;5;241m=\u001b[39m ensure_index(index)\n",
      "File \u001b[1;32m~\\anaconda3\\envs\\RnHealth\\lib\\site-packages\\pandas\\core\\internals\\construction.py:661\u001b[0m, in \u001b[0;36m_extract_index\u001b[1;34m(data)\u001b[0m\n\u001b[0;32m    659\u001b[0m         raw_lengths\u001b[38;5;241m.\u001b[39mappend(\u001b[38;5;28mlen\u001b[39m(val))\n\u001b[0;32m    660\u001b[0m     \u001b[38;5;28;01melif\u001b[39;00m \u001b[38;5;28misinstance\u001b[39m(val, np\u001b[38;5;241m.\u001b[39mndarray) \u001b[38;5;129;01mand\u001b[39;00m val\u001b[38;5;241m.\u001b[39mndim \u001b[38;5;241m>\u001b[39m \u001b[38;5;241m1\u001b[39m:\n\u001b[1;32m--> 661\u001b[0m         \u001b[38;5;28;01mraise\u001b[39;00m \u001b[38;5;167;01mValueError\u001b[39;00m(\u001b[38;5;124m\"\u001b[39m\u001b[38;5;124mPer-column arrays must each be 1-dimensional\u001b[39m\u001b[38;5;124m\"\u001b[39m)\n\u001b[0;32m    663\u001b[0m \u001b[38;5;28;01mif\u001b[39;00m \u001b[38;5;129;01mnot\u001b[39;00m indexes \u001b[38;5;129;01mand\u001b[39;00m \u001b[38;5;129;01mnot\u001b[39;00m raw_lengths:\n\u001b[0;32m    664\u001b[0m     \u001b[38;5;28;01mraise\u001b[39;00m \u001b[38;5;167;01mValueError\u001b[39;00m(\u001b[38;5;124m\"\u001b[39m\u001b[38;5;124mIf using all scalar values, you must pass an index\u001b[39m\u001b[38;5;124m\"\u001b[39m)\n",
      "\u001b[1;31mValueError\u001b[0m: Per-column arrays must each be 1-dimensional"
     ]
    }
   ],
   "source": [
    "train_predictions = model.predict(X_train)\n",
    "print(len(X_train))\n",
    "print(len(y_train))\n",
    "print(len(train_predictions))\n",
    "print(train_predictions)\n",
    "train_results = pd.DataFrame(data={'Train Predictions':train_predictions, 'Actuals':y_train})\n",
    "train_results\n"
   ]
  },
  {
   "cell_type": "code",
   "execution_count": 45,
   "id": "0ec63423",
   "metadata": {},
   "outputs": [
    {
     "ename": "NameError",
     "evalue": "name 'train_results' is not defined",
     "output_type": "error",
     "traceback": [
      "\u001b[1;31m---------------------------------------------------------------------------\u001b[0m",
      "\u001b[1;31mNameError\u001b[0m                                 Traceback (most recent call last)",
      "Input \u001b[1;32mIn [45]\u001b[0m, in \u001b[0;36m<cell line: 1>\u001b[1;34m()\u001b[0m\n\u001b[1;32m----> 1\u001b[0m plt\u001b[38;5;241m.\u001b[39mplot(\u001b[43mtrain_results\u001b[49m[\u001b[38;5;124m'\u001b[39m\u001b[38;5;124mTrain Predictions\u001b[39m\u001b[38;5;124m'\u001b[39m][\u001b[38;5;241m50\u001b[39m:\u001b[38;5;241m100\u001b[39m])\n\u001b[0;32m      2\u001b[0m plt\u001b[38;5;241m.\u001b[39mplot(train_results[\u001b[38;5;124m'\u001b[39m\u001b[38;5;124mActuals\u001b[39m\u001b[38;5;124m'\u001b[39m][\u001b[38;5;241m50\u001b[39m:\u001b[38;5;241m100\u001b[39m])\n",
      "\u001b[1;31mNameError\u001b[0m: name 'train_results' is not defined"
     ]
    }
   ],
   "source": [
    "plt.plot(train_results['Train Predictions'][50:100])\n",
    "plt.plot(train_results['Actuals'][50:100])"
   ]
  },
  {
   "cell_type": "code",
   "execution_count": null,
   "id": "3f20f3ff",
   "metadata": {},
   "outputs": [],
   "source": [
    "val_predictions = model1.predict(X_val).flatten()\n",
    "val_results = pd.DataFrame(data={'Val Predictions':val_predictions, 'Actuals':y_val})\n",
    "val_results"
   ]
  },
  {
   "cell_type": "code",
   "execution_count": null,
   "id": "5ef0d5a7",
   "metadata": {},
   "outputs": [],
   "source": [
    "plt.plot(val_results['Val Predictions'][:100])\n",
    "plt.plot(val_results['Actuals'][:100])"
   ]
  },
  {
   "cell_type": "code",
   "execution_count": null,
   "id": "76d47962",
   "metadata": {},
   "outputs": [],
   "source": [
    "test_predictions = model.predict(X_test).flatten()\n",
    "test_results = pd.DataFrame(data={'Test Predictions':test_predictions, 'Actuals':y_test})\n",
    "test_results"
   ]
  },
  {
   "cell_type": "code",
   "execution_count": null,
   "id": "23e18b62",
   "metadata": {},
   "outputs": [],
   "source": [
    "train_predictions = model.predict(X_train).flatten()\n",
    "train_results = pd.DataFrame(data={'Train Predictions':train_predictions, 'Actuals':y_train})\n",
    "train_results"
   ]
  },
  {
   "cell_type": "code",
   "execution_count": null,
   "id": "486f07f5",
   "metadata": {},
   "outputs": [],
   "source": [
    "plt.plot(train_results['Train Predictions'][50:100])\n",
    "plt.plot(train_results['Actuals'][50:100])"
   ]
  },
  {
   "cell_type": "code",
   "execution_count": null,
   "id": "163b3de5",
   "metadata": {},
   "outputs": [],
   "source": [
    "val_predictions = model1.predict(X_val).flatten()\n",
    "val_results = pd.DataFrame(data={'Val Predictions':val_predictions, 'Actuals':y_val})\n",
    "val_results"
   ]
  },
  {
   "cell_type": "code",
   "execution_count": null,
   "id": "c1a5a726",
   "metadata": {},
   "outputs": [],
   "source": [
    "plt.plot(val_results['Val Predictions'][:100])\n",
    "plt.plot(val_results['Actuals'][:100])"
   ]
  },
  {
   "cell_type": "code",
   "execution_count": null,
   "id": "af5759d8",
   "metadata": {},
   "outputs": [],
   "source": [
    "test_predictions = model.predict(X_test).flatten()\n",
    "test_results = pd.DataFrame(data={'Test Predictions':test_predictions, 'Actuals':y_test})\n",
    "test_results"
   ]
  },
  {
   "cell_type": "code",
   "execution_count": null,
   "id": "a0309ce4",
   "metadata": {},
   "outputs": [],
   "source": [
    "plt.plot(test_results['Test Predictions'][:100])\n",
    "plt.plot(test_results['Actuals'][:100])"
   ]
  },
  {
   "cell_type": "code",
   "execution_count": null,
   "id": "9f14335e",
   "metadata": {},
   "outputs": [],
   "source": [
    "plt.plot(test_results['Test Predictions'][:100])\n",
    "plt.plot(test_results['Actuals'][:100])"
   ]
  },
  {
   "cell_type": "code",
   "execution_count": null,
   "id": "a5657e43",
   "metadata": {},
   "outputs": [],
   "source": []
  },
  {
   "cell_type": "code",
   "execution_count": null,
   "id": "fd7e4e95",
   "metadata": {},
   "outputs": [],
   "source": []
  }
 ],
 "metadata": {
  "kernelspec": {
   "display_name": "Python 3 (ipykernel)",
   "language": "python",
   "name": "python3"
  },
  "language_info": {
   "codemirror_mode": {
    "name": "ipython",
    "version": 3
   },
   "file_extension": ".py",
   "mimetype": "text/x-python",
   "name": "python",
   "nbconvert_exporter": "python",
   "pygments_lexer": "ipython3",
   "version": "3.9.12"
  }
 },
 "nbformat": 4,
 "nbformat_minor": 5
}
