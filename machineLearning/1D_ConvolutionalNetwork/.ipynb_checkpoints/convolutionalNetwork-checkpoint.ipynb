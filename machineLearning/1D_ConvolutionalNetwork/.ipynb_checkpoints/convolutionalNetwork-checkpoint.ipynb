{
 "cells": [
  {
   "cell_type": "code",
   "execution_count": 189,
   "id": "d332c331",
   "metadata": {},
   "outputs": [],
   "source": [
    "import tensorflow as tf\n",
    "import os\n",
    "import pandas as pd\n",
    "import numpy as np\n",
    "import pandas as pd\n",
    "import numpy as np\n",
    "from datetime import timezone, datetime\n",
    "import seaborn as sns\n",
    "from matplotlib import pyplot as plt\n",
    "import os\n",
    "from tensorflow.keras.models import Sequential\n",
    "from tensorflow.keras.layers import *\n",
    "from tensorflow.keras.callbacks import ModelCheckpoint\n",
    "from tensorflow.keras.losses import MeanSquaredError\n",
    "from tensorflow.keras.metrics import RootMeanSquaredError\n",
    "from tensorflow.keras.metrics import Accuracy\n",
    "from tensorflow.keras.optimizers import Adam\n",
    "from tensorflow.keras.models import load_model\n",
    "\n",
    "os.environ['KMP_DUPLICATE_LIB_OK']='True'"
   ]
  },
  {
   "cell_type": "code",
   "execution_count": 190,
   "id": "2d34db67",
   "metadata": {},
   "outputs": [],
   "source": [
    "imputedMeasurementsDf = pd.read_csv('../../../../../../Data/ProcessedData/KnnImputed/measurementsImputedByKnn.csv')\n",
    "measurementsDf = pd.read_csv('../../../../../../Data/RawData/rawMeasurementsFilteredBySensors.csv')"
   ]
  },
  {
   "cell_type": "code",
   "execution_count": 191,
   "id": "097510ff",
   "metadata": {},
   "outputs": [],
   "source": [
    "dateTimeDf = pd.DataFrame(measurementsDf['time'])"
   ]
  },
  {
   "cell_type": "code",
   "execution_count": 192,
   "id": "014d24d1",
   "metadata": {},
   "outputs": [],
   "source": [
    "def iso8601ToDatetime():\n",
    "    for i in range(len(dateTimeDf['time'])):\n",
    "        timeContainer  = dateTimeDf['time'][i].replace('.000','')\n",
    "        timeContainer = datetime.strptime(timeContainer, \"%Y-%m-%dT%H:%M:%SZ\")\n",
    "        timeContainer = int(round(timeContainer.timestamp()))\n",
    "        timeContainer = datetime.fromtimestamp(timeContainer)\n",
    "        dateTimeDf['time'][i] = timeContainer"
   ]
  },
  {
   "cell_type": "code",
   "execution_count": 193,
   "id": "ac59d9d6",
   "metadata": {},
   "outputs": [
    {
     "name": "stdout",
     "output_type": "stream",
     "text": [
      "CPU times: total: 13.2 s\n",
      "Wall time: 13.7 s\n"
     ]
    }
   ],
   "source": [
    "%%time\n",
    "\n",
    "iso8601ToDatetime()"
   ]
  },
  {
   "cell_type": "code",
   "execution_count": 194,
   "id": "c4687dbe",
   "metadata": {},
   "outputs": [],
   "source": [
    "measurementsDf = dateTimeDf.join(imputedMeasurementsDf.drop(['day','month','hour'],axis = 1))"
   ]
  },
  {
   "cell_type": "code",
   "execution_count": 195,
   "id": "bd011b2a",
   "metadata": {},
   "outputs": [
    {
     "data": {
      "text/html": [
       "<div>\n",
       "<style scoped>\n",
       "    .dataframe tbody tr th:only-of-type {\n",
       "        vertical-align: middle;\n",
       "    }\n",
       "\n",
       "    .dataframe tbody tr th {\n",
       "        vertical-align: top;\n",
       "    }\n",
       "\n",
       "    .dataframe thead th {\n",
       "        text-align: right;\n",
       "    }\n",
       "</style>\n",
       "<table border=\"1\" class=\"dataframe\">\n",
       "  <thead>\n",
       "    <tr style=\"text-align: right;\">\n",
       "      <th></th>\n",
       "      <th>time</th>\n",
       "      <th>T</th>\n",
       "      <th>Rn</th>\n",
       "      <th>H</th>\n",
       "      <th>P</th>\n",
       "      <th>CO2</th>\n",
       "      <th>sensor_id</th>\n",
       "    </tr>\n",
       "  </thead>\n",
       "  <tbody>\n",
       "    <tr>\n",
       "      <th>0</th>\n",
       "      <td>2020-07-14 14:00:00</td>\n",
       "      <td>31.300000</td>\n",
       "      <td>1001.448424</td>\n",
       "      <td>44.475000</td>\n",
       "      <td>101.565847</td>\n",
       "      <td>567.750000</td>\n",
       "      <td>D0001</td>\n",
       "    </tr>\n",
       "    <tr>\n",
       "      <th>1</th>\n",
       "      <td>2020-07-14 15:00:00</td>\n",
       "      <td>31.333333</td>\n",
       "      <td>588.154974</td>\n",
       "      <td>45.505556</td>\n",
       "      <td>101.632854</td>\n",
       "      <td>636.361111</td>\n",
       "      <td>D0001</td>\n",
       "    </tr>\n",
       "    <tr>\n",
       "      <th>2</th>\n",
       "      <td>2020-07-14 16:00:00</td>\n",
       "      <td>31.451429</td>\n",
       "      <td>0.100000</td>\n",
       "      <td>47.145714</td>\n",
       "      <td>101.539128</td>\n",
       "      <td>734.000000</td>\n",
       "      <td>D0001</td>\n",
       "    </tr>\n",
       "    <tr>\n",
       "      <th>3</th>\n",
       "      <td>2020-07-14 17:00:00</td>\n",
       "      <td>31.161765</td>\n",
       "      <td>1042.843803</td>\n",
       "      <td>36.000000</td>\n",
       "      <td>101.501998</td>\n",
       "      <td>461.529412</td>\n",
       "      <td>D0001</td>\n",
       "    </tr>\n",
       "    <tr>\n",
       "      <th>4</th>\n",
       "      <td>2020-07-14 18:00:00</td>\n",
       "      <td>31.008333</td>\n",
       "      <td>1585.713833</td>\n",
       "      <td>28.436111</td>\n",
       "      <td>101.567130</td>\n",
       "      <td>400.000000</td>\n",
       "      <td>D0001</td>\n",
       "    </tr>\n",
       "    <tr>\n",
       "      <th>5</th>\n",
       "      <td>2020-07-14 19:00:00</td>\n",
       "      <td>30.647222</td>\n",
       "      <td>1585.713833</td>\n",
       "      <td>29.133333</td>\n",
       "      <td>101.567130</td>\n",
       "      <td>400.000000</td>\n",
       "      <td>D0001</td>\n",
       "    </tr>\n",
       "    <tr>\n",
       "      <th>6</th>\n",
       "      <td>2020-07-14 20:00:00</td>\n",
       "      <td>29.891429</td>\n",
       "      <td>1585.713833</td>\n",
       "      <td>28.597143</td>\n",
       "      <td>101.567130</td>\n",
       "      <td>400.000000</td>\n",
       "      <td>D0001</td>\n",
       "    </tr>\n",
       "    <tr>\n",
       "      <th>7</th>\n",
       "      <td>2020-07-14 21:00:00</td>\n",
       "      <td>29.118919</td>\n",
       "      <td>1585.713833</td>\n",
       "      <td>29.162162</td>\n",
       "      <td>101.567130</td>\n",
       "      <td>400.000000</td>\n",
       "      <td>D0001</td>\n",
       "    </tr>\n",
       "    <tr>\n",
       "      <th>8</th>\n",
       "      <td>2020-07-14 22:00:00</td>\n",
       "      <td>28.200000</td>\n",
       "      <td>1585.713833</td>\n",
       "      <td>31.611111</td>\n",
       "      <td>101.567130</td>\n",
       "      <td>400.000000</td>\n",
       "      <td>D0001</td>\n",
       "    </tr>\n",
       "    <tr>\n",
       "      <th>9</th>\n",
       "      <td>2020-07-14 23:00:00</td>\n",
       "      <td>28.280556</td>\n",
       "      <td>1389.856833</td>\n",
       "      <td>32.111111</td>\n",
       "      <td>101.296439</td>\n",
       "      <td>441.916667</td>\n",
       "      <td>D0001</td>\n",
       "    </tr>\n",
       "    <tr>\n",
       "      <th>10</th>\n",
       "      <td>2020-07-15 00:00:00</td>\n",
       "      <td>28.375000</td>\n",
       "      <td>1037.712333</td>\n",
       "      <td>32.702778</td>\n",
       "      <td>101.591533</td>\n",
       "      <td>412.583333</td>\n",
       "      <td>D0001</td>\n",
       "    </tr>\n",
       "    <tr>\n",
       "      <th>11</th>\n",
       "      <td>2020-07-15 01:00:00</td>\n",
       "      <td>28.811111</td>\n",
       "      <td>423.906944</td>\n",
       "      <td>35.611111</td>\n",
       "      <td>101.889817</td>\n",
       "      <td>687.194444</td>\n",
       "      <td>D0001</td>\n",
       "    </tr>\n",
       "    <tr>\n",
       "      <th>12</th>\n",
       "      <td>2020-07-15 02:00:00</td>\n",
       "      <td>29.172222</td>\n",
       "      <td>578.023500</td>\n",
       "      <td>35.391667</td>\n",
       "      <td>101.619870</td>\n",
       "      <td>658.527778</td>\n",
       "      <td>D0001</td>\n",
       "    </tr>\n",
       "    <tr>\n",
       "      <th>13</th>\n",
       "      <td>2020-07-15 03:00:00</td>\n",
       "      <td>29.122222</td>\n",
       "      <td>706.933161</td>\n",
       "      <td>34.991667</td>\n",
       "      <td>101.525648</td>\n",
       "      <td>566.527778</td>\n",
       "      <td>D0001</td>\n",
       "    </tr>\n",
       "    <tr>\n",
       "      <th>14</th>\n",
       "      <td>2020-07-15 04:00:00</td>\n",
       "      <td>28.994444</td>\n",
       "      <td>706.933161</td>\n",
       "      <td>35.027778</td>\n",
       "      <td>101.525648</td>\n",
       "      <td>568.111111</td>\n",
       "      <td>D0001</td>\n",
       "    </tr>\n",
       "    <tr>\n",
       "      <th>15</th>\n",
       "      <td>2020-07-15 05:00:00</td>\n",
       "      <td>29.227778</td>\n",
       "      <td>423.906944</td>\n",
       "      <td>36.011111</td>\n",
       "      <td>101.681070</td>\n",
       "      <td>690.777778</td>\n",
       "      <td>D0001</td>\n",
       "    </tr>\n",
       "    <tr>\n",
       "      <th>16</th>\n",
       "      <td>2020-07-15 06:00:00</td>\n",
       "      <td>29.377778</td>\n",
       "      <td>578.657079</td>\n",
       "      <td>34.880556</td>\n",
       "      <td>101.560068</td>\n",
       "      <td>647.305556</td>\n",
       "      <td>D0001</td>\n",
       "    </tr>\n",
       "    <tr>\n",
       "      <th>17</th>\n",
       "      <td>2020-07-15 07:00:00</td>\n",
       "      <td>29.697143</td>\n",
       "      <td>429.695167</td>\n",
       "      <td>34.208571</td>\n",
       "      <td>101.723820</td>\n",
       "      <td>678.000000</td>\n",
       "      <td>D0001</td>\n",
       "    </tr>\n",
       "    <tr>\n",
       "      <th>18</th>\n",
       "      <td>2020-07-15 08:00:00</td>\n",
       "      <td>30.075000</td>\n",
       "      <td>201.446045</td>\n",
       "      <td>33.075000</td>\n",
       "      <td>101.655867</td>\n",
       "      <td>793.305556</td>\n",
       "      <td>D0001</td>\n",
       "    </tr>\n",
       "    <tr>\n",
       "      <th>19</th>\n",
       "      <td>2020-07-15 09:00:00</td>\n",
       "      <td>30.551351</td>\n",
       "      <td>124.072324</td>\n",
       "      <td>34.002703</td>\n",
       "      <td>101.586731</td>\n",
       "      <td>1020.594595</td>\n",
       "      <td>D0001</td>\n",
       "    </tr>\n",
       "  </tbody>\n",
       "</table>\n",
       "</div>"
      ],
      "text/plain": [
       "                   time          T           Rn          H           P  \\\n",
       "0   2020-07-14 14:00:00  31.300000  1001.448424  44.475000  101.565847   \n",
       "1   2020-07-14 15:00:00  31.333333   588.154974  45.505556  101.632854   \n",
       "2   2020-07-14 16:00:00  31.451429     0.100000  47.145714  101.539128   \n",
       "3   2020-07-14 17:00:00  31.161765  1042.843803  36.000000  101.501998   \n",
       "4   2020-07-14 18:00:00  31.008333  1585.713833  28.436111  101.567130   \n",
       "5   2020-07-14 19:00:00  30.647222  1585.713833  29.133333  101.567130   \n",
       "6   2020-07-14 20:00:00  29.891429  1585.713833  28.597143  101.567130   \n",
       "7   2020-07-14 21:00:00  29.118919  1585.713833  29.162162  101.567130   \n",
       "8   2020-07-14 22:00:00  28.200000  1585.713833  31.611111  101.567130   \n",
       "9   2020-07-14 23:00:00  28.280556  1389.856833  32.111111  101.296439   \n",
       "10  2020-07-15 00:00:00  28.375000  1037.712333  32.702778  101.591533   \n",
       "11  2020-07-15 01:00:00  28.811111   423.906944  35.611111  101.889817   \n",
       "12  2020-07-15 02:00:00  29.172222   578.023500  35.391667  101.619870   \n",
       "13  2020-07-15 03:00:00  29.122222   706.933161  34.991667  101.525648   \n",
       "14  2020-07-15 04:00:00  28.994444   706.933161  35.027778  101.525648   \n",
       "15  2020-07-15 05:00:00  29.227778   423.906944  36.011111  101.681070   \n",
       "16  2020-07-15 06:00:00  29.377778   578.657079  34.880556  101.560068   \n",
       "17  2020-07-15 07:00:00  29.697143   429.695167  34.208571  101.723820   \n",
       "18  2020-07-15 08:00:00  30.075000   201.446045  33.075000  101.655867   \n",
       "19  2020-07-15 09:00:00  30.551351   124.072324  34.002703  101.586731   \n",
       "\n",
       "            CO2 sensor_id  \n",
       "0    567.750000     D0001  \n",
       "1    636.361111     D0001  \n",
       "2    734.000000     D0001  \n",
       "3    461.529412     D0001  \n",
       "4    400.000000     D0001  \n",
       "5    400.000000     D0001  \n",
       "6    400.000000     D0001  \n",
       "7    400.000000     D0001  \n",
       "8    400.000000     D0001  \n",
       "9    441.916667     D0001  \n",
       "10   412.583333     D0001  \n",
       "11   687.194444     D0001  \n",
       "12   658.527778     D0001  \n",
       "13   566.527778     D0001  \n",
       "14   568.111111     D0001  \n",
       "15   690.777778     D0001  \n",
       "16   647.305556     D0001  \n",
       "17   678.000000     D0001  \n",
       "18   793.305556     D0001  \n",
       "19  1020.594595     D0001  "
      ]
     },
     "execution_count": 195,
     "metadata": {},
     "output_type": "execute_result"
    }
   ],
   "source": [
    "measurementsDf.head(20)"
   ]
  },
  {
   "cell_type": "code",
   "execution_count": 196,
   "id": "9c7df86f",
   "metadata": {},
   "outputs": [],
   "source": [
    "measurementsDf.index =measurementsDf['time']"
   ]
  },
  {
   "cell_type": "code",
   "execution_count": 197,
   "id": "e30c7f95",
   "metadata": {},
   "outputs": [
    {
     "data": {
      "text/plain": [
       "<AxesSubplot:xlabel='time'>"
      ]
     },
     "execution_count": 197,
     "metadata": {},
     "output_type": "execute_result"
    },
    {
     "data": {
      "image/png": "[encoded data removed]",
      "text/plain": [
       "<Figure size 432x288 with 1 Axes>"
      ]
     },
     "metadata": {
      "needs_background": "light"
     },
     "output_type": "display_data"
    }
   ],
   "source": [
    "measurementsDf['Rn'].plot()"
   ]
  },
  {
   "cell_type": "code",
   "execution_count": 198,
   "id": "fa434824",
   "metadata": {},
   "outputs": [
    {
     "data": {
      "text/html": [
       "<div>\n",
       "<style scoped>\n",
       "    .dataframe tbody tr th:only-of-type {\n",
       "        vertical-align: middle;\n",
       "    }\n",
       "\n",
       "    .dataframe tbody tr th {\n",
       "        vertical-align: top;\n",
       "    }\n",
       "\n",
       "    .dataframe thead th {\n",
       "        text-align: right;\n",
       "    }\n",
       "</style>\n",
       "<table border=\"1\" class=\"dataframe\">\n",
       "  <thead>\n",
       "    <tr style=\"text-align: right;\">\n",
       "      <th></th>\n",
       "      <th>Rn</th>\n",
       "    </tr>\n",
       "    <tr>\n",
       "      <th>time</th>\n",
       "      <th></th>\n",
       "    </tr>\n",
       "  </thead>\n",
       "  <tbody>\n",
       "    <tr>\n",
       "      <th>2020-07-14 14:00:00</th>\n",
       "      <td>1001.448424</td>\n",
       "    </tr>\n",
       "    <tr>\n",
       "      <th>2020-07-14 15:00:00</th>\n",
       "      <td>588.154974</td>\n",
       "    </tr>\n",
       "    <tr>\n",
       "      <th>2020-07-14 16:00:00</th>\n",
       "      <td>0.100000</td>\n",
       "    </tr>\n",
       "    <tr>\n",
       "      <th>2020-07-14 17:00:00</th>\n",
       "      <td>1042.843803</td>\n",
       "    </tr>\n",
       "    <tr>\n",
       "      <th>2020-07-14 18:00:00</th>\n",
       "      <td>1585.713833</td>\n",
       "    </tr>\n",
       "    <tr>\n",
       "      <th>...</th>\n",
       "      <td>...</td>\n",
       "    </tr>\n",
       "    <tr>\n",
       "      <th>2021-12-31 19:00:00</th>\n",
       "      <td>616.640000</td>\n",
       "    </tr>\n",
       "    <tr>\n",
       "      <th>2021-12-31 20:00:00</th>\n",
       "      <td>541.380000</td>\n",
       "    </tr>\n",
       "    <tr>\n",
       "      <th>2021-12-31 21:00:00</th>\n",
       "      <td>544.167273</td>\n",
       "    </tr>\n",
       "    <tr>\n",
       "      <th>2021-12-31 22:00:00</th>\n",
       "      <td>590.666000</td>\n",
       "    </tr>\n",
       "    <tr>\n",
       "      <th>2021-12-31 23:00:00</th>\n",
       "      <td>594.030000</td>\n",
       "    </tr>\n",
       "  </tbody>\n",
       "</table>\n",
       "<p>115634 rows × 1 columns</p>\n",
       "</div>"
      ],
      "text/plain": [
       "                              Rn\n",
       "time                            \n",
       "2020-07-14 14:00:00  1001.448424\n",
       "2020-07-14 15:00:00   588.154974\n",
       "2020-07-14 16:00:00     0.100000\n",
       "2020-07-14 17:00:00  1042.843803\n",
       "2020-07-14 18:00:00  1585.713833\n",
       "...                          ...\n",
       "2021-12-31 19:00:00   616.640000\n",
       "2021-12-31 20:00:00   541.380000\n",
       "2021-12-31 21:00:00   544.167273\n",
       "2021-12-31 22:00:00   590.666000\n",
       "2021-12-31 23:00:00   594.030000\n",
       "\n",
       "[115634 rows x 1 columns]"
      ]
     },
     "execution_count": 198,
     "metadata": {},
     "output_type": "execute_result"
    }
   ],
   "source": [
    "RadonDf =pd.DataFrame( measurementsDf['Rn'])\n",
    "RadonDf "
   ]
  },
  {
   "cell_type": "code",
   "execution_count": 199,
   "id": "85065852",
   "metadata": {},
   "outputs": [
    {
     "data": {
      "text/html": [
       "<div>\n",
       "<style scoped>\n",
       "    .dataframe tbody tr th:only-of-type {\n",
       "        vertical-align: middle;\n",
       "    }\n",
       "\n",
       "    .dataframe tbody tr th {\n",
       "        vertical-align: top;\n",
       "    }\n",
       "\n",
       "    .dataframe thead th {\n",
       "        text-align: right;\n",
       "    }\n",
       "</style>\n",
       "<table border=\"1\" class=\"dataframe\">\n",
       "  <thead>\n",
       "    <tr style=\"text-align: right;\">\n",
       "      <th></th>\n",
       "      <th>Rn</th>\n",
       "      <th>H</th>\n",
       "      <th>CO2</th>\n",
       "      <th>P</th>\n",
       "      <th>T</th>\n",
       "    </tr>\n",
       "    <tr>\n",
       "      <th>time</th>\n",
       "      <th></th>\n",
       "      <th></th>\n",
       "      <th></th>\n",
       "      <th></th>\n",
       "      <th></th>\n",
       "    </tr>\n",
       "  </thead>\n",
       "  <tbody>\n",
       "    <tr>\n",
       "      <th>2020-07-14 14:00:00</th>\n",
       "      <td>1001.448424</td>\n",
       "      <td>44.475000</td>\n",
       "      <td>567.750000</td>\n",
       "      <td>101.565847</td>\n",
       "      <td>31.300000</td>\n",
       "    </tr>\n",
       "    <tr>\n",
       "      <th>2020-07-14 15:00:00</th>\n",
       "      <td>588.154974</td>\n",
       "      <td>45.505556</td>\n",
       "      <td>636.361111</td>\n",
       "      <td>101.632854</td>\n",
       "      <td>31.333333</td>\n",
       "    </tr>\n",
       "    <tr>\n",
       "      <th>2020-07-14 16:00:00</th>\n",
       "      <td>0.100000</td>\n",
       "      <td>47.145714</td>\n",
       "      <td>734.000000</td>\n",
       "      <td>101.539128</td>\n",
       "      <td>31.451429</td>\n",
       "    </tr>\n",
       "    <tr>\n",
       "      <th>2020-07-14 17:00:00</th>\n",
       "      <td>1042.843803</td>\n",
       "      <td>36.000000</td>\n",
       "      <td>461.529412</td>\n",
       "      <td>101.501998</td>\n",
       "      <td>31.161765</td>\n",
       "    </tr>\n",
       "    <tr>\n",
       "      <th>2020-07-14 18:00:00</th>\n",
       "      <td>1585.713833</td>\n",
       "      <td>28.436111</td>\n",
       "      <td>400.000000</td>\n",
       "      <td>101.567130</td>\n",
       "      <td>31.008333</td>\n",
       "    </tr>\n",
       "    <tr>\n",
       "      <th>...</th>\n",
       "      <td>...</td>\n",
       "      <td>...</td>\n",
       "      <td>...</td>\n",
       "      <td>...</td>\n",
       "      <td>...</td>\n",
       "    </tr>\n",
       "    <tr>\n",
       "      <th>2021-12-31 19:00:00</th>\n",
       "      <td>616.640000</td>\n",
       "      <td>50.156364</td>\n",
       "      <td>97.200000</td>\n",
       "      <td>102.653100</td>\n",
       "      <td>29.792673</td>\n",
       "    </tr>\n",
       "    <tr>\n",
       "      <th>2021-12-31 20:00:00</th>\n",
       "      <td>541.380000</td>\n",
       "      <td>48.047273</td>\n",
       "      <td>97.800000</td>\n",
       "      <td>102.273400</td>\n",
       "      <td>29.951673</td>\n",
       "    </tr>\n",
       "    <tr>\n",
       "      <th>2021-12-31 21:00:00</th>\n",
       "      <td>544.167273</td>\n",
       "      <td>53.847273</td>\n",
       "      <td>97.181818</td>\n",
       "      <td>102.199727</td>\n",
       "      <td>30.329218</td>\n",
       "    </tr>\n",
       "    <tr>\n",
       "      <th>2021-12-31 22:00:00</th>\n",
       "      <td>590.666000</td>\n",
       "      <td>44.097576</td>\n",
       "      <td>98.100000</td>\n",
       "      <td>102.140000</td>\n",
       "      <td>29.511200</td>\n",
       "    </tr>\n",
       "    <tr>\n",
       "      <th>2021-12-31 23:00:00</th>\n",
       "      <td>594.030000</td>\n",
       "      <td>41.082424</td>\n",
       "      <td>98.090909</td>\n",
       "      <td>102.145091</td>\n",
       "      <td>30.079564</td>\n",
       "    </tr>\n",
       "  </tbody>\n",
       "</table>\n",
       "<p>115634 rows × 5 columns</p>\n",
       "</div>"
      ],
      "text/plain": [
       "                              Rn          H         CO2           P          T\n",
       "time                                                                          \n",
       "2020-07-14 14:00:00  1001.448424  44.475000  567.750000  101.565847  31.300000\n",
       "2020-07-14 15:00:00   588.154974  45.505556  636.361111  101.632854  31.333333\n",
       "2020-07-14 16:00:00     0.100000  47.145714  734.000000  101.539128  31.451429\n",
       "2020-07-14 17:00:00  1042.843803  36.000000  461.529412  101.501998  31.161765\n",
       "2020-07-14 18:00:00  1585.713833  28.436111  400.000000  101.567130  31.008333\n",
       "...                          ...        ...         ...         ...        ...\n",
       "2021-12-31 19:00:00   616.640000  50.156364   97.200000  102.653100  29.792673\n",
       "2021-12-31 20:00:00   541.380000  48.047273   97.800000  102.273400  29.951673\n",
       "2021-12-31 21:00:00   544.167273  53.847273   97.181818  102.199727  30.329218\n",
       "2021-12-31 22:00:00   590.666000  44.097576   98.100000  102.140000  29.511200\n",
       "2021-12-31 23:00:00   594.030000  41.082424   98.090909  102.145091  30.079564\n",
       "\n",
       "[115634 rows x 5 columns]"
      ]
     },
     "execution_count": 199,
     "metadata": {},
     "output_type": "execute_result"
    }
   ],
   "source": [
    "RadonDf['H'] = measurementsDf['H']\n",
    "RadonDf['CO2'] = measurementsDf['CO2']\n",
    "RadonDf['P'] = measurementsDf['P']\n",
    "RadonDf['T'] = measurementsDf['T']\n",
    "RadonDf"
   ]
  },
  {
   "cell_type": "code",
   "execution_count": 204,
   "id": "7a4cf275",
   "metadata": {},
   "outputs": [],
   "source": [
    "from sklearn.metrics import mean_squared_error as mse\n",
    "\n",
    "def predictions_plotter(model, X, y, start=0, end=100):\n",
    "    predictions = model.predict(X).flatten()\n",
    "    df = pd.DataFrame(data={'Predictions':predictions, 'Actuals':y})\n",
    "    plt.plot(df['Predictions'][start:end])\n",
    "    plt.plot(df['Actuals'][start:end])\n",
    "    return df, mse(y, predictions)"
   ]
  },
  {
   "cell_type": "code",
   "execution_count": 205,
   "id": "aa4d2cd3",
   "metadata": {},
   "outputs": [],
   "source": [
    "def df_to_X_y(df, window_size=5):\n",
    "    df_as_np = df.to_numpy() # converts the dataframe to a numpy array\n",
    "    #Initialized  arrays to append X and Y values \n",
    "    X = []\n",
    "    y = []\n",
    "    for i in range(len(df_as_np)-window_size):\n",
    "        #Takes values from i to i + win size\n",
    "        row = [[a] for a in df_as_np[i:i+window_size]]\n",
    "        X.append(row)\n",
    "        #The final output\n",
    "        label = df_as_np[i+window_size]\n",
    "        y.append(label)\n",
    "        \n",
    "    return np.array(X), np.array(y)"
   ]
  },
  {
   "cell_type": "code",
   "execution_count": 210,
   "id": "576cc8ed",
   "metadata": {},
   "outputs": [
    {
     "data": {
      "text/plain": [
       "((115629, 5, 1, 5), (115629, 5))"
      ]
     },
     "execution_count": 210,
     "metadata": {},
     "output_type": "execute_result"
    }
   ],
   "source": [
    "X2, y2 = df_to_X_y(RadonDf)\n",
    "X2.shape, y2.shape"
   ]
  },
  {
   "cell_type": "code",
   "execution_count": 211,
   "id": "db6896ca",
   "metadata": {},
   "outputs": [
    {
     "ename": "NameError",
     "evalue": "name 'X1' is not defined",
     "output_type": "error",
     "traceback": [
      "\u001b[1;31m---------------------------------------------------------------------------\u001b[0m",
      "\u001b[1;31mNameError\u001b[0m                                 Traceback (most recent call last)",
      "Input \u001b[1;32mIn [211]\u001b[0m, in \u001b[0;36m<cell line: 1>\u001b[1;34m()\u001b[0m\n\u001b[1;32m----> 1\u001b[0m X_train, y_train \u001b[38;5;241m=\u001b[39m \u001b[43mX1\u001b[49m[:\u001b[38;5;241m92508\u001b[39m], y1[:\u001b[38;5;241m92508\u001b[39m] \u001b[38;5;66;03m# training data\u001b[39;00m\n\u001b[0;32m      2\u001b[0m X_val, y_val \u001b[38;5;241m=\u001b[39m X1[\u001b[38;5;241m92508\u001b[39m:\u001b[38;5;241m95508\u001b[39m], y1[\u001b[38;5;241m92508\u001b[39m:\u001b[38;5;241m95508\u001b[39m] \u001b[38;5;66;03m#validation\u001b[39;00m\n\u001b[0;32m      3\u001b[0m X_test, y_test \u001b[38;5;241m=\u001b[39m X1[\u001b[38;5;241m95508\u001b[39m:], y1[\u001b[38;5;241m95508\u001b[39m:] \u001b[38;5;66;03m#test\u001b[39;00m\n",
      "\u001b[1;31mNameError\u001b[0m: name 'X1' is not defined"
     ]
    }
   ],
   "source": [
    "X_train, y_train = X1[:92508], y1[:92508] # training data\n",
    "X_val, y_val = X1[92508:95508], y1[92508:95508] #validation\n",
    "X_test, y_test = X1[95508:], y1[95508:] #test\n",
    "X_train.shape, y_train.shape, X_val.shape, y_val.shape, X_test.shape, y_test.shape"
   ]
  },
  {
   "cell_type": "markdown",
   "id": "2e95af6f",
   "metadata": {},
   "source": [
    "<h2> <font color='red'>Convolutional neural network implementation </font> <h2/>  "
   ]
  },
  {
   "cell_type": "code",
   "execution_count": 171,
   "id": "fa8f348d",
   "metadata": {
    "scrolled": true
   },
   "outputs": [
    {
     "name": "stdout",
     "output_type": "stream",
     "text": [
      "Model: \"sequential_4\"\n",
      "_________________________________________________________________\n",
      "Layer (type)                 Output Shape              Param #   \n",
      "=================================================================\n",
      "lstm_4 (LSTM)                (None, 64)                17920     \n",
      "_________________________________________________________________\n",
      "dense_8 (Dense)              (None, 8)                 520       \n",
      "_________________________________________________________________\n",
      "dense_9 (Dense)              (None, 1)                 9         \n",
      "=================================================================\n",
      "Total params: 18,449\n",
      "Trainable params: 18,449\n",
      "Non-trainable params: 0\n",
      "_________________________________________________________________\n"
     ]
    }
   ],
   "source": [
    "model = Sequential()\n",
    "model.add(InputLayer((5, 1)))\n",
    "model.add(Conv1D(64, kernel_size=2))\n",
    "model.add(Flatten())\n",
    "model.add(Dense(8, 'relu'))\n",
    "model.add(Dense(1, 'linear'))\n",
    "\n",
    "model.summary()"
   ]
  },
  {
   "cell_type": "code",
   "execution_count": 172,
   "id": "95ae2666",
   "metadata": {},
   "outputs": [],
   "source": [
    "cp = ModelCheckpoint('convolutionalNN_model/', save_best_only=True)\n",
    "model.compile(loss=MeanSquaredError(), optimizer=Adam(learning_rate=0.0001), metrics=[RootMeanSquaredError(),Accuracy()])"
   ]
  },
  {
   "cell_type": "code",
   "execution_count": 173,
   "id": "23897e4c",
   "metadata": {},
   "outputs": [
    {
     "name": "stdout",
     "output_type": "stream",
     "text": [
      "Epoch 1/10\n",
      "2500/2500 [==============================] - 14s 5ms/step - loss: 1848778.3750 - root_mean_squared_error: 1359.6979 - accuracy: 0.0000e+00 - val_loss: 87324.8359 - val_root_mean_squared_error: 295.5078 - val_accuracy: 0.0000e+00\n"
     ]
    },
    {
     "name": "stderr",
     "output_type": "stream",
     "text": [
      "WARNING:absl:Found untraced functions such as lstm_cell_4_layer_call_fn, lstm_cell_4_layer_call_and_return_conditional_losses, lstm_cell_4_layer_call_fn, lstm_cell_4_layer_call_and_return_conditional_losses, lstm_cell_4_layer_call_and_return_conditional_losses while saving (showing 5 of 5). These functions will not be directly callable after loading.\n"
     ]
    },
    {
     "name": "stdout",
     "output_type": "stream",
     "text": [
      "INFO:tensorflow:Assets written to: model4\\assets\n"
     ]
    },
    {
     "name": "stderr",
     "output_type": "stream",
     "text": [
      "INFO:tensorflow:Assets written to: model4\\assets\n"
     ]
    },
    {
     "name": "stdout",
     "output_type": "stream",
     "text": [
      "Epoch 2/10\n",
      "2500/2500 [==============================] - 12s 5ms/step - loss: 1749762.5000 - root_mean_squared_error: 1322.7859 - accuracy: 0.0000e+00 - val_loss: 62616.5430 - val_root_mean_squared_error: 250.2330 - val_accuracy: 0.0000e+0074973.8750 - root_mean_squared_error: 1332.2815 - accuracy: 0.0000e+ - ETA: 2s - loss: 1776841.3750 - root_mean_squared_err - ETA: 1s - loss: 1754639.1250 - root_mean_squared_error: 1324.6279 \n"
     ]
    },
    {
     "name": "stderr",
     "output_type": "stream",
     "text": [
      "WARNING:absl:Found untraced functions such as lstm_cell_4_layer_call_fn, lstm_cell_4_layer_call_and_return_conditional_losses, lstm_cell_4_layer_call_fn, lstm_cell_4_layer_call_and_return_conditional_losses, lstm_cell_4_layer_call_and_return_conditional_losses while saving (showing 5 of 5). These functions will not be directly callable after loading.\n"
     ]
    },
    {
     "name": "stdout",
     "output_type": "stream",
     "text": [
      "INFO:tensorflow:Assets written to: model4\\assets\n"
     ]
    },
    {
     "name": "stderr",
     "output_type": "stream",
     "text": [
      "INFO:tensorflow:Assets written to: model4\\assets\n"
     ]
    },
    {
     "name": "stdout",
     "output_type": "stream",
     "text": [
      "Epoch 3/10\n",
      "2500/2500 [==============================] - 16s 6ms/step - loss: 1627072.3750 - root_mean_squared_error: 1275.5675 - accuracy: 0.0000e+00 - val_loss: 39544.5039 - val_root_mean_squared_error: 198.8580 - val_accuracy: 0.0000e+00500 - root_mean_squared_error:\n"
     ]
    },
    {
     "name": "stderr",
     "output_type": "stream",
     "text": [
      "WARNING:absl:Found untraced functions such as lstm_cell_4_layer_call_fn, lstm_cell_4_layer_call_and_return_conditional_losses, lstm_cell_4_layer_call_fn, lstm_cell_4_layer_call_and_return_conditional_losses, lstm_cell_4_layer_call_and_return_conditional_losses while saving (showing 5 of 5). These functions will not be directly callable after loading.\n"
     ]
    },
    {
     "name": "stdout",
     "output_type": "stream",
     "text": [
      "INFO:tensorflow:Assets written to: model4\\assets\n"
     ]
    },
    {
     "name": "stderr",
     "output_type": "stream",
     "text": [
      "INFO:tensorflow:Assets written to: model4\\assets\n"
     ]
    },
    {
     "name": "stdout",
     "output_type": "stream",
     "text": [
      "Epoch 4/10\n",
      "2500/2500 [==============================] - 14s 6ms/step - loss: 1490106.0000 - root_mean_squared_error: 1220.6990 - accuracy: 0.0000e+00 - val_loss: 22269.0020 - val_root_mean_squared_error: 149.2280 - val_accuracy: 0.0000e+00\n"
     ]
    },
    {
     "name": "stderr",
     "output_type": "stream",
     "text": [
      "WARNING:absl:Found untraced functions such as lstm_cell_4_layer_call_fn, lstm_cell_4_layer_call_and_return_conditional_losses, lstm_cell_4_layer_call_fn, lstm_cell_4_layer_call_and_return_conditional_losses, lstm_cell_4_layer_call_and_return_conditional_losses while saving (showing 5 of 5). These functions will not be directly callable after loading.\n"
     ]
    },
    {
     "name": "stdout",
     "output_type": "stream",
     "text": [
      "INFO:tensorflow:Assets written to: model4\\assets\n"
     ]
    },
    {
     "name": "stderr",
     "output_type": "stream",
     "text": [
      "INFO:tensorflow:Assets written to: model4\\assets\n"
     ]
    },
    {
     "name": "stdout",
     "output_type": "stream",
     "text": [
      "Epoch 5/10\n",
      "2500/2500 [==============================] - 13s 5ms/step - loss: 1343842.2500 - root_mean_squared_error: 1159.2421 - accuracy: 0.0000e+00 - val_loss: 12819.1973 - val_root_mean_squared_error: 113.2219 - val_accuracy: 0.0000e+00\n"
     ]
    },
    {
     "name": "stderr",
     "output_type": "stream",
     "text": [
      "WARNING:absl:Found untraced functions such as lstm_cell_4_layer_call_fn, lstm_cell_4_layer_call_and_return_conditional_losses, lstm_cell_4_layer_call_fn, lstm_cell_4_layer_call_and_return_conditional_losses, lstm_cell_4_layer_call_and_return_conditional_losses while saving (showing 5 of 5). These functions will not be directly callable after loading.\n"
     ]
    },
    {
     "name": "stdout",
     "output_type": "stream",
     "text": [
      "INFO:tensorflow:Assets written to: model4\\assets\n"
     ]
    },
    {
     "name": "stderr",
     "output_type": "stream",
     "text": [
      "INFO:tensorflow:Assets written to: model4\\assets\n"
     ]
    },
    {
     "name": "stdout",
     "output_type": "stream",
     "text": [
      "Epoch 6/10\n",
      "2500/2500 [==============================] - 11s 5ms/step - loss: 1192275.5000 - root_mean_squared_error: 1091.9137 - accuracy: 0.0000e+00 - val_loss: 9392.4180 - val_root_mean_squared_error: 96.9145 - val_accuracy: 0.0000e+00ra - ETA: 0s - loss: 1194155.3750 - root_mean_squared_error: 1092.7742 - accuracy: 0.0000e+0 - ETA: 0s - loss: 1193026.7500 - root_mean_squared_error: 1092.2577 - accuracy: 0.0000e+\n"
     ]
    },
    {
     "name": "stderr",
     "output_type": "stream",
     "text": [
      "WARNING:absl:Found untraced functions such as lstm_cell_4_layer_call_fn, lstm_cell_4_layer_call_and_return_conditional_losses, lstm_cell_4_layer_call_fn, lstm_cell_4_layer_call_and_return_conditional_losses, lstm_cell_4_layer_call_and_return_conditional_losses while saving (showing 5 of 5). These functions will not be directly callable after loading.\n"
     ]
    },
    {
     "name": "stdout",
     "output_type": "stream",
     "text": [
      "INFO:tensorflow:Assets written to: model4\\assets\n"
     ]
    },
    {
     "name": "stderr",
     "output_type": "stream",
     "text": [
      "INFO:tensorflow:Assets written to: model4\\assets\n"
     ]
    },
    {
     "name": "stdout",
     "output_type": "stream",
     "text": [
      "Epoch 7/10\n",
      "2500/2500 [==============================] - 11s 5ms/step - loss: 1039123.8750 - root_mean_squared_error: 1019.3743 - accuracy: 0.0000e+00 - val_loss: 8089.4746 - val_root_mean_squared_error: 89.9415 - val_accuracy: 0.0000e+006204.3750 - root_mean_squared_error: 1042.2113 - accuracy: 0.00 - ETA: 6s - loss: 1086957.5000 - root_mean_squared_error: 1042.5725 - accuracy:  - ETA: 5s - loss: 1 - ETA: 1s - loss: 1050143.7500 - root_mean_squared_error: 1024.7653\n"
     ]
    },
    {
     "name": "stderr",
     "output_type": "stream",
     "text": [
      "WARNING:absl:Found untraced functions such as lstm_cell_4_layer_call_fn, lstm_cell_4_layer_call_and_return_conditional_losses, lstm_cell_4_layer_call_fn, lstm_cell_4_layer_call_and_return_conditional_losses, lstm_cell_4_layer_call_and_return_conditional_losses while saving (showing 5 of 5). These functions will not be directly callable after loading.\n"
     ]
    },
    {
     "name": "stdout",
     "output_type": "stream",
     "text": [
      "INFO:tensorflow:Assets written to: model4\\assets\n"
     ]
    },
    {
     "name": "stderr",
     "output_type": "stream",
     "text": [
      "INFO:tensorflow:Assets written to: model4\\assets\n"
     ]
    },
    {
     "name": "stdout",
     "output_type": "stream",
     "text": [
      "Epoch 8/10\n",
      "2500/2500 [==============================] - 11s 4ms/step - loss: 884845.4375 - root_mean_squared_error: 940.6622 - accuracy: 0.0000e+00 - val_loss: 7775.5703 - val_root_mean_squared_error: 88.1792 - val_accuracy: 0.0000e+00\n"
     ]
    },
    {
     "name": "stderr",
     "output_type": "stream",
     "text": [
      "WARNING:absl:Found untraced functions such as lstm_cell_4_layer_call_fn, lstm_cell_4_layer_call_and_return_conditional_losses, lstm_cell_4_layer_call_fn, lstm_cell_4_layer_call_and_return_conditional_losses, lstm_cell_4_layer_call_and_return_conditional_losses while saving (showing 5 of 5). These functions will not be directly callable after loading.\n"
     ]
    },
    {
     "name": "stdout",
     "output_type": "stream",
     "text": [
      "INFO:tensorflow:Assets written to: model4\\assets\n"
     ]
    },
    {
     "name": "stderr",
     "output_type": "stream",
     "text": [
      "INFO:tensorflow:Assets written to: model4\\assets\n"
     ]
    },
    {
     "name": "stdout",
     "output_type": "stream",
     "text": [
      "Epoch 9/10\n",
      "2500/2500 [==============================] - 13s 5ms/step - loss: 730828.0000 - root_mean_squared_error: 854.8848 - accuracy: 0.0000e+00 - val_loss: 7824.0986 - val_root_mean_squared_error: 88.4539 - val_accuracy: 0.0000e+00\n",
      "Epoch 10/10\n",
      "2500/2500 [==============================] - 11s 5ms/step - loss: 585294.7500 - root_mean_squared_error: 765.0456 - accuracy: 0.0000e+00 - val_loss: 8147.3208 - val_root_mean_squared_error: 90.2625 - val_accuracy: 0.0000e+00 loss: \n"
     ]
    },
    {
     "data": {
      "text/plain": [
       "<keras.callbacks.History at 0x225293a0400>"
      ]
     },
     "execution_count": 173,
     "metadata": {},
     "output_type": "execute_result"
    }
   ],
   "source": [
    "model.fit(X_train, y_train, validation_data=(X_val, y_val), epochs=10, callbacks=[cp])"
   ]
  },
  {
   "cell_type": "code",
   "execution_count": null,
   "id": "b880aefa",
   "metadata": {},
   "outputs": [],
   "source": [
    "model = load_model('convolutionalNN_model/')"
   ]
  },
  {
   "cell_type": "code",
   "execution_count": 110,
   "id": "67d0f69d",
   "metadata": {},
   "outputs": [
    {
     "data": {
      "text/html": [
       "<div>\n",
       "<style scoped>\n",
       "    .dataframe tbody tr th:only-of-type {\n",
       "        vertical-align: middle;\n",
       "    }\n",
       "\n",
       "    .dataframe tbody tr th {\n",
       "        vertical-align: top;\n",
       "    }\n",
       "\n",
       "    .dataframe thead th {\n",
       "        text-align: right;\n",
       "    }\n",
       "</style>\n",
       "<table border=\"1\" class=\"dataframe\">\n",
       "  <thead>\n",
       "    <tr style=\"text-align: right;\">\n",
       "      <th></th>\n",
       "      <th>Train Predictions</th>\n",
       "      <th>Actuals</th>\n",
       "    </tr>\n",
       "  </thead>\n",
       "  <tbody>\n",
       "    <tr>\n",
       "      <th>0</th>\n",
       "      <td>1621.464844</td>\n",
       "      <td>1585.713833</td>\n",
       "    </tr>\n",
       "    <tr>\n",
       "      <th>1</th>\n",
       "      <td>1432.152832</td>\n",
       "      <td>1585.713833</td>\n",
       "    </tr>\n",
       "    <tr>\n",
       "      <th>2</th>\n",
       "      <td>1507.250488</td>\n",
       "      <td>1585.713833</td>\n",
       "    </tr>\n",
       "    <tr>\n",
       "      <th>3</th>\n",
       "      <td>1512.794312</td>\n",
       "      <td>1585.713833</td>\n",
       "    </tr>\n",
       "    <tr>\n",
       "      <th>4</th>\n",
       "      <td>1509.615967</td>\n",
       "      <td>1389.856833</td>\n",
       "    </tr>\n",
       "    <tr>\n",
       "      <th>...</th>\n",
       "      <td>...</td>\n",
       "      <td>...</td>\n",
       "    </tr>\n",
       "    <tr>\n",
       "      <th>92503</th>\n",
       "      <td>512.593018</td>\n",
       "      <td>520.113636</td>\n",
       "    </tr>\n",
       "    <tr>\n",
       "      <th>92504</th>\n",
       "      <td>545.527283</td>\n",
       "      <td>513.676667</td>\n",
       "    </tr>\n",
       "    <tr>\n",
       "      <th>92505</th>\n",
       "      <td>526.451172</td>\n",
       "      <td>446.956667</td>\n",
       "    </tr>\n",
       "    <tr>\n",
       "      <th>92506</th>\n",
       "      <td>441.152649</td>\n",
       "      <td>496.132727</td>\n",
       "    </tr>\n",
       "    <tr>\n",
       "      <th>92507</th>\n",
       "      <td>522.738037</td>\n",
       "      <td>433.941667</td>\n",
       "    </tr>\n",
       "  </tbody>\n",
       "</table>\n",
       "<p>92508 rows × 2 columns</p>\n",
       "</div>"
      ],
      "text/plain": [
       "       Train Predictions      Actuals\n",
       "0            1621.464844  1585.713833\n",
       "1            1432.152832  1585.713833\n",
       "2            1507.250488  1585.713833\n",
       "3            1512.794312  1585.713833\n",
       "4            1509.615967  1389.856833\n",
       "...                  ...          ...\n",
       "92503         512.593018   520.113636\n",
       "92504         545.527283   513.676667\n",
       "92505         526.451172   446.956667\n",
       "92506         441.152649   496.132727\n",
       "92507         522.738037   433.941667\n",
       "\n",
       "[92508 rows x 2 columns]"
      ]
     },
     "execution_count": 110,
     "metadata": {},
     "output_type": "execute_result"
    }
   ],
   "source": [
    "train_predictions = model.predict(X_train).flatten()\n",
    "train_results = pd.DataFrame(data={'Train Predictions':train_predictions, 'Actuals':y_train})\n",
    "train_results"
   ]
  },
  {
   "cell_type": "code",
   "execution_count": 111,
   "id": "0ec63423",
   "metadata": {},
   "outputs": [
    {
     "data": {
      "text/plain": [
       "[<matplotlib.lines.Line2D at 0x1c366772f70>]"
      ]
     },
     "execution_count": 111,
     "metadata": {},
     "output_type": "execute_result"
    },
    {
     "data": {
      "image/png": "[encoded data removed]",
      "text/plain": [
       "<Figure size 432x288 with 1 Axes>"
      ]
     },
     "metadata": {
      "needs_background": "light"
     },
     "output_type": "display_data"
    }
   ],
   "source": [
    "plt.plot(train_results['Train Predictions'][50:100])\n",
    "plt.plot(train_results['Actuals'][50:100])"
   ]
  },
  {
   "cell_type": "code",
   "execution_count": 112,
   "id": "3f20f3ff",
   "metadata": {},
   "outputs": [
    {
     "data": {
      "text/html": [
       "<div>\n",
       "<style scoped>\n",
       "    .dataframe tbody tr th:only-of-type {\n",
       "        vertical-align: middle;\n",
       "    }\n",
       "\n",
       "    .dataframe tbody tr th {\n",
       "        vertical-align: top;\n",
       "    }\n",
       "\n",
       "    .dataframe thead th {\n",
       "        text-align: right;\n",
       "    }\n",
       "</style>\n",
       "<table border=\"1\" class=\"dataframe\">\n",
       "  <thead>\n",
       "    <tr style=\"text-align: right;\">\n",
       "      <th></th>\n",
       "      <th>Val Predictions</th>\n",
       "      <th>Actuals</th>\n",
       "    </tr>\n",
       "  </thead>\n",
       "  <tbody>\n",
       "    <tr>\n",
       "      <th>0</th>\n",
       "      <td>445.978546</td>\n",
       "      <td>443.391667</td>\n",
       "    </tr>\n",
       "    <tr>\n",
       "      <th>1</th>\n",
       "      <td>462.834656</td>\n",
       "      <td>469.725455</td>\n",
       "    </tr>\n",
       "    <tr>\n",
       "      <th>2</th>\n",
       "      <td>489.233459</td>\n",
       "      <td>438.566667</td>\n",
       "    </tr>\n",
       "    <tr>\n",
       "      <th>3</th>\n",
       "      <td>449.711151</td>\n",
       "      <td>419.945000</td>\n",
       "    </tr>\n",
       "    <tr>\n",
       "      <th>4</th>\n",
       "      <td>433.283112</td>\n",
       "      <td>434.873333</td>\n",
       "    </tr>\n",
       "    <tr>\n",
       "      <th>...</th>\n",
       "      <td>...</td>\n",
       "      <td>...</td>\n",
       "    </tr>\n",
       "    <tr>\n",
       "      <th>2995</th>\n",
       "      <td>581.896790</td>\n",
       "      <td>641.343333</td>\n",
       "    </tr>\n",
       "    <tr>\n",
       "      <th>2996</th>\n",
       "      <td>637.200073</td>\n",
       "      <td>725.873333</td>\n",
       "    </tr>\n",
       "    <tr>\n",
       "      <th>2997</th>\n",
       "      <td>727.342102</td>\n",
       "      <td>740.021818</td>\n",
       "    </tr>\n",
       "    <tr>\n",
       "      <th>2998</th>\n",
       "      <td>732.647339</td>\n",
       "      <td>817.345833</td>\n",
       "    </tr>\n",
       "    <tr>\n",
       "      <th>2999</th>\n",
       "      <td>802.314270</td>\n",
       "      <td>953.915000</td>\n",
       "    </tr>\n",
       "  </tbody>\n",
       "</table>\n",
       "<p>3000 rows × 2 columns</p>\n",
       "</div>"
      ],
      "text/plain": [
       "      Val Predictions     Actuals\n",
       "0          445.978546  443.391667\n",
       "1          462.834656  469.725455\n",
       "2          489.233459  438.566667\n",
       "3          449.711151  419.945000\n",
       "4          433.283112  434.873333\n",
       "...               ...         ...\n",
       "2995       581.896790  641.343333\n",
       "2996       637.200073  725.873333\n",
       "2997       727.342102  740.021818\n",
       "2998       732.647339  817.345833\n",
       "2999       802.314270  953.915000\n",
       "\n",
       "[3000 rows x 2 columns]"
      ]
     },
     "execution_count": 112,
     "metadata": {},
     "output_type": "execute_result"
    }
   ],
   "source": [
    "val_predictions = model1.predict(X_val).flatten()\n",
    "val_results = pd.DataFrame(data={'Val Predictions':val_predictions, 'Actuals':y_val})\n",
    "val_results"
   ]
  },
  {
   "cell_type": "code",
   "execution_count": 113,
   "id": "5ef0d5a7",
   "metadata": {},
   "outputs": [
    {
     "data": {
      "text/plain": [
       "[<matplotlib.lines.Line2D at 0x1c361d94df0>]"
      ]
     },
     "execution_count": 113,
     "metadata": {},
     "output_type": "execute_result"
    },
    {
     "data": {
      "image/png": "[encoded data removed]",
      "text/plain": [
       "<Figure size 432x288 with 1 Axes>"
      ]
     },
     "metadata": {
      "needs_background": "light"
     },
     "output_type": "display_data"
    }
   ],
   "source": [
    "plt.plot(val_results['Val Predictions'][:100])\n",
    "plt.plot(val_results['Actuals'][:100])"
   ]
  },
  {
   "cell_type": "code",
   "execution_count": 114,
   "id": "76d47962",
   "metadata": {},
   "outputs": [
    {
     "data": {
      "text/html": [
       "<div>\n",
       "<style scoped>\n",
       "    .dataframe tbody tr th:only-of-type {\n",
       "        vertical-align: middle;\n",
       "    }\n",
       "\n",
       "    .dataframe tbody tr th {\n",
       "        vertical-align: top;\n",
       "    }\n",
       "\n",
       "    .dataframe thead th {\n",
       "        text-align: right;\n",
       "    }\n",
       "</style>\n",
       "<table border=\"1\" class=\"dataframe\">\n",
       "  <thead>\n",
       "    <tr style=\"text-align: right;\">\n",
       "      <th></th>\n",
       "      <th>Test Predictions</th>\n",
       "      <th>Actuals</th>\n",
       "    </tr>\n",
       "  </thead>\n",
       "  <tbody>\n",
       "    <tr>\n",
       "      <th>0</th>\n",
       "      <td>966.306335</td>\n",
       "      <td>980.766364</td>\n",
       "    </tr>\n",
       "    <tr>\n",
       "      <th>1</th>\n",
       "      <td>948.918457</td>\n",
       "      <td>862.405000</td>\n",
       "    </tr>\n",
       "    <tr>\n",
       "      <th>2</th>\n",
       "      <td>796.465454</td>\n",
       "      <td>841.680000</td>\n",
       "    </tr>\n",
       "    <tr>\n",
       "      <th>3</th>\n",
       "      <td>806.279236</td>\n",
       "      <td>854.633333</td>\n",
       "    </tr>\n",
       "    <tr>\n",
       "      <th>4</th>\n",
       "      <td>823.714844</td>\n",
       "      <td>853.469000</td>\n",
       "    </tr>\n",
       "    <tr>\n",
       "      <th>...</th>\n",
       "      <td>...</td>\n",
       "      <td>...</td>\n",
       "    </tr>\n",
       "    <tr>\n",
       "      <th>20116</th>\n",
       "      <td>621.657654</td>\n",
       "      <td>616.640000</td>\n",
       "    </tr>\n",
       "    <tr>\n",
       "      <th>20117</th>\n",
       "      <td>597.519592</td>\n",
       "      <td>541.380000</td>\n",
       "    </tr>\n",
       "    <tr>\n",
       "      <th>20118</th>\n",
       "      <td>522.419617</td>\n",
       "      <td>544.167273</td>\n",
       "    </tr>\n",
       "    <tr>\n",
       "      <th>20119</th>\n",
       "      <td>542.227234</td>\n",
       "      <td>590.666000</td>\n",
       "    </tr>\n",
       "    <tr>\n",
       "      <th>20120</th>\n",
       "      <td>606.728760</td>\n",
       "      <td>594.030000</td>\n",
       "    </tr>\n",
       "  </tbody>\n",
       "</table>\n",
       "<p>20121 rows × 2 columns</p>\n",
       "</div>"
      ],
      "text/plain": [
       "       Test Predictions     Actuals\n",
       "0            966.306335  980.766364\n",
       "1            948.918457  862.405000\n",
       "2            796.465454  841.680000\n",
       "3            806.279236  854.633333\n",
       "4            823.714844  853.469000\n",
       "...                 ...         ...\n",
       "20116        621.657654  616.640000\n",
       "20117        597.519592  541.380000\n",
       "20118        522.419617  544.167273\n",
       "20119        542.227234  590.666000\n",
       "20120        606.728760  594.030000\n",
       "\n",
       "[20121 rows x 2 columns]"
      ]
     },
     "execution_count": 114,
     "metadata": {},
     "output_type": "execute_result"
    }
   ],
   "source": [
    "test_predictions = model.predict(X_test).flatten()\n",
    "test_results = pd.DataFrame(data={'Test Predictions':test_predictions, 'Actuals':y_test})\n",
    "test_results"
   ]
  },
  {
   "cell_type": "code",
   "execution_count": 110,
   "id": "23e18b62",
   "metadata": {},
   "outputs": [
    {
     "data": {
      "text/html": [
       "<div>\n",
       "<style scoped>\n",
       "    .dataframe tbody tr th:only-of-type {\n",
       "        vertical-align: middle;\n",
       "    }\n",
       "\n",
       "    .dataframe tbody tr th {\n",
       "        vertical-align: top;\n",
       "    }\n",
       "\n",
       "    .dataframe thead th {\n",
       "        text-align: right;\n",
       "    }\n",
       "</style>\n",
       "<table border=\"1\" class=\"dataframe\">\n",
       "  <thead>\n",
       "    <tr style=\"text-align: right;\">\n",
       "      <th></th>\n",
       "      <th>Train Predictions</th>\n",
       "      <th>Actuals</th>\n",
       "    </tr>\n",
       "  </thead>\n",
       "  <tbody>\n",
       "    <tr>\n",
       "      <th>0</th>\n",
       "      <td>1621.464844</td>\n",
       "      <td>1585.713833</td>\n",
       "    </tr>\n",
       "    <tr>\n",
       "      <th>1</th>\n",
       "      <td>1432.152832</td>\n",
       "      <td>1585.713833</td>\n",
       "    </tr>\n",
       "    <tr>\n",
       "      <th>2</th>\n",
       "      <td>1507.250488</td>\n",
       "      <td>1585.713833</td>\n",
       "    </tr>\n",
       "    <tr>\n",
       "      <th>3</th>\n",
       "      <td>1512.794312</td>\n",
       "      <td>1585.713833</td>\n",
       "    </tr>\n",
       "    <tr>\n",
       "      <th>4</th>\n",
       "      <td>1509.615967</td>\n",
       "      <td>1389.856833</td>\n",
       "    </tr>\n",
       "    <tr>\n",
       "      <th>...</th>\n",
       "      <td>...</td>\n",
       "      <td>...</td>\n",
       "    </tr>\n",
       "    <tr>\n",
       "      <th>92503</th>\n",
       "      <td>512.593018</td>\n",
       "      <td>520.113636</td>\n",
       "    </tr>\n",
       "    <tr>\n",
       "      <th>92504</th>\n",
       "      <td>545.527283</td>\n",
       "      <td>513.676667</td>\n",
       "    </tr>\n",
       "    <tr>\n",
       "      <th>92505</th>\n",
       "      <td>526.451172</td>\n",
       "      <td>446.956667</td>\n",
       "    </tr>\n",
       "    <tr>\n",
       "      <th>92506</th>\n",
       "      <td>441.152649</td>\n",
       "      <td>496.132727</td>\n",
       "    </tr>\n",
       "    <tr>\n",
       "      <th>92507</th>\n",
       "      <td>522.738037</td>\n",
       "      <td>433.941667</td>\n",
       "    </tr>\n",
       "  </tbody>\n",
       "</table>\n",
       "<p>92508 rows × 2 columns</p>\n",
       "</div>"
      ],
      "text/plain": [
       "       Train Predictions      Actuals\n",
       "0            1621.464844  1585.713833\n",
       "1            1432.152832  1585.713833\n",
       "2            1507.250488  1585.713833\n",
       "3            1512.794312  1585.713833\n",
       "4            1509.615967  1389.856833\n",
       "...                  ...          ...\n",
       "92503         512.593018   520.113636\n",
       "92504         545.527283   513.676667\n",
       "92505         526.451172   446.956667\n",
       "92506         441.152649   496.132727\n",
       "92507         522.738037   433.941667\n",
       "\n",
       "[92508 rows x 2 columns]"
      ]
     },
     "execution_count": 110,
     "metadata": {},
     "output_type": "execute_result"
    }
   ],
   "source": [
    "train_predictions = model.predict(X_train).flatten()\n",
    "train_results = pd.DataFrame(data={'Train Predictions':train_predictions, 'Actuals':y_train})\n",
    "train_results"
   ]
  },
  {
   "cell_type": "code",
   "execution_count": 111,
   "id": "486f07f5",
   "metadata": {},
   "outputs": [
    {
     "data": {
      "text/plain": [
       "[<matplotlib.lines.Line2D at 0x1c366772f70>]"
      ]
     },
     "execution_count": 111,
     "metadata": {},
     "output_type": "execute_result"
    },
    {
     "data": {
      "image/png": "[encoded data removed]",
      "text/plain": [
       "<Figure size 432x288 with 1 Axes>"
      ]
     },
     "metadata": {
      "needs_background": "light"
     },
     "output_type": "display_data"
    }
   ],
   "source": [
    "plt.plot(train_results['Train Predictions'][50:100])\n",
    "plt.plot(train_results['Actuals'][50:100])"
   ]
  },
  {
   "cell_type": "code",
   "execution_count": 112,
   "id": "163b3de5",
   "metadata": {},
   "outputs": [
    {
     "data": {
      "text/html": [
       "<div>\n",
       "<style scoped>\n",
       "    .dataframe tbody tr th:only-of-type {\n",
       "        vertical-align: middle;\n",
       "    }\n",
       "\n",
       "    .dataframe tbody tr th {\n",
       "        vertical-align: top;\n",
       "    }\n",
       "\n",
       "    .dataframe thead th {\n",
       "        text-align: right;\n",
       "    }\n",
       "</style>\n",
       "<table border=\"1\" class=\"dataframe\">\n",
       "  <thead>\n",
       "    <tr style=\"text-align: right;\">\n",
       "      <th></th>\n",
       "      <th>Val Predictions</th>\n",
       "      <th>Actuals</th>\n",
       "    </tr>\n",
       "  </thead>\n",
       "  <tbody>\n",
       "    <tr>\n",
       "      <th>0</th>\n",
       "      <td>445.978546</td>\n",
       "      <td>443.391667</td>\n",
       "    </tr>\n",
       "    <tr>\n",
       "      <th>1</th>\n",
       "      <td>462.834656</td>\n",
       "      <td>469.725455</td>\n",
       "    </tr>\n",
       "    <tr>\n",
       "      <th>2</th>\n",
       "      <td>489.233459</td>\n",
       "      <td>438.566667</td>\n",
       "    </tr>\n",
       "    <tr>\n",
       "      <th>3</th>\n",
       "      <td>449.711151</td>\n",
       "      <td>419.945000</td>\n",
       "    </tr>\n",
       "    <tr>\n",
       "      <th>4</th>\n",
       "      <td>433.283112</td>\n",
       "      <td>434.873333</td>\n",
       "    </tr>\n",
       "    <tr>\n",
       "      <th>...</th>\n",
       "      <td>...</td>\n",
       "      <td>...</td>\n",
       "    </tr>\n",
       "    <tr>\n",
       "      <th>2995</th>\n",
       "      <td>581.896790</td>\n",
       "      <td>641.343333</td>\n",
       "    </tr>\n",
       "    <tr>\n",
       "      <th>2996</th>\n",
       "      <td>637.200073</td>\n",
       "      <td>725.873333</td>\n",
       "    </tr>\n",
       "    <tr>\n",
       "      <th>2997</th>\n",
       "      <td>727.342102</td>\n",
       "      <td>740.021818</td>\n",
       "    </tr>\n",
       "    <tr>\n",
       "      <th>2998</th>\n",
       "      <td>732.647339</td>\n",
       "      <td>817.345833</td>\n",
       "    </tr>\n",
       "    <tr>\n",
       "      <th>2999</th>\n",
       "      <td>802.314270</td>\n",
       "      <td>953.915000</td>\n",
       "    </tr>\n",
       "  </tbody>\n",
       "</table>\n",
       "<p>3000 rows × 2 columns</p>\n",
       "</div>"
      ],
      "text/plain": [
       "      Val Predictions     Actuals\n",
       "0          445.978546  443.391667\n",
       "1          462.834656  469.725455\n",
       "2          489.233459  438.566667\n",
       "3          449.711151  419.945000\n",
       "4          433.283112  434.873333\n",
       "...               ...         ...\n",
       "2995       581.896790  641.343333\n",
       "2996       637.200073  725.873333\n",
       "2997       727.342102  740.021818\n",
       "2998       732.647339  817.345833\n",
       "2999       802.314270  953.915000\n",
       "\n",
       "[3000 rows x 2 columns]"
      ]
     },
     "execution_count": 112,
     "metadata": {},
     "output_type": "execute_result"
    }
   ],
   "source": [
    "val_predictions = model1.predict(X_val).flatten()\n",
    "val_results = pd.DataFrame(data={'Val Predictions':val_predictions, 'Actuals':y_val})\n",
    "val_results"
   ]
  },
  {
   "cell_type": "code",
   "execution_count": 113,
   "id": "c1a5a726",
   "metadata": {},
   "outputs": [
    {
     "data": {
      "text/plain": [
       "[<matplotlib.lines.Line2D at 0x1c361d94df0>]"
      ]
     },
     "execution_count": 113,
     "metadata": {},
     "output_type": "execute_result"
    },
    {
     "data": {
      "image/png": "[encoded data removed]",
      "text/plain": [
       "<Figure size 432x288 with 1 Axes>"
      ]
     },
     "metadata": {
      "needs_background": "light"
     },
     "output_type": "display_data"
    }
   ],
   "source": [
    "plt.plot(val_results['Val Predictions'][:100])\n",
    "plt.plot(val_results['Actuals'][:100])"
   ]
  },
  {
   "cell_type": "code",
   "execution_count": 114,
   "id": "af5759d8",
   "metadata": {},
   "outputs": [
    {
     "data": {
      "text/html": [
       "<div>\n",
       "<style scoped>\n",
       "    .dataframe tbody tr th:only-of-type {\n",
       "        vertical-align: middle;\n",
       "    }\n",
       "\n",
       "    .dataframe tbody tr th {\n",
       "        vertical-align: top;\n",
       "    }\n",
       "\n",
       "    .dataframe thead th {\n",
       "        text-align: right;\n",
       "    }\n",
       "</style>\n",
       "<table border=\"1\" class=\"dataframe\">\n",
       "  <thead>\n",
       "    <tr style=\"text-align: right;\">\n",
       "      <th></th>\n",
       "      <th>Test Predictions</th>\n",
       "      <th>Actuals</th>\n",
       "    </tr>\n",
       "  </thead>\n",
       "  <tbody>\n",
       "    <tr>\n",
       "      <th>0</th>\n",
       "      <td>966.306335</td>\n",
       "      <td>980.766364</td>\n",
       "    </tr>\n",
       "    <tr>\n",
       "      <th>1</th>\n",
       "      <td>948.918457</td>\n",
       "      <td>862.405000</td>\n",
       "    </tr>\n",
       "    <tr>\n",
       "      <th>2</th>\n",
       "      <td>796.465454</td>\n",
       "      <td>841.680000</td>\n",
       "    </tr>\n",
       "    <tr>\n",
       "      <th>3</th>\n",
       "      <td>806.279236</td>\n",
       "      <td>854.633333</td>\n",
       "    </tr>\n",
       "    <tr>\n",
       "      <th>4</th>\n",
       "      <td>823.714844</td>\n",
       "      <td>853.469000</td>\n",
       "    </tr>\n",
       "    <tr>\n",
       "      <th>...</th>\n",
       "      <td>...</td>\n",
       "      <td>...</td>\n",
       "    </tr>\n",
       "    <tr>\n",
       "      <th>20116</th>\n",
       "      <td>621.657654</td>\n",
       "      <td>616.640000</td>\n",
       "    </tr>\n",
       "    <tr>\n",
       "      <th>20117</th>\n",
       "      <td>597.519592</td>\n",
       "      <td>541.380000</td>\n",
       "    </tr>\n",
       "    <tr>\n",
       "      <th>20118</th>\n",
       "      <td>522.419617</td>\n",
       "      <td>544.167273</td>\n",
       "    </tr>\n",
       "    <tr>\n",
       "      <th>20119</th>\n",
       "      <td>542.227234</td>\n",
       "      <td>590.666000</td>\n",
       "    </tr>\n",
       "    <tr>\n",
       "      <th>20120</th>\n",
       "      <td>606.728760</td>\n",
       "      <td>594.030000</td>\n",
       "    </tr>\n",
       "  </tbody>\n",
       "</table>\n",
       "<p>20121 rows × 2 columns</p>\n",
       "</div>"
      ],
      "text/plain": [
       "       Test Predictions     Actuals\n",
       "0            966.306335  980.766364\n",
       "1            948.918457  862.405000\n",
       "2            796.465454  841.680000\n",
       "3            806.279236  854.633333\n",
       "4            823.714844  853.469000\n",
       "...                 ...         ...\n",
       "20116        621.657654  616.640000\n",
       "20117        597.519592  541.380000\n",
       "20118        522.419617  544.167273\n",
       "20119        542.227234  590.666000\n",
       "20120        606.728760  594.030000\n",
       "\n",
       "[20121 rows x 2 columns]"
      ]
     },
     "execution_count": 114,
     "metadata": {},
     "output_type": "execute_result"
    }
   ],
   "source": [
    "test_predictions = model.predict(X_test).flatten()\n",
    "test_results = pd.DataFrame(data={'Test Predictions':test_predictions, 'Actuals':y_test})\n",
    "test_results"
   ]
  },
  {
   "cell_type": "code",
   "execution_count": 115,
   "id": "a0309ce4",
   "metadata": {},
   "outputs": [
    {
     "data": {
      "text/plain": [
       "[<matplotlib.lines.Line2D at 0x1c3538db0a0>]"
      ]
     },
     "execution_count": 115,
     "metadata": {},
     "output_type": "execute_result"
    },
    {
     "data": {
      "image/png": "[encoded data removed]",
      "text/plain": [
       "<Figure size 432x288 with 1 Axes>"
      ]
     },
     "metadata": {
      "needs_background": "light"
     },
     "output_type": "display_data"
    }
   ],
   "source": [
    "plt.plot(test_results['Test Predictions'][:100])\n",
    "plt.plot(test_results['Actuals'][:100])"
   ]
  },
  {
   "cell_type": "code",
   "execution_count": 115,
   "id": "9f14335e",
   "metadata": {},
   "outputs": [
    {
     "data": {
      "text/plain": [
       "[<matplotlib.lines.Line2D at 0x1c3538db0a0>]"
      ]
     },
     "execution_count": 115,
     "metadata": {},
     "output_type": "execute_result"
    },
    {
     "data": {
      "image/png": "[encoded data removed]",
      "text/plain": [
       "<Figure size 432x288 with 1 Axes>"
      ]
     },
     "metadata": {
      "needs_background": "light"
     },
     "output_type": "display_data"
    }
   ],
   "source": [
    "plt.plot(test_results['Test Predictions'][:100])\n",
    "plt.plot(test_results['Actuals'][:100])"
   ]
  }
 ],
 "metadata": {
  "kernelspec": {
   "display_name": "Python 3 (ipykernel)",
   "language": "python",
   "name": "python3"
  },
  "language_info": {
   "codemirror_mode": {
    "name": "ipython",
    "version": 3
   },
   "file_extension": ".py",
   "mimetype": "text/x-python",
   "name": "python",
   "nbconvert_exporter": "python",
   "pygments_lexer": "ipython3",
   "version": "3.9.12"
  }
 },
 "nbformat": 4,
 "nbformat_minor": 5
}
