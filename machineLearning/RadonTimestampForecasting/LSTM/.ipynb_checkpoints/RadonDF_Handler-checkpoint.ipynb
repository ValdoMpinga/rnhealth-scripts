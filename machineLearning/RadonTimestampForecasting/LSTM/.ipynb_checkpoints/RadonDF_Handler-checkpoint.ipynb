{
 "cells": [
  {
   "cell_type": "code",
   "execution_count": 1,
   "id": "23320110",
   "metadata": {},
   "outputs": [],
   "source": [
    "import tensorflow as tf\n",
    "import os\n",
    "import pandas as pd\n",
    "import numpy as np\n",
    "import pandas as pd\n",
    "import numpy as np\n",
    "from datetime import timezone, datetime\n",
    "import seaborn as sns\n",
    "from matplotlib import pyplot as plt\n",
    "from sklearn.preprocessing import StandardScaler \n",
    "import os\n",
    "from tensorflow.keras.models import Sequential\n",
    "from tensorflow.keras.layers import *\n",
    "from tensorflow.keras.callbacks import ModelCheckpoint\n",
    "from tensorflow.keras.losses import MeanSquaredError\n",
    "from tensorflow.keras.metrics import RootMeanSquaredError,MeanAbsoluteError\n",
    "from tensorflow.keras.metrics import Accuracy\n",
    "from tensorflow.keras.optimizers import Adam\n",
    "from tensorflow.keras.models import load_model\n",
    "\n",
    "os.environ['KMP_DUPLICATE_LIB_OK']='True'\n",
    "import absl.logging\n",
    "absl.logging.set_verbosity(absl.logging.ERROR)"
   ]
  },
  {
   "cell_type": "code",
   "execution_count": null,
   "id": "d93c8038",
   "metadata": {},
   "outputs": [],
   "source": [
    "#Converts the datetime string in iso 8601 format to python datetime format\n",
    "def iso8601ToDatetime():\n",
    "    for i in range(len(dateTimeDf['time'])):\n",
    "        timeContainer  = dateTimeDf['time'][i].replace('.000','')\n",
    "        timeContainer = datetime.strptime(timeContainer, \"%Y-%m-%dT%H:%M:%SZ\")\n",
    "        timeContainer = int(round(timeContainer.timestamp()))\n",
    "        timeContainer = datetime.fromtimestamp(timeContainer)\n",
    "        dateTimeDf['time'][i] = timeContainer"
   ]
  },
  {
   "cell_type": "code",
   "execution_count": null,
   "id": "6f20aa56",
   "metadata": {},
   "outputs": [],
   "source": [
    "#Converts the Df to a numpy array and then extracts the X and y value\n",
    "#on the required format to train the model\n",
    "def df_to_X_y(df, window_size=6):\n",
    "    df_as_np = df.to_numpy() # converts the dataframe to a numpy array\n",
    "    #Initialized  arrays to append X and Y values \n",
    "    X = []\n",
    "    y = []\n",
    "    for i in range(len(df_as_np)):\n",
    "        if((i + 4 + window_size)< len(df_as_np)):\n",
    "            #Takes values from i to i + win size\n",
    "            row =  [r for r in df_as_np[i:i+window_size]]\n",
    "            X.append(row)\n",
    "            #The final output\n",
    "            #print(( i + window_size))\n",
    "            label = df_as_np[i + 4 + window_size ][0]\n",
    "            y.append(label)\n",
    "    return np.array(X), np.array(y)"
   ]
  },
  {
   "cell_type": "code",
   "execution_count": null,
   "id": "4b3a7b8b",
   "metadata": {},
   "outputs": [],
   "source": [
    "class RadonDF_Handler:\n",
    "    imputedMeasurementsDf = pd.read_csv('../../../../../../Data/ProcessedData/KnnImputed/measurementsImputedByKnn.csv')\n",
    "    measurementsDf = pd.read_csv('../../../../../../Data/RawData/rawMeasurementsFilteredBySensors.csv')\n",
    "    \n",
    "    %%time\n",
    "    iso8601ToDatetime()\n",
    "    \n",
    "    measurementsDf = dateTimeDf.join(imputedMeasurementsDf.drop(['day','month','hour'],axis = 1))\n",
    "    measurementsDf.index =measurementsDf['time']\n",
    "    \n",
    "    df =pd.DataFrame( measurementsDf['Rn'])\n",
    "    \n",
    "    df['H'] = measurementsDf['H']\n",
    "    df['CO2'] = measurementsDf['CO2']\n",
    "    df['P'] = measurementsDf['P']\n",
    "    df['T'] = measurementsDf['T']\n",
    "\n",
    "    return X1, y1 = df_to_X_y(df)"
   ]
  }
 ],
 "metadata": {
  "kernelspec": {
   "display_name": "Python 3 (ipykernel)",
   "language": "python",
   "name": "python3"
  },
  "language_info": {
   "codemirror_mode": {
    "name": "ipython",
    "version": 3
   },
   "file_extension": ".py",
   "mimetype": "text/x-python",
   "name": "python",
   "nbconvert_exporter": "python",
   "pygments_lexer": "ipython3",
   "version": "3.9.12"
  }
 },
 "nbformat": 4,
 "nbformat_minor": 5
}
