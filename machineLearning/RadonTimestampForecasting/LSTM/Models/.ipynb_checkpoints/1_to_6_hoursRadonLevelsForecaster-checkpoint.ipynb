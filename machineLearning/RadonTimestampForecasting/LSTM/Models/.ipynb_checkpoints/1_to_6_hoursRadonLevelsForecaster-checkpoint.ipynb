{
 "cells": [
  {
   "cell_type": "code",
   "execution_count": 66,
   "id": "7f9f4567",
   "metadata": {},
   "outputs": [],
   "source": [
    "from tensorflow.keras.models import Sequential\n",
    "from tensorflow.keras.layers import *\n",
    "from tensorflow.keras.callbacks import ModelCheckpoint\n",
    "from tensorflow.keras.losses import MeanSquaredError\n",
    "from tensorflow.keras.metrics import RootMeanSquaredError, MeanAbsoluteError\n",
    "from tensorflow.keras.optimizers import Adam\n",
    "from tensorflow.keras.models import load_model\n",
    "from matplotlib import pyplot as plt\n",
    "import pandas as pd\n",
    "\n",
    "import absl.logging\n",
    "absl.logging.set_verbosity(absl.logging.ERROR)\n",
    "\n",
    "import sys  \n",
    "sys.path.insert(0, '../')\n",
    "import RadonDF_Handler\n",
    "\n",
    "import os\n",
    "os.environ['KMP_DUPLICATE_LIB_OK']='True'"
   ]
  },
  {
   "cell_type": "code",
   "execution_count": 45,
   "id": "f0c981fc",
   "metadata": {
    "scrolled": true
   },
   "outputs": [],
   "source": [
    "X1, y1 = RadonDF_Handler.Handler(1)\n",
    "X2, y2 = RadonDF_Handler.Handler(2)\n",
    "X3, y3 = RadonDF_Handler.Handler(3)\n",
    "X4, y4 = RadonDF_Handler.Handler(4)\n",
    "X5, y5 = RadonDF_Handler.Handler(5)\n",
    "X6, y6 = RadonDF_Handler.Handler(6)"
   ]
  },
  {
   "cell_type": "code",
   "execution_count": 46,
   "id": "fd18434f",
   "metadata": {},
   "outputs": [
    {
     "name": "stdout",
     "output_type": "stream",
     "text": [
      "(115628, 6, 5) (115628,)\n",
      "(115627, 6, 5) (115627,)\n",
      "(115626, 6, 5) (115626,)\n",
      "(115625, 6, 5) (115625,)\n",
      "(115624, 6, 5) (115624,)\n",
      "(115623, 6, 5) (115623,)\n"
     ]
    }
   ],
   "source": [
    "print(X1.shape, y1.shape)\n",
    "print(X2.shape, y2.shape)\n",
    "print(X3.shape, y3.shape)\n",
    "print(X4.shape, y4.shape)\n",
    "print(X5.shape, y5.shape)\n",
    "print(X6.shape, y6.shape)"
   ]
  },
  {
   "cell_type": "code",
   "execution_count": 6,
   "id": "df98512b",
   "metadata": {},
   "outputs": [
    {
     "data": {
      "text/plain": [
       "((92508, 6, 5), (92508,), (3000, 6, 5), (3000,), (20120, 6, 5), (20120,))"
      ]
     },
     "execution_count": 6,
     "metadata": {},
     "output_type": "execute_result"
    }
   ],
   "source": [
    "X1_train, y1_train = X1[:92508], y1[:92508] # training data\n",
    "X1_val, y1_val = X1[92508:95508], y1[92508:95508] #validation\n",
    "X1_test, y1_test = X1[95508:], y1[95508:] #test\n",
    "X1_train.shape, y1_train.shape, X1_val.shape, y1_val.shape, X1_test.shape, y1_test.shape"
   ]
  },
  {
   "cell_type": "code",
   "execution_count": 7,
   "id": "3bbedc71",
   "metadata": {},
   "outputs": [
    {
     "data": {
      "text/plain": [
       "((92508, 6, 5), (92508,), (3000, 6, 5), (3000,), (20119, 6, 5), (20119,))"
      ]
     },
     "execution_count": 7,
     "metadata": {},
     "output_type": "execute_result"
    }
   ],
   "source": [
    "X2_train, y2_train = X2[:92508], y2[:92508] # training data\n",
    "X2_val, y2_val = X2[92508:95508], y2[92508:95508] #validation\n",
    "X2_test, y2_test = X2[95508:], y2[95508:] #test\n",
    "X2_train.shape, y2_train.shape, X2_val.shape, y2_val.shape, X2_test.shape, y2_test.shape"
   ]
  },
  {
   "cell_type": "code",
   "execution_count": 8,
   "id": "27bcb80c",
   "metadata": {},
   "outputs": [
    {
     "data": {
      "text/plain": [
       "((92508, 6, 5), (92508,), (3000, 6, 5), (3000,), (20118, 6, 5), (20118,))"
      ]
     },
     "execution_count": 8,
     "metadata": {},
     "output_type": "execute_result"
    }
   ],
   "source": [
    "X3_train, y3_train = X3[:92508], y3[:92508] # training data\n",
    "X3_val, y3_val = X3[92508:95508], y3[92508:95508] #validation\n",
    "X3_test, y3_test = X3[95508:], y3[95508:] #test\n",
    "X3_train.shape, y3_train.shape, X3_val.shape, y3_val.shape, X3_test.shape, y3_test.shape"
   ]
  },
  {
   "cell_type": "code",
   "execution_count": 9,
   "id": "9c3470a8",
   "metadata": {},
   "outputs": [
    {
     "data": {
      "text/plain": [
       "((92508, 6, 5), (92508,), (3000, 6, 5), (3000,), (20117, 6, 5), (20117,))"
      ]
     },
     "execution_count": 9,
     "metadata": {},
     "output_type": "execute_result"
    }
   ],
   "source": [
    "X4_train, y4_train = X4[:92508], y4[:92508] # training data\n",
    "X4_val, y4_val = X4[92508:95508], y4[92508:95508] #validation\n",
    "X4_test, y4_test = X4[95508:], y4[95508:] #test\n",
    "X4_train.shape, y4_train.shape, X4_val.shape, y4_val.shape, X4_test.shape, y4_test.shape"
   ]
  },
  {
   "cell_type": "code",
   "execution_count": 10,
   "id": "f8cbe4b3",
   "metadata": {},
   "outputs": [
    {
     "data": {
      "text/plain": [
       "((92508, 6, 5), (92508,), (3000, 6, 5), (3000,), (20116, 6, 5), (20116,))"
      ]
     },
     "execution_count": 10,
     "metadata": {},
     "output_type": "execute_result"
    }
   ],
   "source": [
    "X5_train, y5_train = X5[:92508], y5[:92508] # training data\n",
    "X5_val, y5_val = X5[92508:95508], y5[92508:95508] #validation\n",
    "X5_test, y5_test = X5[95508:], y5[95508:] #test\n",
    "X5_train.shape, y5_train.shape, X5_val.shape, y5_val.shape, X5_test.shape, y5_test.shape"
   ]
  },
  {
   "cell_type": "code",
   "execution_count": 11,
   "id": "fd1b4f82",
   "metadata": {},
   "outputs": [
    {
     "data": {
      "text/plain": [
       "((92508, 6, 5), (92508,), (3000, 6, 5), (3000,), (20115, 6, 5), (20115,))"
      ]
     },
     "execution_count": 11,
     "metadata": {},
     "output_type": "execute_result"
    }
   ],
   "source": [
    "X6_train, y6_train = X6[:92508], y6[:92508] # training data\n",
    "X6_val, y6_val = X6[92508:95508], y6[92508:95508] #validation\n",
    "X6_test, y6_test = X6[95508:], y6[95508:] #test\n",
    "X6_train.shape, y6_train.shape, X6_val.shape, y6_val.shape, X6_test.shape, y6_test.shape"
   ]
  },
  {
   "cell_type": "code",
   "execution_count": 12,
   "id": "6f9d0317",
   "metadata": {},
   "outputs": [
    {
     "name": "stdout",
     "output_type": "stream",
     "text": [
      "Model: \"sequential\"\n",
      "_________________________________________________________________\n",
      "Layer (type)                 Output Shape              Param #   \n",
      "=================================================================\n",
      "lstm (LSTM)                  (None, 64)                17920     \n",
      "_________________________________________________________________\n",
      "dense (Dense)                (None, 8)                 520       \n",
      "_________________________________________________________________\n",
      "dense_1 (Dense)              (None, 1)                 9         \n",
      "=================================================================\n",
      "Total params: 18,449\n",
      "Trainable params: 18,449\n",
      "Non-trainable params: 0\n",
      "_________________________________________________________________\n"
     ]
    }
   ],
   "source": [
    "model = Sequential()\n",
    "model.add(InputLayer((6, 5)))\n",
    "model.add(LSTM(64))\n",
    "model.add(Dense(8, 'relu'))\n",
    "model.add(Dense(1, 'linear'))\n",
    "\n",
    "model.summary()"
   ]
  },
  {
   "cell_type": "code",
   "execution_count": 64,
   "id": "c47f88ba",
   "metadata": {},
   "outputs": [],
   "source": [
    "plt.style.use('seaborn')"
   ]
  },
  {
   "cell_type": "markdown",
   "id": "1a32caca",
   "metadata": {},
   "source": [
    " <h1> <font color='red'> Model training </font> <h1/> "
   ]
  },
  {
   "cell_type": "markdown",
   "id": "05d80482",
   "metadata": {},
   "source": [
    " <h3> <font color='orange'> 1 hour forecasting model training </font> <h3/> "
   ]
  },
  {
   "cell_type": "code",
   "execution_count": 67,
   "id": "7372ffa4",
   "metadata": {},
   "outputs": [
    {
     "name": "stdout",
     "output_type": "stream",
     "text": [
      "Epoch 1/25\n",
      "2891/2891 [==============================] - 17s 5ms/step - loss: 33904.2422 - mean_absolute_error: 73.3585 - val_loss: 10478.0488 - val_mean_absolute_error: 62.4014\n",
      "INFO:tensorflow:Assets written to: 1H_ForecastModel\\assets\n"
     ]
    },
    {
     "name": "stderr",
     "output_type": "stream",
     "text": [
      "INFO:tensorflow:Assets written to: 1H_ForecastModel\\assets\n"
     ]
    },
    {
     "name": "stdout",
     "output_type": "stream",
     "text": [
      "Epoch 2/25\n",
      "2891/2891 [==============================] - 15s 5ms/step - loss: 32251.5859 - mean_absolute_error: 69.2586 - val_loss: 11380.7217 - val_mean_absolute_error: 67.4759\n",
      "Epoch 3/25\n",
      "2891/2891 [==============================] - 15s 5ms/step - loss: 32210.8594 - mean_absolute_error: 67.9684 - val_loss: 10695.9092 - val_mean_absolute_error: 63.9312\n",
      "Epoch 4/25\n",
      "2891/2891 [==============================] - 15s 5ms/step - loss: 31825.9551 - mean_absolute_error: 68.7085 - val_loss: 10234.8623 - val_mean_absolute_error: 61.8006\n",
      "INFO:tensorflow:Assets written to: 1H_ForecastModel\\assets\n"
     ]
    },
    {
     "name": "stderr",
     "output_type": "stream",
     "text": [
      "INFO:tensorflow:Assets written to: 1H_ForecastModel\\assets\n"
     ]
    },
    {
     "name": "stdout",
     "output_type": "stream",
     "text": [
      "Epoch 5/25\n",
      "2891/2891 [==============================] - 15s 5ms/step - loss: 31883.8691 - mean_absolute_error: 67.8797 - val_loss: 9512.7363 - val_mean_absolute_error: 58.2577\n",
      "INFO:tensorflow:Assets written to: 1H_ForecastModel\\assets\n"
     ]
    },
    {
     "name": "stderr",
     "output_type": "stream",
     "text": [
      "INFO:tensorflow:Assets written to: 1H_ForecastModel\\assets\n"
     ]
    },
    {
     "name": "stdout",
     "output_type": "stream",
     "text": [
      "Epoch 6/25\n",
      "2891/2891 [==============================] - 15s 5ms/step - loss: 31530.0078 - mean_absolute_error: 66.4782 - val_loss: 10971.5557 - val_mean_absolute_error: 66.1310\n",
      "Epoch 7/25\n",
      "2891/2891 [==============================] - 16s 6ms/step - loss: 31872.0410 - mean_absolute_error: 67.7511 - val_loss: 10550.3242 - val_mean_absolute_error: 63.1092\n",
      "Epoch 8/25\n",
      "2891/2891 [==============================] - 15s 5ms/step - loss: 31251.4980 - mean_absolute_error: 66.3600 - val_loss: 9507.7344 - val_mean_absolute_error: 58.9020\n",
      "INFO:tensorflow:Assets written to: 1H_ForecastModel\\assets\n"
     ]
    },
    {
     "name": "stderr",
     "output_type": "stream",
     "text": [
      "INFO:tensorflow:Assets written to: 1H_ForecastModel\\assets\n"
     ]
    },
    {
     "name": "stdout",
     "output_type": "stream",
     "text": [
      "Epoch 9/25\n",
      "2891/2891 [==============================] - 14s 5ms/step - loss: 31306.7930 - mean_absolute_error: 68.0195 - val_loss: 9491.2637 - val_mean_absolute_error: 56.8378\n",
      "INFO:tensorflow:Assets written to: 1H_ForecastModel\\assets\n"
     ]
    },
    {
     "name": "stderr",
     "output_type": "stream",
     "text": [
      "INFO:tensorflow:Assets written to: 1H_ForecastModel\\assets\n"
     ]
    },
    {
     "name": "stdout",
     "output_type": "stream",
     "text": [
      "Epoch 10/25\n",
      "2891/2891 [==============================] - 15s 5ms/step - loss: 31080.8262 - mean_absolute_error: 66.6552 - val_loss: 10261.8145 - val_mean_absolute_error: 60.2942\n",
      "Epoch 11/25\n",
      "2891/2891 [==============================] - 15s 5ms/step - loss: 31054.1445 - mean_absolute_error: 65.9660 - val_loss: 9330.9248 - val_mean_absolute_error: 57.6821\n",
      "INFO:tensorflow:Assets written to: 1H_ForecastModel\\assets\n"
     ]
    },
    {
     "name": "stderr",
     "output_type": "stream",
     "text": [
      "INFO:tensorflow:Assets written to: 1H_ForecastModel\\assets\n"
     ]
    },
    {
     "name": "stdout",
     "output_type": "stream",
     "text": [
      "Epoch 12/25\n",
      "2891/2891 [==============================] - 15s 5ms/step - loss: 31189.6230 - mean_absolute_error: 66.8251 - val_loss: 10132.8594 - val_mean_absolute_error: 58.6737\n",
      "Epoch 13/25\n",
      "2891/2891 [==============================] - 15s 5ms/step - loss: 31182.1055 - mean_absolute_error: 65.8339 - val_loss: 9376.1660 - val_mean_absolute_error: 57.4076\n",
      "Epoch 14/25\n",
      "2891/2891 [==============================] - 15s 5ms/step - loss: 31031.8809 - mean_absolute_error: 65.4008 - val_loss: 9358.4648 - val_mean_absolute_error: 55.6309\n",
      "Epoch 15/25\n",
      "2891/2891 [==============================] - 15s 5ms/step - loss: 30873.5977 - mean_absolute_error: 65.0174 - val_loss: 10572.3594 - val_mean_absolute_error: 63.2984\n",
      "Epoch 16/25\n",
      "2891/2891 [==============================] - 15s 5ms/step - loss: 30938.7910 - mean_absolute_error: 65.8740 - val_loss: 10340.4512 - val_mean_absolute_error: 60.3398\n",
      "Epoch 17/25\n",
      "2891/2891 [==============================] - 15s 5ms/step - loss: 30730.4492 - mean_absolute_error: 65.5894 - val_loss: 10524.0547 - val_mean_absolute_error: 62.1893\n",
      "Epoch 18/25\n",
      "2891/2891 [==============================] - 15s 5ms/step - loss: 30691.8555 - mean_absolute_error: 65.2551 - val_loss: 9420.9014 - val_mean_absolute_error: 55.2944\n",
      "Epoch 19/25\n",
      "2891/2891 [==============================] - 15s 5ms/step - loss: 30725.3711 - mean_absolute_error: 64.9262 - val_loss: 9496.5293 - val_mean_absolute_error: 57.6698\n",
      "Epoch 20/25\n",
      "2891/2891 [==============================] - 15s 5ms/step - loss: 30693.0293 - mean_absolute_error: 65.6427 - val_loss: 9575.1348 - val_mean_absolute_error: 58.9730\n",
      "Epoch 21/25\n",
      "2891/2891 [==============================] - 15s 5ms/step - loss: 30524.2012 - mean_absolute_error: 65.3521 - val_loss: 9840.0020 - val_mean_absolute_error: 57.4416\n",
      "Epoch 22/25\n",
      "2891/2891 [==============================] - 15s 5ms/step - loss: 30658.0117 - mean_absolute_error: 65.1593 - val_loss: 9351.2324 - val_mean_absolute_error: 55.3285\n",
      "Epoch 23/25\n",
      "2891/2891 [==============================] - 15s 5ms/step - loss: 30699.2676 - mean_absolute_error: 64.7912 - val_loss: 9913.5732 - val_mean_absolute_error: 58.0597\n",
      "Epoch 24/25\n",
      "2891/2891 [==============================] - 15s 5ms/step - loss: 30968.3867 - mean_absolute_error: 66.0383 - val_loss: 9948.5576 - val_mean_absolute_error: 58.9249\n",
      "Epoch 25/25\n",
      "2891/2891 [==============================] - 18s 6ms/step - loss: 30805.4102 - mean_absolute_error: 65.3666 - val_loss: 9522.9355 - val_mean_absolute_error: 58.1218\n"
     ]
    },
    {
     "data": {
      "text/plain": [
       "<keras.callbacks.History at 0x236bf76b880>"
      ]
     },
     "execution_count": 67,
     "metadata": {},
     "output_type": "execute_result"
    }
   ],
   "source": [
    "cp1= ModelCheckpoint('1H_ForecastModel/', save_best_only=True)\n",
    "model.compile(loss=MeanSquaredError(), \n",
    "               optimizer=Adam(learning_rate=0.0001), \n",
    "               metrics=[MeanAbsoluteError()])\n",
    "model.fit(X1_train, y1_train, validation_data=(X1_val, y1_val), epochs=25, callbacks=[cp1])"
   ]
  },
  {
   "cell_type": "code",
   "execution_count": 68,
   "id": "b4d35328",
   "metadata": {},
   "outputs": [],
   "source": [
    "model1 = load_model('1H_ForecastModel/')"
   ]
  },
  {
   "cell_type": "code",
   "execution_count": 69,
   "id": "c1234c90",
   "metadata": {},
   "outputs": [
    {
     "name": "stdout",
     "output_type": "stream",
     "text": [
      "629/629 [==============================] - 2s 3ms/step - loss: 32132.1484 - mean_absolute_error: 67.9242\n"
     ]
    },
    {
     "data": {
      "text/plain": [
       "[32132.1484375, 67.92416381835938]"
      ]
     },
     "execution_count": 69,
     "metadata": {},
     "output_type": "execute_result"
    }
   ],
   "source": [
    "model1.evaluate(X1_test,y1_test)"
   ]
  },
  {
   "cell_type": "code",
   "execution_count": 73,
   "id": "111bfb63",
   "metadata": {},
   "outputs": [],
   "source": [
    "test_predictions1 = model.predict(X1_test).flatten()\n",
    "test_results1 = pd.DataFrame(data={'Test Predictions 1 hour model':test_predictions1, 'Actuals':y1_test})"
   ]
  },
  {
   "cell_type": "code",
   "execution_count": 74,
   "id": "6371771f",
   "metadata": {},
   "outputs": [
    {
     "data": {
      "text/html": [
       "<div>\n",
       "<style scoped>\n",
       "    .dataframe tbody tr th:only-of-type {\n",
       "        vertical-align: middle;\n",
       "    }\n",
       "\n",
       "    .dataframe tbody tr th {\n",
       "        vertical-align: top;\n",
       "    }\n",
       "\n",
       "    .dataframe thead th {\n",
       "        text-align: right;\n",
       "    }\n",
       "</style>\n",
       "<table border=\"1\" class=\"dataframe\">\n",
       "  <thead>\n",
       "    <tr style=\"text-align: right;\">\n",
       "      <th></th>\n",
       "      <th>Test Predictions 1 hour model</th>\n",
       "      <th>Actuals</th>\n",
       "    </tr>\n",
       "  </thead>\n",
       "  <tbody>\n",
       "    <tr>\n",
       "      <th>0</th>\n",
       "      <td>893.412964</td>\n",
       "      <td>862.405000</td>\n",
       "    </tr>\n",
       "    <tr>\n",
       "      <th>1</th>\n",
       "      <td>747.938599</td>\n",
       "      <td>841.680000</td>\n",
       "    </tr>\n",
       "    <tr>\n",
       "      <th>2</th>\n",
       "      <td>818.834351</td>\n",
       "      <td>854.633333</td>\n",
       "    </tr>\n",
       "    <tr>\n",
       "      <th>3</th>\n",
       "      <td>807.484619</td>\n",
       "      <td>853.469000</td>\n",
       "    </tr>\n",
       "    <tr>\n",
       "      <th>4</th>\n",
       "      <td>764.977295</td>\n",
       "      <td>890.230000</td>\n",
       "    </tr>\n",
       "    <tr>\n",
       "      <th>5</th>\n",
       "      <td>690.187256</td>\n",
       "      <td>815.413333</td>\n",
       "    </tr>\n",
       "    <tr>\n",
       "      <th>6</th>\n",
       "      <td>689.314575</td>\n",
       "      <td>811.605455</td>\n",
       "    </tr>\n",
       "    <tr>\n",
       "      <th>7</th>\n",
       "      <td>752.735168</td>\n",
       "      <td>804.932500</td>\n",
       "    </tr>\n",
       "    <tr>\n",
       "      <th>8</th>\n",
       "      <td>727.328186</td>\n",
       "      <td>808.569167</td>\n",
       "    </tr>\n",
       "    <tr>\n",
       "      <th>9</th>\n",
       "      <td>747.706299</td>\n",
       "      <td>822.270909</td>\n",
       "    </tr>\n",
       "    <tr>\n",
       "      <th>10</th>\n",
       "      <td>762.926636</td>\n",
       "      <td>844.027500</td>\n",
       "    </tr>\n",
       "    <tr>\n",
       "      <th>11</th>\n",
       "      <td>787.867126</td>\n",
       "      <td>759.144167</td>\n",
       "    </tr>\n",
       "    <tr>\n",
       "      <th>12</th>\n",
       "      <td>678.641968</td>\n",
       "      <td>758.683333</td>\n",
       "    </tr>\n",
       "    <tr>\n",
       "      <th>13</th>\n",
       "      <td>738.322327</td>\n",
       "      <td>807.364545</td>\n",
       "    </tr>\n",
       "    <tr>\n",
       "      <th>14</th>\n",
       "      <td>771.121460</td>\n",
       "      <td>775.544167</td>\n",
       "    </tr>\n",
       "    <tr>\n",
       "      <th>15</th>\n",
       "      <td>711.503174</td>\n",
       "      <td>849.328333</td>\n",
       "    </tr>\n",
       "    <tr>\n",
       "      <th>16</th>\n",
       "      <td>822.832458</td>\n",
       "      <td>825.800909</td>\n",
       "    </tr>\n",
       "    <tr>\n",
       "      <th>17</th>\n",
       "      <td>750.124695</td>\n",
       "      <td>787.048333</td>\n",
       "    </tr>\n",
       "    <tr>\n",
       "      <th>18</th>\n",
       "      <td>756.592407</td>\n",
       "      <td>830.705000</td>\n",
       "    </tr>\n",
       "    <tr>\n",
       "      <th>19</th>\n",
       "      <td>789.283081</td>\n",
       "      <td>860.884545</td>\n",
       "    </tr>\n",
       "    <tr>\n",
       "      <th>20</th>\n",
       "      <td>813.874573</td>\n",
       "      <td>919.902500</td>\n",
       "    </tr>\n",
       "    <tr>\n",
       "      <th>21</th>\n",
       "      <td>846.643555</td>\n",
       "      <td>858.702500</td>\n",
       "    </tr>\n",
       "    <tr>\n",
       "      <th>22</th>\n",
       "      <td>730.566162</td>\n",
       "      <td>794.506667</td>\n",
       "    </tr>\n",
       "    <tr>\n",
       "      <th>23</th>\n",
       "      <td>759.263245</td>\n",
       "      <td>798.085455</td>\n",
       "    </tr>\n",
       "    <tr>\n",
       "      <th>24</th>\n",
       "      <td>736.005737</td>\n",
       "      <td>772.648333</td>\n",
       "    </tr>\n",
       "    <tr>\n",
       "      <th>25</th>\n",
       "      <td>713.071899</td>\n",
       "      <td>783.946667</td>\n",
       "    </tr>\n",
       "    <tr>\n",
       "      <th>26</th>\n",
       "      <td>735.774353</td>\n",
       "      <td>852.475455</td>\n",
       "    </tr>\n",
       "    <tr>\n",
       "      <th>27</th>\n",
       "      <td>822.579224</td>\n",
       "      <td>843.380833</td>\n",
       "    </tr>\n",
       "    <tr>\n",
       "      <th>28</th>\n",
       "      <td>781.726746</td>\n",
       "      <td>805.082500</td>\n",
       "    </tr>\n",
       "    <tr>\n",
       "      <th>29</th>\n",
       "      <td>759.181519</td>\n",
       "      <td>779.420000</td>\n",
       "    </tr>\n",
       "  </tbody>\n",
       "</table>\n",
       "</div>"
      ],
      "text/plain": [
       "    Test Predictions 1 hour model     Actuals\n",
       "0                      893.412964  862.405000\n",
       "1                      747.938599  841.680000\n",
       "2                      818.834351  854.633333\n",
       "3                      807.484619  853.469000\n",
       "4                      764.977295  890.230000\n",
       "5                      690.187256  815.413333\n",
       "6                      689.314575  811.605455\n",
       "7                      752.735168  804.932500\n",
       "8                      727.328186  808.569167\n",
       "9                      747.706299  822.270909\n",
       "10                     762.926636  844.027500\n",
       "11                     787.867126  759.144167\n",
       "12                     678.641968  758.683333\n",
       "13                     738.322327  807.364545\n",
       "14                     771.121460  775.544167\n",
       "15                     711.503174  849.328333\n",
       "16                     822.832458  825.800909\n",
       "17                     750.124695  787.048333\n",
       "18                     756.592407  830.705000\n",
       "19                     789.283081  860.884545\n",
       "20                     813.874573  919.902500\n",
       "21                     846.643555  858.702500\n",
       "22                     730.566162  794.506667\n",
       "23                     759.263245  798.085455\n",
       "24                     736.005737  772.648333\n",
       "25                     713.071899  783.946667\n",
       "26                     735.774353  852.475455\n",
       "27                     822.579224  843.380833\n",
       "28                     781.726746  805.082500\n",
       "29                     759.181519  779.420000"
      ]
     },
     "execution_count": 74,
     "metadata": {},
     "output_type": "execute_result"
    }
   ],
   "source": [
    "test_results1.head(30)"
   ]
  },
  {
   "cell_type": "code",
   "execution_count": 76,
   "id": "d34d136b",
   "metadata": {},
   "outputs": [
    {
     "data": {
      "text/plain": [
       "<matplotlib.legend.Legend at 0x236c86b4a90>"
      ]
     },
     "execution_count": 76,
     "metadata": {},
     "output_type": "execute_result"
    },
    {
     "data": {
      "image/png": "[encoded data removed]",
      "text/plain": [
       "<Figure size 576x396 with 1 Axes>"
      ]
     },
     "metadata": {},
     "output_type": "display_data"
    }
   ],
   "source": [
    "plt.plot(test_results1['Test Predictions 1 hour model'][:1000])\n",
    "plt.plot(test_results1['Actuals'][:1000])\n",
    "plt.legend(['Test values','Actuals'])"
   ]
  },
  {
   "cell_type": "markdown",
   "id": "37c4c057",
   "metadata": {},
   "source": [
    " <h3> <font color='orange'> 2 hour forecasting model training </font> <h3/> "
   ]
  },
  {
   "cell_type": "code",
   "execution_count": 77,
   "id": "2b77dfa0",
   "metadata": {},
   "outputs": [
    {
     "name": "stdout",
     "output_type": "stream",
     "text": [
      "Epoch 1/25\n",
      "2891/2891 [==============================] - 18s 6ms/step - loss: 54831.4336 - mean_absolute_error: 96.0571 - val_loss: 19267.6719 - val_mean_absolute_error: 89.8546\n",
      "INFO:tensorflow:Assets written to: 2H_ForecastModel\\assets\n"
     ]
    },
    {
     "name": "stderr",
     "output_type": "stream",
     "text": [
      "INFO:tensorflow:Assets written to: 2H_ForecastModel\\assets\n"
     ]
    },
    {
     "name": "stdout",
     "output_type": "stream",
     "text": [
      "Epoch 2/25\n",
      "2891/2891 [==============================] - 15s 5ms/step - loss: 53913.4414 - mean_absolute_error: 96.4282 - val_loss: 24846.9004 - val_mean_absolute_error: 101.6309\n",
      "Epoch 3/25\n",
      "2891/2891 [==============================] - 14s 5ms/step - loss: 54200.8594 - mean_absolute_error: 97.6558 - val_loss: 18767.5547 - val_mean_absolute_error: 84.5749\n",
      "INFO:tensorflow:Assets written to: 2H_ForecastModel\\assets\n"
     ]
    },
    {
     "name": "stderr",
     "output_type": "stream",
     "text": [
      "INFO:tensorflow:Assets written to: 2H_ForecastModel\\assets\n"
     ]
    },
    {
     "name": "stdout",
     "output_type": "stream",
     "text": [
      "Epoch 4/25\n",
      "2891/2891 [==============================] - 13s 5ms/step - loss: 54447.5703 - mean_absolute_error: 98.1069 - val_loss: 18261.4551 - val_mean_absolute_error: 85.7629\n",
      "INFO:tensorflow:Assets written to: 2H_ForecastModel\\assets\n"
     ]
    },
    {
     "name": "stderr",
     "output_type": "stream",
     "text": [
      "INFO:tensorflow:Assets written to: 2H_ForecastModel\\assets\n"
     ]
    },
    {
     "name": "stdout",
     "output_type": "stream",
     "text": [
      "Epoch 5/25\n",
      "2891/2891 [==============================] - 14s 5ms/step - loss: 53703.8242 - mean_absolute_error: 96.8884 - val_loss: 24962.6191 - val_mean_absolute_error: 102.1816\n",
      "Epoch 6/25\n",
      "2891/2891 [==============================] - 17s 6ms/step - loss: 53168.3438 - mean_absolute_error: 96.3537 - val_loss: 20391.9062 - val_mean_absolute_error: 90.9512\n",
      "Epoch 7/25\n",
      "2891/2891 [==============================] - 16s 6ms/step - loss: 52850.6289 - mean_absolute_error: 96.3714 - val_loss: 19054.3262 - val_mean_absolute_error: 88.4691\n",
      "Epoch 8/25\n",
      "2891/2891 [==============================] - 14s 5ms/step - loss: 52743.7383 - mean_absolute_error: 95.7975 - val_loss: 20055.3926 - val_mean_absolute_error: 91.0833\n",
      "Epoch 9/25\n",
      "2891/2891 [==============================] - 14s 5ms/step - loss: 53091.8398 - mean_absolute_error: 96.8533 - val_loss: 19169.3145 - val_mean_absolute_error: 86.5156\n",
      "Epoch 10/25\n",
      "2891/2891 [==============================] - 14s 5ms/step - loss: 52776.4492 - mean_absolute_error: 95.7445 - val_loss: 22845.2676 - val_mean_absolute_error: 97.0702\n",
      "Epoch 11/25\n",
      "2891/2891 [==============================] - 14s 5ms/step - loss: 52964.1211 - mean_absolute_error: 95.5589 - val_loss: 18892.4219 - val_mean_absolute_error: 85.5114\n",
      "Epoch 12/25\n",
      "2891/2891 [==============================] - 14s 5ms/step - loss: 52609.8828 - mean_absolute_error: 96.0962 - val_loss: 21469.7969 - val_mean_absolute_error: 97.6482\n",
      "Epoch 13/25\n",
      "2891/2891 [==============================] - 14s 5ms/step - loss: 53300.5508 - mean_absolute_error: 96.3487 - val_loss: 21015.7207 - val_mean_absolute_error: 96.5508\n",
      "Epoch 14/25\n",
      "2891/2891 [==============================] - 14s 5ms/step - loss: 52700.5898 - mean_absolute_error: 96.0276 - val_loss: 19599.5586 - val_mean_absolute_error: 88.5238\n",
      "Epoch 15/25\n",
      "2891/2891 [==============================] - 14s 5ms/step - loss: 52832.8828 - mean_absolute_error: 96.9662 - val_loss: 19826.2676 - val_mean_absolute_error: 90.8224\n",
      "Epoch 16/25\n",
      "2891/2891 [==============================] - 14s 5ms/step - loss: 53114.0742 - mean_absolute_error: 95.9395 - val_loss: 19457.3477 - val_mean_absolute_error: 87.5699\n",
      "Epoch 17/25\n",
      "2891/2891 [==============================] - 14s 5ms/step - loss: 52554.2188 - mean_absolute_error: 95.3235 - val_loss: 21301.7461 - val_mean_absolute_error: 94.9223\n",
      "Epoch 18/25\n",
      "2891/2891 [==============================] - 14s 5ms/step - loss: 52939.2695 - mean_absolute_error: 95.5319 - val_loss: 19662.1777 - val_mean_absolute_error: 86.3838\n",
      "Epoch 19/25\n",
      "2891/2891 [==============================] - 14s 5ms/step - loss: 52233.0234 - mean_absolute_error: 94.7914 - val_loss: 19275.6035 - val_mean_absolute_error: 86.1756\n",
      "Epoch 20/25\n",
      "2891/2891 [==============================] - 14s 5ms/step - loss: 52184.2344 - mean_absolute_error: 94.3406 - val_loss: 21435.3633 - val_mean_absolute_error: 93.7536\n",
      "Epoch 21/25\n",
      "2891/2891 [==============================] - 14s 5ms/step - loss: 52299.2344 - mean_absolute_error: 95.1782 - val_loss: 20161.6582 - val_mean_absolute_error: 91.0343\n",
      "Epoch 22/25\n",
      "2891/2891 [==============================] - 14s 5ms/step - loss: 52277.0547 - mean_absolute_error: 94.6735 - val_loss: 20671.1035 - val_mean_absolute_error: 92.8452\n",
      "Epoch 23/25\n",
      "2891/2891 [==============================] - 14s 5ms/step - loss: 52159.7500 - mean_absolute_error: 94.8531 - val_loss: 20298.5703 - val_mean_absolute_error: 89.3738\n",
      "Epoch 24/25\n",
      "2891/2891 [==============================] - 14s 5ms/step - loss: 52006.9102 - mean_absolute_error: 94.7879 - val_loss: 21316.4062 - val_mean_absolute_error: 93.8544\n",
      "Epoch 25/25\n",
      "2891/2891 [==============================] - 14s 5ms/step - loss: 52043.9961 - mean_absolute_error: 95.4022 - val_loss: 20062.4609 - val_mean_absolute_error: 90.9815\n"
     ]
    },
    {
     "data": {
      "text/plain": [
       "<keras.callbacks.History at 0x236cfae4d90>"
      ]
     },
     "execution_count": 77,
     "metadata": {},
     "output_type": "execute_result"
    }
   ],
   "source": [
    "cp2= ModelCheckpoint('2H_ForecastModel/', save_best_only=True)\n",
    "model.compile(loss=MeanSquaredError(), \n",
    "               optimizer=Adam(learning_rate=0.0001), \n",
    "               metrics=[MeanAbsoluteError()])\n",
    "               #metrics=[MeanAbsoluteError()])\n",
    "model.fit(X2_train, y2_train, validation_data=(X2_val, y2_val), epochs=25, callbacks=[cp2])"
   ]
  },
  {
   "cell_type": "code",
   "execution_count": null,
   "id": "84f5daa0",
   "metadata": {},
   "outputs": [],
   "source": []
  },
  {
   "cell_type": "code",
   "execution_count": null,
   "id": "acbd08df",
   "metadata": {},
   "outputs": [],
   "source": []
  },
  {
   "cell_type": "code",
   "execution_count": null,
   "id": "6937f5e1",
   "metadata": {},
   "outputs": [],
   "source": []
  },
  {
   "cell_type": "code",
   "execution_count": null,
   "id": "cde11bc1",
   "metadata": {},
   "outputs": [],
   "source": []
  },
  {
   "cell_type": "markdown",
   "id": "1521acda",
   "metadata": {},
   "source": [
    " <h3> <font color='orange'> 3 hour forecasting model training </font> <h3/> "
   ]
  },
  {
   "cell_type": "code",
   "execution_count": 78,
   "id": "305ab493",
   "metadata": {},
   "outputs": [
    {
     "name": "stdout",
     "output_type": "stream",
     "text": [
      "Epoch 1/25\n",
      "2891/2891 [==============================] - 17s 5ms/step - loss: 68803.5312 - mean_absolute_error: 115.5359 - val_loss: 35271.7891 - val_mean_absolute_error: 131.0962- loss: 68324.0234\n",
      "INFO:tensorflow:Assets written to: 3H_ForecastModel\\assets\n"
     ]
    },
    {
     "name": "stderr",
     "output_type": "stream",
     "text": [
      "INFO:tensorflow:Assets written to: 3H_ForecastModel\\assets\n"
     ]
    },
    {
     "name": "stdout",
     "output_type": "stream",
     "text": [
      "Epoch 2/25\n",
      "2891/2891 [==============================] - 13s 5ms/step - loss: 67982.8906 - mean_absolute_error: 114.9455 - val_loss: 36570.8203 - val_mean_absolute_error: 127.4773\n",
      "Epoch 3/25\n",
      "2891/2891 [==============================] - 14s 5ms/step - loss: 67917.0781 - mean_absolute_error: 116.3107 - val_loss: 33511.3320 - val_mean_absolute_error: 126.3203\n",
      "INFO:tensorflow:Assets written to: 3H_ForecastModel\\assets\n"
     ]
    },
    {
     "name": "stderr",
     "output_type": "stream",
     "text": [
      "INFO:tensorflow:Assets written to: 3H_ForecastModel\\assets\n"
     ]
    },
    {
     "name": "stdout",
     "output_type": "stream",
     "text": [
      "Epoch 4/25\n",
      "2891/2891 [==============================] - 13s 5ms/step - loss: 68048.9531 - mean_absolute_error: 116.5886 - val_loss: 36857.7266 - val_mean_absolute_error: 137.2179\n",
      "Epoch 5/25\n",
      "2891/2891 [==============================] - 13s 5ms/step - loss: 67177.7969 - mean_absolute_error: 115.2210 - val_loss: 34618.8633 - val_mean_absolute_error: 131.2265\n",
      "Epoch 6/25\n",
      "2891/2891 [==============================] - 13s 5ms/step - loss: 67347.6406 - mean_absolute_error: 114.7029 - val_loss: 37514.9258 - val_mean_absolute_error: 137.2361\n",
      "Epoch 7/25\n",
      "2891/2891 [==============================] - 14s 5ms/step - loss: 67293.6797 - mean_absolute_error: 114.7908 - val_loss: 37651.8008 - val_mean_absolute_error: 134.9312\n",
      "Epoch 8/25\n",
      "2891/2891 [==============================] - 14s 5ms/step - loss: 66697.8359 - mean_absolute_error: 114.8528 - val_loss: 35025.8516 - val_mean_absolute_error: 128.0461\n",
      "Epoch 9/25\n",
      "2891/2891 [==============================] - 13s 5ms/step - loss: 66820.6250 - mean_absolute_error: 114.6196 - val_loss: 43646.9258 - val_mean_absolute_error: 138.4340\n",
      "Epoch 10/25\n",
      "2891/2891 [==============================] - 14s 5ms/step - loss: 66504.7344 - mean_absolute_error: 114.5047 - val_loss: 33914.4141 - val_mean_absolute_error: 128.4828\n",
      "Epoch 11/25\n",
      "2891/2891 [==============================] - 13s 5ms/step - loss: 66360.7812 - mean_absolute_error: 113.7227 - val_loss: 45401.3281 - val_mean_absolute_error: 142.4794\n",
      "Epoch 12/25\n",
      "2891/2891 [==============================] - 14s 5ms/step - loss: 66630.5391 - mean_absolute_error: 113.7399 - val_loss: 36729.2344 - val_mean_absolute_error: 135.0553\n",
      "Epoch 13/25\n",
      "2891/2891 [==============================] - 14s 5ms/step - loss: 66551.0312 - mean_absolute_error: 115.1291 - val_loss: 41100.8867 - val_mean_absolute_error: 145.0480\n",
      "Epoch 14/25\n",
      "2891/2891 [==============================] - 14s 5ms/step - loss: 66393.3438 - mean_absolute_error: 113.8816 - val_loss: 35362.7617 - val_mean_absolute_error: 126.8477\n",
      "Epoch 15/25\n",
      "2891/2891 [==============================] - 13s 5ms/step - loss: 66291.8984 - mean_absolute_error: 113.5313 - val_loss: 31083.2539 - val_mean_absolute_error: 122.6290\n",
      "INFO:tensorflow:Assets written to: 3H_ForecastModel\\assets\n"
     ]
    },
    {
     "name": "stderr",
     "output_type": "stream",
     "text": [
      "INFO:tensorflow:Assets written to: 3H_ForecastModel\\assets\n"
     ]
    },
    {
     "name": "stdout",
     "output_type": "stream",
     "text": [
      "Epoch 16/25\n",
      "2891/2891 [==============================] - 13s 5ms/step - loss: 66351.2734 - mean_absolute_error: 114.2376 - val_loss: 43415.0820 - val_mean_absolute_error: 144.8524\n",
      "Epoch 17/25\n",
      "2891/2891 [==============================] - 14s 5ms/step - loss: 66161.8984 - mean_absolute_error: 114.6000 - val_loss: 38342.6836 - val_mean_absolute_error: 137.3993\n",
      "Epoch 18/25\n",
      "2891/2891 [==============================] - 13s 5ms/step - loss: 66406.7969 - mean_absolute_error: 114.8855 - val_loss: 56965.5234 - val_mean_absolute_error: 154.9095\n",
      "Epoch 19/25\n",
      "2891/2891 [==============================] - 13s 5ms/step - loss: 66427.4375 - mean_absolute_error: 114.9662 - val_loss: 34600.8203 - val_mean_absolute_error: 130.1519\n",
      "Epoch 20/25\n",
      "2891/2891 [==============================] - 13s 5ms/step - loss: 66137.9062 - mean_absolute_error: 114.5188 - val_loss: 39153.1523 - val_mean_absolute_error: 141.4548\n",
      "Epoch 21/25\n",
      "2891/2891 [==============================] - 13s 5ms/step - loss: 66461.9609 - mean_absolute_error: 116.5980 - val_loss: 33973.3125 - val_mean_absolute_error: 128.3889\n",
      "Epoch 22/25\n",
      "2891/2891 [==============================] - 14s 5ms/step - loss: 65799.6953 - mean_absolute_error: 114.1523 - val_loss: 38874.8867 - val_mean_absolute_error: 134.8685\n",
      "Epoch 23/25\n",
      "2891/2891 [==============================] - 13s 5ms/step - loss: 65896.7188 - mean_absolute_error: 114.4436 - val_loss: 31359.2637 - val_mean_absolute_error: 123.1269\n",
      "Epoch 24/25\n",
      "2891/2891 [==============================] - 13s 5ms/step - loss: 65915.8984 - mean_absolute_error: 113.7943 - val_loss: 35865.8203 - val_mean_absolute_error: 129.8321\n",
      "Epoch 25/25\n",
      "2891/2891 [==============================] - 13s 5ms/step - loss: 65895.1250 - mean_absolute_error: 113.8488 - val_loss: 32316.3516 - val_mean_absolute_error: 119.8763\n"
     ]
    },
    {
     "data": {
      "text/plain": [
       "<keras.callbacks.History at 0x236d17418b0>"
      ]
     },
     "execution_count": 78,
     "metadata": {},
     "output_type": "execute_result"
    }
   ],
   "source": [
    "cp3= ModelCheckpoint('3H_ForecastModel/', save_best_only=True)\n",
    "model.compile(loss=MeanSquaredError(), \n",
    "               optimizer=Adam(learning_rate=0.0001), \n",
    "               metrics=[MeanAbsoluteError()])\n",
    "               #metrics=[MeanAbsoluteError()])\n",
    "model.fit(X3_train, y3_train, validation_data=(X3_val, y3_val), epochs=25, callbacks=[cp3])"
   ]
  },
  {
   "cell_type": "code",
   "execution_count": null,
   "id": "871e1e52",
   "metadata": {},
   "outputs": [],
   "source": []
  },
  {
   "cell_type": "code",
   "execution_count": null,
   "id": "2de08065",
   "metadata": {},
   "outputs": [],
   "source": []
  },
  {
   "cell_type": "code",
   "execution_count": null,
   "id": "fffbe647",
   "metadata": {},
   "outputs": [],
   "source": []
  },
  {
   "cell_type": "code",
   "execution_count": null,
   "id": "4040b7b2",
   "metadata": {},
   "outputs": [],
   "source": []
  },
  {
   "cell_type": "markdown",
   "id": "1178032c",
   "metadata": {},
   "source": [
    " <h3> <font color='orange'> 4 hour forecasting model training </font> <h3/> "
   ]
  },
  {
   "cell_type": "code",
   "execution_count": 80,
   "id": "87218b87",
   "metadata": {},
   "outputs": [
    {
     "name": "stdout",
     "output_type": "stream",
     "text": [
      "Epoch 1/25\n",
      "2891/2891 [==============================] - 16s 5ms/step - loss: 75721.4297 - mean_absolute_error: 128.1849 - val_loss: 49461.9375 - val_mean_absolute_error: 153.5156\n",
      "INFO:tensorflow:Assets written to: 4H_ForecastModel\\assets\n"
     ]
    },
    {
     "name": "stderr",
     "output_type": "stream",
     "text": [
      "INFO:tensorflow:Assets written to: 4H_ForecastModel\\assets\n"
     ]
    },
    {
     "name": "stdout",
     "output_type": "stream",
     "text": [
      "Epoch 2/25\n",
      "2891/2891 [==============================] - 13s 4ms/step - loss: 75709.4219 - mean_absolute_error: 127.7693 - val_loss: 66202.0938 - val_mean_absolute_error: 174.9056\n",
      "Epoch 3/25\n",
      "2891/2891 [==============================] - 13s 5ms/step - loss: 75592.4453 - mean_absolute_error: 127.8267 - val_loss: 52529.5078 - val_mean_absolute_error: 165.7300\n",
      "Epoch 4/25\n",
      "2891/2891 [==============================] - 14s 5ms/step - loss: 75665.0781 - mean_absolute_error: 126.3588 - val_loss: 44848.2305 - val_mean_absolute_error: 149.5480\n",
      "INFO:tensorflow:Assets written to: 4H_ForecastModel\\assets\n"
     ]
    },
    {
     "name": "stderr",
     "output_type": "stream",
     "text": [
      "INFO:tensorflow:Assets written to: 4H_ForecastModel\\assets\n"
     ]
    },
    {
     "name": "stdout",
     "output_type": "stream",
     "text": [
      "Epoch 5/25\n",
      "2891/2891 [==============================] - 13s 5ms/step - loss: 75531.8516 - mean_absolute_error: 127.6380 - val_loss: 63467.0508 - val_mean_absolute_error: 171.9091\n",
      "Epoch 6/25\n",
      "2891/2891 [==============================] - 13s 5ms/step - loss: 75635.6484 - mean_absolute_error: 127.2281 - val_loss: 60568.7109 - val_mean_absolute_error: 165.7847\n",
      "Epoch 7/25\n",
      "2891/2891 [==============================] - 13s 5ms/step - loss: 75160.4375 - mean_absolute_error: 127.2184 - val_loss: 45096.6328 - val_mean_absolute_error: 149.0660\n",
      "Epoch 8/25\n",
      "2891/2891 [==============================] - 14s 5ms/step - loss: 75649.4922 - mean_absolute_error: 126.5036 - val_loss: 54276.6133 - val_mean_absolute_error: 159.3191\n",
      "Epoch 9/25\n",
      "2891/2891 [==============================] - 14s 5ms/step - loss: 75397.0000 - mean_absolute_error: 127.3665 - val_loss: 63596.6016 - val_mean_absolute_error: 172.9404\n",
      "Epoch 10/25\n",
      "2891/2891 [==============================] - 13s 5ms/step - loss: 75071.4375 - mean_absolute_error: 126.7646 - val_loss: 54309.2070 - val_mean_absolute_error: 162.7043\n",
      "Epoch 11/25\n",
      "2891/2891 [==============================] - 13s 5ms/step - loss: 75446.3672 - mean_absolute_error: 126.9477 - val_loss: 44946.7266 - val_mean_absolute_error: 147.2184\n",
      "Epoch 12/25\n",
      "2891/2891 [==============================] - 13s 5ms/step - loss: 75314.8359 - mean_absolute_error: 126.7033 - val_loss: 74453.8906 - val_mean_absolute_error: 183.8520\n",
      "Epoch 13/25\n",
      "2891/2891 [==============================] - 14s 5ms/step - loss: 75283.7969 - mean_absolute_error: 127.0316 - val_loss: 60783.5859 - val_mean_absolute_error: 166.4042\n",
      "Epoch 14/25\n",
      "2891/2891 [==============================] - 14s 5ms/step - loss: 75281.2109 - mean_absolute_error: 127.4580 - val_loss: 41547.8086 - val_mean_absolute_error: 140.9627\n",
      "INFO:tensorflow:Assets written to: 4H_ForecastModel\\assets\n"
     ]
    },
    {
     "name": "stderr",
     "output_type": "stream",
     "text": [
      "INFO:tensorflow:Assets written to: 4H_ForecastModel\\assets\n"
     ]
    },
    {
     "name": "stdout",
     "output_type": "stream",
     "text": [
      "Epoch 15/25\n",
      "2891/2891 [==============================] - 13s 5ms/step - loss: 75173.7969 - mean_absolute_error: 126.3758 - val_loss: 50045.3594 - val_mean_absolute_error: 158.0322\n",
      "Epoch 16/25\n",
      "2891/2891 [==============================] - 13s 5ms/step - loss: 75163.4844 - mean_absolute_error: 127.3449 - val_loss: 46855.3711 - val_mean_absolute_error: 155.3880\n",
      "Epoch 17/25\n",
      "2891/2891 [==============================] - 13s 5ms/step - loss: 74927.1484 - mean_absolute_error: 127.2614 - val_loss: 57284.4922 - val_mean_absolute_error: 162.5155\n",
      "Epoch 18/25\n",
      "2891/2891 [==============================] - 14s 5ms/step - loss: 74598.0547 - mean_absolute_error: 127.8833 - val_loss: 56663.7188 - val_mean_absolute_error: 169.9900\n",
      "Epoch 19/25\n",
      "2891/2891 [==============================] - 13s 5ms/step - loss: 75303.8828 - mean_absolute_error: 127.6606 - val_loss: 48940.9297 - val_mean_absolute_error: 159.0770\n",
      "Epoch 20/25\n",
      "2891/2891 [==============================] - 13s 5ms/step - loss: 75232.3125 - mean_absolute_error: 127.7025 - val_loss: 48812.4961 - val_mean_absolute_error: 154.7662\n",
      "Epoch 21/25\n",
      "2891/2891 [==============================] - 13s 5ms/step - loss: 74877.9375 - mean_absolute_error: 126.6965 - val_loss: 51192.4844 - val_mean_absolute_error: 153.7668\n",
      "Epoch 22/25\n",
      "2891/2891 [==============================] - 14s 5ms/step - loss: 75316.1719 - mean_absolute_error: 126.9779 - val_loss: 64344.1719 - val_mean_absolute_error: 178.3562\n",
      "Epoch 23/25\n",
      "2891/2891 [==============================] - 14s 5ms/step - loss: 74645.9453 - mean_absolute_error: 126.0218 - val_loss: 42532.7461 - val_mean_absolute_error: 143.7571\n",
      "Epoch 24/25\n",
      "2891/2891 [==============================] - 13s 5ms/step - loss: 74649.7500 - mean_absolute_error: 126.6657 - val_loss: 47595.6836 - val_mean_absolute_error: 152.8869\n",
      "Epoch 25/25\n",
      "2891/2891 [==============================] - 13s 5ms/step - loss: 75080.3906 - mean_absolute_error: 127.2237 - val_loss: 46779.7422 - val_mean_absolute_error: 150.7838\n"
     ]
    },
    {
     "data": {
      "text/plain": [
       "<keras.callbacks.History at 0x236e8deb400>"
      ]
     },
     "execution_count": 80,
     "metadata": {},
     "output_type": "execute_result"
    }
   ],
   "source": [
    "cp4= ModelCheckpoint('4H_ForecastModel/', save_best_only=True)\n",
    "model.compile(loss=MeanSquaredError(), \n",
    "               optimizer=Adam(learning_rate=0.0001), \n",
    "               metrics=[MeanAbsoluteError()])\n",
    "               #metrics=[MeanAbsoluteError()])\n",
    "model.fit(X4_train, y4_train, validation_data=(X4_val, y4_val), epochs=25, callbacks=[cp4])"
   ]
  },
  {
   "cell_type": "code",
   "execution_count": null,
   "id": "83195c72",
   "metadata": {},
   "outputs": [],
   "source": []
  },
  {
   "cell_type": "code",
   "execution_count": null,
   "id": "76f0c4dc",
   "metadata": {},
   "outputs": [],
   "source": []
  },
  {
   "cell_type": "code",
   "execution_count": null,
   "id": "4310733c",
   "metadata": {},
   "outputs": [],
   "source": []
  },
  {
   "cell_type": "code",
   "execution_count": null,
   "id": "510fb91b",
   "metadata": {},
   "outputs": [],
   "source": []
  },
  {
   "cell_type": "markdown",
   "id": "542cbfb8",
   "metadata": {},
   "source": [
    " <h3> <font color='orange'> 5 hour forecasting model training </font> <h3/> "
   ]
  },
  {
   "cell_type": "code",
   "execution_count": 81,
   "id": "3942d702",
   "metadata": {},
   "outputs": [
    {
     "name": "stdout",
     "output_type": "stream",
     "text": [
      "Epoch 1/25\n",
      "2891/2891 [==============================] - 16s 5ms/step - loss: 85151.3516 - mean_absolute_error: 139.1710 - val_loss: 58776.4688 - val_mean_absolute_error: 168.6021\n",
      "INFO:tensorflow:Assets written to: 5H_ForecastModel\\assets\n"
     ]
    },
    {
     "name": "stderr",
     "output_type": "stream",
     "text": [
      "INFO:tensorflow:Assets written to: 5H_ForecastModel\\assets\n"
     ]
    },
    {
     "name": "stdout",
     "output_type": "stream",
     "text": [
      "Epoch 2/25\n",
      "2891/2891 [==============================] - 13s 5ms/step - loss: 85186.7891 - mean_absolute_error: 140.3457 - val_loss: 73573.9219 - val_mean_absolute_error: 194.7535\n",
      "Epoch 3/25\n",
      "2891/2891 [==============================] - 13s 5ms/step - loss: 84278.0312 - mean_absolute_error: 139.7397 - val_loss: 61033.5938 - val_mean_absolute_error: 184.8909\n",
      "Epoch 4/25\n",
      "2891/2891 [==============================] - 13s 5ms/step - loss: 83641.0859 - mean_absolute_error: 137.9988 - val_loss: 69009.5078 - val_mean_absolute_error: 180.7381\n",
      "Epoch 5/25\n",
      "2891/2891 [==============================] - 13s 5ms/step - loss: 83931.3750 - mean_absolute_error: 139.0726 - val_loss: 67213.7578 - val_mean_absolute_error: 188.1661\n",
      "Epoch 6/25\n",
      "2891/2891 [==============================] - 14s 5ms/step - loss: 84090.2578 - mean_absolute_error: 139.4399 - val_loss: 58633.4883 - val_mean_absolute_error: 175.3478\n",
      "INFO:tensorflow:Assets written to: 5H_ForecastModel\\assets\n"
     ]
    },
    {
     "name": "stderr",
     "output_type": "stream",
     "text": [
      "INFO:tensorflow:Assets written to: 5H_ForecastModel\\assets\n"
     ]
    },
    {
     "name": "stdout",
     "output_type": "stream",
     "text": [
      "Epoch 7/25\n",
      "2891/2891 [==============================] - 13s 5ms/step - loss: 83908.5781 - mean_absolute_error: 139.3132 - val_loss: 70208.6484 - val_mean_absolute_error: 190.3334\n",
      "Epoch 8/25\n",
      "2891/2891 [==============================] - 13s 5ms/step - loss: 83745.6719 - mean_absolute_error: 138.1346 - val_loss: 56378.9453 - val_mean_absolute_error: 168.8537\n",
      "INFO:tensorflow:Assets written to: 5H_ForecastModel\\assets\n"
     ]
    },
    {
     "name": "stderr",
     "output_type": "stream",
     "text": [
      "INFO:tensorflow:Assets written to: 5H_ForecastModel\\assets\n"
     ]
    },
    {
     "name": "stdout",
     "output_type": "stream",
     "text": [
      "Epoch 9/25\n",
      "2891/2891 [==============================] - 13s 5ms/step - loss: 83632.5156 - mean_absolute_error: 137.5503 - val_loss: 89401.1172 - val_mean_absolute_error: 202.4059\n",
      "Epoch 10/25\n",
      "2891/2891 [==============================] - 14s 5ms/step - loss: 83915.5781 - mean_absolute_error: 138.0596 - val_loss: 72639.6719 - val_mean_absolute_error: 186.3517\n",
      "Epoch 11/25\n",
      "2891/2891 [==============================] - 14s 5ms/step - loss: 83473.2578 - mean_absolute_error: 138.3517 - val_loss: 64201.0938 - val_mean_absolute_error: 186.7325\n",
      "Epoch 12/25\n",
      "2891/2891 [==============================] - 14s 5ms/step - loss: 83420.9062 - mean_absolute_error: 137.9076 - val_loss: 67546.1641 - val_mean_absolute_error: 187.3668\n",
      "Epoch 13/25\n",
      "2891/2891 [==============================] - 14s 5ms/step - loss: 83064.9297 - mean_absolute_error: 137.0330 - val_loss: 61011.5898 - val_mean_absolute_error: 176.0240\n",
      "Epoch 14/25\n",
      "2891/2891 [==============================] - 14s 5ms/step - loss: 82803.3672 - mean_absolute_error: 137.3411 - val_loss: 55515.4922 - val_mean_absolute_error: 167.2666\n",
      "INFO:tensorflow:Assets written to: 5H_ForecastModel\\assets\n"
     ]
    },
    {
     "name": "stderr",
     "output_type": "stream",
     "text": [
      "INFO:tensorflow:Assets written to: 5H_ForecastModel\\assets\n"
     ]
    },
    {
     "name": "stdout",
     "output_type": "stream",
     "text": [
      "Epoch 15/25\n",
      "2891/2891 [==============================] - 13s 5ms/step - loss: 83221.9531 - mean_absolute_error: 138.4341 - val_loss: 67194.0859 - val_mean_absolute_error: 180.4648\n",
      "Epoch 16/25\n",
      "2891/2891 [==============================] - 14s 5ms/step - loss: 82841.8047 - mean_absolute_error: 137.2658 - val_loss: 60523.8242 - val_mean_absolute_error: 173.1997\n",
      "Epoch 17/25\n",
      "2891/2891 [==============================] - 14s 5ms/step - loss: 82806.6875 - mean_absolute_error: 136.3954 - val_loss: 71776.8203 - val_mean_absolute_error: 184.0705\n",
      "Epoch 18/25\n",
      "2891/2891 [==============================] - 14s 5ms/step - loss: 82680.3828 - mean_absolute_error: 135.9059 - val_loss: 58295.4492 - val_mean_absolute_error: 167.4285\n",
      "Epoch 19/25\n",
      "2891/2891 [==============================] - 14s 5ms/step - loss: 82393.8359 - mean_absolute_error: 136.8316 - val_loss: 54115.4648 - val_mean_absolute_error: 167.3857\n",
      "INFO:tensorflow:Assets written to: 5H_ForecastModel\\assets\n"
     ]
    },
    {
     "name": "stderr",
     "output_type": "stream",
     "text": [
      "INFO:tensorflow:Assets written to: 5H_ForecastModel\\assets\n"
     ]
    },
    {
     "name": "stdout",
     "output_type": "stream",
     "text": [
      "Epoch 20/25\n",
      "2891/2891 [==============================] - 13s 5ms/step - loss: 82635.1641 - mean_absolute_error: 136.4949 - val_loss: 54082.8203 - val_mean_absolute_error: 167.1576\n",
      "INFO:tensorflow:Assets written to: 5H_ForecastModel\\assets\n"
     ]
    },
    {
     "name": "stderr",
     "output_type": "stream",
     "text": [
      "INFO:tensorflow:Assets written to: 5H_ForecastModel\\assets\n"
     ]
    },
    {
     "name": "stdout",
     "output_type": "stream",
     "text": [
      "Epoch 21/25\n",
      "2891/2891 [==============================] - 13s 5ms/step - loss: 82507.9141 - mean_absolute_error: 136.2337 - val_loss: 55361.8672 - val_mean_absolute_error: 166.9550\n",
      "Epoch 22/25\n",
      "2891/2891 [==============================] - 13s 5ms/step - loss: 82493.9375 - mean_absolute_error: 136.4163 - val_loss: 64293.9375 - val_mean_absolute_error: 175.4979\n",
      "Epoch 23/25\n",
      "2891/2891 [==============================] - 14s 5ms/step - loss: 82647.5938 - mean_absolute_error: 135.7076 - val_loss: 67523.9609 - val_mean_absolute_error: 178.9017\n",
      "Epoch 24/25\n",
      "2891/2891 [==============================] - 14s 5ms/step - loss: 82368.6719 - mean_absolute_error: 136.2557 - val_loss: 65219.4883 - val_mean_absolute_error: 180.5933\n",
      "Epoch 25/25\n",
      "2891/2891 [==============================] - 14s 5ms/step - loss: 82279.0391 - mean_absolute_error: 136.6261 - val_loss: 56673.9023 - val_mean_absolute_error: 169.8088\n"
     ]
    },
    {
     "data": {
      "text/plain": [
       "<keras.callbacks.History at 0x237044db520>"
      ]
     },
     "execution_count": 81,
     "metadata": {},
     "output_type": "execute_result"
    }
   ],
   "source": [
    "cp5= ModelCheckpoint('5H_ForecastModel/', save_best_only=True)\n",
    "model.compile(loss=MeanSquaredError(), \n",
    "               optimizer=Adam(learning_rate=0.0001), \n",
    "               metrics=[MeanAbsoluteError()])\n",
    "               #metrics=[MeanAbsoluteError()])\n",
    "model.fit(X5_train, y5_train, validation_data=(X5_val, y5_val), epochs=25, callbacks=[cp5])"
   ]
  },
  {
   "cell_type": "code",
   "execution_count": null,
   "id": "0f2170db",
   "metadata": {},
   "outputs": [],
   "source": []
  },
  {
   "cell_type": "code",
   "execution_count": null,
   "id": "a60654ee",
   "metadata": {},
   "outputs": [],
   "source": []
  },
  {
   "cell_type": "code",
   "execution_count": null,
   "id": "ab83101f",
   "metadata": {},
   "outputs": [],
   "source": []
  },
  {
   "cell_type": "markdown",
   "id": "9c5087cc",
   "metadata": {},
   "source": [
    " <h3> <font color='orange'> 6 hour forecasting model training </font> <h3/> "
   ]
  },
  {
   "cell_type": "code",
   "execution_count": 82,
   "id": "8605c917",
   "metadata": {},
   "outputs": [
    {
     "name": "stdout",
     "output_type": "stream",
     "text": [
      "Epoch 1/25\n",
      "2891/2891 [==============================] - 16s 5ms/step - loss: 91360.8516 - mean_absolute_error: 146.6762 - val_loss: 85640.5391 - val_mean_absolute_error: 205.2764\n",
      "INFO:tensorflow:Assets written to: 6H_ForecastModel\\assets\n"
     ]
    },
    {
     "name": "stderr",
     "output_type": "stream",
     "text": [
      "INFO:tensorflow:Assets written to: 6H_ForecastModel\\assets\n"
     ]
    },
    {
     "name": "stdout",
     "output_type": "stream",
     "text": [
      "Epoch 2/25\n",
      "2891/2891 [==============================] - 13s 5ms/step - loss: 90785.5000 - mean_absolute_error: 146.9301 - val_loss: 74027.4375 - val_mean_absolute_error: 203.8978\n",
      "INFO:tensorflow:Assets written to: 6H_ForecastModel\\assets\n"
     ]
    },
    {
     "name": "stderr",
     "output_type": "stream",
     "text": [
      "INFO:tensorflow:Assets written to: 6H_ForecastModel\\assets\n"
     ]
    },
    {
     "name": "stdout",
     "output_type": "stream",
     "text": [
      "Epoch 3/25\n",
      "2891/2891 [==============================] - 13s 5ms/step - loss: 90853.3125 - mean_absolute_error: 146.9299 - val_loss: 82703.5781 - val_mean_absolute_error: 203.4913\n",
      "Epoch 4/25\n",
      "2891/2891 [==============================] - 14s 5ms/step - loss: 90610.2266 - mean_absolute_error: 147.2263 - val_loss: 100305.8672 - val_mean_absolute_error: 222.1135\n",
      "Epoch 5/25\n",
      "2891/2891 [==============================] - 14s 5ms/step - loss: 90274.5234 - mean_absolute_error: 147.0206 - val_loss: 71705.5625 - val_mean_absolute_error: 196.3114A: 1s - loss: 90702.812\n",
      "INFO:tensorflow:Assets written to: 6H_ForecastModel\\assets\n"
     ]
    },
    {
     "name": "stderr",
     "output_type": "stream",
     "text": [
      "INFO:tensorflow:Assets written to: 6H_ForecastModel\\assets\n"
     ]
    },
    {
     "name": "stdout",
     "output_type": "stream",
     "text": [
      "Epoch 6/25\n",
      "2891/2891 [==============================] - 5667s 2s/step - loss: 90884.3906 - mean_absolute_error: 146.3615 - val_loss: 62524.9102 - val_mean_absolute_error: 181.7155\n",
      "INFO:tensorflow:Assets written to: 6H_ForecastModel\\assets\n"
     ]
    },
    {
     "name": "stderr",
     "output_type": "stream",
     "text": [
      "INFO:tensorflow:Assets written to: 6H_ForecastModel\\assets\n"
     ]
    },
    {
     "name": "stdout",
     "output_type": "stream",
     "text": [
      "Epoch 7/25\n",
      "2891/2891 [==============================] - 17s 6ms/step - loss: 90056.0938 - mean_absolute_error: 145.7214 - val_loss: 84362.9375 - val_mean_absolute_error: 204.7635\n",
      "Epoch 8/25\n",
      "2891/2891 [==============================] - 15s 5ms/step - loss: 89643.7578 - mean_absolute_error: 144.9894 - val_loss: 105304.2109 - val_mean_absolute_error: 232.0307\n",
      "Epoch 9/25\n",
      "2891/2891 [==============================] - 15s 5ms/step - loss: 89899.1016 - mean_absolute_error: 145.7886 - val_loss: 80858.8672 - val_mean_absolute_error: 211.0402\n",
      "Epoch 10/25\n",
      "2891/2891 [==============================] - 15s 5ms/step - loss: 89632.7109 - mean_absolute_error: 145.0463 - val_loss: 78484.1250 - val_mean_absolute_error: 202.3419\n",
      "Epoch 11/25\n",
      "2891/2891 [==============================] - 15s 5ms/step - loss: 89556.0781 - mean_absolute_error: 146.5188 - val_loss: 64348.7578 - val_mean_absolute_error: 186.1604\n",
      "Epoch 12/25\n",
      "2891/2891 [==============================] - 16s 6ms/step - loss: 89556.9766 - mean_absolute_error: 145.8122 - val_loss: 81324.9531 - val_mean_absolute_error: 203.9749\n",
      "Epoch 13/25\n",
      "2891/2891 [==============================] - 16s 6ms/step - loss: 89302.4375 - mean_absolute_error: 145.7383 - val_loss: 71852.2266 - val_mean_absolute_error: 198.9499\n",
      "Epoch 14/25\n",
      "2891/2891 [==============================] - 16s 5ms/step - loss: 89179.1406 - mean_absolute_error: 144.5459 - val_loss: 68608.3281 - val_mean_absolute_error: 189.3263\n",
      "Epoch 15/25\n",
      "2891/2891 [==============================] - 15s 5ms/step - loss: 89153.8125 - mean_absolute_error: 145.0423 - val_loss: 64147.6445 - val_mean_absolute_error: 186.6944\n",
      "Epoch 16/25\n",
      "2891/2891 [==============================] - 15s 5ms/step - loss: 89446.7188 - mean_absolute_error: 144.6553 - val_loss: 64870.1016 - val_mean_absolute_error: 187.0398\n",
      "Epoch 17/25\n",
      "2891/2891 [==============================] - 15s 5ms/step - loss: 89192.4141 - mean_absolute_error: 145.0791 - val_loss: 78634.4375 - val_mean_absolute_error: 203.0706\n",
      "Epoch 18/25\n",
      "2891/2891 [==============================] - 16s 5ms/step - loss: 88818.2969 - mean_absolute_error: 145.3410 - val_loss: 86103.4688 - val_mean_absolute_error: 206.0322\n",
      "Epoch 19/25\n",
      "2891/2891 [==============================] - 15s 5ms/step - loss: 88296.1875 - mean_absolute_error: 144.4726 - val_loss: 69798.2891 - val_mean_absolute_error: 194.8808- mean_absolute_error: 144.151 - ETA: 1s - loss: 87723.3594 - mean_abso\n",
      "Epoch 20/25\n",
      "2891/2891 [==============================] - 15s 5ms/step - loss: 88917.6562 - mean_absolute_error: 144.4615 - val_loss: 98511.8750 - val_mean_absolute_error: 215.8423\n",
      "Epoch 21/25\n",
      "2891/2891 [==============================] - 16s 6ms/step - loss: 88488.0469 - mean_absolute_error: 144.6254 - val_loss: 75590.3516 - val_mean_absolute_error: 198.8180\n",
      "Epoch 22/25\n",
      "2891/2891 [==============================] - 18s 6ms/step - loss: 88523.4453 - mean_absolute_error: 144.9732 - val_loss: 81319.1094 - val_mean_absolute_error: 203.7854\n",
      "Epoch 23/25\n",
      "2891/2891 [==============================] - 18s 6ms/step - loss: 88835.5000 - mean_absolute_error: 146.0104 - val_loss: 87444.9531 - val_mean_absolute_error: 212.3961\n",
      "Epoch 24/25\n",
      "2891/2891 [==============================] - 17s 6ms/step - loss: 88134.0391 - mean_absolute_error: 145.3161 - val_loss: 74257.5625 - val_mean_absolute_error: 199.7843\n",
      "Epoch 25/25\n",
      "2891/2891 [==============================] - 17s 6ms/step - loss: 88371.5078 - mean_absolute_error: 146.6369 - val_loss: 87252.9766 - val_mean_absolute_error: 207.9436\n"
     ]
    },
    {
     "data": {
      "text/plain": [
       "<keras.callbacks.History at 0x23707ec2c40>"
      ]
     },
     "execution_count": 82,
     "metadata": {},
     "output_type": "execute_result"
    }
   ],
   "source": [
    "cp6= ModelCheckpoint('6H_ForecastModel/', save_best_only=True)\n",
    "model.compile(loss=MeanSquaredError(), \n",
    "               optimizer=Adam(learning_rate=0.0001), \n",
    "               metrics=[MeanAbsoluteError()])\n",
    "               #metrics=[MeanAbsoluteError()])\n",
    "model.fit(X6_train, y6_train, validation_data=(X6_val, y6_val), epochs=25, callbacks=[cp6])"
   ]
  },
  {
   "cell_type": "code",
   "execution_count": 13,
   "id": "4a9cbf62",
   "metadata": {},
   "outputs": [],
   "source": [
    "#model.fit(X1_train, y1_train, validation_data=(X1_val, y1_val), epochs=10, callbacks=[cp1])"
   ]
  },
  {
   "cell_type": "code",
   "execution_count": 13,
   "id": "e2071083",
   "metadata": {},
   "outputs": [],
   "source": [
    "#model = load_model('1H_ForecastModel/')"
   ]
  },
  {
   "cell_type": "code",
   "execution_count": 14,
   "id": "771a805b",
   "metadata": {},
   "outputs": [],
   "source": [
    "#model.evaluate(X_test,y_test)"
   ]
  },
  {
   "cell_type": "code",
   "execution_count": 15,
   "id": "4a259f15",
   "metadata": {},
   "outputs": [],
   "source": [
    "#plt.style.use('seaborn')"
   ]
  },
  {
   "cell_type": "code",
   "execution_count": 16,
   "id": "50919c85",
   "metadata": {},
   "outputs": [],
   "source": [
    "#test_predictions = model.predict(X_test).flatten()\n",
    "#test_results = pd.DataFrame(data={'Test Predictions':test_predictions, 'Actuals':y_test})"
   ]
  },
  {
   "cell_type": "code",
   "execution_count": 17,
   "id": "3d890745",
   "metadata": {},
   "outputs": [],
   "source": [
    "#test_results.head(30)"
   ]
  },
  {
   "cell_type": "code",
   "execution_count": 18,
   "id": "3b6ab849",
   "metadata": {},
   "outputs": [
    {
     "data": {
      "text/plain": [
       "\"plt.plot(test_results['Test Predictions'][:1000])\\nplt.plot(test_results['Actuals'][:1000])\\nplt.legend(['Test values','Actuals'])\""
      ]
     },
     "execution_count": 18,
     "metadata": {},
     "output_type": "execute_result"
    }
   ],
   "source": [
    "\"\"\"plt.plot(test_results['Test Predictions'][:1000])\n",
    "plt.plot(test_results['Actuals'][:1000])\n",
    "plt.legend(['Test values','Actuals'])\"\"\""
   ]
  },
  {
   "cell_type": "code",
   "execution_count": null,
   "id": "6bd1f8b3",
   "metadata": {},
   "outputs": [],
   "source": []
  },
  {
   "cell_type": "code",
   "execution_count": null,
   "id": "37b2822a",
   "metadata": {},
   "outputs": [],
   "source": []
  },
  {
   "cell_type": "code",
   "execution_count": null,
   "id": "e58174d0",
   "metadata": {},
   "outputs": [],
   "source": []
  },
  {
   "cell_type": "code",
   "execution_count": null,
   "id": "e7b2ecbe",
   "metadata": {},
   "outputs": [],
   "source": []
  },
  {
   "cell_type": "code",
   "execution_count": null,
   "id": "55ae0d0e",
   "metadata": {},
   "outputs": [],
   "source": []
  }
 ],
 "metadata": {
  "kernelspec": {
   "display_name": "Python 3 (ipykernel)",
   "language": "python",
   "name": "python3"
  },
  "language_info": {
   "codemirror_mode": {
    "name": "ipython",
    "version": 3
   },
   "file_extension": ".py",
   "mimetype": "text/x-python",
   "name": "python",
   "nbconvert_exporter": "python",
   "pygments_lexer": "ipython3",
   "version": "3.9.12"
  }
 },
 "nbformat": 4,
 "nbformat_minor": 5
}
