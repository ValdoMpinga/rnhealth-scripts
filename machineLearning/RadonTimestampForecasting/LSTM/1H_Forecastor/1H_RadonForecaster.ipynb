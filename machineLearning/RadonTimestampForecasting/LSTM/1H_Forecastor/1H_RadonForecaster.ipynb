{
 "cells": [
  {
   "cell_type": "code",
   "execution_count": 19,
   "id": "7f9f4567",
   "metadata": {},
   "outputs": [],
   "source": [
    "from tensorflow.keras.models import Sequential\n",
    "from tensorflow.keras.layers import *\n",
    "from tensorflow.keras.callbacks import ModelCheckpoint\n",
    "from tensorflow.keras.losses import MeanSquaredError\n",
    "from tensorflow.keras.metrics import RootMeanSquaredError\n",
    "from tensorflow.keras.optimizers import Adam\n",
    "from tensorflow.keras.models import load_model\n",
    "from matplotlib import pyplot as plt\n",
    "import pandas as pd\n",
    "\n",
    "import absl.logging\n",
    "absl.logging.set_verbosity(absl.logging.ERROR)\n",
    "\n",
    "import sys  \n",
    "sys.path.insert(0, '../')\n",
    "import RadonDF_Handler\n",
    "\n",
    "import os\n",
    "os.environ['KMP_DUPLICATE_LIB_OK']='True'"
   ]
  },
  {
   "cell_type": "code",
   "execution_count": 25,
   "id": "f0c981fc",
   "metadata": {
    "scrolled": true
   },
   "outputs": [],
   "source": [
    "X1, y1 = RadonDF_Handler.Handler(1)\n",
    "X2, y2 = RadonDF_Handler.Handler(2)\n",
    "X3, y3 = RadonDF_Handler.Handler(3)\n",
    "X4, y4 = RadonDF_Handler.Handler(4)\n",
    "X5, y5 = RadonDF_Handler.Handler(5)\n",
    "X6, y6 = RadonDF_Handler.Handler(6)"
   ]
  },
  {
   "cell_type": "code",
   "execution_count": 29,
   "id": "fd18434f",
   "metadata": {},
   "outputs": [
    {
     "name": "stdout",
     "output_type": "stream",
     "text": [
      "(115628, 6, 5) (115628,)\n",
      "(115627, 6, 5) (115627,)\n",
      "(115626, 6, 5) (115626,)\n",
      "(115625, 6, 5) (115625,)\n",
      "(115624, 6, 5) (115624,)\n",
      "(115623, 6, 5) (115623,)\n"
     ]
    }
   ],
   "source": [
    "print(X1.shape, y1.shape)\n",
    "print(X2.shape, y2.shape)\n",
    "print(X3.shape, y3.shape)\n",
    "print(X4.shape, y4.shape)\n",
    "print(X5.shape, y5.shape)\n",
    "print(X6.shape, y6.shape)"
   ]
  },
  {
   "cell_type": "code",
   "execution_count": 6,
   "id": "df98512b",
   "metadata": {},
   "outputs": [
    {
     "data": {
      "text/plain": [
       "((92508, 6, 5), (92508,), (3000, 6, 5), (3000,), (20120, 6, 5), (20120,))"
      ]
     },
     "execution_count": 6,
     "metadata": {},
     "output_type": "execute_result"
    }
   ],
   "source": [
    "X_train, y_train = X1[:92508], y1[:92508] # training data\n",
    "X_val, y_val = X1[92508:95508], y1[92508:95508] #validation\n",
    "X_test, y_test = X1[95508:], y1[95508:] #test\n",
    "X_train.shape, y_train.shape, X_val.shape, y_val.shape, X_test.shape, y_test.shape"
   ]
  },
  {
   "cell_type": "code",
   "execution_count": 7,
   "id": "6f9d0317",
   "metadata": {},
   "outputs": [
    {
     "name": "stdout",
     "output_type": "stream",
     "text": [
      "Model: \"sequential\"\n",
      "_________________________________________________________________\n",
      "Layer (type)                 Output Shape              Param #   \n",
      "=================================================================\n",
      "lstm (LSTM)                  (None, 64)                17920     \n",
      "_________________________________________________________________\n",
      "dense (Dense)                (None, 8)                 520       \n",
      "_________________________________________________________________\n",
      "dense_1 (Dense)              (None, 1)                 9         \n",
      "=================================================================\n",
      "Total params: 18,449\n",
      "Trainable params: 18,449\n",
      "Non-trainable params: 0\n",
      "_________________________________________________________________\n"
     ]
    }
   ],
   "source": [
    "model = Sequential()\n",
    "model.add(InputLayer((6, 5)))\n",
    "model.add(LSTM(64))\n",
    "model.add(Dense(8, 'relu'))\n",
    "model.add(Dense(1, 'linear'))\n",
    "\n",
    "model.summary()"
   ]
  },
  {
   "cell_type": "code",
   "execution_count": 8,
   "id": "7372ffa4",
   "metadata": {},
   "outputs": [],
   "source": [
    "cp = ModelCheckpoint('1H_ForecastModel/', save_best_only=True, save_format=\"h5\")\n",
    "model.compile(loss=MeanSquaredError(), \n",
    "               optimizer=Adam(learning_rate=0.0001), \n",
    "               metrics=[RootMeanSquaredError()])\n",
    "               #metrics=[MeanAbsoluteError()])"
   ]
  },
  {
   "cell_type": "code",
   "execution_count": 9,
   "id": "4a9cbf62",
   "metadata": {},
   "outputs": [
    {
     "name": "stdout",
     "output_type": "stream",
     "text": [
      "Epoch 1/10\n",
      "2891/2891 [==============================] - 21s 6ms/step - loss: 1622486.7500 - root_mean_squared_error: 1273.7687 - val_loss: 303090.1875 - val_root_mean_squared_error: 550.5363\n",
      "INFO:tensorflow:Assets written to: 1H_ForecastModel\\assets\n"
     ]
    },
    {
     "name": "stderr",
     "output_type": "stream",
     "text": [
      "INFO:tensorflow:Assets written to: 1H_ForecastModel\\assets\n"
     ]
    },
    {
     "name": "stdout",
     "output_type": "stream",
     "text": [
      "Epoch 2/10\n",
      "2891/2891 [==============================] - 18s 6ms/step - loss: 1569481.8750 - root_mean_squared_error: 1252.7897 - val_loss: 260110.0938 - val_root_mean_squared_error: 510.0099\n",
      "INFO:tensorflow:Assets written to: 1H_ForecastModel\\assets\n"
     ]
    },
    {
     "name": "stderr",
     "output_type": "stream",
     "text": [
      "INFO:tensorflow:Assets written to: 1H_ForecastModel\\assets\n"
     ]
    },
    {
     "name": "stdout",
     "output_type": "stream",
     "text": [
      "Epoch 3/10\n",
      "2891/2891 [==============================] - 16s 6ms/step - loss: 1500603.5000 - root_mean_squared_error: 1224.9912 - val_loss: 207682.8594 - val_root_mean_squared_error: 455.7224\n",
      "INFO:tensorflow:Assets written to: 1H_ForecastModel\\assets\n"
     ]
    },
    {
     "name": "stderr",
     "output_type": "stream",
     "text": [
      "INFO:tensorflow:Assets written to: 1H_ForecastModel\\assets\n"
     ]
    },
    {
     "name": "stdout",
     "output_type": "stream",
     "text": [
      "Epoch 4/10\n",
      "2891/2891 [==============================] - 16s 6ms/step - loss: 1418099.1250 - root_mean_squared_error: 1190.8397 - val_loss: 154497.9688 - val_root_mean_squared_error: 393.06230000 - root\n",
      "INFO:tensorflow:Assets written to: 1H_ForecastModel\\assets\n"
     ]
    },
    {
     "name": "stderr",
     "output_type": "stream",
     "text": [
      "INFO:tensorflow:Assets written to: 1H_ForecastModel\\assets\n"
     ]
    },
    {
     "name": "stdout",
     "output_type": "stream",
     "text": [
      "Epoch 5/10\n",
      "2891/2891 [==============================] - 16s 6ms/step - loss: 1329614.3750 - root_mean_squared_error: 1153.0891 - val_loss: 106015.6406 - val_root_mean_squared_error: 325.6004\n",
      "INFO:tensorflow:Assets written to: 1H_ForecastModel\\assets\n"
     ]
    },
    {
     "name": "stderr",
     "output_type": "stream",
     "text": [
      "INFO:tensorflow:Assets written to: 1H_ForecastModel\\assets\n"
     ]
    },
    {
     "name": "stdout",
     "output_type": "stream",
     "text": [
      "Epoch 6/10\n",
      "2891/2891 [==============================] - 16s 6ms/step - loss: 1234165.7500 - root_mean_squared_error: 1110.9302 - val_loss: 65981.4062 - val_root_mean_squared_error: 256.8685\n",
      "INFO:tensorflow:Assets written to: 1H_ForecastModel\\assets\n"
     ]
    },
    {
     "name": "stderr",
     "output_type": "stream",
     "text": [
      "INFO:tensorflow:Assets written to: 1H_ForecastModel\\assets\n"
     ]
    },
    {
     "name": "stdout",
     "output_type": "stream",
     "text": [
      "Epoch 7/10\n",
      "2891/2891 [==============================] - 16s 6ms/step - loss: 1137425.0000 - root_mean_squared_error: 1066.5013 - val_loss: 37906.6562 - val_root_mean_squared_error: 194.6963\n",
      "INFO:tensorflow:Assets written to: 1H_ForecastModel\\assets\n"
     ]
    },
    {
     "name": "stderr",
     "output_type": "stream",
     "text": [
      "INFO:tensorflow:Assets written to: 1H_ForecastModel\\assets\n"
     ]
    },
    {
     "name": "stdout",
     "output_type": "stream",
     "text": [
      "Epoch 8/10\n",
      "2891/2891 [==============================] - 16s 5ms/step - loss: 1039445.6875 - root_mean_squared_error: 1019.5321 - val_loss: 21400.6211 - val_root_mean_squared_error: 146.2895\n",
      "INFO:tensorflow:Assets written to: 1H_ForecastModel\\assets\n"
     ]
    },
    {
     "name": "stderr",
     "output_type": "stream",
     "text": [
      "INFO:tensorflow:Assets written to: 1H_ForecastModel\\assets\n"
     ]
    },
    {
     "name": "stdout",
     "output_type": "stream",
     "text": [
      "Epoch 9/10\n",
      "2891/2891 [==============================] - 16s 5ms/step - loss: 940980.5000 - root_mean_squared_error: 970.0415 - val_loss: 14216.5283 - val_root_mean_squared_error: 119.2331\n",
      "INFO:tensorflow:Assets written to: 1H_ForecastModel\\assets\n"
     ]
    },
    {
     "name": "stderr",
     "output_type": "stream",
     "text": [
      "INFO:tensorflow:Assets written to: 1H_ForecastModel\\assets\n"
     ]
    },
    {
     "name": "stdout",
     "output_type": "stream",
     "text": [
      "Epoch 10/10\n",
      "2891/2891 [==============================] - 16s 6ms/step - loss: 843027.3750 - root_mean_squared_error: 918.1652 - val_loss: 11445.4639 - val_root_mean_squared_error: 106.9835oot_mean_squared - ETA: 0s - loss: 843514.3750 - root_mean_squared_error: 91\n",
      "INFO:tensorflow:Assets written to: 1H_ForecastModel\\assets\n"
     ]
    },
    {
     "name": "stderr",
     "output_type": "stream",
     "text": [
      "INFO:tensorflow:Assets written to: 1H_ForecastModel\\assets\n"
     ]
    },
    {
     "data": {
      "text/plain": [
       "<keras.callbacks.History at 0x1d4500d9400>"
      ]
     },
     "execution_count": 9,
     "metadata": {},
     "output_type": "execute_result"
    }
   ],
   "source": [
    "model.fit(X_train, y_train, validation_data=(X_val, y_val), epochs=10, callbacks=[cp])"
   ]
  },
  {
   "cell_type": "code",
   "execution_count": 13,
   "id": "e2071083",
   "metadata": {},
   "outputs": [],
   "source": [
    "model = load_model('1H_ForecastModel/')"
   ]
  },
  {
   "cell_type": "code",
   "execution_count": 14,
   "id": "771a805b",
   "metadata": {},
   "outputs": [
    {
     "name": "stdout",
     "output_type": "stream",
     "text": [
      "629/629 [==============================] - 2s 2ms/step - loss: 216483.9375 - root_mean_squared_error: 465.2784: 0s - loss: 75462.3750 - root_mean_squared_error:  - ETA: 0s - loss: 236465.8750 - root_\n"
     ]
    },
    {
     "data": {
      "text/plain": [
       "[216483.9375, 465.2783508300781]"
      ]
     },
     "execution_count": 14,
     "metadata": {},
     "output_type": "execute_result"
    }
   ],
   "source": [
    "model.evaluate(X_test,y_test)"
   ]
  },
  {
   "cell_type": "code",
   "execution_count": 17,
   "id": "4a259f15",
   "metadata": {},
   "outputs": [],
   "source": [
    "plt.style.use('seaborn')"
   ]
  },
  {
   "cell_type": "code",
   "execution_count": 20,
   "id": "50919c85",
   "metadata": {},
   "outputs": [],
   "source": [
    "test_predictions = model.predict(X_test).flatten()\n",
    "test_results = pd.DataFrame(data={'Test Predictions':test_predictions, 'Actuals':y_test})"
   ]
  },
  {
   "cell_type": "code",
   "execution_count": 21,
   "id": "3d890745",
   "metadata": {},
   "outputs": [
    {
     "data": {
      "text/html": [
       "<div>\n",
       "<style scoped>\n",
       "    .dataframe tbody tr th:only-of-type {\n",
       "        vertical-align: middle;\n",
       "    }\n",
       "\n",
       "    .dataframe tbody tr th {\n",
       "        vertical-align: top;\n",
       "    }\n",
       "\n",
       "    .dataframe thead th {\n",
       "        text-align: right;\n",
       "    }\n",
       "</style>\n",
       "<table border=\"1\" class=\"dataframe\">\n",
       "  <thead>\n",
       "    <tr style=\"text-align: right;\">\n",
       "      <th></th>\n",
       "      <th>Test Predictions</th>\n",
       "      <th>Actuals</th>\n",
       "    </tr>\n",
       "  </thead>\n",
       "  <tbody>\n",
       "    <tr>\n",
       "      <th>0</th>\n",
       "      <td>918.228943</td>\n",
       "      <td>862.405000</td>\n",
       "    </tr>\n",
       "    <tr>\n",
       "      <th>1</th>\n",
       "      <td>819.202820</td>\n",
       "      <td>841.680000</td>\n",
       "    </tr>\n",
       "    <tr>\n",
       "      <th>2</th>\n",
       "      <td>822.557556</td>\n",
       "      <td>854.633333</td>\n",
       "    </tr>\n",
       "    <tr>\n",
       "      <th>3</th>\n",
       "      <td>830.619873</td>\n",
       "      <td>853.469000</td>\n",
       "    </tr>\n",
       "    <tr>\n",
       "      <th>4</th>\n",
       "      <td>824.903809</td>\n",
       "      <td>890.230000</td>\n",
       "    </tr>\n",
       "    <tr>\n",
       "      <th>5</th>\n",
       "      <td>854.758362</td>\n",
       "      <td>815.413333</td>\n",
       "    </tr>\n",
       "    <tr>\n",
       "      <th>6</th>\n",
       "      <td>777.366882</td>\n",
       "      <td>811.605455</td>\n",
       "    </tr>\n",
       "    <tr>\n",
       "      <th>7</th>\n",
       "      <td>787.952454</td>\n",
       "      <td>804.932500</td>\n",
       "    </tr>\n",
       "    <tr>\n",
       "      <th>8</th>\n",
       "      <td>770.266357</td>\n",
       "      <td>808.569167</td>\n",
       "    </tr>\n",
       "    <tr>\n",
       "      <th>9</th>\n",
       "      <td>786.193298</td>\n",
       "      <td>822.270909</td>\n",
       "    </tr>\n",
       "    <tr>\n",
       "      <th>10</th>\n",
       "      <td>784.880554</td>\n",
       "      <td>844.027500</td>\n",
       "    </tr>\n",
       "    <tr>\n",
       "      <th>11</th>\n",
       "      <td>819.659790</td>\n",
       "      <td>759.144167</td>\n",
       "    </tr>\n",
       "    <tr>\n",
       "      <th>12</th>\n",
       "      <td>711.468567</td>\n",
       "      <td>758.683333</td>\n",
       "    </tr>\n",
       "    <tr>\n",
       "      <th>13</th>\n",
       "      <td>751.564209</td>\n",
       "      <td>807.364545</td>\n",
       "    </tr>\n",
       "    <tr>\n",
       "      <th>14</th>\n",
       "      <td>796.893372</td>\n",
       "      <td>775.544167</td>\n",
       "    </tr>\n",
       "    <tr>\n",
       "      <th>15</th>\n",
       "      <td>733.005371</td>\n",
       "      <td>849.328333</td>\n",
       "    </tr>\n",
       "    <tr>\n",
       "      <th>16</th>\n",
       "      <td>847.930847</td>\n",
       "      <td>825.800909</td>\n",
       "    </tr>\n",
       "    <tr>\n",
       "      <th>17</th>\n",
       "      <td>786.547302</td>\n",
       "      <td>787.048333</td>\n",
       "    </tr>\n",
       "    <tr>\n",
       "      <th>18</th>\n",
       "      <td>751.613281</td>\n",
       "      <td>830.705000</td>\n",
       "    </tr>\n",
       "    <tr>\n",
       "      <th>19</th>\n",
       "      <td>818.369690</td>\n",
       "      <td>860.884545</td>\n",
       "    </tr>\n",
       "    <tr>\n",
       "      <th>20</th>\n",
       "      <td>824.340759</td>\n",
       "      <td>919.902500</td>\n",
       "    </tr>\n",
       "    <tr>\n",
       "      <th>21</th>\n",
       "      <td>884.874695</td>\n",
       "      <td>858.702500</td>\n",
       "    </tr>\n",
       "    <tr>\n",
       "      <th>22</th>\n",
       "      <td>816.384583</td>\n",
       "      <td>794.506667</td>\n",
       "    </tr>\n",
       "    <tr>\n",
       "      <th>23</th>\n",
       "      <td>764.507874</td>\n",
       "      <td>798.085455</td>\n",
       "    </tr>\n",
       "    <tr>\n",
       "      <th>24</th>\n",
       "      <td>779.903137</td>\n",
       "      <td>772.648333</td>\n",
       "    </tr>\n",
       "    <tr>\n",
       "      <th>25</th>\n",
       "      <td>735.196289</td>\n",
       "      <td>783.946667</td>\n",
       "    </tr>\n",
       "    <tr>\n",
       "      <th>26</th>\n",
       "      <td>774.263428</td>\n",
       "      <td>852.475455</td>\n",
       "    </tr>\n",
       "    <tr>\n",
       "      <th>27</th>\n",
       "      <td>833.871033</td>\n",
       "      <td>843.380833</td>\n",
       "    </tr>\n",
       "    <tr>\n",
       "      <th>28</th>\n",
       "      <td>802.085022</td>\n",
       "      <td>805.082500</td>\n",
       "    </tr>\n",
       "    <tr>\n",
       "      <th>29</th>\n",
       "      <td>760.491577</td>\n",
       "      <td>779.420000</td>\n",
       "    </tr>\n",
       "  </tbody>\n",
       "</table>\n",
       "</div>"
      ],
      "text/plain": [
       "    Test Predictions     Actuals\n",
       "0         918.228943  862.405000\n",
       "1         819.202820  841.680000\n",
       "2         822.557556  854.633333\n",
       "3         830.619873  853.469000\n",
       "4         824.903809  890.230000\n",
       "5         854.758362  815.413333\n",
       "6         777.366882  811.605455\n",
       "7         787.952454  804.932500\n",
       "8         770.266357  808.569167\n",
       "9         786.193298  822.270909\n",
       "10        784.880554  844.027500\n",
       "11        819.659790  759.144167\n",
       "12        711.468567  758.683333\n",
       "13        751.564209  807.364545\n",
       "14        796.893372  775.544167\n",
       "15        733.005371  849.328333\n",
       "16        847.930847  825.800909\n",
       "17        786.547302  787.048333\n",
       "18        751.613281  830.705000\n",
       "19        818.369690  860.884545\n",
       "20        824.340759  919.902500\n",
       "21        884.874695  858.702500\n",
       "22        816.384583  794.506667\n",
       "23        764.507874  798.085455\n",
       "24        779.903137  772.648333\n",
       "25        735.196289  783.946667\n",
       "26        774.263428  852.475455\n",
       "27        833.871033  843.380833\n",
       "28        802.085022  805.082500\n",
       "29        760.491577  779.420000"
      ]
     },
     "execution_count": 21,
     "metadata": {},
     "output_type": "execute_result"
    }
   ],
   "source": [
    "test_results.head(30)"
   ]
  },
  {
   "cell_type": "code",
   "execution_count": 22,
   "id": "3b6ab849",
   "metadata": {},
   "outputs": [
    {
     "data": {
      "text/plain": [
       "<matplotlib.legend.Legend at 0x1d460820040>"
      ]
     },
     "execution_count": 22,
     "metadata": {},
     "output_type": "execute_result"
    },
    {
     "data": {
      "image/png": "[encoded data removed]",
      "text/plain": [
       "<Figure size 432x288 with 1 Axes>"
      ]
     },
     "metadata": {
      "needs_background": "light"
     },
     "output_type": "display_data"
    }
   ],
   "source": [
    "plt.plot(test_results['Test Predictions'][:1000])\n",
    "plt.plot(test_results['Actuals'][:1000])\n",
    "plt.legend(['Test values','Actuals'])"
   ]
  },
  {
   "cell_type": "code",
   "execution_count": null,
   "id": "6bd1f8b3",
   "metadata": {},
   "outputs": [],
   "source": []
  }
 ],
 "metadata": {
  "kernelspec": {
   "display_name": "Python 3 (ipykernel)",
   "language": "python",
   "name": "python3"
  },
  "language_info": {
   "codemirror_mode": {
    "name": "ipython",
    "version": 3
   },
   "file_extension": ".py",
   "mimetype": "text/x-python",
   "name": "python",
   "nbconvert_exporter": "python",
   "pygments_lexer": "ipython3",
   "version": "3.9.12"
  }
 },
 "nbformat": 4,
 "nbformat_minor": 5
}
