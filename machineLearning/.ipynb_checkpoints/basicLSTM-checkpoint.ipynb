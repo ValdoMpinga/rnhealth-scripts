{
 "cells": [
  {
   "cell_type": "code",
   "execution_count": 3,
   "id": "9bf1d69f",
   "metadata": {},
   "outputs": [],
   "source": [
    "import tensorflow as tf\n",
    "import os\n",
    "import pandas as pd\n",
    "import numpy as np\n",
    "import pandas as pd\n",
    "import numpy as np\n",
    "from datetime import timezone, datetime\n",
    "import seaborn as sns\n",
    "from matplotlib import pyplot as plt"
   ]
  },
  {
   "cell_type": "code",
   "execution_count": 4,
   "id": "c363f456",
   "metadata": {},
   "outputs": [],
   "source": [
    "imputedMeasurementsDf = pd.read_csv('../../../../Data/ProcessedData/KnnImputed/measurementsImputedByKnn.csv')\n",
    "measurementsDf = pd.read_csv('../../../../Data/RawData/rawMeasurementsFilteredBySensors.csv')"
   ]
  },
  {
   "cell_type": "code",
   "execution_count": 5,
   "id": "47387c4e",
   "metadata": {},
   "outputs": [],
   "source": [
    "dateTimeDf = pd.DataFrame(measurementsDf['time'])"
   ]
  },
  {
   "cell_type": "code",
   "execution_count": 6,
   "id": "39c95063",
   "metadata": {},
   "outputs": [],
   "source": [
    "def iso8601ToDatetime():\n",
    "    for i in range(len(dateTimeDf['time'])):\n",
    "        timeContainer  = dateTimeDf['time'][i].replace('.000','')\n",
    "        timeContainer = datetime.strptime(timeContainer, \"%Y-%m-%dT%H:%M:%SZ\")\n",
    "        timeContainer = int(round(timeContainer.timestamp()))\n",
    "        timeContainer = datetime.fromtimestamp(timeContainer)\n",
    "        dateTimeDf['time'][i] = timeContainer"
   ]
  },
  {
   "cell_type": "code",
   "execution_count": 7,
   "id": "ed790f9a",
   "metadata": {},
   "outputs": [
    {
     "name": "stdout",
     "output_type": "stream",
     "text": [
      "CPU times: total: 13.7 s\n",
      "Wall time: 15 s\n"
     ]
    }
   ],
   "source": [
    "%%time\n",
    "\n",
    "iso8601ToDatetime()"
   ]
  },
  {
   "cell_type": "code",
   "execution_count": 8,
   "id": "dc65a9a6",
   "metadata": {},
   "outputs": [],
   "source": [
    "measurementsDf = dateTimeDf.join(imputedMeasurementsDf.drop(['day','month','hour'],axis = 1))"
   ]
  },
  {
   "cell_type": "code",
   "execution_count": 9,
   "id": "89ac4e2c",
   "metadata": {},
   "outputs": [
    {
     "data": {
      "text/html": [
       "<div>\n",
       "<style scoped>\n",
       "    .dataframe tbody tr th:only-of-type {\n",
       "        vertical-align: middle;\n",
       "    }\n",
       "\n",
       "    .dataframe tbody tr th {\n",
       "        vertical-align: top;\n",
       "    }\n",
       "\n",
       "    .dataframe thead th {\n",
       "        text-align: right;\n",
       "    }\n",
       "</style>\n",
       "<table border=\"1\" class=\"dataframe\">\n",
       "  <thead>\n",
       "    <tr style=\"text-align: right;\">\n",
       "      <th></th>\n",
       "      <th>time</th>\n",
       "      <th>T</th>\n",
       "      <th>Rn</th>\n",
       "      <th>H</th>\n",
       "      <th>P</th>\n",
       "      <th>CO2</th>\n",
       "      <th>sensor_id</th>\n",
       "    </tr>\n",
       "  </thead>\n",
       "  <tbody>\n",
       "    <tr>\n",
       "      <th>0</th>\n",
       "      <td>2020-07-14 14:00:00</td>\n",
       "      <td>31.300000</td>\n",
       "      <td>1001.448424</td>\n",
       "      <td>44.475000</td>\n",
       "      <td>101.565847</td>\n",
       "      <td>567.750000</td>\n",
       "      <td>D0001</td>\n",
       "    </tr>\n",
       "    <tr>\n",
       "      <th>1</th>\n",
       "      <td>2020-07-14 15:00:00</td>\n",
       "      <td>31.333333</td>\n",
       "      <td>588.154974</td>\n",
       "      <td>45.505556</td>\n",
       "      <td>101.632854</td>\n",
       "      <td>636.361111</td>\n",
       "      <td>D0001</td>\n",
       "    </tr>\n",
       "    <tr>\n",
       "      <th>2</th>\n",
       "      <td>2020-07-14 16:00:00</td>\n",
       "      <td>31.451429</td>\n",
       "      <td>0.100000</td>\n",
       "      <td>47.145714</td>\n",
       "      <td>101.539128</td>\n",
       "      <td>734.000000</td>\n",
       "      <td>D0001</td>\n",
       "    </tr>\n",
       "    <tr>\n",
       "      <th>3</th>\n",
       "      <td>2020-07-14 17:00:00</td>\n",
       "      <td>31.161765</td>\n",
       "      <td>1042.843803</td>\n",
       "      <td>36.000000</td>\n",
       "      <td>101.501998</td>\n",
       "      <td>461.529412</td>\n",
       "      <td>D0001</td>\n",
       "    </tr>\n",
       "    <tr>\n",
       "      <th>4</th>\n",
       "      <td>2020-07-14 18:00:00</td>\n",
       "      <td>31.008333</td>\n",
       "      <td>1585.713833</td>\n",
       "      <td>28.436111</td>\n",
       "      <td>101.567130</td>\n",
       "      <td>400.000000</td>\n",
       "      <td>D0001</td>\n",
       "    </tr>\n",
       "    <tr>\n",
       "      <th>...</th>\n",
       "      <td>...</td>\n",
       "      <td>...</td>\n",
       "      <td>...</td>\n",
       "      <td>...</td>\n",
       "      <td>...</td>\n",
       "      <td>...</td>\n",
       "      <td>...</td>\n",
       "    </tr>\n",
       "    <tr>\n",
       "      <th>115629</th>\n",
       "      <td>2021-12-31 19:00:00</td>\n",
       "      <td>29.792673</td>\n",
       "      <td>616.640000</td>\n",
       "      <td>50.156364</td>\n",
       "      <td>102.653100</td>\n",
       "      <td>97.200000</td>\n",
       "      <td>D009</td>\n",
       "    </tr>\n",
       "    <tr>\n",
       "      <th>115630</th>\n",
       "      <td>2021-12-31 20:00:00</td>\n",
       "      <td>29.951673</td>\n",
       "      <td>541.380000</td>\n",
       "      <td>48.047273</td>\n",
       "      <td>102.273400</td>\n",
       "      <td>97.800000</td>\n",
       "      <td>D009</td>\n",
       "    </tr>\n",
       "    <tr>\n",
       "      <th>115631</th>\n",
       "      <td>2021-12-31 21:00:00</td>\n",
       "      <td>30.329218</td>\n",
       "      <td>544.167273</td>\n",
       "      <td>53.847273</td>\n",
       "      <td>102.199727</td>\n",
       "      <td>97.181818</td>\n",
       "      <td>D009</td>\n",
       "    </tr>\n",
       "    <tr>\n",
       "      <th>115632</th>\n",
       "      <td>2021-12-31 22:00:00</td>\n",
       "      <td>29.511200</td>\n",
       "      <td>590.666000</td>\n",
       "      <td>44.097576</td>\n",
       "      <td>102.140000</td>\n",
       "      <td>98.100000</td>\n",
       "      <td>D009</td>\n",
       "    </tr>\n",
       "    <tr>\n",
       "      <th>115633</th>\n",
       "      <td>2021-12-31 23:00:00</td>\n",
       "      <td>30.079564</td>\n",
       "      <td>594.030000</td>\n",
       "      <td>41.082424</td>\n",
       "      <td>102.145091</td>\n",
       "      <td>98.090909</td>\n",
       "      <td>D009</td>\n",
       "    </tr>\n",
       "  </tbody>\n",
       "</table>\n",
       "<p>115634 rows × 7 columns</p>\n",
       "</div>"
      ],
      "text/plain": [
       "                       time          T           Rn          H           P  \\\n",
       "0       2020-07-14 14:00:00  31.300000  1001.448424  44.475000  101.565847   \n",
       "1       2020-07-14 15:00:00  31.333333   588.154974  45.505556  101.632854   \n",
       "2       2020-07-14 16:00:00  31.451429     0.100000  47.145714  101.539128   \n",
       "3       2020-07-14 17:00:00  31.161765  1042.843803  36.000000  101.501998   \n",
       "4       2020-07-14 18:00:00  31.008333  1585.713833  28.436111  101.567130   \n",
       "...                     ...        ...          ...        ...         ...   \n",
       "115629  2021-12-31 19:00:00  29.792673   616.640000  50.156364  102.653100   \n",
       "115630  2021-12-31 20:00:00  29.951673   541.380000  48.047273  102.273400   \n",
       "115631  2021-12-31 21:00:00  30.329218   544.167273  53.847273  102.199727   \n",
       "115632  2021-12-31 22:00:00  29.511200   590.666000  44.097576  102.140000   \n",
       "115633  2021-12-31 23:00:00  30.079564   594.030000  41.082424  102.145091   \n",
       "\n",
       "               CO2 sensor_id  \n",
       "0       567.750000     D0001  \n",
       "1       636.361111     D0001  \n",
       "2       734.000000     D0001  \n",
       "3       461.529412     D0001  \n",
       "4       400.000000     D0001  \n",
       "...            ...       ...  \n",
       "115629   97.200000      D009  \n",
       "115630   97.800000      D009  \n",
       "115631   97.181818      D009  \n",
       "115632   98.100000      D009  \n",
       "115633   98.090909      D009  \n",
       "\n",
       "[115634 rows x 7 columns]"
      ]
     },
     "execution_count": 9,
     "metadata": {},
     "output_type": "execute_result"
    }
   ],
   "source": [
    "measurementsDf"
   ]
  },
  {
   "cell_type": "code",
   "execution_count": 10,
   "id": "9b75f1b7",
   "metadata": {},
   "outputs": [],
   "source": [
    "measurementsDf.index =measurementsDf['time']"
   ]
  },
  {
   "cell_type": "code",
   "execution_count": 11,
   "id": "05eaf545",
   "metadata": {},
   "outputs": [],
   "source": [
    "temperatureDf = measurementsDf['T']"
   ]
  },
  {
   "cell_type": "code",
   "execution_count": null,
   "id": "93c9817b",
   "metadata": {},
   "outputs": [],
   "source": [
    "temperatureDf.plot()"
   ]
  },
  {
   "cell_type": "code",
   "execution_count": null,
   "id": "5bbc42f4",
   "metadata": {},
   "outputs": [],
   "source": [
    "def df_to_X_y(df, window_size=5):\n",
    "    df_as_np = df.to_numpy()\n",
    "    \n",
    "    X = []\n",
    "    y = []\n",
    "    for i in range(len(df_as_np)-window_size):\n",
    "        row = [[a] for a in df_as_np[i:i+window_size]]\n",
    "        X.append(row)\n",
    "        label = df_as_np[i+window_size]\n",
    "        y.append(label)\n",
    "        \n",
    "    return np.array(X), np.array(y)"
   ]
  },
  {
   "cell_type": "code",
   "execution_count": null,
   "id": "25260afc",
   "metadata": {},
   "outputs": [],
   "source": [
    "WINDOW_SIZE = 5\n",
    "X1, y1 = df_to_X_y(temperatureDf, WINDOW_SIZE)\n",
    "X1.shape, y1.shape"
   ]
  },
  {
   "cell_type": "code",
   "execution_count": null,
   "id": "84d113a1",
   "metadata": {},
   "outputs": [],
   "source": [
    "y1"
   ]
  },
  {
   "cell_type": "code",
   "execution_count": null,
   "id": "8085da6b",
   "metadata": {},
   "outputs": [],
   "source": [
    "X_train1, y_train1 = X1[:80000], y1[:80000]\n",
    "X_val1, y_val1 = X1[80000:80000], y1[80000:85000]\n",
    "X_test1, y_test1 = X1[85000:], y1[85000:]\n",
    "X_train1.shape, y_train1.shape, X_val1.shape, y_val1.shape, X_test1.shape, y_test1.shape"
   ]
  },
  {
   "cell_type": "code",
   "execution_count": null,
   "id": "31b48c5c",
   "metadata": {},
   "outputs": [],
   "source": [
    "from tensorflow.keras.models import Sequential\n",
    "from tensorflow.keras.layers import *\n",
    "from tensorflow.keras.callbacks import ModelCheckpoint\n",
    "from tensorflow.keras.losses import MeanSquaredError\n",
    "from tensorflow.keras.metrics import RootMeanSquaredError\n",
    "from tensorflow.keras.optimizers import Adam\n",
    "\n",
    "model1 = Sequential()\n",
    "model1.add(InputLayer((5, 1)))\n",
    "model1.add(LSTM(64))\n",
    "model1.add(Dense(8, 'relu'))\n",
    "model1.add(Dense(1, 'linear'))\n",
    "\n",
    "model1.summary()"
   ]
  },
  {
   "cell_type": "code",
   "execution_count": null,
   "id": "e7266214",
   "metadata": {},
   "outputs": [],
   "source": [
    "cp1 = ModelCheckpoint('model1/', save_best_only=True)\n",
    "model1.compile(loss=MeanSquaredError(), optimizer=Adam(learning_rate=0.0001), metrics=[RootMeanSquaredError()])"
   ]
  },
  {
   "cell_type": "code",
   "execution_count": null,
   "id": "4b7e4879",
   "metadata": {},
   "outputs": [],
   "source": [
    "model1.fit(X_train1, y_train1, validation_data=(X_val1, y_val1), epochs=10, callbacks=[cp1])"
   ]
  }
 ],
 "metadata": {
  "kernelspec": {
   "display_name": "Python 3 (ipykernel)",
   "language": "python",
   "name": "python3"
  },
  "language_info": {
   "codemirror_mode": {
    "name": "ipython",
    "version": 3
   },
   "file_extension": ".py",
   "mimetype": "text/x-python",
   "name": "python",
   "nbconvert_exporter": "python",
   "pygments_lexer": "ipython3",
   "version": "3.9.12"
  }
 },
 "nbformat": 4,
 "nbformat_minor": 5
}
