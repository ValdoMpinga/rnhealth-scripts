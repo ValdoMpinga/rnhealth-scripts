{
 "cells": [
  {
   "cell_type": "code",
   "execution_count": 153,
   "id": "475b8ee6",
   "metadata": {},
   "outputs": [],
   "source": [
    "from tensorflow.keras.models import Sequential\n",
    "from tensorflow.keras.layers import *\n",
    "from tensorflow.keras.callbacks import ModelCheckpoint\n",
    "from tensorflow.keras.losses import MeanSquaredError\n",
    "from tensorflow.keras.metrics import RootMeanSquaredError, MeanAbsoluteError\n",
    "from tensorflow.keras.optimizers import Adam\n",
    "from tensorflow.keras.models import load_model\n",
    "import matplotlib.pyplot as plt\n",
    "from sklearn.model_selection import train_test_split\n",
    "from prophet import Prophet\n",
    "from statsmodels.graphics.tsaplots import plot_acf\n",
    "from statsmodels.tsa.stattools import adfuller\n",
    "from statsmodels.tsa.api import VAR\n",
    "\n",
    "\n",
    "import pandas as pd\n",
    "import numpy as np\n",
    "\n",
    "import absl.logging\n",
    "absl.logging.set_verbosity(absl.logging.ERROR)\n",
    "import sys  \n",
    "sys.path.insert(0, '../../')\n",
    "import RadonDF_Handler\n",
    "\n",
    "from statsmodels.tsa.stattools import grangercausalitytests, adfuller\n",
    "\n",
    "import os\n",
    "os.environ['KMP_DUPLICATE_LIB_OK']='True'"
   ]
  },
  {
   "cell_type": "code",
   "execution_count": 154,
   "id": "9819fb32",
   "metadata": {},
   "outputs": [],
   "source": [
    "# p-value <= 0.05 means data is stationary\n",
    "def adfullerTest():\n",
    "    for column in columns:\n",
    "        result = adfuller(column)\n",
    "        print('ADF Statistic: %f' % result[0])\n",
    "        print('p-value: %f' % result[1])\n",
    "        print('Critical Values:')\n",
    "        for key, value in result[4].items():\n",
    "            print('\\t%s: %.3f' % (key, value))\n",
    "\n",
    "        print(\"-----------------------------------\")"
   ]
  },
  {
   "cell_type": "code",
   "execution_count": 134,
   "id": "d65399bb",
   "metadata": {},
   "outputs": [],
   "source": [
    "D001_df = pd.read_csv('./../../../../../Data/SensorsData/interpolated_D001_data.csv')\n",
    "D001_df = D001_df.iloc[913:]\n",
    "D001_df\n",
    "D001_df['time'] =  pd.to_datetime(D001_df['time'], format='%Y-%m-%d %H:%M:%S')\n",
    "D001_df.index = D001_df['time']\n",
    "D001_df = D001_df.drop(['time','H','P','CO2'],axis = 1)"
   ]
  },
  {
   "cell_type": "code",
   "execution_count": 135,
   "id": "2b3aeeef",
   "metadata": {},
   "outputs": [],
   "source": [
    "D001_df['T'] = D001_df['T'].diff().ffill().backfill()"
   ]
  },
  {
   "cell_type": "code",
   "execution_count": 136,
   "id": "c510cd8a",
   "metadata": {},
   "outputs": [],
   "source": [
    "train_data, test_data = train_test_split(D001_df, test_size=0.2, shuffle=False)"
   ]
  },
  {
   "cell_type": "markdown",
   "id": "49e16fa3",
   "metadata": {},
   "source": [
    "### If p < 0.5, there is a correlation"
   ]
  },
  {
   "cell_type": "code",
   "execution_count": 137,
   "id": "ff8980a7",
   "metadata": {},
   "outputs": [],
   "source": [
    "maxGrangerLag = 12"
   ]
  },
  {
   "cell_type": "code",
   "execution_count": 138,
   "id": "f3929e88",
   "metadata": {},
   "outputs": [
    {
     "name": "stdout",
     "output_type": "stream",
     "text": [
      "Temperature causes Radon?\n",
      "\n",
      "------------------\n",
      "\n",
      "Granger Causality\n",
      "number of lags (no zero) 1\n",
      "ssr based F test:         F=1.0097  , p=0.3150  , df_denom=8543, df_num=1\n",
      "ssr based chi2 test:   chi2=1.0101  , p=0.3149  , df=1\n",
      "likelihood ratio test: chi2=1.0100  , p=0.3149  , df=1\n",
      "parameter F test:         F=1.0097  , p=0.3150  , df_denom=8543, df_num=1\n",
      "\n",
      "Granger Causality\n",
      "number of lags (no zero) 2\n",
      "ssr based F test:         F=2.3122  , p=0.0991  , df_denom=8540, df_num=2\n",
      "ssr based chi2 test:   chi2=4.6271  , p=0.0989  , df=2\n",
      "likelihood ratio test: chi2=4.6259  , p=0.0990  , df=2\n",
      "parameter F test:         F=2.3122  , p=0.0991  , df_denom=8540, df_num=2\n",
      "\n",
      "Granger Causality\n",
      "number of lags (no zero) 3\n",
      "ssr based F test:         F=2.4415  , p=0.0623  , df_denom=8537, df_num=3\n",
      "ssr based chi2 test:   chi2=7.3305  , p=0.0621  , df=3\n",
      "likelihood ratio test: chi2=7.3273  , p=0.0622  , df=3\n",
      "parameter F test:         F=2.4415  , p=0.0623  , df_denom=8537, df_num=3\n",
      "\n",
      "Granger Causality\n",
      "number of lags (no zero) 4\n",
      "ssr based F test:         F=4.5504  , p=0.0011  , df_denom=8534, df_num=4\n",
      "ssr based chi2 test:   chi2=18.2208 , p=0.0011  , df=4\n",
      "likelihood ratio test: chi2=18.2014 , p=0.0011  , df=4\n",
      "parameter F test:         F=4.5504  , p=0.0011  , df_denom=8534, df_num=4\n",
      "\n",
      "Granger Causality\n",
      "number of lags (no zero) 5\n",
      "ssr based F test:         F=5.1640  , p=0.0001  , df_denom=8531, df_num=5\n",
      "ssr based chi2 test:   chi2=25.8532 , p=0.0001  , df=5\n",
      "likelihood ratio test: chi2=25.8141 , p=0.0001  , df=5\n",
      "parameter F test:         F=5.1640  , p=0.0001  , df_denom=8531, df_num=5\n",
      "\n",
      "Granger Causality\n",
      "number of lags (no zero) 6\n",
      "ssr based F test:         F=4.5100  , p=0.0001  , df_denom=8528, df_num=6\n",
      "ssr based chi2 test:   chi2=27.1010 , p=0.0001  , df=6\n",
      "likelihood ratio test: chi2=27.0581 , p=0.0001  , df=6\n",
      "parameter F test:         F=4.5100  , p=0.0001  , df_denom=8528, df_num=6\n",
      "\n",
      "Granger Causality\n",
      "number of lags (no zero) 7\n",
      "ssr based F test:         F=4.3887  , p=0.0001  , df_denom=8525, df_num=7\n",
      "ssr based chi2 test:   chi2=30.7750 , p=0.0001  , df=7\n",
      "likelihood ratio test: chi2=30.7197 , p=0.0001  , df=7\n",
      "parameter F test:         F=4.3887  , p=0.0001  , df_denom=8525, df_num=7\n",
      "\n",
      "Granger Causality\n",
      "number of lags (no zero) 8\n",
      "ssr based F test:         F=3.8804  , p=0.0001  , df_denom=8522, df_num=8\n",
      "ssr based chi2 test:   chi2=31.1051 , p=0.0001  , df=8\n",
      "likelihood ratio test: chi2=31.0486 , p=0.0001  , df=8\n",
      "parameter F test:         F=3.8804  , p=0.0001  , df_denom=8522, df_num=8\n",
      "\n",
      "Granger Causality\n",
      "number of lags (no zero) 9\n",
      "ssr based F test:         F=3.6630  , p=0.0001  , df_denom=8519, df_num=9\n",
      "ssr based chi2 test:   chi2=33.0405 , p=0.0001  , df=9\n",
      "likelihood ratio test: chi2=32.9767 , p=0.0001  , df=9\n",
      "parameter F test:         F=3.6630  , p=0.0001  , df_denom=8519, df_num=9\n",
      "\n",
      "Granger Causality\n",
      "number of lags (no zero) 10\n",
      "ssr based F test:         F=3.3734  , p=0.0002  , df_denom=8516, df_num=10\n",
      "ssr based chi2 test:   chi2=33.8174 , p=0.0002  , df=10\n",
      "likelihood ratio test: chi2=33.7506 , p=0.0002  , df=10\n",
      "parameter F test:         F=3.3734  , p=0.0002  , df_denom=8516, df_num=10\n",
      "\n",
      "Granger Causality\n",
      "number of lags (no zero) 11\n",
      "ssr based F test:         F=3.2115  , p=0.0002  , df_denom=8513, df_num=11\n",
      "ssr based chi2 test:   chi2=35.4215 , p=0.0002  , df=11\n",
      "likelihood ratio test: chi2=35.3482 , p=0.0002  , df=11\n",
      "parameter F test:         F=3.2115  , p=0.0002  , df_denom=8513, df_num=11\n",
      "\n",
      "Granger Causality\n",
      "number of lags (no zero) 12\n",
      "ssr based F test:         F=3.1490  , p=0.0002  , df_denom=8510, df_num=12\n",
      "ssr based chi2 test:   chi2=37.8989 , p=0.0002  , df=12\n",
      "likelihood ratio test: chi2=37.8150 , p=0.0002  , df=12\n",
      "parameter F test:         F=3.1490  , p=0.0002  , df_denom=8510, df_num=12\n"
     ]
    }
   ],
   "source": [
    "print('Temperature causes Radon?\\n')\n",
    "print('------------------')\n",
    "temperatureRadonGranger = grangercausalitytests(D001_df[['Rn', 'T']], maxGrangerLag)"
   ]
  },
  {
   "cell_type": "code",
   "execution_count": 139,
   "id": "4c7d06d5",
   "metadata": {},
   "outputs": [],
   "source": [
    "# print('Humidity causes Radon?\\n')\n",
    "# print('------------------')\n",
    "# temperatureRadonGranger = grangercausalitytests(D001_df[['Rn', 'H']], maxGrangerLag)"
   ]
  },
  {
   "cell_type": "code",
   "execution_count": 140,
   "id": "3dfcf22f",
   "metadata": {},
   "outputs": [],
   "source": [
    "# print('Pressure causes Radon?\\n')\n",
    "# print('------------------')\n",
    "# temperatureRadonGranger = grangercausalitytests(D001_df[['Rn', 'P']], maxGrangerLag)"
   ]
  },
  {
   "cell_type": "code",
   "execution_count": 141,
   "id": "9fd6dd22",
   "metadata": {},
   "outputs": [],
   "source": [
    "# print('CO2 causes Radon?\\n')\n",
    "# print('------------------')\n",
    "# temperatureRadonGranger = grangercausalitytests(D001_df[['Rn', 'CO2']], maxGrangerLag)"
   ]
  },
  {
   "cell_type": "code",
   "execution_count": 142,
   "id": "29b07171",
   "metadata": {},
   "outputs": [
    {
     "name": "stderr",
     "output_type": "stream",
     "text": [
      "C:\\Users\\valdo\\anaconda3\\envs\\RnHealth\\lib\\site-packages\\statsmodels\\tsa\\base\\tsa_model.py:471: ValueWarning: A date index has been provided, but it has no associated frequency information and so will be ignored when e.g. forecasting.\n",
      "  self._init_dates(dates, freq)\n"
     ]
    },
    {
     "data": {
      "text/html": [
       "<table class=\"simpletable\">\n",
       "<caption>VAR Order Selection (* highlights the minimums)</caption>\n",
       "<tr>\n",
       "   <td></td>      <th>AIC</th>         <th>BIC</th>         <th>FPE</th>        <th>HQIC</th>    \n",
       "</tr>\n",
       "<tr>\n",
       "  <th>0</th>  <td>     9.013</td>  <td>     9.015</td>  <td>     8210.</td>  <td>     9.014</td> \n",
       "</tr>\n",
       "<tr>\n",
       "  <th>1</th>  <td>     7.015</td>  <td>     7.020</td>  <td>     1113.</td>  <td>     7.017</td> \n",
       "</tr>\n",
       "<tr>\n",
       "  <th>2</th>  <td>     6.967</td>  <td>     6.975</td>  <td>     1061.</td>  <td>     6.970</td> \n",
       "</tr>\n",
       "<tr>\n",
       "  <th>3</th>  <td>     6.925</td>  <td>     6.936</td>  <td>     1017.</td>  <td>     6.928</td> \n",
       "</tr>\n",
       "<tr>\n",
       "  <th>4</th>  <td>     6.922</td>  <td>     6.937</td>  <td>     1014.</td>  <td>     6.927</td> \n",
       "</tr>\n",
       "<tr>\n",
       "  <th>5</th>  <td>     6.816</td>  <td>     6.835</td>  <td>     912.7</td>  <td>     6.823</td> \n",
       "</tr>\n",
       "<tr>\n",
       "  <th>6</th>  <td>     6.812</td>  <td>     6.834</td>  <td>     908.7</td>  <td>     6.819</td> \n",
       "</tr>\n",
       "<tr>\n",
       "  <th>7</th>  <td>     6.811</td>  <td>     6.836</td>  <td>     908.0</td>  <td>     6.820</td> \n",
       "</tr>\n",
       "<tr>\n",
       "  <th>8</th>  <td>     6.807</td>  <td>     6.835</td>  <td>     903.9</td>  <td>     6.816</td> \n",
       "</tr>\n",
       "<tr>\n",
       "  <th>9</th>  <td>     6.784</td>  <td>     6.816</td>  <td>     883.8</td>  <td>     6.795</td> \n",
       "</tr>\n",
       "<tr>\n",
       "  <th>10</th> <td>     6.784</td>  <td>     6.818</td>  <td>     883.3</td>  <td>     6.796</td> \n",
       "</tr>\n",
       "<tr>\n",
       "  <th>11</th> <td>     6.783</td>  <td>     6.821</td>  <td>     882.4</td>  <td>     6.796</td> \n",
       "</tr>\n",
       "<tr>\n",
       "  <th>12</th> <td>     6.772</td>  <td>     6.814</td>  <td>     873.4</td>  <td>     6.786</td> \n",
       "</tr>\n",
       "<tr>\n",
       "  <th>13</th> <td>     6.764</td>  <td>     6.809</td>  <td>     866.1</td>  <td>     6.779</td> \n",
       "</tr>\n",
       "<tr>\n",
       "  <th>14</th> <td>     6.763</td>  <td>     6.811</td>  <td>     864.9</td>  <td>     6.779</td> \n",
       "</tr>\n",
       "<tr>\n",
       "  <th>15</th> <td>     6.751</td>  <td>     6.803*</td> <td>     855.3</td>  <td>     6.769</td> \n",
       "</tr>\n",
       "<tr>\n",
       "  <th>16</th> <td>     6.751</td>  <td>     6.805</td>  <td>     854.7</td>  <td>     6.769</td> \n",
       "</tr>\n",
       "<tr>\n",
       "  <th>17</th> <td>     6.749</td>  <td>     6.807</td>  <td>     853.4</td>  <td>     6.769</td> \n",
       "</tr>\n",
       "<tr>\n",
       "  <th>18</th> <td>     6.746</td>  <td>     6.808</td>  <td>     850.8</td>  <td>     6.767</td> \n",
       "</tr>\n",
       "<tr>\n",
       "  <th>19</th> <td>     6.743</td>  <td>     6.808</td>  <td>     848.4</td>  <td>     6.765</td> \n",
       "</tr>\n",
       "<tr>\n",
       "  <th>20</th> <td>     6.743</td>  <td>     6.811</td>  <td>     847.9</td>  <td>     6.766</td> \n",
       "</tr>\n",
       "<tr>\n",
       "  <th>21</th> <td>     6.743</td>  <td>     6.814</td>  <td>     847.9</td>  <td>     6.767</td> \n",
       "</tr>\n",
       "<tr>\n",
       "  <th>22</th> <td>     6.741</td>  <td>     6.815</td>  <td>     846.1</td>  <td>     6.766</td> \n",
       "</tr>\n",
       "<tr>\n",
       "  <th>23</th> <td>     6.733</td>  <td>     6.811</td>  <td>     839.6</td>  <td>     6.759*</td>\n",
       "</tr>\n",
       "<tr>\n",
       "  <th>24</th> <td>     6.733</td>  <td>     6.814</td>  <td>     839.5</td>  <td>     6.761</td> \n",
       "</tr>\n",
       "<tr>\n",
       "  <th>25</th> <td>     6.732</td>  <td>     6.817</td>  <td>     839.2</td>  <td>     6.761</td> \n",
       "</tr>\n",
       "<tr>\n",
       "  <th>26</th> <td>     6.731</td>  <td>     6.819</td>  <td>     838.1</td>  <td>     6.761</td> \n",
       "</tr>\n",
       "<tr>\n",
       "  <th>27</th> <td>     6.731</td>  <td>     6.822</td>  <td>     838.1</td>  <td>     6.762</td> \n",
       "</tr>\n",
       "<tr>\n",
       "  <th>28</th> <td>     6.729</td>  <td>     6.824</td>  <td>     836.5</td>  <td>     6.761</td> \n",
       "</tr>\n",
       "<tr>\n",
       "  <th>29</th> <td>     6.727</td>  <td>     6.825</td>  <td>     834.7</td>  <td>     6.760</td> \n",
       "</tr>\n",
       "<tr>\n",
       "  <th>30</th> <td>     6.725*</td> <td>     6.827</td>  <td>     833.4*</td> <td>     6.760</td> \n",
       "</tr>\n",
       "<tr>\n",
       "  <th>31</th> <td>     6.726</td>  <td>     6.830</td>  <td>     833.8</td>  <td>     6.762</td> \n",
       "</tr>\n",
       "<tr>\n",
       "  <th>32</th> <td>     6.727</td>  <td>     6.834</td>  <td>     834.4</td>  <td>     6.763</td> \n",
       "</tr>\n",
       "<tr>\n",
       "  <th>33</th> <td>     6.727</td>  <td>     6.838</td>  <td>     834.3</td>  <td>     6.764</td> \n",
       "</tr>\n",
       "<tr>\n",
       "  <th>34</th> <td>     6.726</td>  <td>     6.841</td>  <td>     834.1</td>  <td>     6.765</td> \n",
       "</tr>\n",
       "</table>"
      ],
      "text/plain": [
       "<class 'statsmodels.iolib.table.SimpleTable'>"
      ]
     },
     "execution_count": 142,
     "metadata": {},
     "output_type": "execute_result"
    }
   ],
   "source": [
    "maxlags=34\n",
    "model = VAR(D001_df)\n",
    "model_order = model.select_order(maxlags)\n",
    "model_order.summary()"
   ]
  },
  {
   "cell_type": "code",
   "execution_count": 143,
   "id": "f4e2f336",
   "metadata": {},
   "outputs": [],
   "source": [
    "lags = 7\n",
    "model_fitted= model.fit(lags)"
   ]
  },
  {
   "cell_type": "code",
   "execution_count": 144,
   "id": "ba564ecf",
   "metadata": {},
   "outputs": [
    {
     "name": "stdout",
     "output_type": "stream",
     "text": [
      "7\n"
     ]
    }
   ],
   "source": [
    "lag_order = model_fitted.k_ar\n",
    "print(lag_order)"
   ]
  },
  {
   "cell_type": "code",
   "execution_count": 145,
   "id": "8b2f9701",
   "metadata": {},
   "outputs": [
    {
     "name": "stdout",
     "output_type": "stream",
     "text": [
      "[[ 9.91666667e-02  3.47397500e+02]\n",
      " [-9.40909091e-02  3.75615455e+02]\n",
      " [-4.26742424e-01  3.61025000e+02]\n",
      " [-1.40833333e-01  3.47488333e+02]\n",
      " [ 4.84848485e-02  3.27105455e+02]\n",
      " [-1.23484848e-01  3.20598333e+02]\n",
      " [-4.16666667e-02  3.04630000e+02]]\n"
     ]
    }
   ],
   "source": [
    "forecast_input = train_data.values[-lag_order:]\n",
    "print(forecast_input )"
   ]
  },
  {
   "cell_type": "code",
   "execution_count": 146,
   "id": "2d9f14c1",
   "metadata": {},
   "outputs": [],
   "source": [
    "nobs = len(test_data)\n",
    "# print(nobs)\n",
    "# print(forecast_input)"
   ]
  },
  {
   "cell_type": "code",
   "execution_count": 147,
   "id": "536862ab",
   "metadata": {},
   "outputs": [],
   "source": [
    "forecast = model_fitted.forecast(y=forecast_input,steps = nobs)"
   ]
  },
  {
   "cell_type": "code",
   "execution_count": 148,
   "id": "dbab15a5",
   "metadata": {},
   "outputs": [
    {
     "data": {
      "text/plain": [
       "array([[ 1.99710792e-02,  3.02121675e+02],\n",
       "       [ 1.70196152e-02,  3.09189569e+02],\n",
       "       [ 1.10564209e-02,  3.07940097e+02],\n",
       "       ...,\n",
       "       [-1.13997635e-03,  2.60323822e+02],\n",
       "       [-1.13997635e-03,  2.60323822e+02],\n",
       "       [-1.13997635e-03,  2.60323822e+02]])"
      ]
     },
     "execution_count": 148,
     "metadata": {},
     "output_type": "execute_result"
    }
   ],
   "source": [
    "forecast"
   ]
  },
  {
   "cell_type": "code",
   "execution_count": 149,
   "id": "277ffe30",
   "metadata": {},
   "outputs": [],
   "source": [
    "forecast_df= pd.DataFrame(forecast,index=test_data.index, columns=test_data.columns)"
   ]
  },
  {
   "cell_type": "code",
   "execution_count": 150,
   "id": "4599f9dd",
   "metadata": {},
   "outputs": [
    {
     "data": {
      "text/html": [
       "<div>\n",
       "<style scoped>\n",
       "    .dataframe tbody tr th:only-of-type {\n",
       "        vertical-align: middle;\n",
       "    }\n",
       "\n",
       "    .dataframe tbody tr th {\n",
       "        vertical-align: top;\n",
       "    }\n",
       "\n",
       "    .dataframe thead th {\n",
       "        text-align: right;\n",
       "    }\n",
       "</style>\n",
       "<table border=\"1\" class=\"dataframe\">\n",
       "  <thead>\n",
       "    <tr style=\"text-align: right;\">\n",
       "      <th></th>\n",
       "      <th>T</th>\n",
       "      <th>Rn</th>\n",
       "    </tr>\n",
       "    <tr>\n",
       "      <th>time</th>\n",
       "      <th></th>\n",
       "      <th></th>\n",
       "    </tr>\n",
       "  </thead>\n",
       "  <tbody>\n",
       "    <tr>\n",
       "      <th>2021-05-13 18:00:00</th>\n",
       "      <td>1.278333</td>\n",
       "      <td>912.045000</td>\n",
       "    </tr>\n",
       "    <tr>\n",
       "      <th>2021-05-13 19:00:00</th>\n",
       "      <td>-0.097500</td>\n",
       "      <td>853.960000</td>\n",
       "    </tr>\n",
       "    <tr>\n",
       "      <th>2021-05-24 22:00:00</th>\n",
       "      <td>-0.932500</td>\n",
       "      <td>90.156667</td>\n",
       "    </tr>\n",
       "    <tr>\n",
       "      <th>2021-05-25 00:00:00</th>\n",
       "      <td>0.684000</td>\n",
       "      <td>68.766000</td>\n",
       "    </tr>\n",
       "    <tr>\n",
       "      <th>2021-05-25 01:00:00</th>\n",
       "      <td>-0.156273</td>\n",
       "      <td>79.580000</td>\n",
       "    </tr>\n",
       "    <tr>\n",
       "      <th>...</th>\n",
       "      <td>...</td>\n",
       "      <td>...</td>\n",
       "    </tr>\n",
       "    <tr>\n",
       "      <th>2021-08-18 08:00:00</th>\n",
       "      <td>0.047556</td>\n",
       "      <td>145.034000</td>\n",
       "    </tr>\n",
       "    <tr>\n",
       "      <th>2021-08-18 09:00:00</th>\n",
       "      <td>-0.107000</td>\n",
       "      <td>226.328000</td>\n",
       "    </tr>\n",
       "    <tr>\n",
       "      <th>2021-08-18 10:00:00</th>\n",
       "      <td>0.038750</td>\n",
       "      <td>247.572500</td>\n",
       "    </tr>\n",
       "    <tr>\n",
       "      <th>2021-08-23 08:00:00</th>\n",
       "      <td>0.586250</td>\n",
       "      <td>330.400000</td>\n",
       "    </tr>\n",
       "    <tr>\n",
       "      <th>2021-08-23 09:00:00</th>\n",
       "      <td>-0.090000</td>\n",
       "      <td>330.400000</td>\n",
       "    </tr>\n",
       "  </tbody>\n",
       "</table>\n",
       "<p>1710 rows × 2 columns</p>\n",
       "</div>"
      ],
      "text/plain": [
       "                            T          Rn\n",
       "time                                     \n",
       "2021-05-13 18:00:00  1.278333  912.045000\n",
       "2021-05-13 19:00:00 -0.097500  853.960000\n",
       "2021-05-24 22:00:00 -0.932500   90.156667\n",
       "2021-05-25 00:00:00  0.684000   68.766000\n",
       "2021-05-25 01:00:00 -0.156273   79.580000\n",
       "...                       ...         ...\n",
       "2021-08-18 08:00:00  0.047556  145.034000\n",
       "2021-08-18 09:00:00 -0.107000  226.328000\n",
       "2021-08-18 10:00:00  0.038750  247.572500\n",
       "2021-08-23 08:00:00  0.586250  330.400000\n",
       "2021-08-23 09:00:00 -0.090000  330.400000\n",
       "\n",
       "[1710 rows x 2 columns]"
      ]
     },
     "execution_count": 150,
     "metadata": {},
     "output_type": "execute_result"
    }
   ],
   "source": [
    "test_data"
   ]
  },
  {
   "cell_type": "code",
   "execution_count": 151,
   "id": "aa0efb91",
   "metadata": {},
   "outputs": [
    {
     "data": {
      "text/html": [
       "<div>\n",
       "<style scoped>\n",
       "    .dataframe tbody tr th:only-of-type {\n",
       "        vertical-align: middle;\n",
       "    }\n",
       "\n",
       "    .dataframe tbody tr th {\n",
       "        vertical-align: top;\n",
       "    }\n",
       "\n",
       "    .dataframe thead th {\n",
       "        text-align: right;\n",
       "    }\n",
       "</style>\n",
       "<table border=\"1\" class=\"dataframe\">\n",
       "  <thead>\n",
       "    <tr style=\"text-align: right;\">\n",
       "      <th></th>\n",
       "      <th>T</th>\n",
       "      <th>Rn</th>\n",
       "    </tr>\n",
       "    <tr>\n",
       "      <th>time</th>\n",
       "      <th></th>\n",
       "      <th></th>\n",
       "    </tr>\n",
       "  </thead>\n",
       "  <tbody>\n",
       "    <tr>\n",
       "      <th>2021-05-13 18:00:00</th>\n",
       "      <td>0.019971</td>\n",
       "      <td>302.121675</td>\n",
       "    </tr>\n",
       "    <tr>\n",
       "      <th>2021-05-13 19:00:00</th>\n",
       "      <td>0.017020</td>\n",
       "      <td>309.189569</td>\n",
       "    </tr>\n",
       "    <tr>\n",
       "      <th>2021-05-24 22:00:00</th>\n",
       "      <td>0.011056</td>\n",
       "      <td>307.940097</td>\n",
       "    </tr>\n",
       "    <tr>\n",
       "      <th>2021-05-25 00:00:00</th>\n",
       "      <td>-0.001585</td>\n",
       "      <td>306.733560</td>\n",
       "    </tr>\n",
       "    <tr>\n",
       "      <th>2021-05-25 01:00:00</th>\n",
       "      <td>0.001783</td>\n",
       "      <td>304.953795</td>\n",
       "    </tr>\n",
       "    <tr>\n",
       "      <th>...</th>\n",
       "      <td>...</td>\n",
       "      <td>...</td>\n",
       "    </tr>\n",
       "    <tr>\n",
       "      <th>2021-08-18 08:00:00</th>\n",
       "      <td>-0.001140</td>\n",
       "      <td>260.323822</td>\n",
       "    </tr>\n",
       "    <tr>\n",
       "      <th>2021-08-18 09:00:00</th>\n",
       "      <td>-0.001140</td>\n",
       "      <td>260.323822</td>\n",
       "    </tr>\n",
       "    <tr>\n",
       "      <th>2021-08-18 10:00:00</th>\n",
       "      <td>-0.001140</td>\n",
       "      <td>260.323822</td>\n",
       "    </tr>\n",
       "    <tr>\n",
       "      <th>2021-08-23 08:00:00</th>\n",
       "      <td>-0.001140</td>\n",
       "      <td>260.323822</td>\n",
       "    </tr>\n",
       "    <tr>\n",
       "      <th>2021-08-23 09:00:00</th>\n",
       "      <td>-0.001140</td>\n",
       "      <td>260.323822</td>\n",
       "    </tr>\n",
       "  </tbody>\n",
       "</table>\n",
       "<p>1710 rows × 2 columns</p>\n",
       "</div>"
      ],
      "text/plain": [
       "                            T          Rn\n",
       "time                                     \n",
       "2021-05-13 18:00:00  0.019971  302.121675\n",
       "2021-05-13 19:00:00  0.017020  309.189569\n",
       "2021-05-24 22:00:00  0.011056  307.940097\n",
       "2021-05-25 00:00:00 -0.001585  306.733560\n",
       "2021-05-25 01:00:00  0.001783  304.953795\n",
       "...                       ...         ...\n",
       "2021-08-18 08:00:00 -0.001140  260.323822\n",
       "2021-08-18 09:00:00 -0.001140  260.323822\n",
       "2021-08-18 10:00:00 -0.001140  260.323822\n",
       "2021-08-23 08:00:00 -0.001140  260.323822\n",
       "2021-08-23 09:00:00 -0.001140  260.323822\n",
       "\n",
       "[1710 rows x 2 columns]"
      ]
     },
     "execution_count": 151,
     "metadata": {},
     "output_type": "execute_result"
    }
   ],
   "source": [
    "forecast_df"
   ]
  },
  {
   "cell_type": "code",
   "execution_count": 152,
   "id": "2133878d",
   "metadata": {},
   "outputs": [
    {
     "data": {
      "image/png": "[encoded data removed]",
      "text/plain": [
       "<Figure size 720x1440 with 1 Axes>"
      ]
     },
     "metadata": {
      "needs_background": "light"
     },
     "output_type": "display_data"
    }
   ],
   "source": [
    "no_cols = len(test_data.columns)\n",
    "\n",
    "index = 1\n",
    "\n",
    "plt.figure(figsize=(10,20))\n",
    "# for column in test_data.columns:\n",
    "plt.subplot(no_cols,1,index)\n",
    "plt.plot(test_data['Rn'])\n",
    "plt.plot(forecast_df['Rn'])\n",
    "plt.title(column,loc='right',y=0.5)\n",
    "\n",
    "plt.show()"
   ]
  },
  {
   "cell_type": "code",
   "execution_count": null,
   "id": "7f69f759",
   "metadata": {},
   "outputs": [],
   "source": []
  }
 ],
 "metadata": {
  "kernelspec": {
   "display_name": "Python 3 (ipykernel)",
   "language": "python",
   "name": "python3"
  },
  "language_info": {
   "codemirror_mode": {
    "name": "ipython",
    "version": 3
   },
   "file_extension": ".py",
   "mimetype": "text/x-python",
   "name": "python",
   "nbconvert_exporter": "python",
   "pygments_lexer": "ipython3",
   "version": "3.9.12"
  }
 },
 "nbformat": 4,
 "nbformat_minor": 5
}
