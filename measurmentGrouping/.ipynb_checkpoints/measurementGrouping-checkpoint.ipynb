{
 "cells": [
  {
   "cell_type": "code",
   "execution_count": 83,
   "id": "b62d4988",
   "metadata": {},
   "outputs": [],
   "source": [
    "import pandas as pd\n",
    "from pymongo import MongoClient"
   ]
  },
  {
   "cell_type": "markdown",
   "id": "cebcc795",
   "metadata": {},
   "source": [
    "# 1. Access to local database access"
   ]
  },
  {
   "cell_type": "code",
   "execution_count": 84,
   "id": "8fa4bed3",
   "metadata": {},
   "outputs": [],
   "source": [
    "client = MongoClient(\"mongodb://localhost:27017\");\n",
    "database = client['RnHealthCleanData']"
   ]
  },
  {
   "cell_type": "markdown",
   "id": "a6da3a81",
   "metadata": {},
   "source": [
    "# 2. Dataset opening"
   ]
  },
  {
   "cell_type": "code",
   "execution_count": 85,
   "id": "26e9a42f",
   "metadata": {},
   "outputs": [],
   "source": [
    "measurementsDf = pd.read_json('../../../../Data/RawData/measurements.json')"
   ]
  },
  {
   "cell_type": "code",
   "execution_count": 92,
   "id": "979edb7f",
   "metadata": {},
   "outputs": [
    {
     "data": {
      "text/html": [
       "<div>\n",
       "<style scoped>\n",
       "    .dataframe tbody tr th:only-of-type {\n",
       "        vertical-align: middle;\n",
       "    }\n",
       "\n",
       "    .dataframe tbody tr th {\n",
       "        vertical-align: top;\n",
       "    }\n",
       "\n",
       "    .dataframe thead th {\n",
       "        text-align: right;\n",
       "    }\n",
       "</style>\n",
       "<table border=\"1\" class=\"dataframe\">\n",
       "  <thead>\n",
       "    <tr style=\"text-align: right;\">\n",
       "      <th></th>\n",
       "      <th>time</th>\n",
       "      <th>T</th>\n",
       "      <th>Rn</th>\n",
       "      <th>H</th>\n",
       "      <th>P</th>\n",
       "      <th>CO2</th>\n",
       "      <th>sensor_id</th>\n",
       "    </tr>\n",
       "  </thead>\n",
       "  <tbody>\n",
       "    <tr>\n",
       "      <th>0</th>\n",
       "      <td>2020-06-27T10:00:00.000Z</td>\n",
       "      <td>3.000000</td>\n",
       "      <td>NaN</td>\n",
       "      <td>14.000000</td>\n",
       "      <td>NaN</td>\n",
       "      <td>NaN</td>\n",
       "      <td>@0123</td>\n",
       "    </tr>\n",
       "    <tr>\n",
       "      <th>1</th>\n",
       "      <td>2020-07-14T14:00:00.000Z</td>\n",
       "      <td>31.300000</td>\n",
       "      <td>NaN</td>\n",
       "      <td>44.475000</td>\n",
       "      <td>NaN</td>\n",
       "      <td>567.750000</td>\n",
       "      <td>D0001</td>\n",
       "    </tr>\n",
       "    <tr>\n",
       "      <th>2</th>\n",
       "      <td>2020-07-14T15:00:00.000Z</td>\n",
       "      <td>31.333333</td>\n",
       "      <td>NaN</td>\n",
       "      <td>45.505556</td>\n",
       "      <td>NaN</td>\n",
       "      <td>636.361111</td>\n",
       "      <td>D0001</td>\n",
       "    </tr>\n",
       "    <tr>\n",
       "      <th>3</th>\n",
       "      <td>2020-07-14T16:00:00.000Z</td>\n",
       "      <td>31.451429</td>\n",
       "      <td>NaN</td>\n",
       "      <td>47.145714</td>\n",
       "      <td>NaN</td>\n",
       "      <td>734.000000</td>\n",
       "      <td>D0001</td>\n",
       "    </tr>\n",
       "    <tr>\n",
       "      <th>4</th>\n",
       "      <td>2020-07-14T17:00:00.000Z</td>\n",
       "      <td>31.161765</td>\n",
       "      <td>NaN</td>\n",
       "      <td>36.000000</td>\n",
       "      <td>NaN</td>\n",
       "      <td>461.529412</td>\n",
       "      <td>D0001</td>\n",
       "    </tr>\n",
       "    <tr>\n",
       "      <th>5</th>\n",
       "      <td>2020-07-14T18:00:00.000Z</td>\n",
       "      <td>31.008333</td>\n",
       "      <td>NaN</td>\n",
       "      <td>28.436111</td>\n",
       "      <td>NaN</td>\n",
       "      <td>400.000000</td>\n",
       "      <td>D0001</td>\n",
       "    </tr>\n",
       "    <tr>\n",
       "      <th>6</th>\n",
       "      <td>2020-07-14T19:00:00.000Z</td>\n",
       "      <td>30.647222</td>\n",
       "      <td>NaN</td>\n",
       "      <td>29.133333</td>\n",
       "      <td>NaN</td>\n",
       "      <td>400.000000</td>\n",
       "      <td>D0001</td>\n",
       "    </tr>\n",
       "    <tr>\n",
       "      <th>7</th>\n",
       "      <td>2020-07-14T20:00:00.000Z</td>\n",
       "      <td>29.891429</td>\n",
       "      <td>NaN</td>\n",
       "      <td>28.597143</td>\n",
       "      <td>NaN</td>\n",
       "      <td>400.000000</td>\n",
       "      <td>D0001</td>\n",
       "    </tr>\n",
       "    <tr>\n",
       "      <th>8</th>\n",
       "      <td>2020-07-14T21:00:00.000Z</td>\n",
       "      <td>29.118919</td>\n",
       "      <td>NaN</td>\n",
       "      <td>29.162162</td>\n",
       "      <td>NaN</td>\n",
       "      <td>400.000000</td>\n",
       "      <td>D0001</td>\n",
       "    </tr>\n",
       "    <tr>\n",
       "      <th>9</th>\n",
       "      <td>2020-07-14T22:00:00.000Z</td>\n",
       "      <td>28.200000</td>\n",
       "      <td>NaN</td>\n",
       "      <td>31.611111</td>\n",
       "      <td>NaN</td>\n",
       "      <td>400.000000</td>\n",
       "      <td>D0001</td>\n",
       "    </tr>\n",
       "  </tbody>\n",
       "</table>\n",
       "</div>"
      ],
      "text/plain": [
       "                       time          T  Rn          H   P         CO2  \\\n",
       "0  2020-06-27T10:00:00.000Z   3.000000 NaN  14.000000 NaN         NaN   \n",
       "1  2020-07-14T14:00:00.000Z  31.300000 NaN  44.475000 NaN  567.750000   \n",
       "2  2020-07-14T15:00:00.000Z  31.333333 NaN  45.505556 NaN  636.361111   \n",
       "3  2020-07-14T16:00:00.000Z  31.451429 NaN  47.145714 NaN  734.000000   \n",
       "4  2020-07-14T17:00:00.000Z  31.161765 NaN  36.000000 NaN  461.529412   \n",
       "5  2020-07-14T18:00:00.000Z  31.008333 NaN  28.436111 NaN  400.000000   \n",
       "6  2020-07-14T19:00:00.000Z  30.647222 NaN  29.133333 NaN  400.000000   \n",
       "7  2020-07-14T20:00:00.000Z  29.891429 NaN  28.597143 NaN  400.000000   \n",
       "8  2020-07-14T21:00:00.000Z  29.118919 NaN  29.162162 NaN  400.000000   \n",
       "9  2020-07-14T22:00:00.000Z  28.200000 NaN  31.611111 NaN  400.000000   \n",
       "\n",
       "  sensor_id  \n",
       "0     @0123  \n",
       "1     D0001  \n",
       "2     D0001  \n",
       "3     D0001  \n",
       "4     D0001  \n",
       "5     D0001  \n",
       "6     D0001  \n",
       "7     D0001  \n",
       "8     D0001  \n",
       "9     D0001  "
      ]
     },
     "execution_count": 92,
     "metadata": {},
     "output_type": "execute_result"
    }
   ],
   "source": [
    "len(measurementsDf.index)\n",
    "measurementsDf.head(10)"
   ]
  },
  {
   "cell_type": "markdown",
   "id": "e6132e6f",
   "metadata": {},
   "source": [
    "# 3. Stores sensors id's"
   ]
  },
  {
   "cell_type": "code",
   "execution_count": 87,
   "id": "b79876fb",
   "metadata": {},
   "outputs": [],
   "source": [
    "sensors= measurementsDf['sensor_id'].unique() "
   ]
  },
  {
   "cell_type": "code",
   "execution_count": 88,
   "id": "9e5e0ada",
   "metadata": {},
   "outputs": [
    {
     "name": "stdout",
     "output_type": "stream",
     "text": [
      "['@0123' 'D0001' 'D000999' 'D001' 'D0011' 'D0012' 'D002' 'D0020' 'D0021'\n",
      " 'D0022' 'D0023' 'D0024' 'D0025' 'D0026' 'D0027' 'D0028' 'D0029' 'D003'\n",
      " 'D004' 'D005' 'D006' 'D007' 'D008' 'D009' 'D0099' 'D0123' 'D77' 'DIAQ002'\n",
      " 'undefined']\n"
     ]
    },
    {
     "data": {
      "text/plain": [
       "29"
      ]
     },
     "execution_count": 88,
     "metadata": {},
     "output_type": "execute_result"
    }
   ],
   "source": [
    "print(measurementsDf['sensor_id'].unique())\n",
    "len(sensors)"
   ]
  },
  {
   "cell_type": "markdown",
   "id": "60d46ed9",
   "metadata": {},
   "source": [
    "# 4. Creates one collection per sensor and stores each sensor data on its own collection"
   ]
  },
  {
   "cell_type": "code",
   "execution_count": 89,
   "id": "1b4970aa",
   "metadata": {},
   "outputs": [
    {
     "name": "stdout",
     "output_type": "stream",
     "text": [
      "<pymongo.results.InsertManyResult object at 0x0000012EEF837100>\n",
      "<pymongo.results.InsertManyResult object at 0x0000012EEF828340>\n",
      "<pymongo.results.InsertManyResult object at 0x0000012EECEAB070>\n",
      "<pymongo.results.InsertManyResult object at 0x0000012EEC86CFD0>\n",
      "<pymongo.results.InsertManyResult object at 0x0000012EECDF9A30>\n",
      "<pymongo.results.InsertManyResult object at 0x0000012EF319FE80>\n",
      "<pymongo.results.InsertManyResult object at 0x0000012EEEF5B070>\n",
      "<pymongo.results.InsertManyResult object at 0x0000012EF319F910>\n",
      "<pymongo.results.InsertManyResult object at 0x0000012EF1C870A0>\n",
      "<pymongo.results.InsertManyResult object at 0x0000012EF319F970>\n",
      "<pymongo.results.InsertManyResult object at 0x0000012EF1C87C10>\n",
      "<pymongo.results.InsertManyResult object at 0x0000012EF319FCA0>\n",
      "<pymongo.results.InsertManyResult object at 0x0000012EF316AD60>\n",
      "<pymongo.results.InsertManyResult object at 0x0000012EEFE29610>\n",
      "<pymongo.results.InsertManyResult object at 0x0000012EEF84F970>\n",
      "<pymongo.results.InsertManyResult object at 0x0000012EF021E730>\n",
      "<pymongo.results.InsertManyResult object at 0x0000012EF319F340>\n",
      "<pymongo.results.InsertManyResult object at 0x0000012EECD5CD90>\n",
      "<pymongo.results.InsertManyResult object at 0x0000012EEF84F970>\n",
      "<pymongo.results.InsertManyResult object at 0x0000012EECD5CEE0>\n",
      "<pymongo.results.InsertManyResult object at 0x0000012EF33C0A00>\n",
      "<pymongo.results.InsertManyResult object at 0x0000012EF31EFB80>\n",
      "<pymongo.results.InsertManyResult object at 0x0000012EF33C08E0>\n",
      "<pymongo.results.InsertManyResult object at 0x0000012EF3CAA9A0>\n",
      "<pymongo.results.InsertManyResult object at 0x0000012EEFE295E0>\n",
      "<pymongo.results.InsertManyResult object at 0x0000012EF30C7A60>\n",
      "<pymongo.results.InsertManyResult object at 0x0000012EEE280130>\n",
      "<pymongo.results.InsertManyResult object at 0x0000012EEE280760>\n",
      "<pymongo.results.InsertManyResult object at 0x0000012EEE280040>\n"
     ]
    }
   ],
   "source": [
    "for x in sensors:\n",
    "    measures = measurementsDf[measurementsDf['sensor_id']==x]\n",
    "    collection_id = database[x].insert_many(measures.to_dict('records'))\n",
    "    print(collection_id)"
   ]
  }
 ],
 "metadata": {
  "kernelspec": {
   "display_name": "Python 3 (ipykernel)",
   "language": "python",
   "name": "python3"
  },
  "language_info": {
   "codemirror_mode": {
    "name": "ipython",
    "version": 3
   },
   "file_extension": ".py",
   "mimetype": "text/x-python",
   "name": "python",
   "nbconvert_exporter": "python",
   "pygments_lexer": "ipython3",
   "version": "3.9.12"
  }
 },
 "nbformat": 4,
 "nbformat_minor": 5
}
