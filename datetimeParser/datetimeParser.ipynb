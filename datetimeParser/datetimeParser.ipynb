{
 "cells": [
  {
   "cell_type": "markdown",
   "id": "fc3c6b36",
   "metadata": {},
   "source": [
    "# 1. Libraries Importation"
   ]
  },
  {
   "cell_type": "code",
   "execution_count": 7,
   "id": "a536f2e4",
   "metadata": {},
   "outputs": [],
   "source": [
    "import pandas as pd\n",
    "from dateutil import parser\n",
    "from datetime import timezone, datetime\n",
    "pd.options.mode.chained_assignment = None"
   ]
  },
  {
   "cell_type": "markdown",
   "id": "db814f13",
   "metadata": {},
   "source": [
    "# 2. Data Loading"
   ]
  },
  {
   "cell_type": "code",
   "execution_count": 8,
   "id": "e72d6481",
   "metadata": {},
   "outputs": [],
   "source": [
    "measurementsDf = pd.read_json('../../../../Data/RawData/measurements.json')"
   ]
  },
  {
   "cell_type": "code",
   "execution_count": 3,
   "id": "add37cb5",
   "metadata": {},
   "outputs": [
    {
     "data": {
      "text/html": [
       "<div>\n",
       "<style scoped>\n",
       "    .dataframe tbody tr th:only-of-type {\n",
       "        vertical-align: middle;\n",
       "    }\n",
       "\n",
       "    .dataframe tbody tr th {\n",
       "        vertical-align: top;\n",
       "    }\n",
       "\n",
       "    .dataframe thead th {\n",
       "        text-align: right;\n",
       "    }\n",
       "</style>\n",
       "<table border=\"1\" class=\"dataframe\">\n",
       "  <thead>\n",
       "    <tr style=\"text-align: right;\">\n",
       "      <th></th>\n",
       "      <th>time</th>\n",
       "      <th>T</th>\n",
       "      <th>Rn</th>\n",
       "      <th>H</th>\n",
       "      <th>P</th>\n",
       "      <th>CO2</th>\n",
       "      <th>sensor_id</th>\n",
       "    </tr>\n",
       "  </thead>\n",
       "  <tbody>\n",
       "    <tr>\n",
       "      <th>0</th>\n",
       "      <td>2020-06-27T10:00:00.000Z</td>\n",
       "      <td>3.000000</td>\n",
       "      <td>NaN</td>\n",
       "      <td>14.000000</td>\n",
       "      <td>NaN</td>\n",
       "      <td>NaN</td>\n",
       "      <td>@0123</td>\n",
       "    </tr>\n",
       "    <tr>\n",
       "      <th>1</th>\n",
       "      <td>2020-07-14T14:00:00.000Z</td>\n",
       "      <td>31.300000</td>\n",
       "      <td>NaN</td>\n",
       "      <td>44.475000</td>\n",
       "      <td>NaN</td>\n",
       "      <td>567.750000</td>\n",
       "      <td>D0001</td>\n",
       "    </tr>\n",
       "    <tr>\n",
       "      <th>2</th>\n",
       "      <td>2020-07-14T15:00:00.000Z</td>\n",
       "      <td>31.333333</td>\n",
       "      <td>NaN</td>\n",
       "      <td>45.505556</td>\n",
       "      <td>NaN</td>\n",
       "      <td>636.361111</td>\n",
       "      <td>D0001</td>\n",
       "    </tr>\n",
       "    <tr>\n",
       "      <th>3</th>\n",
       "      <td>2020-07-14T16:00:00.000Z</td>\n",
       "      <td>31.451429</td>\n",
       "      <td>NaN</td>\n",
       "      <td>47.145714</td>\n",
       "      <td>NaN</td>\n",
       "      <td>734.000000</td>\n",
       "      <td>D0001</td>\n",
       "    </tr>\n",
       "    <tr>\n",
       "      <th>4</th>\n",
       "      <td>2020-07-14T17:00:00.000Z</td>\n",
       "      <td>31.161765</td>\n",
       "      <td>NaN</td>\n",
       "      <td>36.000000</td>\n",
       "      <td>NaN</td>\n",
       "      <td>461.529412</td>\n",
       "      <td>D0001</td>\n",
       "    </tr>\n",
       "  </tbody>\n",
       "</table>\n",
       "</div>"
      ],
      "text/plain": [
       "                       time          T  Rn          H   P         CO2  \\\n",
       "0  2020-06-27T10:00:00.000Z   3.000000 NaN  14.000000 NaN         NaN   \n",
       "1  2020-07-14T14:00:00.000Z  31.300000 NaN  44.475000 NaN  567.750000   \n",
       "2  2020-07-14T15:00:00.000Z  31.333333 NaN  45.505556 NaN  636.361111   \n",
       "3  2020-07-14T16:00:00.000Z  31.451429 NaN  47.145714 NaN  734.000000   \n",
       "4  2020-07-14T17:00:00.000Z  31.161765 NaN  36.000000 NaN  461.529412   \n",
       "\n",
       "  sensor_id  \n",
       "0     @0123  \n",
       "1     D0001  \n",
       "2     D0001  \n",
       "3     D0001  \n",
       "4     D0001  "
      ]
     },
     "execution_count": 3,
     "metadata": {},
     "output_type": "execute_result"
    }
   ],
   "source": [
    "measurementsDf.head()"
   ]
  },
  {
   "cell_type": "markdown",
   "id": "89fef175",
   "metadata": {},
   "source": [
    "# 3. Time Parsing"
   ]
  },
  {
   "cell_type": "markdown",
   "id": "abba9745",
   "metadata": {},
   "source": [
    "### 3.1 Parse time column to timestamp - optional"
   ]
  },
  {
   "cell_type": "code",
   "execution_count": 4,
   "id": "dd0730c2",
   "metadata": {},
   "outputs": [],
   "source": [
    "def parseTimeFrameToTimestamp():\n",
    "    for i in range(len(measurementsDf['time'])):\n",
    "        timeContainer  = measurementsDf['time'][i].replace('.000','')\n",
    "        timeContainer = datetime.strptime(timeContainer, \"%Y-%m-%dT%H:%M:%SZ\")\n",
    "        timeContainer = int(round(timeContainer.timestamp()))\n",
    "        measurementsDf['time'][i] = timeContainer"
   ]
  },
  {
   "cell_type": "code",
   "execution_count": 5,
   "id": "53d337db",
   "metadata": {},
   "outputs": [],
   "source": [
    "parseTimeFrameToTimestamp()"
   ]
  },
  {
   "cell_type": "markdown",
   "id": "29f93997",
   "metadata": {},
   "source": [
    "### 3.2. Parse time column to time - optional"
   ]
  },
  {
   "cell_type": "code",
   "execution_count": 9,
   "id": "3352d15a",
   "metadata": {},
   "outputs": [],
   "source": [
    "def parseTimeFrameToTime():\n",
    "    for i in range(len(measurementsDf['time'])):\n",
    "        timeContainer  = measurementsDf['time'][i].replace('.000','')\n",
    "        timeContainer = datetime.strptime(timeContainer, \"%Y-%m-%dT%H:%M:%SZ\")\n",
    "        timeContainer = int(round(timeContainer.timestamp()))\n",
    "        timeContainer = datetime.fromtimestamp(timeContainer)\n",
    "        measurementsDf['time'][i] = timeContainer.time()"
   ]
  },
  {
   "cell_type": "code",
   "execution_count": 10,
   "id": "0e09d9ed",
   "metadata": {},
   "outputs": [],
   "source": [
    "parseTimeFrameToTime()"
   ]
  },
  {
   "cell_type": "markdown",
   "id": "1319f5e1",
   "metadata": {},
   "source": [
    "# 4. Final output"
   ]
  },
  {
   "cell_type": "code",
   "execution_count": 11,
   "id": "a5dc7294",
   "metadata": {},
   "outputs": [
    {
     "data": {
      "text/html": [
       "<div>\n",
       "<style scoped>\n",
       "    .dataframe tbody tr th:only-of-type {\n",
       "        vertical-align: middle;\n",
       "    }\n",
       "\n",
       "    .dataframe tbody tr th {\n",
       "        vertical-align: top;\n",
       "    }\n",
       "\n",
       "    .dataframe thead th {\n",
       "        text-align: right;\n",
       "    }\n",
       "</style>\n",
       "<table border=\"1\" class=\"dataframe\">\n",
       "  <thead>\n",
       "    <tr style=\"text-align: right;\">\n",
       "      <th></th>\n",
       "      <th>time</th>\n",
       "      <th>T</th>\n",
       "      <th>Rn</th>\n",
       "      <th>H</th>\n",
       "      <th>P</th>\n",
       "      <th>CO2</th>\n",
       "      <th>sensor_id</th>\n",
       "    </tr>\n",
       "  </thead>\n",
       "  <tbody>\n",
       "    <tr>\n",
       "      <th>0</th>\n",
       "      <td>10:00:00</td>\n",
       "      <td>3.000000</td>\n",
       "      <td>NaN</td>\n",
       "      <td>14.000000</td>\n",
       "      <td>NaN</td>\n",
       "      <td>NaN</td>\n",
       "      <td>@0123</td>\n",
       "    </tr>\n",
       "    <tr>\n",
       "      <th>1</th>\n",
       "      <td>14:00:00</td>\n",
       "      <td>31.300000</td>\n",
       "      <td>NaN</td>\n",
       "      <td>44.475000</td>\n",
       "      <td>NaN</td>\n",
       "      <td>567.750000</td>\n",
       "      <td>D0001</td>\n",
       "    </tr>\n",
       "    <tr>\n",
       "      <th>2</th>\n",
       "      <td>15:00:00</td>\n",
       "      <td>31.333333</td>\n",
       "      <td>NaN</td>\n",
       "      <td>45.505556</td>\n",
       "      <td>NaN</td>\n",
       "      <td>636.361111</td>\n",
       "      <td>D0001</td>\n",
       "    </tr>\n",
       "    <tr>\n",
       "      <th>3</th>\n",
       "      <td>16:00:00</td>\n",
       "      <td>31.451429</td>\n",
       "      <td>NaN</td>\n",
       "      <td>47.145714</td>\n",
       "      <td>NaN</td>\n",
       "      <td>734.000000</td>\n",
       "      <td>D0001</td>\n",
       "    </tr>\n",
       "    <tr>\n",
       "      <th>4</th>\n",
       "      <td>17:00:00</td>\n",
       "      <td>31.161765</td>\n",
       "      <td>NaN</td>\n",
       "      <td>36.000000</td>\n",
       "      <td>NaN</td>\n",
       "      <td>461.529412</td>\n",
       "      <td>D0001</td>\n",
       "    </tr>\n",
       "  </tbody>\n",
       "</table>\n",
       "</div>"
      ],
      "text/plain": [
       "       time          T  Rn          H   P         CO2 sensor_id\n",
       "0  10:00:00   3.000000 NaN  14.000000 NaN         NaN     @0123\n",
       "1  14:00:00  31.300000 NaN  44.475000 NaN  567.750000     D0001\n",
       "2  15:00:00  31.333333 NaN  45.505556 NaN  636.361111     D0001\n",
       "3  16:00:00  31.451429 NaN  47.145714 NaN  734.000000     D0001\n",
       "4  17:00:00  31.161765 NaN  36.000000 NaN  461.529412     D0001"
      ]
     },
     "execution_count": 11,
     "metadata": {},
     "output_type": "execute_result"
    }
   ],
   "source": [
    "measurementsDf.head()"
   ]
  }
 ],
 "metadata": {
  "kernelspec": {
   "display_name": "Python 3 (ipykernel)",
   "language": "python",
   "name": "python3"
  },
  "language_info": {
   "codemirror_mode": {
    "name": "ipython",
    "version": 3
   },
   "file_extension": ".py",
   "mimetype": "text/x-python",
   "name": "python",
   "nbconvert_exporter": "python",
   "pygments_lexer": "ipython3",
   "version": "3.9.12"
  }
 },
 "nbformat": 4,
 "nbformat_minor": 5
}
