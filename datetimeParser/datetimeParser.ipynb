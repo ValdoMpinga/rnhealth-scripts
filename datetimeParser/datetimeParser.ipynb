{
 "cells": [
  {
   "cell_type": "markdown",
   "id": "fc3c6b36",
   "metadata": {},
   "source": [
    "# 1. Libraries Importation"
   ]
  },
  {
   "cell_type": "code",
   "execution_count": 3,
   "id": "a536f2e4",
   "metadata": {},
   "outputs": [],
   "source": [
    "import pandas as pd\n",
    "from dateutil import parser\n",
    "from datetime import timezone, datetime\n",
    "pd.options.mode.chained_assignment = None"
   ]
  },
  {
   "cell_type": "markdown",
   "id": "db814f13",
   "metadata": {},
   "source": [
    "# 2. Data Loading"
   ]
  },
  {
   "cell_type": "code",
   "execution_count": 4,
   "id": "e72d6481",
   "metadata": {},
   "outputs": [],
   "source": [
    "measurementsDf = pd.read_json('../../../../Data/RawData/measurements.json')"
   ]
  },
  {
   "cell_type": "code",
   "execution_count": 5,
   "id": "add37cb5",
   "metadata": {
    "scrolled": true
   },
   "outputs": [
    {
     "data": {
      "text/html": [
       "<div>\n",
       "<style scoped>\n",
       "    .dataframe tbody tr th:only-of-type {\n",
       "        vertical-align: middle;\n",
       "    }\n",
       "\n",
       "    .dataframe tbody tr th {\n",
       "        vertical-align: top;\n",
       "    }\n",
       "\n",
       "    .dataframe thead th {\n",
       "        text-align: right;\n",
       "    }\n",
       "</style>\n",
       "<table border=\"1\" class=\"dataframe\">\n",
       "  <thead>\n",
       "    <tr style=\"text-align: right;\">\n",
       "      <th></th>\n",
       "      <th>time</th>\n",
       "      <th>T</th>\n",
       "      <th>Rn</th>\n",
       "      <th>H</th>\n",
       "      <th>P</th>\n",
       "      <th>CO2</th>\n",
       "      <th>sensor_id</th>\n",
       "    </tr>\n",
       "  </thead>\n",
       "  <tbody>\n",
       "    <tr>\n",
       "      <th>0</th>\n",
       "      <td>2020-06-27T10:00:00.000Z</td>\n",
       "      <td>3.000000</td>\n",
       "      <td>NaN</td>\n",
       "      <td>14.000000</td>\n",
       "      <td>NaN</td>\n",
       "      <td>NaN</td>\n",
       "      <td>@0123</td>\n",
       "    </tr>\n",
       "    <tr>\n",
       "      <th>1</th>\n",
       "      <td>2020-07-14T14:00:00.000Z</td>\n",
       "      <td>31.300000</td>\n",
       "      <td>NaN</td>\n",
       "      <td>44.475000</td>\n",
       "      <td>NaN</td>\n",
       "      <td>567.750000</td>\n",
       "      <td>D0001</td>\n",
       "    </tr>\n",
       "    <tr>\n",
       "      <th>2</th>\n",
       "      <td>2020-07-14T15:00:00.000Z</td>\n",
       "      <td>31.333333</td>\n",
       "      <td>NaN</td>\n",
       "      <td>45.505556</td>\n",
       "      <td>NaN</td>\n",
       "      <td>636.361111</td>\n",
       "      <td>D0001</td>\n",
       "    </tr>\n",
       "    <tr>\n",
       "      <th>3</th>\n",
       "      <td>2020-07-14T16:00:00.000Z</td>\n",
       "      <td>31.451429</td>\n",
       "      <td>NaN</td>\n",
       "      <td>47.145714</td>\n",
       "      <td>NaN</td>\n",
       "      <td>734.000000</td>\n",
       "      <td>D0001</td>\n",
       "    </tr>\n",
       "    <tr>\n",
       "      <th>4</th>\n",
       "      <td>2020-07-14T17:00:00.000Z</td>\n",
       "      <td>31.161765</td>\n",
       "      <td>NaN</td>\n",
       "      <td>36.000000</td>\n",
       "      <td>NaN</td>\n",
       "      <td>461.529412</td>\n",
       "      <td>D0001</td>\n",
       "    </tr>\n",
       "  </tbody>\n",
       "</table>\n",
       "</div>"
      ],
      "text/plain": [
       "                       time          T  Rn          H   P         CO2  \\\n",
       "0  2020-06-27T10:00:00.000Z   3.000000 NaN  14.000000 NaN         NaN   \n",
       "1  2020-07-14T14:00:00.000Z  31.300000 NaN  44.475000 NaN  567.750000   \n",
       "2  2020-07-14T15:00:00.000Z  31.333333 NaN  45.505556 NaN  636.361111   \n",
       "3  2020-07-14T16:00:00.000Z  31.451429 NaN  47.145714 NaN  734.000000   \n",
       "4  2020-07-14T17:00:00.000Z  31.161765 NaN  36.000000 NaN  461.529412   \n",
       "\n",
       "  sensor_id  \n",
       "0     @0123  \n",
       "1     D0001  \n",
       "2     D0001  \n",
       "3     D0001  \n",
       "4     D0001  "
      ]
     },
     "execution_count": 5,
     "metadata": {},
     "output_type": "execute_result"
    }
   ],
   "source": [
    "measurementsDf.head()"
   ]
  },
  {
   "cell_type": "code",
   "execution_count": 6,
   "id": "6f5a20a1",
   "metadata": {},
   "outputs": [],
   "source": [
    "dayDf = pd.DataFrame(columns = [\"day\"])\n",
    "monthDf = pd.DataFrame(columns = [\"month\"])\n",
    "hourDf = pd.DataFrame(columns = [\"hour\"])"
   ]
  },
  {
   "cell_type": "markdown",
   "id": "89fef175",
   "metadata": {},
   "source": [
    "# 3. Time Parsing"
   ]
  },
  {
   "cell_type": "markdown",
   "id": "abba9745",
   "metadata": {},
   "source": [
    "### 3.1 Parse time column to timestamp - optional"
   ]
  },
  {
   "cell_type": "code",
   "execution_count": 56,
   "id": "dd0730c2",
   "metadata": {},
   "outputs": [],
   "source": [
    "def parseTimeFrameToTimestamp():\n",
    "    for i in range(len(measurementsDf['time'])):\n",
    "        timeContainer  = measurementsDf['time'][i].replace('.000','')\n",
    "        timeContainer = datetime.strptime(timeContainer, \"%Y-%m-%dT%H:%M:%SZ\")\n",
    "        timeContainer = int(round(timeContainer.timestamp()))\n",
    "        measurementsDf['time'][i] = timeContainer"
   ]
  },
  {
   "cell_type": "code",
   "execution_count": 60,
   "id": "53d337db",
   "metadata": {},
   "outputs": [],
   "source": [
    "#parseTimeFrameToTimestamp()"
   ]
  },
  {
   "cell_type": "markdown",
   "id": "29f93997",
   "metadata": {},
   "source": [
    "### 3.2. Parse time column to time - optional"
   ]
  },
  {
   "cell_type": "code",
   "execution_count": 9,
   "id": "3352d15a",
   "metadata": {},
   "outputs": [],
   "source": [
    "def parseTimeFrameToTime():\n",
    "    for i in range(len(measurementsDf['time'])):\n",
    "        timeContainer  = measurementsDf['time'][i].replace('.000','')\n",
    "        timeContainer = datetime.strptime(timeContainer, \"%Y-%m-%dT%H:%M:%SZ\")\n",
    "        timeContainer = int(round(timeContainer.timestamp()))\n",
    "        timeContainer = datetime.fromtimestamp(timeContainer)\n",
    "        measurementsDf['time'][i] = timeContainer.time()"
   ]
  },
  {
   "cell_type": "code",
   "execution_count": 59,
   "id": "0e09d9ed",
   "metadata": {},
   "outputs": [],
   "source": [
    "#parseTimeFrameToTime()"
   ]
  },
  {
   "cell_type": "markdown",
   "id": "f918e9f2",
   "metadata": {},
   "source": [
    "### 3.3. Day, Month and time column creation - optional\n"
   ]
  },
  {
   "cell_type": "code",
   "execution_count": 7,
   "id": "05a88ea7",
   "metadata": {},
   "outputs": [],
   "source": [
    "def dayMonthTimeDataFrameCreator():\n",
    "    for i in range(len(measurementsDf['time'])):\n",
    "        timeContainer  = measurementsDf['time'][i].replace('.000','')\n",
    "        timeContainer = datetime.strptime(timeContainer, \"%Y-%m-%dT%H:%M:%SZ\")\n",
    "        timeContainer = int(round(timeContainer.timestamp()))\n",
    "        timeContainer = datetime.fromtimestamp(timeContainer)\n",
    "        monthDf.loc[i] = timeContainer.month\n",
    "        dayDf.loc[i] = timeContainer.day\n",
    "        hourDf.loc[i] = timeContainer.time().hour"
   ]
  },
  {
   "cell_type": "code",
   "execution_count": 8,
   "id": "75aa9a45",
   "metadata": {},
   "outputs": [],
   "source": [
    "%%time\n",
    "\n",
    "dayMonthTimeDataFrameCreator()"
   ]
  },
  {
   "cell_type": "code",
   "execution_count": 14,
   "id": "df56fdf9",
   "metadata": {},
   "outputs": [
    {
     "data": {
      "text/html": [
       "<div>\n",
       "<style scoped>\n",
       "    .dataframe tbody tr th:only-of-type {\n",
       "        vertical-align: middle;\n",
       "    }\n",
       "\n",
       "    .dataframe tbody tr th {\n",
       "        vertical-align: top;\n",
       "    }\n",
       "\n",
       "    .dataframe thead th {\n",
       "        text-align: right;\n",
       "    }\n",
       "</style>\n",
       "<table border=\"1\" class=\"dataframe\">\n",
       "  <thead>\n",
       "    <tr style=\"text-align: right;\">\n",
       "      <th></th>\n",
       "      <th>day</th>\n",
       "    </tr>\n",
       "  </thead>\n",
       "  <tbody>\n",
       "    <tr>\n",
       "      <th>0</th>\n",
       "      <td>27</td>\n",
       "    </tr>\n",
       "    <tr>\n",
       "      <th>1</th>\n",
       "      <td>14</td>\n",
       "    </tr>\n",
       "    <tr>\n",
       "      <th>2</th>\n",
       "      <td>14</td>\n",
       "    </tr>\n",
       "    <tr>\n",
       "      <th>3</th>\n",
       "      <td>14</td>\n",
       "    </tr>\n",
       "    <tr>\n",
       "      <th>4</th>\n",
       "      <td>14</td>\n",
       "    </tr>\n",
       "    <tr>\n",
       "      <th>...</th>\n",
       "      <td>...</td>\n",
       "    </tr>\n",
       "    <tr>\n",
       "      <th>117269</th>\n",
       "      <td>27</td>\n",
       "    </tr>\n",
       "    <tr>\n",
       "      <th>117270</th>\n",
       "      <td>27</td>\n",
       "    </tr>\n",
       "    <tr>\n",
       "      <th>117271</th>\n",
       "      <td>27</td>\n",
       "    </tr>\n",
       "    <tr>\n",
       "      <th>117272</th>\n",
       "      <td>19</td>\n",
       "    </tr>\n",
       "    <tr>\n",
       "      <th>117273</th>\n",
       "      <td>19</td>\n",
       "    </tr>\n",
       "  </tbody>\n",
       "</table>\n",
       "<p>117274 rows × 1 columns</p>\n",
       "</div>"
      ],
      "text/plain": [
       "        day\n",
       "0        27\n",
       "1        14\n",
       "2        14\n",
       "3        14\n",
       "4        14\n",
       "...     ...\n",
       "117269   27\n",
       "117270   27\n",
       "117271   27\n",
       "117272   19\n",
       "117273   19\n",
       "\n",
       "[117274 rows x 1 columns]"
      ]
     },
     "execution_count": 14,
     "metadata": {},
     "output_type": "execute_result"
    }
   ],
   "source": [
    "#dayDf.insert(1,monthDf)\n",
    "#dayDf.append(hourDf)\n",
    "dayDf\n",
    "#monthDf\n",
    "#hourDf\n"
   ]
  },
  {
   "cell_type": "code",
   "execution_count": 18,
   "id": "f5b145a7",
   "metadata": {},
   "outputs": [],
   "source": [
    "newbie = dayDf.join(monthDf)"
   ]
  },
  {
   "cell_type": "markdown",
   "id": "1319f5e1",
   "metadata": {},
   "source": [
    "# 4. Final output"
   ]
  },
  {
   "cell_type": "code",
   "execution_count": 24,
   "id": "1218582e",
   "metadata": {},
   "outputs": [
    {
     "data": {
      "text/html": [
       "<div>\n",
       "<style scoped>\n",
       "    .dataframe tbody tr th:only-of-type {\n",
       "        vertical-align: middle;\n",
       "    }\n",
       "\n",
       "    .dataframe tbody tr th {\n",
       "        vertical-align: top;\n",
       "    }\n",
       "\n",
       "    .dataframe thead th {\n",
       "        text-align: right;\n",
       "    }\n",
       "</style>\n",
       "<table border=\"1\" class=\"dataframe\">\n",
       "  <thead>\n",
       "    <tr style=\"text-align: right;\">\n",
       "      <th></th>\n",
       "      <th>day</th>\n",
       "      <th>month</th>\n",
       "      <th>hour</th>\n",
       "    </tr>\n",
       "  </thead>\n",
       "  <tbody>\n",
       "    <tr>\n",
       "      <th>0</th>\n",
       "      <td>27</td>\n",
       "      <td>6</td>\n",
       "      <td>10</td>\n",
       "    </tr>\n",
       "    <tr>\n",
       "      <th>1</th>\n",
       "      <td>14</td>\n",
       "      <td>7</td>\n",
       "      <td>14</td>\n",
       "    </tr>\n",
       "    <tr>\n",
       "      <th>2</th>\n",
       "      <td>14</td>\n",
       "      <td>7</td>\n",
       "      <td>15</td>\n",
       "    </tr>\n",
       "    <tr>\n",
       "      <th>3</th>\n",
       "      <td>14</td>\n",
       "      <td>7</td>\n",
       "      <td>16</td>\n",
       "    </tr>\n",
       "    <tr>\n",
       "      <th>4</th>\n",
       "      <td>14</td>\n",
       "      <td>7</td>\n",
       "      <td>17</td>\n",
       "    </tr>\n",
       "    <tr>\n",
       "      <th>...</th>\n",
       "      <td>...</td>\n",
       "      <td>...</td>\n",
       "      <td>...</td>\n",
       "    </tr>\n",
       "    <tr>\n",
       "      <th>117269</th>\n",
       "      <td>27</td>\n",
       "      <td>6</td>\n",
       "      <td>10</td>\n",
       "    </tr>\n",
       "    <tr>\n",
       "      <th>117270</th>\n",
       "      <td>27</td>\n",
       "      <td>6</td>\n",
       "      <td>11</td>\n",
       "    </tr>\n",
       "    <tr>\n",
       "      <th>117271</th>\n",
       "      <td>27</td>\n",
       "      <td>6</td>\n",
       "      <td>12</td>\n",
       "    </tr>\n",
       "    <tr>\n",
       "      <th>117272</th>\n",
       "      <td>19</td>\n",
       "      <td>8</td>\n",
       "      <td>13</td>\n",
       "    </tr>\n",
       "    <tr>\n",
       "      <th>117273</th>\n",
       "      <td>19</td>\n",
       "      <td>8</td>\n",
       "      <td>14</td>\n",
       "    </tr>\n",
       "  </tbody>\n",
       "</table>\n",
       "<p>117274 rows × 3 columns</p>\n",
       "</div>"
      ],
      "text/plain": [
       "        day  month  hour\n",
       "0        27      6    10\n",
       "1        14      7    14\n",
       "2        14      7    15\n",
       "3        14      7    16\n",
       "4        14      7    17\n",
       "...     ...    ...   ...\n",
       "117269   27      6    10\n",
       "117270   27      6    11\n",
       "117271   27      6    12\n",
       "117272   19      8    13\n",
       "117273   19      8    14\n",
       "\n",
       "[117274 rows x 3 columns]"
      ]
     },
     "execution_count": 24,
     "metadata": {},
     "output_type": "execute_result"
    }
   ],
   "source": [
    "#newbie = newbie.join(hourDf)\n",
    "newbie\n",
    "#newbie.isnull().sum()"
   ]
  },
  {
   "cell_type": "code",
   "execution_count": 1,
   "id": "a5dc7294",
   "metadata": {},
   "outputs": [
    {
     "ename": "NameError",
     "evalue": "name 'measurementsDf' is not defined",
     "output_type": "error",
     "traceback": [
      "\u001b[1;31m---------------------------------------------------------------------------\u001b[0m",
      "\u001b[1;31mNameError\u001b[0m                                 Traceback (most recent call last)",
      "Input \u001b[1;32mIn [1]\u001b[0m, in \u001b[0;36m<cell line: 1>\u001b[1;34m()\u001b[0m\n\u001b[1;32m----> 1\u001b[0m \u001b[43mmeasurementsDf\u001b[49m\u001b[38;5;241m.\u001b[39mhead()\n",
      "\u001b[1;31mNameError\u001b[0m: name 'measurementsDf' is not defined"
     ]
    }
   ],
   "source": [
    "measurementsDf.head()"
   ]
  },
  {
   "cell_type": "code",
   "execution_count": 20,
   "id": "2c0b6972",
   "metadata": {},
   "outputs": [
    {
     "name": "stdout",
     "output_type": "stream",
     "text": [
      "2020-06-27 10:00:00\n"
     ]
    }
   ],
   "source": [
    "timestamp = 1593248400\n",
    "\n",
    "output = datetime.fromtimestamp(timestamp)\n",
    "print(output)"
   ]
  },
  {
   "cell_type": "code",
   "execution_count": 21,
   "id": "d087abfe",
   "metadata": {},
   "outputs": [
    {
     "name": "stdout",
     "output_type": "stream",
     "text": [
      "<class 'datetime.datetime'>\n"
     ]
    }
   ],
   "source": [
    "print(type(output))"
   ]
  },
  {
   "cell_type": "code",
   "execution_count": 26,
   "id": "86f3c072",
   "metadata": {},
   "outputs": [
    {
     "name": "stdout",
     "output_type": "stream",
     "text": [
      "6 / 27 10:00:00\n"
     ]
    }
   ],
   "source": [
    "print(output.month,'/',output.day, output.time())"
   ]
  },
  {
   "cell_type": "code",
   "execution_count": 32,
   "id": "ff2f82b4",
   "metadata": {},
   "outputs": [
    {
     "name": "stdout",
     "output_type": "stream",
     "text": [
      "<class 'int'>\n",
      "<class 'int'>\n",
      "<class 'int'>\n"
     ]
    }
   ],
   "source": [
    "print(type(output.month))\n",
    "print(type(output.day))\n",
    "print(type(output.time().hour))\n",
    "cont = output.time()"
   ]
  },
  {
   "cell_type": "code",
   "execution_count": 30,
   "id": "7eb5f2ad",
   "metadata": {},
   "outputs": [],
   "source": [
    "cont = cont.hour"
   ]
  },
  {
   "cell_type": "code",
   "execution_count": 31,
   "id": "7e920b6b",
   "metadata": {},
   "outputs": [
    {
     "data": {
      "text/plain": [
       "10"
      ]
     },
     "execution_count": 31,
     "metadata": {},
     "output_type": "execute_result"
    }
   ],
   "source": [
    "cont"
   ]
  },
  {
   "cell_type": "code",
   "execution_count": null,
   "id": "7a44ebac",
   "metadata": {},
   "outputs": [],
   "source": []
  }
 ],
 "metadata": {
  "kernelspec": {
   "display_name": "Python 3 (ipykernel)",
   "language": "python",
   "name": "python3"
  },
  "language_info": {
   "codemirror_mode": {
    "name": "ipython",
    "version": 3
   },
   "file_extension": ".py",
   "mimetype": "text/x-python",
   "name": "python",
   "nbconvert_exporter": "python",
   "pygments_lexer": "ipython3",
   "version": "3.9.12"
  }
 },
 "nbformat": 4,
 "nbformat_minor": 5
}
