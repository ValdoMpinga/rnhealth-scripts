{
 "cells": [
  {
   "cell_type": "code",
   "execution_count": 1,
   "id": "02b30f4a",
   "metadata": {},
   "outputs": [],
   "source": [
    "from tensorflow.keras.models import Sequential\n",
    "from tensorflow.keras.layers import *\n",
    "from tensorflow.keras.callbacks import ModelCheckpoint\n",
    "from tensorflow.keras.losses import MeanSquaredError\n",
    "from tensorflow.keras.metrics import RootMeanSquaredError, MeanAbsoluteError\n",
    "from tensorflow.keras.optimizers import Adam\n",
    "from tensorflow.keras.models import load_model\n",
    "from matplotlib import pyplot as plt\n",
    "from sklearn.model_selection import train_test_split\n",
    "\n",
    "import pandas as pd\n",
    "import numpy as np\n",
    "\n",
    "import absl.logging\n",
    "absl.logging.set_verbosity(absl.logging.ERROR)\n",
    "\n",
    "import sys  \n",
    "sys.path.insert(0, '../../')\n",
    "import RadonDF_Handler\n",
    "\n",
    "import os\n",
    "os.environ['KMP_DUPLICATE_LIB_OK']='True'"
   ]
  },
  {
   "cell_type": "code",
   "execution_count": 2,
   "id": "e5c3898b",
   "metadata": {},
   "outputs": [],
   "source": [
    "def df_to_X_y(df,hoursToPredict, window_size):\n",
    "        hoursToPredict = hoursToPredict - 1\n",
    "        df_as_np = df.to_numpy() # converts the dataframe to a numpy array\n",
    "        #Initialized  arrays to append X and Y values \n",
    "        X = []\n",
    "        y = []\n",
    "        for i in range(len(df_as_np)):\n",
    "            if((i + hoursToPredict + window_size)< len(df_as_np)):\n",
    "                #Takes values from i to i + win size\n",
    "                row =  [r for r in df_as_np[i:i+window_size]]\n",
    "                X.append(row)\n",
    "                label = df_as_np[i + hoursToPredict + window_size ][0]\n",
    "                y.append(label)\n",
    "        return np.array(X), np.array(y)"
   ]
  },
  {
   "cell_type": "code",
   "execution_count": 3,
   "id": "09a0a92d",
   "metadata": {},
   "outputs": [],
   "source": [
    "def DataHandler(hoursToPredict,window_size):\n",
    "    D003_df = pd.read_csv('./../../../../../Data/SensorsData/interpolated_D003_data.csv')\n",
    "    D003_df = pd.DataFrame(D003_df)\n",
    "    D003_df['time'] =  pd.to_datetime(D001_df['time'], format='%Y-%m-%d %H:%M:%S')\n",
    "    D003_df.index = D003_df['time']\n",
    "    D003_df = D003_df.drop(['time'],axis = 1)\n",
    "    \n",
    "    X1, y1 = df_to_X_y(D003_df,hoursToPredict,window_size)\n",
    "\n",
    "    return X1, y1"
   ]
  },
  {
   "cell_type": "code",
   "execution_count": 4,
   "id": "140fbc36",
   "metadata": {},
   "outputs": [],
   "source": [
    "plt.style.use('seaborn')"
   ]
  },
  {
   "cell_type": "code",
   "execution_count": 5,
   "id": "a2289cbe",
   "metadata": {},
   "outputs": [],
   "source": [
    "def Trainer(time):\n",
    "    window_size =  6\n",
    "    while(window_size <= 12):\n",
    "        model = Sequential()\n",
    "        model.add(InputLayer((window_size, 5)))\n",
    "        model.add(LSTM(64))\n",
    "        model.add(Dense(8, 'relu'))\n",
    "        model.add(Dense(1, 'linear'))\n",
    "\n",
    "        model.summary()\n",
    "        X, y = DataHandler(time,window_size)\n",
    "        \n",
    "        X_train, X_test, y_train, y_test = train_test_split(X, y, test_size=0.2)\n",
    "        X_train, X_val, y_train, y_val = train_test_split(X_train, y_train, test_size=0.25) \n",
    "        \n",
    "#         X_train, y_train = X[:92508], y[:92508] # training data\n",
    "#         X_val, y_val = X[92508:95508], y[92508:95508] #validation\n",
    "#         X_test, y_test = X[95508:], y[95508:] #test\n",
    "        X_train.shape, y_train.shape, X_val.shape, y_val.shape, X_test.shape, y_test.shape\n",
    "        \n",
    "        cp1= ModelCheckpoint(str(time)+\"H_ForecastModel_\"+str(window_size)+\"_SizeWindow/\", save_best_only=True)\n",
    "        model.compile(loss=MeanSquaredError(), \n",
    "                   optimizer=Adam(learning_rate=0.0001), \n",
    "                   metrics=[MeanAbsoluteError()])\n",
    "    \n",
    "        model.fit(X_train, y_train, validation_data=(X_val, y_val), epochs=25, callbacks=[cp1])\n",
    "        window_size += 1\n",
    "        print()\n",
    "        print(\"-----------------------------------------------------------------------------------------------------------\")\n",
    "        print()\n",
    "\n",
    "    window_size = 6 #reset"
   ]
  },
  {
   "cell_type": "code",
   "execution_count": 6,
   "id": "d72994a8",
   "metadata": {},
   "outputs": [],
   "source": [
    "def modelsEvaluator(time,startWindow,endWindow,jumpOneWindow):\n",
    "    while(startWindow <= endWindow):\n",
    "        X, y = DataHandler(time,startWindow)\n",
    "        X_train, X_test, y_train, y_test = train_test_split(X, y, test_size=0.2)\n",
    "        X_train, X_val, y_train, y_val = train_test_split(X_train, y_train, test_size=0.25) \n",
    "#         X_train, y_train = X[:92508], y[:92508] # training data\n",
    "#         X_val, y_val = X[92508:95508], y[92508:95508] #validation\n",
    "#         X_test, y_test = X[95508:], y[95508:] #test\n",
    "        print(X_train.shape, y_train.shape, X_val.shape, y_val.shape, X_test.shape, y_test.shape)\n",
    "       \n",
    "        print(\"Loading: \"+ str(time)+\"H_ForecastModel_\"+str(startWindow)+\"_SizeWindow/\")\n",
    "        model = load_model(str(time)+\"H_ForecastModel_\"+str(startWindow)+\"_SizeWindow/\")\n",
    "        model.evaluate(X_test,y_test)\n",
    "        \n",
    "        test_predictions = model.predict(X_test).flatten()\n",
    "        test_results = pd.DataFrame(data={'Test Predictions '+str(time) + ' hour model':test_predictions, 'Actuals':y_test})\n",
    "        \n",
    "        print('\\n')\n",
    "        if(jumpOneWindow):\n",
    "            startWindow += 2\n",
    "        else:\n",
    "            startWindow += 1"
   ]
  },
  {
   "cell_type": "code",
   "execution_count": 7,
   "id": "48a92af5",
   "metadata": {},
   "outputs": [
    {
     "name": "stdout",
     "output_type": "stream",
     "text": [
      "Model: \"sequential\"\n",
      "_________________________________________________________________\n",
      "Layer (type)                 Output Shape              Param #   \n",
      "=================================================================\n",
      "lstm (LSTM)                  (None, 64)                17920     \n",
      "_________________________________________________________________\n",
      "dense (Dense)                (None, 8)                 520       \n",
      "_________________________________________________________________\n",
      "dense_1 (Dense)              (None, 1)                 9         \n",
      "=================================================================\n",
      "Total params: 18,449\n",
      "Trainable params: 18,449\n",
      "Non-trainable params: 0\n",
      "_________________________________________________________________\n"
     ]
    },
    {
     "ename": "NameError",
     "evalue": "name 'D001_df' is not defined",
     "output_type": "error",
     "traceback": [
      "\u001b[1;31m---------------------------------------------------------------------------\u001b[0m",
      "\u001b[1;31mNameError\u001b[0m                                 Traceback (most recent call last)",
      "File \u001b[1;32m<timed eval>:1\u001b[0m, in \u001b[0;36m<module>\u001b[1;34m\u001b[0m\n",
      "Input \u001b[1;32mIn [5]\u001b[0m, in \u001b[0;36mTrainer\u001b[1;34m(time)\u001b[0m\n\u001b[0;32m      8\u001b[0m model\u001b[38;5;241m.\u001b[39madd(Dense(\u001b[38;5;241m1\u001b[39m, \u001b[38;5;124m'\u001b[39m\u001b[38;5;124mlinear\u001b[39m\u001b[38;5;124m'\u001b[39m))\n\u001b[0;32m     10\u001b[0m model\u001b[38;5;241m.\u001b[39msummary()\n\u001b[1;32m---> 11\u001b[0m X, y \u001b[38;5;241m=\u001b[39m \u001b[43mDataHandler\u001b[49m\u001b[43m(\u001b[49m\u001b[43mtime\u001b[49m\u001b[43m,\u001b[49m\u001b[43mwindow_size\u001b[49m\u001b[43m)\u001b[49m\n\u001b[0;32m     13\u001b[0m X_train, X_test, y_train, y_test \u001b[38;5;241m=\u001b[39m train_test_split(X, y, test_size\u001b[38;5;241m=\u001b[39m\u001b[38;5;241m0.2\u001b[39m)\n\u001b[0;32m     14\u001b[0m X_train, X_val, y_train, y_val \u001b[38;5;241m=\u001b[39m train_test_split(X_train, y_train, test_size\u001b[38;5;241m=\u001b[39m\u001b[38;5;241m0.25\u001b[39m) \n",
      "Input \u001b[1;32mIn [3]\u001b[0m, in \u001b[0;36mDataHandler\u001b[1;34m(hoursToPredict, window_size)\u001b[0m\n\u001b[0;32m      2\u001b[0m D003_df \u001b[38;5;241m=\u001b[39m pd\u001b[38;5;241m.\u001b[39mread_csv(\u001b[38;5;124m'\u001b[39m\u001b[38;5;124m./../../../../../Data/SensorsData/interpolated_D003_data.csv\u001b[39m\u001b[38;5;124m'\u001b[39m)\n\u001b[0;32m      3\u001b[0m D003_df \u001b[38;5;241m=\u001b[39m pd\u001b[38;5;241m.\u001b[39mDataFrame(D003_df)\n\u001b[1;32m----> 4\u001b[0m D003_df[\u001b[38;5;124m'\u001b[39m\u001b[38;5;124mtime\u001b[39m\u001b[38;5;124m'\u001b[39m] \u001b[38;5;241m=\u001b[39m  pd\u001b[38;5;241m.\u001b[39mto_datetime(\u001b[43mD001_df\u001b[49m[\u001b[38;5;124m'\u001b[39m\u001b[38;5;124mtime\u001b[39m\u001b[38;5;124m'\u001b[39m], \u001b[38;5;28mformat\u001b[39m\u001b[38;5;241m=\u001b[39m\u001b[38;5;124m'\u001b[39m\u001b[38;5;124m%\u001b[39m\u001b[38;5;124mY-\u001b[39m\u001b[38;5;124m%\u001b[39m\u001b[38;5;124mm-\u001b[39m\u001b[38;5;132;01m%d\u001b[39;00m\u001b[38;5;124m \u001b[39m\u001b[38;5;124m%\u001b[39m\u001b[38;5;124mH:\u001b[39m\u001b[38;5;124m%\u001b[39m\u001b[38;5;124mM:\u001b[39m\u001b[38;5;124m%\u001b[39m\u001b[38;5;124mS\u001b[39m\u001b[38;5;124m'\u001b[39m)\n\u001b[0;32m      5\u001b[0m D003_df\u001b[38;5;241m.\u001b[39mindex \u001b[38;5;241m=\u001b[39m D003_df[\u001b[38;5;124m'\u001b[39m\u001b[38;5;124mtime\u001b[39m\u001b[38;5;124m'\u001b[39m]\n\u001b[0;32m      6\u001b[0m D003_df \u001b[38;5;241m=\u001b[39m D003_df\u001b[38;5;241m.\u001b[39mdrop([\u001b[38;5;124m'\u001b[39m\u001b[38;5;124mtime\u001b[39m\u001b[38;5;124m'\u001b[39m],axis \u001b[38;5;241m=\u001b[39m \u001b[38;5;241m1\u001b[39m)\n",
      "\u001b[1;31mNameError\u001b[0m: name 'D001_df' is not defined"
     ]
    }
   ],
   "source": [
    "%%time\n",
    "\n",
    "Trainer(1)"
   ]
  },
  {
   "cell_type": "code",
   "execution_count": 36,
   "id": "1c439771",
   "metadata": {},
   "outputs": [
    {
     "name": "stdout",
     "output_type": "stream",
     "text": [
      "(5672, 6, 5) (5672,) (1891, 6, 5) (1891,) (1891, 6, 5) (1891,)\n",
      "Loading: 1H_ForecastModel_6_SizeWindow/\n",
      "60/60 [==============================] - 1s 6ms/step - loss: 8.2439 - mean_absolute_error: 1.9809\n",
      "\n",
      "\n",
      "(5671, 7, 5) (5671,) (1891, 7, 5) (1891,) (1891, 7, 5) (1891,)\n",
      "Loading: 1H_ForecastModel_7_SizeWindow/\n",
      "60/60 [==============================] - 1s 6ms/step - loss: 5.6350 - mean_absolute_error: 1.5534\n",
      "\n",
      "\n",
      "(5670, 8, 5) (5670,) (1891, 8, 5) (1891,) (1891, 8, 5) (1891,)\n",
      "Loading: 1H_ForecastModel_8_SizeWindow/\n",
      "60/60 [==============================] - 1s 7ms/step - loss: 17.0292 - mean_absolute_error: 2.7799\n",
      "\n",
      "\n",
      "(5670, 9, 5) (5670,) (1890, 9, 5) (1890,) (1891, 9, 5) (1891,)\n",
      "Loading: 1H_ForecastModel_9_SizeWindow/\n",
      "60/60 [==============================] - 1s 4ms/step - loss: 29.0395 - mean_absolute_error: 3.5302\n",
      "\n",
      "\n",
      "(5670, 10, 5) (5670,) (1890, 10, 5) (1890,) (1890, 10, 5) (1890,)\n",
      "Loading: 1H_ForecastModel_10_SizeWindow/\n",
      "60/60 [==============================] - 1s 4ms/step - loss: 27.8525 - mean_absolute_error: 3.6314\n",
      "\n",
      "\n",
      "(5669, 11, 5) (5669,) (1890, 11, 5) (1890,) (1890, 11, 5) (1890,)\n",
      "Loading: 1H_ForecastModel_11_SizeWindow/\n",
      "60/60 [==============================] - 1s 4ms/step - loss: 5.4058 - mean_absolute_error: 1.6513\n",
      "\n",
      "\n",
      "(5668, 12, 5) (5668,) (1890, 12, 5) (1890,) (1890, 12, 5) (1890,)\n",
      "Loading: 1H_ForecastModel_12_SizeWindow/\n",
      "60/60 [==============================] - 1s 8ms/step - loss: 26.5265 - mean_absolute_error: 3.6175\n",
      "\n",
      "\n",
      "CPU times: total: 1min 40s\n",
      "Wall time: 1min 23s\n"
     ]
    }
   ],
   "source": [
    "%%time\n",
    "\n",
    "modelsEvaluator(1,6,12,False)"
   ]
  },
  {
   "cell_type": "code",
   "execution_count": 42,
   "id": "24b9ef90",
   "metadata": {},
   "outputs": [],
   "source": [
    "model = load_model('1H_ForecastModel_7_SizeWindow/')"
   ]
  },
  {
   "cell_type": "code",
   "execution_count": 43,
   "id": "01aa84d6",
   "metadata": {},
   "outputs": [
    {
     "name": "stdout",
     "output_type": "stream",
     "text": [
      "60/60 [==============================] - 1s 2ms/step - loss: 6.1377 - mean_absolute_error: 1.5586\n"
     ]
    },
    {
     "data": {
      "text/plain": [
       "[6.137653827667236, 1.5585980415344238]"
      ]
     },
     "execution_count": 43,
     "metadata": {},
     "output_type": "execute_result"
    }
   ],
   "source": [
    "X, y = DataHandler(1,7)\n",
    "X_train, X_test, y_train, y_test = train_test_split(X, y, test_size=0.2)\n",
    "X_train, X_val, y_train, y_val = train_test_split(X_train, y_train, test_size=0.25) \n",
    "model.evaluate(X_test,y_test)"
   ]
  },
  {
   "cell_type": "code",
   "execution_count": 44,
   "id": "6adb9c41",
   "metadata": {},
   "outputs": [],
   "source": [
    "train_predictions = model.predict(X_train).flatten()\n",
    "train_results = pd.DataFrame(data={'Train Predictions':train_predictions, 'Actuals':y_train})\n",
    "plt.style.use('seaborn')"
   ]
  },
  {
   "cell_type": "code",
   "execution_count": 47,
   "id": "50baccf2",
   "metadata": {},
   "outputs": [
    {
     "data": {
      "text/plain": [
       "<matplotlib.legend.Legend at 0x1ad14b908b0>"
      ]
     },
     "execution_count": 47,
     "metadata": {},
     "output_type": "execute_result"
    },
    {
     "data": {
      "image/png": "[encoded data removed]",
      "text/plain": [
       "<Figure size 576x396 with 1 Axes>"
      ]
     },
     "metadata": {},
     "output_type": "display_data"
    }
   ],
   "source": [
    "plt.plot(train_results['Train Predictions'][:5000],)\n",
    "plt.plot(train_results['Actuals'][:5000])\n",
    "plt.legend(['Train Predictions','Actuals'])"
   ]
  },
  {
   "cell_type": "code",
   "execution_count": null,
   "id": "d9c25310",
   "metadata": {},
   "outputs": [],
   "source": []
  }
 ],
 "metadata": {
  "kernelspec": {
   "display_name": "Python 3 (ipykernel)",
   "language": "python",
   "name": "python3"
  },
  "language_info": {
   "codemirror_mode": {
    "name": "ipython",
    "version": 3
   },
   "file_extension": ".py",
   "mimetype": "text/x-python",
   "name": "python",
   "nbconvert_exporter": "python",
   "pygments_lexer": "ipython3",
   "version": "3.9.12"
  }
 },
 "nbformat": 4,
 "nbformat_minor": 5
}
